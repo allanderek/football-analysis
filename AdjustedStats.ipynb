{
 "metadata": {
  "name": "",
  "signature": "sha256:9e37fcb77587d3c5a0e9ae5ba6e71787a12ee5f4307b007ce9a8908e1fd28e9e"
 },
 "nbformat": 3,
 "nbformat_minor": 0,
 "worksheets": [
  {
   "cells": [
    {
     "cell_type": "code",
     "collapsed": false,
     "input": [
      "import blog.posts.league_analysis as league_analysis"
     ],
     "language": "python",
     "metadata": {},
     "outputs": [],
     "prompt_number": 1
    },
    {
     "cell_type": "code",
     "collapsed": false,
     "input": [
      "epl = league_analysis.year_201516.epl_league"
     ],
     "language": "python",
     "metadata": {},
     "outputs": [],
     "prompt_number": 2
    },
    {
     "cell_type": "code",
     "collapsed": false,
     "input": [
      "[(t, s.tsr) for t, s in epl.team_stats.items()]"
     ],
     "language": "python",
     "metadata": {},
     "outputs": [
      {
       "metadata": {},
       "output_type": "pyout",
       "prompt_number": 3,
       "text": [
        "[('Swansea', 0.5023255813953489),\n",
        " ('Stoke', 0.4019607843137255),\n",
        " ('Aston Villa', 0.457286432160804),\n",
        " ('Norwich', 0.5088495575221239),\n",
        " ('Everton', 0.4567307692307692),\n",
        " ('Man City', 0.6919831223628692),\n",
        " ('Man United', 0.5460122699386503),\n",
        " ('Watford', 0.5099009900990099),\n",
        " ('Tottenham', 0.5617021276595745),\n",
        " ('Crystal Palace', 0.44176706827309237),\n",
        " ('Liverpool', 0.5666666666666667),\n",
        " ('Southampton', 0.6262135922330098),\n",
        " ('Leicester', 0.5067873303167421),\n",
        " ('Newcastle', 0.3160377358490566),\n",
        " ('Bournemouth', 0.5297619047619048),\n",
        " ('Chelsea', 0.5296610169491526),\n",
        " ('West Brom', 0.39408866995073893),\n",
        " ('West Ham', 0.4396551724137931),\n",
        " ('Sunderland', 0.3472222222222222),\n",
        " ('Arsenal', 0.636)]"
       ]
      }
     ],
     "prompt_number": 3
    },
    {
     "cell_type": "code",
     "collapsed": false,
     "input": [
      "def get_team_row(team, stat_name):\n",
      "    stats = epl.team_stats[team]\n",
      "    opponents = (match.opponent(team) for match in stats.games)\n",
      "    opponents_stats = [getattr(epl.team_stats[opp], stat_name) for opp in opponents]\n",
      "    avg_opp_stat = sum(opponents_stats) / len(opponents_stats)\n",
      "    team_stat = getattr(stats, stat_name)\n",
      "    adj_stat = team_stat + avg_opp_stat - 0.5\n",
      "    return [team, team_stat, avg_opp_stat, adj_stat]\n",
      "\n",
      "def table_adjusted_stat(stat_name):\n",
      "    upper_stat_name = stat_name.upper()\n",
      "    headers = ['Team', stat_name.upper(), \n",
      "               'Average Opponent {0}'.format(upper_stat_name),\n",
      "               'Adjusted {0}'.format(upper_stat_name)]\n",
      "    rows = [get_team_row(team, stat_name) for team in epl.teams]\n",
      "    sorted_by_stat = sorted(rows, key=lambda r:r[1], reverse=True)\n",
      "    sorted_by_adjstat = sorted(rows, key=lambda r:r[3], reverse=True)\n",
      "    league_analysis.display_table(headers, sorted_by_stat)\n",
      "    league_analysis.display_table(headers, sorted_by_adjstat)\n"
     ],
     "language": "python",
     "metadata": {},
     "outputs": [],
     "prompt_number": 4
    },
    {
     "cell_type": "code",
     "collapsed": false,
     "input": [
      "table_adjusted_stat('tsr')"
     ],
     "language": "python",
     "metadata": {},
     "outputs": [
      {
       "html": [
        "<table><tr><th>Team</th> <th>TSR</th> <th>Average Opponent TSR</th> <th>Adjusted TSR</th></tr><tr><td>Man City</td> <td>0.6919831223628692</td> <td>0.4561929438031484</td> <td>0.6481760661660176</td></tr>\n",
        "<tr><td>Arsenal</td> <td>0.636</td> <td>0.4685685055901099</td> <td>0.6045685055901098</td></tr>\n",
        "<tr><td>Southampton</td> <td>0.6262135922330098</td> <td>0.47045082386685627</td> <td>0.596664416099866</td></tr>\n",
        "<tr><td>Liverpool</td> <td>0.5666666666666667</td> <td>0.4970321112927213</td> <td>0.563698777959388</td></tr>\n",
        "<tr><td>Tottenham</td> <td>0.5617021276595745</td> <td>0.48684864350667745</td> <td>0.5485507711662518</td></tr>\n",
        "<tr><td>Man United</td> <td>0.5460122699386503</td> <td>0.5016817947733353</td> <td>0.5476940647119855</td></tr>\n",
        "<tr><td>Bournemouth</td> <td>0.5297619047619048</td> <td>0.46729114446438597</td> <td>0.4970530492262908</td></tr>\n",
        "<tr><td>Chelsea</td> <td>0.5296610169491526</td> <td>0.5081433174118606</td> <td>0.537804334361013</td></tr>\n",
        "<tr><td>Watford</td> <td>0.5099009900990099</td> <td>0.4948635555070987</td> <td>0.5047645456061085</td></tr>\n",
        "<tr><td>Norwich</td> <td>0.5088495575221239</td> <td>0.4825043426501446</td> <td>0.49135390017226843</td></tr>\n",
        "<tr><td>Leicester</td> <td>0.5067873303167421</td> <td>0.4853047751317685</td> <td>0.49209210544851056</td></tr>\n",
        "<tr><td>Swansea</td> <td>0.5023255813953489</td> <td>0.4866850905226806</td> <td>0.4890106719180295</td></tr>\n",
        "<tr><td>Aston Villa</td> <td>0.457286432160804</td> <td>0.4667833645554678</td> <td>0.4240697967162719</td></tr>\n",
        "<tr><td>Everton</td> <td>0.4567307692307692</td> <td>0.5478177209145463</td> <td>0.5045484901453154</td></tr>\n",
        "<tr><td>Crystal Palace</td> <td>0.44176706827309237</td> <td>0.5361839895880341</td> <td>0.47795105786112657</td></tr>\n",
        "<tr><td>West Ham</td> <td>0.4396551724137931</td> <td>0.5129135674626982</td> <td>0.45256873987649127</td></tr>\n",
        "<tr><td>Stoke</td> <td>0.4019607843137255</td> <td>0.5201428361298194</td> <td>0.4221036204435449</td></tr>\n",
        "<tr><td>West Brom</td> <td>0.39408866995073893</td> <td>0.514437971952804</td> <td>0.40852664190354293</td></tr>\n",
        "<tr><td>Sunderland</td> <td>0.3472222222222222</td> <td>0.5065475470211176</td> <td>0.3537697692433398</td></tr>\n",
        "<tr><td>Newcastle</td> <td>0.3160377358490566</td> <td>0.5602189681739793</td> <td>0.3762567040230359</td></tr></table>"
       ],
       "metadata": {},
       "output_type": "display_data",
       "text": [
        "<IPython.core.display.HTML at 0x7fc71bdf6da0>"
       ]
      },
      {
       "html": [
        "<table><tr><th>Team</th> <th>TSR</th> <th>Average Opponent TSR</th> <th>Adjusted TSR</th></tr><tr><td>Man City</td> <td>0.6919831223628692</td> <td>0.4561929438031484</td> <td>0.6481760661660176</td></tr>\n",
        "<tr><td>Arsenal</td> <td>0.636</td> <td>0.4685685055901099</td> <td>0.6045685055901098</td></tr>\n",
        "<tr><td>Southampton</td> <td>0.6262135922330098</td> <td>0.47045082386685627</td> <td>0.596664416099866</td></tr>\n",
        "<tr><td>Liverpool</td> <td>0.5666666666666667</td> <td>0.4970321112927213</td> <td>0.563698777959388</td></tr>\n",
        "<tr><td>Tottenham</td> <td>0.5617021276595745</td> <td>0.48684864350667745</td> <td>0.5485507711662518</td></tr>\n",
        "<tr><td>Man United</td> <td>0.5460122699386503</td> <td>0.5016817947733353</td> <td>0.5476940647119855</td></tr>\n",
        "<tr><td>Chelsea</td> <td>0.5296610169491526</td> <td>0.5081433174118606</td> <td>0.537804334361013</td></tr>\n",
        "<tr><td>Watford</td> <td>0.5099009900990099</td> <td>0.4948635555070987</td> <td>0.5047645456061085</td></tr>\n",
        "<tr><td>Everton</td> <td>0.4567307692307692</td> <td>0.5478177209145463</td> <td>0.5045484901453154</td></tr>\n",
        "<tr><td>Bournemouth</td> <td>0.5297619047619048</td> <td>0.46729114446438597</td> <td>0.4970530492262908</td></tr>\n",
        "<tr><td>Leicester</td> <td>0.5067873303167421</td> <td>0.4853047751317685</td> <td>0.49209210544851056</td></tr>\n",
        "<tr><td>Norwich</td> <td>0.5088495575221239</td> <td>0.4825043426501446</td> <td>0.49135390017226843</td></tr>\n",
        "<tr><td>Swansea</td> <td>0.5023255813953489</td> <td>0.4866850905226806</td> <td>0.4890106719180295</td></tr>\n",
        "<tr><td>Crystal Palace</td> <td>0.44176706827309237</td> <td>0.5361839895880341</td> <td>0.47795105786112657</td></tr>\n",
        "<tr><td>West Ham</td> <td>0.4396551724137931</td> <td>0.5129135674626982</td> <td>0.45256873987649127</td></tr>\n",
        "<tr><td>Aston Villa</td> <td>0.457286432160804</td> <td>0.4667833645554678</td> <td>0.4240697967162719</td></tr>\n",
        "<tr><td>Stoke</td> <td>0.4019607843137255</td> <td>0.5201428361298194</td> <td>0.4221036204435449</td></tr>\n",
        "<tr><td>West Brom</td> <td>0.39408866995073893</td> <td>0.514437971952804</td> <td>0.40852664190354293</td></tr>\n",
        "<tr><td>Newcastle</td> <td>0.3160377358490566</td> <td>0.5602189681739793</td> <td>0.3762567040230359</td></tr>\n",
        "<tr><td>Sunderland</td> <td>0.3472222222222222</td> <td>0.5065475470211176</td> <td>0.3537697692433398</td></tr></table>"
       ],
       "metadata": {},
       "output_type": "display_data",
       "text": [
        "<IPython.core.display.HTML at 0x7fc71bdf6da0>"
       ]
      }
     ],
     "prompt_number": 5
    },
    {
     "cell_type": "code",
     "collapsed": false,
     "input": [
      "table_adjusted_stat('sotr')"
     ],
     "language": "python",
     "metadata": {},
     "outputs": [
      {
       "html": [
        "<table><tr><th>Team</th> <th>SOTR</th> <th>Average Opponent SOTR</th> <th>Adjusted SOTR</th></tr><tr><td>Man City</td> <td>0.7325581395348837</td> <td>0.4511080746824815</td> <td>0.6836662142173653</td></tr>\n",
        "<tr><td>Southampton</td> <td>0.696969696969697</td> <td>0.4426175245252647</td> <td>0.6395872214949616</td></tr>\n",
        "<tr><td>Tottenham</td> <td>0.6419753086419753</td> <td>0.49680817614293654</td> <td>0.6387834847849119</td></tr>\n",
        "<tr><td>Liverpool</td> <td>0.6119402985074627</td> <td>0.4828325503157372</td> <td>0.5947728488231998</td></tr>\n",
        "<tr><td>Arsenal</td> <td>0.5979381443298969</td> <td>0.4682863122550326</td> <td>0.5662244565849295</td></tr>\n",
        "<tr><td>Bournemouth</td> <td>0.5714285714285714</td> <td>0.4470032408347163</td> <td>0.5184318122632878</td></tr>\n",
        "<tr><td>Swansea</td> <td>0.5256410256410257</td> <td>0.47550278906475807</td> <td>0.5011438147057836</td></tr>\n",
        "<tr><td>Man United</td> <td>0.5238095238095238</td> <td>0.5103417421979253</td> <td>0.534151266007449</td></tr>\n",
        "<tr><td>Leicester</td> <td>0.5189873417721519</td> <td>0.4784836102783914</td> <td>0.49747095205054337</td></tr>\n",
        "<tr><td>Crystal Palace</td> <td>0.49382716049382713</td> <td>0.5061253909187724</td> <td>0.49995255141259953</td></tr>\n",
        "<tr><td>Norwich</td> <td>0.47297297297297297</td> <td>0.5079465782084019</td> <td>0.48091955118137486</td></tr>\n",
        "<tr><td>Everton</td> <td>0.463768115942029</td> <td>0.5549385878509108</td> <td>0.5187067037929398</td></tr>\n",
        "<tr><td>West Ham</td> <td>0.45454545454545453</td> <td>0.5176200754601343</td> <td>0.4721655300055889</td></tr>\n",
        "<tr><td>Watford</td> <td>0.42857142857142855</td> <td>0.524572091978362</td> <td>0.45314352054979046</td></tr>\n",
        "<tr><td>Chelsea</td> <td>0.41379310344827586</td> <td>0.5278857885910276</td> <td>0.44167889203930355</td></tr>\n",
        "<tr><td>Stoke</td> <td>0.4050632911392405</td> <td>0.5220545834379723</td> <td>0.42711787457721284</td></tr>\n",
        "<tr><td>West Brom</td> <td>0.3880597014925373</td> <td>0.5009606580571988</td> <td>0.3890203595497361</td></tr>\n",
        "<tr><td>Aston Villa</td> <td>0.373134328358209</td> <td>0.4779908374317657</td> <td>0.35112516578997466</td></tr>\n",
        "<tr><td>Newcastle</td> <td>0.32432432432432434</td> <td>0.5467283146062732</td> <td>0.3710526389305976</td></tr>\n",
        "<tr><td>Sunderland</td> <td>0.3108108108108108</td> <td>0.5103118158962354</td> <td>0.32112262670704617</td></tr></table>"
       ],
       "metadata": {},
       "output_type": "display_data",
       "text": [
        "<IPython.core.display.HTML at 0x7fc719075828>"
       ]
      },
      {
       "html": [
        "<table><tr><th>Team</th> <th>SOTR</th> <th>Average Opponent SOTR</th> <th>Adjusted SOTR</th></tr><tr><td>Man City</td> <td>0.7325581395348837</td> <td>0.4511080746824815</td> <td>0.6836662142173653</td></tr>\n",
        "<tr><td>Southampton</td> <td>0.696969696969697</td> <td>0.4426175245252647</td> <td>0.6395872214949616</td></tr>\n",
        "<tr><td>Tottenham</td> <td>0.6419753086419753</td> <td>0.49680817614293654</td> <td>0.6387834847849119</td></tr>\n",
        "<tr><td>Liverpool</td> <td>0.6119402985074627</td> <td>0.4828325503157372</td> <td>0.5947728488231998</td></tr>\n",
        "<tr><td>Arsenal</td> <td>0.5979381443298969</td> <td>0.4682863122550326</td> <td>0.5662244565849295</td></tr>\n",
        "<tr><td>Man United</td> <td>0.5238095238095238</td> <td>0.5103417421979253</td> <td>0.534151266007449</td></tr>\n",
        "<tr><td>Everton</td> <td>0.463768115942029</td> <td>0.5549385878509108</td> <td>0.5187067037929398</td></tr>\n",
        "<tr><td>Bournemouth</td> <td>0.5714285714285714</td> <td>0.4470032408347163</td> <td>0.5184318122632878</td></tr>\n",
        "<tr><td>Swansea</td> <td>0.5256410256410257</td> <td>0.47550278906475807</td> <td>0.5011438147057836</td></tr>\n",
        "<tr><td>Crystal Palace</td> <td>0.49382716049382713</td> <td>0.5061253909187724</td> <td>0.49995255141259953</td></tr>\n",
        "<tr><td>Leicester</td> <td>0.5189873417721519</td> <td>0.4784836102783914</td> <td>0.49747095205054337</td></tr>\n",
        "<tr><td>Norwich</td> <td>0.47297297297297297</td> <td>0.5079465782084019</td> <td>0.48091955118137486</td></tr>\n",
        "<tr><td>West Ham</td> <td>0.45454545454545453</td> <td>0.5176200754601343</td> <td>0.4721655300055889</td></tr>\n",
        "<tr><td>Watford</td> <td>0.42857142857142855</td> <td>0.524572091978362</td> <td>0.45314352054979046</td></tr>\n",
        "<tr><td>Chelsea</td> <td>0.41379310344827586</td> <td>0.5278857885910276</td> <td>0.44167889203930355</td></tr>\n",
        "<tr><td>Stoke</td> <td>0.4050632911392405</td> <td>0.5220545834379723</td> <td>0.42711787457721284</td></tr>\n",
        "<tr><td>West Brom</td> <td>0.3880597014925373</td> <td>0.5009606580571988</td> <td>0.3890203595497361</td></tr>\n",
        "<tr><td>Newcastle</td> <td>0.32432432432432434</td> <td>0.5467283146062732</td> <td>0.3710526389305976</td></tr>\n",
        "<tr><td>Aston Villa</td> <td>0.373134328358209</td> <td>0.4779908374317657</td> <td>0.35112516578997466</td></tr>\n",
        "<tr><td>Sunderland</td> <td>0.3108108108108108</td> <td>0.5103118158962354</td> <td>0.32112262670704617</td></tr></table>"
       ],
       "metadata": {},
       "output_type": "display_data",
       "text": [
        "<IPython.core.display.HTML at 0x7fc719075828>"
       ]
      }
     ],
     "prompt_number": 6
    },
    {
     "cell_type": "code",
     "collapsed": false,
     "input": [],
     "language": "python",
     "metadata": {},
     "outputs": [],
     "prompt_number": 6
    }
   ],
   "metadata": {}
  }
 ]
}