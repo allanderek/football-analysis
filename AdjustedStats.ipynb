{
 "metadata": {
  "name": "",
  "signature": "sha256:c96133d606e7b9006c3ea25f3ac955165f2949cdbeb450893b8701d65747e01b"
 },
 "nbformat": 3,
 "nbformat_minor": 0,
 "worksheets": [
  {
   "cells": [
    {
     "cell_type": "code",
     "collapsed": false,
     "input": [
      "import league_analysis"
     ],
     "language": "python",
     "metadata": {},
     "outputs": [],
     "prompt_number": 1
    },
    {
     "cell_type": "code",
     "collapsed": false,
     "input": [
      "epl = league_analysis.year_201516.epl_league"
     ],
     "language": "python",
     "metadata": {},
     "outputs": [],
     "prompt_number": 2
    },
    {
     "cell_type": "code",
     "collapsed": false,
     "input": [
      "[(t, s.tsr) for t, s in epl.team_stats.items()]"
     ],
     "language": "python",
     "metadata": {},
     "outputs": [
      {
       "metadata": {},
       "output_type": "pyout",
       "prompt_number": 3,
       "text": [
        "[('Aston Villa', 0.4482758620689655),\n",
        " ('Stoke', 0.39106145251396646),\n",
        " ('Norwich', 0.5077720207253886),\n",
        " ('Sunderland', 0.3423913043478261),\n",
        " ('West Brom', 0.41714285714285715),\n",
        " ('Swansea', 0.5243243243243243),\n",
        " ('Watford', 0.5139664804469274),\n",
        " ('Chelsea', 0.539906103286385),\n",
        " ('Tottenham', 0.551219512195122),\n",
        " ('Arsenal', 0.6419213973799127),\n",
        " ('Liverpool', 0.5792349726775956),\n",
        " ('West Ham', 0.41),\n",
        " ('Crystal Palace', 0.40271493212669685),\n",
        " ('Southampton', 0.6338797814207651),\n",
        " ('Leicester', 0.5106382978723404),\n",
        " ('Man City', 0.6778846153846154),\n",
        " ('Newcastle', 0.3333333333333333),\n",
        " ('Man United', 0.5633802816901409),\n",
        " ('Bournemouth', 0.5310344827586206),\n",
        " ('Everton', 0.44751381215469616)]"
       ]
      }
     ],
     "prompt_number": 3
    },
    {
     "cell_type": "code",
     "collapsed": false,
     "input": [
      "def get_team_row(team, stat_name):\n",
      "    stats = epl.team_stats[team]\n",
      "    opponents = (match.opponent(team) for match in stats.games)\n",
      "    opponents_stats = [getattr(epl.team_stats[opp], stat_name) for opp in opponents]\n",
      "    avg_opp_stat = sum(opponents_stats) / len(opponents_stats)\n",
      "    team_stat = getattr(stats, stat_name)\n",
      "    adj_stat = team_stat + avg_opp_stat - 0.5\n",
      "    return [team, team_stat, avg_opp_stat, adj_stat]\n",
      "\n",
      "def table_adjusted_stat(stat_name):\n",
      "    upper_stat_name = stat_name.upper()\n",
      "    headers = ['Team', stat_name.upper(), \n",
      "               'Average Opponent {0}'.format(upper_stat_name),\n",
      "               'Adjusted {0}'.format(upper_stat_name)]\n",
      "    rows = [get_team_row(team, stat_name) for team in epl.teams]\n",
      "    sorted_by_stat = sorted(rows, key=lambda r:r[1], reverse=True)\n",
      "    sorted_by_adjstat = sorted(rows, key=lambda r:r[3], reverse=True)\n",
      "    league_analysis.display_table(headers, sorted_by_stat)\n",
      "    league_analysis.display_table(headers, sorted_by_adjstat)\n"
     ],
     "language": "python",
     "metadata": {},
     "outputs": [],
     "prompt_number": 12
    },
    {
     "cell_type": "code",
     "collapsed": false,
     "input": [
      "table_adjusted_stat('tsr')"
     ],
     "language": "python",
     "metadata": {},
     "outputs": [
      {
       "html": [
        "<table><tr><th>Team</th> <th>TSR</th> <th>Average Opponent TSR</th> <th>Adjusted TSR</th></tr><tr><td>Man City</td> <td>0.6778846153846154</td> <td>0.4689233853360978</td> <td>0.6468080007207133</td></tr>\n",
        "<tr><td>Arsenal</td> <td>0.6419213973799127</td> <td>0.4524127274014739</td> <td>0.5943341247813867</td></tr>\n",
        "<tr><td>Southampton</td> <td>0.6338797814207651</td> <td>0.47249044425966685</td> <td>0.606370225680432</td></tr>\n",
        "<tr><td>Liverpool</td> <td>0.5792349726775956</td> <td>0.49906364244814216</td> <td>0.5782986151257377</td></tr>\n",
        "<tr><td>Man United</td> <td>0.5633802816901409</td> <td>0.4875227271954188</td> <td>0.5509030088855598</td></tr>\n",
        "<tr><td>Tottenham</td> <td>0.551219512195122</td> <td>0.4765120994414689</td> <td>0.5277316116365909</td></tr>\n",
        "<tr><td>Chelsea</td> <td>0.539906103286385</td> <td>0.49211932454949087</td> <td>0.5320254278358758</td></tr>\n",
        "<tr><td>Bournemouth</td> <td>0.5310344827586206</td> <td>0.45562484431515465</td> <td>0.48665932707377535</td></tr>\n",
        "<tr><td>Swansea</td> <td>0.5243243243243243</td> <td>0.4820530138114391</td> <td>0.5063773381357635</td></tr>\n",
        "<tr><td>Watford</td> <td>0.5139664804469274</td> <td>0.49097052226961263</td> <td>0.5049370027165401</td></tr>\n",
        "<tr><td>Leicester</td> <td>0.5106382978723404</td> <td>0.4737005730377733</td> <td>0.48433887091011374</td></tr>\n",
        "<tr><td>Norwich</td> <td>0.5077720207253886</td> <td>0.4700452751207816</td> <td>0.47781729584617016</td></tr>\n",
        "<tr><td>Aston Villa</td> <td>0.4482758620689655</td> <td>0.4780767326594396</td> <td>0.42635259472840514</td></tr>\n",
        "<tr><td>Everton</td> <td>0.44751381215469616</td> <td>0.551189096314428</td> <td>0.49870290846912413</td></tr>\n",
        "<tr><td>West Brom</td> <td>0.41714285714285715</td> <td>0.5217840153251887</td> <td>0.43892687246804585</td></tr>\n",
        "<tr><td>West Ham</td> <td>0.41</td> <td>0.5402598743045439</td> <td>0.45025987430454384</td></tr>\n",
        "<tr><td>Crystal Palace</td> <td>0.40271493212669685</td> <td>0.5544208559267595</td> <td>0.45713578805345634</td></tr>\n",
        "<tr><td>Stoke</td> <td>0.39106145251396646</td> <td>0.5341376486788338</td> <td>0.42519910119280024</td></tr>\n",
        "<tr><td>Sunderland</td> <td>0.3423913043478261</td> <td>0.5195206830907003</td> <td>0.3619119874385264</td></tr>\n",
        "<tr><td>Newcastle</td> <td>0.3333333333333333</td> <td>0.546768338364065</td> <td>0.3801016716973984</td></tr></table>"
       ],
       "metadata": {},
       "output_type": "display_data",
       "text": [
        "<IPython.core.display.HTML at 0x7fe0f179cb38>"
       ]
      },
      {
       "html": [
        "<table><tr><th>Team</th> <th>TSR</th> <th>Average Opponent TSR</th> <th>Adjusted TSR</th></tr><tr><td>Man City</td> <td>0.6778846153846154</td> <td>0.4689233853360978</td> <td>0.6468080007207133</td></tr>\n",
        "<tr><td>Southampton</td> <td>0.6338797814207651</td> <td>0.47249044425966685</td> <td>0.606370225680432</td></tr>\n",
        "<tr><td>Arsenal</td> <td>0.6419213973799127</td> <td>0.4524127274014739</td> <td>0.5943341247813867</td></tr>\n",
        "<tr><td>Liverpool</td> <td>0.5792349726775956</td> <td>0.49906364244814216</td> <td>0.5782986151257377</td></tr>\n",
        "<tr><td>Man United</td> <td>0.5633802816901409</td> <td>0.4875227271954188</td> <td>0.5509030088855598</td></tr>\n",
        "<tr><td>Chelsea</td> <td>0.539906103286385</td> <td>0.49211932454949087</td> <td>0.5320254278358758</td></tr>\n",
        "<tr><td>Tottenham</td> <td>0.551219512195122</td> <td>0.4765120994414689</td> <td>0.5277316116365909</td></tr>\n",
        "<tr><td>Swansea</td> <td>0.5243243243243243</td> <td>0.4820530138114391</td> <td>0.5063773381357635</td></tr>\n",
        "<tr><td>Watford</td> <td>0.5139664804469274</td> <td>0.49097052226961263</td> <td>0.5049370027165401</td></tr>\n",
        "<tr><td>Everton</td> <td>0.44751381215469616</td> <td>0.551189096314428</td> <td>0.49870290846912413</td></tr>\n",
        "<tr><td>Bournemouth</td> <td>0.5310344827586206</td> <td>0.45562484431515465</td> <td>0.48665932707377535</td></tr>\n",
        "<tr><td>Leicester</td> <td>0.5106382978723404</td> <td>0.4737005730377733</td> <td>0.48433887091011374</td></tr>\n",
        "<tr><td>Norwich</td> <td>0.5077720207253886</td> <td>0.4700452751207816</td> <td>0.47781729584617016</td></tr>\n",
        "<tr><td>Crystal Palace</td> <td>0.40271493212669685</td> <td>0.5544208559267595</td> <td>0.45713578805345634</td></tr>\n",
        "<tr><td>West Ham</td> <td>0.41</td> <td>0.5402598743045439</td> <td>0.45025987430454384</td></tr>\n",
        "<tr><td>West Brom</td> <td>0.41714285714285715</td> <td>0.5217840153251887</td> <td>0.43892687246804585</td></tr>\n",
        "<tr><td>Aston Villa</td> <td>0.4482758620689655</td> <td>0.4780767326594396</td> <td>0.42635259472840514</td></tr>\n",
        "<tr><td>Stoke</td> <td>0.39106145251396646</td> <td>0.5341376486788338</td> <td>0.42519910119280024</td></tr>\n",
        "<tr><td>Newcastle</td> <td>0.3333333333333333</td> <td>0.546768338364065</td> <td>0.3801016716973984</td></tr>\n",
        "<tr><td>Sunderland</td> <td>0.3423913043478261</td> <td>0.5195206830907003</td> <td>0.3619119874385264</td></tr></table>"
       ],
       "metadata": {},
       "output_type": "display_data",
       "text": [
        "<IPython.core.display.HTML at 0x7fe0f179cb38>"
       ]
      }
     ],
     "prompt_number": 13
    },
    {
     "cell_type": "code",
     "collapsed": false,
     "input": [
      "table_adjusted_stat('sotr')"
     ],
     "language": "python",
     "metadata": {},
     "outputs": [
      {
       "html": [
        "<table><tr><th>Team</th> <th>SOTR</th> <th>Average Opponent SOTR</th> <th>Adjusted SOTR</th></tr><tr><td>Man City</td> <td>0.7323943661971831</td> <td>0.4623199810571772</td> <td>0.6947143472543602</td></tr>\n",
        "<tr><td>Southampton</td> <td>0.7068965517241379</td> <td>0.47117494420395</td> <td>0.678071495928088</td></tr>\n",
        "<tr><td>Liverpool</td> <td>0.6271186440677966</td> <td>0.4795007415370619</td> <td>0.6066193856048585</td></tr>\n",
        "<tr><td>Arsenal</td> <td>0.6091954022988506</td> <td>0.4479997182128575</td> <td>0.557195120511708</td></tr>\n",
        "<tr><td>Tottenham</td> <td>0.6029411764705882</td> <td>0.47901559706809704</td> <td>0.5819567735386852</td></tr>\n",
        "<tr><td>Swansea</td> <td>0.6</td> <td>0.4595635775456649</td> <td>0.5595635775456649</td></tr>\n",
        "<tr><td>Bournemouth</td> <td>0.5416666666666666</td> <td>0.4445931695373669</td> <td>0.48625983620403357</td></tr>\n",
        "<tr><td>Man United</td> <td>0.5283018867924528</td> <td>0.5095664377336603</td> <td>0.5378683245261131</td></tr>\n",
        "<tr><td>Leicester</td> <td>0.5</td> <td>0.4637570678138629</td> <td>0.46375706781386294</td></tr>\n",
        "<tr><td>Norwich</td> <td>0.4925373134328358</td> <td>0.4907927119626165</td> <td>0.4833300253954522</td></tr>\n",
        "<tr><td>Everton</td> <td>0.45901639344262296</td> <td>0.5627627968987903</td> <td>0.5217791903414133</td></tr>\n",
        "<tr><td>Watford</td> <td>0.4583333333333333</td> <td>0.5298638884489231</td> <td>0.48819722178225633</td></tr>\n",
        "<tr><td>Crystal Palace</td> <td>0.4507042253521127</td> <td>0.5280652062933523</td> <td>0.4787694316454649</td></tr>\n",
        "<tr><td>West Ham</td> <td>0.4264705882352941</td> <td>0.5488422062158272</td> <td>0.4753127944511213</td></tr>\n",
        "<tr><td>West Brom</td> <td>0.42105263157894735</td> <td>0.5046707852882789</td> <td>0.42572341686722626</td></tr>\n",
        "<tr><td>Chelsea</td> <td>0.4177215189873418</td> <td>0.5159065813881678</td> <td>0.4336281003755096</td></tr>\n",
        "<tr><td>Aston Villa</td> <td>0.38333333333333336</td> <td>0.4823623374500406</td> <td>0.36569567078337395</td></tr>\n",
        "<tr><td>Stoke</td> <td>0.375</td> <td>0.5420731192165265</td> <td>0.41707311921652646</td></tr>\n",
        "<tr><td>Newcastle</td> <td>0.3389830508474576</td> <td>0.5352741830530586</td> <td>0.37425723390051624</td></tr>\n",
        "<tr><td>Sunderland</td> <td>0.3076923076923077</td> <td>0.5212543395279824</td> <td>0.3289466472202901</td></tr></table>"
       ],
       "metadata": {},
       "output_type": "display_data",
       "text": [
        "<IPython.core.display.HTML at 0x7fe0f179c780>"
       ]
      },
      {
       "html": [
        "<table><tr><th>Team</th> <th>SOTR</th> <th>Average Opponent SOTR</th> <th>Adjusted SOTR</th></tr><tr><td>Man City</td> <td>0.7323943661971831</td> <td>0.4623199810571772</td> <td>0.6947143472543602</td></tr>\n",
        "<tr><td>Southampton</td> <td>0.7068965517241379</td> <td>0.47117494420395</td> <td>0.678071495928088</td></tr>\n",
        "<tr><td>Liverpool</td> <td>0.6271186440677966</td> <td>0.4795007415370619</td> <td>0.6066193856048585</td></tr>\n",
        "<tr><td>Tottenham</td> <td>0.6029411764705882</td> <td>0.47901559706809704</td> <td>0.5819567735386852</td></tr>\n",
        "<tr><td>Swansea</td> <td>0.6</td> <td>0.4595635775456649</td> <td>0.5595635775456649</td></tr>\n",
        "<tr><td>Arsenal</td> <td>0.6091954022988506</td> <td>0.4479997182128575</td> <td>0.557195120511708</td></tr>\n",
        "<tr><td>Man United</td> <td>0.5283018867924528</td> <td>0.5095664377336603</td> <td>0.5378683245261131</td></tr>\n",
        "<tr><td>Everton</td> <td>0.45901639344262296</td> <td>0.5627627968987903</td> <td>0.5217791903414133</td></tr>\n",
        "<tr><td>Watford</td> <td>0.4583333333333333</td> <td>0.5298638884489231</td> <td>0.48819722178225633</td></tr>\n",
        "<tr><td>Bournemouth</td> <td>0.5416666666666666</td> <td>0.4445931695373669</td> <td>0.48625983620403357</td></tr>\n",
        "<tr><td>Norwich</td> <td>0.4925373134328358</td> <td>0.4907927119626165</td> <td>0.4833300253954522</td></tr>\n",
        "<tr><td>Crystal Palace</td> <td>0.4507042253521127</td> <td>0.5280652062933523</td> <td>0.4787694316454649</td></tr>\n",
        "<tr><td>West Ham</td> <td>0.4264705882352941</td> <td>0.5488422062158272</td> <td>0.4753127944511213</td></tr>\n",
        "<tr><td>Leicester</td> <td>0.5</td> <td>0.4637570678138629</td> <td>0.46375706781386294</td></tr>\n",
        "<tr><td>Chelsea</td> <td>0.4177215189873418</td> <td>0.5159065813881678</td> <td>0.4336281003755096</td></tr>\n",
        "<tr><td>West Brom</td> <td>0.42105263157894735</td> <td>0.5046707852882789</td> <td>0.42572341686722626</td></tr>\n",
        "<tr><td>Stoke</td> <td>0.375</td> <td>0.5420731192165265</td> <td>0.41707311921652646</td></tr>\n",
        "<tr><td>Newcastle</td> <td>0.3389830508474576</td> <td>0.5352741830530586</td> <td>0.37425723390051624</td></tr>\n",
        "<tr><td>Aston Villa</td> <td>0.38333333333333336</td> <td>0.4823623374500406</td> <td>0.36569567078337395</td></tr>\n",
        "<tr><td>Sunderland</td> <td>0.3076923076923077</td> <td>0.5212543395279824</td> <td>0.3289466472202901</td></tr></table>"
       ],
       "metadata": {},
       "output_type": "display_data",
       "text": [
        "<IPython.core.display.HTML at 0x7fe0f179c780>"
       ]
      }
     ],
     "prompt_number": 14
    },
    {
     "cell_type": "code",
     "collapsed": false,
     "input": [],
     "language": "python",
     "metadata": {},
     "outputs": []
    }
   ],
   "metadata": {}
  }
 ]
}