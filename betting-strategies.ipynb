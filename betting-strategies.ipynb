{
 "metadata": {
  "name": "",
  "signature": "sha256:ef2c7383212773e808de67f91c65aaabfda97458bace960b16c64fbc6eb207fa"
 },
 "nbformat": 3,
 "nbformat_minor": 0,
 "worksheets": [
  {
   "cells": [
    {
     "cell_type": "code",
     "collapsed": false,
     "input": [
      "%matplotlib inline\n",
      "from IPython.display import display, HTML\n",
      "import blog.posts.league_analysis as league_analysis\n",
      "import collections"
     ],
     "language": "python",
     "metadata": {},
     "outputs": [],
     "prompt_number": 1
    },
    {
     "cell_type": "code",
     "collapsed": false,
     "input": [
      "def relevant_odds(match):\n",
      "    return {'H': match.BbAvH, 'A': match.BbAvA, 'D': match.BbAvD}[match.FTR]\n",
      "def evaluate_match(m, bet, commission=0.00):\n",
      "        if bet == m.FTR:\n",
      "            return (relevant_odds(m) - 1.0) * (1.0 - commission)\n",
      "        else:\n",
      "            return -1.0"
     ],
     "language": "python",
     "metadata": {},
     "outputs": [],
     "prompt_number": 2
    },
    {
     "cell_type": "code",
     "collapsed": false,
     "input": [
      "def average(values):\n",
      "    return sum(values) / float(len(values))"
     ],
     "language": "python",
     "metadata": {},
     "outputs": [],
     "prompt_number": 3
    },
    {
     "cell_type": "code",
     "collapsed": false,
     "input": [
      "def always_home_win(m):\n",
      "    return 'H'\n",
      "def always_away_win(m):\n",
      "    return 'A'\n",
      "def always_draw(m):\n",
      "    return 'D'\n",
      "def always_favourite(m):\n",
      "    return 'H' if m.BbAvH < m.BbAvA else 'A'\n",
      "def always_underdog(m):\n",
      "    return 'H' if m.BbAvH > m.BbAvA else 'A'\n",
      "def evaluate_betting_strategy(matches, get_bet, commission=0.0):\n",
      "    return sum([evaluate_match(m, get_bet(m), commission=commission) for m in matches])"
     ],
     "language": "python",
     "metadata": {},
     "outputs": [],
     "prompt_number": 4
    },
    {
     "cell_type": "code",
     "collapsed": false,
     "input": [
      "evaluate_betting_strategy(league_analysis.epl.matches, always_home_win)"
     ],
     "language": "python",
     "metadata": {},
     "outputs": [
      {
       "metadata": {},
       "output_type": "pyout",
       "prompt_number": 5,
       "text": [
        "-30.449999999999996"
       ]
      }
     ],
     "prompt_number": 5
    },
    {
     "cell_type": "code",
     "collapsed": false,
     "input": [
      "def evaluate_betting_strategies(matches, title):\n",
      "    home_win_returns = evaluate_betting_strategy(matches, always_home_win)\n",
      "    away_win_returns = evaluate_betting_strategy(matches, always_away_win)\n",
      "    draw_returns = evaluate_betting_strategy(matches, always_draw)\n",
      "    favourite_returns = evaluate_betting_strategy(matches, always_favourite)\n",
      "    underdog_returns = evaluate_betting_strategy(matches, always_underdog)\n",
      "    league_analysis.display_pairs([('League', title),\n",
      "                                   ('Home Win Returns', home_win_returns),\n",
      "                                   ('Away Win Returns', away_win_returns),\n",
      "                                   ('Draw Returns', draw_returns),\n",
      "                                   ('Favourite Returns', favourite_returns),\n",
      "                                   ('Underdog Returns', underdog_returns)])"
     ],
     "language": "python",
     "metadata": {},
     "outputs": [],
     "prompt_number": 6
    },
    {
     "cell_type": "code",
     "collapsed": false,
     "input": [
      "for league_name in ['epl', 'ech', 'elo', 'elt', 'spl']:\n",
      "    leagues = [league_name + '_league']\n",
      "    matches = list(league_analysis.get_all_matches(leagues=leagues))\n",
      "    title = \"{0} League - All years\".format(league_name.upper())\n",
      "    evaluate_betting_strategies(matches, title)\n",
      "\n",
      "for year in league_analysis.all_years:\n",
      "    for league in year.all_leagues:\n",
      "\n",
      "        title = '{0} - {1}'.format(league.title, year.year_name)\n",
      "        evaluate_betting_strategies(league.matches, title)"
     ],
     "language": "python",
     "metadata": {},
     "outputs": [
      {
       "html": [
        "<div style=\"display:inline-block;\"><table>\n",
        "<tr><td>League</td><td>EPL League - All years</td></tr>\n",
        "<tr><td>Home Win Returns</td><td>-109.05000000000003</td></tr>\n",
        "<tr><td>Away Win Returns</td><td>-82.7800000000001</td></tr>\n",
        "<tr><td>Draw Returns</td><td>-140.26999999999992</td></tr>\n",
        "<tr><td>Favourite Returns</td><td>-90.08000000000011</td></tr>\n",
        "<tr><td>Underdog Returns</td><td>-101.74999999999997</td></tr>\n",
        "</table></div>"
       ],
       "metadata": {},
       "output_type": "display_data",
       "text": [
        "<IPython.core.display.HTML at 0x7f2f9f285048>"
       ]
      },
      {
       "html": [
        "<div style=\"display:inline-block;\"><table>\n",
        "<tr><td>League</td><td>ECH League - All years</td></tr>\n",
        "<tr><td>Home Win Returns</td><td>-245.48000000000022</td></tr>\n",
        "<tr><td>Away Win Returns</td><td>-205.40999999999994</td></tr>\n",
        "<tr><td>Draw Returns</td><td>-159.5499999999996</td></tr>\n",
        "<tr><td>Favourite Returns</td><td>-222.39000000000001</td></tr>\n",
        "<tr><td>Underdog Returns</td><td>-217.96999999999977</td></tr>\n",
        "</table></div>"
       ],
       "metadata": {},
       "output_type": "display_data",
       "text": [
        "<IPython.core.display.HTML at 0x7f2fa2d25d30>"
       ]
      },
      {
       "html": [
        "<div style=\"display:inline-block;\"><table>\n",
        "<tr><td>League</td><td>ELO League - All years</td></tr>\n",
        "<tr><td>Home Win Returns</td><td>-223.01000000000036</td></tr>\n",
        "<tr><td>Away Win Returns</td><td>-146.9999999999999</td></tr>\n",
        "<tr><td>Draw Returns</td><td>-310.57000000000005</td></tr>\n",
        "<tr><td>Favourite Returns</td><td>-182.8100000000002</td></tr>\n",
        "<tr><td>Underdog Returns</td><td>-179.34000000000006</td></tr>\n",
        "</table></div>"
       ],
       "metadata": {},
       "output_type": "display_data",
       "text": [
        "<IPython.core.display.HTML at 0x7f2f9f285048>"
       ]
      },
      {
       "html": [
        "<div style=\"display:inline-block;\"><table>\n",
        "<tr><td>League</td><td>ELT League - All years</td></tr>\n",
        "<tr><td>Home Win Returns</td><td>-291.79000000000013</td></tr>\n",
        "<tr><td>Away Win Returns</td><td>-115.0599999999999</td></tr>\n",
        "<tr><td>Draw Returns</td><td>-225.53999999999996</td></tr>\n",
        "<tr><td>Favourite Returns</td><td>-201.42999999999978</td></tr>\n",
        "<tr><td>Underdog Returns</td><td>-205.36999999999998</td></tr>\n",
        "</table></div>"
       ],
       "metadata": {},
       "output_type": "display_data",
       "text": [
        "<IPython.core.display.HTML at 0x7f2fa2d25d30>"
       ]
      },
      {
       "html": [
        "<div style=\"display:inline-block;\"><table>\n",
        "<tr><td>League</td><td>SPL League - All years</td></tr>\n",
        "<tr><td>Home Win Returns</td><td>-115.1500000000001</td></tr>\n",
        "<tr><td>Away Win Returns</td><td>-47.580000000000005</td></tr>\n",
        "<tr><td>Draw Returns</td><td>-187.14000000000013</td></tr>\n",
        "<tr><td>Favourite Returns</td><td>-52.34000000000004</td></tr>\n",
        "<tr><td>Underdog Returns</td><td>-107.77999999999996</td></tr>\n",
        "</table></div>"
       ],
       "metadata": {},
       "output_type": "display_data",
       "text": [
        "<IPython.core.display.HTML at 0x7f2f9f285048>"
       ]
      },
      {
       "html": [
        "<div style=\"display:inline-block;\"><table>\n",
        "<tr><td>League</td><td>premier-league - 1011</td></tr>\n",
        "<tr><td>Home Win Returns</td><td>0.5699999999999976</td></tr>\n",
        "<tr><td>Away Win Returns</td><td>-55.080000000000005</td></tr>\n",
        "<tr><td>Draw Returns</td><td>20.189999999999998</td></tr>\n",
        "<tr><td>Favourite Returns</td><td>-32.989999999999995</td></tr>\n",
        "<tr><td>Underdog Returns</td><td>-21.519999999999996</td></tr>\n",
        "</table></div>"
       ],
       "metadata": {},
       "output_type": "display_data",
       "text": [
        "<IPython.core.display.HTML at 0x7f2fa2d25d30>"
       ]
      },
      {
       "html": [
        "<div style=\"display:inline-block;\"><table>\n",
        "<tr><td>League</td><td>championship - 1011</td></tr>\n",
        "<tr><td>Home Win Returns</td><td>-31.31</td></tr>\n",
        "<tr><td>Away Win Returns</td><td>-45.360000000000014</td></tr>\n",
        "<tr><td>Draw Returns</td><td>-50.839999999999996</td></tr>\n",
        "<tr><td>Favourite Returns</td><td>-28.48</td></tr>\n",
        "<tr><td>Underdog Returns</td><td>-42.95000000000002</td></tr>\n",
        "</table></div>"
       ],
       "metadata": {},
       "output_type": "display_data",
       "text": [
        "<IPython.core.display.HTML at 0x7f2fa2d25d30>"
       ]
      },
      {
       "html": [
        "<div style=\"display:inline-block;\"><table>\n",
        "<tr><td>League</td><td>league-one - 1011</td></tr>\n",
        "<tr><td>Home Win Returns</td><td>-22.420000000000005</td></tr>\n",
        "<tr><td>Away Win Returns</td><td>-23.410000000000014</td></tr>\n",
        "<tr><td>Draw Returns</td><td>-88.91</td></tr>\n",
        "<tr><td>Favourite Returns</td><td>-45.239999999999974</td></tr>\n",
        "<tr><td>Underdog Returns</td><td>-3.1999999999999984</td></tr>\n",
        "</table></div>"
       ],
       "metadata": {},
       "output_type": "display_data",
       "text": [
        "<IPython.core.display.HTML at 0x7f2fa2d25d30>"
       ]
      },
      {
       "html": [
        "<div style=\"display:inline-block;\"><table>\n",
        "<tr><td>League</td><td>league-two - 1011</td></tr>\n",
        "<tr><td>Home Win Returns</td><td>-75.48000000000002</td></tr>\n",
        "<tr><td>Away Win Returns</td><td>-38.40999999999998</td></tr>\n",
        "<tr><td>Draw Returns</td><td>9.829999999999997</td></tr>\n",
        "<tr><td>Favourite Returns</td><td>-60.83000000000003</td></tr>\n",
        "<tr><td>Underdog Returns</td><td>-55.64999999999999</td></tr>\n",
        "</table></div>"
       ],
       "metadata": {},
       "output_type": "display_data",
       "text": [
        "<IPython.core.display.HTML at 0x7f2fa2d25d30>"
       ]
      },
      {
       "html": [
        "<div style=\"display:inline-block;\"><table>\n",
        "<tr><td>League</td><td>scottish-premiership - 1011</td></tr>\n",
        "<tr><td>Home Win Returns</td><td>-36.490000000000016</td></tr>\n",
        "<tr><td>Away Win Returns</td><td>9.619999999999992</td></tr>\n",
        "<tr><td>Draw Returns</td><td>-55.49</td></tr>\n",
        "<tr><td>Favourite Returns</td><td>2.3000000000000034</td></tr>\n",
        "<tr><td>Underdog Returns</td><td>-29.17</td></tr>\n",
        "</table></div>"
       ],
       "metadata": {},
       "output_type": "display_data",
       "text": [
        "<IPython.core.display.HTML at 0x7f2fa2d25d30>"
       ]
      },
      {
       "html": [
        "<div style=\"display:inline-block;\"><table>\n",
        "<tr><td>League</td><td>premier-league - 1112</td></tr>\n",
        "<tr><td>Home Win Returns</td><td>-16.31000000000001</td></tr>\n",
        "<tr><td>Away Win Returns</td><td>7.429999999999991</td></tr>\n",
        "<tr><td>Draw Returns</td><td>-35.77999999999999</td></tr>\n",
        "<tr><td>Favourite Returns</td><td>-33.000000000000014</td></tr>\n",
        "<tr><td>Underdog Returns</td><td>24.120000000000015</td></tr>\n",
        "</table></div>"
       ],
       "metadata": {},
       "output_type": "display_data",
       "text": [
        "<IPython.core.display.HTML at 0x7f2fa2d25d30>"
       ]
      },
      {
       "html": [
        "<div style=\"display:inline-block;\"><table>\n",
        "<tr><td>League</td><td>championship - 1112</td></tr>\n",
        "<tr><td>Home Win Returns</td><td>-50.13</td></tr>\n",
        "<tr><td>Away Win Returns</td><td>-20.760000000000005</td></tr>\n",
        "<tr><td>Draw Returns</td><td>-43.65000000000001</td></tr>\n",
        "<tr><td>Favourite Returns</td><td>-35.83999999999999</td></tr>\n",
        "<tr><td>Underdog Returns</td><td>-32.42999999999999</td></tr>\n",
        "</table></div>"
       ],
       "metadata": {},
       "output_type": "display_data",
       "text": [
        "<IPython.core.display.HTML at 0x7f2fa2d25d30>"
       ]
      },
      {
       "html": [
        "<div style=\"display:inline-block;\"><table>\n",
        "<tr><td>League</td><td>league-one - 1112</td></tr>\n",
        "<tr><td>Home Win Returns</td><td>-69.54000000000003</td></tr>\n",
        "<tr><td>Away Win Returns</td><td>-78.38</td></tr>\n",
        "<tr><td>Draw Returns</td><td>1.9700000000000055</td></tr>\n",
        "<tr><td>Favourite Returns</td><td>-34.45999999999999</td></tr>\n",
        "<tr><td>Underdog Returns</td><td>-113.46000000000002</td></tr>\n",
        "</table></div>"
       ],
       "metadata": {},
       "output_type": "display_data",
       "text": [
        "<IPython.core.display.HTML at 0x7f2fa2d25d30>"
       ]
      },
      {
       "html": [
        "<div style=\"display:inline-block;\"><table>\n",
        "<tr><td>League</td><td>league-two - 1112</td></tr>\n",
        "<tr><td>Home Win Returns</td><td>-29.040000000000028</td></tr>\n",
        "<tr><td>Away Win Returns</td><td>-41.21</td></tr>\n",
        "<tr><td>Draw Returns</td><td>-81.97999999999999</td></tr>\n",
        "<tr><td>Favourite Returns</td><td>-14.110000000000005</td></tr>\n",
        "<tr><td>Underdog Returns</td><td>-56.14</td></tr>\n",
        "</table></div>"
       ],
       "metadata": {},
       "output_type": "display_data",
       "text": [
        "<IPython.core.display.HTML at 0x7f2fa2d25d30>"
       ]
      },
      {
       "html": [
        "<div style=\"display:inline-block;\"><table>\n",
        "<tr><td>League</td><td>scottish-premiership - 1112</td></tr>\n",
        "<tr><td>Home Win Returns</td><td>-40.43999999999998</td></tr>\n",
        "<tr><td>Away Win Returns</td><td>-0.9699999999999993</td></tr>\n",
        "<tr><td>Draw Returns</td><td>-29.90999999999999</td></tr>\n",
        "<tr><td>Favourite Returns</td><td>-12.170000000000007</td></tr>\n",
        "<tr><td>Underdog Returns</td><td>-29.240000000000013</td></tr>\n",
        "</table></div>"
       ],
       "metadata": {},
       "output_type": "display_data",
       "text": [
        "<IPython.core.display.HTML at 0x7f2fa2d25d30>"
       ]
      },
      {
       "html": [
        "<div style=\"display:inline-block;\"><table>\n",
        "<tr><td>League</td><td>premier-league - 1213</td></tr>\n",
        "<tr><td>Home Win Returns</td><td>-47.05000000000003</td></tr>\n",
        "<tr><td>Away Win Returns</td><td>-54.68000000000002</td></tr>\n",
        "<tr><td>Draw Returns</td><td>6.679999999999992</td></tr>\n",
        "<tr><td>Favourite Returns</td><td>-22.140000000000015</td></tr>\n",
        "<tr><td>Underdog Returns</td><td>-79.58999999999997</td></tr>\n",
        "</table></div>"
       ],
       "metadata": {},
       "output_type": "display_data",
       "text": [
        "<IPython.core.display.HTML at 0x7f2fa2d25d30>"
       ]
      },
      {
       "html": [
        "<div style=\"display:inline-block;\"><table>\n",
        "<tr><td>League</td><td>championship - 1213</td></tr>\n",
        "<tr><td>Home Win Returns</td><td>-7.030000000000001</td></tr>\n",
        "<tr><td>Away Win Returns</td><td>-16.729999999999993</td></tr>\n",
        "<tr><td>Draw Returns</td><td>-60.440000000000005</td></tr>\n",
        "<tr><td>Favourite Returns</td><td>-56.39999999999999</td></tr>\n",
        "<tr><td>Underdog Returns</td><td>32.650000000000006</td></tr>\n",
        "</table></div>"
       ],
       "metadata": {},
       "output_type": "display_data",
       "text": [
        "<IPython.core.display.HTML at 0x7f2fa2d25d30>"
       ]
      },
      {
       "html": [
        "<div style=\"display:inline-block;\"><table>\n",
        "<tr><td>League</td><td>league-one - 1213</td></tr>\n",
        "<tr><td>Home Win Returns</td><td>-61.89000000000003</td></tr>\n",
        "<tr><td>Away Win Returns</td><td>6.950000000000005</td></tr>\n",
        "<tr><td>Draw Returns</td><td>-47.26</td></tr>\n",
        "<tr><td>Favourite Returns</td><td>-45.86000000000002</td></tr>\n",
        "<tr><td>Underdog Returns</td><td>-3.839999999999988</td></tr>\n",
        "</table></div>"
       ],
       "metadata": {},
       "output_type": "display_data",
       "text": [
        "<IPython.core.display.HTML at 0x7f2fa2d25d30>"
       ]
      },
      {
       "html": [
        "<div style=\"display:inline-block;\"><table>\n",
        "<tr><td>League</td><td>league-two - 1213</td></tr>\n",
        "<tr><td>Home Win Returns</td><td>-55.36000000000002</td></tr>\n",
        "<tr><td>Away Win Returns</td><td>15.120000000000012</td></tr>\n",
        "<tr><td>Draw Returns</td><td>-53.52000000000004</td></tr>\n",
        "<tr><td>Favourite Returns</td><td>-49.12000000000003</td></tr>\n",
        "<tr><td>Underdog Returns</td><td>8.879999999999995</td></tr>\n",
        "</table></div>"
       ],
       "metadata": {},
       "output_type": "display_data",
       "text": [
        "<IPython.core.display.HTML at 0x7f2fa2d25d30>"
       ]
      },
      {
       "html": [
        "<div style=\"display:inline-block;\"><table>\n",
        "<tr><td>League</td><td>scottish-premiership - 1213</td></tr>\n",
        "<tr><td>Home Win Returns</td><td>-10.739999999999997</td></tr>\n",
        "<tr><td>Away Win Returns</td><td>-22.540000000000006</td></tr>\n",
        "<tr><td>Draw Returns</td><td>22.399999999999995</td></tr>\n",
        "<tr><td>Favourite Returns</td><td>-45.98999999999999</td></tr>\n",
        "<tr><td>Underdog Returns</td><td>12.709999999999996</td></tr>\n",
        "</table></div>"
       ],
       "metadata": {},
       "output_type": "display_data",
       "text": [
        "<IPython.core.display.HTML at 0x7f2fa2d25d30>"
       ]
      },
      {
       "html": [
        "<div style=\"display:inline-block;\"><table>\n",
        "<tr><td>League</td><td>premier-league - 1314</td></tr>\n",
        "<tr><td>Home Win Returns</td><td>-2.6799999999999926</td></tr>\n",
        "<tr><td>Away Win Returns</td><td>-4.820000000000007</td></tr>\n",
        "<tr><td>Draw Returns</td><td>-88.67999999999999</td></tr>\n",
        "<tr><td>Favourite Returns</td><td>27.57</td></tr>\n",
        "<tr><td>Underdog Returns</td><td>-35.070000000000014</td></tr>\n",
        "</table></div>"
       ],
       "metadata": {},
       "output_type": "display_data",
       "text": [
        "<IPython.core.display.HTML at 0x7f2fa2d25d30>"
       ]
      },
      {
       "html": [
        "<div style=\"display:inline-block;\"><table>\n",
        "<tr><td>League</td><td>championship - 1314</td></tr>\n",
        "<tr><td>Home Win Returns</td><td>-65.99000000000004</td></tr>\n",
        "<tr><td>Away Win Returns</td><td>-42.080000000000005</td></tr>\n",
        "<tr><td>Draw Returns</td><td>-23.57</td></tr>\n",
        "<tr><td>Favourite Returns</td><td>-21.720000000000017</td></tr>\n",
        "<tr><td>Underdog Returns</td><td>-83.67000000000003</td></tr>\n",
        "</table></div>"
       ],
       "metadata": {},
       "output_type": "display_data",
       "text": [
        "<IPython.core.display.HTML at 0x7f2fa2d25d30>"
       ]
      },
      {
       "html": [
        "<div style=\"display:inline-block;\"><table>\n",
        "<tr><td>League</td><td>league-one - 1314</td></tr>\n",
        "<tr><td>Home Win Returns</td><td>-18.929999999999993</td></tr>\n",
        "<tr><td>Away Win Returns</td><td>-61.969999999999985</td></tr>\n",
        "<tr><td>Draw Returns</td><td>-72.82</td></tr>\n",
        "<tr><td>Favourite Returns</td><td>3.0800000000000063</td></tr>\n",
        "<tr><td>Underdog Returns</td><td>-78.74999999999999</td></tr>\n",
        "</table></div>"
       ],
       "metadata": {},
       "output_type": "display_data",
       "text": [
        "<IPython.core.display.HTML at 0x7f2fa2d25d30>"
       ]
      },
      {
       "html": [
        "<div style=\"display:inline-block;\"><table>\n",
        "<tr><td>League</td><td>league-two - 1314</td></tr>\n",
        "<tr><td>Home Win Returns</td><td>-86.68999999999993</td></tr>\n",
        "<tr><td>Away Win Returns</td><td>-27.220000000000002</td></tr>\n",
        "<tr><td>Draw Returns</td><td>15.980000000000011</td></tr>\n",
        "<tr><td>Favourite Returns</td><td>-82.35999999999997</td></tr>\n",
        "<tr><td>Underdog Returns</td><td>-31.549999999999986</td></tr>\n",
        "</table></div>"
       ],
       "metadata": {},
       "output_type": "display_data",
       "text": [
        "<IPython.core.display.HTML at 0x7f2fa2d25d30>"
       ]
      },
      {
       "html": [
        "<div style=\"display:inline-block;\"><table>\n",
        "<tr><td>League</td><td>scottish-premiership - 1314</td></tr>\n",
        "<tr><td>Home Win Returns</td><td>-12.900000000000006</td></tr>\n",
        "<tr><td>Away Win Returns</td><td>-22.440000000000005</td></tr>\n",
        "<tr><td>Draw Returns</td><td>-50.95</td></tr>\n",
        "<tr><td>Favourite Returns</td><td>11.969999999999995</td></tr>\n",
        "<tr><td>Underdog Returns</td><td>-47.31</td></tr>\n",
        "</table></div>"
       ],
       "metadata": {},
       "output_type": "display_data",
       "text": [
        "<IPython.core.display.HTML at 0x7f2fa2d25d30>"
       ]
      },
      {
       "html": [
        "<div style=\"display:inline-block;\"><table>\n",
        "<tr><td>League</td><td>premier-league - 1415</td></tr>\n",
        "<tr><td>Home Win Returns</td><td>-13.129999999999987</td></tr>\n",
        "<tr><td>Away Win Returns</td><td>-11.31000000000002</td></tr>\n",
        "<tr><td>Draw Returns</td><td>-41.52</td></tr>\n",
        "<tr><td>Favourite Returns</td><td>-12.630000000000004</td></tr>\n",
        "<tr><td>Underdog Returns</td><td>-11.810000000000027</td></tr>\n",
        "</table></div>"
       ],
       "metadata": {},
       "output_type": "display_data",
       "text": [
        "<IPython.core.display.HTML at 0x7f2fa2d25d30>"
       ]
      },
      {
       "html": [
        "<div style=\"display:inline-block;\"><table>\n",
        "<tr><td>League</td><td>championship - 1415</td></tr>\n",
        "<tr><td>Home Win Returns</td><td>-55.100000000000016</td></tr>\n",
        "<tr><td>Away Win Returns</td><td>-44.18999999999999</td></tr>\n",
        "<tr><td>Draw Returns</td><td>-7.399999999999985</td></tr>\n",
        "<tr><td>Favourite Returns</td><td>-42.17000000000001</td></tr>\n",
        "<tr><td>Underdog Returns</td><td>-54.47000000000007</td></tr>\n",
        "</table></div>"
       ],
       "metadata": {},
       "output_type": "display_data",
       "text": [
        "<IPython.core.display.HTML at 0x7f2fa2d25d30>"
       ]
      },
      {
       "html": [
        "<div style=\"display:inline-block;\"><table>\n",
        "<tr><td>League</td><td>league-one - 1415</td></tr>\n",
        "<tr><td>Home Win Returns</td><td>-51.83000000000003</td></tr>\n",
        "<tr><td>Away Win Returns</td><td>18.96000000000001</td></tr>\n",
        "<tr><td>Draw Returns</td><td>-58.57000000000002</td></tr>\n",
        "<tr><td>Favourite Returns</td><td>-60.76000000000002</td></tr>\n",
        "<tr><td>Underdog Returns</td><td>27.889999999999993</td></tr>\n",
        "</table></div>"
       ],
       "metadata": {},
       "output_type": "display_data",
       "text": [
        "<IPython.core.display.HTML at 0x7f2fa2d25d30>"
       ]
      },
      {
       "html": [
        "<div style=\"display:inline-block;\"><table>\n",
        "<tr><td>League</td><td>league-two - 1415</td></tr>\n",
        "<tr><td>Home Win Returns</td><td>-2.830000000000004</td></tr>\n",
        "<tr><td>Away Win Returns</td><td>-41.200000000000024</td></tr>\n",
        "<tr><td>Draw Returns</td><td>-95.13000000000004</td></tr>\n",
        "<tr><td>Favourite Returns</td><td>24.40999999999999</td></tr>\n",
        "<tr><td>Underdog Returns</td><td>-65.80000000000001</td></tr>\n",
        "</table></div>"
       ],
       "metadata": {},
       "output_type": "display_data",
       "text": [
        "<IPython.core.display.HTML at 0x7f2fa2d25d30>"
       ]
      },
      {
       "html": [
        "<div style=\"display:inline-block;\"><table>\n",
        "<tr><td>League</td><td>scottish-premiership - 1415</td></tr>\n",
        "<tr><td>Home Win Returns</td><td>-5.790000000000001</td></tr>\n",
        "<tr><td>Away Win Returns</td><td>0.06999999999999451</td></tr>\n",
        "<tr><td>Draw Returns</td><td>-66.69999999999999</td></tr>\n",
        "<tr><td>Favourite Returns</td><td>-8.290000000000004</td></tr>\n",
        "<tr><td>Underdog Returns</td><td>2.569999999999993</td></tr>\n",
        "</table></div>"
       ],
       "metadata": {},
       "output_type": "display_data",
       "text": [
        "<IPython.core.display.HTML at 0x7f2fa2d25d30>"
       ]
      },
      {
       "html": [
        "<div style=\"display:inline-block;\"><table>\n",
        "<tr><td>League</td><td>premier-league - 1516</td></tr>\n",
        "<tr><td>Home Win Returns</td><td>-30.449999999999996</td></tr>\n",
        "<tr><td>Away Win Returns</td><td>35.67999999999998</td></tr>\n",
        "<tr><td>Draw Returns</td><td>-1.1600000000000001</td></tr>\n",
        "<tr><td>Favourite Returns</td><td>-16.89</td></tr>\n",
        "<tr><td>Underdog Returns</td><td>22.119999999999997</td></tr>\n",
        "</table></div>"
       ],
       "metadata": {},
       "output_type": "display_data",
       "text": [
        "<IPython.core.display.HTML at 0x7f2fa2d25d30>"
       ]
      },
      {
       "html": [
        "<div style=\"display:inline-block;\"><table>\n",
        "<tr><td>League</td><td>championship - 1516</td></tr>\n",
        "<tr><td>Home Win Returns</td><td>-35.920000000000016</td></tr>\n",
        "<tr><td>Away Win Returns</td><td>-36.29</td></tr>\n",
        "<tr><td>Draw Returns</td><td>26.349999999999994</td></tr>\n",
        "<tr><td>Favourite Returns</td><td>-37.78000000000001</td></tr>\n",
        "<tr><td>Underdog Returns</td><td>-37.099999999999994</td></tr>\n",
        "</table></div>"
       ],
       "metadata": {},
       "output_type": "display_data",
       "text": [
        "<IPython.core.display.HTML at 0x7f2fa2d25d30>"
       ]
      },
      {
       "html": [
        "<div style=\"display:inline-block;\"><table>\n",
        "<tr><td>League</td><td>league-one - 1516</td></tr>\n",
        "<tr><td>Home Win Returns</td><td>1.6</td></tr>\n",
        "<tr><td>Away Win Returns</td><td>-9.149999999999999</td></tr>\n",
        "<tr><td>Draw Returns</td><td>-44.97999999999999</td></tr>\n",
        "<tr><td>Favourite Returns</td><td>0.4300000000000068</td></tr>\n",
        "<tr><td>Underdog Returns</td><td>-7.979999999999997</td></tr>\n",
        "</table></div>"
       ],
       "metadata": {},
       "output_type": "display_data",
       "text": [
        "<IPython.core.display.HTML at 0x7f2fa2d25d30>"
       ]
      },
      {
       "html": [
        "<div style=\"display:inline-block;\"><table>\n",
        "<tr><td>League</td><td>league-two - 1516</td></tr>\n",
        "<tr><td>Home Win Returns</td><td>-42.38999999999999</td></tr>\n",
        "<tr><td>Away Win Returns</td><td>17.860000000000003</td></tr>\n",
        "<tr><td>Draw Returns</td><td>-20.72</td></tr>\n",
        "<tr><td>Favourite Returns</td><td>-19.42000000000001</td></tr>\n",
        "<tr><td>Underdog Returns</td><td>-5.109999999999998</td></tr>\n",
        "</table></div>"
       ],
       "metadata": {},
       "output_type": "display_data",
       "text": [
        "<IPython.core.display.HTML at 0x7f2fa2d25d30>"
       ]
      },
      {
       "html": [
        "<div style=\"display:inline-block;\"><table>\n",
        "<tr><td>League</td><td>scottish-premiership - 1516</td></tr>\n",
        "<tr><td>Home Win Returns</td><td>-8.790000000000001</td></tr>\n",
        "<tr><td>Away Win Returns</td><td>-11.319999999999999</td></tr>\n",
        "<tr><td>Draw Returns</td><td>-6.489999999999995</td></tr>\n",
        "<tr><td>Favourite Returns</td><td>-0.15999999999999925</td></tr>\n",
        "<tr><td>Underdog Returns</td><td>-17.34</td></tr>\n",
        "</table></div>"
       ],
       "metadata": {},
       "output_type": "display_data",
       "text": [
        "<IPython.core.display.HTML at 0x7f2fa2d25d30>"
       ]
      }
     ],
     "prompt_number": 7
    },
    {
     "cell_type": "code",
     "collapsed": false,
     "input": [
      "epl_leagues = [league_analysis.year_201011.epl_league,\n",
      "               league_analysis.year_201112.epl_league,\n",
      "               league_analysis.year_201213.epl_league,\n",
      "               league_analysis.year_201314.epl_league,\n",
      "               league_analysis.year_201415.epl_league,\n",
      "               league_analysis.year_201516.epl_league]"
     ],
     "language": "python",
     "metadata": {},
     "outputs": [],
     "prompt_number": 12
    },
    {
     "cell_type": "code",
     "collapsed": false,
     "input": [
      "BaseAnalyser = league_analysis.BaseAnalyser"
     ],
     "language": "python",
     "metadata": {},
     "outputs": [],
     "prompt_number": 13
    },
    {
     "cell_type": "code",
     "collapsed": false,
     "input": [
      "HistoricalBetAnalyser = league_analysis.HistoricalBetAnalyser"
     ],
     "language": "python",
     "metadata": {},
     "outputs": [],
     "prompt_number": 14
    },
    {
     "cell_type": "code",
     "collapsed": false,
     "input": [
      "def historical_betting(get_bet):\n",
      "    # leagues = epl_leagues\n",
      "    # total_profit_loss = sum(historical_betting_for_league(league, get_bet)\n",
      "    #                         for league in leagues)\n",
      "    # print('Total profit loss for all leagues: {0}'.format(total_profit_loss))\n",
      "    historical_analyser = HistoricalBetAnalyser(get_bet)\n",
      "    historical_analyser.analyse_leagues()\n",
      "    historical_analyser.display_results()"
     ],
     "language": "python",
     "metadata": {},
     "outputs": [],
     "prompt_number": 15
    },
    {
     "cell_type": "code",
     "collapsed": false,
     "input": [
      "class SotrAnalyser(BaseAnalyser):\n",
      "    def __init__(self):\n",
      "        self.leagues = epl_leagues\n",
      "        self.home_win_sotr_diffs = []\n",
      "        self.away_win_sotr_diffs = []\n",
      "        self.draw_sotr_diffs = []\n",
      "        super(SotrAnalyser, self).__init__()\n",
      "        \n",
      "    def evaluate_match(self, match, home_stats, away_stats):\n",
      "        sotr_diff = home_stats.sotr - away_stats.sotr\n",
      "        if match.FTR == 'H':\n",
      "            self.home_win_sotr_diffs.append(sotr_diff)\n",
      "        elif match.FTR == 'A':\n",
      "            self.away_win_sotr_diffs.append(sotr_diff)\n",
      "        else:\n",
      "            assert match.FTR == 'D'\n",
      "            self.draw_sotr_diffs.append(sotr_diff)\n",
      "    \n",
      "    def display_results(self):\n",
      "        avg_home_win_sotr_diff = average(self.home_win_sotr_diffs)\n",
      "        print('Average home win sotr diff: {0}'.format(avg_home_win_sotr_diff))\n",
      "        avg_away_win_sotr_diff = average(self.away_win_sotr_diffs)\n",
      "        print('Average away win sotr diff: {0}'.format(avg_away_win_sotr_diff))\n",
      "        avg_draw_sotr_diff = average(self.draw_sotr_diffs)\n",
      "        print('Average draw sotr diff: {0}'.format(avg_draw_sotr_diff))\n",
      "\n",
      "sotr_analyser = SotrAnalyser()\n",
      "sotr_analyser.analyse_leagues()\n",
      "sotr_analyser.display_results()\n"
     ],
     "language": "python",
     "metadata": {},
     "outputs": [
      {
       "output_type": "stream",
       "stream": "stdout",
       "text": [
        "Average home win sotr diff: 0.04398555083701269\n",
        "Average away win sotr diff: -0.06781757108052865\n",
        "Average draw sotr diff: -0.021612502597401523\n"
       ]
      }
     ],
     "prompt_number": 16
    },
    {
     "cell_type": "code",
     "collapsed": false,
     "input": [
      "def bet_based_on_pdo(match, home_stats, away_stats):\n",
      "    if home_stats.pdo > away_stats.pdo:\n",
      "        return 'H'\n",
      "    elif away_stats.pdo > home_stats.pdo:\n",
      "        return 'A'\n",
      "    else:\n",
      "        assert home_stats.pdo == away_stats.pdo\n",
      "        return 'D'\n",
      "historical_betting(bet_based_on_pdo)"
     ],
     "language": "python",
     "metadata": {},
     "outputs": [
      {
       "output_type": "stream",
       "stream": "stdout",
       "text": [
        "League profit/loss: -76.09650000000002\n",
        "H bets wins 85 out of 182 for profit/loss: -21.304000000000013\n",
        "D bets wins 0 out of 0 for profit/loss: 0.0\n",
        "A bets wins 45 out of 188 for profit/loss: -54.792500000000004\n",
        "League profit/loss: -50.14000000000001"
       ]
      },
      {
       "output_type": "stream",
       "stream": "stdout",
       "text": [
        "\n",
        "H bets wins 87 out of 177 for profit/loss: -25.94150000000001\n",
        "D bets wins 0 out of 0 for profit/loss: 0.0\n",
        "A bets wins 62 out of 192 for profit/loss: -24.198500000000003\n",
        "League profit/loss: -64.8375"
       ]
      },
      {
       "output_type": "stream",
       "stream": "stdout",
       "text": [
        "\n",
        "H bets wins 79 out of 171 for profit/loss: -38.9235\n",
        "D bets wins 1 out of 1 for profit/loss: 2.2039999999999997\n",
        "A bets wins 62 out of 198 for profit/loss: -28.118000000000002\n",
        "League profit/loss: -59.289000000000044"
       ]
      },
      {
       "output_type": "stream",
       "stream": "stdout",
       "text": [
        "\n",
        "H bets wins 98 out of 183 for profit/loss: -23.648999999999997\n",
        "D bets wins 0 out of 0 for profit/loss: 0.0\n",
        "A bets wins 67 out of 187 for profit/loss: -35.63999999999999\n",
        "League profit/loss: -26.821500000000025"
       ]
      },
      {
       "output_type": "stream",
       "stream": "stdout",
       "text": [
        "\n",
        "H bets wins 100 out of 197 for profit/loss: -9.257999999999997\n",
        "D bets wins 0 out of 0 for profit/loss: 0.0\n",
        "A bets wins 56 out of 173 for profit/loss: -17.56350000000001\n",
        "League profit/loss: 1.8114999999999997\n",
        "H bets wins 23 out of 57 for profit/loss: -12.492000000000004\n"
       ]
      },
      {
       "output_type": "stream",
       "stream": "stdout",
       "text": [
        "D bets wins 0 out of 0 for profit/loss: 0.0\n",
        "A bets wins 26 out of 73 for profit/loss: 14.303499999999993\n",
        "Total profit loss for all leagues: -275.3730000000004\n"
       ]
      }
     ],
     "prompt_number": 17
    },
    {
     "cell_type": "code",
     "collapsed": false,
     "input": [
      "def bet_based_on_sotr(match, home_stats, away_stats):\n",
      "    sotr_diff = home_stats.sotr - away_stats.sotr\n",
      "    if sotr_diff > 0.04:\n",
      "        return 'H'\n",
      "    elif sotr_diff < -0.06:\n",
      "        return 'A'\n",
      "    else:\n",
      "        return 'D'\n",
      "historical_betting(bet_based_on_sotr)"
     ],
     "language": "python",
     "metadata": {},
     "outputs": [
      {
       "output_type": "stream",
       "stream": "stdout",
       "text": [
        "League profit/loss: -23.90400000000003\n",
        "H bets wins 87 out of 141 for profit/loss: 1.2424999999999957\n",
        "D bets wins 30 out of 100 for profit/loss: 0.15749999999999753\n",
        "A bets wins 47 out of 129 for profit/loss: -25.304\n",
        "League profit/loss: -15.91050000000001"
       ]
      },
      {
       "output_type": "stream",
       "stream": "stdout",
       "text": [
        "\n",
        "H bets wins 89 out of 141 for profit/loss: -6.903500000000003\n",
        "D bets wins 28 out of 103 for profit/loss: -11.369000000000005\n",
        "A bets wins 59 out of 125 for profit/loss: 2.3619999999999948\n",
        "League profit/loss: -30.07550000000002"
       ]
      },
      {
       "output_type": "stream",
       "stream": "stdout",
       "text": [
        "\n",
        "H bets wins 86 out of 141 for profit/loss: -14.910000000000004\n",
        "D bets wins 26 out of 96 for profit/loss: -11.337500000000002\n",
        "A bets wins 61 out of 133 for profit/loss: -3.828000000000003\n",
        "League profit/loss: -20.001500000000007"
       ]
      },
      {
       "output_type": "stream",
       "stream": "stdout",
       "text": [
        "\n",
        "H bets wins 99 out of 142 for profit/loss: 10.361499999999996\n",
        "D bets wins 18 out of 91 for profit/loss: -32.473000000000006\n",
        "A bets wins 69 out of 137 for profit/loss: 2.1099999999999963\n",
        "League profit/loss: 20.711499999999994"
       ]
      },
      {
       "output_type": "stream",
       "stream": "stdout",
       "text": [
        "\n",
        "H bets wins 95 out of 147 for profit/loss: 1.1809999999999965\n",
        "D bets wins 35 out of 95 for profit/loss: 19.429500000000004\n",
        "A bets wins 62 out of 128 for profit/loss: 0.1009999999999951\n",
        "League profit/loss: 29.095499999999994\n",
        "H bets wins 33 out of 57 for profit/loss: -0.3830000000000009\n",
        "D bets wins 12 out of 30 for profit/loss: 12.058\n",
        "A bets wins 23 out of 43 for profit/loss: 17.420499999999997\n",
        "Total profit loss for all leagues: -40.08450000000012\n"
       ]
      }
     ],
     "prompt_number": 18
    },
    {
     "cell_type": "code",
     "collapsed": false,
     "input": [
      "def bet_based_on_tsr(match, home_stats, away_stats):\n",
      "    tsr_diff = home_stats.tsr - away_stats.tsr\n",
      "    if tsr_diff > 0.05:\n",
      "        return 'H'\n",
      "    elif tsr_diff < -0.05:\n",
      "        return 'A'\n",
      "    else:\n",
      "        return 'D'\n",
      "historical_betting(bet_based_on_tsr)"
     ],
     "language": "python",
     "metadata": {},
     "outputs": [
      {
       "output_type": "stream",
       "stream": "stdout",
       "text": [
        "League profit/loss: -18.540500000000005\n",
        "H bets wins 68 out of 111 for profit/loss: -3.974\n",
        "D bets wins 39 out of 130 for profit/loss: 6.45099999999999\n",
        "A bets wins 44 out of 129 for profit/loss: -21.017500000000002\n",
        "League profit/loss: -13.420000000000005"
       ]
      },
      {
       "output_type": "stream",
       "stream": "stdout",
       "text": [
        "\n",
        "H bets wins 74 out of 110 for profit/loss: -1.6955000000000036\n",
        "D bets wins 37 out of 137 for profit/loss: -13.094000000000001\n",
        "A bets wins 58 out of 122 for profit/loss: 1.369499999999996\n",
        "League profit/loss: -25.425500000000028"
       ]
      },
      {
       "output_type": "stream",
       "stream": "stdout",
       "text": [
        "\n",
        "H bets wins 78 out of 122 for profit/loss: -9.866500000000004\n",
        "D bets wins 31 out of 106 for profit/loss: -3.6075000000000026\n",
        "A bets wins 62 out of 142 for profit/loss: -11.951500000000006\n",
        "League profit/loss: -8.063000000000002"
       ]
      },
      {
       "output_type": "stream",
       "stream": "stdout",
       "text": [
        "\n",
        "H bets wins 86 out of 127 for profit/loss: 2.718999999999998\n",
        "D bets wins 24 out of 104 for profit/loss: -26.135000000000005\n",
        "A bets wins 71 out of 139 for profit/loss: 15.352999999999996\n",
        "League profit/loss: -7.620000000000004"
       ]
      },
      {
       "output_type": "stream",
       "stream": "stdout",
       "text": [
        "\n",
        "H bets wins 83 out of 125 for profit/loss: 3.7329999999999983\n",
        "D bets wins 29 out of 111 for profit/loss: -16.4215\n",
        "A bets wins 60 out of 134 for profit/loss: 5.0685\n",
        "League profit/loss: 6.7269999999999985\n",
        "H bets wins 27 out of 51 for profit/loss: -6.605500000000002\n",
        "D bets wins 12 out of 34 for profit/loss: 5.322\n",
        "A bets wins 23 out of 45 for profit/loss: 8.0105\n",
        "Total profit loss for all leagues: -66.34199999999997\n"
       ]
      }
     ],
     "prompt_number": 19
    },
    {
     "cell_type": "code",
     "collapsed": false,
     "input": [
      "def bet_based_on_tsr_and_sotr(match, home_stats, away_stats):\n",
      "    tsr_diff = home_stats.tsr - away_stats.tsr\n",
      "    sotr_diff = home_stats.sotr - away_stats.sotr\n",
      "    if sotr_diff > 0.1:\n",
      "        return 'H'\n",
      "    if (tsr_diff > 0.0 and sotr_diff < 0.0) or (tsr_diff < 0.0 and sotr_diff > 0.0):\n",
      "        return 'D'\n",
      "    elif sotr_diff > -0.05:\n",
      "        return 'H'\n",
      "    elif sotr_diff < -0.1:\n",
      "        return 'A'\n",
      "    else:\n",
      "        return 'D'\n",
      "historical_betting(bet_based_on_tsr_and_sotr)"
     ],
     "language": "python",
     "metadata": {},
     "outputs": [
      {
       "output_type": "stream",
       "stream": "stdout",
       "text": [
        "League profit/loss: 3.992499999999988\n",
        "H bets wins 119 out of 204 for profit/loss: 7.292499999999995\n",
        "D bets wins 25 out of 71 for profit/loss: 12.272999999999998\n",
        "A bets wins 37 out of 95 for profit/loss: -15.573000000000004\n",
        "League profit/loss: -23.826000000000025"
       ]
      },
      {
       "output_type": "stream",
       "stream": "stdout",
       "text": [
        "\n",
        "H bets wins 112 out of 200 for profit/loss: -16.740500000000015\n",
        "D bets wins 22 out of 79 for profit/loss: -7.476500000000004\n",
        "A bets wins 45 out of 90 for profit/loss: 0.3909999999999991\n",
        "League profit/loss: -10.397000000000013"
       ]
      },
      {
       "output_type": "stream",
       "stream": "stdout",
       "text": [
        "\n",
        "H bets wins 114 out of 196 for profit/loss: -12.94450000000001\n",
        "D bets wins 23 out of 79 for profit/loss: -4.073000000000007\n",
        "A bets wins 49 out of 95 for profit/loss: 6.620499999999997\n",
        "League profit/loss: 6.571999999999986"
       ]
      },
      {
       "output_type": "stream",
       "stream": "stdout",
       "text": [
        "\n",
        "H bets wins 126 out of 197 for profit/loss: 10.4815\n",
        "D bets wins 18 out of 73 for profit/loss: -14.720000000000002\n",
        "A bets wins 58 out of 100 for profit/loss: 10.810499999999998\n",
        "League profit/loss: -0.11050000000002136"
       ]
      },
      {
       "output_type": "stream",
       "stream": "stdout",
       "text": [
        "\n",
        "H bets wins 113 out of 195 for profit/loss: -4.575000000000004\n",
        "D bets wins 28 out of 84 for profit/loss: 7.042000000000002\n",
        "A bets wins 48 out of 91 for profit/loss: -2.5775000000000023\n",
        "League profit/loss: 13.151499999999999\n",
        "H bets wins 37 out of 75 for profit/loss: -7.941999999999998\n",
        "D bets wins 8 out of 22 for profit/loss: 5.2185\n",
        "A bets wins 18 out of 33 for profit/loss: 15.875\n",
        "Total profit loss for all leagues: -10.617500000000039\n"
       ]
      }
     ],
     "prompt_number": 20
    },
    {
     "cell_type": "code",
     "collapsed": false,
     "input": [
      "import numpy\n",
      "import scipy.optimize as optimize"
     ],
     "language": "python",
     "metadata": {},
     "outputs": [
      {
       "ename": "ImportError",
       "evalue": "No module named 'scipy'",
       "output_type": "pyerr",
       "traceback": [
        "\u001b[1;31m---------------------------------------------------------------------------\u001b[0m\n\u001b[1;31mImportError\u001b[0m                               Traceback (most recent call last)",
        "\u001b[1;32m<ipython-input-26-42a526933f7a>\u001b[0m in \u001b[0;36m<module>\u001b[1;34m()\u001b[0m\n\u001b[0;32m      1\u001b[0m \u001b[1;32mimport\u001b[0m \u001b[0mnumpy\u001b[0m\u001b[1;33m\u001b[0m\u001b[0m\n\u001b[1;32m----> 2\u001b[1;33m \u001b[1;32mimport\u001b[0m \u001b[0mscipy\u001b[0m\u001b[1;33m.\u001b[0m\u001b[0moptimize\u001b[0m \u001b[1;32mas\u001b[0m \u001b[0moptimize\u001b[0m\u001b[1;33m\u001b[0m\u001b[0m\n\u001b[0m",
        "\u001b[1;31mImportError\u001b[0m: No module named 'scipy'"
       ]
      }
     ],
     "prompt_number": 26
    },
    {
     "cell_type": "code",
     "collapsed": false,
     "input": [
      "class SilentHistoricalBetAnalyser(HistoricalBetAnalyser):\n",
      "    def display_per_league_results(self):\n",
      "        pass\n",
      "    def display_results(self):\n",
      "        pass"
     ],
     "language": "python",
     "metadata": {},
     "outputs": [],
     "prompt_number": 21
    },
    {
     "cell_type": "code",
     "collapsed": false,
     "input": [
      "def create_get_bet_based_on_sotr(input_array):\n",
      "    home_threshold = input_array[0]\n",
      "    away_threshold = input_array[1]\n",
      "    def bet_based_on_tsr_and_sotr(match, home_stats, away_stats):\n",
      "        tsr_diff = home_stats.tsr - away_stats.tsr\n",
      "        sotr_diff = home_stats.sotr - away_stats.sotr\n",
      "        if sotr_diff > home_threshold:\n",
      "            return 'H'\n",
      "        elif sotr_diff < away_threshold:\n",
      "            return 'A'\n",
      "        else:\n",
      "            return 'D'\n",
      "    return bet_based_on_tsr_and_sotr\n",
      "\n",
      "def evaluate_thresholds(input_array):\n",
      "    get_bet = create_get_bet_based_on_sotr(input_array)\n",
      "    historical_better = SilentHistoricalBetAnalyser(get_bet)\n",
      "    historical_better.analyse_leagues()\n",
      "    # print(input_array)\n",
      "    # print(historical_better.total_profit_loss)\n",
      "    return 0 - historical_better.total_profit_loss\n",
      "\n",
      "x0 = numpy.array([0.01, -0.02])\n",
      "bounds = [(-0.9, 0.9), (-0.9, 0.9)]\n",
      "result = optimize.minimize(evaluate_thresholds, x0, method='L-BFGS-B', bounds=bounds)\n",
      "result.x"
     ],
     "language": "python",
     "metadata": {},
     "outputs": [
      {
       "output_type": "stream",
       "stream": "stdout",
       "text": [
        "[ 0.01 -0.02]\n",
        "-81.26850000000017\n",
        "[ 0.01000001 -0.02      ]"
       ]
      },
      {
       "output_type": "stream",
       "stream": "stdout",
       "text": [
        "\n",
        "-81.26850000000017\n",
        "[ 0.01       -0.01999999]"
       ]
      },
      {
       "output_type": "stream",
       "stream": "stdout",
       "text": [
        "\n",
        "-81.26850000000017\n"
       ]
      },
      {
       "metadata": {},
       "output_type": "pyout",
       "prompt_number": 93,
       "text": [
        "array([ 0.01, -0.02])"
       ]
      }
     ],
     "prompt_number": 93
    },
    {
     "cell_type": "code",
     "collapsed": false,
     "input": [
      "result"
     ],
     "language": "python",
     "metadata": {},
     "outputs": [
      {
       "metadata": {},
       "output_type": "pyout",
       "prompt_number": 90,
       "text": [
        " success: True\n",
        "   direc: array([[ 1.,  0.],\n",
        "       [ 0.,  1.]])\n",
        "       x: array([ -0.07172535,  10.33171585])\n",
        "     fun: array(39.924000000000035)\n",
        " message: 'Optimization terminated successfully.'\n",
        "  status: 0\n",
        "    nfev: 150\n",
        "     nit: 4"
       ]
      }
     ],
     "prompt_number": 90
    },
    {
     "cell_type": "code",
     "collapsed": false,
     "input": [
      "historical_betting(create_get_bet_based_on_sotr(result.x))"
     ],
     "language": "python",
     "metadata": {},
     "outputs": [
      {
       "output_type": "stream",
       "stream": "stdout",
       "text": [
        "League profit/loss: -26.53350000000002\n",
        "H bets wins 137 out of 252 for profit/loss: -2.9950000000000045\n",
        "D bets wins 0 out of 0 for profit/loss: 0.0\n",
        "A bets wins 43 out of 118 for profit/loss: -23.5385\n",
        "League profit/loss: -13.718500000000024"
       ]
      },
      {
       "output_type": "stream",
       "stream": "stdout",
       "text": [
        "\n",
        "H bets wins 139 out of 257 for profit/loss: -16.093500000000017\n",
        "D bets wins 0 out of 0 for profit/loss: 0.0\n",
        "A bets wins 55 out of 112 for profit/loss: 2.3749999999999973\n",
        "League profit/loss: -12.383500000000017"
       ]
      },
      {
       "output_type": "stream",
       "stream": "stdout",
       "text": [
        "\n",
        "H bets wins 138 out of 250 for profit/loss: -15.195000000000011\n",
        "D bets wins 0 out of 0 for profit/loss: 0.0\n",
        "A bets wins 59 out of 120 for profit/loss: 2.8114999999999952\n",
        "League profit/loss: 15.066499999999994"
       ]
      },
      {
       "output_type": "stream",
       "stream": "stdout",
       "text": [
        "\n",
        "H bets wins 146 out of 242 for profit/loss: 7.397999999999993\n",
        "D bets wins 0 out of 0 for profit/loss: 0.0\n",
        "A bets wins 68 out of 128 for profit/loss: 7.668499999999997\n",
        "League profit/loss: -6.358000000000001"
       ]
      },
      {
       "output_type": "stream",
       "stream": "stdout",
       "text": [
        "\n",
        "H bets wins 140 out of 256 for profit/loss: -10.150999999999994\n",
        "D bets wins 0 out of 0 for profit/loss: 0.0\n",
        "A bets wins 58 out of 114 for profit/loss: 3.7929999999999957\n",
        "League profit/loss: 4.002999999999998\n",
        "H bets wins 28 out of 63 for profit/loss: -8.837000000000003\n",
        "D bets wins 0 out of 0 for profit/loss: 0.0\n",
        "A bets wins 14 out of 27 for profit/loss: 12.840000000000003\n",
        "Total profit loss for all leagues: -39.924000000000035\n"
       ]
      }
     ],
     "prompt_number": 91
    },
    {
     "cell_type": "code",
     "collapsed": false,
     "input": [
      "import itertools"
     ],
     "language": "python",
     "metadata": {},
     "outputs": [],
     "prompt_number": 25
    },
    {
     "cell_type": "code",
     "collapsed": false,
     "input": [
      "values = numpy.arange(-0.3, 0.3, 0.05)"
     ],
     "language": "python",
     "metadata": {},
     "outputs": [],
     "prompt_number": 106
    },
    {
     "cell_type": "code",
     "collapsed": false,
     "input": [
      "possible_input_arrays = itertools.product(values, repeat=2)"
     ],
     "language": "python",
     "metadata": {},
     "outputs": [],
     "prompt_number": 109
    },
    {
     "cell_type": "code",
     "collapsed": false,
     "input": [
      "results = [(p, evaluate_thresholds(p)) for p in possible_input_arrays]\n",
      "sorted(results, key=lambda p: p[1], reverse=True)"
     ],
     "language": "python",
     "metadata": {},
     "outputs": []
    },
    {
     "cell_type": "code",
     "collapsed": false,
     "input": [
      "historical_betting(create_get_bet_based_on_sotr([0.0, -0.1]))"
     ],
     "language": "python",
     "metadata": {},
     "outputs": []
    },
    {
     "cell_type": "code",
     "collapsed": false,
     "input": [
      "class StrategyOptimiser(object):\n",
      "    def __init__(self, create_get_bet):\n",
      "        self.create_get_bet = create_get_bet\n",
      "\n",
      "    def evaluate_parameters(self, input_params):\n",
      "        get_bet = self.create_get_bet(input_params)\n",
      "        historical_better = SilentHistoricalBetAnalyser(get_bet)\n",
      "        historical_better.analyse_leagues()\n",
      "        # print(input_array)\n",
      "        # print(historical_better.total_profit_loss)\n",
      "        return historical_better.total_profit_loss\n",
      "\n",
      "    def brute_force(self, parameter_values):\n",
      "        possible_input_arrays = itertools.product(parameter_values, repeat=2)\n",
      "        results = [(p, self.evaluate_parameters(p)) for p in possible_input_arrays]\n",
      "        for line in sorted(results, key=lambda p: p[1], reverse=True):\n",
      "            print(line)\n",
      "        "
     ],
     "language": "python",
     "metadata": {},
     "outputs": [],
     "prompt_number": 22
    },
    {
     "cell_type": "code",
     "collapsed": false,
     "input": [
      "def create_get_bet_based_on_odds(parameters):\n",
      "    home_threshold = parameters[0]\n",
      "    away_threshold = parameters[1]\n",
      "    def bet_based_on_odds(match, home_stats, away_stats):\n",
      "        if match.BbAvH >= home_threshold:\n",
      "            return 'H'\n",
      "        elif match.BbAvA >= away_threshold:\n",
      "            return 'A'\n",
      "        else:\n",
      "            return 'D'\n",
      "    return bet_based_on_odds\n",
      "optimiser = StrategyOptimiser(create_get_bet_based_on_odds)\n",
      "optimiser.brute_force(numpy.arange(2.5, 7.0, 0.2))\n",
      "# optimiser.brute_force([1.5, 2.0, 2.5])"
     ],
     "language": "python",
     "metadata": {},
     "outputs": []
    },
    {
     "cell_type": "code",
     "collapsed": false,
     "input": [
      "def result_count_factory():\n",
      "    return {'H': 0, 'D': 0, 'A': 0}"
     ],
     "language": "python",
     "metadata": {},
     "outputs": [],
     "prompt_number": 23
    },
    {
     "cell_type": "code",
     "collapsed": false,
     "input": [
      "HistoricalStatAnalyser = league_analysis.HistoricalStatAnalyser"
     ],
     "language": "python",
     "metadata": {},
     "outputs": [],
     "prompt_number": 50
    },
    {
     "cell_type": "code",
     "collapsed": false,
     "input": [
      "sotr_analyser = HistoricalStatAnalyser('sotr')\n",
      "sotr_analyser.analyse_leagues()\n",
      "sotr_analyser.display_results()\n",
      "sotr_analyser.historically_bet()"
     ],
     "language": "python",
     "metadata": {},
     "outputs": [
      {
       "output_type": "stream",
       "stream": "stdout",
       "text": [
        "Bucket -1.1 to -1.0\n",
        "no such matches\n",
        "Bucket -1.0 to -0.9\n",
        "no such matches\n",
        "Bucket -0.9 to -0.8\n",
        "no such matches\n",
        "Bucket -0.7999999999999999 to -0.7\n",
        "no such matches\n",
        "Bucket -0.7 to -0.6\n",
        "no such matches\n",
        "Bucket -0.6 to -0.5\n",
        "no such matches\n",
        "Bucket -0.5 to -0.4\n",
        "          'H': 0, 0.0\n",
        "          'D': 0, 0.0\n",
        "          'A': 2, 1.0\n",
        "Bucket -0.4 to -0.3\n",
        "          'H': 12, 0.21052631578947367\n",
        "          'D': 15, 0.2631578947368421\n",
        "          'A': 30, 0.5263157894736842\n",
        "Bucket -0.30000000000000004 to -0.2\n",
        "          'H': 83, 0.22865013774104684\n",
        "          'D': 75, 0.2066115702479339\n",
        "          'A': 205, 0.5647382920110193\n",
        "Bucket -0.2 to -0.1\n",
        "          'H': 453, 0.30505050505050507\n",
        "          'D': 385, 0.25925925925925924\n",
        "          'A': 647, 0.4356902356902357\n",
        "Bucket -0.1 to 0.0\n",
        "          'H': 1379, 0.37421981004070554\n",
        "          'D': 1068, 0.2898236092265943\n",
        "          'A': 1238, 0.3359565807327001\n",
        "Bucket 0.0 to 0.1\n",
        "          'H': 1723, 0.47348172574883207\n",
        "          'D': 977, 0.2684803517449849\n",
        "          'A': 939, 0.258037922506183\n",
        "Bucket 0.1 to 0.2\n",
        "          'H': 807, 0.5886214442013129\n",
        "          'D': 304, 0.22173595915390226\n",
        "          'A': 260, 0.18964259664478483\n",
        "Bucket 0.19999999999999998 to 0.3\n",
        "          'H': 228, 0.6785714285714286\n",
        "          'D': 63, 0.1875\n",
        "          'A': 45, 0.13392857142857142\n",
        "Bucket 0.30000000000000004 to 0.4\n",
        "          'H': 35, 0.7608695652173914\n",
        "          'D': 6, 0.13043478260869565\n",
        "          'A': 5, 0.10869565217391304\n",
        "Bucket 0.4 to 0.5\n",
        "          'H': 1, 0.25\n",
        "          'D': 3, 0.75\n",
        "          'A': 0, 0.0\n",
        "Bucket 0.5 to 0.6\n",
        "no such matches\n",
        "Bucket 0.6 to 0.7\n",
        "no such matches\n",
        "Bucket 0.7000000000000001 to 0.8\n",
        "no such matches\n",
        "Bucket 0.8 to 0.9\n",
        "no such matches\n",
        "League profit/loss: -3.8540000000000054"
       ]
      },
      {
       "output_type": "stream",
       "stream": "stdout",
       "text": [
        "\n",
        "H bets wins 0 out of 0 for profit/loss: 0.0\n",
        "D bets wins 21 out of 90 for profit/loss: -1.8540000000000054\n",
        "A bets wins 0 out of 2 for profit/loss: -2.0\n",
        "League profit/loss: -16.641000000000005"
       ]
      },
      {
       "output_type": "stream",
       "stream": "stdout",
       "text": [
        "\n",
        "H bets wins 0 out of 0 for profit/loss: 0.0\n",
        "D bets wins 21 out of 111 for profit/loss: -17.401000000000003\n",
        "A bets wins 1 out of 1 for profit/loss: 0.76\n",
        "League profit/loss: -33.160000000000004"
       ]
      },
      {
       "output_type": "stream",
       "stream": "stdout",
       "text": [
        "\n",
        "H bets wins 0 out of 1 for profit/loss: -1.0\n",
        "D bets wins 15 out of 92 for profit/loss: -32.16\n",
        "A bets wins 0 out of 0 for profit/loss: 0.0\n",
        "League profit/loss: -29.59950000000001"
       ]
      },
      {
       "output_type": "stream",
       "stream": "stdout",
       "text": [
        "\n",
        "H bets wins 0 out of 0 for profit/loss: 0.0\n",
        "D bets wins 17 out of 111 for profit/loss: -29.59950000000001\n",
        "A bets wins 0 out of 0 for profit/loss: 0.0\n",
        "League profit/loss: -15.379000000000005"
       ]
      },
      {
       "output_type": "stream",
       "stream": "stdout",
       "text": [
        "\n",
        "H bets wins 0 out of 0 for profit/loss: 0.0\n",
        "D bets wins 20 out of 101 for profit/loss: -14.975000000000001\n",
        "A bets wins 2 out of 4 for profit/loss: -0.404\n",
        "League profit/loss: -2.5605000000000007\n",
        "H bets wins 0 out of 0 for profit/loss: 0.0\n",
        "D bets wins 6 out of 27 for profit/loss: -3.3015000000000003\n",
        "A bets wins 1 out of 1 for profit/loss: 0.741\n",
        "Total profit loss for all leagues: -101.19399999999996\n"
       ]
      }
     ],
     "prompt_number": 53
    },
    {
     "cell_type": "code",
     "collapsed": false,
     "input": [
      "tr_analyser = HistoricalStatAnalyser('team_rating')\n",
      "tr_analyser.analyse_leagues()\n",
      "tr_analyser.display_results()\n",
      "tr_analyser.historically_bet()"
     ],
     "language": "python",
     "metadata": {},
     "outputs": [
      {
       "output_type": "stream",
       "stream": "stdout",
       "text": [
        "Bucket -1.1 to -1.0\n",
        "no such matches\n",
        "Bucket -1.0 to -0.9\n",
        "no such matches\n",
        "Bucket -0.9 to -0.8\n",
        "no such matches\n",
        "Bucket -0.7999999999999999 to -0.7\n",
        "no such matches\n",
        "Bucket -0.7 to -0.6\n",
        "          'H': 0, 0.0\n",
        "          'D': 1, 0.125\n",
        "          'A': 7, 0.875\n",
        "Bucket -0.6 to -0.5\n",
        "          'H': 3, 0.0967741935483871\n",
        "          'D': 6, 0.1935483870967742\n",
        "          'A': 22, 0.7096774193548387\n",
        "Bucket -0.5 to -0.4\n",
        "          'H': 13, 0.14772727272727273\n",
        "          'D': 17, 0.19318181818181818\n",
        "          'A': 58, 0.6590909090909091\n",
        "Bucket -0.4 to -0.3\n",
        "          'H': 97, 0.27793696275071633\n",
        "          'D': 80, 0.22922636103151864\n",
        "          'A': 172, 0.49283667621776506\n",
        "Bucket -0.30000000000000004 to -0.2\n",
        "          'H': 237, 0.2828162291169451\n",
        "          'D': 205, 0.24463007159904535\n",
        "          'A': 396, 0.47255369928400953\n",
        "Bucket -0.2 to -0.1\n",
        "          'H': 521, 0.31310096153846156\n",
        "          'D': 484, 0.29086538461538464\n",
        "          'A': 659, 0.39603365384615385\n",
        "Bucket -0.1 to 0.0\n",
        "          'H': 1009, 0.3868865030674847\n",
        "          'D': 768, 0.294478527607362\n",
        "          'A': 831, 0.3186349693251534\n",
        "Bucket 0.0 to 0.1\n",
        "          'H': 1180, 0.45683313975996903\n",
        "          'D': 685, 0.26519550909794815\n",
        "          'A': 718, 0.2779713511420828\n",
        "Bucket 0.1 to 0.2\n",
        "          'H': 920, 0.5389572349150556\n",
        "          'D': 436, 0.255418863503222\n",
        "          'A': 351, 0.2056239015817223\n",
        "Bucket 0.19999999999999998 to 0.3\n",
        "          'H': 460, 0.6318681318681318\n",
        "          'D': 151, 0.20741758241758243\n",
        "          'A': 117, 0.16071428571428573\n",
        "Bucket 0.30000000000000004 to 0.4\n",
        "          'H': 192, 0.7111111111111111\n",
        "          'D': 44, 0.16296296296296298\n",
        "          'A': 34, 0.1259259259259259\n",
        "Bucket 0.4 to 0.5\n",
        "          'H': 64, 0.7710843373493976\n",
        "          'D': 14, 0.1686746987951807\n",
        "          'A': 5, 0.060240963855421686\n",
        "Bucket 0.5 to 0.6\n",
        "          'H': 20, 0.8333333333333334\n",
        "          'D': 3, 0.125\n",
        "          'A': 1, 0.041666666666666664\n",
        "Bucket 0.6 to 0.7\n",
        "          'H': 4, 0.8\n",
        "          'D': 1, 0.2\n",
        "          'A': 0, 0.0\n",
        "Bucket 0.7000000000000001 to 0.8\n",
        "          'H': 1, 0.5\n",
        "          'D': 1, 0.5\n",
        "          'A': 0, 0.0\n",
        "Bucket 0.8 to 0.9\n",
        "no such matches\n",
        "League profit/loss: 7.627499999999994"
       ]
      },
      {
       "output_type": "stream",
       "stream": "stdout",
       "text": [
        "\n",
        "H bets wins 0 out of 1 for profit/loss: -1.0\n",
        "D bets wins 24 out of 88 for profit/loss: 8.627499999999998\n",
        "A bets wins 0 out of 0 for profit/loss: 0.0\n",
        "League profit/loss: -20.8345"
       ]
      },
      {
       "output_type": "stream",
       "stream": "stdout",
       "text": [
        "\n",
        "H bets wins 1 out of 3 for profit/loss: -1.4395\n",
        "D bets wins 19 out of 101 for profit/loss: -19.394999999999996\n",
        "A bets wins 0 out of 0 for profit/loss: 0.0\n",
        "League profit/loss: 3.689999999999997"
       ]
      },
      {
       "output_type": "stream",
       "stream": "stdout",
       "text": [
        "\n",
        "H bets wins 0 out of 1 for profit/loss: -1.0\n",
        "D bets wins 23 out of 84 for profit/loss: 4.7019999999999955\n",
        "A bets wins 1 out of 2 for profit/loss: -0.01200000000000001\n",
        "League profit/loss: -18.38800000000001"
       ]
      },
      {
       "output_type": "stream",
       "stream": "stdout",
       "text": [
        "\n",
        "H bets wins 1 out of 2 for profit/loss: -0.6105\n",
        "D bets wins 16 out of 96 for profit/loss: -17.870000000000008\n",
        "A bets wins 1 out of 2 for profit/loss: 0.0924999999999998\n",
        "League profit/loss: -32.334"
       ]
      },
      {
       "output_type": "stream",
       "stream": "stdout",
       "text": [
        "\n",
        "H bets wins 0 out of 2 for profit/loss: -2.0\n",
        "D bets wins 15 out of 94 for profit/loss: -29.334000000000003\n",
        "A bets wins 0 out of 1 for profit/loss: -1.0\n",
        "League profit/loss: -0.124000000000001\n",
        "H bets wins 0 out of 1 for profit/loss: -1.0\n",
        "D bets wins 8 out of 29 for profit/loss: -0.16650000000000098\n",
        "A bets wins 1 out of 2 for profit/loss: 1.0425\n",
        "Total profit loss for all leagues: -60.36300000000002\n"
       ]
      }
     ],
     "prompt_number": 54
    },
    {
     "cell_type": "code",
     "collapsed": false,
     "input": [
      "def display_buckets(buckets):\n",
      "    for key in buckets.keys():\n",
      "        result_counts = buckets[key]    \n",
      "        print('Bucket {0}'.format(key))\n",
      "        total_matches = sum(r for r in result_counts.values())\n",
      "        if total_matches == 0:\n",
      "            print('no such matches')\n",
      "            continue\n",
      "        for result in ['H', 'D', 'A']:\n",
      "            number = result_counts[result]\n",
      "            proportion = float(number) / float(total_matches)\n",
      "            implied_odds = str(1.0 / proportion) if proportion else 'N/A'\n",
      "            print(\"          '{0}': {1}, {2}, {3}\".format(result, number, proportion, implied_odds))\n",
      "\n",
      "\n",
      "def post_match_odds(matches):\n",
      "    sotr_buckets = collections.defaultdict(result_count_factory)\n",
      "    tsr_buckets = collections.defaultdict(result_count_factory)\n",
      "    for match in matches:\n",
      "        sotr_diff = match.HST - match.AST\n",
      "        sotr_buckets[sotr_diff][match.FTR] += 1\n",
      "        tsr_diff = match.HS - match.AS\n",
      "        tsr_buckets[tsr_diff][match.FTR] += 1\n",
      "    print(\"The sotr buckets:\")\n",
      "    display_buckets(sotr_buckets)\n",
      "    print(\"The tsr buckets:\")\n",
      "    display_buckets(tsr_buckets)\n",
      "        \n",
      "post_match_odds(league_analysis.get_all_matches())"
     ],
     "language": "python",
     "metadata": {},
     "outputs": [
      {
       "output_type": "stream",
       "stream": "stdout",
       "text": [
        "The sotr buckets:\n",
        "Bucket 0\n",
        "          'H': 475, 0.3566066066066066, 2.8042105263157895\n",
        "          'D': 423, 0.31756756756756754, 3.148936170212766\n",
        "          'A': 434, 0.3258258258258258, 3.069124423963134\n",
        "Bucket 1\n",
        "          'H': 561, 0.42243975903614456, 2.3672014260249554\n",
        "          'D': 405, 0.3049698795180723, 3.2790123456790123\n",
        "          'A': 362, 0.27259036144578314, 3.6685082872928176\n",
        "Bucket 2\n",
        "          'H': 639, 0.48081264108352145, 2.07981220657277\n",
        "          'D': 404, 0.3039879608728367, 3.28960396039604\n",
        "          'A': 286, 0.21519939804364183, 4.646853146853147\n",
        "Bucket 3\n",
        "          'H': 587, 0.5516917293233082, 1.8126064735945486\n",
        "          'D': 287, 0.26973684210526316, 3.7073170731707314\n",
        "          'A': 190, 0.17857142857142858, 5.6\n",
        "Bucket 4\n",
        "          'H': 555, 0.6187290969899666, 1.6162162162162161\n",
        "          'D': 200, 0.2229654403567447, 4.485\n",
        "          'A': 142, 0.15830546265328874, 6.316901408450704\n",
        "Bucket 5\n",
        "          'H': 455, 0.6527977044476327, 1.5318681318681318\n",
        "          'D': 154, 0.22094691535150646, 4.525974025974026\n",
        "          'A': 88, 0.12625538020086083, 7.920454545454546\n",
        "Bucket 6\n",
        "          'H': 295, 0.6844547563805105, 1.4610169491525424\n",
        "          'D': 82, 0.1902552204176334, 5.2560975609756095\n",
        "          'A': 54, 0.12529002320185614, 7.981481481481482\n",
        "Bucket 7\n",
        "          'H': 262, 0.7119565217391305, 1.4045801526717556\n",
        "          'D': 75, 0.20380434782608695, 4.906666666666667\n",
        "          'A': 31, 0.08423913043478261, 11.870967741935484\n",
        "Bucket 8\n",
        "          'H': 139, 0.695, 1.4388489208633095\n",
        "          'D': 41, 0.205, 4.878048780487805\n",
        "          'A': 20, 0.1, 10.0\n",
        "Bucket 9\n",
        "          'H': 119, 0.8040540540540541, 1.2436974789915967\n",
        "          'D': 21, 0.14189189189189189, 7.047619047619048\n",
        "          'A': 8, 0.05405405405405406, 18.5\n",
        "Bucket 10\n",
        "          'H': 63, 0.8289473684210527, 1.2063492063492063\n",
        "          'D': 6, 0.07894736842105263, 12.666666666666668\n",
        "          'A': 7, 0.09210526315789473, 10.857142857142858\n",
        "Bucket 11\n",
        "          'H': 39, 0.7959183673469388, 1.2564102564102564\n",
        "          'D': 8, 0.16326530612244897, 6.125000000000001\n",
        "          'A': 2, 0.04081632653061224, 24.500000000000004\n",
        "Bucket 12\n",
        "          'H': 22, 0.6470588235294118, 1.5454545454545454\n",
        "          'D': 6, 0.17647058823529413, 5.666666666666666\n",
        "          'A': 6, 0.17647058823529413, 5.666666666666666\n",
        "Bucket 13\n",
        "          'H': 19, 0.8636363636363636, 1.1578947368421053\n",
        "          'D': 2, 0.09090909090909091, 11.0\n",
        "          'A': 1, 0.045454545454545456, 22.0\n",
        "Bucket 14\n",
        "          'H': 7, 0.6363636363636364, 1.5714285714285714\n",
        "          'D': 3, 0.2727272727272727, 3.666666666666667\n",
        "          'A': 1, 0.09090909090909091, 11.0\n",
        "Bucket 15\n",
        "          'H': 7, 1.0, 1.0\n",
        "          'D': 0, 0.0, N/A\n",
        "          'A': 0, 0.0, N/A\n",
        "Bucket 16\n",
        "          'H': 5, 0.8333333333333334, 1.2\n",
        "          'D': 1, 0.16666666666666666, 6.0\n",
        "          'A': 0, 0.0, N/A\n",
        "Bucket 17\n",
        "          'H': 2, 1.0, 1.0\n",
        "          'D': 0, 0.0, N/A\n",
        "          'A': 0, 0.0, N/A\n",
        "Bucket 21\n",
        "          'H': 1, 1.0, 1.0\n",
        "          'D': 0, 0.0, N/A\n",
        "          'A': 0, 0.0, N/A\n",
        "Bucket -15\n",
        "          'H': 0, 0.0, N/A\n",
        "          'D': 0, 0.0, N/A\n",
        "          'A': 2, 1.0, 1.0\n",
        "Bucket -14\n",
        "          'H': 1, 0.3333333333333333, 3.0\n",
        "          'D': 0, 0.0, N/A\n",
        "          'A': 2, 0.6666666666666666, 1.5\n",
        "Bucket -13\n",
        "          'H': 0, 0.0, N/A\n",
        "          'D': 0, 0.0, N/A\n",
        "          'A': 3, 1.0, 1.0\n",
        "Bucket -12\n",
        "          'H': 0, 0.0, N/A\n",
        "          'D': 0, 0.0, N/A\n",
        "          'A': 8, 1.0, 1.0\n",
        "Bucket -1\n",
        "          'H': 348, 0.29642248722316866, 3.3735632183908044\n",
        "          'D': 365, 0.31090289608177174, 3.2164383561643834\n",
        "          'A': 461, 0.39267461669505965, 2.5466377440347068\n",
        "Bucket -10\n",
        "          'H': 8, 0.2962962962962963, 3.375\n",
        "          'D': 6, 0.2222222222222222, 4.5\n",
        "          'A': 13, 0.48148148148148145, 2.076923076923077\n",
        "Bucket -9\n",
        "          'H': 4, 0.1111111111111111, 9.0\n",
        "          'D': 3, 0.08333333333333333, 12.0\n",
        "          'A': 29, 0.8055555555555556, 1.2413793103448276\n",
        "Bucket -8\n",
        "          'H': 8, 0.10810810810810811, 9.25\n",
        "          'D': 14, 0.1891891891891892, 5.285714285714286\n",
        "          'A': 52, 0.7027027027027027, 1.423076923076923\n",
        "Bucket -7\n",
        "          'H': 19, 0.15079365079365079, 6.631578947368421\n",
        "          'D': 22, 0.1746031746031746, 5.7272727272727275\n",
        "          'A': 85, 0.6746031746031746, 1.4823529411764704\n",
        "Bucket -6\n",
        "          'H': 35, 0.15283842794759825, 6.542857142857143\n",
        "          'D': 48, 0.2096069868995633, 4.770833333333334\n",
        "          'A': 146, 0.6375545851528385, 1.5684931506849313\n",
        "Bucket -5\n",
        "          'H': 51, 0.1513353115727003, 6.607843137254902\n",
        "          'D': 98, 0.29080118694362017, 3.438775510204082\n",
        "          'A': 188, 0.5578635014836796, 1.7925531914893615\n",
        "Bucket -4\n",
        "          'H': 84, 0.1830065359477124, 5.464285714285714\n",
        "          'D': 111, 0.24183006535947713, 4.135135135135135\n",
        "          'A': 264, 0.5751633986928104, 1.7386363636363638\n",
        "Bucket -3\n",
        "          'H': 145, 0.20027624309392264, 4.993103448275862\n",
        "          'D': 200, 0.27624309392265195, 3.6199999999999997\n",
        "          'A': 379, 0.5234806629834254, 1.9102902374670183\n",
        "Bucket -2\n",
        "          'H': 228, 0.2389937106918239, 4.184210526315789\n",
        "          'D': 266, 0.27882599580712786, 3.586466165413534\n",
        "          'A': 460, 0.48218029350104824, 2.0739130434782607\n",
        "Bucket -11\n",
        "          'H': 2, 0.16666666666666666, 6.0\n",
        "          'D': 2, 0.16666666666666666, 6.0\n",
        "          'A': 8, 0.6666666666666666, 1.5\n",
        "The tsr buckets:\n",
        "Bucket 0\n",
        "          'H': 261, 0.37392550143266473, 2.674329501915709\n",
        "          'D': 201, 0.28796561604584525, 3.4726368159203984\n",
        "          'A': 236, 0.33810888252148996, 2.957627118644068\n",
        "Bucket 1\n",
        "          'H': 315, 0.399746192893401, 2.5015873015873016\n",
        "          'D': 228, 0.2893401015228426, 3.456140350877193\n",
        "          'A': 245, 0.31091370558375636, 3.216326530612245\n",
        "Bucket 2\n",
        "          'H': 311, 0.4108322324966975, 2.4340836012861735\n",
        "          'D': 219, 0.2892998678996037, 3.45662100456621\n",
        "          'A': 227, 0.2998678996036988, 3.3348017621145374\n",
        "Bucket 3\n",
        "          'H': 341, 0.45165562913907287, 2.2140762463343107\n",
        "          'D': 204, 0.27019867549668874, 3.700980392156863\n",
        "          'A': 210, 0.2781456953642384, 3.5952380952380953\n",
        "Bucket 4\n",
        "          'H': 329, 0.46013986013986014, 2.1732522796352582\n",
        "          'D': 176, 0.24615384615384617, 4.0625\n",
        "          'A': 210, 0.2937062937062937, 3.4047619047619047\n",
        "Bucket 5\n",
        "          'H': 330, 0.45643153526970953, 2.190909090909091\n",
        "          'D': 193, 0.2669432918395574, 3.7461139896373057\n",
        "          'A': 200, 0.2766251728907331, 3.6149999999999998\n",
        "Bucket 6\n",
        "          'H': 304, 0.49754500818330605, 2.0098684210526314\n",
        "          'D': 150, 0.24549918166939444, 4.073333333333333\n",
        "          'A': 157, 0.2569558101472995, 3.8917197452229297\n",
        "Bucket 7\n",
        "          'H': 313, 0.535042735042735, 1.8690095846645367\n",
        "          'D': 142, 0.24273504273504273, 4.119718309859155\n",
        "          'A': 130, 0.2222222222222222, 4.5\n",
        "Bucket 8\n",
        "          'H': 239, 0.513978494623656, 1.9456066945606691\n",
        "          'D': 124, 0.26666666666666666, 3.75\n",
        "          'A': 102, 0.21935483870967742, 4.5588235294117645\n",
        "Bucket 9\n",
        "          'H': 229, 0.5558252427184466, 1.7991266375545851\n",
        "          'D': 105, 0.25485436893203883, 3.9238095238095236\n",
        "          'A': 78, 0.18932038834951456, 5.282051282051282\n",
        "Bucket 10\n",
        "          'H': 162, 0.525974025974026, 1.9012345679012346\n",
        "          'D': 88, 0.2857142857142857, 3.5\n",
        "          'A': 58, 0.18831168831168832, 5.310344827586206\n",
        "Bucket 11\n",
        "          'H': 136, 0.5230769230769231, 1.9117647058823528\n",
        "          'D': 70, 0.2692307692307692, 3.7142857142857144\n",
        "          'A': 54, 0.2076923076923077, 4.814814814814815\n",
        "Bucket 12\n",
        "          'H': 118, 0.5388127853881278, 1.8559322033898307\n",
        "          'D': 56, 0.2557077625570776, 3.910714285714286\n",
        "          'A': 45, 0.2054794520547945, 4.866666666666667\n",
        "Bucket 13\n",
        "          'H': 109, 0.5647668393782384, 1.7706422018348624\n",
        "          'D': 53, 0.27461139896373055, 3.6415094339622645\n",
        "          'A': 31, 0.16062176165803108, 6.225806451612904\n",
        "Bucket 14\n",
        "          'H': 77, 0.5579710144927537, 1.7922077922077921\n",
        "          'D': 40, 0.2898550724637681, 3.4499999999999997\n",
        "          'A': 21, 0.15217391304347827, 6.571428571428571\n",
        "Bucket 15\n",
        "          'H': 73, 0.6403508771929824, 1.5616438356164384\n",
        "          'D': 24, 0.21052631578947367, 4.75\n",
        "          'A': 17, 0.14912280701754385, 6.705882352941177\n",
        "Bucket 16\n",
        "          'H': 69, 0.69, 1.4492753623188408\n",
        "          'D': 19, 0.19, 5.2631578947368425\n",
        "          'A': 12, 0.12, 8.333333333333334\n",
        "Bucket 17\n",
        "          'H': 50, 0.6410256410256411, 1.5599999999999998\n",
        "          'D': 18, 0.23076923076923078, 4.333333333333333\n",
        "          'A': 10, 0.1282051282051282, 7.800000000000001\n",
        "Bucket 18\n",
        "          'H': 25, 0.7352941176470589, 1.3599999999999999\n",
        "          'D': 2, 0.058823529411764705, 17.0\n",
        "          'A': 7, 0.20588235294117646, 4.857142857142858\n",
        "Bucket 19\n",
        "          'H': 20, 0.625, 1.6\n",
        "          'D': 5, 0.15625, 6.4\n",
        "          'A': 7, 0.21875, 4.571428571428571\n",
        "Bucket 20\n",
        "          'H': 19, 0.6551724137931034, 1.5263157894736843\n",
        "          'D': 4, 0.13793103448275862, 7.25\n",
        "          'A': 6, 0.20689655172413793, 4.833333333333333\n",
        "Bucket 21\n",
        "          'H': 12, 0.5714285714285714, 1.75\n",
        "          'D': 6, 0.2857142857142857, 3.5\n",
        "          'A': 3, 0.14285714285714285, 7.0\n",
        "Bucket 22\n",
        "          'H': 7, 0.875, 1.1428571428571428\n",
        "          'D': 1, 0.125, 8.0\n",
        "          'A': 0, 0.0, N/A\n",
        "Bucket 23\n",
        "          'H': 7, 0.5833333333333334, 1.7142857142857142\n",
        "          'D': 3, 0.25, 4.0\n",
        "          'A': 2, 0.16666666666666666, 6.0\n",
        "Bucket 24\n",
        "          'H': 4, 0.8, 1.25\n",
        "          'D': 0, 0.0, N/A\n",
        "          'A': 1, 0.2, 5.0\n",
        "Bucket 25\n",
        "          'H': 2, 0.4, 2.5\n",
        "          'D': 3, 0.6, 1.6666666666666667\n",
        "          'A': 0, 0.0, N/A\n",
        "Bucket 26\n",
        "          'H': 1, 0.5, 2.0\n",
        "          'D': 1, 0.5, 2.0\n",
        "          'A': 0, 0.0, N/A\n",
        "Bucket 27\n",
        "          'H': 1, 0.5, 2.0\n",
        "          'D': 1, 0.5, 2.0\n",
        "          'A': 0, 0.0, N/A\n",
        "Bucket 28\n",
        "          'H': 3, 1.0, 1.0\n",
        "          'D': 0, 0.0, N/A\n",
        "          'A': 0, 0.0, N/A\n",
        "Bucket 29\n",
        "          'H': 1, 1.0, 1.0\n",
        "          'D': 0, 0.0, N/A\n",
        "          'A': 0, 0.0, N/A\n",
        "Bucket 32\n",
        "          'H': 1, 1.0, 1.0\n",
        "          'D': 0, 0.0, N/A\n",
        "          'A': 0, 0.0, N/A\n",
        "Bucket 38\n",
        "          'H': 0, 0.0, N/A\n",
        "          'D': 1, 1.0, 1.0\n",
        "          'A': 0, 0.0, N/A\n",
        "Bucket 40\n",
        "          'H': 1, 1.0, 1.0\n",
        "          'D': 0, 0.0, N/A\n",
        "          'A': 0, 0.0, N/A\n",
        "Bucket 41\n",
        "          'H': 1, 1.0, 1.0\n",
        "          'D': 0, 0.0, N/A\n",
        "          'A': 0, 0.0, N/A\n",
        "Bucket -11\n",
        "          'H': 24, 0.24489795918367346, 4.083333333333333\n",
        "          'D': 31, 0.3163265306122449, 3.161290322580645\n",
        "          'A': 43, 0.4387755102040816, 2.2790697674418605\n",
        "Bucket -23\n",
        "          'H': 1, 0.5, 2.0\n",
        "          'D': 0, 0.0, N/A\n",
        "          'A': 1, 0.5, 2.0\n",
        "Bucket -21\n",
        "          'H': 0, 0.0, N/A\n",
        "          'D': 0, 0.0, N/A\n",
        "          'A': 2, 1.0, 1.0\n",
        "Bucket -20\n",
        "          'H': 1, 0.3333333333333333, 3.0\n",
        "          'D': 1, 0.3333333333333333, 3.0\n",
        "          'A': 1, 0.3333333333333333, 3.0\n",
        "Bucket -19\n",
        "          'H': 3, 0.3333333333333333, 3.0\n",
        "          'D': 1, 0.1111111111111111, 9.0\n",
        "          'A': 5, 0.5555555555555556, 1.7999999999999998\n",
        "Bucket -18\n",
        "          'H': 2, 0.15384615384615385, 6.5\n",
        "          'D': 2, 0.15384615384615385, 6.5\n",
        "          'A': 9, 0.6923076923076923, 1.4444444444444444\n",
        "Bucket -17\n",
        "          'H': 6, 0.35294117647058826, 2.833333333333333\n",
        "          'D': 2, 0.11764705882352941, 8.5\n",
        "          'A': 9, 0.5294117647058824, 1.8888888888888888\n",
        "Bucket -16\n",
        "          'H': 6, 0.3, 3.3333333333333335\n",
        "          'D': 2, 0.1, 10.0\n",
        "          'A': 12, 0.6, 1.6666666666666667\n",
        "Bucket -15\n",
        "          'H': 7, 0.3684210526315789, 2.7142857142857144\n",
        "          'D': 4, 0.21052631578947367, 4.75\n",
        "          'A': 8, 0.42105263157894735, 2.375\n",
        "Bucket -14\n",
        "          'H': 11, 0.2558139534883721, 3.9090909090909087\n",
        "          'D': 12, 0.27906976744186046, 3.5833333333333335\n",
        "          'A': 20, 0.46511627906976744, 2.15\n",
        "Bucket -13\n",
        "          'H': 8, 0.18181818181818182, 5.5\n",
        "          'D': 15, 0.3409090909090909, 2.9333333333333336\n",
        "          'A': 21, 0.4772727272727273, 2.0952380952380953\n",
        "Bucket -12\n",
        "          'H': 10, 0.13513513513513514, 7.3999999999999995\n",
        "          'D': 27, 0.36486486486486486, 2.740740740740741\n",
        "          'A': 37, 0.5, 2.0\n",
        "Bucket -1\n",
        "          'H': 255, 0.3684971098265896, 2.713725490196078\n",
        "          'D': 196, 0.2832369942196532, 3.530612244897959\n",
        "          'A': 241, 0.34826589595375723, 2.871369294605809\n",
        "Bucket -10\n",
        "          'H': 26, 0.24074074074074073, 4.153846153846154\n",
        "          'D': 32, 0.2962962962962963, 3.375\n",
        "          'A': 50, 0.46296296296296297, 2.16\n",
        "Bucket -9\n",
        "          'H': 44, 0.29333333333333333, 3.409090909090909\n",
        "          'D': 41, 0.2733333333333333, 3.658536585365854\n",
        "          'A': 65, 0.43333333333333335, 2.3076923076923075\n",
        "Bucket -8\n",
        "          'H': 69, 0.34328358208955223, 2.9130434782608696\n",
        "          'D': 48, 0.23880597014925373, 4.1875\n",
        "          'A': 84, 0.417910447761194, 2.392857142857143\n",
        "Bucket -7\n",
        "          'H': 61, 0.25523012552301255, 3.918032786885246\n",
        "          'D': 57, 0.2384937238493724, 4.192982456140351\n",
        "          'A': 121, 0.5062761506276151, 1.9752066115702478\n",
        "Bucket -6\n",
        "          'H': 104, 0.3151515151515151, 3.1730769230769234\n",
        "          'D': 82, 0.24848484848484848, 4.024390243902439\n",
        "          'A': 144, 0.43636363636363634, 2.291666666666667\n",
        "Bucket -5\n",
        "          'H': 121, 0.29876543209876544, 3.3471074380165287\n",
        "          'D': 119, 0.2938271604938272, 3.403361344537815\n",
        "          'A': 165, 0.4074074074074074, 2.4545454545454546\n",
        "Bucket -4\n",
        "          'H': 148, 0.3169164882226981, 3.1554054054054053\n",
        "          'D': 127, 0.27194860813704497, 3.677165354330709\n",
        "          'A': 192, 0.41113490364025695, 2.4322916666666665\n",
        "Bucket -3\n",
        "          'H': 196, 0.35062611806797855, 2.8520408163265305\n",
        "          'D': 165, 0.295169946332737, 3.387878787878788\n",
        "          'A': 198, 0.3542039355992844, 2.8232323232323235\n",
        "Bucket -2\n",
        "          'H': 211, 0.3528428093645485, 2.8341232227488153\n",
        "          'D': 152, 0.25418060200668896, 3.9342105263157894\n",
        "          'A': 235, 0.39297658862876256, 2.5446808510638297\n"
       ]
      }
     ],
     "prompt_number": 21
    },
    {
     "cell_type": "code",
     "collapsed": false,
     "input": [
      "def get_implied_odds(proportions):\n",
      "    return {r: 1.0 / p for r, p in proportions.items()}"
     ],
     "language": "python",
     "metadata": {},
     "outputs": [],
     "prompt_number": 28
    },
    {
     "cell_type": "code",
     "collapsed": false,
     "input": [
      "bucket_counts = sotr_analyser.buckets\n",
      "def bet_based_on_sotr_and_odds(match, home_stats, away_stats):\n",
      "    sotr_diff = home_stats.sotr - away_stats.sotr\n",
      "    bucket = sotr_analyser.get_bucket(sotr_diff)\n",
      "    bucket = min(0.4, max(-0.3, bucket))\n",
      "    result_counts = bucket_counts[bucket]\n",
      "    proportions = sotr_analyser.get_proportions(result_counts)\n",
      "    implied_odds = get_implied_odds(proportions)\n",
      "    differences = [(r, getattr(match, 'BbAv' + r) - implied_odds[r])\n",
      "                   for r in ['H', 'A', 'D']]\n",
      "    sorted_differences = sorted(differences, reverse=True, key=lambda p: p[1])\n",
      "    bet, gain = sorted_differences[1]\n",
      "    if gain > 0.0:\n",
      "        return bet\n",
      "    else:\n",
      "        return None\n",
      "historical_betting(bet_based_on_sotr_and_odds)"
     ],
     "language": "python",
     "metadata": {},
     "outputs": [
      {
       "ename": "AttributeError",
       "evalue": "'SotrAnalyser' object has no attribute 'buckets'",
       "output_type": "pyerr",
       "traceback": [
        "\u001b[1;31m---------------------------------------------------------------------------\u001b[0m\n\u001b[1;31mAttributeError\u001b[0m                            Traceback (most recent call last)",
        "\u001b[1;32m<ipython-input-29-25b33c0ae35d>\u001b[0m in \u001b[0;36m<module>\u001b[1;34m()\u001b[0m\n\u001b[1;32m----> 1\u001b[1;33m \u001b[0mbucket_counts\u001b[0m \u001b[1;33m=\u001b[0m \u001b[0msotr_analyser\u001b[0m\u001b[1;33m.\u001b[0m\u001b[0mbuckets\u001b[0m\u001b[1;33m\u001b[0m\u001b[0m\n\u001b[0m\u001b[0;32m      2\u001b[0m \u001b[1;32mdef\u001b[0m \u001b[0mbet_based_on_sotr_and_odds\u001b[0m\u001b[1;33m(\u001b[0m\u001b[0mmatch\u001b[0m\u001b[1;33m,\u001b[0m \u001b[0mhome_stats\u001b[0m\u001b[1;33m,\u001b[0m \u001b[0maway_stats\u001b[0m\u001b[1;33m)\u001b[0m\u001b[1;33m:\u001b[0m\u001b[1;33m\u001b[0m\u001b[0m\n\u001b[0;32m      3\u001b[0m     \u001b[0msotr_diff\u001b[0m \u001b[1;33m=\u001b[0m \u001b[0mhome_stats\u001b[0m\u001b[1;33m.\u001b[0m\u001b[0msotr\u001b[0m \u001b[1;33m-\u001b[0m \u001b[0maway_stats\u001b[0m\u001b[1;33m.\u001b[0m\u001b[0msotr\u001b[0m\u001b[1;33m\u001b[0m\u001b[0m\n\u001b[0;32m      4\u001b[0m     \u001b[0mbucket\u001b[0m \u001b[1;33m=\u001b[0m \u001b[0msotr_analyser\u001b[0m\u001b[1;33m.\u001b[0m\u001b[0mget_bucket\u001b[0m\u001b[1;33m(\u001b[0m\u001b[0msotr_diff\u001b[0m\u001b[1;33m)\u001b[0m\u001b[1;33m\u001b[0m\u001b[0m\n\u001b[0;32m      5\u001b[0m     \u001b[0mbucket\u001b[0m \u001b[1;33m=\u001b[0m \u001b[0mmin\u001b[0m\u001b[1;33m(\u001b[0m\u001b[1;36m0.4\u001b[0m\u001b[1;33m,\u001b[0m \u001b[0mmax\u001b[0m\u001b[1;33m(\u001b[0m\u001b[1;33m-\u001b[0m\u001b[1;36m0.3\u001b[0m\u001b[1;33m,\u001b[0m \u001b[0mbucket\u001b[0m\u001b[1;33m)\u001b[0m\u001b[1;33m)\u001b[0m\u001b[1;33m\u001b[0m\u001b[0m\n",
        "\u001b[1;31mAttributeError\u001b[0m: 'SotrAnalyser' object has no attribute 'buckets'"
       ]
      }
     ],
     "prompt_number": 29
    },
    {
     "cell_type": "code",
     "collapsed": false,
     "input": [
      "match = epl_leagues[-1].matches[-1]"
     ],
     "language": "python",
     "metadata": {},
     "outputs": [],
     "prompt_number": 30
    },
    {
     "cell_type": "code",
     "collapsed": false,
     "input": [
      "match.BbAvH, match.BbAvA, match.BbAvD"
     ],
     "language": "python",
     "metadata": {},
     "outputs": [
      {
       "metadata": {},
       "output_type": "pyout",
       "prompt_number": 31,
       "text": [
        "(2.05, 3.83, 3.33)"
       ]
      }
     ],
     "prompt_number": 31
    },
    {
     "cell_type": "code",
     "collapsed": false,
     "input": [
      "match.HomeTeam, match.AwayTeam"
     ],
     "language": "python",
     "metadata": {},
     "outputs": [
      {
       "metadata": {},
       "output_type": "pyout",
       "prompt_number": 32,
       "text": [
        "('West Ham', 'West Brom')"
       ]
      }
     ],
     "prompt_number": 32
    }
   ],
   "metadata": {}
  }
 ]
}