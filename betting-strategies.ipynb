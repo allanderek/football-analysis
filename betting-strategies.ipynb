{
 "metadata": {
  "name": "",
  "signature": "sha256:30d5d3bda805f9b47e5475bcbdddc6ed301cd347c34a766183315d2d30b2492b"
 },
 "nbformat": 3,
 "nbformat_minor": 0,
 "worksheets": [
  {
   "cells": [
    {
     "cell_type": "code",
     "collapsed": false,
     "input": [
      "%matplotlib inline\n",
      "from IPython.display import display, HTML\n",
      "import blog.posts.league_analysis as league_analysis\n",
      "import collections"
     ],
     "language": "python",
     "metadata": {},
     "outputs": [],
     "prompt_number": 1
    },
    {
     "cell_type": "code",
     "collapsed": false,
     "input": [
      "league_analysis.parse_all_data()"
     ],
     "language": "python",
     "metadata": {},
     "outputs": [],
     "prompt_number": 2
    },
    {
     "cell_type": "code",
     "collapsed": false,
     "input": [
      "game = league_analysis.epl.matches[0]\n",
      "game.BbAvH, game.BbAvD, game.BbAvA, game.HomeTeam, game.AwayTeam"
     ],
     "language": "python",
     "metadata": {},
     "outputs": [
      {
       "metadata": {},
       "output_type": "pyout",
       "prompt_number": 3,
       "text": [
        "(1.96, 3.48, 3.98, 'Bournemouth', 'Aston Villa')"
       ]
      }
     ],
     "prompt_number": 3
    },
    {
     "cell_type": "code",
     "collapsed": false,
     "input": [
      "def always_home_win(m):\n",
      "    return 'H'\n",
      "def always_away_win(m):\n",
      "    return 'A'\n",
      "def always_draw(m):\n",
      "    return 'D'\n",
      "def always_favourite(m):\n",
      "    return 'H' if m.BbAvH < m.BbAvA else 'A'\n",
      "def always_underdog(m):\n",
      "    return 'H' if m.BbAvH > m.BbAvA else 'A'\n",
      "def relevant_odds(match):\n",
      "    return {'H': match.BbAvH, 'A': match.BbAvA, 'D': match.BbAvD}[match.FTR]\n",
      "def evaluate_betting_strategy(matches, get_bet, commission=0.0):\n",
      "    def evaluate_match(m):\n",
      "        bet = get_bet(m)\n",
      "        if bet == m.FTR:\n",
      "            return (relevant_odds(m) - 1.0) * (1.0 - commission)\n",
      "        else:\n",
      "            return -1.0\n",
      "    return sum([evaluate_match(m) for m in matches])"
     ],
     "language": "python",
     "metadata": {},
     "outputs": [],
     "prompt_number": 4
    },
    {
     "cell_type": "code",
     "collapsed": false,
     "input": [
      "evaluate_betting_strategy(league_analysis.epl.matches, always_home_win)"
     ],
     "language": "python",
     "metadata": {},
     "outputs": [
      {
       "metadata": {},
       "output_type": "pyout",
       "prompt_number": 5,
       "text": [
        "-18.130000000000003"
       ]
      }
     ],
     "prompt_number": 5
    },
    {
     "cell_type": "code",
     "collapsed": false,
     "input": [
      "def evaluate_betting_strategies(matches, title):\n",
      "    home_win_returns = evaluate_betting_strategy(matches, always_home_win)\n",
      "    away_win_returns = evaluate_betting_strategy(matches, always_away_win)\n",
      "    draw_returns = evaluate_betting_strategy(matches, always_draw)\n",
      "    favourite_returns = evaluate_betting_strategy(matches, always_favourite)\n",
      "    underdog_returns = evaluate_betting_strategy(matches, always_underdog)\n",
      "    league_analysis.display_pairs([('League', title),\n",
      "                                   ('Home Win Returns', home_win_returns),\n",
      "                                   ('Away Win Returns', away_win_returns),\n",
      "                                   ('Draw Returns', draw_returns),\n",
      "                                   ('Favourite Returns', favourite_returns),\n",
      "                                   ('Underdog Returns', underdog_returns)])"
     ],
     "language": "python",
     "metadata": {},
     "outputs": [],
     "prompt_number": 6
    },
    {
     "cell_type": "code",
     "collapsed": false,
     "input": [
      "for league_name in ['epl', 'ech', 'elo', 'elt', 'spl']:\n",
      "    leagues = [league_name + '_league']\n",
      "    matches = list(league_analysis.get_all_matches(leagues=leagues))\n",
      "    title = \"{0} League - All years\".format(league_name.upper())\n",
      "    evaluate_betting_strategies(matches, title)\n",
      "\n",
      "for year in league_analysis.all_years:\n",
      "    for league in year.all_leagues:\n",
      "        title = '{0} - {1}'.format(league.title, year.year_name)\n",
      "        evaluate_betting_strategies(league.matches, title)"
     ],
     "language": "python",
     "metadata": {},
     "outputs": [
      {
       "html": [
        "<div style=\"display:inline-block;\"><table>\n",
        "<tr><td>League</td><td>EPL League - All years</td></tr>\n",
        "<tr><td>Home Win Returns</td><td>-96.73000000000002</td></tr>\n",
        "<tr><td>Away Win Returns</td><td>-105.6800000000001</td></tr>\n",
        "<tr><td>Draw Returns</td><td>-131.35999999999999</td></tr>\n",
        "<tr><td>Favourite Returns</td><td>-80.65000000000012</td></tr>\n",
        "<tr><td>Underdog Returns</td><td>-121.75999999999996</td></tr>\n",
        "</table></div>"
       ],
       "metadata": {},
       "output_type": "display_data",
       "text": [
        "<IPython.core.display.HTML at 0x7f560df74a90>"
       ]
      },
      {
       "html": [
        "<div style=\"display:inline-block;\"><table>\n",
        "<tr><td>League</td><td>ECH League - All years</td></tr>\n",
        "<tr><td>Home Win Returns</td><td>-221.52000000000032</td></tr>\n",
        "<tr><td>Away Win Returns</td><td>-189.26999999999995</td></tr>\n",
        "<tr><td>Draw Returns</td><td>-156.62999999999965</td></tr>\n",
        "<tr><td>Favourite Returns</td><td>-200.71000000000012</td></tr>\n",
        "<tr><td>Underdog Returns</td><td>-199.54999999999978</td></tr>\n",
        "</table></div>"
       ],
       "metadata": {},
       "output_type": "display_data",
       "text": [
        "<IPython.core.display.HTML at 0x7f560df74b00>"
       ]
      },
      {
       "html": [
        "<div style=\"display:inline-block;\"><table>\n",
        "<tr><td>League</td><td>ELO League - All years</td></tr>\n",
        "<tr><td>Home Win Returns</td><td>-230.1400000000004</td></tr>\n",
        "<tr><td>Away Win Returns</td><td>-149.11999999999986</td></tr>\n",
        "<tr><td>Draw Returns</td><td>-257.87999999999994</td></tr>\n",
        "<tr><td>Favourite Returns</td><td>-193.27000000000027</td></tr>\n",
        "<tr><td>Underdog Returns</td><td>-178.13000000000002</td></tr>\n",
        "</table></div>"
       ],
       "metadata": {},
       "output_type": "display_data",
       "text": [
        "<IPython.core.display.HTML at 0x7f560df74a90>"
       ]
      },
      {
       "html": [
        "<div style=\"display:inline-block;\"><table>\n",
        "<tr><td>League</td><td>ELT League - All years</td></tr>\n",
        "<tr><td>Home Win Returns</td><td>-257.69000000000017</td></tr>\n",
        "<tr><td>Away Win Returns</td><td>-130.0499999999999</td></tr>\n",
        "<tr><td>Draw Returns</td><td>-209.17000000000002</td></tr>\n",
        "<tr><td>Favourite Returns</td><td>-185.60999999999984</td></tr>\n",
        "<tr><td>Underdog Returns</td><td>-202.08000000000007</td></tr>\n",
        "</table></div>"
       ],
       "metadata": {},
       "output_type": "display_data",
       "text": [
        "<IPython.core.display.HTML at 0x7f560df74b00>"
       ]
      },
      {
       "html": [
        "<div style=\"display:inline-block;\"><table>\n",
        "<tr><td>League</td><td>SPL League - All years</td></tr>\n",
        "<tr><td>Home Win Returns</td><td>-115.3900000000001</td></tr>\n",
        "<tr><td>Away Win Returns</td><td>-37.97000000000001</td></tr>\n",
        "<tr><td>Draw Returns</td><td>-184.08000000000015</td></tr>\n",
        "<tr><td>Favourite Returns</td><td>-47.400000000000055</td></tr>\n",
        "<tr><td>Underdog Returns</td><td>-103.34999999999998</td></tr>\n",
        "</table></div>"
       ],
       "metadata": {},
       "output_type": "display_data",
       "text": [
        "<IPython.core.display.HTML at 0x7f560df74a90>"
       ]
      },
      {
       "html": [
        "<div style=\"display:inline-block;\"><table>\n",
        "<tr><td>League</td><td>premier-league - 1011</td></tr>\n",
        "<tr><td>Home Win Returns</td><td>0.5699999999999976</td></tr>\n",
        "<tr><td>Away Win Returns</td><td>-55.080000000000005</td></tr>\n",
        "<tr><td>Draw Returns</td><td>20.189999999999998</td></tr>\n",
        "<tr><td>Favourite Returns</td><td>-32.989999999999995</td></tr>\n",
        "<tr><td>Underdog Returns</td><td>-21.519999999999996</td></tr>\n",
        "</table></div>"
       ],
       "metadata": {},
       "output_type": "display_data",
       "text": [
        "<IPython.core.display.HTML at 0x7f560df74b00>"
       ]
      },
      {
       "html": [
        "<div style=\"display:inline-block;\"><table>\n",
        "<tr><td>League</td><td>championship - 1011</td></tr>\n",
        "<tr><td>Home Win Returns</td><td>-31.31</td></tr>\n",
        "<tr><td>Away Win Returns</td><td>-45.360000000000014</td></tr>\n",
        "<tr><td>Draw Returns</td><td>-50.839999999999996</td></tr>\n",
        "<tr><td>Favourite Returns</td><td>-28.48</td></tr>\n",
        "<tr><td>Underdog Returns</td><td>-42.95000000000002</td></tr>\n",
        "</table></div>"
       ],
       "metadata": {},
       "output_type": "display_data",
       "text": [
        "<IPython.core.display.HTML at 0x7f560df74b00>"
       ]
      },
      {
       "html": [
        "<div style=\"display:inline-block;\"><table>\n",
        "<tr><td>League</td><td>league-one - 1011</td></tr>\n",
        "<tr><td>Home Win Returns</td><td>-22.420000000000005</td></tr>\n",
        "<tr><td>Away Win Returns</td><td>-23.410000000000014</td></tr>\n",
        "<tr><td>Draw Returns</td><td>-88.91</td></tr>\n",
        "<tr><td>Favourite Returns</td><td>-45.239999999999974</td></tr>\n",
        "<tr><td>Underdog Returns</td><td>-3.1999999999999984</td></tr>\n",
        "</table></div>"
       ],
       "metadata": {},
       "output_type": "display_data",
       "text": [
        "<IPython.core.display.HTML at 0x7f560df74b00>"
       ]
      },
      {
       "html": [
        "<div style=\"display:inline-block;\"><table>\n",
        "<tr><td>League</td><td>league-two - 1011</td></tr>\n",
        "<tr><td>Home Win Returns</td><td>-75.48000000000002</td></tr>\n",
        "<tr><td>Away Win Returns</td><td>-38.40999999999998</td></tr>\n",
        "<tr><td>Draw Returns</td><td>9.829999999999997</td></tr>\n",
        "<tr><td>Favourite Returns</td><td>-60.83000000000003</td></tr>\n",
        "<tr><td>Underdog Returns</td><td>-55.64999999999999</td></tr>\n",
        "</table></div>"
       ],
       "metadata": {},
       "output_type": "display_data",
       "text": [
        "<IPython.core.display.HTML at 0x7f560df74b00>"
       ]
      },
      {
       "html": [
        "<div style=\"display:inline-block;\"><table>\n",
        "<tr><td>League</td><td>scottish-premiership - 1011</td></tr>\n",
        "<tr><td>Home Win Returns</td><td>-36.490000000000016</td></tr>\n",
        "<tr><td>Away Win Returns</td><td>9.619999999999992</td></tr>\n",
        "<tr><td>Draw Returns</td><td>-55.49</td></tr>\n",
        "<tr><td>Favourite Returns</td><td>2.3000000000000034</td></tr>\n",
        "<tr><td>Underdog Returns</td><td>-29.17</td></tr>\n",
        "</table></div>"
       ],
       "metadata": {},
       "output_type": "display_data",
       "text": [
        "<IPython.core.display.HTML at 0x7f560df74b00>"
       ]
      },
      {
       "html": [
        "<div style=\"display:inline-block;\"><table>\n",
        "<tr><td>League</td><td>premier-league - 1112</td></tr>\n",
        "<tr><td>Home Win Returns</td><td>-16.31000000000001</td></tr>\n",
        "<tr><td>Away Win Returns</td><td>7.429999999999991</td></tr>\n",
        "<tr><td>Draw Returns</td><td>-35.77999999999999</td></tr>\n",
        "<tr><td>Favourite Returns</td><td>-33.000000000000014</td></tr>\n",
        "<tr><td>Underdog Returns</td><td>24.120000000000015</td></tr>\n",
        "</table></div>"
       ],
       "metadata": {},
       "output_type": "display_data",
       "text": [
        "<IPython.core.display.HTML at 0x7f560df74b00>"
       ]
      },
      {
       "html": [
        "<div style=\"display:inline-block;\"><table>\n",
        "<tr><td>League</td><td>championship - 1112</td></tr>\n",
        "<tr><td>Home Win Returns</td><td>-50.13</td></tr>\n",
        "<tr><td>Away Win Returns</td><td>-20.760000000000005</td></tr>\n",
        "<tr><td>Draw Returns</td><td>-43.65000000000001</td></tr>\n",
        "<tr><td>Favourite Returns</td><td>-35.83999999999999</td></tr>\n",
        "<tr><td>Underdog Returns</td><td>-32.42999999999999</td></tr>\n",
        "</table></div>"
       ],
       "metadata": {},
       "output_type": "display_data",
       "text": [
        "<IPython.core.display.HTML at 0x7f560df74b00>"
       ]
      },
      {
       "html": [
        "<div style=\"display:inline-block;\"><table>\n",
        "<tr><td>League</td><td>league-one - 1112</td></tr>\n",
        "<tr><td>Home Win Returns</td><td>-69.54000000000003</td></tr>\n",
        "<tr><td>Away Win Returns</td><td>-78.38</td></tr>\n",
        "<tr><td>Draw Returns</td><td>1.9700000000000055</td></tr>\n",
        "<tr><td>Favourite Returns</td><td>-34.45999999999999</td></tr>\n",
        "<tr><td>Underdog Returns</td><td>-113.46000000000002</td></tr>\n",
        "</table></div>"
       ],
       "metadata": {},
       "output_type": "display_data",
       "text": [
        "<IPython.core.display.HTML at 0x7f560df74b00>"
       ]
      },
      {
       "html": [
        "<div style=\"display:inline-block;\"><table>\n",
        "<tr><td>League</td><td>league-two - 1112</td></tr>\n",
        "<tr><td>Home Win Returns</td><td>-29.040000000000028</td></tr>\n",
        "<tr><td>Away Win Returns</td><td>-41.21</td></tr>\n",
        "<tr><td>Draw Returns</td><td>-81.97999999999999</td></tr>\n",
        "<tr><td>Favourite Returns</td><td>-14.110000000000005</td></tr>\n",
        "<tr><td>Underdog Returns</td><td>-56.14</td></tr>\n",
        "</table></div>"
       ],
       "metadata": {},
       "output_type": "display_data",
       "text": [
        "<IPython.core.display.HTML at 0x7f560df74b00>"
       ]
      },
      {
       "html": [
        "<div style=\"display:inline-block;\"><table>\n",
        "<tr><td>League</td><td>scottish-premiership - 1112</td></tr>\n",
        "<tr><td>Home Win Returns</td><td>-40.43999999999998</td></tr>\n",
        "<tr><td>Away Win Returns</td><td>-0.9699999999999993</td></tr>\n",
        "<tr><td>Draw Returns</td><td>-29.90999999999999</td></tr>\n",
        "<tr><td>Favourite Returns</td><td>-12.170000000000007</td></tr>\n",
        "<tr><td>Underdog Returns</td><td>-29.240000000000013</td></tr>\n",
        "</table></div>"
       ],
       "metadata": {},
       "output_type": "display_data",
       "text": [
        "<IPython.core.display.HTML at 0x7f560df74b00>"
       ]
      },
      {
       "html": [
        "<div style=\"display:inline-block;\"><table>\n",
        "<tr><td>League</td><td>premier-league - 1213</td></tr>\n",
        "<tr><td>Home Win Returns</td><td>-47.05000000000003</td></tr>\n",
        "<tr><td>Away Win Returns</td><td>-54.68000000000002</td></tr>\n",
        "<tr><td>Draw Returns</td><td>6.679999999999992</td></tr>\n",
        "<tr><td>Favourite Returns</td><td>-22.140000000000015</td></tr>\n",
        "<tr><td>Underdog Returns</td><td>-79.58999999999997</td></tr>\n",
        "</table></div>"
       ],
       "metadata": {},
       "output_type": "display_data",
       "text": [
        "<IPython.core.display.HTML at 0x7f560df74b00>"
       ]
      },
      {
       "html": [
        "<div style=\"display:inline-block;\"><table>\n",
        "<tr><td>League</td><td>championship - 1213</td></tr>\n",
        "<tr><td>Home Win Returns</td><td>-7.030000000000001</td></tr>\n",
        "<tr><td>Away Win Returns</td><td>-16.729999999999993</td></tr>\n",
        "<tr><td>Draw Returns</td><td>-60.440000000000005</td></tr>\n",
        "<tr><td>Favourite Returns</td><td>-56.39999999999999</td></tr>\n",
        "<tr><td>Underdog Returns</td><td>32.650000000000006</td></tr>\n",
        "</table></div>"
       ],
       "metadata": {},
       "output_type": "display_data",
       "text": [
        "<IPython.core.display.HTML at 0x7f560df74b00>"
       ]
      },
      {
       "html": [
        "<div style=\"display:inline-block;\"><table>\n",
        "<tr><td>League</td><td>league-one - 1213</td></tr>\n",
        "<tr><td>Home Win Returns</td><td>-61.89000000000003</td></tr>\n",
        "<tr><td>Away Win Returns</td><td>6.950000000000005</td></tr>\n",
        "<tr><td>Draw Returns</td><td>-47.26</td></tr>\n",
        "<tr><td>Favourite Returns</td><td>-45.86000000000002</td></tr>\n",
        "<tr><td>Underdog Returns</td><td>-3.839999999999988</td></tr>\n",
        "</table></div>"
       ],
       "metadata": {},
       "output_type": "display_data",
       "text": [
        "<IPython.core.display.HTML at 0x7f560df74b00>"
       ]
      },
      {
       "html": [
        "<div style=\"display:inline-block;\"><table>\n",
        "<tr><td>League</td><td>league-two - 1213</td></tr>\n",
        "<tr><td>Home Win Returns</td><td>-55.36000000000002</td></tr>\n",
        "<tr><td>Away Win Returns</td><td>15.120000000000012</td></tr>\n",
        "<tr><td>Draw Returns</td><td>-53.52000000000004</td></tr>\n",
        "<tr><td>Favourite Returns</td><td>-49.12000000000003</td></tr>\n",
        "<tr><td>Underdog Returns</td><td>8.879999999999995</td></tr>\n",
        "</table></div>"
       ],
       "metadata": {},
       "output_type": "display_data",
       "text": [
        "<IPython.core.display.HTML at 0x7f560df74b00>"
       ]
      },
      {
       "html": [
        "<div style=\"display:inline-block;\"><table>\n",
        "<tr><td>League</td><td>scottish-premiership - 1213</td></tr>\n",
        "<tr><td>Home Win Returns</td><td>-10.739999999999997</td></tr>\n",
        "<tr><td>Away Win Returns</td><td>-22.540000000000006</td></tr>\n",
        "<tr><td>Draw Returns</td><td>22.399999999999995</td></tr>\n",
        "<tr><td>Favourite Returns</td><td>-45.98999999999999</td></tr>\n",
        "<tr><td>Underdog Returns</td><td>12.709999999999996</td></tr>\n",
        "</table></div>"
       ],
       "metadata": {},
       "output_type": "display_data",
       "text": [
        "<IPython.core.display.HTML at 0x7f560df74b00>"
       ]
      },
      {
       "html": [
        "<div style=\"display:inline-block;\"><table>\n",
        "<tr><td>League</td><td>premier-league - 1314</td></tr>\n",
        "<tr><td>Home Win Returns</td><td>-2.6799999999999926</td></tr>\n",
        "<tr><td>Away Win Returns</td><td>-4.820000000000007</td></tr>\n",
        "<tr><td>Draw Returns</td><td>-88.67999999999999</td></tr>\n",
        "<tr><td>Favourite Returns</td><td>27.57</td></tr>\n",
        "<tr><td>Underdog Returns</td><td>-35.070000000000014</td></tr>\n",
        "</table></div>"
       ],
       "metadata": {},
       "output_type": "display_data",
       "text": [
        "<IPython.core.display.HTML at 0x7f560df74b00>"
       ]
      },
      {
       "html": [
        "<div style=\"display:inline-block;\"><table>\n",
        "<tr><td>League</td><td>championship - 1314</td></tr>\n",
        "<tr><td>Home Win Returns</td><td>-65.99000000000004</td></tr>\n",
        "<tr><td>Away Win Returns</td><td>-42.080000000000005</td></tr>\n",
        "<tr><td>Draw Returns</td><td>-23.57</td></tr>\n",
        "<tr><td>Favourite Returns</td><td>-21.720000000000017</td></tr>\n",
        "<tr><td>Underdog Returns</td><td>-83.67000000000003</td></tr>\n",
        "</table></div>"
       ],
       "metadata": {},
       "output_type": "display_data",
       "text": [
        "<IPython.core.display.HTML at 0x7f560df74b00>"
       ]
      },
      {
       "html": [
        "<div style=\"display:inline-block;\"><table>\n",
        "<tr><td>League</td><td>league-one - 1314</td></tr>\n",
        "<tr><td>Home Win Returns</td><td>-18.929999999999993</td></tr>\n",
        "<tr><td>Away Win Returns</td><td>-61.969999999999985</td></tr>\n",
        "<tr><td>Draw Returns</td><td>-72.82</td></tr>\n",
        "<tr><td>Favourite Returns</td><td>3.0800000000000063</td></tr>\n",
        "<tr><td>Underdog Returns</td><td>-78.74999999999999</td></tr>\n",
        "</table></div>"
       ],
       "metadata": {},
       "output_type": "display_data",
       "text": [
        "<IPython.core.display.HTML at 0x7f560df74b00>"
       ]
      },
      {
       "html": [
        "<div style=\"display:inline-block;\"><table>\n",
        "<tr><td>League</td><td>league-two - 1314</td></tr>\n",
        "<tr><td>Home Win Returns</td><td>-86.68999999999993</td></tr>\n",
        "<tr><td>Away Win Returns</td><td>-27.220000000000002</td></tr>\n",
        "<tr><td>Draw Returns</td><td>15.980000000000011</td></tr>\n",
        "<tr><td>Favourite Returns</td><td>-82.35999999999997</td></tr>\n",
        "<tr><td>Underdog Returns</td><td>-31.549999999999986</td></tr>\n",
        "</table></div>"
       ],
       "metadata": {},
       "output_type": "display_data",
       "text": [
        "<IPython.core.display.HTML at 0x7f560df74b00>"
       ]
      },
      {
       "html": [
        "<div style=\"display:inline-block;\"><table>\n",
        "<tr><td>League</td><td>scottish-premiership - 1314</td></tr>\n",
        "<tr><td>Home Win Returns</td><td>-12.900000000000006</td></tr>\n",
        "<tr><td>Away Win Returns</td><td>-22.440000000000005</td></tr>\n",
        "<tr><td>Draw Returns</td><td>-50.95</td></tr>\n",
        "<tr><td>Favourite Returns</td><td>11.969999999999995</td></tr>\n",
        "<tr><td>Underdog Returns</td><td>-47.31</td></tr>\n",
        "</table></div>"
       ],
       "metadata": {},
       "output_type": "display_data",
       "text": [
        "<IPython.core.display.HTML at 0x7f560df74b00>"
       ]
      },
      {
       "html": [
        "<div style=\"display:inline-block;\"><table>\n",
        "<tr><td>League</td><td>premier-league - 1415</td></tr>\n",
        "<tr><td>Home Win Returns</td><td>-13.129999999999987</td></tr>\n",
        "<tr><td>Away Win Returns</td><td>-11.31000000000002</td></tr>\n",
        "<tr><td>Draw Returns</td><td>-41.52</td></tr>\n",
        "<tr><td>Favourite Returns</td><td>-12.630000000000004</td></tr>\n",
        "<tr><td>Underdog Returns</td><td>-11.810000000000027</td></tr>\n",
        "</table></div>"
       ],
       "metadata": {},
       "output_type": "display_data",
       "text": [
        "<IPython.core.display.HTML at 0x7f560df74b00>"
       ]
      },
      {
       "html": [
        "<div style=\"display:inline-block;\"><table>\n",
        "<tr><td>League</td><td>championship - 1415</td></tr>\n",
        "<tr><td>Home Win Returns</td><td>-55.100000000000016</td></tr>\n",
        "<tr><td>Away Win Returns</td><td>-44.18999999999999</td></tr>\n",
        "<tr><td>Draw Returns</td><td>-7.399999999999985</td></tr>\n",
        "<tr><td>Favourite Returns</td><td>-42.17000000000001</td></tr>\n",
        "<tr><td>Underdog Returns</td><td>-54.47000000000007</td></tr>\n",
        "</table></div>"
       ],
       "metadata": {},
       "output_type": "display_data",
       "text": [
        "<IPython.core.display.HTML at 0x7f560df74b00>"
       ]
      },
      {
       "html": [
        "<div style=\"display:inline-block;\"><table>\n",
        "<tr><td>League</td><td>league-one - 1415</td></tr>\n",
        "<tr><td>Home Win Returns</td><td>-51.83000000000003</td></tr>\n",
        "<tr><td>Away Win Returns</td><td>18.96000000000001</td></tr>\n",
        "<tr><td>Draw Returns</td><td>-58.57000000000002</td></tr>\n",
        "<tr><td>Favourite Returns</td><td>-60.76000000000002</td></tr>\n",
        "<tr><td>Underdog Returns</td><td>27.889999999999993</td></tr>\n",
        "</table></div>"
       ],
       "metadata": {},
       "output_type": "display_data",
       "text": [
        "<IPython.core.display.HTML at 0x7f560df74b00>"
       ]
      },
      {
       "html": [
        "<div style=\"display:inline-block;\"><table>\n",
        "<tr><td>League</td><td>league-two - 1415</td></tr>\n",
        "<tr><td>Home Win Returns</td><td>-2.830000000000004</td></tr>\n",
        "<tr><td>Away Win Returns</td><td>-41.200000000000024</td></tr>\n",
        "<tr><td>Draw Returns</td><td>-95.13000000000004</td></tr>\n",
        "<tr><td>Favourite Returns</td><td>24.40999999999999</td></tr>\n",
        "<tr><td>Underdog Returns</td><td>-65.80000000000001</td></tr>\n",
        "</table></div>"
       ],
       "metadata": {},
       "output_type": "display_data",
       "text": [
        "<IPython.core.display.HTML at 0x7f560df74b00>"
       ]
      },
      {
       "html": [
        "<div style=\"display:inline-block;\"><table>\n",
        "<tr><td>League</td><td>scottish-premiership - 1415</td></tr>\n",
        "<tr><td>Home Win Returns</td><td>-5.790000000000001</td></tr>\n",
        "<tr><td>Away Win Returns</td><td>0.06999999999999451</td></tr>\n",
        "<tr><td>Draw Returns</td><td>-66.69999999999999</td></tr>\n",
        "<tr><td>Favourite Returns</td><td>-8.290000000000004</td></tr>\n",
        "<tr><td>Underdog Returns</td><td>2.569999999999993</td></tr>\n",
        "</table></div>"
       ],
       "metadata": {},
       "output_type": "display_data",
       "text": [
        "<IPython.core.display.HTML at 0x7f560df74b00>"
       ]
      },
      {
       "html": [
        "<div style=\"display:inline-block;\"><table>\n",
        "<tr><td>League</td><td>premier-league - 1516</td></tr>\n",
        "<tr><td>Home Win Returns</td><td>-18.130000000000003</td></tr>\n",
        "<tr><td>Away Win Returns</td><td>12.780000000000001</td></tr>\n",
        "<tr><td>Draw Returns</td><td>7.75</td></tr>\n",
        "<tr><td>Favourite Returns</td><td>-7.46</td></tr>\n",
        "<tr><td>Underdog Returns</td><td>2.1099999999999994</td></tr>\n",
        "</table></div>"
       ],
       "metadata": {},
       "output_type": "display_data",
       "text": [
        "<IPython.core.display.HTML at 0x7f560df74b00>"
       ]
      },
      {
       "html": [
        "<div style=\"display:inline-block;\"><table>\n",
        "<tr><td>League</td><td>championship - 1516</td></tr>\n",
        "<tr><td>Home Win Returns</td><td>-11.960000000000003</td></tr>\n",
        "<tr><td>Away Win Returns</td><td>-20.15</td></tr>\n",
        "<tr><td>Draw Returns</td><td>29.269999999999992</td></tr>\n",
        "<tr><td>Favourite Returns</td><td>-16.1</td></tr>\n",
        "<tr><td>Underdog Returns</td><td>-18.68</td></tr>\n",
        "</table></div>"
       ],
       "metadata": {},
       "output_type": "display_data",
       "text": [
        "<IPython.core.display.HTML at 0x7f560df74b00>"
       ]
      },
      {
       "html": [
        "<div style=\"display:inline-block;\"><table>\n",
        "<tr><td>League</td><td>league-one - 1516</td></tr>\n",
        "<tr><td>Home Win Returns</td><td>-5.529999999999999</td></tr>\n",
        "<tr><td>Away Win Returns</td><td>-11.270000000000001</td></tr>\n",
        "<tr><td>Draw Returns</td><td>7.709999999999999</td></tr>\n",
        "<tr><td>Favourite Returns</td><td>-10.03</td></tr>\n",
        "<tr><td>Underdog Returns</td><td>-6.77</td></tr>\n",
        "</table></div>"
       ],
       "metadata": {},
       "output_type": "display_data",
       "text": [
        "<IPython.core.display.HTML at 0x7f560df74b00>"
       ]
      },
      {
       "html": [
        "<div style=\"display:inline-block;\"><table>\n",
        "<tr><td>League</td><td>league-two - 1516</td></tr>\n",
        "<tr><td>Home Win Returns</td><td>-8.290000000000001</td></tr>\n",
        "<tr><td>Away Win Returns</td><td>2.869999999999999</td></tr>\n",
        "<tr><td>Draw Returns</td><td>-4.35</td></tr>\n",
        "<tr><td>Favourite Returns</td><td>-3.6000000000000005</td></tr>\n",
        "<tr><td>Underdog Returns</td><td>-1.8200000000000007</td></tr>\n",
        "</table></div>"
       ],
       "metadata": {},
       "output_type": "display_data",
       "text": [
        "<IPython.core.display.HTML at 0x7f560df74b00>"
       ]
      },
      {
       "html": [
        "<div style=\"display:inline-block;\"><table>\n",
        "<tr><td>League</td><td>scottish-premiership - 1516</td></tr>\n",
        "<tr><td>Home Win Returns</td><td>-9.030000000000003</td></tr>\n",
        "<tr><td>Away Win Returns</td><td>-1.7099999999999986</td></tr>\n",
        "<tr><td>Draw Returns</td><td>-3.429999999999999</td></tr>\n",
        "<tr><td>Favourite Returns</td><td>4.779999999999999</td></tr>\n",
        "<tr><td>Underdog Returns</td><td>-12.91</td></tr>\n",
        "</table></div>"
       ],
       "metadata": {},
       "output_type": "display_data",
       "text": [
        "<IPython.core.display.HTML at 0x7f560df74b00>"
       ]
      }
     ],
     "prompt_number": 7
    },
    {
     "cell_type": "code",
     "collapsed": false,
     "input": [],
     "language": "python",
     "metadata": {},
     "outputs": [],
     "prompt_number": 7
    }
   ],
   "metadata": {}
  }
 ]
}