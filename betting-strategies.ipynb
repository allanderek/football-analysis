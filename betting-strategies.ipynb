{
 "metadata": {
  "name": "",
  "signature": "sha256:c789936031a1a8d68fa3e6c97b01a2112da84d1048a1731c964876d631edefea"
 },
 "nbformat": 3,
 "nbformat_minor": 0,
 "worksheets": [
  {
   "cells": [
    {
     "cell_type": "code",
     "collapsed": false,
     "input": [
      "%matplotlib inline\n",
      "from IPython.display import display, HTML\n",
      "import blog.posts.league_analysis as league_analysis\n",
      "import collections"
     ],
     "language": "python",
     "metadata": {},
     "outputs": [],
     "prompt_number": 1
    },
    {
     "cell_type": "code",
     "collapsed": false,
     "input": [
      "game = league_analysis.epl.matches[0]\n",
      "game.BbAvH, game.BbAvD, game.BbAvA, game.HomeTeam, game.AwayTeam"
     ],
     "language": "python",
     "metadata": {},
     "outputs": [
      {
       "metadata": {},
       "output_type": "pyout",
       "prompt_number": 2,
       "text": [
        "(1.96, 3.48, 3.98, 'Bournemouth', 'Aston Villa')"
       ]
      }
     ],
     "prompt_number": 2
    },
    {
     "cell_type": "code",
     "collapsed": false,
     "input": [
      "def relevant_odds(match):\n",
      "    return {'H': match.BbAvH, 'A': match.BbAvA, 'D': match.BbAvD}[match.FTR]\n",
      "def evaluate_match(m, bet, commission=0.00):\n",
      "        if bet == m.FTR:\n",
      "            return (relevant_odds(m) - 1.0) * (1.0 - commission)\n",
      "        else:\n",
      "            return -1.0"
     ],
     "language": "python",
     "metadata": {},
     "outputs": [],
     "prompt_number": 3
    },
    {
     "cell_type": "code",
     "collapsed": false,
     "input": [
      "def average(values):\n",
      "    return sum(values) / float(len(values))"
     ],
     "language": "python",
     "metadata": {},
     "outputs": [],
     "prompt_number": 4
    },
    {
     "cell_type": "code",
     "collapsed": false,
     "input": [
      "def always_home_win(m):\n",
      "    return 'H'\n",
      "def always_away_win(m):\n",
      "    return 'A'\n",
      "def always_draw(m):\n",
      "    return 'D'\n",
      "def always_favourite(m):\n",
      "    return 'H' if m.BbAvH < m.BbAvA else 'A'\n",
      "def always_underdog(m):\n",
      "    return 'H' if m.BbAvH > m.BbAvA else 'A'\n",
      "def evaluate_betting_strategy(matches, get_bet, commission=0.0):\n",
      "    return sum([evaluate_match(m, get_bet(m), commission=commission) for m in matches])"
     ],
     "language": "python",
     "metadata": {},
     "outputs": [],
     "prompt_number": 5
    },
    {
     "cell_type": "code",
     "collapsed": false,
     "input": [
      "evaluate_betting_strategy(league_analysis.epl.matches, always_home_win)"
     ],
     "language": "python",
     "metadata": {},
     "outputs": [
      {
       "metadata": {},
       "output_type": "pyout",
       "prompt_number": 6,
       "text": [
        "-27.27"
       ]
      }
     ],
     "prompt_number": 6
    },
    {
     "cell_type": "code",
     "collapsed": false,
     "input": [
      "def evaluate_betting_strategies(matches, title):\n",
      "    home_win_returns = evaluate_betting_strategy(matches, always_home_win)\n",
      "    away_win_returns = evaluate_betting_strategy(matches, always_away_win)\n",
      "    draw_returns = evaluate_betting_strategy(matches, always_draw)\n",
      "    favourite_returns = evaluate_betting_strategy(matches, always_favourite)\n",
      "    underdog_returns = evaluate_betting_strategy(matches, always_underdog)\n",
      "    league_analysis.display_pairs([('League', title),\n",
      "                                   ('Home Win Returns', home_win_returns),\n",
      "                                   ('Away Win Returns', away_win_returns),\n",
      "                                   ('Draw Returns', draw_returns),\n",
      "                                   ('Favourite Returns', favourite_returns),\n",
      "                                   ('Underdog Returns', underdog_returns)])"
     ],
     "language": "python",
     "metadata": {},
     "outputs": [],
     "prompt_number": 5
    },
    {
     "cell_type": "code",
     "collapsed": false,
     "input": [
      "for league_name in ['epl', 'ech', 'elo', 'elt', 'spl']:\n",
      "    leagues = [league_name + '_league']\n",
      "    matches = list(league_analysis.get_all_matches(leagues=leagues))\n",
      "    title = \"{0} League - All years\".format(league_name.upper())\n",
      "    evaluate_betting_strategies(matches, title)\n",
      "\n",
      "for year in league_analysis.all_years:\n",
      "    for league in year.all_leagues:\n",
      "\n",
      "        title = '{0} - {1}'.format(league.title, year.year_name)\n",
      "        evaluate_betting_strategies(league.matches, title)"
     ],
     "language": "python",
     "metadata": {},
     "outputs": [
      {
       "html": [
        "<div style=\"display:inline-block;\"><table>\n",
        "<tr><td>League</td><td>EPL League - All years</td></tr>\n",
        "<tr><td>Home Win Returns</td><td>-97.68000000000002</td></tr>\n",
        "<tr><td>Away Win Returns</td><td>-91.52000000000012</td></tr>\n",
        "<tr><td>Draw Returns</td><td>-137.11999999999995</td></tr>\n",
        "<tr><td>Favourite Returns</td><td>-80.99000000000012</td></tr>\n",
        "<tr><td>Underdog Returns</td><td>-108.20999999999998</td></tr>\n",
        "</table></div>"
       ],
       "metadata": {},
       "output_type": "display_data",
       "text": [
        "<IPython.core.display.HTML at 0x7f51cc320eb8>"
       ]
      },
      {
       "html": [
        "<div style=\"display:inline-block;\"><table>\n",
        "<tr><td>League</td><td>ECH League - All years</td></tr>\n",
        "<tr><td>Home Win Returns</td><td>-237.95000000000033</td></tr>\n",
        "<tr><td>Away Win Returns</td><td>-173.64</td></tr>\n",
        "<tr><td>Draw Returns</td><td>-167.64999999999964</td></tr>\n",
        "<tr><td>Favourite Returns</td><td>-216.92000000000013</td></tr>\n",
        "<tr><td>Underdog Returns</td><td>-184.13999999999982</td></tr>\n",
        "</table></div>"
       ],
       "metadata": {},
       "output_type": "display_data",
       "text": [
        "<IPython.core.display.HTML at 0x7f51cc320f28>"
       ]
      },
      {
       "html": [
        "<div style=\"display:inline-block;\"><table>\n",
        "<tr><td>League</td><td>ELO League - All years</td></tr>\n",
        "<tr><td>Home Win Returns</td><td>-240.41000000000042</td></tr>\n",
        "<tr><td>Away Win Returns</td><td>-135.87999999999985</td></tr>\n",
        "<tr><td>Draw Returns</td><td>-272.03000000000003</td></tr>\n",
        "<tr><td>Favourite Returns</td><td>-199.76000000000022</td></tr>\n",
        "<tr><td>Underdog Returns</td><td>-168.67000000000007</td></tr>\n",
        "</table></div>"
       ],
       "metadata": {},
       "output_type": "display_data",
       "text": [
        "<IPython.core.display.HTML at 0x7f51cc320eb8>"
       ]
      },
      {
       "html": [
        "<div style=\"display:inline-block;\"><table>\n",
        "<tr><td>League</td><td>ELT League - All years</td></tr>\n",
        "<tr><td>Home Win Returns</td><td>-271.1900000000003</td></tr>\n",
        "<tr><td>Away Win Returns</td><td>-124.4699999999999</td></tr>\n",
        "<tr><td>Draw Returns</td><td>-214.81</td></tr>\n",
        "<tr><td>Favourite Returns</td><td>-191.09999999999977</td></tr>\n",
        "<tr><td>Underdog Returns</td><td>-204.51000000000005</td></tr>\n",
        "</table></div>"
       ],
       "metadata": {},
       "output_type": "display_data",
       "text": [
        "<IPython.core.display.HTML at 0x7f51cc320f28>"
       ]
      },
      {
       "html": [
        "<div style=\"display:inline-block;\"><table>\n",
        "<tr><td>League</td><td>SPL League - All years</td></tr>\n",
        "<tr><td>Home Win Returns</td><td>-103.9300000000001</td></tr>\n",
        "<tr><td>Away Win Returns</td><td>-50.040000000000006</td></tr>\n",
        "<tr><td>Draw Returns</td><td>-189.78000000000011</td></tr>\n",
        "<tr><td>Favourite Returns</td><td>-47.910000000000046</td></tr>\n",
        "<tr><td>Underdog Returns</td><td>-103.44999999999997</td></tr>\n",
        "</table></div>"
       ],
       "metadata": {},
       "output_type": "display_data",
       "text": [
        "<IPython.core.display.HTML at 0x7f51cc320eb8>"
       ]
      },
      {
       "html": [
        "<div style=\"display:inline-block;\"><table>\n",
        "<tr><td>League</td><td>premier-league - 1011</td></tr>\n",
        "<tr><td>Home Win Returns</td><td>0.5699999999999976</td></tr>\n",
        "<tr><td>Away Win Returns</td><td>-55.080000000000005</td></tr>\n",
        "<tr><td>Draw Returns</td><td>20.189999999999998</td></tr>\n",
        "<tr><td>Favourite Returns</td><td>-32.989999999999995</td></tr>\n",
        "<tr><td>Underdog Returns</td><td>-21.519999999999996</td></tr>\n",
        "</table></div>"
       ],
       "metadata": {},
       "output_type": "display_data",
       "text": [
        "<IPython.core.display.HTML at 0x7f51cc320f28>"
       ]
      },
      {
       "html": [
        "<div style=\"display:inline-block;\"><table>\n",
        "<tr><td>League</td><td>championship - 1011</td></tr>\n",
        "<tr><td>Home Win Returns</td><td>-31.31</td></tr>\n",
        "<tr><td>Away Win Returns</td><td>-45.360000000000014</td></tr>\n",
        "<tr><td>Draw Returns</td><td>-50.839999999999996</td></tr>\n",
        "<tr><td>Favourite Returns</td><td>-28.48</td></tr>\n",
        "<tr><td>Underdog Returns</td><td>-42.95000000000002</td></tr>\n",
        "</table></div>"
       ],
       "metadata": {},
       "output_type": "display_data",
       "text": [
        "<IPython.core.display.HTML at 0x7f51cc320f28>"
       ]
      },
      {
       "html": [
        "<div style=\"display:inline-block;\"><table>\n",
        "<tr><td>League</td><td>league-one - 1011</td></tr>\n",
        "<tr><td>Home Win Returns</td><td>-22.420000000000005</td></tr>\n",
        "<tr><td>Away Win Returns</td><td>-23.410000000000014</td></tr>\n",
        "<tr><td>Draw Returns</td><td>-88.91</td></tr>\n",
        "<tr><td>Favourite Returns</td><td>-45.239999999999974</td></tr>\n",
        "<tr><td>Underdog Returns</td><td>-3.1999999999999984</td></tr>\n",
        "</table></div>"
       ],
       "metadata": {},
       "output_type": "display_data",
       "text": [
        "<IPython.core.display.HTML at 0x7f51cc320f28>"
       ]
      },
      {
       "html": [
        "<div style=\"display:inline-block;\"><table>\n",
        "<tr><td>League</td><td>league-two - 1011</td></tr>\n",
        "<tr><td>Home Win Returns</td><td>-75.48000000000002</td></tr>\n",
        "<tr><td>Away Win Returns</td><td>-38.40999999999998</td></tr>\n",
        "<tr><td>Draw Returns</td><td>9.829999999999997</td></tr>\n",
        "<tr><td>Favourite Returns</td><td>-60.83000000000003</td></tr>\n",
        "<tr><td>Underdog Returns</td><td>-55.64999999999999</td></tr>\n",
        "</table></div>"
       ],
       "metadata": {},
       "output_type": "display_data",
       "text": [
        "<IPython.core.display.HTML at 0x7f51cc320f28>"
       ]
      },
      {
       "html": [
        "<div style=\"display:inline-block;\"><table>\n",
        "<tr><td>League</td><td>scottish-premiership - 1011</td></tr>\n",
        "<tr><td>Home Win Returns</td><td>-36.490000000000016</td></tr>\n",
        "<tr><td>Away Win Returns</td><td>9.619999999999992</td></tr>\n",
        "<tr><td>Draw Returns</td><td>-55.49</td></tr>\n",
        "<tr><td>Favourite Returns</td><td>2.3000000000000034</td></tr>\n",
        "<tr><td>Underdog Returns</td><td>-29.17</td></tr>\n",
        "</table></div>"
       ],
       "metadata": {},
       "output_type": "display_data",
       "text": [
        "<IPython.core.display.HTML at 0x7f51cc320f28>"
       ]
      },
      {
       "html": [
        "<div style=\"display:inline-block;\"><table>\n",
        "<tr><td>League</td><td>premier-league - 1112</td></tr>\n",
        "<tr><td>Home Win Returns</td><td>-16.31000000000001</td></tr>\n",
        "<tr><td>Away Win Returns</td><td>7.429999999999991</td></tr>\n",
        "<tr><td>Draw Returns</td><td>-35.77999999999999</td></tr>\n",
        "<tr><td>Favourite Returns</td><td>-33.000000000000014</td></tr>\n",
        "<tr><td>Underdog Returns</td><td>24.120000000000015</td></tr>\n",
        "</table></div>"
       ],
       "metadata": {},
       "output_type": "display_data",
       "text": [
        "<IPython.core.display.HTML at 0x7f51cc320f28>"
       ]
      },
      {
       "html": [
        "<div style=\"display:inline-block;\"><table>\n",
        "<tr><td>League</td><td>championship - 1112</td></tr>\n",
        "<tr><td>Home Win Returns</td><td>-50.13</td></tr>\n",
        "<tr><td>Away Win Returns</td><td>-20.760000000000005</td></tr>\n",
        "<tr><td>Draw Returns</td><td>-43.65000000000001</td></tr>\n",
        "<tr><td>Favourite Returns</td><td>-35.83999999999999</td></tr>\n",
        "<tr><td>Underdog Returns</td><td>-32.42999999999999</td></tr>\n",
        "</table></div>"
       ],
       "metadata": {},
       "output_type": "display_data",
       "text": [
        "<IPython.core.display.HTML at 0x7f51cc320f28>"
       ]
      },
      {
       "html": [
        "<div style=\"display:inline-block;\"><table>\n",
        "<tr><td>League</td><td>league-one - 1112</td></tr>\n",
        "<tr><td>Home Win Returns</td><td>-69.54000000000003</td></tr>\n",
        "<tr><td>Away Win Returns</td><td>-78.38</td></tr>\n",
        "<tr><td>Draw Returns</td><td>1.9700000000000055</td></tr>\n",
        "<tr><td>Favourite Returns</td><td>-34.45999999999999</td></tr>\n",
        "<tr><td>Underdog Returns</td><td>-113.46000000000002</td></tr>\n",
        "</table></div>"
       ],
       "metadata": {},
       "output_type": "display_data",
       "text": [
        "<IPython.core.display.HTML at 0x7f51cc320f28>"
       ]
      },
      {
       "html": [
        "<div style=\"display:inline-block;\"><table>\n",
        "<tr><td>League</td><td>league-two - 1112</td></tr>\n",
        "<tr><td>Home Win Returns</td><td>-29.040000000000028</td></tr>\n",
        "<tr><td>Away Win Returns</td><td>-41.21</td></tr>\n",
        "<tr><td>Draw Returns</td><td>-81.97999999999999</td></tr>\n",
        "<tr><td>Favourite Returns</td><td>-14.110000000000005</td></tr>\n",
        "<tr><td>Underdog Returns</td><td>-56.14</td></tr>\n",
        "</table></div>"
       ],
       "metadata": {},
       "output_type": "display_data",
       "text": [
        "<IPython.core.display.HTML at 0x7f51cc320f28>"
       ]
      },
      {
       "html": [
        "<div style=\"display:inline-block;\"><table>\n",
        "<tr><td>League</td><td>scottish-premiership - 1112</td></tr>\n",
        "<tr><td>Home Win Returns</td><td>-40.43999999999998</td></tr>\n",
        "<tr><td>Away Win Returns</td><td>-0.9699999999999993</td></tr>\n",
        "<tr><td>Draw Returns</td><td>-29.90999999999999</td></tr>\n",
        "<tr><td>Favourite Returns</td><td>-12.170000000000007</td></tr>\n",
        "<tr><td>Underdog Returns</td><td>-29.240000000000013</td></tr>\n",
        "</table></div>"
       ],
       "metadata": {},
       "output_type": "display_data",
       "text": [
        "<IPython.core.display.HTML at 0x7f51cc320f28>"
       ]
      },
      {
       "html": [
        "<div style=\"display:inline-block;\"><table>\n",
        "<tr><td>League</td><td>premier-league - 1213</td></tr>\n",
        "<tr><td>Home Win Returns</td><td>-47.05000000000003</td></tr>\n",
        "<tr><td>Away Win Returns</td><td>-54.68000000000002</td></tr>\n",
        "<tr><td>Draw Returns</td><td>6.679999999999992</td></tr>\n",
        "<tr><td>Favourite Returns</td><td>-22.140000000000015</td></tr>\n",
        "<tr><td>Underdog Returns</td><td>-79.58999999999997</td></tr>\n",
        "</table></div>"
       ],
       "metadata": {},
       "output_type": "display_data",
       "text": [
        "<IPython.core.display.HTML at 0x7f51cc320f28>"
       ]
      },
      {
       "html": [
        "<div style=\"display:inline-block;\"><table>\n",
        "<tr><td>League</td><td>championship - 1213</td></tr>\n",
        "<tr><td>Home Win Returns</td><td>-7.030000000000001</td></tr>\n",
        "<tr><td>Away Win Returns</td><td>-16.729999999999993</td></tr>\n",
        "<tr><td>Draw Returns</td><td>-60.440000000000005</td></tr>\n",
        "<tr><td>Favourite Returns</td><td>-56.39999999999999</td></tr>\n",
        "<tr><td>Underdog Returns</td><td>32.650000000000006</td></tr>\n",
        "</table></div>"
       ],
       "metadata": {},
       "output_type": "display_data",
       "text": [
        "<IPython.core.display.HTML at 0x7f51cc320f28>"
       ]
      },
      {
       "html": [
        "<div style=\"display:inline-block;\"><table>\n",
        "<tr><td>League</td><td>league-one - 1213</td></tr>\n",
        "<tr><td>Home Win Returns</td><td>-61.89000000000003</td></tr>\n",
        "<tr><td>Away Win Returns</td><td>6.950000000000005</td></tr>\n",
        "<tr><td>Draw Returns</td><td>-47.26</td></tr>\n",
        "<tr><td>Favourite Returns</td><td>-45.86000000000002</td></tr>\n",
        "<tr><td>Underdog Returns</td><td>-3.839999999999988</td></tr>\n",
        "</table></div>"
       ],
       "metadata": {},
       "output_type": "display_data",
       "text": [
        "<IPython.core.display.HTML at 0x7f51cc320f28>"
       ]
      },
      {
       "html": [
        "<div style=\"display:inline-block;\"><table>\n",
        "<tr><td>League</td><td>league-two - 1213</td></tr>\n",
        "<tr><td>Home Win Returns</td><td>-55.36000000000002</td></tr>\n",
        "<tr><td>Away Win Returns</td><td>15.120000000000012</td></tr>\n",
        "<tr><td>Draw Returns</td><td>-53.52000000000004</td></tr>\n",
        "<tr><td>Favourite Returns</td><td>-49.12000000000003</td></tr>\n",
        "<tr><td>Underdog Returns</td><td>8.879999999999995</td></tr>\n",
        "</table></div>"
       ],
       "metadata": {},
       "output_type": "display_data",
       "text": [
        "<IPython.core.display.HTML at 0x7f51cc320f28>"
       ]
      },
      {
       "html": [
        "<div style=\"display:inline-block;\"><table>\n",
        "<tr><td>League</td><td>scottish-premiership - 1213</td></tr>\n",
        "<tr><td>Home Win Returns</td><td>-10.739999999999997</td></tr>\n",
        "<tr><td>Away Win Returns</td><td>-22.540000000000006</td></tr>\n",
        "<tr><td>Draw Returns</td><td>22.399999999999995</td></tr>\n",
        "<tr><td>Favourite Returns</td><td>-45.98999999999999</td></tr>\n",
        "<tr><td>Underdog Returns</td><td>12.709999999999996</td></tr>\n",
        "</table></div>"
       ],
       "metadata": {},
       "output_type": "display_data",
       "text": [
        "<IPython.core.display.HTML at 0x7f51cc320f28>"
       ]
      },
      {
       "html": [
        "<div style=\"display:inline-block;\"><table>\n",
        "<tr><td>League</td><td>premier-league - 1314</td></tr>\n",
        "<tr><td>Home Win Returns</td><td>-2.6799999999999926</td></tr>\n",
        "<tr><td>Away Win Returns</td><td>-4.820000000000007</td></tr>\n",
        "<tr><td>Draw Returns</td><td>-88.67999999999999</td></tr>\n",
        "<tr><td>Favourite Returns</td><td>27.57</td></tr>\n",
        "<tr><td>Underdog Returns</td><td>-35.070000000000014</td></tr>\n",
        "</table></div>"
       ],
       "metadata": {},
       "output_type": "display_data",
       "text": [
        "<IPython.core.display.HTML at 0x7f51cc320f28>"
       ]
      },
      {
       "html": [
        "<div style=\"display:inline-block;\"><table>\n",
        "<tr><td>League</td><td>championship - 1314</td></tr>\n",
        "<tr><td>Home Win Returns</td><td>-65.99000000000004</td></tr>\n",
        "<tr><td>Away Win Returns</td><td>-42.080000000000005</td></tr>\n",
        "<tr><td>Draw Returns</td><td>-23.57</td></tr>\n",
        "<tr><td>Favourite Returns</td><td>-21.720000000000017</td></tr>\n",
        "<tr><td>Underdog Returns</td><td>-83.67000000000003</td></tr>\n",
        "</table></div>"
       ],
       "metadata": {},
       "output_type": "display_data",
       "text": [
        "<IPython.core.display.HTML at 0x7f51cc320f28>"
       ]
      },
      {
       "html": [
        "<div style=\"display:inline-block;\"><table>\n",
        "<tr><td>League</td><td>league-one - 1314</td></tr>\n",
        "<tr><td>Home Win Returns</td><td>-18.929999999999993</td></tr>\n",
        "<tr><td>Away Win Returns</td><td>-61.969999999999985</td></tr>\n",
        "<tr><td>Draw Returns</td><td>-72.82</td></tr>\n",
        "<tr><td>Favourite Returns</td><td>3.0800000000000063</td></tr>\n",
        "<tr><td>Underdog Returns</td><td>-78.74999999999999</td></tr>\n",
        "</table></div>"
       ],
       "metadata": {},
       "output_type": "display_data",
       "text": [
        "<IPython.core.display.HTML at 0x7f51cc320f28>"
       ]
      },
      {
       "html": [
        "<div style=\"display:inline-block;\"><table>\n",
        "<tr><td>League</td><td>league-two - 1314</td></tr>\n",
        "<tr><td>Home Win Returns</td><td>-86.68999999999993</td></tr>\n",
        "<tr><td>Away Win Returns</td><td>-27.220000000000002</td></tr>\n",
        "<tr><td>Draw Returns</td><td>15.980000000000011</td></tr>\n",
        "<tr><td>Favourite Returns</td><td>-82.35999999999997</td></tr>\n",
        "<tr><td>Underdog Returns</td><td>-31.549999999999986</td></tr>\n",
        "</table></div>"
       ],
       "metadata": {},
       "output_type": "display_data",
       "text": [
        "<IPython.core.display.HTML at 0x7f51cc320f28>"
       ]
      },
      {
       "html": [
        "<div style=\"display:inline-block;\"><table>\n",
        "<tr><td>League</td><td>scottish-premiership - 1314</td></tr>\n",
        "<tr><td>Home Win Returns</td><td>-12.900000000000006</td></tr>\n",
        "<tr><td>Away Win Returns</td><td>-22.440000000000005</td></tr>\n",
        "<tr><td>Draw Returns</td><td>-50.95</td></tr>\n",
        "<tr><td>Favourite Returns</td><td>11.969999999999995</td></tr>\n",
        "<tr><td>Underdog Returns</td><td>-47.31</td></tr>\n",
        "</table></div>"
       ],
       "metadata": {},
       "output_type": "display_data",
       "text": [
        "<IPython.core.display.HTML at 0x7f51cc320f28>"
       ]
      },
      {
       "html": [
        "<div style=\"display:inline-block;\"><table>\n",
        "<tr><td>League</td><td>premier-league - 1415</td></tr>\n",
        "<tr><td>Home Win Returns</td><td>-13.129999999999987</td></tr>\n",
        "<tr><td>Away Win Returns</td><td>-11.31000000000002</td></tr>\n",
        "<tr><td>Draw Returns</td><td>-41.52</td></tr>\n",
        "<tr><td>Favourite Returns</td><td>-12.630000000000004</td></tr>\n",
        "<tr><td>Underdog Returns</td><td>-11.810000000000027</td></tr>\n",
        "</table></div>"
       ],
       "metadata": {},
       "output_type": "display_data",
       "text": [
        "<IPython.core.display.HTML at 0x7f51cc320f28>"
       ]
      },
      {
       "html": [
        "<div style=\"display:inline-block;\"><table>\n",
        "<tr><td>League</td><td>championship - 1415</td></tr>\n",
        "<tr><td>Home Win Returns</td><td>-55.100000000000016</td></tr>\n",
        "<tr><td>Away Win Returns</td><td>-44.18999999999999</td></tr>\n",
        "<tr><td>Draw Returns</td><td>-7.399999999999985</td></tr>\n",
        "<tr><td>Favourite Returns</td><td>-42.17000000000001</td></tr>\n",
        "<tr><td>Underdog Returns</td><td>-54.47000000000007</td></tr>\n",
        "</table></div>"
       ],
       "metadata": {},
       "output_type": "display_data",
       "text": [
        "<IPython.core.display.HTML at 0x7f51cc320f28>"
       ]
      },
      {
       "html": [
        "<div style=\"display:inline-block;\"><table>\n",
        "<tr><td>League</td><td>league-one - 1415</td></tr>\n",
        "<tr><td>Home Win Returns</td><td>-51.83000000000003</td></tr>\n",
        "<tr><td>Away Win Returns</td><td>18.96000000000001</td></tr>\n",
        "<tr><td>Draw Returns</td><td>-58.57000000000002</td></tr>\n",
        "<tr><td>Favourite Returns</td><td>-60.76000000000002</td></tr>\n",
        "<tr><td>Underdog Returns</td><td>27.889999999999993</td></tr>\n",
        "</table></div>"
       ],
       "metadata": {},
       "output_type": "display_data",
       "text": [
        "<IPython.core.display.HTML at 0x7f51cc320f28>"
       ]
      },
      {
       "html": [
        "<div style=\"display:inline-block;\"><table>\n",
        "<tr><td>League</td><td>league-two - 1415</td></tr>\n",
        "<tr><td>Home Win Returns</td><td>-2.830000000000004</td></tr>\n",
        "<tr><td>Away Win Returns</td><td>-41.200000000000024</td></tr>\n",
        "<tr><td>Draw Returns</td><td>-95.13000000000004</td></tr>\n",
        "<tr><td>Favourite Returns</td><td>24.40999999999999</td></tr>\n",
        "<tr><td>Underdog Returns</td><td>-65.80000000000001</td></tr>\n",
        "</table></div>"
       ],
       "metadata": {},
       "output_type": "display_data",
       "text": [
        "<IPython.core.display.HTML at 0x7f51cc320f28>"
       ]
      },
      {
       "html": [
        "<div style=\"display:inline-block;\"><table>\n",
        "<tr><td>League</td><td>scottish-premiership - 1415</td></tr>\n",
        "<tr><td>Home Win Returns</td><td>-5.790000000000001</td></tr>\n",
        "<tr><td>Away Win Returns</td><td>0.06999999999999451</td></tr>\n",
        "<tr><td>Draw Returns</td><td>-66.69999999999999</td></tr>\n",
        "<tr><td>Favourite Returns</td><td>-8.290000000000004</td></tr>\n",
        "<tr><td>Underdog Returns</td><td>2.569999999999993</td></tr>\n",
        "</table></div>"
       ],
       "metadata": {},
       "output_type": "display_data",
       "text": [
        "<IPython.core.display.HTML at 0x7f51cc320f28>"
       ]
      },
      {
       "html": [
        "<div style=\"display:inline-block;\"><table>\n",
        "<tr><td>League</td><td>premier-league - 1516</td></tr>\n",
        "<tr><td>Home Win Returns</td><td>-19.08</td></tr>\n",
        "<tr><td>Away Win Returns</td><td>26.94</td></tr>\n",
        "<tr><td>Draw Returns</td><td>1.9899999999999998</td></tr>\n",
        "<tr><td>Favourite Returns</td><td>-7.800000000000004</td></tr>\n",
        "<tr><td>Underdog Returns</td><td>15.659999999999997</td></tr>\n",
        "</table></div>"
       ],
       "metadata": {},
       "output_type": "display_data",
       "text": [
        "<IPython.core.display.HTML at 0x7f51cc320f28>"
       ]
      },
      {
       "html": [
        "<div style=\"display:inline-block;\"><table>\n",
        "<tr><td>League</td><td>championship - 1516</td></tr>\n",
        "<tr><td>Home Win Returns</td><td>-28.39</td></tr>\n",
        "<tr><td>Away Win Returns</td><td>-4.519999999999998</td></tr>\n",
        "<tr><td>Draw Returns</td><td>18.249999999999996</td></tr>\n",
        "<tr><td>Favourite Returns</td><td>-32.31</td></tr>\n",
        "<tr><td>Underdog Returns</td><td>-3.2699999999999996</td></tr>\n",
        "</table></div>"
       ],
       "metadata": {},
       "output_type": "display_data",
       "text": [
        "<IPython.core.display.HTML at 0x7f51cc320f28>"
       ]
      },
      {
       "html": [
        "<div style=\"display:inline-block;\"><table>\n",
        "<tr><td>League</td><td>league-one - 1516</td></tr>\n",
        "<tr><td>Home Win Returns</td><td>-15.799999999999997</td></tr>\n",
        "<tr><td>Away Win Returns</td><td>1.9699999999999998</td></tr>\n",
        "<tr><td>Draw Returns</td><td>-6.4399999999999995</td></tr>\n",
        "<tr><td>Favourite Returns</td><td>-16.519999999999996</td></tr>\n",
        "<tr><td>Underdog Returns</td><td>2.6899999999999995</td></tr>\n",
        "</table></div>"
       ],
       "metadata": {},
       "output_type": "display_data",
       "text": [
        "<IPython.core.display.HTML at 0x7f51cc320f28>"
       ]
      },
      {
       "html": [
        "<div style=\"display:inline-block;\"><table>\n",
        "<tr><td>League</td><td>league-two - 1516</td></tr>\n",
        "<tr><td>Home Win Returns</td><td>-21.79</td></tr>\n",
        "<tr><td>Away Win Returns</td><td>8.45</td></tr>\n",
        "<tr><td>Draw Returns</td><td>-9.990000000000002</td></tr>\n",
        "<tr><td>Favourite Returns</td><td>-9.090000000000002</td></tr>\n",
        "<tr><td>Underdog Returns</td><td>-4.249999999999998</td></tr>\n",
        "</table></div>"
       ],
       "metadata": {},
       "output_type": "display_data",
       "text": [
        "<IPython.core.display.HTML at 0x7f51cc320f28>"
       ]
      },
      {
       "html": [
        "<div style=\"display:inline-block;\"><table>\n",
        "<tr><td>League</td><td>scottish-premiership - 1516</td></tr>\n",
        "<tr><td>Home Win Returns</td><td>2.4299999999999975</td></tr>\n",
        "<tr><td>Away Win Returns</td><td>-13.779999999999998</td></tr>\n",
        "<tr><td>Draw Returns</td><td>-9.129999999999999</td></tr>\n",
        "<tr><td>Favourite Returns</td><td>4.27</td></tr>\n",
        "<tr><td>Underdog Returns</td><td>-13.010000000000002</td></tr>\n",
        "</table></div>"
       ],
       "metadata": {},
       "output_type": "display_data",
       "text": [
        "<IPython.core.display.HTML at 0x7f51cc320f28>"
       ]
      }
     ],
     "prompt_number": 6
    },
    {
     "cell_type": "code",
     "collapsed": false,
     "input": [
      "involved_in_game = league_analysis.involved_in_game\n",
      "date_from_string = league_analysis.date_from_string\n",
      "get_adjusted_stat_dictionary = league_analysis.get_adjusted_stat_dictionary\n",
      "def is_earlier(match1, date):\n",
      "    # TODO: I should really check that it is a couple of days earlier since I tend to bet\n",
      "    # on Friday for even Sunday's games.\n",
      "    return date_from_string(match1.Date) < date\n",
      "\n",
      "class ShortenedLeague(object):\n",
      "    def __init__(self, parent_league, end_date):\n",
      "        self.matches = [m for m in parent_league.matches if is_earlier(m, end_date)]\n",
      "        self.teams = parent_league.teams"
     ],
     "language": "python",
     "metadata": {},
     "outputs": [],
     "prompt_number": 7
    },
    {
     "cell_type": "code",
     "collapsed": false,
     "input": [
      "def get_matches_with_adj_stats(league):\n",
      "    for match in league.matches:\n",
      "        short_league = ShortenedLeague(league, date_from_string(match.Date))\n",
      "        earlier_home_matches = len([m for m in short_league.matches if involved_in_game(match.HomeTeam, m)])\n",
      "        earlier_away_matches = len([m for m in short_league.matches if involved_in_game(match.AwayTeam, m)])\n",
      "        if earlier_home_matches <= 3 or earlier_away_matches <= 3:\n",
      "            continue\n",
      "        \n",
      "        adjusted_shots_for_per_game = get_adjusted_stat_dictionary(league, 'HS', 'AS', 'shots_against')\n",
      "        adjusted_shots_against_per_game = get_adjusted_stat_dictionary(league, 'AS', 'HS', 'shots_for')\n",
      "\n",
      "        def get_adjusted_tsr(team):\n",
      "            shots_for = adjusted_shots_for_per_game[team]\n",
      "            shots_against = adjusted_shots_against_per_game[team]\n",
      "            return shots_for - shots_against\n",
      "\n",
      "        match.adjsr_home = get_adjusted_tsr(match.HomeTeam)\n",
      "        match.adjsr_away = get_adjusted_tsr(match.AwayTeam)\n",
      "\n",
      "        adjusted_sot_for_per_game = get_adjusted_stat_dictionary(league, 'HST', 'AST', 'sot_against')\n",
      "        adjusted_sot_against_per_game = get_adjusted_stat_dictionary(league, 'AST', 'HST', 'sot_for')\n",
      "\n",
      "        def get_adjusted_sotr(team):\n",
      "            shots_for = adjusted_sot_for_per_game[team]\n",
      "            shots_against = adjusted_sot_against_per_game[team]\n",
      "            return shots_for - shots_against\n",
      "\n",
      "        match.adjsotr_home = get_adjusted_sotr(match.HomeTeam)\n",
      "        match.adjsotr_away = get_adjusted_sotr(match.AwayTeam)\n",
      "        \n",
      "    adj_matches = [m for m in league.matches if hasattr(m, 'adjsr_home')]\n",
      "    return adj_matches"
     ],
     "language": "python",
     "metadata": {},
     "outputs": [],
     "prompt_number": 8
    },
    {
     "cell_type": "code",
     "collapsed": false,
     "input": [
      "def graph_adj_stats_matches(league):\n",
      "    def get_avg_adjsr_diff(matches):\n",
      "        return float(sum(m.adjsr_home - m.adjsr_away for m in matches)) / float(len(matches))\n",
      "\n",
      "    \n",
      "    all_scatter_matches = get_matches_with_adj_stats(league)\n",
      "    get_x = lambda m: m.adjsotr_home\n",
      "    get_y = lambda m: m.adjsotr_away\n",
      "    home_win_scatter_matches = [m for m in all_scatter_matches if m.FTR == 'H']\n",
      "    league_analysis.scatter_match_stats(home_win_scatter_matches, xlabel='adjsr_home',\n",
      "                                        ylabel='adjsr_away', title='Home Wins Adjusted SR',\n",
      "                                        get_x_stat=get_x, get_y_stat=get_y, annotate=False)\n",
      "    away_win_scatter_matches = [m for m in all_scatter_matches if m.FTR == 'A']\n",
      "    league_analysis.scatter_match_stats(away_win_scatter_matches, xlabel='adjsr_home',\n",
      "                                        ylabel='adjsr_away', title='Away Wins Adjusted SR',\n",
      "                                        get_x_stat=get_x, get_y_stat=get_y, annotate=False)\n",
      "    draw_scatter_matches = [m for m in all_scatter_matches if m.FTR == 'D']\n",
      "    league_analysis.scatter_match_stats(draw_scatter_matches, xlabel='adjsr_home',\n",
      "                                        ylabel='adjsr_away', title='Draw Adjusted SR',\n",
      "                                        get_x_stat=get_x, get_y_stat=get_y, annotate=False)\n",
      "    print(\"H {0} : A {1} : D {2}\".format(get_avg_adjsr_diff(home_win_scatter_matches),\n",
      "                                         get_avg_adjsr_diff(away_win_scatter_matches),\n",
      "                                         get_avg_adjsr_diff(draw_scatter_matches)))\n",
      "\n",
      "    def get_avg_adjsotr_diff(matches):\n",
      "        return float(sum(m.adjsotr_home - m.adjsotr_away for m in matches)) / float(len(matches))\n",
      "\n",
      "    all_scatter_matches = [m for m in league.matches if hasattr(m, 'adjsotr_home')]\n",
      "    get_x = lambda m: m.adjsotr_home\n",
      "    get_y = lambda m: m.adjsotr_away\n",
      "    home_win_scatter_matches = [m for m in all_scatter_matches if m.FTR == 'H']\n",
      "    league_analysis.scatter_match_stats(home_win_scatter_matches, xlabel='adjsotr_home',\n",
      "                                        ylabel='adjsotr_away', title='Home Wins Adjusted SotR',\n",
      "                                        get_x_stat=get_x, get_y_stat=get_y, annotate=False)\n",
      "    away_win_scatter_matches = [m for m in all_scatter_matches if m.FTR == 'A']\n",
      "    league_analysis.scatter_match_stats(away_win_scatter_matches, xlabel='adjsotr_home',\n",
      "                                        ylabel='adjsotr_away', title='Away Wins Adjusted SotR',\n",
      "                                        get_x_stat=get_x, get_y_stat=get_y, annotate=False)\n",
      "    draw_scatter_matches = [m for m in all_scatter_matches if m.FTR == 'D']\n",
      "    league_analysis.scatter_match_stats(draw_scatter_matches, xlabel='adjsotr_home',\n",
      "                                        ylabel='adjsotr_away', title='Draw Adjusted SotR',\n",
      "                                        get_x_stat=get_x, get_y_stat=get_y, annotate=False)\n",
      "    print(\"H {0} : A {1} : D {2}\".format(get_avg_adjsotr_diff(home_win_scatter_matches),\n",
      "                                         get_avg_adjsotr_diff(away_win_scatter_matches),\n",
      "                                         get_avg_adjsotr_diff(draw_scatter_matches)))\n",
      "\n",
      "    get_x = lambda m: m.adjsotr_home - m.adjsotr_away\n",
      "    get_y = lambda m: {'H': 3, 'D': 1, 'A': 0}[m.FTR]\n",
      "    league_analysis.scatter_match_stats(all_scatter_matches, xlabel='home points',\n",
      "                                        ylabel='sotr diff', title='Home points vs Sotr Diff',\n",
      "                                        get_x_stat=get_x, get_y_stat=get_y, annotate=False)\n",
      "graph_adj_stats_matches(league_analysis.year_201415.epl_league)"
     ],
     "language": "python",
     "metadata": {},
     "outputs": [
      {
       "metadata": {},
       "output_type": "display_data",
       "png": "[encoded data removed]",
       "text": [
        "<matplotlib.figure.Figure at 0x7f51cc3305c0>"
       ]
      },
      {
       "html": [
        "line of best fit:  \n",
        "-0.04946 x - 0.2501"
       ],
       "metadata": {},
       "output_type": "display_data",
       "text": [
        "<IPython.core.display.HTML at 0x7f51cc2a4f28>"
       ]
      },
      {
       "metadata": {},
       "output_type": "display_data",
       "png": "[encoded data removed]",
       "text": [
        "<matplotlib.figure.Figure at 0x7f51cc13cc18>"
       ]
      },
      {
       "html": [
        "line of best fit:  \n",
        "-0.06806 x + 0.5036"
       ],
       "metadata": {},
       "output_type": "display_data",
       "text": [
        "<IPython.core.display.HTML at 0x7f51cc09b9b0>"
       ]
      },
      {
       "metadata": {},
       "output_type": "display_data",
       "png": "[encoded data removed]",
       "text": [
        "<matplotlib.figure.Figure at 0x7f51cc2fb4a8>"
       ]
      },
      {
       "html": [
        "line of best fit:  \n",
        "0.2027 x - 0.1212"
       ],
       "metadata": {},
       "output_type": "display_data",
       "text": [
        "<IPython.core.display.HTML at 0x7f51cc1e0d30>"
       ]
      },
      {
       "output_type": "stream",
       "stream": "stdout",
       "text": [
        "H 1.5559903047091421 : A -2.5883546803433806 : D 0.15778954381289664\n"
       ]
      },
      {
       "metadata": {},
       "output_type": "display_data",
       "png": "[encoded data removed]",
       "text": [
        "<matplotlib.figure.Figure at 0x7f51cc1e0d30>"
       ]
      },
      {
       "html": [
        "line of best fit:  \n",
        "-0.04946 x - 0.2501"
       ],
       "metadata": {},
       "output_type": "display_data",
       "text": [
        "<IPython.core.display.HTML at 0x7f51cc160e10>"
       ]
      },
      {
       "metadata": {},
       "output_type": "display_data",
       "png": "[encoded data removed]",
       "text": [
        "<matplotlib.figure.Figure at 0x7f51c676c0f0>"
       ]
      },
      {
       "html": [
        "line of best fit:  \n",
        "-0.06806 x + 0.5036"
       ],
       "metadata": {},
       "output_type": "display_data",
       "text": [
        "<IPython.core.display.HTML at 0x7f51c656c978>"
       ]
      },
      {
       "metadata": {},
       "output_type": "display_data",
       "png": "[encoded data removed]",
       "text": [
        "<matplotlib.figure.Figure at 0x7f51c6565f98>"
       ]
      },
      {
       "html": [
        "line of best fit:  \n",
        "0.2027 x - 0.1212"
       ],
       "metadata": {},
       "output_type": "display_data",
       "text": [
        "<IPython.core.display.HTML at 0x7f51cc0d87f0>"
       ]
      },
      {
       "output_type": "stream",
       "stream": "stdout",
       "text": [
        "H 0.682479224376731 : A -1.103123885795782 : D 0.028086538798695666\n"
       ]
      },
      {
       "metadata": {},
       "output_type": "display_data",
       "png": "[encoded data removed]",
       "text": [
        "<matplotlib.figure.Figure at 0x7f51cc0d87f0>"
       ]
      },
      {
       "html": [
        "line of best fit:  \n",
        "0.251 x + 1.644"
       ],
       "metadata": {},
       "output_type": "display_data",
       "text": [
        "<IPython.core.display.HTML at 0x7f51cc18be80>"
       ]
      }
     ],
     "prompt_number": 9
    },
    {
     "cell_type": "code",
     "collapsed": false,
     "input": [
      "def analyse_betting(league, get_bet):\n",
      "    sr_home_thres = 1.55\n",
      "    sotr_home_thres = 0.3\n",
      "    sr_away_thres = -2.5\n",
      "    sotr_away_thres = -1.1\n",
      "    sotr_draw_thres = -0.7\n",
      "    \n",
      "    matches = get_matches_with_adj_stats(league)\n",
      "\n",
      "    home_win_bets = sum(1 for m in matches if get_bet(m) == 'H')\n",
      "    away_win_bets = sum(1 for m in matches if get_bet(m) == 'A')\n",
      "    draw_bets = sum(1 for m in matches if get_bet(m) == 'D')\n",
      "    \n",
      "    profit_loss = evaluate_betting_strategy(matches, get_bet, commission=0.05)\n",
      "    return profit_loss, home_win_bets, away_win_bets, draw_bets"
     ],
     "language": "python",
     "metadata": {},
     "outputs": [],
     "prompt_number": 10
    },
    {
     "cell_type": "code",
     "collapsed": false,
     "input": [
      "years = league_analysis.all_years[0:5]\n",
      "def analyse_betting_for_years(get_bet):\n",
      "    for year in years:\n",
      "        print(\"----------{0}------\".format(year.year_name))\n",
      "        for league in year.all_leagues:\n",
      "            profit_loss, home_win_bets, away_win_bets, draw_bets = analyse_betting(league, get_bet)\n",
      "            total_bets = home_win_bets + away_win_bets + draw_bets\n",
      "            home_ratio = home_win_bets / float(total_bets)\n",
      "            draw_ratio = draw_bets / float(total_bets)\n",
      "            away_ratio = away_win_bets / float(total_bets)\n",
      "            print('{0} - {1}, H {2}, D {3}, A {4}'.format(league.title, profit_loss, home_ratio,\n",
      "                                                           draw_ratio, away_ratio))"
     ],
     "language": "python",
     "metadata": {},
     "outputs": [],
     "prompt_number": 11
    },
    {
     "cell_type": "code",
     "collapsed": false,
     "input": [
      "def bet_based_on_adjsotr(match):\n",
      "        sr_diff = match.adjsr_home - match.adjsr_away\n",
      "        sotr_diff = match.adjsotr_home - match.adjsotr_away\n",
      "        if sotr_diff + match.BbAvH > 2.4:\n",
      "            return 'H'\n",
      "        if match.BbAvA - sotr_diff > 4.4:\n",
      "            return 'A'\n",
      "        else:\n",
      "            return 'D'"
     ],
     "language": "python",
     "metadata": {},
     "outputs": [],
     "prompt_number": 13
    },
    {
     "cell_type": "code",
     "collapsed": false,
     "input": [
      "analyse_betting_for_years(bet_based_on_adjsotr)"
     ],
     "language": "python",
     "metadata": {},
     "outputs": [
      {
       "output_type": "stream",
       "stream": "stdout",
       "text": [
        "----------1011------\n",
        "premier-league - -25.31750000000003, H 0.5117647058823529, D 0.15, A 0.3382352941176471"
       ]
      },
      {
       "output_type": "stream",
       "stream": "stdout",
       "text": [
        "\n",
        "championship - -4.068000000000007, H 0.4007936507936508, D 0.4781746031746032, A 0.12103174603174603"
       ]
      },
      {
       "output_type": "stream",
       "stream": "stdout",
       "text": [
        "\n",
        "league-one - -38.059999999999995, H 0.43227091633466136, D 0.33665338645418325, A 0.23107569721115537"
       ]
      },
      {
       "output_type": "stream",
       "stream": "stdout",
       "text": [
        "\n",
        "league-two - 18.070499999999967, H 0.44047619047619047, D 0.4523809523809524, A 0.10714285714285714"
       ]
      },
      {
       "output_type": "stream",
       "stream": "stdout",
       "text": [
        "\n",
        "scottish-premiership - -5.633500000000007, H 0.5245098039215687, D 0.28921568627450983, A 0.18627450980392157"
       ]
      },
      {
       "output_type": "stream",
       "stream": "stdout",
       "text": [
        "\n",
        "----------1112------\n",
        "premier-league - 6.276499999999986, H 0.49262536873156343, D 0.16519174041297935, A 0.3421828908554572"
       ]
      },
      {
       "output_type": "stream",
       "stream": "stdout",
       "text": [
        "\n",
        "championship - -38.504500000000036, H 0.43737574552683894, D 0.33001988071570576, A 0.23260437375745527"
       ]
      },
      {
       "output_type": "stream",
       "stream": "stdout",
       "text": [
        "\n",
        "league-one - 35.088999999999984, H 0.45436507936507936, D 0.4107142857142857, A 0.1349206349206349"
       ]
      },
      {
       "output_type": "stream",
       "stream": "stdout",
       "text": [
        "\n",
        "league-two - -24.932500000000033, H 0.4642857142857143, D 0.4007936507936508, A 0.1349206349206349"
       ]
      },
      {
       "output_type": "stream",
       "stream": "stdout",
       "text": [
        "\n",
        "scottish-premiership - -5.597500000000005, H 0.5742574257425742, D 0.2722772277227723, A 0.15346534653465346"
       ]
      },
      {
       "output_type": "stream",
       "stream": "stdout",
       "text": [
        "\n",
        "----------1213------\n",
        "premier-league - -19.255000000000017, H 0.49262536873156343, D 0.12389380530973451, A 0.3834808259587021"
       ]
      },
      {
       "output_type": "stream",
       "stream": "stdout",
       "text": [
        "\n",
        "championship - 13.872999999999973, H 0.45436507936507936, D 0.4107142857142857, A 0.1349206349206349"
       ]
      },
      {
       "output_type": "stream",
       "stream": "stdout",
       "text": [
        "\n",
        "league-one - -46.201500000000024, H 0.4731610337972167, D 0.30218687872763417, A 0.22465208747514911"
       ]
      },
      {
       "output_type": "stream",
       "stream": "stdout",
       "text": [
        "\n",
        "league-two - -20.381500000000017, H 0.44532803180914515, D 0.4552683896620278, A 0.09940357852882704"
       ]
      },
      {
       "output_type": "stream",
       "stream": "stdout",
       "text": [
        "\n",
        "scottish-premiership - 28.35549999999999, H 0.5615763546798029, D 0.32019704433497537, A 0.11822660098522167"
       ]
      },
      {
       "output_type": "stream",
       "stream": "stdout",
       "text": [
        "\n",
        "----------1314------\n",
        "premier-league - 47.71149999999999, H 0.5764705882352941, D 0.20588235294117646, A 0.21764705882352942"
       ]
      },
      {
       "output_type": "stream",
       "stream": "stdout",
       "text": [
        "\n",
        "championship - -21.49800000000001, H 0.4711729622266402, D 0.3856858846918489, A 0.14314115308151093"
       ]
      },
      {
       "output_type": "stream",
       "stream": "stdout",
       "text": [
        "\n",
        "league-one - 31.532000000000018, H 0.5, D 0.34523809523809523, A 0.15476190476190477"
       ]
      },
      {
       "output_type": "stream",
       "stream": "stdout",
       "text": [
        "\n",
        "league-two - -20.215000000000018, H 0.4662698412698413, D 0.4623015873015873, A 0.07142857142857142"
       ]
      },
      {
       "output_type": "stream",
       "stream": "stdout",
       "text": [
        "\n",
        "scottish-premiership - -17.093500000000006, H 0.5960591133004927, D 0.35960591133004927, A 0.04433497536945813"
       ]
      },
      {
       "output_type": "stream",
       "stream": "stdout",
       "text": [
        "\n",
        "----------1415------\n",
        "premier-league - -20.929000000000002, H 0.5764705882352941, D 0.26176470588235295, A 0.16176470588235295"
       ]
      },
      {
       "output_type": "stream",
       "stream": "stdout",
       "text": [
        "\n",
        "championship - 25.84949999999997, H 0.4801587301587302, D 0.38492063492063494, A 0.1349206349206349"
       ]
      },
      {
       "output_type": "stream",
       "stream": "stdout",
       "text": [
        "\n",
        "league-one - -89.37300000000005, H 0.4880952380952381, D 0.36706349206349204, A 0.14484126984126985"
       ]
      },
      {
       "output_type": "stream",
       "stream": "stdout",
       "text": [
        "\n",
        "league-two - -22.592500000000015, H 0.4861111111111111, D 0.4126984126984127, A 0.10119047619047619"
       ]
      },
      {
       "output_type": "stream",
       "stream": "stdout",
       "text": [
        "\n",
        "scottish-premiership - -34.688, H 0.6206896551724138, D 0.29064039408866993, A 0.08866995073891626"
       ]
      },
      {
       "output_type": "stream",
       "stream": "stdout",
       "text": [
        "\n"
       ]
      }
     ],
     "prompt_number": 14
    },
    {
     "cell_type": "code",
     "collapsed": false,
     "input": [
      "epl_leagues = [league_analysis.year_201011.epl_league,\n",
      "               league_analysis.year_201112.epl_league,\n",
      "               league_analysis.year_201213.epl_league,\n",
      "               league_analysis.year_201314.epl_league,\n",
      "               league_analysis.year_201415.epl_league,\n",
      "               league_analysis.year_201516.epl_league]"
     ],
     "language": "python",
     "metadata": {},
     "outputs": [],
     "prompt_number": 7
    },
    {
     "cell_type": "code",
     "collapsed": false,
     "input": [
      "class BaseAnalyser(object):\n",
      "    def __init__(self, ignore_matches=None):\n",
      "        self.leagues = epl_leagues\n",
      "        self.reset_per_league_stats()\n",
      "        self.ignore_matches = ignore_matches\n",
      "\n",
      "    def valid_match(self, home_stats, away_stats):\n",
      "        \"\"\"Determines whether a match should be evaluated\"\"\"\n",
      "        # If either of the statistics is None then you cannot evaluate the match\n",
      "        if home_stats is None or away_stats is None:\n",
      "            return False\n",
      "        # Otherwise if we have not specified a number of matches to ignore then\n",
      "        # this match can be evaluated.\n",
      "        if self.ignore_matches is None:\n",
      "            return True\n",
      "        # If we have specified a number of matches to ignore, check both teams\n",
      "        # have played at least that many:\n",
      "        if (len(home_stats.games) < self.ignore_matches or\n",
      "            len(away_stats.games) < self.ignore_matches):\n",
      "            return False\n",
      "        return True\n",
      "\n",
      "    def analyse_matches_with_contemporary_stats(self, league):\n",
      "        team_stats = dict()\n",
      "        def update_stats(match, team, stats):\n",
      "            stats = team_stats.get(team, None)\n",
      "            if stats is None:\n",
      "                games = [match]\n",
      "            else:\n",
      "                games = stats.games + [match]\n",
      "            team_stats[team] = league_analysis.TeamStats(team, games)\n",
      "        for match in league.matches:\n",
      "            home_stats = team_stats.get(match.HomeTeam, None)\n",
      "            away_stats = team_stats.get(match.AwayTeam, None)\n",
      "            if self.valid_match(home_stats, away_stats):\n",
      "                self.evaluate_match(match, home_stats, away_stats)\n",
      "\n",
      "            update_stats(match, match.HomeTeam, home_stats)\n",
      "            update_stats(match, match.AwayTeam, away_stats)\n",
      "\n",
      "    def reset_per_league_stats(self):\n",
      "        pass\n",
      "    def display_per_league_results(self):\n",
      "        pass\n",
      "    def analyse_leagues(self):\n",
      "        for league in self.leagues:\n",
      "            self.reset_per_league_stats()\n",
      "            self.analyse_matches_with_contemporary_stats(league)\n",
      "            self.display_per_league_results()\n"
     ],
     "language": "python",
     "metadata": {},
     "outputs": [],
     "prompt_number": 8
    },
    {
     "cell_type": "code",
     "collapsed": false,
     "input": [
      "class HistoricalBetAnalyser(BaseAnalyser):\n",
      "    def __init__(self, get_bet, commission=0.05, ignore_matches=None):\n",
      "        self.leagues = epl_leagues\n",
      "        self.get_bet = get_bet\n",
      "        self.commission=commission\n",
      "        self.total_profit_loss = 0.0\n",
      "        self.reset_per_league_stats()\n",
      "        self.ignore_matches = ignore_matches\n",
      "\n",
      "    def reset_per_league_stats(self):\n",
      "        self.counter = {'H':0, 'A':0, 'D':0}\n",
      "        self.pl_counter = {'H':0.0, 'A':0.0, 'D':0.0}\n",
      "        self.wins_counter = {'H':0, 'A':0, 'D':0}\n",
      "        self.league_profit_loss = 0.0\n",
      "\n",
      "    def evaluate_match(self, match, home_stats, away_stats):\n",
      "        bet = self.get_bet(match, home_stats, away_stats)\n",
      "        if bet is None:\n",
      "            return\n",
      "        self.counter[bet] += 1\n",
      "        profit_loss = evaluate_match(match, bet, commission=self.commission)\n",
      "        self.pl_counter[bet] += profit_loss\n",
      "        if profit_loss > 0.0:\n",
      "            self.wins_counter[bet] += 1\n",
      "        self.league_profit_loss += profit_loss\n",
      "        self.total_profit_loss += profit_loss\n",
      "\n",
      "    def display_per_league_results(self):\n",
      "        print(\"League profit/loss: {0}\".format(self.league_profit_loss))\n",
      "        for result in ['H', 'D', 'A']:\n",
      "            msg_format = \"{0} bets wins {1} out of {2} for profit/loss: {3}\"\n",
      "            print(msg_format.format(result, self.wins_counter[result],\n",
      "                                    self.counter[result], self.pl_counter[result]))\n",
      "    def display_results(self):\n",
      "        print('Total profit loss for all leagues: {0}'.format(self.total_profit_loss))"
     ],
     "language": "python",
     "metadata": {},
     "outputs": [],
     "prompt_number": 9
    },
    {
     "cell_type": "code",
     "collapsed": false,
     "input": [
      "def historical_betting(get_bet):\n",
      "    # leagues = epl_leagues\n",
      "    # total_profit_loss = sum(historical_betting_for_league(league, get_bet)\n",
      "    #                         for league in leagues)\n",
      "    # print('Total profit loss for all leagues: {0}'.format(total_profit_loss))\n",
      "    historical_analyser = HistoricalBetAnalyser(get_bet)\n",
      "    historical_analyser.analyse_leagues()\n",
      "    historical_analyser.display_results()"
     ],
     "language": "python",
     "metadata": {},
     "outputs": [],
     "prompt_number": 10
    },
    {
     "cell_type": "code",
     "collapsed": false,
     "input": [
      "class SotrAnalyser(BaseAnalyser):\n",
      "    def __init__(self):\n",
      "        self.leagues = epl_leagues\n",
      "        self.home_win_sotr_diffs = []\n",
      "        self.away_win_sotr_diffs = []\n",
      "        self.draw_sotr_diffs = []\n",
      "        super(SotrAnalyser, self).__init__()\n",
      "        \n",
      "    def evaluate_match(self, match, home_stats, away_stats):\n",
      "        sotr_diff = home_stats.sotr - away_stats.sotr\n",
      "        if match.FTR == 'H':\n",
      "            self.home_win_sotr_diffs.append(sotr_diff)\n",
      "        elif match.FTR == 'A':\n",
      "            self.away_win_sotr_diffs.append(sotr_diff)\n",
      "        else:\n",
      "            assert match.FTR == 'D'\n",
      "            self.draw_sotr_diffs.append(sotr_diff)\n",
      "    \n",
      "    def display_results(self):\n",
      "        avg_home_win_sotr_diff = average(self.home_win_sotr_diffs)\n",
      "        print('Average home win sotr diff: {0}'.format(avg_home_win_sotr_diff))\n",
      "        avg_away_win_sotr_diff = average(self.away_win_sotr_diffs)\n",
      "        print('Average away win sotr diff: {0}'.format(avg_away_win_sotr_diff))\n",
      "        avg_draw_sotr_diff = average(self.draw_sotr_diffs)\n",
      "        print('Average draw sotr diff: {0}'.format(avg_draw_sotr_diff))\n",
      "\n",
      "sotr_analyser = SotrAnalyser()\n",
      "sotr_analyser.analyse_leagues()\n",
      "sotr_analyser.display_results()\n"
     ],
     "language": "python",
     "metadata": {},
     "outputs": [
      {
       "output_type": "stream",
       "stream": "stdout",
       "text": [
        "Average home win sotr diff: 0.043867089383662794\n",
        "Average away win sotr diff: -0.0681351648881607\n",
        "Average draw sotr diff: -0.022079979194142594\n"
       ]
      }
     ],
     "prompt_number": 11
    },
    {
     "cell_type": "code",
     "collapsed": false,
     "input": [
      "def bet_based_on_pdo(match, home_stats, away_stats):\n",
      "    if home_stats.pdo > away_stats.pdo:\n",
      "        return 'H'\n",
      "    elif away_stats.pdo > home_stats.pdo:\n",
      "        return 'A'\n",
      "    else:\n",
      "        assert home_stats.pdo == away_stats.pdo\n",
      "        return 'D'\n",
      "historical_betting(bet_based_on_pdo)"
     ],
     "language": "python",
     "metadata": {},
     "outputs": [
      {
       "output_type": "stream",
       "stream": "stdout",
       "text": [
        "League profit/loss: -76.09650000000002\n",
        "H bets wins 85 out of 182 for profit/loss: -21.304000000000013\n",
        "D bets wins 0 out of 0 for profit/loss: 0.0\n",
        "A bets wins 45 out of 188 for profit/loss: -54.792500000000004\n",
        "League profit/loss: -50.14000000000001"
       ]
      },
      {
       "output_type": "stream",
       "stream": "stdout",
       "text": [
        "\n",
        "H bets wins 87 out of 177 for profit/loss: -25.94150000000001\n",
        "D bets wins 0 out of 0 for profit/loss: 0.0\n",
        "A bets wins 62 out of 192 for profit/loss: -24.198500000000003\n",
        "League profit/loss: -64.8375"
       ]
      },
      {
       "output_type": "stream",
       "stream": "stdout",
       "text": [
        "\n",
        "H bets wins 79 out of 171 for profit/loss: -38.9235\n",
        "D bets wins 1 out of 1 for profit/loss: 2.2039999999999997\n",
        "A bets wins 62 out of 198 for profit/loss: -28.118000000000002\n",
        "League profit/loss: -59.289000000000044"
       ]
      },
      {
       "output_type": "stream",
       "stream": "stdout",
       "text": [
        "\n",
        "H bets wins 98 out of 183 for profit/loss: -23.648999999999997\n",
        "D bets wins 0 out of 0 for profit/loss: 0.0\n",
        "A bets wins 67 out of 187 for profit/loss: -35.63999999999999\n",
        "League profit/loss: -26.821500000000025"
       ]
      },
      {
       "output_type": "stream",
       "stream": "stdout",
       "text": [
        "\n",
        "H bets wins 100 out of 197 for profit/loss: -9.257999999999997\n",
        "D bets wins 0 out of 0 for profit/loss: 0.0\n",
        "A bets wins 56 out of 173 for profit/loss: -17.56350000000001\n",
        "League profit/loss: 0.966499999999999\n",
        "H bets wins 14 out of 39 for profit/loss: -9.724\n",
        "D bets wins 0 out of 0 for profit/loss: 0.0\n",
        "A bets wins 18 out of 51 for profit/loss: 10.690499999999998\n",
        "Total profit loss for all leagues: -276.2180000000003\n"
       ]
      }
     ],
     "prompt_number": 67
    },
    {
     "cell_type": "code",
     "collapsed": false,
     "input": [
      "def bet_based_on_sotr(match, home_stats, away_stats):\n",
      "    sotr_diff = home_stats.sotr - away_stats.sotr\n",
      "    if sotr_diff > 0.04:\n",
      "        return 'H'\n",
      "    elif sotr_diff < -0.06:\n",
      "        return 'A'\n",
      "    else:\n",
      "        return 'D'\n",
      "historical_betting(bet_based_on_sotr)"
     ],
     "language": "python",
     "metadata": {},
     "outputs": [
      {
       "output_type": "stream",
       "stream": "stdout",
       "text": [
        "League profit/loss: -23.90400000000003\n",
        "H bets wins 87 out of 141 for profit/loss: 1.2424999999999957\n",
        "D bets wins 30 out of 100 for profit/loss: 0.15749999999999753\n",
        "A bets wins 47 out of 129 for profit/loss: -25.304\n",
        "League profit/loss: -15.91050000000001"
       ]
      },
      {
       "output_type": "stream",
       "stream": "stdout",
       "text": [
        "\n",
        "H bets wins 89 out of 141 for profit/loss: -6.903500000000003\n",
        "D bets wins 28 out of 103 for profit/loss: -11.369000000000005\n",
        "A bets wins 59 out of 125 for profit/loss: 2.3619999999999948\n",
        "League profit/loss: -30.07550000000002"
       ]
      },
      {
       "output_type": "stream",
       "stream": "stdout",
       "text": [
        "\n",
        "H bets wins 86 out of 141 for profit/loss: -14.910000000000004\n",
        "D bets wins 26 out of 96 for profit/loss: -11.337500000000002\n",
        "A bets wins 61 out of 133 for profit/loss: -3.828000000000003\n",
        "League profit/loss: -20.001500000000007"
       ]
      },
      {
       "output_type": "stream",
       "stream": "stdout",
       "text": [
        "\n",
        "H bets wins 99 out of 142 for profit/loss: 10.361499999999996\n",
        "D bets wins 18 out of 91 for profit/loss: -32.473000000000006\n",
        "A bets wins 69 out of 137 for profit/loss: 2.1099999999999963\n",
        "League profit/loss: 20.711499999999994"
       ]
      },
      {
       "output_type": "stream",
       "stream": "stdout",
       "text": [
        "\n",
        "H bets wins 95 out of 147 for profit/loss: 1.1809999999999965\n",
        "D bets wins 35 out of 95 for profit/loss: 19.429500000000004\n",
        "A bets wins 62 out of 128 for profit/loss: 0.1009999999999951\n",
        "League profit/loss: 15.873499999999996\n",
        "H bets wins 22 out of 40 for profit/loss: 0.16399999999999926\n",
        "D bets wins 6 out of 20 for profit/loss: 1.9124999999999988\n",
        "A bets wins 16 out of 30 for profit/loss: 13.796999999999999\n",
        "Total profit loss for all leagues: -53.306500000000106\n"
       ]
      }
     ],
     "prompt_number": 72
    },
    {
     "cell_type": "code",
     "collapsed": false,
     "input": [
      "def bet_based_on_tsr(match, home_stats, away_stats):\n",
      "    tsr_diff = home_stats.tsr - away_stats.tsr\n",
      "    if tsr_diff > 0.05:\n",
      "        return 'H'\n",
      "    elif tsr_diff < -0.05:\n",
      "        return 'A'\n",
      "    else:\n",
      "        return 'D'\n",
      "historical_betting(bet_based_on_tsr)"
     ],
     "language": "python",
     "metadata": {},
     "outputs": [
      {
       "output_type": "stream",
       "stream": "stdout",
       "text": [
        "League profit/loss: -18.540500000000005\n",
        "H bets wins 68 out of 111 for profit/loss: -3.974\n",
        "D bets wins 39 out of 130 for profit/loss: 6.45099999999999\n",
        "A bets wins 44 out of 129 for profit/loss: -21.017500000000002\n",
        "League profit/loss: -13.420000000000005"
       ]
      },
      {
       "output_type": "stream",
       "stream": "stdout",
       "text": [
        "\n",
        "H bets wins 74 out of 110 for profit/loss: -1.6955000000000036\n",
        "D bets wins 37 out of 137 for profit/loss: -13.094000000000001\n",
        "A bets wins 58 out of 122 for profit/loss: 1.369499999999996\n",
        "League profit/loss: -25.425500000000028"
       ]
      },
      {
       "output_type": "stream",
       "stream": "stdout",
       "text": [
        "\n",
        "H bets wins 78 out of 122 for profit/loss: -9.866500000000004\n",
        "D bets wins 31 out of 106 for profit/loss: -3.6075000000000026\n",
        "A bets wins 62 out of 142 for profit/loss: -11.951500000000006\n",
        "League profit/loss: -8.063000000000002"
       ]
      },
      {
       "output_type": "stream",
       "stream": "stdout",
       "text": [
        "\n",
        "H bets wins 86 out of 127 for profit/loss: 2.718999999999998\n",
        "D bets wins 24 out of 104 for profit/loss: -26.135000000000005\n",
        "A bets wins 71 out of 139 for profit/loss: 15.352999999999996\n",
        "League profit/loss: -7.620000000000004"
       ]
      },
      {
       "output_type": "stream",
       "stream": "stdout",
       "text": [
        "\n",
        "H bets wins 83 out of 125 for profit/loss: 3.7329999999999983\n",
        "D bets wins 29 out of 111 for profit/loss: -16.4215\n",
        "A bets wins 60 out of 134 for profit/loss: 5.0685\n",
        "League profit/loss: 6.266499999999999\n",
        "H bets wins 18 out of 35 for profit/loss: -3.719000000000002\n",
        "D bets wins 7 out of 20 for profit/loss: 3.0455000000000005\n",
        "A bets wins 18 out of 35 for profit/loss: 6.94\n",
        "Total profit loss for all leagues: -66.80250000000001\n"
       ]
      }
     ],
     "prompt_number": 70
    },
    {
     "cell_type": "code",
     "collapsed": false,
     "input": [
      "def bet_based_on_tsr_and_sotr(match, home_stats, away_stats):\n",
      "    tsr_diff = home_stats.tsr - away_stats.tsr\n",
      "    sotr_diff = home_stats.sotr - away_stats.sotr\n",
      "    if sotr_diff > 0.1:\n",
      "        return 'H'\n",
      "    if (tsr_diff > 0.0 and sotr_diff < 0.0) or (tsr_diff < 0.0 and sotr_diff > 0.0):\n",
      "        return 'D'\n",
      "    elif sotr_diff > -0.05:\n",
      "        return 'H'\n",
      "    elif sotr_diff < -0.1:\n",
      "        return 'A'\n",
      "    else:\n",
      "        return 'D'\n",
      "historical_betting(bet_based_on_tsr_and_sotr)"
     ],
     "language": "python",
     "metadata": {},
     "outputs": [
      {
       "output_type": "stream",
       "stream": "stdout",
       "text": [
        "League profit/loss: 3.992499999999988\n",
        "H bets wins 119 out of 204 for profit/loss: 7.292499999999995\n",
        "D bets wins 25 out of 71 for profit/loss: 12.272999999999998\n",
        "A bets wins 37 out of 95 for profit/loss: -15.573000000000004\n",
        "League profit/loss: -23.826000000000025"
       ]
      },
      {
       "output_type": "stream",
       "stream": "stdout",
       "text": [
        "\n",
        "H bets wins 112 out of 200 for profit/loss: -16.740500000000015\n",
        "D bets wins 22 out of 79 for profit/loss: -7.476500000000004\n",
        "A bets wins 45 out of 90 for profit/loss: 0.3909999999999991\n",
        "League profit/loss: -10.397000000000013"
       ]
      },
      {
       "output_type": "stream",
       "stream": "stdout",
       "text": [
        "\n",
        "H bets wins 114 out of 196 for profit/loss: -12.94450000000001\n",
        "D bets wins 23 out of 79 for profit/loss: -4.073000000000007\n",
        "A bets wins 49 out of 95 for profit/loss: 6.620499999999997\n",
        "League profit/loss: 6.571999999999986"
       ]
      },
      {
       "output_type": "stream",
       "stream": "stdout",
       "text": [
        "\n",
        "H bets wins 126 out of 197 for profit/loss: 10.4815\n",
        "D bets wins 18 out of 73 for profit/loss: -14.720000000000002\n",
        "A bets wins 58 out of 100 for profit/loss: 10.810499999999998\n",
        "League profit/loss: -0.11050000000002136"
       ]
      },
      {
       "output_type": "stream",
       "stream": "stdout",
       "text": [
        "\n",
        "H bets wins 113 out of 195 for profit/loss: -4.575000000000004\n",
        "D bets wins 28 out of 84 for profit/loss: 7.042000000000002\n",
        "A bets wins 48 out of 91 for profit/loss: -2.5775000000000023\n",
        "League profit/loss: 1.4994999999999994\n",
        "H bets wins 24 out of 52 for profit/loss: -7.993\n",
        "D bets wins 4 out of 14 for profit/loss: -0.45250000000000057\n",
        "A bets wins 12 out of 24 for profit/loss: 9.945\n",
        "Total profit loss for all leagues: -22.26950000000004\n"
       ]
      }
     ],
     "prompt_number": 73
    },
    {
     "cell_type": "code",
     "collapsed": false,
     "input": [
      "import numpy\n",
      "import scipy.optimize as optimize"
     ],
     "language": "python",
     "metadata": {},
     "outputs": [],
     "prompt_number": 75
    },
    {
     "cell_type": "code",
     "collapsed": false,
     "input": [
      "class SilentHistoricalBetAnalyser(HistoricalBetAnalyser):\n",
      "    def display_per_league_results(self):\n",
      "        pass\n",
      "    def display_results(self):\n",
      "        pass"
     ],
     "language": "python",
     "metadata": {},
     "outputs": [],
     "prompt_number": 12
    },
    {
     "cell_type": "code",
     "collapsed": false,
     "input": [
      "def create_get_bet_based_on_sotr(input_array):\n",
      "    home_threshold = input_array[0]\n",
      "    away_threshold = input_array[1]\n",
      "    def bet_based_on_tsr_and_sotr(match, home_stats, away_stats):\n",
      "        tsr_diff = home_stats.tsr - away_stats.tsr\n",
      "        sotr_diff = home_stats.sotr - away_stats.sotr\n",
      "        if sotr_diff > home_threshold:\n",
      "            return 'H'\n",
      "        elif sotr_diff < away_threshold:\n",
      "            return 'A'\n",
      "        else:\n",
      "            return 'D'\n",
      "    return bet_based_on_tsr_and_sotr\n",
      "\n",
      "def evaluate_thresholds(input_array):\n",
      "    get_bet = create_get_bet_based_on_sotr(input_array)\n",
      "    historical_better = SilentHistoricalBetAnalyser(get_bet)\n",
      "    historical_better.analyse_leagues()\n",
      "    # print(input_array)\n",
      "    # print(historical_better.total_profit_loss)\n",
      "    return 0 - historical_better.total_profit_loss\n",
      "\n",
      "x0 = numpy.array([0.01, -0.02])\n",
      "bounds = [(-0.9, 0.9), (-0.9, 0.9)]\n",
      "result = optimize.minimize(evaluate_thresholds, x0, method='L-BFGS-B', bounds=bounds)\n",
      "result.x"
     ],
     "language": "python",
     "metadata": {},
     "outputs": [
      {
       "output_type": "stream",
       "stream": "stdout",
       "text": [
        "[ 0.01 -0.02]\n",
        "-81.26850000000017\n",
        "[ 0.01000001 -0.02      ]"
       ]
      },
      {
       "output_type": "stream",
       "stream": "stdout",
       "text": [
        "\n",
        "-81.26850000000017\n",
        "[ 0.01       -0.01999999]"
       ]
      },
      {
       "output_type": "stream",
       "stream": "stdout",
       "text": [
        "\n",
        "-81.26850000000017\n"
       ]
      },
      {
       "metadata": {},
       "output_type": "pyout",
       "prompt_number": 93,
       "text": [
        "array([ 0.01, -0.02])"
       ]
      }
     ],
     "prompt_number": 93
    },
    {
     "cell_type": "code",
     "collapsed": false,
     "input": [
      "result"
     ],
     "language": "python",
     "metadata": {},
     "outputs": [
      {
       "metadata": {},
       "output_type": "pyout",
       "prompt_number": 90,
       "text": [
        " success: True\n",
        "   direc: array([[ 1.,  0.],\n",
        "       [ 0.,  1.]])\n",
        "       x: array([ -0.07172535,  10.33171585])\n",
        "     fun: array(39.924000000000035)\n",
        " message: 'Optimization terminated successfully.'\n",
        "  status: 0\n",
        "    nfev: 150\n",
        "     nit: 4"
       ]
      }
     ],
     "prompt_number": 90
    },
    {
     "cell_type": "code",
     "collapsed": false,
     "input": [
      "historical_betting(create_get_bet_based_on_sotr(result.x))"
     ],
     "language": "python",
     "metadata": {},
     "outputs": [
      {
       "output_type": "stream",
       "stream": "stdout",
       "text": [
        "League profit/loss: -26.53350000000002\n",
        "H bets wins 137 out of 252 for profit/loss: -2.9950000000000045\n",
        "D bets wins 0 out of 0 for profit/loss: 0.0\n",
        "A bets wins 43 out of 118 for profit/loss: -23.5385\n",
        "League profit/loss: -13.718500000000024"
       ]
      },
      {
       "output_type": "stream",
       "stream": "stdout",
       "text": [
        "\n",
        "H bets wins 139 out of 257 for profit/loss: -16.093500000000017\n",
        "D bets wins 0 out of 0 for profit/loss: 0.0\n",
        "A bets wins 55 out of 112 for profit/loss: 2.3749999999999973\n",
        "League profit/loss: -12.383500000000017"
       ]
      },
      {
       "output_type": "stream",
       "stream": "stdout",
       "text": [
        "\n",
        "H bets wins 138 out of 250 for profit/loss: -15.195000000000011\n",
        "D bets wins 0 out of 0 for profit/loss: 0.0\n",
        "A bets wins 59 out of 120 for profit/loss: 2.8114999999999952\n",
        "League profit/loss: 15.066499999999994"
       ]
      },
      {
       "output_type": "stream",
       "stream": "stdout",
       "text": [
        "\n",
        "H bets wins 146 out of 242 for profit/loss: 7.397999999999993\n",
        "D bets wins 0 out of 0 for profit/loss: 0.0\n",
        "A bets wins 68 out of 128 for profit/loss: 7.668499999999997\n",
        "League profit/loss: -6.358000000000001"
       ]
      },
      {
       "output_type": "stream",
       "stream": "stdout",
       "text": [
        "\n",
        "H bets wins 140 out of 256 for profit/loss: -10.150999999999994\n",
        "D bets wins 0 out of 0 for profit/loss: 0.0\n",
        "A bets wins 58 out of 114 for profit/loss: 3.7929999999999957\n",
        "League profit/loss: 4.002999999999998\n",
        "H bets wins 28 out of 63 for profit/loss: -8.837000000000003\n",
        "D bets wins 0 out of 0 for profit/loss: 0.0\n",
        "A bets wins 14 out of 27 for profit/loss: 12.840000000000003\n",
        "Total profit loss for all leagues: -39.924000000000035\n"
       ]
      }
     ],
     "prompt_number": 91
    },
    {
     "cell_type": "code",
     "collapsed": false,
     "input": [
      "import itertools"
     ],
     "language": "python",
     "metadata": {},
     "outputs": [],
     "prompt_number": 94
    },
    {
     "cell_type": "code",
     "collapsed": false,
     "input": [
      "values = numpy.arange(-0.3, 0.3, 0.05)"
     ],
     "language": "python",
     "metadata": {},
     "outputs": [],
     "prompt_number": 106
    },
    {
     "cell_type": "code",
     "collapsed": false,
     "input": [
      "possible_input_arrays = itertools.product(values, repeat=2)"
     ],
     "language": "python",
     "metadata": {},
     "outputs": [],
     "prompt_number": 109
    },
    {
     "cell_type": "code",
     "collapsed": false,
     "input": [
      "results = [(p, evaluate_thresholds(p)) for p in possible_input_arrays]\n",
      "sorted(results, key=lambda p: p[1], reverse=True)"
     ],
     "language": "python",
     "metadata": {},
     "outputs": [
      {
       "output_type": "stream",
       "stream": "stdout",
       "text": [
        "(-0.29999999999999999, -0.29999999999999999)\n",
        "-152.20600000000005\n",
        "(-0.29999999999999999, -0.25)"
       ]
      },
      {
       "output_type": "stream",
       "stream": "stdout",
       "text": [
        "\n",
        "-152.20600000000005\n",
        "(-0.29999999999999999, -0.20000000000000001)"
       ]
      },
      {
       "output_type": "stream",
       "stream": "stdout",
       "text": [
        "\n",
        "-152.20600000000005\n",
        "(-0.29999999999999999, -0.15000000000000002)"
       ]
      },
      {
       "output_type": "stream",
       "stream": "stdout",
       "text": [
        "\n",
        "-152.20600000000005\n",
        "(-0.29999999999999999, -0.10000000000000003)"
       ]
      },
      {
       "output_type": "stream",
       "stream": "stdout",
       "text": [
        "\n",
        "-152.20600000000005\n",
        "(-0.29999999999999999, -0.050000000000000044)"
       ]
      },
      {
       "output_type": "stream",
       "stream": "stdout",
       "text": [
        "\n",
        "-152.20600000000005\n",
        "(-0.29999999999999999, -5.5511151231257827e-17)"
       ]
      },
      {
       "output_type": "stream",
       "stream": "stdout",
       "text": [
        "\n",
        "-152.20600000000005\n",
        "(-0.29999999999999999, 0.049999999999999933)"
       ]
      },
      {
       "output_type": "stream",
       "stream": "stdout",
       "text": [
        "\n",
        "-152.20600000000005\n",
        "(-0.29999999999999999, 0.099999999999999922)"
       ]
      },
      {
       "output_type": "stream",
       "stream": "stdout",
       "text": [
        "\n",
        "-152.20600000000005\n",
        "(-0.29999999999999999, 0.14999999999999991)"
       ]
      },
      {
       "output_type": "stream",
       "stream": "stdout",
       "text": [
        "\n",
        "-152.20600000000005\n",
        "(-0.29999999999999999, 0.1999999999999999)"
       ]
      },
      {
       "output_type": "stream",
       "stream": "stdout",
       "text": [
        "\n",
        "-152.20600000000005\n",
        "(-0.29999999999999999, 0.24999999999999983)"
       ]
      },
      {
       "output_type": "stream",
       "stream": "stdout",
       "text": [
        "\n",
        "-152.20600000000005\n",
        "(-0.25, -0.29999999999999999)"
       ]
      },
      {
       "output_type": "stream",
       "stream": "stdout",
       "text": [
        "\n",
        "-131.52600000000012\n",
        "(-0.25, -0.25)"
       ]
      },
      {
       "output_type": "stream",
       "stream": "stdout",
       "text": [
        "\n",
        "-115.92200000000007\n",
        "(-0.25, -0.20000000000000001)"
       ]
      },
      {
       "output_type": "stream",
       "stream": "stdout",
       "text": [
        "\n",
        "-112.40200000000009\n",
        "(-0.25, -0.15000000000000002)"
       ]
      },
      {
       "output_type": "stream",
       "stream": "stdout",
       "text": [
        "\n",
        "-112.40200000000009\n",
        "(-0.25, -0.10000000000000003)"
       ]
      },
      {
       "output_type": "stream",
       "stream": "stdout",
       "text": [
        "\n",
        "-112.40200000000009\n",
        "(-0.25, -0.050000000000000044)"
       ]
      },
      {
       "output_type": "stream",
       "stream": "stdout",
       "text": [
        "\n",
        "-112.40200000000009\n",
        "(-0.25, -5.5511151231257827e-17)"
       ]
      },
      {
       "output_type": "stream",
       "stream": "stdout",
       "text": [
        "\n",
        "-112.40200000000009\n",
        "(-0.25, 0.049999999999999933)"
       ]
      },
      {
       "output_type": "stream",
       "stream": "stdout",
       "text": [
        "\n",
        "-112.40200000000009\n",
        "(-0.25, 0.099999999999999922)"
       ]
      },
      {
       "output_type": "stream",
       "stream": "stdout",
       "text": [
        "\n",
        "-112.40200000000009\n",
        "(-0.25, 0.14999999999999991)"
       ]
      },
      {
       "output_type": "stream",
       "stream": "stdout",
       "text": [
        "\n",
        "-112.40200000000009\n",
        "(-0.25, 0.1999999999999999)"
       ]
      },
      {
       "output_type": "stream",
       "stream": "stdout",
       "text": [
        "\n",
        "-112.40200000000009\n",
        "(-0.25, 0.24999999999999983)"
       ]
      },
      {
       "output_type": "stream",
       "stream": "stdout",
       "text": [
        "\n",
        "-112.40200000000009\n",
        "(-0.20000000000000001, -0.29999999999999999)"
       ]
      },
      {
       "output_type": "stream",
       "stream": "stdout",
       "text": [
        "\n",
        "-128.65400000000005\n",
        "(-0.20000000000000001, -0.25)"
       ]
      },
      {
       "output_type": "stream",
       "stream": "stdout",
       "text": [
        "\n",
        "-113.05000000000005\n",
        "(-0.20000000000000001, -0.20000000000000001)"
       ]
      },
      {
       "output_type": "stream",
       "stream": "stdout",
       "text": [
        "\n",
        "-90.00400000000012\n",
        "(-0.20000000000000001, -0.15000000000000002)"
       ]
      },
      {
       "output_type": "stream",
       "stream": "stdout",
       "text": [
        "\n",
        "-90.00400000000012\n",
        "(-0.20000000000000001, -0.10000000000000003)"
       ]
      },
      {
       "output_type": "stream",
       "stream": "stdout",
       "text": [
        "\n",
        "-90.00400000000012\n",
        "(-0.20000000000000001, -0.050000000000000044)"
       ]
      },
      {
       "output_type": "stream",
       "stream": "stdout",
       "text": [
        "\n",
        "-90.00400000000012\n",
        "(-0.20000000000000001, -5.5511151231257827e-17)"
       ]
      },
      {
       "output_type": "stream",
       "stream": "stdout",
       "text": [
        "\n",
        "-90.00400000000012\n",
        "(-0.20000000000000001, 0.049999999999999933)"
       ]
      },
      {
       "output_type": "stream",
       "stream": "stdout",
       "text": [
        "\n",
        "-90.00400000000012\n",
        "(-0.20000000000000001, 0.099999999999999922)"
       ]
      },
      {
       "output_type": "stream",
       "stream": "stdout",
       "text": [
        "\n",
        "-90.00400000000012\n",
        "(-0.20000000000000001, 0.14999999999999991)"
       ]
      },
      {
       "output_type": "stream",
       "stream": "stdout",
       "text": [
        "\n",
        "-90.00400000000012\n",
        "(-0.20000000000000001, 0.1999999999999999)"
       ]
      },
      {
       "output_type": "stream",
       "stream": "stdout",
       "text": [
        "\n",
        "-90.00400000000012\n",
        "(-0.20000000000000001, 0.24999999999999983)"
       ]
      },
      {
       "output_type": "stream",
       "stream": "stdout",
       "text": [
        "\n",
        "-90.00400000000012\n",
        "(-0.15000000000000002, -0.29999999999999999)"
       ]
      },
      {
       "output_type": "stream",
       "stream": "stdout",
       "text": [
        "\n",
        "-175.5780000000001\n",
        "(-0.15000000000000002, -0.25)"
       ]
      },
      {
       "output_type": "stream",
       "stream": "stdout",
       "text": [
        "\n",
        "-159.9740000000001\n",
        "(-0.15000000000000002, -0.20000000000000001)"
       ]
      },
      {
       "output_type": "stream",
       "stream": "stdout",
       "text": [
        "\n",
        "-136.92800000000005\n",
        "(-0.15000000000000002, -0.15000000000000002)"
       ]
      },
      {
       "output_type": "stream",
       "stream": "stdout",
       "text": [
        "\n",
        "-99.36449999999998\n",
        "(-0.15000000000000002, -0.10000000000000003)"
       ]
      },
      {
       "output_type": "stream",
       "stream": "stdout",
       "text": [
        "\n",
        "-102.44500000000001\n",
        "(-0.15000000000000002, -0.050000000000000044)"
       ]
      },
      {
       "output_type": "stream",
       "stream": "stdout",
       "text": [
        "\n",
        "-102.44500000000001\n",
        "(-0.15000000000000002, -5.5511151231257827e-17)"
       ]
      },
      {
       "output_type": "stream",
       "stream": "stdout",
       "text": [
        "\n",
        "-102.44500000000001\n",
        "(-0.15000000000000002, 0.049999999999999933)"
       ]
      },
      {
       "output_type": "stream",
       "stream": "stdout",
       "text": [
        "\n",
        "-102.44500000000001\n",
        "(-0.15000000000000002, 0.099999999999999922)"
       ]
      },
      {
       "output_type": "stream",
       "stream": "stdout",
       "text": [
        "\n",
        "-102.44500000000001\n",
        "(-0.15000000000000002, 0.14999999999999991)"
       ]
      },
      {
       "output_type": "stream",
       "stream": "stdout",
       "text": [
        "\n",
        "-102.44500000000001\n",
        "(-0.15000000000000002, 0.1999999999999999)"
       ]
      },
      {
       "output_type": "stream",
       "stream": "stdout",
       "text": [
        "\n",
        "-102.44500000000001\n",
        "(-0.15000000000000002, 0.24999999999999983)"
       ]
      },
      {
       "output_type": "stream",
       "stream": "stdout",
       "text": [
        "\n",
        "-102.44500000000001\n",
        "(-0.10000000000000003, -0.29999999999999999)"
       ]
      },
      {
       "output_type": "stream",
       "stream": "stdout",
       "text": [
        "\n",
        "-174.65399999999997\n",
        "(-0.10000000000000003, -0.25)"
       ]
      },
      {
       "output_type": "stream",
       "stream": "stdout",
       "text": [
        "\n",
        "-159.05\n",
        "(-0.10000000000000003, -0.20000000000000001)"
       ]
      },
      {
       "output_type": "stream",
       "stream": "stdout",
       "text": [
        "\n",
        "-136.004\n",
        "(-0.10000000000000003, -0.15000000000000002)"
       ]
      },
      {
       "output_type": "stream",
       "stream": "stdout",
       "text": [
        "\n",
        "-98.44049999999996\n",
        "(-0.10000000000000003, -0.10000000000000003)"
       ]
      },
      {
       "output_type": "stream",
       "stream": "stdout",
       "text": [
        "\n",
        "-83.92549999999999\n",
        "(-0.10000000000000003, -0.050000000000000044)"
       ]
      },
      {
       "output_type": "stream",
       "stream": "stdout",
       "text": [
        "\n",
        "-83.92549999999999\n",
        "(-0.10000000000000003, -5.5511151231257827e-17)"
       ]
      },
      {
       "output_type": "stream",
       "stream": "stdout",
       "text": [
        "\n",
        "-83.92549999999999\n",
        "(-0.10000000000000003, 0.049999999999999933)"
       ]
      },
      {
       "output_type": "stream",
       "stream": "stdout",
       "text": [
        "\n",
        "-83.92549999999999\n",
        "(-0.10000000000000003, 0.099999999999999922)"
       ]
      },
      {
       "output_type": "stream",
       "stream": "stdout",
       "text": [
        "\n",
        "-83.92549999999999\n",
        "(-0.10000000000000003, 0.14999999999999991)"
       ]
      },
      {
       "output_type": "stream",
       "stream": "stdout",
       "text": [
        "\n",
        "-83.92549999999999\n",
        "(-0.10000000000000003, 0.1999999999999999)"
       ]
      },
      {
       "output_type": "stream",
       "stream": "stdout",
       "text": [
        "\n",
        "-83.92549999999999\n",
        "(-0.10000000000000003, 0.24999999999999983)"
       ]
      },
      {
       "output_type": "stream",
       "stream": "stdout",
       "text": [
        "\n",
        "-83.92549999999999\n",
        "(-0.050000000000000044, -0.29999999999999999)"
       ]
      },
      {
       "output_type": "stream",
       "stream": "stdout",
       "text": [
        "\n",
        "-103.91650000000006\n",
        "(-0.050000000000000044, -0.25)"
       ]
      },
      {
       "output_type": "stream",
       "stream": "stdout",
       "text": [
        "\n",
        "-88.31250000000006\n",
        "(-0.050000000000000044, -0.20000000000000001)"
       ]
      },
      {
       "output_type": "stream",
       "stream": "stdout",
       "text": [
        "\n",
        "-65.26650000000005\n",
        "(-0.050000000000000044, -0.15000000000000002)"
       ]
      },
      {
       "output_type": "stream",
       "stream": "stdout",
       "text": [
        "\n",
        "-27.703000000000056\n",
        "(-0.050000000000000044, -0.10000000000000003)"
       ]
      },
      {
       "output_type": "stream",
       "stream": "stdout",
       "text": [
        "\n",
        "-13.188000000000008\n",
        "(-0.050000000000000044, -0.050000000000000044)"
       ]
      },
      {
       "output_type": "stream",
       "stream": "stdout",
       "text": [
        "\n",
        "-47.544000000000054\n",
        "(-0.050000000000000044, -5.5511151231257827e-17)"
       ]
      },
      {
       "output_type": "stream",
       "stream": "stdout",
       "text": [
        "\n",
        "-47.544000000000054\n",
        "(-0.050000000000000044, 0.049999999999999933)"
       ]
      },
      {
       "output_type": "stream",
       "stream": "stdout",
       "text": [
        "\n",
        "-47.544000000000054\n",
        "(-0.050000000000000044, 0.099999999999999922)"
       ]
      },
      {
       "output_type": "stream",
       "stream": "stdout",
       "text": [
        "\n",
        "-47.544000000000054\n",
        "(-0.050000000000000044, 0.14999999999999991)"
       ]
      },
      {
       "output_type": "stream",
       "stream": "stdout",
       "text": [
        "\n",
        "-47.544000000000054\n",
        "(-0.050000000000000044, 0.1999999999999999)"
       ]
      },
      {
       "output_type": "stream",
       "stream": "stdout",
       "text": [
        "\n",
        "-47.544000000000054\n",
        "(-0.050000000000000044, 0.24999999999999983)"
       ]
      },
      {
       "output_type": "stream",
       "stream": "stdout",
       "text": [
        "\n",
        "-47.544000000000054\n",
        "(-5.5511151231257827e-17, -0.29999999999999999)"
       ]
      },
      {
       "output_type": "stream",
       "stream": "stdout",
       "text": [
        "\n",
        "-99.33950000000011\n",
        "(-5.5511151231257827e-17, -0.25)"
       ]
      },
      {
       "output_type": "stream",
       "stream": "stdout",
       "text": [
        "\n",
        "-83.73550000000012\n",
        "(-5.5511151231257827e-17, -0.20000000000000001)"
       ]
      },
      {
       "output_type": "stream",
       "stream": "stdout",
       "text": [
        "\n",
        "-60.689500000000066\n",
        "(-5.5511151231257827e-17, -0.15000000000000002)"
       ]
      },
      {
       "output_type": "stream",
       "stream": "stdout",
       "text": [
        "\n",
        "-23.126000000000044\n",
        "(-5.5511151231257827e-17, -0.10000000000000003)"
       ]
      },
      {
       "output_type": "stream",
       "stream": "stdout",
       "text": [
        "\n",
        "-8.61100000000001\n",
        "(-5.5511151231257827e-17, -0.050000000000000044)"
       ]
      },
      {
       "output_type": "stream",
       "stream": "stdout",
       "text": [
        "\n",
        "-42.96700000000009\n",
        "(-5.5511151231257827e-17, -5.5511151231257827e-17)"
       ]
      },
      {
       "output_type": "stream",
       "stream": "stdout",
       "text": [
        "\n",
        "-73.22300000000007\n",
        "(-5.5511151231257827e-17, 0.049999999999999933)"
       ]
      },
      {
       "output_type": "stream",
       "stream": "stdout",
       "text": [
        "\n",
        "-73.22300000000007\n",
        "(-5.5511151231257827e-17, 0.099999999999999922)"
       ]
      },
      {
       "output_type": "stream",
       "stream": "stdout",
       "text": [
        "\n",
        "-73.22300000000007\n",
        "(-5.5511151231257827e-17, 0.14999999999999991)"
       ]
      },
      {
       "output_type": "stream",
       "stream": "stdout",
       "text": [
        "\n",
        "-73.22300000000007\n",
        "(-5.5511151231257827e-17, 0.1999999999999999)"
       ]
      },
      {
       "output_type": "stream",
       "stream": "stdout",
       "text": [
        "\n",
        "-73.22300000000007\n",
        "(-5.5511151231257827e-17, 0.24999999999999983)"
       ]
      },
      {
       "output_type": "stream",
       "stream": "stdout",
       "text": [
        "\n",
        "-73.22300000000007\n",
        "(0.049999999999999933, -0.29999999999999999)"
       ]
      },
      {
       "output_type": "stream",
       "stream": "stdout",
       "text": [
        "\n",
        "-127.2255\n",
        "(0.049999999999999933, -0.25)"
       ]
      },
      {
       "output_type": "stream",
       "stream": "stdout",
       "text": [
        "\n",
        "-111.62150000000001\n",
        "(0.049999999999999933, -0.20000000000000001)"
       ]
      },
      {
       "output_type": "stream",
       "stream": "stdout",
       "text": [
        "\n",
        "-88.5755000000001\n",
        "(0.049999999999999933, -0.15000000000000002)"
       ]
      },
      {
       "output_type": "stream",
       "stream": "stdout",
       "text": [
        "\n",
        "-51.01200000000002\n",
        "(0.049999999999999933, -0.10000000000000003)"
       ]
      },
      {
       "output_type": "stream",
       "stream": "stdout",
       "text": [
        "\n",
        "-36.49700000000006\n",
        "(0.049999999999999933, -0.050000000000000044)"
       ]
      },
      {
       "output_type": "stream",
       "stream": "stdout",
       "text": [
        "\n",
        "-70.85299999999998\n",
        "(0.049999999999999933, -5.5511151231257827e-17)"
       ]
      },
      {
       "output_type": "stream",
       "stream": "stdout",
       "text": [
        "\n",
        "-101.10900000000012\n",
        "(0.049999999999999933, 0.049999999999999933)"
       ]
      },
      {
       "output_type": "stream",
       "stream": "stdout",
       "text": [
        "\n",
        "-115.91600000000008\n",
        "(0.049999999999999933, 0.099999999999999922)"
       ]
      },
      {
       "output_type": "stream",
       "stream": "stdout",
       "text": [
        "\n",
        "-115.91600000000008\n",
        "(0.049999999999999933, 0.14999999999999991)"
       ]
      },
      {
       "output_type": "stream",
       "stream": "stdout",
       "text": [
        "\n",
        "-115.91600000000008\n",
        "(0.049999999999999933, 0.1999999999999999)"
       ]
      },
      {
       "output_type": "stream",
       "stream": "stdout",
       "text": [
        "\n",
        "-115.91600000000008\n",
        "(0.049999999999999933, 0.24999999999999983)"
       ]
      },
      {
       "output_type": "stream",
       "stream": "stdout",
       "text": [
        "\n",
        "-115.91600000000008\n",
        "(0.099999999999999922, -0.29999999999999999)"
       ]
      },
      {
       "output_type": "stream",
       "stream": "stdout",
       "text": [
        "\n",
        "-167.83400000000006\n",
        "(0.099999999999999922, -0.25)"
       ]
      },
      {
       "output_type": "stream",
       "stream": "stdout",
       "text": [
        "\n",
        "-152.23000000000005\n",
        "(0.099999999999999922, -0.20000000000000001)"
       ]
      },
      {
       "output_type": "stream",
       "stream": "stdout",
       "text": [
        "\n",
        "-129.18399999999997\n",
        "(0.099999999999999922, -0.15000000000000002)"
       ]
      },
      {
       "output_type": "stream",
       "stream": "stdout",
       "text": [
        "\n",
        "-91.62050000000013\n",
        "(0.099999999999999922, -0.10000000000000003)"
       ]
      },
      {
       "output_type": "stream",
       "stream": "stdout",
       "text": [
        "\n",
        "-77.1055\n",
        "(0.099999999999999922, -0.050000000000000044)"
       ]
      },
      {
       "output_type": "stream",
       "stream": "stdout",
       "text": [
        "\n",
        "-111.4615000000002\n",
        "(0.099999999999999922, -5.5511151231257827e-17)"
       ]
      },
      {
       "output_type": "stream",
       "stream": "stdout",
       "text": [
        "\n",
        "-141.71750000000011\n",
        "(0.099999999999999922, 0.049999999999999933)"
       ]
      },
      {
       "output_type": "stream",
       "stream": "stdout",
       "text": [
        "\n",
        "-156.52450000000016\n",
        "(0.099999999999999922, 0.099999999999999922)"
       ]
      },
      {
       "output_type": "stream",
       "stream": "stdout",
       "text": [
        "\n",
        "-185.09750000000017\n",
        "(0.099999999999999922, 0.14999999999999991)"
       ]
      },
      {
       "output_type": "stream",
       "stream": "stdout",
       "text": [
        "\n",
        "-185.09750000000017\n",
        "(0.099999999999999922, 0.1999999999999999)"
       ]
      },
      {
       "output_type": "stream",
       "stream": "stdout",
       "text": [
        "\n",
        "-185.09750000000017\n",
        "(0.099999999999999922, 0.24999999999999983)"
       ]
      },
      {
       "output_type": "stream",
       "stream": "stdout",
       "text": [
        "\n",
        "-185.09750000000017\n",
        "(0.14999999999999991, -0.29999999999999999)"
       ]
      },
      {
       "output_type": "stream",
       "stream": "stdout",
       "text": [
        "\n",
        "-182.47099999999983\n",
        "(0.14999999999999991, -0.25)"
       ]
      },
      {
       "output_type": "stream",
       "stream": "stdout",
       "text": [
        "\n",
        "-166.867\n",
        "(0.14999999999999991, -0.20000000000000001)"
       ]
      },
      {
       "output_type": "stream",
       "stream": "stdout",
       "text": [
        "\n",
        "-143.82099999999994\n",
        "(0.14999999999999991, -0.15000000000000002)"
       ]
      },
      {
       "output_type": "stream",
       "stream": "stdout",
       "text": [
        "\n",
        "-106.25750000000004\n",
        "(0.14999999999999991, -0.10000000000000003)"
       ]
      },
      {
       "output_type": "stream",
       "stream": "stdout",
       "text": [
        "\n",
        "-91.74249999999999\n",
        "(0.14999999999999991, -0.050000000000000044)"
       ]
      },
      {
       "output_type": "stream",
       "stream": "stdout",
       "text": [
        "\n",
        "-126.0985\n",
        "(0.14999999999999991, -5.5511151231257827e-17)"
       ]
      },
      {
       "output_type": "stream",
       "stream": "stdout",
       "text": [
        "\n",
        "-156.35450000000012\n",
        "(0.14999999999999991, 0.049999999999999933)"
       ]
      },
      {
       "output_type": "stream",
       "stream": "stdout",
       "text": [
        "\n",
        "-171.16150000000002\n",
        "(0.14999999999999991, 0.099999999999999922)"
       ]
      },
      {
       "output_type": "stream",
       "stream": "stdout",
       "text": [
        "\n",
        "-199.73450000000017\n",
        "(0.14999999999999991, 0.14999999999999991)"
       ]
      },
      {
       "output_type": "stream",
       "stream": "stdout",
       "text": [
        "\n",
        "-182.65050000000016\n",
        "(0.14999999999999991, 0.1999999999999999)"
       ]
      },
      {
       "output_type": "stream",
       "stream": "stdout",
       "text": [
        "\n",
        "-182.65050000000016\n",
        "(0.14999999999999991, 0.24999999999999983)"
       ]
      },
      {
       "output_type": "stream",
       "stream": "stdout",
       "text": [
        "\n",
        "-182.65050000000016\n",
        "(0.1999999999999999, -0.29999999999999999)"
       ]
      },
      {
       "output_type": "stream",
       "stream": "stdout",
       "text": [
        "\n",
        "-207.63449999999992\n",
        "(0.1999999999999999, -0.25)"
       ]
      },
      {
       "output_type": "stream",
       "stream": "stdout",
       "text": [
        "\n",
        "-192.0304999999999\n",
        "(0.1999999999999999, -0.20000000000000001)"
       ]
      },
      {
       "output_type": "stream",
       "stream": "stdout",
       "text": [
        "\n",
        "-168.9844999999998\n",
        "(0.1999999999999999, -0.15000000000000002)"
       ]
      },
      {
       "output_type": "stream",
       "stream": "stdout",
       "text": [
        "\n",
        "-131.421\n",
        "(0.1999999999999999, -0.10000000000000003)"
       ]
      },
      {
       "output_type": "stream",
       "stream": "stdout",
       "text": [
        "\n",
        "-116.90599999999999\n",
        "(0.1999999999999999, -0.050000000000000044)"
       ]
      },
      {
       "output_type": "stream",
       "stream": "stdout",
       "text": [
        "\n",
        "-151.262\n",
        "(0.1999999999999999, -5.5511151231257827e-17)"
       ]
      },
      {
       "output_type": "stream",
       "stream": "stdout",
       "text": [
        "\n",
        "-181.51800000000003\n",
        "(0.1999999999999999, 0.049999999999999933)"
       ]
      },
      {
       "output_type": "stream",
       "stream": "stdout",
       "text": [
        "\n",
        "-196.32500000000002\n",
        "(0.1999999999999999, 0.099999999999999922)"
       ]
      },
      {
       "output_type": "stream",
       "stream": "stdout",
       "text": [
        "\n",
        "-224.89800000000008\n",
        "(0.1999999999999999, 0.14999999999999991)"
       ]
      },
      {
       "output_type": "stream",
       "stream": "stdout",
       "text": [
        "\n",
        "-207.81400000000016\n",
        "(0.1999999999999999, 0.1999999999999999)"
       ]
      },
      {
       "output_type": "stream",
       "stream": "stdout",
       "text": [
        "\n",
        "-185.09100000000018\n",
        "(0.1999999999999999, 0.24999999999999983)"
       ]
      },
      {
       "output_type": "stream",
       "stream": "stdout",
       "text": [
        "\n",
        "-185.09100000000018\n",
        "(0.24999999999999983, -0.29999999999999999)"
       ]
      },
      {
       "output_type": "stream",
       "stream": "stdout",
       "text": [
        "\n",
        "-234.68499999999986\n",
        "(0.24999999999999983, -0.25)"
       ]
      },
      {
       "output_type": "stream",
       "stream": "stdout",
       "text": [
        "\n",
        "-219.08099999999996\n",
        "(0.24999999999999983, -0.20000000000000001)"
       ]
      },
      {
       "output_type": "stream",
       "stream": "stdout",
       "text": [
        "\n",
        "-196.03499999999985\n",
        "(0.24999999999999983, -0.15000000000000002)"
       ]
      },
      {
       "output_type": "stream",
       "stream": "stdout",
       "text": [
        "\n",
        "-158.47149999999996\n",
        "(0.24999999999999983, -0.10000000000000003)"
       ]
      },
      {
       "output_type": "stream",
       "stream": "stdout",
       "text": [
        "\n",
        "-143.9565\n",
        "(0.24999999999999983, -0.050000000000000044)"
       ]
      },
      {
       "output_type": "stream",
       "stream": "stdout",
       "text": [
        "\n",
        "-178.3125\n",
        "(0.24999999999999983, -5.5511151231257827e-17)"
       ]
      },
      {
       "output_type": "stream",
       "stream": "stdout",
       "text": [
        "\n",
        "-208.5685000000002\n",
        "(0.24999999999999983, 0.049999999999999933)"
       ]
      },
      {
       "output_type": "stream",
       "stream": "stdout",
       "text": [
        "\n",
        "-223.37550000000013\n",
        "(0.24999999999999983, 0.099999999999999922)"
       ]
      },
      {
       "output_type": "stream",
       "stream": "stdout",
       "text": [
        "\n",
        "-251.94850000000005\n",
        "(0.24999999999999983, 0.14999999999999991)"
       ]
      },
      {
       "output_type": "stream",
       "stream": "stdout",
       "text": [
        "\n",
        "-234.86450000000016\n",
        "(0.24999999999999983, 0.1999999999999999)"
       ]
      },
      {
       "output_type": "stream",
       "stream": "stdout",
       "text": [
        "\n",
        "-212.14150000000015\n",
        "(0.24999999999999983, 0.24999999999999983)"
       ]
      },
      {
       "output_type": "stream",
       "stream": "stdout",
       "text": [
        "\n",
        "-174.76150000000018\n"
       ]
      },
      {
       "metadata": {},
       "output_type": "pyout",
       "prompt_number": 110,
       "text": [
        "[((0.24999999999999983, 0.099999999999999922), 251.94850000000005),\n",
        " ((0.24999999999999983, 0.14999999999999991), 234.86450000000016),\n",
        " ((0.24999999999999983, -0.29999999999999999), 234.68499999999986),\n",
        " ((0.1999999999999999, 0.099999999999999922), 224.89800000000008),\n",
        " ((0.24999999999999983, 0.049999999999999933), 223.37550000000013),\n",
        " ((0.24999999999999983, -0.25), 219.08099999999996),\n",
        " ((0.24999999999999983, 0.1999999999999999), 212.14150000000015),\n",
        " ((0.24999999999999983, -5.5511151231257827e-17), 208.5685000000002),\n",
        " ((0.1999999999999999, 0.14999999999999991), 207.81400000000016),\n",
        " ((0.1999999999999999, -0.29999999999999999), 207.63449999999992),\n",
        " ((0.14999999999999991, 0.099999999999999922), 199.73450000000017),\n",
        " ((0.1999999999999999, 0.049999999999999933), 196.32500000000002),\n",
        " ((0.24999999999999983, -0.20000000000000001), 196.03499999999985),\n",
        " ((0.1999999999999999, -0.25), 192.0304999999999),\n",
        " ((0.099999999999999922, 0.099999999999999922), 185.09750000000017),\n",
        " ((0.099999999999999922, 0.14999999999999991), 185.09750000000017),\n",
        " ((0.099999999999999922, 0.1999999999999999), 185.09750000000017),\n",
        " ((0.099999999999999922, 0.24999999999999983), 185.09750000000017),\n",
        " ((0.1999999999999999, 0.1999999999999999), 185.09100000000018),\n",
        " ((0.1999999999999999, 0.24999999999999983), 185.09100000000018),\n",
        " ((0.14999999999999991, 0.14999999999999991), 182.65050000000016),\n",
        " ((0.14999999999999991, 0.1999999999999999), 182.65050000000016),\n",
        " ((0.14999999999999991, 0.24999999999999983), 182.65050000000016),\n",
        " ((0.14999999999999991, -0.29999999999999999), 182.47099999999983),\n",
        " ((0.1999999999999999, -5.5511151231257827e-17), 181.51800000000003),\n",
        " ((0.24999999999999983, -0.050000000000000044), 178.3125),\n",
        " ((-0.15000000000000002, -0.29999999999999999), 175.5780000000001),\n",
        " ((0.24999999999999983, 0.24999999999999983), 174.76150000000018),\n",
        " ((-0.10000000000000003, -0.29999999999999999), 174.65399999999997),\n",
        " ((0.14999999999999991, 0.049999999999999933), 171.16150000000002),\n",
        " ((0.1999999999999999, -0.20000000000000001), 168.9844999999998),\n",
        " ((0.099999999999999922, -0.29999999999999999), 167.83400000000006),\n",
        " ((0.14999999999999991, -0.25), 166.867),\n",
        " ((-0.15000000000000002, -0.25), 159.9740000000001),\n",
        " ((-0.10000000000000003, -0.25), 159.05),\n",
        " ((0.24999999999999983, -0.15000000000000002), 158.47149999999996),\n",
        " ((0.099999999999999922, 0.049999999999999933), 156.52450000000016),\n",
        " ((0.14999999999999991, -5.5511151231257827e-17), 156.35450000000012),\n",
        " ((0.099999999999999922, -0.25), 152.23000000000005),\n",
        " ((-0.29999999999999999, -0.29999999999999999), 152.20600000000005),\n",
        " ((-0.29999999999999999, -0.25), 152.20600000000005),\n",
        " ((-0.29999999999999999, -0.20000000000000001), 152.20600000000005),\n",
        " ((-0.29999999999999999, -0.15000000000000002), 152.20600000000005),\n",
        " ((-0.29999999999999999, -0.10000000000000003), 152.20600000000005),\n",
        " ((-0.29999999999999999, -0.050000000000000044), 152.20600000000005),\n",
        " ((-0.29999999999999999, -5.5511151231257827e-17), 152.20600000000005),\n",
        " ((-0.29999999999999999, 0.049999999999999933), 152.20600000000005),\n",
        " ((-0.29999999999999999, 0.099999999999999922), 152.20600000000005),\n",
        " ((-0.29999999999999999, 0.14999999999999991), 152.20600000000005),\n",
        " ((-0.29999999999999999, 0.1999999999999999), 152.20600000000005),\n",
        " ((-0.29999999999999999, 0.24999999999999983), 152.20600000000005),\n",
        " ((0.1999999999999999, -0.050000000000000044), 151.262),\n",
        " ((0.24999999999999983, -0.10000000000000003), 143.9565),\n",
        " ((0.14999999999999991, -0.20000000000000001), 143.82099999999994),\n",
        " ((0.099999999999999922, -5.5511151231257827e-17), 141.71750000000011),\n",
        " ((-0.15000000000000002, -0.20000000000000001), 136.92800000000005),\n",
        " ((-0.10000000000000003, -0.20000000000000001), 136.004),\n",
        " ((-0.25, -0.29999999999999999), 131.52600000000012),\n",
        " ((0.1999999999999999, -0.15000000000000002), 131.421),\n",
        " ((0.099999999999999922, -0.20000000000000001), 129.18399999999997),\n",
        " ((-0.20000000000000001, -0.29999999999999999), 128.65400000000005),\n",
        " ((0.049999999999999933, -0.29999999999999999), 127.2255),\n",
        " ((0.14999999999999991, -0.050000000000000044), 126.0985),\n",
        " ((0.1999999999999999, -0.10000000000000003), 116.90599999999999),\n",
        " ((-0.25, -0.25), 115.92200000000007),\n",
        " ((0.049999999999999933, 0.049999999999999933), 115.91600000000008),\n",
        " ((0.049999999999999933, 0.099999999999999922), 115.91600000000008),\n",
        " ((0.049999999999999933, 0.14999999999999991), 115.91600000000008),\n",
        " ((0.049999999999999933, 0.1999999999999999), 115.91600000000008),\n",
        " ((0.049999999999999933, 0.24999999999999983), 115.91600000000008),\n",
        " ((-0.20000000000000001, -0.25), 113.05000000000005),\n",
        " ((-0.25, -0.20000000000000001), 112.40200000000009),\n",
        " ((-0.25, -0.15000000000000002), 112.40200000000009),\n",
        " ((-0.25, -0.10000000000000003), 112.40200000000009),\n",
        " ((-0.25, -0.050000000000000044), 112.40200000000009),\n",
        " ((-0.25, -5.5511151231257827e-17), 112.40200000000009),\n",
        " ((-0.25, 0.049999999999999933), 112.40200000000009),\n",
        " ((-0.25, 0.099999999999999922), 112.40200000000009),\n",
        " ((-0.25, 0.14999999999999991), 112.40200000000009),\n",
        " ((-0.25, 0.1999999999999999), 112.40200000000009),\n",
        " ((-0.25, 0.24999999999999983), 112.40200000000009),\n",
        " ((0.049999999999999933, -0.25), 111.62150000000001),\n",
        " ((0.099999999999999922, -0.050000000000000044), 111.4615000000002),\n",
        " ((0.14999999999999991, -0.15000000000000002), 106.25750000000004),\n",
        " ((-0.050000000000000044, -0.29999999999999999), 103.91650000000006),\n",
        " ((-0.15000000000000002, -0.10000000000000003), 102.44500000000001),\n",
        " ((-0.15000000000000002, -0.050000000000000044), 102.44500000000001),\n",
        " ((-0.15000000000000002, -5.5511151231257827e-17), 102.44500000000001),\n",
        " ((-0.15000000000000002, 0.049999999999999933), 102.44500000000001),\n",
        " ((-0.15000000000000002, 0.099999999999999922), 102.44500000000001),\n",
        " ((-0.15000000000000002, 0.14999999999999991), 102.44500000000001),\n",
        " ((-0.15000000000000002, 0.1999999999999999), 102.44500000000001),\n",
        " ((-0.15000000000000002, 0.24999999999999983), 102.44500000000001),\n",
        " ((0.049999999999999933, -5.5511151231257827e-17), 101.10900000000012),\n",
        " ((-0.15000000000000002, -0.15000000000000002), 99.36449999999998),\n",
        " ((-5.5511151231257827e-17, -0.29999999999999999), 99.33950000000011),\n",
        " ((-0.10000000000000003, -0.15000000000000002), 98.44049999999996),\n",
        " ((0.14999999999999991, -0.10000000000000003), 91.74249999999999),\n",
        " ((0.099999999999999922, -0.15000000000000002), 91.62050000000013),\n",
        " ((-0.20000000000000001, -0.20000000000000001), 90.00400000000012),\n",
        " ((-0.20000000000000001, -0.15000000000000002), 90.00400000000012),\n",
        " ((-0.20000000000000001, -0.10000000000000003), 90.00400000000012),\n",
        " ((-0.20000000000000001, -0.050000000000000044), 90.00400000000012),\n",
        " ((-0.20000000000000001, -5.5511151231257827e-17), 90.00400000000012),\n",
        " ((-0.20000000000000001, 0.049999999999999933), 90.00400000000012),\n",
        " ((-0.20000000000000001, 0.099999999999999922), 90.00400000000012),\n",
        " ((-0.20000000000000001, 0.14999999999999991), 90.00400000000012),\n",
        " ((-0.20000000000000001, 0.1999999999999999), 90.00400000000012),\n",
        " ((-0.20000000000000001, 0.24999999999999983), 90.00400000000012),\n",
        " ((0.049999999999999933, -0.20000000000000001), 88.5755000000001),\n",
        " ((-0.050000000000000044, -0.25), 88.31250000000006),\n",
        " ((-0.10000000000000003, -0.10000000000000003), 83.92549999999999),\n",
        " ((-0.10000000000000003, -0.050000000000000044), 83.92549999999999),\n",
        " ((-0.10000000000000003, -5.5511151231257827e-17), 83.92549999999999),\n",
        " ((-0.10000000000000003, 0.049999999999999933), 83.92549999999999),\n",
        " ((-0.10000000000000003, 0.099999999999999922), 83.92549999999999),\n",
        " ((-0.10000000000000003, 0.14999999999999991), 83.92549999999999),\n",
        " ((-0.10000000000000003, 0.1999999999999999), 83.92549999999999),\n",
        " ((-0.10000000000000003, 0.24999999999999983), 83.92549999999999),\n",
        " ((-5.5511151231257827e-17, -0.25), 83.73550000000012),\n",
        " ((0.099999999999999922, -0.10000000000000003), 77.1055),\n",
        " ((-5.5511151231257827e-17, -5.5511151231257827e-17), 73.22300000000007),\n",
        " ((-5.5511151231257827e-17, 0.049999999999999933), 73.22300000000007),\n",
        " ((-5.5511151231257827e-17, 0.099999999999999922), 73.22300000000007),\n",
        " ((-5.5511151231257827e-17, 0.14999999999999991), 73.22300000000007),\n",
        " ((-5.5511151231257827e-17, 0.1999999999999999), 73.22300000000007),\n",
        " ((-5.5511151231257827e-17, 0.24999999999999983), 73.22300000000007),\n",
        " ((0.049999999999999933, -0.050000000000000044), 70.85299999999998),\n",
        " ((-0.050000000000000044, -0.20000000000000001), 65.26650000000005),\n",
        " ((-5.5511151231257827e-17, -0.20000000000000001), 60.689500000000066),\n",
        " ((0.049999999999999933, -0.15000000000000002), 51.01200000000002),\n",
        " ((-0.050000000000000044, -0.050000000000000044), 47.544000000000054),\n",
        " ((-0.050000000000000044, -5.5511151231257827e-17), 47.544000000000054),\n",
        " ((-0.050000000000000044, 0.049999999999999933), 47.544000000000054),\n",
        " ((-0.050000000000000044, 0.099999999999999922), 47.544000000000054),\n",
        " ((-0.050000000000000044, 0.14999999999999991), 47.544000000000054),\n",
        " ((-0.050000000000000044, 0.1999999999999999), 47.544000000000054),\n",
        " ((-0.050000000000000044, 0.24999999999999983), 47.544000000000054),\n",
        " ((-5.5511151231257827e-17, -0.050000000000000044), 42.96700000000009),\n",
        " ((0.049999999999999933, -0.10000000000000003), 36.49700000000006),\n",
        " ((-0.050000000000000044, -0.15000000000000002), 27.703000000000056),\n",
        " ((-5.5511151231257827e-17, -0.15000000000000002), 23.126000000000044),\n",
        " ((-0.050000000000000044, -0.10000000000000003), 13.188000000000008),\n",
        " ((-5.5511151231257827e-17, -0.10000000000000003), 8.61100000000001)]"
       ]
      }
     ],
     "prompt_number": 110
    },
    {
     "cell_type": "code",
     "collapsed": false,
     "input": [
      "historical_betting(create_get_bet_based_on_sotr([0.0, -0.1]))"
     ],
     "language": "python",
     "metadata": {},
     "outputs": [
      {
       "output_type": "stream",
       "stream": "stdout",
       "text": [
        "League profit/loss: -12.500500000000029\n",
        "H bets wins 105 out of 181 for profit/loss: -3.99\n",
        "D bets wins 31 out of 94 for profit/loss: 7.0624999999999964\n",
        "A bets wins 37 out of 95 for profit/loss: -15.573000000000004\n",
        "League profit/loss: -25.909000000000017"
       ]
      },
      {
       "output_type": "stream",
       "stream": "stdout",
       "text": [
        "\n",
        "H bets wins 110 out of 189 for profit/loss: -11.740000000000016\n",
        "D bets wins 23 out of 88 for profit/loss: -12.560000000000002\n",
        "A bets wins 45 out of 92 for profit/loss: -1.609000000000006\n",
        "League profit/loss: -1.7425000000000137"
       ]
      },
      {
       "output_type": "stream",
       "stream": "stdout",
       "text": [
        "\n",
        "H bets wins 106 out of 175 for profit/loss: -9.359\n",
        "D bets wins 31 out of 100 for profit/loss: 0.9959999999999956\n",
        "A bets wins 49 out of 95 for profit/loss: 6.620499999999997\n",
        "League profit/loss: 13.882499999999988"
       ]
      },
      {
       "output_type": "stream",
       "stream": "stdout",
       "text": [
        "\n",
        "H bets wins 124 out of 189 for profit/loss: 12.823999999999996\n",
        "D bets wins 22 out of 78 for profit/loss: -6.752000000000003\n",
        "A bets wins 58 out of 103 for profit/loss: 7.810499999999997\n",
        "League profit/loss: 17.757500000000004"
       ]
      },
      {
       "output_type": "stream",
       "stream": "stdout",
       "text": [
        "\n",
        "H bets wins 110 out of 178 for profit/loss: -0.2175000000000027\n",
        "D bets wins 37 out of 99 for profit/loss: 20.3555\n",
        "A bets wins 49 out of 93 for profit/loss: -2.380500000000003\n",
        "League profit/loss: 3.028999999999998\n",
        "H bets wins 23 out of 49 for profit/loss: -7.066500000000003\n",
        "D bets wins 5 out of 17 for profit/loss: 0.15049999999999963\n",
        "A bets wins 12 out of 24 for profit/loss: 9.945\n",
        "Total profit loss for all leagues: -5.4830000000000165\n"
       ]
      }
     ],
     "prompt_number": 112
    },
    {
     "cell_type": "code",
     "collapsed": false,
     "input": [
      "class StrategyOptimiser(object):\n",
      "    def __init__(self, create_get_bet):\n",
      "        self.create_get_bet = create_get_bet\n",
      "\n",
      "    def evaluate_parameters(self, input_params):\n",
      "        get_bet = self.create_get_bet(input_params)\n",
      "        historical_better = SilentHistoricalBetAnalyser(get_bet)\n",
      "        historical_better.analyse_leagues()\n",
      "        # print(input_array)\n",
      "        # print(historical_better.total_profit_loss)\n",
      "        return historical_better.total_profit_loss\n",
      "\n",
      "    def brute_force(self, parameter_values):\n",
      "        possible_input_arrays = itertools.product(parameter_values, repeat=2)\n",
      "        results = [(p, self.evaluate_parameters(p)) for p in possible_input_arrays]\n",
      "        for line in sorted(results, key=lambda p: p[1], reverse=True):\n",
      "            print(line)\n",
      "        "
     ],
     "language": "python",
     "metadata": {},
     "outputs": [],
     "prompt_number": 121
    },
    {
     "cell_type": "code",
     "collapsed": false,
     "input": [
      "def create_get_bet_based_on_odds(parameters):\n",
      "    home_threshold = parameters[0]\n",
      "    away_threshold = parameters[1]\n",
      "    def bet_based_on_odds(match, home_stats, away_stats):\n",
      "        if match.BbAvH >= home_threshold:\n",
      "            return 'H'\n",
      "        elif match.BbAvA >= away_threshold:\n",
      "            return 'A'\n",
      "        else:\n",
      "            return 'D'\n",
      "    return bet_based_on_odds\n",
      "optimiser = StrategyOptimiser(create_get_bet_based_on_odds)\n",
      "optimiser.brute_force(numpy.arange(2.5, 7.0, 0.2))\n",
      "# optimiser.brute_force([1.5, 2.0, 2.5])"
     ],
     "language": "python",
     "metadata": {},
     "outputs": [
      {
       "output_type": "stream",
       "stream": "stdout",
       "text": [
        "((3.3000000000000007, 5.3000000000000025), -23.98900000000004)\n",
        "((3.3000000000000007, 4.9000000000000021), -26.953500000000076)\n",
        "((5.7000000000000028, 5.3000000000000025), -30.153500000000022)\n",
        "((3.5000000000000009, 5.3000000000000025), -31.128500000000038)\n",
        "((3.3000000000000007, 3.9000000000000012), -32.812000000000076)\n",
        "((5.7000000000000028, 4.9000000000000021), -33.11800000000004)\n",
        "((3.5000000000000009, 4.9000000000000021), -34.09300000000005)\n",
        "((5.5000000000000027, 5.3000000000000025), -34.12000000000003)\n",
        "((3.3000000000000007, 6.7000000000000037), -34.30750000000007)\n",
        "((3.1000000000000005, 5.3000000000000025), -34.750500000000066)\n",
        "((5.900000000000003, 5.3000000000000025), -35.78000000000002)\n",
        "((5.5000000000000027, 4.9000000000000021), -37.08450000000003)\n",
        "((3.1000000000000005, 4.9000000000000021), -37.71500000000005)\n",
        "((3.3000000000000007, 4.700000000000002), -37.93850000000008)\n",
        "((3.3000000000000007, 4.1000000000000014), -38.10100000000006)\n",
        "((6.1000000000000032, 5.3000000000000025), -38.485000000000035)\n",
        "((5.900000000000003, 4.9000000000000021), -38.74450000000003)\n",
        "((5.7000000000000028, 3.9000000000000012), -38.9765000000001)\n",
        "((5.3000000000000025, 5.3000000000000025), -39.73250000000006)\n",
        "((3.5000000000000009, 3.9000000000000012), -39.95150000000007)\n",
        "((5.7000000000000028, 6.7000000000000037), -40.47200000000007)\n",
        "((3.3000000000000007, 5.1000000000000023), -40.61000000000008)\n",
        "((3.5000000000000009, 6.7000000000000037), -41.44700000000012)\n",
        "((6.1000000000000032, 4.9000000000000021), -41.44950000000005)\n",
        "((3.3000000000000007, 5.900000000000003), -42.10550000000004)\n",
        "((3.7000000000000011, 5.3000000000000025), -42.44100000000008)\n",
        "((5.3000000000000025, 4.9000000000000021), -42.69700000000007)\n",
        "((3.3000000000000007, 6.3000000000000034), -42.77250000000007)\n",
        "((5.5000000000000027, 3.9000000000000012), -42.94300000000009)\n",
        "((6.3000000000000034, 5.3000000000000025), -42.95000000000004)\n",
        "((3.1000000000000005, 3.9000000000000012), -43.573500000000095)\n",
        "((3.3000000000000007, 4.5000000000000018), -44.08800000000008)\n",
        "((5.7000000000000028, 4.700000000000002), -44.10300000000006)\n",
        "((5.7000000000000028, 4.1000000000000014), -44.26550000000006)\n",
        "((5.5000000000000027, 6.7000000000000037), -44.43850000000006)\n",
        "((5.900000000000003, 3.9000000000000012), -44.603000000000094)\n",
        "((3.1000000000000005, 6.7000000000000037), -45.06900000000014)\n",
        "((3.5000000000000009, 4.700000000000002), -45.07800000000005)\n",
        "((3.5000000000000009, 4.1000000000000014), -45.24050000000011)\n",
        "((3.7000000000000011, 4.9000000000000021), -45.405500000000096)\n",
        "((6.3000000000000034, 4.9000000000000021), -45.914500000000054)\n",
        "((5.900000000000003, 6.7000000000000037), -46.098500000000136)\n",
        "((5.7000000000000028, 5.1000000000000023), -46.77450000000004)\n",
        "((6.1000000000000032, 3.9000000000000012), -47.308000000000135)\n",
        "((5.1000000000000023, 5.3000000000000025), -47.59650000000006)\n",
        "((3.5000000000000009, 5.1000000000000023), -47.749500000000076)\n",
        "((5.5000000000000027, 4.700000000000002), -48.06950000000006)\n",
        "((5.5000000000000027, 4.1000000000000014), -48.23200000000005)\n",
        "((5.7000000000000028, 5.900000000000003), -48.27000000000012)\n",
        "((5.3000000000000025, 3.9000000000000012), -48.55550000000013)\n",
        "((3.1000000000000005, 4.700000000000002), -48.70000000000008)\n",
        "((6.1000000000000032, 6.7000000000000037), -48.80350000000015)\n",
        "((3.1000000000000005, 4.1000000000000014), -48.86250000000008)\n",
        "((5.7000000000000028, 6.3000000000000034), -48.93700000000015)\n",
        "((4.9000000000000021, 5.3000000000000025), -49.12150000000007)\n",
        "((3.5000000000000009, 5.900000000000003), -49.2450000000001)\n",
        "((3.3000000000000007, 6.5000000000000036), -49.60300000000006)\n",
        "((5.900000000000003, 4.700000000000002), -49.72950000000004)\n",
        "((3.3000000000000007, 6.9000000000000039), -49.873500000000085)\n",
        "((5.900000000000003, 4.1000000000000014), -49.89200000000011)\n",
        "((3.5000000000000009, 6.3000000000000034), -49.9120000000001)\n",
        "((5.3000000000000025, 6.7000000000000037), -50.051000000000116)\n",
        "((5.7000000000000028, 4.5000000000000018), -50.25250000000008)\n",
        "((5.1000000000000023, 4.9000000000000021), -50.56100000000008)\n",
        "((5.5000000000000027, 5.1000000000000023), -50.74100000000006)\n",
        "((3.5000000000000009, 4.5000000000000018), -51.22750000000009)\n",
        "((3.7000000000000011, 3.9000000000000012), -51.26400000000011)\n",
        "((3.3000000000000007, 3.5000000000000009), -51.33350000000012)\n",
        "((3.1000000000000005, 5.1000000000000023), -51.37150000000005)\n",
        "((3.3000000000000007, 5.7000000000000028), -51.615500000000075)\n",
        "((3.3000000000000007, 6.1000000000000032), -51.712500000000084)\n",
        "((3.3000000000000007, 5.5000000000000027), -51.7700000000001)\n",
        "((6.3000000000000034, 3.9000000000000012), -51.773000000000124)\n",
        "((4.9000000000000021, 4.9000000000000021), -52.086000000000084)\n",
        "((5.5000000000000027, 5.900000000000003), -52.236500000000134)\n",
        "((5.900000000000003, 5.1000000000000023), -52.4010000000001)\n",
        "((6.1000000000000032, 4.700000000000002), -52.43450000000008)\n",
        "((6.1000000000000032, 4.1000000000000014), -52.597000000000094)\n",
        "((3.7000000000000011, 6.7000000000000037), -52.75950000000007)\n",
        "((2.9000000000000004, 5.3000000000000025), -52.85100000000002)\n",
        "((3.1000000000000005, 5.900000000000003), -52.86700000000008)\n",
        "((5.5000000000000027, 6.3000000000000034), -52.903500000000136)\n",
        "((6.3000000000000034, 6.7000000000000037), -53.26850000000011)\n",
        "((3.1000000000000005, 6.3000000000000034), -53.53400000000001)\n",
        "((5.3000000000000025, 4.700000000000002), -53.68200000000007)\n",
        "((5.3000000000000025, 4.1000000000000014), -53.84450000000009)\n",
        "((5.900000000000003, 5.900000000000003), -53.89650000000017)\n",
        "((5.5000000000000027, 4.5000000000000018), -54.21900000000007)\n",
        "((5.900000000000003, 6.3000000000000034), -54.56350000000017)\n",
        "((3.1000000000000005, 4.5000000000000018), -54.849500000000106)\n",
        "((6.1000000000000032, 5.1000000000000023), -55.10600000000007)\n",
        "((6.5000000000000036, 5.3000000000000025), -55.27650000000008)\n",
        "((5.7000000000000028, 6.5000000000000036), -55.76750000000012)\n",
        "((2.9000000000000004, 4.9000000000000021), -55.81550000000008)\n",
        "((5.900000000000003, 4.5000000000000018), -55.879000000000076)\n",
        "((5.7000000000000028, 6.9000000000000039), -56.03800000000012)\n",
        "((5.3000000000000025, 5.1000000000000023), -56.35350000000008)\n",
        "((3.7000000000000011, 4.700000000000002), -56.39050000000011)\n",
        "((5.1000000000000023, 3.9000000000000012), -56.419500000000134)\n",
        "((3.7000000000000011, 4.1000000000000014), -56.55300000000007)\n",
        "((6.1000000000000032, 5.900000000000003), -56.60150000000015)\n",
        "((3.5000000000000009, 6.5000000000000036), -56.74250000000007)\n",
        "((6.3000000000000034, 4.700000000000002), -56.89950000000007)\n",
        "((3.5000000000000009, 6.9000000000000039), -57.0130000000001)\n",
        "((6.3000000000000034, 4.1000000000000014), -57.0620000000001)\n",
        "((6.1000000000000032, 6.3000000000000034), -57.268500000000124)\n",
        "((5.7000000000000028, 3.5000000000000009), -57.498000000000154)\n",
        "((5.7000000000000028, 5.7000000000000028), -57.78000000000011)\n",
        "((5.3000000000000025, 5.900000000000003), -57.849000000000146)\n",
        "((5.7000000000000028, 6.1000000000000032), -57.877000000000116)\n",
        "((5.1000000000000023, 6.7000000000000037), -57.91500000000015)\n",
        "((5.7000000000000028, 5.5000000000000027), -57.93450000000011)\n",
        "((4.9000000000000021, 3.9000000000000012), -57.94450000000014)\n",
        "((6.5000000000000036, 4.9000000000000021), -58.24100000000008)\n",
        "((3.5000000000000009, 3.5000000000000009), -58.47300000000015)\n",
        "((3.3000000000000007, 3.7000000000000011), -58.506000000000135)\n",
        "((5.3000000000000025, 6.3000000000000034), -58.51600000000015)\n",
        "((6.1000000000000032, 4.5000000000000018), -58.58400000000012)\n",
        "((3.9000000000000012, 5.3000000000000025), -58.69600000000006)\n",
        "((3.5000000000000009, 5.7000000000000028), -58.75500000000013)\n",
        "((3.5000000000000009, 6.1000000000000032), -58.85200000000011)\n",
        "((3.5000000000000009, 5.5000000000000027), -58.90950000000009)\n",
        "((3.7000000000000011, 5.1000000000000023), -59.06200000000012)\n",
        "((4.9000000000000021, 6.7000000000000037), -59.440000000000126)\n",
        "((3.3000000000000007, 4.3000000000000016), -59.48600000000007)\n",
        "((6.3000000000000034, 5.1000000000000023), -59.57100000000006)\n",
        "((5.5000000000000027, 6.5000000000000036), -59.73400000000014)\n",
        "((5.3000000000000025, 4.5000000000000018), -59.83150000000011)\n",
        "((5.5000000000000027, 6.9000000000000039), -60.004500000000135)\n",
        "((3.1000000000000005, 6.5000000000000036), -60.36450000000007)\n",
        "((4.700000000000002, 5.3000000000000025), -60.37000000000016)\n",
        "((3.7000000000000011, 5.900000000000003), -60.5575000000001)\n",
        "((3.1000000000000005, 6.9000000000000039), -60.63500000000004)\n",
        "((6.9000000000000039, 5.3000000000000025), -60.784000000000084)\n",
        "((6.3000000000000034, 5.900000000000003), -61.066500000000126)\n",
        "((3.7000000000000011, 6.3000000000000034), -61.22450000000007)\n",
        "((5.900000000000003, 6.5000000000000036), -61.39400000000017)\n",
        "((5.5000000000000027, 3.5000000000000009), -61.46450000000015)\n",
        "((5.1000000000000023, 4.700000000000002), -61.54600000000013)\n",
        "((3.9000000000000012, 4.9000000000000021), -61.66050000000008)\n",
        "((5.900000000000003, 6.9000000000000039), -61.66450000000014)\n",
        "((2.9000000000000004, 3.9000000000000012), -61.674000000000056)\n",
        "((5.1000000000000023, 4.1000000000000014), -61.70850000000018)\n",
        "((6.3000000000000034, 6.3000000000000034), -61.73350000000013)\n",
        "((5.5000000000000027, 5.7000000000000028), -61.74650000000013)\n",
        "((5.5000000000000027, 6.1000000000000032), -61.84350000000014)\n",
        "((5.5000000000000027, 5.5000000000000027), -61.90100000000009)\n",
        "((3.1000000000000005, 3.5000000000000009), -62.09500000000006)\n",
        "((3.1000000000000005, 5.7000000000000028), -62.37700000000006)\n",
        "((3.1000000000000005, 6.1000000000000032), -62.47400000000007)\n",
        "((3.1000000000000005, 5.5000000000000027), -62.53150000000013)\n",
        "((3.7000000000000011, 4.5000000000000018), -62.5400000000001)\n",
        "((6.3000000000000034, 4.5000000000000018), -63.04900000000015)\n",
        "((4.9000000000000021, 4.700000000000002), -63.07100000000008)\n",
        "((5.900000000000003, 3.5000000000000009), -63.12450000000011)\n",
        "((2.9000000000000004, 6.7000000000000037), -63.1695000000001)\n",
        "((4.9000000000000021, 4.1000000000000014), -63.23350000000016)\n",
        "((4.700000000000002, 4.9000000000000021), -63.334500000000105)\n",
        "((5.900000000000003, 5.7000000000000028), -63.40650000000012)\n",
        "((5.900000000000003, 6.1000000000000032), -63.50350000000013)\n",
        "((5.900000000000003, 5.5000000000000027), -63.56100000000011)\n",
        "((6.9000000000000039, 4.9000000000000021), -63.74850000000008)\n",
        "((6.1000000000000032, 6.5000000000000036), -64.09900000000015)\n",
        "((6.5000000000000036, 3.9000000000000012), -64.09950000000013)\n",
        "((5.1000000000000023, 5.1000000000000023), -64.21750000000009)\n",
        "((6.1000000000000032, 6.9000000000000039), -64.36950000000012)\n",
        "((5.7000000000000028, 3.7000000000000011), -64.67050000000016)\n",
        "((5.3000000000000025, 6.5000000000000036), -65.34650000000019)\n",
        "((3.3000000000000007, 3.3000000000000007), -65.44400000000009)\n",
        "((6.5000000000000036, 6.7000000000000037), -65.59500000000014)\n",
        "((5.3000000000000025, 6.9000000000000039), -65.61700000000019)\n",
        "((3.5000000000000009, 3.7000000000000011), -65.64550000000017)\n",
        "((5.7000000000000028, 4.3000000000000016), -65.65050000000014)\n",
        "((5.1000000000000023, 5.900000000000003), -65.71300000000019)\n",
        "((4.9000000000000021, 5.1000000000000023), -65.74250000000009)\n",
        "((6.1000000000000032, 3.5000000000000009), -65.82950000000012)\n",
        "((6.1000000000000032, 5.7000000000000028), -66.11150000000012)\n",
        "((6.1000000000000032, 6.1000000000000032), -66.20850000000016)\n",
        "((6.1000000000000032, 5.5000000000000027), -66.26600000000016)\n",
        "((5.1000000000000023, 6.3000000000000034), -66.38000000000014)\n",
        "((3.5000000000000009, 4.3000000000000016), -66.6255000000001)\n",
        "((2.9000000000000004, 4.700000000000002), -66.80050000000008)\n",
        "((2.9000000000000004, 4.1000000000000014), -66.96300000000011)\n",
        "((5.3000000000000025, 3.5000000000000009), -67.07700000000007)\n",
        "((4.9000000000000021, 5.900000000000003), -67.23800000000016)\n",
        "((5.3000000000000025, 5.7000000000000028), -67.35900000000017)\n",
        "((5.3000000000000025, 6.1000000000000032), -67.45600000000012)\n",
        "((5.3000000000000025, 5.5000000000000027), -67.51350000000012)\n",
        "((3.9000000000000012, 3.9000000000000012), -67.51900000000008)\n",
        "((5.1000000000000023, 4.5000000000000018), -67.69550000000014)\n",
        "((4.9000000000000021, 6.3000000000000034), -67.90500000000016)\n",
        "((3.7000000000000011, 6.5000000000000036), -68.05500000000005)\n",
        "((3.7000000000000011, 6.9000000000000039), -68.32550000000008)\n",
        "((6.3000000000000034, 6.5000000000000036), -68.56400000000016)\n",
        "((5.5000000000000027, 3.7000000000000011), -68.63700000000013)\n",
        "((6.3000000000000034, 6.9000000000000039), -68.83450000000013)\n",
        "((3.9000000000000012, 6.7000000000000037), -69.01450000000006)\n",
        "((4.700000000000002, 3.9000000000000012), -69.19300000000013)\n",
        "((4.9000000000000021, 4.5000000000000018), -69.22050000000013)\n",
        "((6.5000000000000036, 4.700000000000002), -69.22600000000014)\n",
        "((3.1000000000000005, 3.7000000000000011), -69.26750000000008)\n",
        "((6.5000000000000036, 4.1000000000000014), -69.38850000000014)\n",
        "((2.9000000000000004, 5.1000000000000023), -69.47200000000007)\n",
        "((6.9000000000000039, 3.9000000000000012), -69.60700000000007)\n",
        "((5.5000000000000027, 4.3000000000000016), -69.61700000000013)\n",
        "((3.7000000000000011, 3.5000000000000009), -69.78550000000007)\n",
        "((3.7000000000000011, 5.7000000000000028), -70.06750000000007)\n",
        "((3.7000000000000011, 6.1000000000000032), -70.16450000000007)\n",
        "((3.7000000000000011, 5.5000000000000027), -70.22200000000007)\n",
        "((3.1000000000000005, 4.3000000000000016), -70.24750000000012)\n",
        "((6.3000000000000034, 3.5000000000000009), -70.29450000000013)\n",
        "((5.900000000000003, 3.7000000000000011), -70.29700000000015)\n",
        "((6.7000000000000037, 5.3000000000000025), -70.51950000000005)\n",
        "((6.3000000000000034, 5.7000000000000028), -70.57650000000012)\n",
        "((6.3000000000000034, 6.1000000000000032), -70.67350000000016)\n",
        "((4.700000000000002, 6.7000000000000037), -70.68850000000013)\n",
        "((6.3000000000000034, 5.5000000000000027), -70.73100000000008)\n",
        "((2.9000000000000004, 5.900000000000003), -70.96750000000006)\n",
        "((6.9000000000000039, 6.7000000000000037), -71.1025000000001)\n",
        "((5.900000000000003, 4.3000000000000016), -71.27700000000013)\n",
        "((5.7000000000000028, 3.3000000000000007), -71.60850000000016)\n",
        "((2.9000000000000004, 6.3000000000000034), -71.63450000000006)\n",
        "((6.5000000000000036, 5.1000000000000023), -71.89750000000006)\n",
        "((3.5000000000000009, 3.3000000000000007), -72.58350000000009)\n",
        "((3.9000000000000012, 4.700000000000002), -72.6455000000001)\n",
        "((3.9000000000000012, 4.1000000000000014), -72.8080000000001)\n",
        "((2.9000000000000004, 4.5000000000000018), -72.95000000000005)\n",
        "((6.1000000000000032, 3.7000000000000011), -73.00200000000014)\n",
        "((5.1000000000000023, 6.5000000000000036), -73.21050000000017)\n",
        "((6.5000000000000036, 5.900000000000003), -73.39300000000014)\n",
        "((5.1000000000000023, 6.9000000000000039), -73.48100000000014)\n",
        "((6.7000000000000037, 4.9000000000000021), -73.48400000000011)\n",
        "((6.1000000000000032, 4.3000000000000016), -73.98200000000014)\n",
        "((6.5000000000000036, 6.3000000000000034), -74.06000000000017)\n",
        "((5.3000000000000025, 3.7000000000000011), -74.24950000000014)\n",
        "((4.700000000000002, 4.700000000000002), -74.31950000000016)\n",
        "((4.700000000000002, 4.1000000000000014), -74.48200000000017)\n",
        "((6.9000000000000039, 4.700000000000002), -74.73350000000012)\n",
        "((4.9000000000000021, 6.5000000000000036), -74.73550000000014)\n",
        "((6.9000000000000039, 4.1000000000000014), -74.89600000000007)\n",
        "((5.1000000000000023, 3.5000000000000009), -74.94100000000016)\n",
        "((4.9000000000000021, 6.9000000000000039), -75.00600000000017)\n",
        "((5.1000000000000023, 5.7000000000000028), -75.22300000000016)\n",
        "((5.3000000000000025, 4.3000000000000016), -75.22950000000017)\n",
        "((3.9000000000000012, 5.1000000000000023), -75.31700000000008)\n",
        "((5.1000000000000023, 6.1000000000000032), -75.3200000000001)\n",
        "((6.5000000000000036, 4.5000000000000018), -75.37550000000013)\n",
        "((5.1000000000000023, 5.5000000000000027), -75.37750000000011)\n",
        "((5.5000000000000027, 3.3000000000000007), -75.57500000000016)\n",
        "((3.1000000000000005, 3.3000000000000007), -76.20550000000003)\n",
        "((4.9000000000000021, 3.5000000000000009), -76.46600000000011)\n",
        "((4.5000000000000018, 5.3000000000000025), -76.60850000000015)\n",
        "((4.9000000000000021, 5.7000000000000028), -76.74800000000019)\n",
        "((3.9000000000000012, 5.900000000000003), -76.81250000000006)\n",
        "((4.9000000000000021, 6.1000000000000032), -76.84500000000014)\n",
        "((4.9000000000000021, 5.5000000000000027), -76.90250000000013)\n",
        "((3.7000000000000011, 3.7000000000000011), -76.95800000000008)\n",
        "((4.700000000000002, 5.1000000000000023), -76.99100000000014)\n",
        "((5.900000000000003, 3.3000000000000007), -77.23500000000018)\n",
        "((6.9000000000000039, 5.1000000000000023), -77.40500000000007)\n",
        "((6.3000000000000034, 3.7000000000000011), -77.46700000000011)\n",
        "((3.9000000000000012, 6.3000000000000034), -77.47950000000003)\n",
        "((3.7000000000000011, 4.3000000000000016), -77.93800000000009)\n",
        "((6.3000000000000034, 4.3000000000000016), -78.44700000000017)\n",
        "((2.9000000000000004, 6.5000000000000036), -78.46500000000006)\n",
        "((4.700000000000002, 5.900000000000003), -78.48650000000018)\n",
        "((2.9000000000000004, 6.9000000000000039), -78.73550000000009)\n",
        "((3.9000000000000012, 4.5000000000000018), -78.7950000000001)\n",
        "((6.9000000000000039, 5.900000000000003), -78.90050000000014)\n",
        "((4.700000000000002, 6.3000000000000034), -79.15350000000018)\n",
        "((6.7000000000000037, 3.9000000000000012), -79.34250000000016)\n",
        "((6.9000000000000039, 6.3000000000000034), -79.56750000000017)\n",
        "((4.5000000000000018, 4.9000000000000021), -79.57300000000014)\n",
        "((6.1000000000000032, 3.3000000000000007), -79.94000000000014)\n",
        "((2.9000000000000004, 3.5000000000000009), -80.19550000000008)\n",
        "((4.3000000000000016, 5.3000000000000025), -80.29950000000012)\n",
        "((4.700000000000002, 4.5000000000000018), -80.46900000000014)\n",
        "((2.9000000000000004, 5.7000000000000028), -80.4775000000001)\n",
        "((2.9000000000000004, 6.1000000000000032), -80.57450000000006)\n",
        "((2.9000000000000004, 5.5000000000000027), -80.63200000000005)\n",
        "((6.7000000000000037, 6.7000000000000037), -80.83800000000014)\n",
        "((6.9000000000000039, 4.5000000000000018), -80.8830000000001)\n",
        "((6.5000000000000036, 6.5000000000000036), -80.89050000000015)\n",
        "((6.5000000000000036, 6.9000000000000039), -81.16100000000017)\n",
        "((5.3000000000000025, 3.3000000000000007), -81.18750000000011)\n",
        "((5.1000000000000023, 3.7000000000000011), -82.11350000000017)\n",
        "((6.5000000000000036, 3.5000000000000009), -82.62100000000011)\n",
        "((6.5000000000000036, 5.7000000000000028), -82.90300000000013)\n",
        "((6.5000000000000036, 6.1000000000000032), -83.00000000000014)\n",
        "((6.5000000000000036, 5.5000000000000027), -83.0575000000001)\n",
        "((5.1000000000000023, 4.3000000000000016), -83.09350000000018)\n",
        "((4.3000000000000016, 4.9000000000000021), -83.26400000000017)\n",
        "((4.9000000000000021, 3.7000000000000011), -83.63850000000015)\n",
        "((3.7000000000000011, 3.3000000000000007), -83.89600000000006)\n",
        "((3.9000000000000012, 6.5000000000000036), -84.31000000000006)\n",
        "((6.3000000000000034, 3.3000000000000007), -84.40500000000014)\n",
        "((6.7000000000000037, 4.700000000000002), -84.46900000000012)\n",
        "((3.9000000000000012, 6.9000000000000039), -84.58050000000009)\n",
        "((4.9000000000000021, 4.3000000000000016), -84.61850000000013)\n",
        "((6.7000000000000037, 4.1000000000000014), -84.63150000000013)\n",
        "((4.5000000000000018, 3.9000000000000012), -85.43150000000016)\n",
        "((4.700000000000002, 6.5000000000000036), -85.9840000000001)\n",
        "((3.9000000000000012, 3.5000000000000009), -86.04050000000002)\n",
        "((4.700000000000002, 6.9000000000000039), -86.25450000000012)\n",
        "((3.9000000000000012, 5.7000000000000028), -86.32250000000005)\n",
        "((6.9000000000000039, 6.5000000000000036), -86.39800000000014)\n",
        "((3.9000000000000012, 6.1000000000000032), -86.41950000000008)\n",
        "((3.9000000000000012, 5.5000000000000027), -86.4770000000001)\n",
        "((6.9000000000000039, 6.9000000000000039), -86.66850000000014)\n",
        "((4.5000000000000018, 6.7000000000000037), -86.9270000000001)\n",
        "((6.7000000000000037, 5.1000000000000023), -87.14050000000013)\n",
        "((2.9000000000000004, 3.7000000000000011), -87.36800000000001)\n",
        "((4.700000000000002, 3.5000000000000009), -87.71450000000006)\n",
        "((4.700000000000002, 5.7000000000000028), -87.99650000000014)\n",
        "((4.700000000000002, 6.1000000000000032), -88.09350000000012)\n",
        "((6.9000000000000039, 3.5000000000000009), -88.1285000000001)\n",
        "((4.700000000000002, 5.5000000000000027), -88.15100000000014)\n",
        "((2.9000000000000004, 4.3000000000000016), -88.34800000000004)\n",
        "((6.9000000000000039, 5.7000000000000028), -88.41050000000016)\n",
        "((6.9000000000000039, 6.1000000000000032), -88.5075000000001)\n",
        "((6.9000000000000039, 5.5000000000000027), -88.56500000000013)\n",
        "((6.7000000000000037, 5.900000000000003), -88.63600000000014)\n",
        "((5.1000000000000023, 3.3000000000000007), -89.05150000000012)\n",
        "((4.3000000000000016, 3.9000000000000012), -89.12250000000007)\n",
        "((6.7000000000000037, 6.3000000000000034), -89.30300000000014)\n",
        "((6.5000000000000036, 3.7000000000000011), -89.79350000000015)\n",
        "((2.7000000000000002, 5.3000000000000025), -89.85700000000003)\n",
        "((4.5000000000000018, 4.700000000000002), -90.55800000000015)\n",
        "((4.9000000000000021, 3.3000000000000007), -90.5765000000001)\n",
        "((4.3000000000000016, 6.7000000000000037), -90.61800000000011)\n",
        "((6.7000000000000037, 4.5000000000000018), -90.61850000000013)\n",
        "((4.5000000000000018, 4.1000000000000014), -90.72050000000019)\n",
        "((6.5000000000000036, 4.3000000000000016), -90.77350000000015)\n",
        "((4.1000000000000014, 5.3000000000000025), -91.66200000000008)\n",
        "((2.7000000000000002, 4.9000000000000021), -92.82150000000001)\n",
        "((3.9000000000000012, 3.7000000000000011), -93.21299999999995)\n",
        "((4.5000000000000018, 5.1000000000000023), -93.22950000000007)\n",
        "((3.9000000000000012, 4.3000000000000016), -94.19300000000013)\n",
        "((4.3000000000000016, 4.700000000000002), -94.2490000000001)\n",
        "((2.9000000000000004, 3.3000000000000007), -94.30600000000007)\n",
        "((4.3000000000000016, 4.1000000000000014), -94.41150000000016)\n",
        "((4.1000000000000014, 4.9000000000000021), -94.62650000000009)\n",
        "((4.5000000000000018, 5.900000000000003), -94.72500000000011)\n",
        "((4.700000000000002, 3.7000000000000011), -94.8870000000001)\n",
        "((6.9000000000000039, 3.7000000000000011), -95.30100000000017)\n",
        "((4.5000000000000018, 6.3000000000000034), -95.39200000000011)\n",
        "((4.700000000000002, 4.3000000000000016), -95.86700000000013)\n",
        "((6.7000000000000037, 6.5000000000000036), -96.13350000000011)\n",
        "((6.9000000000000039, 4.3000000000000016), -96.28100000000012)\n",
        "((6.7000000000000037, 6.9000000000000039), -96.40400000000014)\n",
        "((4.5000000000000018, 4.5000000000000018), -96.7075000000001)\n",
        "((6.5000000000000036, 3.3000000000000007), -96.7315000000001)\n",
        "((4.3000000000000016, 5.1000000000000023), -96.9205000000001)\n",
        "((6.7000000000000037, 3.5000000000000009), -97.86400000000008)\n",
        "((6.7000000000000037, 5.7000000000000028), -98.1460000000001)\n",
        "((6.7000000000000037, 6.1000000000000032), -98.24300000000011)\n",
        "((6.7000000000000037, 5.5000000000000027), -98.30050000000007)\n",
        "((4.3000000000000016, 5.900000000000003), -98.41600000000008)\n",
        "((2.7000000000000002, 3.9000000000000012), -98.68)\n",
        "((4.3000000000000016, 6.3000000000000034), -99.08300000000006)\n",
        "((3.9000000000000012, 3.3000000000000007), -100.15100000000001)\n",
        "((2.7000000000000002, 6.7000000000000037), -100.17550000000004)\n",
        "((4.3000000000000016, 4.5000000000000018), -100.3985000000001)\n",
        "((4.1000000000000014, 3.9000000000000012), -100.48500000000011)\n",
        "((4.700000000000002, 3.3000000000000007), -101.82500000000005)\n",
        "((4.1000000000000014, 6.7000000000000037), -101.98050000000006)\n",
        "((4.5000000000000018, 6.5000000000000036), -102.22250000000008)\n",
        "((6.9000000000000039, 3.3000000000000007), -102.23900000000012)\n",
        "((4.5000000000000018, 6.9000000000000039), -102.49300000000008)\n",
        "((2.7000000000000002, 4.700000000000002), -103.80650000000003)\n",
        "((4.5000000000000018, 3.5000000000000009), -103.95300000000007)\n",
        "((2.7000000000000002, 4.1000000000000014), -103.9690000000001)\n",
        "((4.5000000000000018, 5.7000000000000028), -104.2350000000001)\n",
        "((4.5000000000000018, 6.1000000000000032), -104.33200000000008)\n",
        "((4.5000000000000018, 5.5000000000000027), -104.3895000000001)\n",
        "((6.7000000000000037, 3.7000000000000011), -105.03650000000009)\n",
        "((4.1000000000000014, 4.700000000000002), -105.61150000000005)\n",
        "((4.1000000000000014, 4.1000000000000014), -105.77400000000014)\n",
        "((4.3000000000000016, 6.5000000000000036), -105.91350000000014)\n",
        "((6.7000000000000037, 4.3000000000000016), -106.01650000000015)\n",
        "((2.5, 5.3000000000000025), -106.06850000000006)\n",
        "((4.3000000000000016, 6.9000000000000039), -106.18400000000014)\n",
        "((2.7000000000000002, 5.1000000000000023), -106.47800000000007)\n",
        "((4.3000000000000016, 3.5000000000000009), -107.64399999999988)\n",
        "((4.3000000000000016, 5.7000000000000028), -107.92600000000007)\n",
        "((2.7000000000000002, 5.900000000000003), -107.97350000000006)\n",
        "((4.3000000000000016, 6.1000000000000032), -108.02300000000017)\n",
        "((4.3000000000000016, 5.5000000000000027), -108.0805000000001)\n",
        "((4.1000000000000014, 5.1000000000000023), -108.28300000000009)\n",
        "((3.3000000000000007, 3.1000000000000005), -108.31199999999998)\n",
        "((2.7000000000000002, 6.3000000000000034), -108.64050000000009)\n",
        "((2.5, 4.9000000000000021), -109.03299999999996)\n",
        "((4.1000000000000014, 5.900000000000003), -109.7785000000001)\n",
        "((2.7000000000000002, 4.5000000000000018), -109.95600000000006)\n",
        "((4.1000000000000014, 6.3000000000000034), -110.44550000000012)\n",
        "((4.5000000000000018, 3.7000000000000011), -111.12549999999997)\n",
        "((4.1000000000000014, 4.5000000000000018), -111.76100000000014)\n",
        "((6.7000000000000037, 3.3000000000000007), -111.97450000000006)\n",
        "((4.5000000000000018, 4.3000000000000016), -112.10550000000009)\n",
        "((5.7000000000000028, 3.1000000000000005), -114.47649999999993)\n",
        "((4.3000000000000016, 3.7000000000000011), -114.81649999999992)\n",
        "((2.5, 3.9000000000000012), -114.89149999999994)\n",
        "((3.5000000000000009, 3.1000000000000005), -115.4515)\n",
        "((2.7000000000000002, 6.5000000000000036), -115.47100000000006)\n",
        "((2.7000000000000002, 6.9000000000000039), -115.74150000000003)\n",
        "((4.3000000000000016, 4.3000000000000016), -115.79650000000007)\n",
        "((2.5, 6.7000000000000037), -116.38700000000006)\n",
        "((2.7000000000000002, 3.5000000000000009), -117.20149999999988)\n",
        "((4.1000000000000014, 6.5000000000000036), -117.2760000000001)\n",
        "((2.7000000000000002, 5.7000000000000028), -117.48349999999999)\n",
        "((4.1000000000000014, 6.9000000000000039), -117.54650000000012)\n",
        "((2.7000000000000002, 6.1000000000000032), -117.58050000000009)\n",
        "((2.7000000000000002, 5.5000000000000027), -117.63800000000002)\n",
        "((4.5000000000000018, 3.3000000000000007), -118.06349999999992)\n",
        "((5.5000000000000027, 3.1000000000000005), -118.44299999999993)\n",
        "((4.1000000000000014, 3.5000000000000009), -119.00649999999989)\n",
        "((3.1000000000000005, 3.1000000000000005), -119.07350000000004)\n",
        "((4.1000000000000014, 5.7000000000000028), -119.2885)\n",
        "((4.1000000000000014, 6.1000000000000032), -119.38550000000004)\n",
        "((4.1000000000000014, 5.5000000000000027), -119.44300000000008)\n",
        "((2.5, 4.700000000000002), -120.018)\n",
        "((5.900000000000003, 3.1000000000000005), -120.10299999999997)\n",
        "((2.5, 4.1000000000000014), -120.18050000000004)\n",
        "((4.3000000000000016, 3.3000000000000007), -121.7544999999999)\n",
        "((2.5, 5.1000000000000023), -122.68950000000002)\n",
        "((6.1000000000000032, 3.1000000000000005), -122.80800000000009)\n",
        "((5.3000000000000025, 3.1000000000000005), -124.0554999999999)\n",
        "((2.5, 5.900000000000003), -124.18500000000003)\n",
        "((2.7000000000000002, 3.7000000000000011), -124.37399999999992)\n",
        "((2.5, 6.3000000000000034), -124.85200000000012)\n",
        "((2.7000000000000002, 4.3000000000000016), -125.35400000000007)\n",
        "((2.5, 4.5000000000000018), -126.16750000000005)\n",
        "((4.1000000000000014, 3.7000000000000011), -126.17899999999986)\n",
        "((3.7000000000000011, 3.1000000000000005), -126.76400000000014)\n",
        "((4.1000000000000014, 4.3000000000000016), -127.15900000000009)\n",
        "((6.3000000000000034, 3.1000000000000005), -127.27300000000004)\n",
        "((3.3000000000000007, 2.9000000000000004), -128.23150000000004)\n",
        "((2.7000000000000002, 3.3000000000000007), -131.31199999999995)\n",
        "((2.5, 6.5000000000000036), -131.68250000000003)\n",
        "((5.1000000000000023, 3.1000000000000005), -131.91949999999997)\n",
        "((2.5, 6.9000000000000039), -131.95300000000012)\n",
        "((4.1000000000000014, 3.3000000000000007), -133.1169999999999)\n",
        "((2.5, 3.5000000000000009), -133.41299999999995)\n",
        "((4.9000000000000021, 3.1000000000000005), -133.4445)\n",
        "((2.5, 5.7000000000000028), -133.69499999999996)\n",
        "((2.5, 6.1000000000000032), -133.792)\n",
        "((2.5, 5.5000000000000027), -133.84949999999995)\n",
        "((5.7000000000000028, 2.9000000000000004), -134.39600000000002)\n",
        "((3.5000000000000009, 2.9000000000000004), -135.371)\n",
        "((3.3000000000000007, 2.7000000000000002), -136.6435)\n",
        "((2.9000000000000004, 3.1000000000000005), -137.17400000000012)\n",
        "((5.5000000000000027, 2.9000000000000004), -138.3625)\n",
        "((3.1000000000000005, 2.9000000000000004), -138.99300000000005)\n",
        "((6.5000000000000036, 3.1000000000000005), -139.59950000000003)\n",
        "((5.900000000000003, 2.9000000000000004), -140.02249999999995)\n",
        "((2.5, 3.7000000000000011), -140.5854999999999)\n",
        "((2.5, 4.3000000000000016), -141.56550000000004)\n",
        "((6.1000000000000032, 2.9000000000000004), -142.7275)\n",
        "((5.7000000000000028, 2.7000000000000002), -142.80800000000008)\n",
        "((3.9000000000000012, 3.1000000000000005), -143.01900000000006)\n",
        "((3.5000000000000009, 2.7000000000000002), -143.78300000000002)\n",
        "((5.3000000000000025, 2.9000000000000004), -143.97499999999994)\n",
        "((4.700000000000002, 3.1000000000000005), -144.69300000000004)\n",
        "((6.9000000000000039, 3.1000000000000005), -145.10700000000008)\n",
        "((3.7000000000000011, 2.9000000000000004), -146.68350000000007)\n",
        "((5.5000000000000027, 2.7000000000000002), -146.7745000000001)\n",
        "((6.3000000000000034, 2.9000000000000004), -147.1925)\n",
        "((3.1000000000000005, 2.7000000000000002), -147.40500000000006)\n",
        "((2.5, 3.3000000000000007), -147.52349999999998)\n",
        "((5.900000000000003, 2.7000000000000002), -148.4345)\n",
        "((3.3000000000000007, 2.5), -149.573)\n",
        "((6.1000000000000032, 2.7000000000000002), -151.13949999999994)\n",
        "((5.1000000000000023, 2.9000000000000004), -151.839)\n",
        "((5.3000000000000025, 2.7000000000000002), -152.387)\n",
        "((4.9000000000000021, 2.9000000000000004), -153.36399999999992)\n",
        "((6.7000000000000037, 3.1000000000000005), -154.84250000000003)\n",
        "((3.7000000000000011, 2.7000000000000002), -155.09550000000007)\n",
        "((6.3000000000000034, 2.7000000000000002), -155.60449999999992)\n",
        "((5.7000000000000028, 2.5), -155.7374999999999)\n",
        "((3.5000000000000009, 2.5), -156.71250000000006)\n",
        "((2.9000000000000004, 2.9000000000000004), -157.09349999999998)\n",
        "((6.5000000000000036, 2.9000000000000004), -159.51900000000003)\n",
        "((5.5000000000000027, 2.5), -159.7039999999999)\n",
        "((5.1000000000000023, 2.7000000000000002), -160.251)\n",
        "((3.1000000000000005, 2.5), -160.3345)\n",
        "((4.5000000000000018, 3.1000000000000005), -160.93150000000003)\n",
        "((5.900000000000003, 2.5), -161.36399999999992)\n",
        "((4.9000000000000021, 2.7000000000000002), -161.77599999999987)\n",
        "((3.9000000000000012, 2.9000000000000004), -162.93850000000012)\n",
        "((6.1000000000000032, 2.5), -164.06899999999993)\n",
        "((4.700000000000002, 2.9000000000000004), -164.61249999999998)\n",
        "((4.3000000000000016, 3.1000000000000005), -164.6225)\n",
        "((6.9000000000000039, 2.9000000000000004), -165.02650000000003)\n",
        "((5.3000000000000025, 2.5), -165.31649999999985)\n",
        "((2.9000000000000004, 2.7000000000000002), -165.50549999999998)\n",
        "((6.5000000000000036, 2.7000000000000002), -167.93099999999998)\n",
        "((3.7000000000000011, 2.5), -168.025)\n",
        "((6.3000000000000034, 2.5), -168.534)\n",
        "((3.9000000000000012, 2.7000000000000002), -171.3505)\n",
        "((4.700000000000002, 2.7000000000000002), -173.02450000000002)\n",
        "((5.1000000000000023, 2.5), -173.1805)\n",
        "((6.9000000000000039, 2.7000000000000002), -173.43849999999998)\n",
        "((2.7000000000000002, 3.1000000000000005), -174.18000000000012)\n",
        "((4.9000000000000021, 2.5), -174.70550000000003)\n",
        "((6.7000000000000037, 2.9000000000000004), -174.76200000000003)\n",
        "((4.1000000000000014, 3.1000000000000005), -175.985)\n",
        "((4.5000000000000018, 2.9000000000000004), -180.85100000000003)\n",
        "((6.5000000000000036, 2.5), -180.86049999999997)\n",
        "((2.5, 2.5), -181.13750000000013)\n",
        "((2.5, 2.7000000000000002), -181.13750000000013)\n",
        "((6.7000000000000037, 2.7000000000000002), -183.17399999999998)\n",
        "((3.9000000000000012, 2.5), -184.28000000000006)\n",
        "((4.3000000000000016, 2.9000000000000004), -184.54200000000006)\n",
        "((2.9000000000000004, 2.5), -185.8145)\n",
        "((4.700000000000002, 2.5), -185.95399999999998)\n",
        "((6.9000000000000039, 2.5), -186.36799999999997)\n",
        "((4.5000000000000018, 2.7000000000000002), -189.26299999999998)\n",
        "((2.5, 3.1000000000000005), -190.39150000000015)\n",
        "((4.3000000000000016, 2.7000000000000002), -192.954)\n",
        "((2.7000000000000002, 2.9000000000000004), -194.0995000000001)\n",
        "((2.7000000000000002, 2.7000000000000002), -195.87550000000005)\n",
        "((4.1000000000000014, 2.9000000000000004), -195.9045000000001)\n",
        "((6.7000000000000037, 2.5), -196.10350000000003)\n",
        "((2.7000000000000002, 2.5), -196.42400000000006)\n",
        "((2.5, 2.9000000000000004), -197.94150000000022)\n",
        "((4.5000000000000018, 2.5), -202.19250000000002)\n",
        "((4.1000000000000014, 2.7000000000000002), -204.31650000000005)\n",
        "((4.3000000000000016, 2.5), -205.8835000000001)\n",
        "((4.1000000000000014, 2.5), -217.24600000000015)\n"
       ]
      }
     ],
     "prompt_number": 127
    },
    {
     "cell_type": "code",
     "collapsed": false,
     "input": [
      "def result_count_factory():\n",
      "    return {'H': 0, 'D': 0, 'A': 0}"
     ],
     "language": "python",
     "metadata": {},
     "outputs": [],
     "prompt_number": 16
    },
    {
     "cell_type": "code",
     "collapsed": false,
     "input": [
      "list(x/10.0 for x in range(-10, 10))"
     ],
     "language": "python",
     "metadata": {},
     "outputs": [
      {
       "metadata": {},
       "output_type": "pyout",
       "prompt_number": 17,
       "text": [
        "[-1.0,\n",
        " -0.9,\n",
        " -0.8,\n",
        " -0.7,\n",
        " -0.6,\n",
        " -0.5,\n",
        " -0.4,\n",
        " -0.3,\n",
        " -0.2,\n",
        " -0.1,\n",
        " 0.0,\n",
        " 0.1,\n",
        " 0.2,\n",
        " 0.3,\n",
        " 0.4,\n",
        " 0.5,\n",
        " 0.6,\n",
        " 0.7,\n",
        " 0.8,\n",
        " 0.9]"
       ]
      }
     ],
     "prompt_number": 17
    },
    {
     "cell_type": "code",
     "collapsed": false,
     "input": [
      "all_leagues = itertools.chain.from_iterable(y.all_leagues for y in league_analysis.all_years)\n",
      "\n",
      "class HistoricalSotrAnalyser(BaseAnalyser):\n",
      "    def __init__(self):\n",
      "        self.leagues = all_leagues\n",
      "        self.reset_per_league_stats()\n",
      "        self.buckets = collections.defaultdict(result_count_factory)\n",
      "        self.bucket_keys = [x/10.0 for x in range(-10, 10)] # [-1.0, -0.9 ... 0.0, 0.1, ... 1.0]\n",
      "        self.ignore_matches = 4\n",
      "\n",
      "    def reset_per_league_stats(self):\n",
      "        pass\n",
      "\n",
      "    def get_bucket(self, diff):\n",
      "        for bucket in self.bucket_keys:\n",
      "            if diff < bucket:\n",
      "                return bucket\n",
      "        else:\n",
      "            assert False\n",
      "\n",
      "    def evaluate_match(self, match, home_stats, away_stats):\n",
      "        sotr_diff = home_stats.sotr - away_stats.sotr\n",
      "        bucket = self.get_bucket(sotr_diff)\n",
      "        self.buckets[bucket][match.FTR] += 1\n",
      "\n",
      "    def display_per_league_results(self):\n",
      "        pass\n",
      "    \n",
      "    def get_proportions(self, result_counts):\n",
      "        total_matches = sum(r for r in result_counts.values())\n",
      "\n",
      "        return {result: float(result_counts[result]) / float(total_matches)\n",
      "                for result in result_counts.keys()}\n",
      "\n",
      "    def display_results(self):\n",
      "        for bucket in self.bucket_keys:\n",
      "            result_counts = self.buckets[bucket]    \n",
      "            print('Bucket {0} - {1}'.format(bucket - 0.1, bucket))\n",
      "            total_matches = sum(r for r in result_counts.values())\n",
      "            if total_matches == 0:\n",
      "                (print('no such matches'))\n",
      "                continue\n",
      "            proportions = self.get_proportions(result_counts)\n",
      "            for result in ['H', 'D', 'A']:\n",
      "                number = result_counts[result]\n",
      "                proportion = proportions[result]\n",
      "                print(\"          '{0}': {1}, {2}\".format(result, number, proportion))\n",
      "\n",
      "\n",
      "                sotr_analyser = HistoricalSotrAnalyser()\n",
      "sotr_analyser.analyse_leagues()\n",
      "sotr_analyser.display_results()"
     ],
     "language": "python",
     "metadata": {},
     "outputs": [
      {
       "output_type": "stream",
       "stream": "stdout",
       "text": [
        "Bucket -1.1 - -1.0\n",
        "no such matches\n",
        "Bucket -1.0 - -0.9\n",
        "no such matches\n",
        "Bucket -0.9 - -0.8\n",
        "no such matches\n",
        "Bucket -0.7999999999999999 - -0.7\n",
        "no such matches\n",
        "Bucket -0.7 - -0.6\n",
        "no such matches\n",
        "Bucket -0.6 - -0.5\n",
        "no such matches\n",
        "Bucket -0.5 - -0.4\n",
        "          'H': 0, 0.0\n",
        "          'D': 0, 0.0\n",
        "          'A': 2, 1.0\n",
        "Bucket -0.4 - -0.3\n",
        "          'H': 12, 0.21428571428571427\n",
        "          'D': 15, 0.26785714285714285\n",
        "          'A': 29, 0.5178571428571429\n",
        "Bucket -0.30000000000000004 - -0.2\n",
        "          'H': 82, 0.22714681440443213\n",
        "          'D': 75, 0.2077562326869806\n",
        "          'A': 204, 0.5650969529085873\n",
        "Bucket -0.2 - -0.1\n",
        "          'H': 450, 0.30612244897959184\n",
        "          'D': 380, 0.2585034013605442\n",
        "          'A': 640, 0.43537414965986393\n",
        "Bucket -0.1 - 0.0\n",
        "          'H': 1372, 0.37476099426386233\n",
        "          'D': 1057, 0.2887189292543021\n",
        "          'A': 1232, 0.3365200764818356\n",
        "Bucket 0.0 - 0.1\n",
        "          'H': 1708, 0.472606530160487\n",
        "          'D': 973, 0.2692307692307692\n",
        "          'A': 933, 0.2581627006087438\n",
        "Bucket 0.1 - 0.2\n",
        "          'H': 803, 0.5900073475385745\n",
        "          'D': 302, 0.221895664952241\n",
        "          'A': 256, 0.1880969875091844\n",
        "Bucket 0.19999999999999998 - 0.3\n",
        "          'H': 227, 0.6837349397590361\n",
        "          'D': 62, 0.18674698795180722\n",
        "          'A': 43, 0.12951807228915663\n",
        "Bucket 0.30000000000000004 - 0.4\n",
        "          'H': 35, 0.7608695652173914\n",
        "          'D': 6, 0.13043478260869565\n",
        "          'A': 5, 0.10869565217391304\n",
        "Bucket 0.4 - 0.5\n",
        "          'H': 1, 0.25\n",
        "          'D': 3, 0.75\n",
        "          'A': 0, 0.0\n",
        "Bucket 0.5 - 0.6\n",
        "no such matches\n",
        "Bucket 0.6 - 0.7\n",
        "no such matches\n",
        "Bucket 0.7000000000000001 - 0.8\n",
        "no such matches\n",
        "Bucket 0.8 - 0.9\n",
        "no such matches\n"
       ]
      }
     ],
     "prompt_number": 18
    },
    {
     "cell_type": "code",
     "collapsed": false,
     "input": [
      "def display_buckets(buckets):\n",
      "    for key in buckets.keys():\n",
      "        result_counts = buckets[key]    \n",
      "        print('Bucket {0}'.format(key))\n",
      "        total_matches = sum(r for r in result_counts.values())\n",
      "        if total_matches == 0:\n",
      "            print('no such matches')\n",
      "            continue\n",
      "        for result in ['H', 'D', 'A']:\n",
      "            number = result_counts[result]\n",
      "            proportion = float(number) / float(total_matches)\n",
      "            implied_odds = str(1.0 / proportion) if proportion else 'N/A'\n",
      "            print(\"          '{0}': {1}, {2}, {3}\".format(result, number, proportion, implied_odds))\n",
      "\n",
      "\n",
      "def post_match_odds(matches):\n",
      "    sotr_buckets = collections.defaultdict(result_count_factory)\n",
      "    tsr_buckets = collections.defaultdict(result_count_factory)\n",
      "    for match in matches:\n",
      "        sotr_diff = match.HST - match.AST\n",
      "        sotr_buckets[sotr_diff][match.FTR] += 1\n",
      "        tsr_diff = match.HS - match.AS\n",
      "        tsr_buckets[tsr_diff][match.FTR] += 1\n",
      "    print(\"The sotr buckets:\")\n",
      "    display_buckets(sotr_buckets)\n",
      "    print(\"The tsr buckets:\")\n",
      "    display_buckets(tsr_buckets)\n",
      "        \n",
      "post_match_odds(league_analysis.get_all_matches())"
     ],
     "language": "python",
     "metadata": {},
     "outputs": [
      {
       "output_type": "stream",
       "stream": "stdout",
       "text": [
        "The sotr buckets:\n",
        "Bucket 0\n",
        "          'H': 475, 0.3566066066066066, 2.8042105263157895\n",
        "          'D': 423, 0.31756756756756754, 3.148936170212766\n",
        "          'A': 434, 0.3258258258258258, 3.069124423963134\n",
        "Bucket 1\n",
        "          'H': 561, 0.42243975903614456, 2.3672014260249554\n",
        "          'D': 405, 0.3049698795180723, 3.2790123456790123\n",
        "          'A': 362, 0.27259036144578314, 3.6685082872928176\n",
        "Bucket 2\n",
        "          'H': 639, 0.48081264108352145, 2.07981220657277\n",
        "          'D': 404, 0.3039879608728367, 3.28960396039604\n",
        "          'A': 286, 0.21519939804364183, 4.646853146853147\n",
        "Bucket 3\n",
        "          'H': 587, 0.5516917293233082, 1.8126064735945486\n",
        "          'D': 287, 0.26973684210526316, 3.7073170731707314\n",
        "          'A': 190, 0.17857142857142858, 5.6\n",
        "Bucket 4\n",
        "          'H': 555, 0.6187290969899666, 1.6162162162162161\n",
        "          'D': 200, 0.2229654403567447, 4.485\n",
        "          'A': 142, 0.15830546265328874, 6.316901408450704\n",
        "Bucket 5\n",
        "          'H': 455, 0.6527977044476327, 1.5318681318681318\n",
        "          'D': 154, 0.22094691535150646, 4.525974025974026\n",
        "          'A': 88, 0.12625538020086083, 7.920454545454546\n",
        "Bucket 6\n",
        "          'H': 295, 0.6844547563805105, 1.4610169491525424\n",
        "          'D': 82, 0.1902552204176334, 5.2560975609756095\n",
        "          'A': 54, 0.12529002320185614, 7.981481481481482\n",
        "Bucket 7\n",
        "          'H': 262, 0.7119565217391305, 1.4045801526717556\n",
        "          'D': 75, 0.20380434782608695, 4.906666666666667\n",
        "          'A': 31, 0.08423913043478261, 11.870967741935484\n",
        "Bucket 8\n",
        "          'H': 139, 0.695, 1.4388489208633095\n",
        "          'D': 41, 0.205, 4.878048780487805\n",
        "          'A': 20, 0.1, 10.0\n",
        "Bucket 9\n",
        "          'H': 119, 0.8040540540540541, 1.2436974789915967\n",
        "          'D': 21, 0.14189189189189189, 7.047619047619048\n",
        "          'A': 8, 0.05405405405405406, 18.5\n",
        "Bucket 10\n",
        "          'H': 63, 0.8289473684210527, 1.2063492063492063\n",
        "          'D': 6, 0.07894736842105263, 12.666666666666668\n",
        "          'A': 7, 0.09210526315789473, 10.857142857142858\n",
        "Bucket 11\n",
        "          'H': 39, 0.7959183673469388, 1.2564102564102564\n",
        "          'D': 8, 0.16326530612244897, 6.125000000000001\n",
        "          'A': 2, 0.04081632653061224, 24.500000000000004\n",
        "Bucket 12\n",
        "          'H': 22, 0.6470588235294118, 1.5454545454545454\n",
        "          'D': 6, 0.17647058823529413, 5.666666666666666\n",
        "          'A': 6, 0.17647058823529413, 5.666666666666666\n",
        "Bucket 13\n",
        "          'H': 19, 0.8636363636363636, 1.1578947368421053\n",
        "          'D': 2, 0.09090909090909091, 11.0\n",
        "          'A': 1, 0.045454545454545456, 22.0\n",
        "Bucket 14\n",
        "          'H': 7, 0.6363636363636364, 1.5714285714285714\n",
        "          'D': 3, 0.2727272727272727, 3.666666666666667\n",
        "          'A': 1, 0.09090909090909091, 11.0\n",
        "Bucket 15\n",
        "          'H': 7, 1.0, 1.0\n",
        "          'D': 0, 0.0, N/A\n",
        "          'A': 0, 0.0, N/A\n",
        "Bucket 16\n",
        "          'H': 5, 0.8333333333333334, 1.2\n",
        "          'D': 1, 0.16666666666666666, 6.0\n",
        "          'A': 0, 0.0, N/A\n",
        "Bucket 17\n",
        "          'H': 2, 1.0, 1.0\n",
        "          'D': 0, 0.0, N/A\n",
        "          'A': 0, 0.0, N/A\n",
        "Bucket 21\n",
        "          'H': 1, 1.0, 1.0\n",
        "          'D': 0, 0.0, N/A\n",
        "          'A': 0, 0.0, N/A\n",
        "Bucket -15\n",
        "          'H': 0, 0.0, N/A\n",
        "          'D': 0, 0.0, N/A\n",
        "          'A': 2, 1.0, 1.0\n",
        "Bucket -14\n",
        "          'H': 1, 0.3333333333333333, 3.0\n",
        "          'D': 0, 0.0, N/A\n",
        "          'A': 2, 0.6666666666666666, 1.5\n",
        "Bucket -13\n",
        "          'H': 0, 0.0, N/A\n",
        "          'D': 0, 0.0, N/A\n",
        "          'A': 3, 1.0, 1.0\n",
        "Bucket -12\n",
        "          'H': 0, 0.0, N/A\n",
        "          'D': 0, 0.0, N/A\n",
        "          'A': 8, 1.0, 1.0\n",
        "Bucket -1\n",
        "          'H': 348, 0.29642248722316866, 3.3735632183908044\n",
        "          'D': 365, 0.31090289608177174, 3.2164383561643834\n",
        "          'A': 461, 0.39267461669505965, 2.5466377440347068\n",
        "Bucket -10\n",
        "          'H': 8, 0.2962962962962963, 3.375\n",
        "          'D': 6, 0.2222222222222222, 4.5\n",
        "          'A': 13, 0.48148148148148145, 2.076923076923077\n",
        "Bucket -9\n",
        "          'H': 4, 0.1111111111111111, 9.0\n",
        "          'D': 3, 0.08333333333333333, 12.0\n",
        "          'A': 29, 0.8055555555555556, 1.2413793103448276\n",
        "Bucket -8\n",
        "          'H': 8, 0.10810810810810811, 9.25\n",
        "          'D': 14, 0.1891891891891892, 5.285714285714286\n",
        "          'A': 52, 0.7027027027027027, 1.423076923076923\n",
        "Bucket -7\n",
        "          'H': 19, 0.15079365079365079, 6.631578947368421\n",
        "          'D': 22, 0.1746031746031746, 5.7272727272727275\n",
        "          'A': 85, 0.6746031746031746, 1.4823529411764704\n",
        "Bucket -6\n",
        "          'H': 35, 0.15283842794759825, 6.542857142857143\n",
        "          'D': 48, 0.2096069868995633, 4.770833333333334\n",
        "          'A': 146, 0.6375545851528385, 1.5684931506849313\n",
        "Bucket -5\n",
        "          'H': 51, 0.1513353115727003, 6.607843137254902\n",
        "          'D': 98, 0.29080118694362017, 3.438775510204082\n",
        "          'A': 188, 0.5578635014836796, 1.7925531914893615\n",
        "Bucket -4\n",
        "          'H': 84, 0.1830065359477124, 5.464285714285714\n",
        "          'D': 111, 0.24183006535947713, 4.135135135135135\n",
        "          'A': 264, 0.5751633986928104, 1.7386363636363638\n",
        "Bucket -3\n",
        "          'H': 145, 0.20027624309392264, 4.993103448275862\n",
        "          'D': 200, 0.27624309392265195, 3.6199999999999997\n",
        "          'A': 379, 0.5234806629834254, 1.9102902374670183\n",
        "Bucket -2\n",
        "          'H': 228, 0.2389937106918239, 4.184210526315789\n",
        "          'D': 266, 0.27882599580712786, 3.586466165413534\n",
        "          'A': 460, 0.48218029350104824, 2.0739130434782607\n",
        "Bucket -11\n",
        "          'H': 2, 0.16666666666666666, 6.0\n",
        "          'D': 2, 0.16666666666666666, 6.0\n",
        "          'A': 8, 0.6666666666666666, 1.5\n",
        "The tsr buckets:\n",
        "Bucket 0\n",
        "          'H': 261, 0.37392550143266473, 2.674329501915709\n",
        "          'D': 201, 0.28796561604584525, 3.4726368159203984\n",
        "          'A': 236, 0.33810888252148996, 2.957627118644068\n",
        "Bucket 1\n",
        "          'H': 315, 0.399746192893401, 2.5015873015873016\n",
        "          'D': 228, 0.2893401015228426, 3.456140350877193\n",
        "          'A': 245, 0.31091370558375636, 3.216326530612245\n",
        "Bucket 2\n",
        "          'H': 311, 0.4108322324966975, 2.4340836012861735\n",
        "          'D': 219, 0.2892998678996037, 3.45662100456621\n",
        "          'A': 227, 0.2998678996036988, 3.3348017621145374\n",
        "Bucket 3\n",
        "          'H': 341, 0.45165562913907287, 2.2140762463343107\n",
        "          'D': 204, 0.27019867549668874, 3.700980392156863\n",
        "          'A': 210, 0.2781456953642384, 3.5952380952380953\n",
        "Bucket 4\n",
        "          'H': 329, 0.46013986013986014, 2.1732522796352582\n",
        "          'D': 176, 0.24615384615384617, 4.0625\n",
        "          'A': 210, 0.2937062937062937, 3.4047619047619047\n",
        "Bucket 5\n",
        "          'H': 330, 0.45643153526970953, 2.190909090909091\n",
        "          'D': 193, 0.2669432918395574, 3.7461139896373057\n",
        "          'A': 200, 0.2766251728907331, 3.6149999999999998\n",
        "Bucket 6\n",
        "          'H': 304, 0.49754500818330605, 2.0098684210526314\n",
        "          'D': 150, 0.24549918166939444, 4.073333333333333\n",
        "          'A': 157, 0.2569558101472995, 3.8917197452229297\n",
        "Bucket 7\n",
        "          'H': 313, 0.535042735042735, 1.8690095846645367\n",
        "          'D': 142, 0.24273504273504273, 4.119718309859155\n",
        "          'A': 130, 0.2222222222222222, 4.5\n",
        "Bucket 8\n",
        "          'H': 239, 0.513978494623656, 1.9456066945606691\n",
        "          'D': 124, 0.26666666666666666, 3.75\n",
        "          'A': 102, 0.21935483870967742, 4.5588235294117645\n",
        "Bucket 9\n",
        "          'H': 229, 0.5558252427184466, 1.7991266375545851\n",
        "          'D': 105, 0.25485436893203883, 3.9238095238095236\n",
        "          'A': 78, 0.18932038834951456, 5.282051282051282\n",
        "Bucket 10\n",
        "          'H': 162, 0.525974025974026, 1.9012345679012346\n",
        "          'D': 88, 0.2857142857142857, 3.5\n",
        "          'A': 58, 0.18831168831168832, 5.310344827586206\n",
        "Bucket 11\n",
        "          'H': 136, 0.5230769230769231, 1.9117647058823528\n",
        "          'D': 70, 0.2692307692307692, 3.7142857142857144\n",
        "          'A': 54, 0.2076923076923077, 4.814814814814815\n",
        "Bucket 12\n",
        "          'H': 118, 0.5388127853881278, 1.8559322033898307\n",
        "          'D': 56, 0.2557077625570776, 3.910714285714286\n",
        "          'A': 45, 0.2054794520547945, 4.866666666666667\n",
        "Bucket 13\n",
        "          'H': 109, 0.5647668393782384, 1.7706422018348624\n",
        "          'D': 53, 0.27461139896373055, 3.6415094339622645\n",
        "          'A': 31, 0.16062176165803108, 6.225806451612904\n",
        "Bucket 14\n",
        "          'H': 77, 0.5579710144927537, 1.7922077922077921\n",
        "          'D': 40, 0.2898550724637681, 3.4499999999999997\n",
        "          'A': 21, 0.15217391304347827, 6.571428571428571\n",
        "Bucket 15\n",
        "          'H': 73, 0.6403508771929824, 1.5616438356164384\n",
        "          'D': 24, 0.21052631578947367, 4.75\n",
        "          'A': 17, 0.14912280701754385, 6.705882352941177\n",
        "Bucket 16\n",
        "          'H': 69, 0.69, 1.4492753623188408\n",
        "          'D': 19, 0.19, 5.2631578947368425\n",
        "          'A': 12, 0.12, 8.333333333333334\n",
        "Bucket 17\n",
        "          'H': 50, 0.6410256410256411, 1.5599999999999998\n",
        "          'D': 18, 0.23076923076923078, 4.333333333333333\n",
        "          'A': 10, 0.1282051282051282, 7.800000000000001\n",
        "Bucket 18\n",
        "          'H': 25, 0.7352941176470589, 1.3599999999999999\n",
        "          'D': 2, 0.058823529411764705, 17.0\n",
        "          'A': 7, 0.20588235294117646, 4.857142857142858\n",
        "Bucket 19\n",
        "          'H': 20, 0.625, 1.6\n",
        "          'D': 5, 0.15625, 6.4\n",
        "          'A': 7, 0.21875, 4.571428571428571\n",
        "Bucket 20\n",
        "          'H': 19, 0.6551724137931034, 1.5263157894736843\n",
        "          'D': 4, 0.13793103448275862, 7.25\n",
        "          'A': 6, 0.20689655172413793, 4.833333333333333\n",
        "Bucket 21\n",
        "          'H': 12, 0.5714285714285714, 1.75\n",
        "          'D': 6, 0.2857142857142857, 3.5\n",
        "          'A': 3, 0.14285714285714285, 7.0\n",
        "Bucket 22\n",
        "          'H': 7, 0.875, 1.1428571428571428\n",
        "          'D': 1, 0.125, 8.0\n",
        "          'A': 0, 0.0, N/A\n",
        "Bucket 23\n",
        "          'H': 7, 0.5833333333333334, 1.7142857142857142\n",
        "          'D': 3, 0.25, 4.0\n",
        "          'A': 2, 0.16666666666666666, 6.0\n",
        "Bucket 24\n",
        "          'H': 4, 0.8, 1.25\n",
        "          'D': 0, 0.0, N/A\n",
        "          'A': 1, 0.2, 5.0\n",
        "Bucket 25\n",
        "          'H': 2, 0.4, 2.5\n",
        "          'D': 3, 0.6, 1.6666666666666667\n",
        "          'A': 0, 0.0, N/A\n",
        "Bucket 26\n",
        "          'H': 1, 0.5, 2.0\n",
        "          'D': 1, 0.5, 2.0\n",
        "          'A': 0, 0.0, N/A\n",
        "Bucket 27\n",
        "          'H': 1, 0.5, 2.0\n",
        "          'D': 1, 0.5, 2.0\n",
        "          'A': 0, 0.0, N/A\n",
        "Bucket 28\n",
        "          'H': 3, 1.0, 1.0\n",
        "          'D': 0, 0.0, N/A\n",
        "          'A': 0, 0.0, N/A\n",
        "Bucket 29\n",
        "          'H': 1, 1.0, 1.0\n",
        "          'D': 0, 0.0, N/A\n",
        "          'A': 0, 0.0, N/A\n",
        "Bucket 32\n",
        "          'H': 1, 1.0, 1.0\n",
        "          'D': 0, 0.0, N/A\n",
        "          'A': 0, 0.0, N/A\n",
        "Bucket 38\n",
        "          'H': 0, 0.0, N/A\n",
        "          'D': 1, 1.0, 1.0\n",
        "          'A': 0, 0.0, N/A\n",
        "Bucket 40\n",
        "          'H': 1, 1.0, 1.0\n",
        "          'D': 0, 0.0, N/A\n",
        "          'A': 0, 0.0, N/A\n",
        "Bucket 41\n",
        "          'H': 1, 1.0, 1.0\n",
        "          'D': 0, 0.0, N/A\n",
        "          'A': 0, 0.0, N/A\n",
        "Bucket -11\n",
        "          'H': 24, 0.24489795918367346, 4.083333333333333\n",
        "          'D': 31, 0.3163265306122449, 3.161290322580645\n",
        "          'A': 43, 0.4387755102040816, 2.2790697674418605\n",
        "Bucket -23\n",
        "          'H': 1, 0.5, 2.0\n",
        "          'D': 0, 0.0, N/A\n",
        "          'A': 1, 0.5, 2.0\n",
        "Bucket -21\n",
        "          'H': 0, 0.0, N/A\n",
        "          'D': 0, 0.0, N/A\n",
        "          'A': 2, 1.0, 1.0\n",
        "Bucket -20\n",
        "          'H': 1, 0.3333333333333333, 3.0\n",
        "          'D': 1, 0.3333333333333333, 3.0\n",
        "          'A': 1, 0.3333333333333333, 3.0\n",
        "Bucket -19\n",
        "          'H': 3, 0.3333333333333333, 3.0\n",
        "          'D': 1, 0.1111111111111111, 9.0\n",
        "          'A': 5, 0.5555555555555556, 1.7999999999999998\n",
        "Bucket -18\n",
        "          'H': 2, 0.15384615384615385, 6.5\n",
        "          'D': 2, 0.15384615384615385, 6.5\n",
        "          'A': 9, 0.6923076923076923, 1.4444444444444444\n",
        "Bucket -17\n",
        "          'H': 6, 0.35294117647058826, 2.833333333333333\n",
        "          'D': 2, 0.11764705882352941, 8.5\n",
        "          'A': 9, 0.5294117647058824, 1.8888888888888888\n",
        "Bucket -16\n",
        "          'H': 6, 0.3, 3.3333333333333335\n",
        "          'D': 2, 0.1, 10.0\n",
        "          'A': 12, 0.6, 1.6666666666666667\n",
        "Bucket -15\n",
        "          'H': 7, 0.3684210526315789, 2.7142857142857144\n",
        "          'D': 4, 0.21052631578947367, 4.75\n",
        "          'A': 8, 0.42105263157894735, 2.375\n",
        "Bucket -14\n",
        "          'H': 11, 0.2558139534883721, 3.9090909090909087\n",
        "          'D': 12, 0.27906976744186046, 3.5833333333333335\n",
        "          'A': 20, 0.46511627906976744, 2.15\n",
        "Bucket -13\n",
        "          'H': 8, 0.18181818181818182, 5.5\n",
        "          'D': 15, 0.3409090909090909, 2.9333333333333336\n",
        "          'A': 21, 0.4772727272727273, 2.0952380952380953\n",
        "Bucket -12\n",
        "          'H': 10, 0.13513513513513514, 7.3999999999999995\n",
        "          'D': 27, 0.36486486486486486, 2.740740740740741\n",
        "          'A': 37, 0.5, 2.0\n",
        "Bucket -1\n",
        "          'H': 255, 0.3684971098265896, 2.713725490196078\n",
        "          'D': 196, 0.2832369942196532, 3.530612244897959\n",
        "          'A': 241, 0.34826589595375723, 2.871369294605809\n",
        "Bucket -10\n",
        "          'H': 26, 0.24074074074074073, 4.153846153846154\n",
        "          'D': 32, 0.2962962962962963, 3.375\n",
        "          'A': 50, 0.46296296296296297, 2.16\n",
        "Bucket -9\n",
        "          'H': 44, 0.29333333333333333, 3.409090909090909\n",
        "          'D': 41, 0.2733333333333333, 3.658536585365854\n",
        "          'A': 65, 0.43333333333333335, 2.3076923076923075\n",
        "Bucket -8\n",
        "          'H': 69, 0.34328358208955223, 2.9130434782608696\n",
        "          'D': 48, 0.23880597014925373, 4.1875\n",
        "          'A': 84, 0.417910447761194, 2.392857142857143\n",
        "Bucket -7\n",
        "          'H': 61, 0.25523012552301255, 3.918032786885246\n",
        "          'D': 57, 0.2384937238493724, 4.192982456140351\n",
        "          'A': 121, 0.5062761506276151, 1.9752066115702478\n",
        "Bucket -6\n",
        "          'H': 104, 0.3151515151515151, 3.1730769230769234\n",
        "          'D': 82, 0.24848484848484848, 4.024390243902439\n",
        "          'A': 144, 0.43636363636363634, 2.291666666666667\n",
        "Bucket -5\n",
        "          'H': 121, 0.29876543209876544, 3.3471074380165287\n",
        "          'D': 119, 0.2938271604938272, 3.403361344537815\n",
        "          'A': 165, 0.4074074074074074, 2.4545454545454546\n",
        "Bucket -4\n",
        "          'H': 148, 0.3169164882226981, 3.1554054054054053\n",
        "          'D': 127, 0.27194860813704497, 3.677165354330709\n",
        "          'A': 192, 0.41113490364025695, 2.4322916666666665\n",
        "Bucket -3\n",
        "          'H': 196, 0.35062611806797855, 2.8520408163265305\n",
        "          'D': 165, 0.295169946332737, 3.387878787878788\n",
        "          'A': 198, 0.3542039355992844, 2.8232323232323235\n",
        "Bucket -2\n",
        "          'H': 211, 0.3528428093645485, 2.8341232227488153\n",
        "          'D': 152, 0.25418060200668896, 3.9342105263157894\n",
        "          'A': 235, 0.39297658862876256, 2.5446808510638297\n"
       ]
      }
     ],
     "prompt_number": 21
    },
    {
     "cell_type": "code",
     "collapsed": false,
     "input": [
      "def get_implied_odds(proportions):\n",
      "    return {r: 1.0 / p for r, p in proportions.items()}"
     ],
     "language": "python",
     "metadata": {},
     "outputs": [],
     "prompt_number": 160
    },
    {
     "cell_type": "code",
     "collapsed": false,
     "input": [
      "bucket_counts = sotr_analyser.buckets\n",
      "def bet_based_on_sotr_and_odds(match, home_stats, away_stats):\n",
      "    sotr_diff = home_stats.sotr - away_stats.sotr\n",
      "    bucket = sotr_analyser.get_bucket(sotr_diff)\n",
      "    bucket = min(0.4, max(-0.3, bucket))\n",
      "    result_counts = bucket_counts[bucket]\n",
      "    proportions = sotr_analyser.get_proportions(result_counts)\n",
      "    implied_odds = get_implied_odds(proportions)\n",
      "    differences = [(r, getattr(match, 'BbAv' + r) - implied_odds[r])\n",
      "                   for r in ['H', 'A', 'D']]\n",
      "    sorted_differences = sorted(differences, reverse=True, key=lambda p: p[1])\n",
      "    bet, gain = sorted_differences[1]\n",
      "    if gain > 0.0:\n",
      "        return bet\n",
      "    else:\n",
      "        return None\n",
      "historical_betting(bet_based_on_sotr_and_odds)"
     ],
     "language": "python",
     "metadata": {},
     "outputs": [
      {
       "output_type": "stream",
       "stream": "stdout",
       "text": [
        "League profit/loss: -10.414000000000005\n",
        "H bets wins 0 out of 0 for profit/loss: 0.0\n",
        "D bets wins 20 out of 91 for profit/loss: -8.414000000000005\n",
        "A bets wins 0 out of 2 for profit/loss: -2.0\n",
        "League profit/loss: -18.303500000000003"
       ]
      },
      {
       "output_type": "stream",
       "stream": "stdout",
       "text": [
        "\n",
        "H bets wins 1 out of 1 for profit/loss: 0.32300000000000006\n",
        "D bets wins 20 out of 110 for profit/loss: -19.3865\n",
        "A bets wins 1 out of 1 for profit/loss: 0.76\n",
        "League profit/loss: -33.160000000000004"
       ]
      },
      {
       "output_type": "stream",
       "stream": "stdout",
       "text": [
        "\n",
        "H bets wins 0 out of 0 for profit/loss: 0.0\n",
        "D bets wins 15 out of 93 for profit/loss: -33.160000000000004\n",
        "A bets wins 0 out of 0 for profit/loss: 0.0\n",
        "League profit/loss: -38.292500000000004"
       ]
      },
      {
       "output_type": "stream",
       "stream": "stdout",
       "text": [
        "\n",
        "H bets wins 0 out of 0 for profit/loss: 0.0\n",
        "D bets wins 15 out of 113 for profit/loss: -38.292500000000004\n",
        "A bets wins 0 out of 0 for profit/loss: 0.0\n",
        "League profit/loss: -14.132000000000005"
       ]
      },
      {
       "output_type": "stream",
       "stream": "stdout",
       "text": [
        "\n",
        "H bets wins 0 out of 0 for profit/loss: 0.0\n",
        "D bets wins 20 out of 101 for profit/loss: -14.728000000000002\n",
        "A bets wins 2 out of 3 for profit/loss: 0.5960000000000001\n",
        "League profit/loss: 0.9034999999999993\n",
        "H bets wins 0 out of 0 for profit/loss: 0.0\n",
        "D bets wins 4 out of 15 for profit/loss: 0.9034999999999993\n",
        "A bets wins 0 out of 0 for profit/loss: 0.0\n",
        "Total profit loss for all leagues: -113.3985\n"
       ]
      }
     ],
     "prompt_number": 186
    },
    {
     "cell_type": "code",
     "collapsed": false,
     "input": [
      "match = epl_leagues[-1].matches[-1]"
     ],
     "language": "python",
     "metadata": {},
     "outputs": [],
     "prompt_number": 173
    },
    {
     "cell_type": "code",
     "collapsed": false,
     "input": [
      "match.BbAvH, match.BbAvA, match.BbAvD"
     ],
     "language": "python",
     "metadata": {},
     "outputs": [
      {
       "metadata": {},
       "output_type": "pyout",
       "prompt_number": 174,
       "text": [
        "(2.53, 2.86, 3.31)"
       ]
      }
     ],
     "prompt_number": 174
    },
    {
     "cell_type": "code",
     "collapsed": false,
     "input": [
      "match.HomeTeam, match.AwayTeam"
     ],
     "language": "python",
     "metadata": {},
     "outputs": [
      {
       "metadata": {},
       "output_type": "pyout",
       "prompt_number": 175,
       "text": [
        "('Sunderland', 'Newcastle')"
       ]
      }
     ],
     "prompt_number": 175
    },
    {
     "cell_type": "code",
     "collapsed": false,
     "input": [
      "1 / 2.53"
     ],
     "language": "python",
     "metadata": {},
     "outputs": [
      {
       "metadata": {},
       "output_type": "pyout",
       "prompt_number": 176,
       "text": [
        "0.3952569169960475"
       ]
      }
     ],
     "prompt_number": 176
    },
    {
     "cell_type": "code",
     "collapsed": false,
     "input": [
      "1/2.86"
     ],
     "language": "python",
     "metadata": {},
     "outputs": [
      {
       "metadata": {},
       "output_type": "pyout",
       "prompt_number": 177,
       "text": [
        "0.3496503496503497"
       ]
      }
     ],
     "prompt_number": 177
    },
    {
     "cell_type": "code",
     "collapsed": false,
     "input": [
      "1/3.31"
     ],
     "language": "python",
     "metadata": {},
     "outputs": [
      {
       "metadata": {},
       "output_type": "pyout",
       "prompt_number": 178,
       "text": [
        "0.3021148036253776"
       ]
      }
     ],
     "prompt_number": 178
    },
    {
     "cell_type": "code",
     "collapsed": false,
     "input": [
      "(1 / 2.53) + (1/2.86) + (1/3.31)"
     ],
     "language": "python",
     "metadata": {},
     "outputs": [
      {
       "metadata": {},
       "output_type": "pyout",
       "prompt_number": 179,
       "text": [
        "1.0470220702717747"
       ]
      }
     ],
     "prompt_number": 179
    },
    {
     "cell_type": "code",
     "collapsed": false,
     "input": [],
     "language": "python",
     "metadata": {},
     "outputs": []
    }
   ],
   "metadata": {}
  }
 ]
}