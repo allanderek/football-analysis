{
 "cells": [
  {
   "cell_type": "markdown",
   "metadata": {},
   "source": [
    "# EPL 2nd-3rd of April 2016\n",
    "\n",
    "I'm on holiday this week so a more brief than usual look at the the English Premier League in shot statistics. This was the week in which Leicester's lead at the top increased to 7 points after Tottenham failed to win at Anfield and Newcastle took a big step towards the Championship."
   ]
  },
  {
   "cell_type": "code",
   "execution_count": 1,
   "metadata": {
    "collapsed": false
   },
   "outputs": [
    {
     "data": {
      "text/html": [
       "<div><div style=\"display:inline-block; margin-right:2em;\">\n",
       "    <table>\n",
       "      <tr><th></th><th>Home</th><th>Away</th></tr>\n",
       "      <tr><td>Team</td><td>Arsenal</td><td>Watford</td></tr>\n",
       "      <tr><td>Goals</td><td>4</td><td>0</td></tr>\n",
       "      <tr><td>Shots</td><td>19</td><td>6</td></tr>\n",
       "      <tr><td>SOT</td><td>12</td><td>2</td></tr>\n",
       "      \n",
       "    </table>\n",
       "    </div>\n",
       "<div style=\"display:inline-block; margin-right:2em;\">\n",
       "    <table>\n",
       "      <tr><th></th><th>Home</th><th>Away</th></tr>\n",
       "      <tr><td>Team</td><td>Aston Villa</td><td>Chelsea</td></tr>\n",
       "      <tr><td>Goals</td><td>0</td><td>4</td></tr>\n",
       "      <tr><td>Shots</td><td>15</td><td>11</td></tr>\n",
       "      <tr><td>SOT</td><td>4</td><td>8</td></tr>\n",
       "      \n",
       "    </table>\n",
       "    </div>\n",
       "<div style=\"display:inline-block; margin-right:2em;\">\n",
       "    <table>\n",
       "      <tr><th></th><th>Home</th><th>Away</th></tr>\n",
       "      <tr><td>Team</td><td>Bournemouth</td><td>Man City</td></tr>\n",
       "      <tr><td>Goals</td><td>0</td><td>4</td></tr>\n",
       "      <tr><td>Shots</td><td>11</td><td>15</td></tr>\n",
       "      <tr><td>SOT</td><td>2</td><td>7</td></tr>\n",
       "      \n",
       "    </table>\n",
       "    </div>\n",
       "<div style=\"display:inline-block; margin-right:2em;\">\n",
       "    <table>\n",
       "      <tr><th></th><th>Home</th><th>Away</th></tr>\n",
       "      <tr><td>Team</td><td>Liverpool</td><td>Tottenham</td></tr>\n",
       "      <tr><td>Goals</td><td>1</td><td>1</td></tr>\n",
       "      <tr><td>Shots</td><td>15</td><td>18</td></tr>\n",
       "      <tr><td>SOT</td><td>7</td><td>5</td></tr>\n",
       "      \n",
       "    </table>\n",
       "    </div>\n",
       "<div style=\"display:inline-block; margin-right:2em;\">\n",
       "    <table>\n",
       "      <tr><th></th><th>Home</th><th>Away</th></tr>\n",
       "      <tr><td>Team</td><td>Norwich</td><td>Newcastle</td></tr>\n",
       "      <tr><td>Goals</td><td>3</td><td>2</td></tr>\n",
       "      <tr><td>Shots</td><td>13</td><td>13</td></tr>\n",
       "      <tr><td>SOT</td><td>6</td><td>5</td></tr>\n",
       "      \n",
       "    </table>\n",
       "    </div>\n",
       "<div style=\"display:inline-block; margin-right:2em;\">\n",
       "    <table>\n",
       "      <tr><th></th><th>Home</th><th>Away</th></tr>\n",
       "      <tr><td>Team</td><td>Stoke</td><td>Swansea</td></tr>\n",
       "      <tr><td>Goals</td><td>2</td><td>2</td></tr>\n",
       "      <tr><td>Shots</td><td>12</td><td>12</td></tr>\n",
       "      <tr><td>SOT</td><td>5</td><td>3</td></tr>\n",
       "      \n",
       "    </table>\n",
       "    </div>\n",
       "<div style=\"display:inline-block; margin-right:2em;\">\n",
       "    <table>\n",
       "      <tr><th></th><th>Home</th><th>Away</th></tr>\n",
       "      <tr><td>Team</td><td>Sunderland</td><td>West Brom</td></tr>\n",
       "      <tr><td>Goals</td><td>0</td><td>0</td></tr>\n",
       "      <tr><td>Shots</td><td>22</td><td>3</td></tr>\n",
       "      <tr><td>SOT</td><td>7</td><td>0</td></tr>\n",
       "      \n",
       "    </table>\n",
       "    </div>\n",
       "<div style=\"display:inline-block; margin-right:2em;\">\n",
       "    <table>\n",
       "      <tr><th></th><th>Home</th><th>Away</th></tr>\n",
       "      <tr><td>Team</td><td>West Ham</td><td>Crystal Palace</td></tr>\n",
       "      <tr><td>Goals</td><td>2</td><td>2</td></tr>\n",
       "      <tr><td>Shots</td><td>18</td><td>12</td></tr>\n",
       "      <tr><td>SOT</td><td>6</td><td>5</td></tr>\n",
       "      \n",
       "    </table>\n",
       "    </div>\n",
       "<div style=\"display:inline-block; margin-right:2em;\">\n",
       "    <table>\n",
       "      <tr><th></th><th>Home</th><th>Away</th></tr>\n",
       "      <tr><td>Team</td><td>Leicester</td><td>Southampton</td></tr>\n",
       "      <tr><td>Goals</td><td>1</td><td>0</td></tr>\n",
       "      <tr><td>Shots</td><td>11</td><td>10</td></tr>\n",
       "      <tr><td>SOT</td><td>4</td><td>2</td></tr>\n",
       "      \n",
       "    </table>\n",
       "    </div>\n",
       "<div style=\"display:inline-block; margin-right:2em;\">\n",
       "    <table>\n",
       "      <tr><th></th><th>Home</th><th>Away</th></tr>\n",
       "      <tr><td>Team</td><td>Man United</td><td>Everton</td></tr>\n",
       "      <tr><td>Goals</td><td>1</td><td>0</td></tr>\n",
       "      <tr><td>Shots</td><td>10</td><td>7</td></tr>\n",
       "      <tr><td>SOT</td><td>2</td><td>1</td></tr>\n",
       "      \n",
       "    </table>\n",
       "    </div></div><div><div style=\"display:inline-block; margin-right:2em;\"><table><tr><th>Position</th> <th>Team</th> <th>Points</th></tr><tr><td>1</td> <td>Leicester</td> <td>69</td></tr>\n",
       "<tr><td>2</td> <td>Tottenham</td> <td>62</td></tr>\n",
       "<tr><td>3</td> <td>Arsenal</td> <td>58</td></tr>\n",
       "<tr><td>4</td> <td>Man City</td> <td>54</td></tr>\n",
       "<tr><td>5</td> <td>Man United</td> <td>53</td></tr>\n",
       "<tr><td>6</td> <td>West Ham</td> <td>51</td></tr>\n",
       "<tr><td>7</td> <td>Stoke</td> <td>47</td></tr>\n",
       "<tr><td>-</td> <td>Southampton</td> <td>47</td></tr>\n",
       "<tr><td>9</td> <td>Liverpool</td> <td>45</td></tr>\n",
       "<tr><td>10</td> <td>Chelsea</td> <td>44</td></tr>\n",
       "<tr><td>11</td> <td>West Brom</td> <td>40</td></tr>\n",
       "<tr><td>12</td> <td>Bournemouth</td> <td>38</td></tr>\n",
       "<tr><td>-</td> <td>Everton</td> <td>38</td></tr>\n",
       "<tr><td>14</td> <td>Swansea</td> <td>37</td></tr>\n",
       "<tr><td>-</td> <td>Watford</td> <td>37</td></tr>\n",
       "<tr><td>16</td> <td>Crystal Palace</td> <td>34</td></tr>\n",
       "<tr><td>17</td> <td>Norwich</td> <td>31</td></tr>\n",
       "<tr><td>18</td> <td>Sunderland</td> <td>27</td></tr>\n",
       "<tr><td>19</td> <td>Newcastle</td> <td>25</td></tr>\n",
       "<tr><td>20</td> <td>Aston Villa</td> <td>16</td></tr></table></div>\n",
       "<div style=\"display:inline-block; margin-right:2em;\"><table><tr><th>Position</th> <th>Team</th> <th>Team Rating</th></tr><tr><td>1</td> <td>Man City</td> <td>0.24656122483025536</td></tr>\n",
       "<tr><td>2</td> <td>Tottenham</td> <td>0.2401497571729931</td></tr>\n",
       "<tr><td>3</td> <td>Liverpool</td> <td>0.1382427878387203</td></tr>\n",
       "<tr><td>4</td> <td>Arsenal</td> <td>0.1284861762834652</td></tr>\n",
       "<tr><td>5</td> <td>Leicester</td> <td>0.06962835691506863</td></tr>\n",
       "<tr><td>6</td> <td>Chelsea</td> <td>0.0673964512855661</td></tr>\n",
       "<tr><td>7</td> <td>Man United</td> <td>0.05510181920276379</td></tr>\n",
       "<tr><td>8</td> <td>Southampton</td> <td>0.05111347407372008</td></tr>\n",
       "<tr><td>9</td> <td>Everton</td> <td>0.035865889675056425</td></tr>\n",
       "<tr><td>10</td> <td>West Ham</td> <td>0.02009568621742503</td></tr>\n",
       "<tr><td>11</td> <td>Bournemouth</td> <td>-0.0325774629243777</td></tr>\n",
       "<tr><td>12</td> <td>Watford</td> <td>-0.0686499115905561</td></tr>\n",
       "<tr><td>13</td> <td>Swansea</td> <td>-0.07024033325097351</td></tr>\n",
       "<tr><td>14</td> <td>Stoke</td> <td>-0.07101601669186798</td></tr>\n",
       "<tr><td>15</td> <td>Crystal Palace</td> <td>-0.08237108126504067</td></tr>\n",
       "<tr><td>16</td> <td>Norwich</td> <td>-0.12288480140992927</td></tr>\n",
       "<tr><td>17</td> <td>Sunderland</td> <td>-0.12903373750077157</td></tr>\n",
       "<tr><td>18</td> <td>West Brom</td> <td>-0.15381930348377384</td></tr>\n",
       "<tr><td>19</td> <td>Newcastle</td> <td>-0.17529144635371352</td></tr>\n",
       "<tr><td>20</td> <td>Aston Villa</td> <td>-0.20285708400383246</td></tr></table></div>\n",
       "<div style=\"display:inline-block; margin-right:2em;\"><table><tr><th>Position</th> <th>Team</th> <th>PDO</th></tr><tr><td>1</td> <td>Leicester</td> <td>0.1200512992082079</td></tr>\n",
       "<tr><td>2</td> <td>Man United</td> <td>0.08299682103273476</td></tr>\n",
       "<tr><td>3</td> <td>West Ham</td> <td>0.07888337217549901</td></tr>\n",
       "<tr><td>4</td> <td>Arsenal</td> <td>0.07331794780756257</td></tr>\n",
       "<tr><td>5</td> <td>West Brom</td> <td>0.06853417899929531</td></tr>\n",
       "<tr><td>6</td> <td>Everton</td> <td>0.06569343065693428</td></tr>\n",
       "<tr><td>7</td> <td>Chelsea</td> <td>0.05541653633614846</td></tr>\n",
       "<tr><td>8</td> <td>Stoke</td> <td>0.045856798069187465</td></tr>\n",
       "<tr><td>9</td> <td>Watford</td> <td>0.03803689721490133</td></tr>\n",
       "<tr><td>10</td> <td>Man City</td> <td>0.014146772767462401</td></tr>\n",
       "<tr><td>11</td> <td>Tottenham</td> <td>0.006365849091930331</td></tr>\n",
       "<tr><td>12</td> <td>Southampton</td> <td>0.005066051045273801</td></tr>\n",
       "<tr><td>13</td> <td>Sunderland</td> <td>-0.0012422360248446895</td></tr>\n",
       "<tr><td>14</td> <td>Swansea</td> <td>-0.014180672268907568</td></tr>\n",
       "<tr><td>15</td> <td>Crystal Palace</td> <td>-0.043394575678040226</td></tr>\n",
       "<tr><td>16</td> <td>Norwich</td> <td>-0.05180256636567315</td></tr>\n",
       "<tr><td>17</td> <td>Liverpool</td> <td>-0.10325948561242682</td></tr>\n",
       "<tr><td>18</td> <td>Newcastle</td> <td>-0.11611917494270435</td></tr>\n",
       "<tr><td>19</td> <td>Bournemouth</td> <td>-0.11701734957548915</td></tr>\n",
       "<tr><td>20</td> <td>Aston Villa</td> <td>-0.160603371783496</td></tr></table></div></div>"
      ],
      "text/plain": [
       "<IPython.core.display.HTML object>"
      ]
     },
     "metadata": {},
     "output_type": "display_data"
    }
   ],
   "source": [
    "%matplotlib inline\n",
    "import league_analysis\n",
    "from IPython.display import display, HTML\n",
    "epl = league_analysis.epl\n",
    "display(HTML(league_analysis.blog_weekly_header(epl, '02/04/2016', '03/04/2016')))"
   ]
  },
  {
   "cell_type": "markdown",
   "metadata": {},
   "source": [
    "# Matches\n",
    "\n",
    "Three games ended 4-0 and two of them were wins for the away teams. All were relatively predictable wins though. Of the three Aston Villa might be the most aggrieved to have lost by such a wide margin after managing 15 shots.\n",
    "\n",
    "I expected Southampton to take something from their game against the league leaders and was a touch surprised Leicester actually out-shot Southampton, though it was clearly quite a close game. Tottenham's game against Liverpool was a pretty good game with both teams having chances to win the match. Probably a draw was about deserved even if it was not really what Tottenham needed.\n",
    "\n",
    "Sunderland had the most shots of the week, but still didn't get the win they needed. Manchester United did get the win they were after, again despite only 2 shots on target.\n",
    "\n",
    "<!-- TEASER_END -->"
   ]
  },
  {
   "cell_type": "markdown",
   "metadata": {},
   "source": [
    "# The Title\n",
    "\n",
    "Obviously this looks more likely to go to Leicester. I still think Leicester have three pretty challenging games to end with, so if Tottenham can be within 5 points with 3 games to go they still have a pretty good shot at the title.\n",
    "\n",
    "Here are the remaining matches:"
   ]
  },
  {
   "cell_type": "code",
   "execution_count": 2,
   "metadata": {
    "collapsed": false
   },
   "outputs": [
    {
     "data": {
      "text/html": [
       "<table><tr><th>Leicester</th> <th>Tottenham</th></tr><tr><td>Sunderland (A)</td> <td>Man United (H)</td></tr>\n",
       "<tr><td>West Ham (H)</td> <td>Stoke (A)</td></tr>\n",
       "<tr><td>Swansea (H)</td> <td>West Brom (H)</td></tr>\n",
       "<tr><td>Man United (A)</td> <td>Chelsea (A)</td></tr>\n",
       "<tr><td>Everton (H)</td> <td>Southampton (H)</td></tr>\n",
       "<tr><td>Chelsea (A)</td> <td>Newcastle (A)</td></tr></table>"
      ],
      "text/plain": [
       "<IPython.core.display.HTML object>"
      ]
     },
     "metadata": {},
     "output_type": "display_data"
    }
   ],
   "source": [
    "league_analysis.compare_fixtures(epl, ['Leicester', 'Tottenham'])"
   ]
  },
  {
   "cell_type": "markdown",
   "metadata": {},
   "source": [
    "It is really hard to tell, because Leicester could easily fail to win at both Sunderland and West Ham, as well as both Manchester United and Chelsea, so that would be at least 8 points dropped and they would still need to face Everton and Swansea at home. Of course Tottenham don't exactly have it easy next week.\n",
    "\n",
    "But I'm still going with Tottenham."
   ]
  },
  {
   "cell_type": "markdown",
   "metadata": {},
   "source": [
    "# Champions' League\n",
    "\n",
    "I think City have a gentle enough run-in to secure the 4th spot in the Champions' league. However, some bad luck could de-rail them. They also have a game in hand against Newcastle.\n",
    "\n",
    "Payet has to be a good shout for player of the season."
   ]
  },
  {
   "cell_type": "code",
   "execution_count": 3,
   "metadata": {
    "collapsed": false
   },
   "outputs": [
    {
     "data": {
      "text/html": [
       "<table><tr><th>Man City</th> <th>Man United</th> <th>West Ham</th></tr><tr><td>West Brom (H)</td> <td>Tottenham (A)</td> <td>Arsenal (H)</td></tr>\n",
       "<tr><td>Chelsea (A)</td> <td>Aston Villa (H)</td> <td>Leicester (A)</td></tr>\n",
       "<tr><td>Newcastle (A)</td> <td>Crystal Palace (H)</td> <td>Watford (H)</td></tr>\n",
       "<tr><td>Stoke (H)</td> <td>Leicester (H)</td> <td>West Brom (A)</td></tr>\n",
       "<tr><td>Southampton (A)</td> <td>Norwich (A)</td> <td>Swansea (H)</td></tr>\n",
       "<tr><td>Arsenal (H)</td> <td>West Ham (A)</td> <td>Man United (H)</td></tr>\n",
       "<tr><td>Swansea (A)</td> <td>Bournemouth (H)</td> <td>Stoke (A)</td></tr></table>"
      ],
      "text/plain": [
       "<IPython.core.display.HTML object>"
      ]
     },
     "metadata": {},
     "output_type": "display_data"
    }
   ],
   "source": [
    "league_analysis.compare_fixtures(epl, ['Man City', 'Man United', 'West Ham'])"
   ]
  },
  {
   "cell_type": "markdown",
   "metadata": {},
   "source": [
    "# Relegation\n",
    "\n",
    "I was fairly confident Newcastle would get an away win at Carrow Road to help their bid to beat relegation but the opposite happened and now it is Norwich who look the most likely to survive. "
   ]
  },
  {
   "cell_type": "code",
   "execution_count": 4,
   "metadata": {
    "collapsed": false
   },
   "outputs": [
    {
     "data": {
      "text/html": [
       "<table><tr><th>Newcastle</th> <th>Sunderland</th> <th>Norwich</th> <th>Crystal Palace</th> <th>Swansea</th></tr><tr><td>Southampton (A)</td> <td>Leicester (H)</td> <td>Crystal Palace (A)</td> <td>Norwich (H)</td> <td>Chelsea (H)</td></tr>\n",
       "<tr><td>Swansea (H)</td> <td>Norwich (A)</td> <td>Sunderland (H)</td> <td>Everton (H)</td> <td>Newcastle (A)</td></tr>\n",
       "<tr><td>Man City (H)</td> <td>Arsenal (H)</td> <td>Arsenal (A)</td> <td>Arsenal (A)</td> <td>Leicester (A)</td></tr>\n",
       "<tr><td>Liverpool (A)</td> <td>Stoke (A)</td> <td>Man United (H)</td> <td>Man United (A)</td> <td>Liverpool (H)</td></tr>\n",
       "<tr><td>Crystal Palace (H)</td> <td>Chelsea (H)</td> <td>Watford (H)</td> <td>Newcastle (A)</td> <td>West Ham (A)</td></tr>\n",
       "<tr><td>Aston Villa (A)</td> <td>Everton (H)</td> <td>Everton (A)</td> <td>Stoke (H)</td> <td>Man City (H)</td></tr></table>"
      ],
      "text/plain": [
       "<IPython.core.display.HTML object>"
      ]
     },
     "metadata": {},
     "output_type": "display_data"
    }
   ],
   "source": [
    "league_analysis.compare_fixtures(epl, ['Newcastle', 'Sunderland', 'Norwich', 'Crystal Palace', 'Swansea'])"
   ]
  },
  {
   "cell_type": "markdown",
   "metadata": {},
   "source": [
    "Swansea are now level on points with Watford who have not really been considered for relegation for quite some time. However Swansea are included here simply due to their remaining fixtures. Other than against Newcastle they could manage to lose all their remaining games. If they were to lose to Newcastle would 37 points be enough? Maybe.\n",
    "\n",
    "Newcastle are now 6 points shy of Norwich, who play Crystal Palace next week. Norwich play Crystal Palace and then Sunderland, so in the next two weeks Norwich could all but secure their place or put themselves in a very precarious position."
   ]
  },
  {
   "cell_type": "markdown",
   "metadata": {},
   "source": [
    "Crystal Palace will be looking to end their winless run."
   ]
  },
  {
   "cell_type": "code",
   "execution_count": 5,
   "metadata": {
    "collapsed": false
   },
   "outputs": [
    {
     "data": {
      "text/html": [
       "<div style=\"display:inline-block; margin-right:2em;\"><table><tr><th>Position</th> <th>Team</th> <th>Winning Run</th></tr><tr><td>1</td> <td>Leicester</td> <td>4</td></tr>\n",
       "<tr><td>2</td> <td>Arsenal</td> <td>2</td></tr>\n",
       "<tr><td>-</td> <td>Man United</td> <td>2</td></tr>\n",
       "<tr><td>-</td> <td>Norwich</td> <td>2</td></tr>\n",
       "<tr><td>5</td> <td>Chelsea</td> <td>1</td></tr>\n",
       "<tr><td>-</td> <td>Man City</td> <td>1</td></tr>\n",
       "<tr><td>7</td> <td>Aston Villa</td> <td>0</td></tr>\n",
       "<tr><td>-</td> <td>West Ham</td> <td>0</td></tr>\n",
       "<tr><td>-</td> <td>Stoke</td> <td>0</td></tr>\n",
       "<tr><td>-</td> <td>Bournemouth</td> <td>0</td></tr>\n",
       "<tr><td>-</td> <td>Newcastle</td> <td>0</td></tr>\n",
       "<tr><td>-</td> <td>West Brom</td> <td>0</td></tr>\n",
       "<tr><td>-</td> <td>Liverpool</td> <td>0</td></tr>\n",
       "<tr><td>-</td> <td>Swansea</td> <td>0</td></tr>\n",
       "<tr><td>-</td> <td>Watford</td> <td>0</td></tr>\n",
       "<tr><td>-</td> <td>Everton</td> <td>0</td></tr>\n",
       "<tr><td>-</td> <td>Sunderland</td> <td>0</td></tr>\n",
       "<tr><td>-</td> <td>Southampton</td> <td>0</td></tr>\n",
       "<tr><td>-</td> <td>Crystal Palace</td> <td>0</td></tr>\n",
       "<tr><td>-</td> <td>Tottenham</td> <td>0</td></tr></table></div>\n",
       "<div style=\"display:inline-block; margin-right:2em;\"><table><tr><th>Position</th> <th>Team</th> <th>Unbeaten Run</th></tr><tr><td>1</td> <td>Chelsea</td> <td>15</td></tr>\n",
       "<tr><td>2</td> <td>Leicester</td> <td>6</td></tr>\n",
       "<tr><td>-</td> <td>West Ham</td> <td>6</td></tr>\n",
       "<tr><td>4</td> <td>Sunderland</td> <td>4</td></tr>\n",
       "<tr><td>-</td> <td>Tottenham</td> <td>4</td></tr>\n",
       "<tr><td>6</td> <td>Arsenal</td> <td>3</td></tr>\n",
       "<tr><td>-</td> <td>Norwich</td> <td>3</td></tr>\n",
       "<tr><td>8</td> <td>Stoke</td> <td>2</td></tr>\n",
       "<tr><td>-</td> <td>Man United</td> <td>2</td></tr>\n",
       "<tr><td>-</td> <td>Swansea</td> <td>2</td></tr>\n",
       "<tr><td>11</td> <td>West Brom</td> <td>1</td></tr>\n",
       "<tr><td>-</td> <td>Man City</td> <td>1</td></tr>\n",
       "<tr><td>-</td> <td>Liverpool</td> <td>1</td></tr>\n",
       "<tr><td>-</td> <td>Crystal Palace</td> <td>1</td></tr>\n",
       "<tr><td>15</td> <td>Aston Villa</td> <td>0</td></tr>\n",
       "<tr><td>-</td> <td>Bournemouth</td> <td>0</td></tr>\n",
       "<tr><td>-</td> <td>Newcastle</td> <td>0</td></tr>\n",
       "<tr><td>-</td> <td>Watford</td> <td>0</td></tr>\n",
       "<tr><td>-</td> <td>Everton</td> <td>0</td></tr>\n",
       "<tr><td>-</td> <td>Southampton</td> <td>0</td></tr></table></div>\n",
       "<div style=\"display:inline-block; margin-right:2em;\"><table><tr><th>Position</th> <th>Team</th> <th>Winless</th></tr><tr><td>1</td> <td>Crystal Palace</td> <td>14</td></tr>\n",
       "<tr><td>2</td> <td>Aston Villa</td> <td>7</td></tr>\n",
       "<tr><td>3</td> <td>Newcastle</td> <td>6</td></tr>\n",
       "<tr><td>4</td> <td>Watford</td> <td>5</td></tr>\n",
       "<tr><td>-</td> <td>Sunderland</td> <td>5</td></tr>\n",
       "<tr><td>6</td> <td>Everton</td> <td>3</td></tr>\n",
       "<tr><td>7</td> <td>West Ham</td> <td>2</td></tr>\n",
       "<tr><td>-</td> <td>Bournemouth</td> <td>2</td></tr>\n",
       "<tr><td>-</td> <td>West Brom</td> <td>2</td></tr>\n",
       "<tr><td>-</td> <td>Liverpool</td> <td>2</td></tr>\n",
       "<tr><td>11</td> <td>Stoke</td> <td>1</td></tr>\n",
       "<tr><td>-</td> <td>Swansea</td> <td>1</td></tr>\n",
       "<tr><td>-</td> <td>Southampton</td> <td>1</td></tr>\n",
       "<tr><td>-</td> <td>Tottenham</td> <td>1</td></tr>\n",
       "<tr><td>15</td> <td>Leicester</td> <td>0</td></tr>\n",
       "<tr><td>-</td> <td>Chelsea</td> <td>0</td></tr>\n",
       "<tr><td>-</td> <td>Man City</td> <td>0</td></tr>\n",
       "<tr><td>-</td> <td>Arsenal</td> <td>0</td></tr>\n",
       "<tr><td>-</td> <td>Man United</td> <td>0</td></tr>\n",
       "<tr><td>-</td> <td>Norwich</td> <td>0</td></tr></table></div>\n",
       "<div style=\"display:inline-block; margin-right:2em;\"><table><tr><th>Position</th> <th>Team</th> <th>Losing</th></tr><tr><td>1</td> <td>Aston Villa</td> <td>7</td></tr>\n",
       "<tr><td>2</td> <td>Watford</td> <td>4</td></tr>\n",
       "<tr><td>3</td> <td>Everton</td> <td>3</td></tr>\n",
       "<tr><td>4</td> <td>Bournemouth</td> <td>2</td></tr>\n",
       "<tr><td>5</td> <td>Newcastle</td> <td>1</td></tr>\n",
       "<tr><td>-</td> <td>Southampton</td> <td>1</td></tr>\n",
       "<tr><td>7</td> <td>Leicester</td> <td>0</td></tr>\n",
       "<tr><td>-</td> <td>Chelsea</td> <td>0</td></tr>\n",
       "<tr><td>-</td> <td>West Ham</td> <td>0</td></tr>\n",
       "<tr><td>-</td> <td>Stoke</td> <td>0</td></tr>\n",
       "<tr><td>-</td> <td>West Brom</td> <td>0</td></tr>\n",
       "<tr><td>-</td> <td>Man City</td> <td>0</td></tr>\n",
       "<tr><td>-</td> <td>Liverpool</td> <td>0</td></tr>\n",
       "<tr><td>-</td> <td>Arsenal</td> <td>0</td></tr>\n",
       "<tr><td>-</td> <td>Man United</td> <td>0</td></tr>\n",
       "<tr><td>-</td> <td>Swansea</td> <td>0</td></tr>\n",
       "<tr><td>-</td> <td>Sunderland</td> <td>0</td></tr>\n",
       "<tr><td>-</td> <td>Crystal Palace</td> <td>0</td></tr>\n",
       "<tr><td>-</td> <td>Tottenham</td> <td>0</td></tr>\n",
       "<tr><td>-</td> <td>Norwich</td> <td>0</td></tr></table></div>"
      ],
      "text/plain": [
       "<IPython.core.display.HTML object>"
      ]
     },
     "metadata": {},
     "output_type": "display_data"
    }
   ],
   "source": [
    "league_analysis.display_current_runs(epl)"
   ]
  },
  {
   "cell_type": "markdown",
   "metadata": {},
   "source": [
    "So that is 14 games without a win for Palace, in which time they have scored 5 points. Can they make 5 points in their remaining 6 games? That would take Palace to 39 points, probably enough given that Newcastle don't look on for a further 14 points, and Sunderland for 13."
   ]
  },
  {
   "cell_type": "code",
   "execution_count": 6,
   "metadata": {
    "collapsed": false
   },
   "outputs": [
    {
     "data": {
      "text/html": [
       "<div style=\"display:inline-block; margin-right:2em;\"><table><tr><th>Position</th> <th>Team</th> <th>Points</th></tr><tr><td>1</td> <td>Leicester</td> <td>31</td></tr>\n",
       "<tr><td>2</td> <td>Tottenham</td> <td>30</td></tr>\n",
       "<tr><td>3</td> <td>Chelsea</td> <td>26</td></tr>\n",
       "<tr><td>-</td> <td>West Ham</td> <td>26</td></tr>\n",
       "<tr><td>5</td> <td>Man United</td> <td>24</td></tr>\n",
       "<tr><td>6</td> <td>Southampton</td> <td>23</td></tr>\n",
       "<tr><td>7</td> <td>Man City</td> <td>22</td></tr>\n",
       "<tr><td>-</td> <td>Arsenal</td> <td>22</td></tr>\n",
       "<tr><td>9</td> <td>Stoke</td> <td>21</td></tr>\n",
       "<tr><td>-</td> <td>Liverpool</td> <td>21</td></tr>\n",
       "<tr><td>11</td> <td>West Brom</td> <td>20</td></tr>\n",
       "<tr><td>12</td> <td>Swansea</td> <td>19</td></tr>\n",
       "<tr><td>13</td> <td>Bournemouth</td> <td>18</td></tr>\n",
       "<tr><td>14</td> <td>Everton</td> <td>15</td></tr>\n",
       "<tr><td>-</td> <td>Sunderland</td> <td>15</td></tr>\n",
       "<tr><td>16</td> <td>Norwich</td> <td>14</td></tr>\n",
       "<tr><td>17</td> <td>Watford</td> <td>9</td></tr>\n",
       "<tr><td>18</td> <td>Aston Villa</td> <td>8</td></tr>\n",
       "<tr><td>-</td> <td>Newcastle</td> <td>8</td></tr>\n",
       "<tr><td>20</td> <td>Crystal Palace</td> <td>5</td></tr></table></div>\n",
       "<div style=\"display:inline-block; margin-right:2em;\"><table><tr><th>Position</th> <th>Team</th> <th>Team Rating</th></tr><tr><td>1</td> <td>Tottenham</td> <td>0.29253400346893266</td></tr>\n",
       "<tr><td>2</td> <td>Man City</td> <td>0.24809006166376757</td></tr>\n",
       "<tr><td>3</td> <td>Liverpool</td> <td>0.14688732219891265</td></tr>\n",
       "<tr><td>4</td> <td>Chelsea</td> <td>0.1418853654567104</td></tr>\n",
       "<tr><td>5</td> <td>Leicester</td> <td>0.0744477573131263</td></tr>\n",
       "<tr><td>6</td> <td>Everton</td> <td>0.059871091235242646</td></tr>\n",
       "<tr><td>7</td> <td>West Ham</td> <td>0.05840532306634284</td></tr>\n",
       "<tr><td>8</td> <td>Arsenal</td> <td>0.04759617202160188</td></tr>\n",
       "<tr><td>9</td> <td>Southampton</td> <td>0.004870414797594438</td></tr>\n",
       "<tr><td>10</td> <td>Man United</td> <td>-0.013981854627015941</td></tr>\n",
       "<tr><td>11</td> <td>Stoke</td> <td>-0.039190561641789176</td></tr>\n",
       "<tr><td>12</td> <td>Sunderland</td> <td>-0.05806587103609884</td></tr>\n",
       "<tr><td>13</td> <td>Bournemouth</td> <td>-0.0699860745585143</td></tr>\n",
       "<tr><td>14</td> <td>Swansea</td> <td>-0.08553004417628922</td></tr>\n",
       "<tr><td>15</td> <td>West Brom</td> <td>-0.10640277940069447</td></tr>\n",
       "<tr><td>16</td> <td>Newcastle</td> <td>-0.11720632817241719</td></tr>\n",
       "<tr><td>17</td> <td>Norwich</td> <td>-0.13392966391863334</td></tr>\n",
       "<tr><td>18</td> <td>Crystal Palace</td> <td>-0.15692677708764663</td></tr>\n",
       "<tr><td>19</td> <td>Watford</td> <td>-0.20010039106192953</td></tr>\n",
       "<tr><td>20</td> <td>Aston Villa</td> <td>-0.25534156368377914</td></tr></table></div>\n",
       "<div style=\"display:inline-block; margin-right:2em;\"><table><tr><th>Position</th> <th>Team</th> <th>PDO</th></tr><tr><td>1</td> <td>Leicester</td> <td>0.18245614035087718</td></tr>\n",
       "<tr><td>2</td> <td>Chelsea</td> <td>0.1733490566037736</td></tr>\n",
       "<tr><td>3</td> <td>West Ham</td> <td>0.10014443909484833</td></tr>\n",
       "<tr><td>4</td> <td>Swansea</td> <td>0.09206349206349207</td></tr>\n",
       "<tr><td>5</td> <td>West Brom</td> <td>0.07684154742978272</td></tr>\n",
       "<tr><td>6</td> <td>Southampton</td> <td>0.06882753101240496</td></tr>\n",
       "<tr><td>7</td> <td>Man City</td> <td>0.05704941860465118</td></tr>\n",
       "<tr><td>8</td> <td>Arsenal</td> <td>0.041666666666666685</td></tr>\n",
       "<tr><td>9</td> <td>Man United</td> <td>0.038034188034188066</td></tr>\n",
       "<tr><td>10</td> <td>Sunderland</td> <td>0.014419610670511895</td></tr>\n",
       "<tr><td>11</td> <td>Norwich</td> <td>-0.015647226173541917</td></tr>\n",
       "<tr><td>12</td> <td>Watford</td> <td>-0.020634920634920673</td></tr>\n",
       "<tr><td>13</td> <td>Tottenham</td> <td>-0.037297297297297305</td></tr>\n",
       "<tr><td>14</td> <td>Bournemouth</td> <td>-0.03954802259887008</td></tr>\n",
       "<tr><td>15</td> <td>Everton</td> <td>-0.03968253968253971</td></tr>\n",
       "<tr><td>16</td> <td>Liverpool</td> <td>-0.04830257461836407</td></tr>\n",
       "<tr><td>17</td> <td>Stoke</td> <td>-0.049346879535558774</td></tr>\n",
       "<tr><td>18</td> <td>Crystal Palace</td> <td>-0.16180555555555556</td></tr>\n",
       "<tr><td>19</td> <td>Aston Villa</td> <td>-0.24304803178042614</td></tr>\n",
       "<tr><td>20</td> <td>Newcastle</td> <td>-0.26259196378041877</td></tr></table></div>"
      ],
      "text/plain": [
       "<IPython.core.display.HTML object>"
      ]
     },
     "metadata": {},
     "output_type": "display_data"
    }
   ],
   "source": [
    "stats = league_analysis.last_x_game_stats(epl, 14)\n",
    "display(HTML(league_analysis.header_stat_tables(epl, stats=stats)))"
   ]
  },
  {
   "cell_type": "markdown",
   "metadata": {},
   "source": [
    "Okay I think that's it from me this week. Thanks for reading again."
   ]
  }
 ],
 "metadata": {
  "kernelspec": {
   "display_name": "Python 3",
   "language": "python",
   "name": "python3"
  },
  "language_info": {
   "codemirror_mode": {
    "name": "ipython",
    "version": 3
   },
   "file_extension": ".py",
   "mimetype": "text/x-python",
   "name": "python",
   "nbconvert_exporter": "python",
   "pygments_lexer": "ipython3",
   "version": "3.4.3"
  },
  "nikola": {
   "category": "",
   "date": "2016-04-04 12:16:16 UTC+01:00",
   "description": "",
   "link": "",
   "slug": "epl-2-3rd-april-2016",
   "tags": "",
   "title": "EPL 2-3rd April 2016",
   "type": "text"
  }
 },
 "nbformat": 4,
 "nbformat_minor": 0
}
