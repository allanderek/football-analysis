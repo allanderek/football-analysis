{
 "metadata": {
  "name": "",
  "signature": "sha256:a8133a277c86c8c1772afff1054216dd37270a898b2b07b21eb5d28b5ee940f7"
 },
 "nbformat": 3,
 "nbformat_minor": 0,
 "worksheets": [
  {
   "cells": [
    {
     "cell_type": "markdown",
     "metadata": {},
     "source": [
      "# EPL November 21st - 23rd 2015\n",
      "\n",
      "Another brief look at some of the simple statistics underlying the weekend games in the English Premier League."
     ]
    },
    {
     "cell_type": "code",
     "collapsed": false,
     "input": [
      "%matplotlib inline\n",
      "import league_analysis\n",
      "from IPython.display import display, HTML\n",
      "epl = league_analysis.epl\n",
      "weekend_matches = league_analysis.get_matches(epl, '21/11/2015', '23/11/2015')\n",
      "league_analysis.display_given_matches(weekend_matches)"
     ],
     "language": "python",
     "metadata": {},
     "outputs": [
      {
       "html": [
        "<div style=\"display:inline-block;\">\n",
        "    <table>\n",
        "      <tr><th></th><th>Home</th><th>Away</th></tr>\n",
        "      <tr><td>Team</td><td>Chelsea</td><td>Norwich</td></tr>\n",
        "      <tr><td>Goals</td><td>1</td><td>0</td></tr>\n",
        "      <tr><td>Shots</td><td>21</td><td>4</td></tr>\n",
        "      <tr><td>SOT</td><td>7</td><td>2</td></tr>\n",
        "      \n",
        "    </table>\n",
        "    </div>\n",
        "<div style=\"display:inline-block;\">\n",
        "    <table>\n",
        "      <tr><th></th><th>Home</th><th>Away</th></tr>\n",
        "      <tr><td>Team</td><td>Everton</td><td>Aston Villa</td></tr>\n",
        "      <tr><td>Goals</td><td>4</td><td>0</td></tr>\n",
        "      <tr><td>Shots</td><td>16</td><td>10</td></tr>\n",
        "      <tr><td>SOT</td><td>9</td><td>3</td></tr>\n",
        "      \n",
        "    </table>\n",
        "    </div>\n",
        "<div style=\"display:inline-block;\">\n",
        "    <table>\n",
        "      <tr><th></th><th>Home</th><th>Away</th></tr>\n",
        "      <tr><td>Team</td><td>Man City</td><td>Liverpool</td></tr>\n",
        "      <tr><td>Goals</td><td>1</td><td>4</td></tr>\n",
        "      <tr><td>Shots</td><td>11</td><td>14</td></tr>\n",
        "      <tr><td>SOT</td><td>3</td><td>9</td></tr>\n",
        "      \n",
        "    </table>\n",
        "    </div>\n",
        "<div style=\"display:inline-block;\">\n",
        "    <table>\n",
        "      <tr><th></th><th>Home</th><th>Away</th></tr>\n",
        "      <tr><td>Team</td><td>Newcastle</td><td>Leicester</td></tr>\n",
        "      <tr><td>Goals</td><td>0</td><td>3</td></tr>\n",
        "      <tr><td>Shots</td><td>9</td><td>18</td></tr>\n",
        "      <tr><td>SOT</td><td>1</td><td>7</td></tr>\n",
        "      \n",
        "    </table>\n",
        "    </div>\n",
        "<div style=\"display:inline-block;\">\n",
        "    <table>\n",
        "      <tr><th></th><th>Home</th><th>Away</th></tr>\n",
        "      <tr><td>Team</td><td>Southampton</td><td>Stoke</td></tr>\n",
        "      <tr><td>Goals</td><td>0</td><td>1</td></tr>\n",
        "      <tr><td>Shots</td><td>16</td><td>16</td></tr>\n",
        "      <tr><td>SOT</td><td>1</td><td>4</td></tr>\n",
        "      \n",
        "    </table>\n",
        "    </div>\n",
        "<div style=\"display:inline-block;\">\n",
        "    <table>\n",
        "      <tr><th></th><th>Home</th><th>Away</th></tr>\n",
        "      <tr><td>Team</td><td>Swansea</td><td>Bournemouth</td></tr>\n",
        "      <tr><td>Goals</td><td>2</td><td>2</td></tr>\n",
        "      <tr><td>Shots</td><td>11</td><td>16</td></tr>\n",
        "      <tr><td>SOT</td><td>4</td><td>4</td></tr>\n",
        "      \n",
        "    </table>\n",
        "    </div>\n",
        "<div style=\"display:inline-block;\">\n",
        "    <table>\n",
        "      <tr><th></th><th>Home</th><th>Away</th></tr>\n",
        "      <tr><td>Team</td><td>Watford</td><td>Man United</td></tr>\n",
        "      <tr><td>Goals</td><td>1</td><td>2</td></tr>\n",
        "      <tr><td>Shots</td><td>10</td><td>13</td></tr>\n",
        "      <tr><td>SOT</td><td>5</td><td>6</td></tr>\n",
        "      \n",
        "    </table>\n",
        "    </div>\n",
        "<div style=\"display:inline-block;\">\n",
        "    <table>\n",
        "      <tr><th></th><th>Home</th><th>Away</th></tr>\n",
        "      <tr><td>Team</td><td>West Brom</td><td>Arsenal</td></tr>\n",
        "      <tr><td>Goals</td><td>2</td><td>1</td></tr>\n",
        "      <tr><td>Shots</td><td>4</td><td>11</td></tr>\n",
        "      <tr><td>SOT</td><td>1</td><td>3</td></tr>\n",
        "      \n",
        "    </table>\n",
        "    </div>\n",
        "<div style=\"display:inline-block;\">\n",
        "    <table>\n",
        "      <tr><th></th><th>Home</th><th>Away</th></tr>\n",
        "      <tr><td>Team</td><td>Tottenham</td><td>West Ham</td></tr>\n",
        "      <tr><td>Goals</td><td>4</td><td>1</td></tr>\n",
        "      <tr><td>Shots</td><td>22</td><td>10</td></tr>\n",
        "      <tr><td>SOT</td><td>12</td><td>4</td></tr>\n",
        "      \n",
        "    </table>\n",
        "    </div>\n",
        "<div style=\"display:inline-block;\">\n",
        "    <table>\n",
        "      <tr><th></th><th>Home</th><th>Away</th></tr>\n",
        "      <tr><td>Team</td><td>Crystal Palace</td><td>Sunderland</td></tr>\n",
        "      <tr><td>Goals</td><td>0</td><td>1</td></tr>\n",
        "      <tr><td>Shots</td><td>19</td><td>12</td></tr>\n",
        "      <tr><td>SOT</td><td>7</td><td>4</td></tr>\n",
        "      \n",
        "    </table>\n",
        "    </div>"
       ],
       "metadata": {},
       "output_type": "display_data",
       "text": [
        "<IPython.core.display.HTML at 0x7f277c058358>"
       ]
      }
     ],
     "prompt_number": 1
    },
    {
     "cell_type": "code",
     "collapsed": false,
     "input": [
      "league_analysis.display_match(epl, 'Chelsea', 'Norwich', '21/11/15')"
     ],
     "language": "python",
     "metadata": {},
     "outputs": [
      {
       "html": [
        "<h1>Chelsea 1 - 0 Norwich</h1>\n",
        "    <table>\n",
        "      <tr><th></th><th>Home</th><th>Away</th></tr>\n",
        "      <tr><td>Team</td><td>Chelsea</td><td>Norwich</td></tr>\n",
        "      <tr><td>Goals</td><td>1</td><td>0</td></tr>\n",
        "      <tr><td>Shots</td><td>21</td><td>4</td></tr>\n",
        "      <tr><td>SOT</td><td>7</td><td>2</td></tr>\n",
        "      \n",
        "    </table>\n",
        "    "
       ],
       "metadata": {},
       "output_type": "display_data",
       "text": [
        "<IPython.core.display.HTML at 0x7f277c043f60>"
       ]
      }
     ],
     "prompt_number": 2
    },
    {
     "cell_type": "markdown",
     "metadata": {},
     "source": [
      "Similar to their win against Aston Villa before a poor run of results, Chelsea really needed a win here. It looks as though their 1-0 victory was if anything a little unflattering. Such a performance will be encouraging, though it is still beating teams around the relegation battle rather than those they might hope to surpass into one of the four champions' league spots.\n",
      "\n",
      "<!-- TEASER_END -->"
     ]
    },
    {
     "cell_type": "code",
     "collapsed": false,
     "input": [
      "epl.compare_game_against_opponents('Chelsea', 'Norwich', '21/11/15')"
     ],
     "language": "python",
     "metadata": {},
     "outputs": [
      {
       "html": [
        "<table><tr><th>Measure</th> <th>Average Per Game for</th> <th>This game for</th> <th>Average Per Game against opponents</th></tr><tr><td>Chelsea Shots</td> <td>14.615384615384615</td> <td>21</td> <td>13.76923076923077</td></tr>\n",
        "<tr><td>Norwich Shots</td> <td>12.846153846153847</td> <td>4</td> <td>12.23076923076923</td></tr>\n",
        "<tr><td>Chelsea SOT</td> <td>4.3076923076923075</td> <td>7</td> <td>4.6923076923076925</td></tr>\n",
        "<tr><td>Norwich SOT</td> <td>4.153846153846154</td> <td>2</td> <td>5.230769230769231</td></tr></table>"
       ],
       "metadata": {},
       "output_type": "display_data",
       "text": [
        "<IPython.core.display.HTML at 0x7f277c043f28>"
       ]
      }
     ],
     "prompt_number": 3
    },
    {
     "cell_type": "markdown",
     "metadata": {},
     "source": [
      "So, Chelsea with 21 shots took 6 and a half shots more than usual and 7 more than the average team does against Norwich. They also only allowed 4 shots, whereas Norwich normally take nearly 13 and Chelsea normally allow over 12. Similar statistics for the shots on target. Overall then a pretty good display from the champions, even if the narrow scoreline probably had a few Chelsea fans worried about a late equaliser."
     ]
    },
    {
     "cell_type": "code",
     "collapsed": false,
     "input": [
      "league_analysis.display_match(epl, 'Everton', 'Aston Villa', '21/11/15')"
     ],
     "language": "python",
     "metadata": {},
     "outputs": [
      {
       "html": [
        "<h1>Everton 4 - 0 Aston Villa</h1>\n",
        "    <table>\n",
        "      <tr><th></th><th>Home</th><th>Away</th></tr>\n",
        "      <tr><td>Team</td><td>Everton</td><td>Aston Villa</td></tr>\n",
        "      <tr><td>Goals</td><td>4</td><td>0</td></tr>\n",
        "      <tr><td>Shots</td><td>16</td><td>10</td></tr>\n",
        "      <tr><td>SOT</td><td>9</td><td>3</td></tr>\n",
        "      \n",
        "    </table>\n",
        "    "
       ],
       "metadata": {},
       "output_type": "display_data",
       "text": [
        "<IPython.core.display.HTML at 0x7f277c043898>"
       ]
      }
     ],
     "prompt_number": 4
    },
    {
     "cell_type": "markdown",
     "metadata": {},
     "source": [
      "Probably the most predictable of the results this weekend (with Tottenham's win over West Ham a good second). The scoreline looks a little harsh on Aston Villa. Worrying signs for Aston Villa, now bottom in the league for goals scored and goal difference, and not doing great on the goals conceded front either."
     ]
    },
    {
     "cell_type": "code",
     "collapsed": false,
     "input": [
      "pairs = [(stats.teamname, stats.goals_for - stats.goals_against)\n",
      "         for stats in epl.team_stats.values()]\n",
      "league_analysis.display_ranked_table(['Team', 'Goal Difference'], pairs)\n",
      "pairs = [(stats.teamname, stats.goals_for)\n",
      "         for stats in epl.team_stats.values()]\n",
      "league_analysis.display_ranked_table(['Team', 'Goals For'], pairs)\n",
      "pairs = [(stats.teamname, stats.goals_against)\n",
      "         for stats in epl.team_stats.values()]\n",
      "league_analysis.display_ranked_table(['Team', 'Goals Against'], pairs, reverse=False)"
     ],
     "language": "python",
     "metadata": {},
     "outputs": [
      {
       "html": [
        "<table><tr><th>Position</th> <th>Team</th> <th>Goal Difference</th></tr><tr><td>1</td> <td>Man City</td> <td>14</td></tr>\n",
        "<tr><td>2</td> <td>Tottenham</td> <td>13</td></tr>\n",
        "<tr><td>3</td> <td>Arsenal</td> <td>12</td></tr>\n",
        "<tr><td>4</td> <td>Man United</td> <td>10</td></tr>\n",
        "<tr><td>5</td> <td>Everton</td> <td>8</td></tr>\n",
        "<tr><td>-</td> <td>Leicester</td> <td>8</td></tr>\n",
        "<tr><td>7</td> <td>Southampton</td> <td>5</td></tr>\n",
        "<tr><td>8</td> <td>West Ham</td> <td>4</td></tr>\n",
        "<tr><td>9</td> <td>Liverpool</td> <td>2</td></tr>\n",
        "<tr><td>10</td> <td>Crystal Palace</td> <td>1</td></tr>\n",
        "<tr><td>11</td> <td>Stoke</td> <td>-1</td></tr>\n",
        "<tr><td>12</td> <td>Watford</td> <td>-2</td></tr>\n",
        "<tr><td>13</td> <td>Swansea</td> <td>-4</td></tr>\n",
        "<tr><td>14</td> <td>West Brom</td> <td>-5</td></tr>\n",
        "<tr><td>15</td> <td>Chelsea</td> <td>-6</td></tr>\n",
        "<tr><td>16</td> <td>Norwich</td> <td>-8</td></tr>\n",
        "<tr><td>17</td> <td>Newcastle</td> <td>-12</td></tr>\n",
        "<tr><td>-</td> <td>Sunderland</td> <td>-12</td></tr>\n",
        "<tr><td>19</td> <td>Bournemouth</td> <td>-13</td></tr>\n",
        "<tr><td>20</td> <td>Aston Villa</td> <td>-14</td></tr></table>"
       ],
       "metadata": {},
       "output_type": "display_data",
       "text": [
        "<IPython.core.display.HTML at 0x7f27603b2978>"
       ]
      },
      {
       "html": [
        "<table><tr><th>Position</th> <th>Team</th> <th>Goals For</th></tr><tr><td>1</td> <td>Leicester</td> <td>28</td></tr>\n",
        "<tr><td>2</td> <td>Man City</td> <td>27</td></tr>\n",
        "<tr><td>3</td> <td>West Ham</td> <td>24</td></tr>\n",
        "<tr><td>-</td> <td>Tottenham</td> <td>24</td></tr>\n",
        "<tr><td>-</td> <td>Everton</td> <td>24</td></tr>\n",
        "<tr><td>6</td> <td>Arsenal</td> <td>23</td></tr>\n",
        "<tr><td>7</td> <td>Man United</td> <td>19</td></tr>\n",
        "<tr><td>-</td> <td>Southampton</td> <td>19</td></tr>\n",
        "<tr><td>9</td> <td>Chelsea</td> <td>17</td></tr>\n",
        "<tr><td>-</td> <td>Liverpool</td> <td>17</td></tr>\n",
        "<tr><td>11</td> <td>Norwich</td> <td>16</td></tr>\n",
        "<tr><td>12</td> <td>Bournemouth</td> <td>14</td></tr>\n",
        "<tr><td>-</td> <td>Crystal Palace</td> <td>14</td></tr>\n",
        "<tr><td>-</td> <td>Sunderland</td> <td>14</td></tr>\n",
        "<tr><td>-</td> <td>Swansea</td> <td>14</td></tr>\n",
        "<tr><td>16</td> <td>Newcastle</td> <td>13</td></tr>\n",
        "<tr><td>17</td> <td>Watford</td> <td>12</td></tr>\n",
        "<tr><td>-</td> <td>West Brom</td> <td>12</td></tr>\n",
        "<tr><td>19</td> <td>Stoke</td> <td>11</td></tr>\n",
        "<tr><td>20</td> <td>Aston Villa</td> <td>10</td></tr></table>"
       ],
       "metadata": {},
       "output_type": "display_data",
       "text": [
        "<IPython.core.display.HTML at 0x7f27603ab0f0>"
       ]
      },
      {
       "html": [
        "<table><tr><th>Position</th> <th>Team</th> <th>Goals Against</th></tr><tr><td>1</td> <td>Man United</td> <td>9</td></tr>\n",
        "<tr><td>2</td> <td>Tottenham</td> <td>11</td></tr>\n",
        "<tr><td>-</td> <td>Arsenal</td> <td>11</td></tr>\n",
        "<tr><td>4</td> <td>Stoke</td> <td>12</td></tr>\n",
        "<tr><td>5</td> <td>Man City</td> <td>13</td></tr>\n",
        "<tr><td>-</td> <td>Crystal Palace</td> <td>13</td></tr>\n",
        "<tr><td>7</td> <td>Watford</td> <td>14</td></tr>\n",
        "<tr><td>-</td> <td>Southampton</td> <td>14</td></tr>\n",
        "<tr><td>9</td> <td>Liverpool</td> <td>15</td></tr>\n",
        "<tr><td>10</td> <td>Everton</td> <td>16</td></tr>\n",
        "<tr><td>11</td> <td>West Brom</td> <td>17</td></tr>\n",
        "<tr><td>12</td> <td>Swansea</td> <td>18</td></tr>\n",
        "<tr><td>13</td> <td>West Ham</td> <td>20</td></tr>\n",
        "<tr><td>-</td> <td>Leicester</td> <td>20</td></tr>\n",
        "<tr><td>15</td> <td>Chelsea</td> <td>23</td></tr>\n",
        "<tr><td>16</td> <td>Aston Villa</td> <td>24</td></tr>\n",
        "<tr><td>-</td> <td>Norwich</td> <td>24</td></tr>\n",
        "<tr><td>18</td> <td>Newcastle</td> <td>25</td></tr>\n",
        "<tr><td>19</td> <td>Sunderland</td> <td>26</td></tr>\n",
        "<tr><td>20</td> <td>Bournemouth</td> <td>27</td></tr></table>"
       ],
       "metadata": {},
       "output_type": "display_data",
       "text": [
        "<IPython.core.display.HTML at 0x7f27603ab128>"
       ]
      }
     ],
     "prompt_number": 20
    },
    {
     "cell_type": "code",
     "collapsed": false,
     "input": [
      "league_analysis.display_match(epl, 'Man City', 'Liverpool', '21/11/15')"
     ],
     "language": "python",
     "metadata": {},
     "outputs": [
      {
       "html": [
        "<h1>Man City 1 - 4 Liverpool</h1>\n",
        "    <table>\n",
        "      <tr><th></th><th>Home</th><th>Away</th></tr>\n",
        "      <tr><td>Team</td><td>Man City</td><td>Liverpool</td></tr>\n",
        "      <tr><td>Goals</td><td>1</td><td>4</td></tr>\n",
        "      <tr><td>Shots</td><td>11</td><td>14</td></tr>\n",
        "      <tr><td>SOT</td><td>3</td><td>9</td></tr>\n",
        "      \n",
        "    </table>\n",
        "    "
       ],
       "metadata": {},
       "output_type": "display_data",
       "text": [
        "<IPython.core.display.HTML at 0x7f27614ae4a8>"
       ]
      }
     ],
     "prompt_number": 6
    },
    {
     "cell_type": "markdown",
     "metadata": {},
     "source": [
      "Concerning the last table this game is the reason that Manchester City were not joint top with Manchester United for goals conceded. It's hard to argue with the score line as well, with 9 shots on target Liverpool were significantly better than most teams have managed against Manchester City:"
     ]
    },
    {
     "cell_type": "code",
     "collapsed": false,
     "input": [
      "epl.compare_game_against_opponents('Man City', 'Liverpool', '21/11/15')"
     ],
     "language": "python",
     "metadata": {},
     "outputs": [
      {
       "html": [
        "<table><tr><th>Measure</th> <th>Average Per Game for</th> <th>This game for</th> <th>Average Per Game against opponents</th></tr><tr><td>Man City Shots</td> <td>17.692307692307693</td> <td>11</td> <td>10.76923076923077</td></tr>\n",
        "<tr><td>Liverpool Shots</td> <td>15.23076923076923</td> <td>14</td> <td>8.153846153846153</td></tr>\n",
        "<tr><td>Man City SOT</td> <td>6.615384615384615</td> <td>3</td> <td>3.230769230769231</td></tr>\n",
        "<tr><td>Liverpool SOT</td> <td>5.076923076923077</td> <td>9</td> <td>2.8461538461538463</td></tr></table>"
       ],
       "metadata": {},
       "output_type": "display_data",
       "text": [
        "<IPython.core.display.HTML at 0x7f27614ae2e8>"
       ]
      }
     ],
     "prompt_number": 7
    },
    {
     "cell_type": "markdown",
     "metadata": {},
     "source": [
      "Restricting the home side to just 11 shots from an average of more than 17 is impressive, and done when taking 14 shots themselves. Basically Liverpool have managed to restrict Manchester City to looking like an average team that plays Liverpool (that average team usually manage 10.8 shots and 3.2 shots on target), but have done so whilst looking anything like an average team that takes on Manchester City. Even Tottenham, the other team to have beaten Man City 4-1, did not manage to out-shoot them, and were pretty fortunate to win 4-1:"
     ]
    },
    {
     "cell_type": "code",
     "collapsed": false,
     "input": [
      "league_analysis.display_given_matches(league_analysis.get_matches_between([epl], 'Man City', 'Tottenham'))"
     ],
     "language": "python",
     "metadata": {},
     "outputs": [
      {
       "html": [
        "<div style=\"display:inline-block;\">\n",
        "    <table>\n",
        "      <tr><th></th><th>Home</th><th>Away</th></tr>\n",
        "      <tr><td>Team</td><td>Tottenham</td><td>Man City</td></tr>\n",
        "      <tr><td>Goals</td><td>4</td><td>1</td></tr>\n",
        "      <tr><td>Shots</td><td>15</td><td>22</td></tr>\n",
        "      <tr><td>SOT</td><td>8</td><td>8</td></tr>\n",
        "      \n",
        "    </table>\n",
        "    </div>"
       ],
       "metadata": {},
       "output_type": "display_data",
       "text": [
        "<IPython.core.display.HTML at 0x7f2761473eb8>"
       ]
      }
     ],
     "prompt_number": 8
    },
    {
     "cell_type": "code",
     "collapsed": false,
     "input": [
      "league_analysis.display_match(epl, 'Newcastle', 'Leicester', '21/11/15')"
     ],
     "language": "python",
     "metadata": {},
     "outputs": [
      {
       "html": [
        "<h1>Newcastle 0 - 3 Leicester</h1>\n",
        "    <table>\n",
        "      <tr><th></th><th>Home</th><th>Away</th></tr>\n",
        "      <tr><td>Team</td><td>Newcastle</td><td>Leicester</td></tr>\n",
        "      <tr><td>Goals</td><td>0</td><td>3</td></tr>\n",
        "      <tr><td>Shots</td><td>9</td><td>18</td></tr>\n",
        "      <tr><td>SOT</td><td>1</td><td>7</td></tr>\n",
        "      \n",
        "    </table>\n",
        "    "
       ],
       "metadata": {},
       "output_type": "display_data",
       "text": [
        "<IPython.core.display.HTML at 0x7f27614ae3c8>"
       ]
      }
     ],
     "prompt_number": 9
    },
    {
     "cell_type": "markdown",
     "metadata": {},
     "source": [
      "And so to the new league leaders. Say what you want you about Leicester and how they might not sustain this run, but they certainly deserved their victory here. In fact the interest around Leicester's rise to the top of the table should not distract us from the danger that Newcastle find themselves. This is pretty terrible stuff, losing at home so comprehsively."
     ]
    },
    {
     "cell_type": "code",
     "collapsed": false,
     "input": [
      "league_analysis.display_match(epl, 'Southampton', 'Stoke', '21/11/15')"
     ],
     "language": "python",
     "metadata": {},
     "outputs": [
      {
       "html": [
        "<h1>Southampton 0 - 1 Stoke</h1>\n",
        "    <table>\n",
        "      <tr><th></th><th>Home</th><th>Away</th></tr>\n",
        "      <tr><td>Team</td><td>Southampton</td><td>Stoke</td></tr>\n",
        "      <tr><td>Goals</td><td>0</td><td>1</td></tr>\n",
        "      <tr><td>Shots</td><td>16</td><td>16</td></tr>\n",
        "      <tr><td>SOT</td><td>1</td><td>4</td></tr>\n",
        "      \n",
        "    </table>\n",
        "    "
       ],
       "metadata": {},
       "output_type": "display_data",
       "text": [
        "<IPython.core.display.HTML at 0x7f2761473dd8>"
       ]
      }
     ],
     "prompt_number": 10
    },
    {
     "cell_type": "markdown",
     "metadata": {},
     "source": [
      "This was pretty surprising, Stoke have not had great numbers so far this season. Although with the influx of some talent it was a bit of a surprise that Stoke's numbers were quite as bad as they were and perhaps many expected an up-tick. Still, an excellent away victory at Southampton, all the more for having competed so well on the shot counts. This was not like the defeat of Chelsea in which they suffered something of a battering. This was a solid display (at least in terms of shot numbers)."
     ]
    },
    {
     "cell_type": "code",
     "collapsed": false,
     "input": [
      "league_analysis.display_match(epl, 'Swansea', 'Bournemouth', '21/11/15')"
     ],
     "language": "python",
     "metadata": {},
     "outputs": [
      {
       "html": [
        "<h1>Swansea 2 - 2 Bournemouth</h1>\n",
        "    <table>\n",
        "      <tr><th></th><th>Home</th><th>Away</th></tr>\n",
        "      <tr><td>Team</td><td>Swansea</td><td>Bournemouth</td></tr>\n",
        "      <tr><td>Goals</td><td>2</td><td>2</td></tr>\n",
        "      <tr><td>Shots</td><td>11</td><td>16</td></tr>\n",
        "      <tr><td>SOT</td><td>4</td><td>4</td></tr>\n",
        "      \n",
        "    </table>\n",
        "    "
       ],
       "metadata": {},
       "output_type": "display_data",
       "text": [
        "<IPython.core.display.HTML at 0x7f2761473e48>"
       ]
      }
     ],
     "prompt_number": 11
    },
    {
     "cell_type": "markdown",
     "metadata": {},
     "source": [
      "Bournemouth just cannot catch a break. Though to be fair Bournemouth had a two goal lead here and probably should have held on, but an away draw is not a disaster. Still, their PDO has not been their friend, I fully expect Bournemouth to remain in the division:"
     ]
    },
    {
     "cell_type": "code",
     "collapsed": false,
     "input": [
      "pairs = [(stats.teamname, stats.pdo)\n",
      "         for stats in epl.team_stats.values()]\n",
      "league_analysis.display_ranked_table(['Team', 'PDO'], pairs)"
     ],
     "language": "python",
     "metadata": {},
     "outputs": [
      {
       "html": [
        "<table><tr><th>Position</th> <th>Team</th> <th>PDO</th></tr><tr><td>1</td> <td>Man United</td> <td>0.1680035650623886</td></tr>\n",
        "<tr><td>2</td> <td>Everton</td> <td>0.15101838052657723</td></tr>\n",
        "<tr><td>3</td> <td>West Ham</td> <td>0.134453781512605</td></tr>\n",
        "<tr><td>4</td> <td>Arsenal</td> <td>0.07640344747262984</td></tr>\n",
        "<tr><td>5</td> <td>Leicester</td> <td>0.06681405060181778</td></tr>\n",
        "<tr><td>6</td> <td>Stoke</td> <td>0.06533776301218164</td></tr>\n",
        "<tr><td>7</td> <td>Tottenham</td> <td>0.0314176245210728</td></tr>\n",
        "<tr><td>8</td> <td>Watford</td> <td>0.026455026455026454</td></tr>\n",
        "<tr><td>9</td> <td>West Brom</td> <td>0.017543859649122806</td></tr>\n",
        "<tr><td>10</td> <td>Crystal Palace</td> <td>0.0014380212827150018</td></tr>\n",
        "<tr><td>11</td> <td>Sunderland</td> <td>-0.010932105868814712</td></tr>\n",
        "<tr><td>12</td> <td>Chelsea</td> <td>-0.03466386554621853</td></tr>\n",
        "<tr><td>13</td> <td>Man City</td> <td>-0.037397862979258345</td></tr>\n",
        "<tr><td>14</td> <td>Newcastle</td> <td>-0.059857057772483624</td></tr>\n",
        "<tr><td>15</td> <td>Southampton</td> <td>-0.061969439728353115</td></tr>\n",
        "<tr><td>16</td> <td>Swansea</td> <td>-0.06216931216931221</td></tr>\n",
        "<tr><td>17</td> <td>Aston Villa</td> <td>-0.06409130816505704</td></tr>\n",
        "<tr><td>18</td> <td>Norwich</td> <td>-0.09714632665452339</td></tr>\n",
        "<tr><td>19</td> <td>Liverpool</td> <td>-0.09956709956709958</td></tr>\n",
        "<tr><td>20</td> <td>Bournemouth</td> <td>-0.23153942428035046</td></tr></table>"
       ],
       "metadata": {},
       "output_type": "display_data",
       "text": [
        "<IPython.core.display.HTML at 0x7f277c0582e8>"
       ]
      }
     ],
     "prompt_number": 12
    },
    {
     "cell_type": "markdown",
     "metadata": {},
     "source": [
      "Just look at that number. They are minus 0.23 more than double the negative of the next worse off team Liverpool. Also worth noting here is that Leicester aren't getting an **incredible** amount of luck."
     ]
    },
    {
     "cell_type": "code",
     "collapsed": false,
     "input": [
      "league_analysis.display_match(epl, 'Watford', 'Man United', '21/11/15')"
     ],
     "language": "python",
     "metadata": {},
     "outputs": [
      {
       "html": [
        "<h1>Watford 1 - 2 Man United</h1>\n",
        "    <table>\n",
        "      <tr><th></th><th>Home</th><th>Away</th></tr>\n",
        "      <tr><td>Team</td><td>Watford</td><td>Man United</td></tr>\n",
        "      <tr><td>Goals</td><td>1</td><td>2</td></tr>\n",
        "      <tr><td>Shots</td><td>10</td><td>13</td></tr>\n",
        "      <tr><td>SOT</td><td>5</td><td>6</td></tr>\n",
        "      \n",
        "    </table>\n",
        "    "
       ],
       "metadata": {},
       "output_type": "display_data",
       "text": [
        "<IPython.core.display.HTML at 0x7f27614a3630>"
       ]
      }
     ],
     "prompt_number": 13
    },
    {
     "cell_type": "markdown",
     "metadata": {},
     "source": [
      "The above table showed the league leaders in PDO are Manchester United. However, we know that PDO is an imperfect measure of luck, and that Mancester United do seem to have some qualities that allow them to defy measure. A good [article at statsbomb](http://statsbomb.com/2014/10/how-low-can-you-go-assorted-thoughts-about-crosses/) (by Marek Kwiatkowski otherwise known as statlurker), is a nice discussion of one way in which shot statistics might miss \"near chances\". So perhaps Manchester United create a lot of plays that do not result in shots but *nearly* a shot from a highly dangerous position. In other words a cross/pass which missed its target but had it done so would have resulted in a goal with high probability. Having watched Manchester United play this season I'm a little sceptical of that explanation (for this season).\n",
      "\n",
      "Still, this was a game that Mancester United probably deserved to win, but it highlights a problem with playing in such a closed manner. You're susceptible to the vagries of chance. In other words, you're more likely to lose if you out-shoot your opponents 5-3 than you are if you out-shoot them 20-12. Since Man United should probably consider themselves favourites for most games against league opponents this season, their tactics are at least a bit questionable. But that is a topic that deserves much more than a brief look.\n",
      "\n",
      "Of course I say all this despite the fact that actually Watford have managed quite a decent number of shots and shots on target against the generally miserly Man United. Watford are in danger of coming off as plucky-losers a lot, but the general signs points to a pretty decent team that **should** manage to remain in the league, they certainly seem better than Newcastle, Sunderland and Aston Villa."
     ]
    },
    {
     "cell_type": "code",
     "collapsed": false,
     "input": [
      "league_analysis.display_match(epl, 'West Brom', 'Arsenal', '21/11/15')"
     ],
     "language": "python",
     "metadata": {},
     "outputs": [
      {
       "html": [
        "<h1>West Brom 2 - 1 Arsenal</h1>\n",
        "    <table>\n",
        "      <tr><th></th><th>Home</th><th>Away</th></tr>\n",
        "      <tr><td>Team</td><td>West Brom</td><td>Arsenal</td></tr>\n",
        "      <tr><td>Goals</td><td>2</td><td>1</td></tr>\n",
        "      <tr><td>Shots</td><td>4</td><td>11</td></tr>\n",
        "      <tr><td>SOT</td><td>1</td><td>3</td></tr>\n",
        "      \n",
        "    </table>\n",
        "    "
       ],
       "metadata": {},
       "output_type": "display_data",
       "text": [
        "<IPython.core.display.HTML at 0x7f27614a3518>"
       ]
      }
     ],
     "prompt_number": 14
    },
    {
     "cell_type": "markdown",
     "metadata": {},
     "source": [
      "Great win for West Brom. Another defeat for Arsenal despite dominating the game for large portions. Still, Arsenal are clearly title contenders this season."
     ]
    },
    {
     "cell_type": "code",
     "collapsed": false,
     "input": [
      "league_analysis.display_match(epl, 'Tottenham', 'West Ham', '22/11/15')"
     ],
     "language": "python",
     "metadata": {},
     "outputs": [
      {
       "html": [
        "<h1>Tottenham 4 - 1 West Ham</h1>\n",
        "    <table>\n",
        "      <tr><th></th><th>Home</th><th>Away</th></tr>\n",
        "      <tr><td>Team</td><td>Tottenham</td><td>West Ham</td></tr>\n",
        "      <tr><td>Goals</td><td>4</td><td>1</td></tr>\n",
        "      <tr><td>Shots</td><td>22</td><td>10</td></tr>\n",
        "      <tr><td>SOT</td><td>12</td><td>4</td></tr>\n",
        "      \n",
        "    </table>\n",
        "    "
       ],
       "metadata": {},
       "output_type": "display_data",
       "text": [
        "<IPython.core.display.HTML at 0x7f27614a3518>"
       ]
      }
     ],
     "prompt_number": 15
    },
    {
     "cell_type": "markdown",
     "metadata": {},
     "source": [
      "This was pretty predictable. Tottenham are beginning to look better and better this season. With the very lacklustre start to the campaign for the champions, a top 4 spot has looked well within Tottenham's grasp. Having seen Arsenal and City lose this weekend I suspect Spurs fans are starting to dream of a title-bid if not exactly a title. Probably a little premature for that, but still, it's been a long time since Spurs lost a league match.\n",
      "\n",
      "I don't wish to harp on at West Ham, but they are still over-performing. I still think they will not manage to remain in the top half of the table."
     ]
    },
    {
     "cell_type": "code",
     "collapsed": false,
     "input": [
      "league_analysis.display_match(epl, 'Crystal Palace', 'Sunderland', '23/11/15')"
     ],
     "language": "python",
     "metadata": {},
     "outputs": [
      {
       "html": [
        "<h1>Crystal Palace 0 - 1 Sunderland</h1>\n",
        "    <table>\n",
        "      <tr><th></th><th>Home</th><th>Away</th></tr>\n",
        "      <tr><td>Team</td><td>Crystal Palace</td><td>Sunderland</td></tr>\n",
        "      <tr><td>Goals</td><td>0</td><td>1</td></tr>\n",
        "      <tr><td>Shots</td><td>19</td><td>12</td></tr>\n",
        "      <tr><td>SOT</td><td>7</td><td>4</td></tr>\n",
        "      \n",
        "    </table>\n",
        "    "
       ],
       "metadata": {},
       "output_type": "display_data",
       "text": [
        "<IPython.core.display.HTML at 0x7f277c058048>"
       ]
      }
     ],
     "prompt_number": 16
    },
    {
     "cell_type": "markdown",
     "metadata": {},
     "source": [
      "File this one under, \"Did not see that coming\". However, once again the shots statistics show that Sunderland probably did not deserve this win. I say once again, because Sunderland have only won two games this season, and both have been seemingly undeserved:"
     ]
    },
    {
     "cell_type": "code",
     "collapsed": false,
     "input": [
      "def filter_fun(match):\n",
      "    return ((match.HomeTeam == 'Sunderland' and match.FTR == 'H') or\n",
      "            (match.AwayTeam == 'Sunderland' and match.FTR == 'A'))\n",
      "\n",
      "relevant_matches = league_analysis.get_all_matches(years=[league_analysis.year_201516], filter_fun=filter_fun)\n",
      "league_analysis.display_given_matches(relevant_matches)"
     ],
     "language": "python",
     "metadata": {},
     "outputs": [
      {
       "html": [
        "<div style=\"display:inline-block;\">\n",
        "    <table>\n",
        "      <tr><th></th><th>Home</th><th>Away</th></tr>\n",
        "      <tr><td>Team</td><td>Sunderland</td><td>Newcastle</td></tr>\n",
        "      <tr><td>Goals</td><td>3</td><td>0</td></tr>\n",
        "      <tr><td>Shots</td><td>9</td><td>21</td></tr>\n",
        "      <tr><td>SOT</td><td>3</td><td>8</td></tr>\n",
        "      \n",
        "    </table>\n",
        "    </div>\n",
        "<div style=\"display:inline-block;\">\n",
        "    <table>\n",
        "      <tr><th></th><th>Home</th><th>Away</th></tr>\n",
        "      <tr><td>Team</td><td>Crystal Palace</td><td>Sunderland</td></tr>\n",
        "      <tr><td>Goals</td><td>0</td><td>1</td></tr>\n",
        "      <tr><td>Shots</td><td>19</td><td>12</td></tr>\n",
        "      <tr><td>SOT</td><td>7</td><td>4</td></tr>\n",
        "      \n",
        "    </table>\n",
        "    </div>"
       ],
       "metadata": {},
       "output_type": "display_data",
       "text": [
        "<IPython.core.display.HTML at 0x7f277c043e10>"
       ]
      }
     ],
     "prompt_number": 17
    },
    {
     "cell_type": "markdown",
     "metadata": {},
     "source": [
      "Worrying times, unless you're a Newcastle fan, except that:"
     ]
    },
    {
     "cell_type": "code",
     "collapsed": false,
     "input": [
      "def filter_fun(match):\n",
      "    return ((match.HomeTeam == 'Newcastle' and match.FTR == 'H') or\n",
      "            (match.AwayTeam == 'Newcastle' and match.FTR == 'A'))\n",
      "\n",
      "relevant_matches = league_analysis.get_all_matches(years=[league_analysis.year_201516], filter_fun=filter_fun)\n",
      "league_analysis.display_given_matches(relevant_matches)"
     ],
     "language": "python",
     "metadata": {},
     "outputs": [
      {
       "html": [
        "<div style=\"display:inline-block;\">\n",
        "    <table>\n",
        "      <tr><th></th><th>Home</th><th>Away</th></tr>\n",
        "      <tr><td>Team</td><td>Newcastle</td><td>Norwich</td></tr>\n",
        "      <tr><td>Goals</td><td>6</td><td>2</td></tr>\n",
        "      <tr><td>Shots</td><td>11</td><td>18</td></tr>\n",
        "      <tr><td>SOT</td><td>6</td><td>6</td></tr>\n",
        "      \n",
        "    </table>\n",
        "    </div>\n",
        "<div style=\"display:inline-block;\">\n",
        "    <table>\n",
        "      <tr><th></th><th>Home</th><th>Away</th></tr>\n",
        "      <tr><td>Team</td><td>Bournemouth</td><td>Newcastle</td></tr>\n",
        "      <tr><td>Goals</td><td>0</td><td>1</td></tr>\n",
        "      <tr><td>Shots</td><td>20</td><td>2</td></tr>\n",
        "      <tr><td>SOT</td><td>5</td><td>1</td></tr>\n",
        "      \n",
        "    </table>\n",
        "    </div>"
       ],
       "metadata": {},
       "output_type": "display_data",
       "text": [
        "<IPython.core.display.HTML at 0x7f27603a7ba8>"
       ]
      }
     ],
     "prompt_number": 18
    },
    {
     "cell_type": "markdown",
     "metadata": {},
     "source": [
      "Still it could be worse, you could have only won **one** game, which you probably didn't deserve:"
     ]
    },
    {
     "cell_type": "code",
     "collapsed": false,
     "input": [
      "def filter_fun(match):\n",
      "    return ((match.HomeTeam == 'Aston Villa' and match.FTR == 'H') or\n",
      "            (match.AwayTeam == 'Aston Villa' and match.FTR == 'A'))\n",
      "\n",
      "relevant_matches = league_analysis.get_all_matches(years=[league_analysis.year_201516], filter_fun=filter_fun)\n",
      "league_analysis.display_given_matches(relevant_matches)"
     ],
     "language": "python",
     "metadata": {},
     "outputs": [
      {
       "html": [
        "<div style=\"display:inline-block;\">\n",
        "    <table>\n",
        "      <tr><th></th><th>Home</th><th>Away</th></tr>\n",
        "      <tr><td>Team</td><td>Bournemouth</td><td>Aston Villa</td></tr>\n",
        "      <tr><td>Goals</td><td>0</td><td>1</td></tr>\n",
        "      <tr><td>Shots</td><td>11</td><td>7</td></tr>\n",
        "      <tr><td>SOT</td><td>2</td><td>3</td></tr>\n",
        "      \n",
        "    </table>\n",
        "    </div>"
       ],
       "metadata": {},
       "output_type": "display_data",
       "text": [
        "<IPython.core.display.HTML at 0x7f27603ab710>"
       ]
      }
     ],
     "prompt_number": 19
    },
    {
     "cell_type": "markdown",
     "metadata": {},
     "source": [
      "As I said, poor old Bournemouth.\n",
      "\n",
      "Thanks for reading."
     ]
    }
   ],
   "metadata": {}
  }
 ]
}