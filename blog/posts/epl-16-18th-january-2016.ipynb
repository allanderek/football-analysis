{
 "metadata": {
  "nikola": {
   "category": "",
   "date": "2016-01-18 10:45:03 UTC",
   "description": "",
   "link": "",
   "slug": "epl-16-18th-january-2016",
   "tags": "",
   "title": "EPL 16-18th January 2016",
   "type": "text"
  },
  "signature": "sha256:19da6f87153ba264c2c46f1e0ca4752d5df0855171b000ab57f0d4d4d9e41c64"
 },
 "nbformat": 3,
 "nbformat_minor": 0,
 "worksheets": [
  {
   "cells": [
    {
     "cell_type": "markdown",
     "metadata": {},
     "source": [
      "# EPL 16-18th January 2016\n",
      "\n",
      "Another look at some of the simple statistics underlying the matches in the English Premier league. A weekend that saw Manchester City claw back two points on Arsenal and Leicester who remain on top of the league separated only by goal difference and then only by a point to Manchester City."
     ]
    },
    {
     "cell_type": "code",
     "collapsed": false,
     "input": [
      "%matplotlib inline\n",
      "import league_analysis\n",
      "from IPython.display import display, HTML\n",
      "epl = league_analysis.epl\n",
      "league_analysis.blog_weekly_header(epl, '16/01/2016', '18/01/2016')"
     ],
     "language": "python",
     "metadata": {},
     "outputs": [
      {
       "html": [
        "<div style=\"display:inline-block; margin-right:2em;\">\n",
        "    <table>\n",
        "      <tr><th></th><th>Home</th><th>Away</th></tr>\n",
        "      <tr><td>Team</td><td>Aston Villa</td><td>Leicester</td></tr>\n",
        "      <tr><td>Goals</td><td>1</td><td>1</td></tr>\n",
        "      <tr><td>Shots</td><td>14</td><td>12</td></tr>\n",
        "      <tr><td>SOT</td><td>5</td><td>5</td></tr>\n",
        "      \n",
        "    </table>\n",
        "    </div>\n",
        "<div style=\"display:inline-block; margin-right:2em;\">\n",
        "    <table>\n",
        "      <tr><th></th><th>Home</th><th>Away</th></tr>\n",
        "      <tr><td>Team</td><td>Bournemouth</td><td>Norwich</td></tr>\n",
        "      <tr><td>Goals</td><td>3</td><td>0</td></tr>\n",
        "      <tr><td>Shots</td><td>15</td><td>10</td></tr>\n",
        "      <tr><td>SOT</td><td>8</td><td>3</td></tr>\n",
        "      \n",
        "    </table>\n",
        "    </div>\n",
        "<div style=\"display:inline-block; margin-right:2em;\">\n",
        "    <table>\n",
        "      <tr><th></th><th>Home</th><th>Away</th></tr>\n",
        "      <tr><td>Team</td><td>Chelsea</td><td>Everton</td></tr>\n",
        "      <tr><td>Goals</td><td>3</td><td>3</td></tr>\n",
        "      <tr><td>Shots</td><td>14</td><td>9</td></tr>\n",
        "      <tr><td>SOT</td><td>7</td><td>4</td></tr>\n",
        "      \n",
        "    </table>\n",
        "    </div>\n",
        "<div style=\"display:inline-block; margin-right:2em;\">\n",
        "    <table>\n",
        "      <tr><th></th><th>Home</th><th>Away</th></tr>\n",
        "      <tr><td>Team</td><td>Man City</td><td>Crystal Palace</td></tr>\n",
        "      <tr><td>Goals</td><td>4</td><td>0</td></tr>\n",
        "      <tr><td>Shots</td><td>17</td><td>9</td></tr>\n",
        "      <tr><td>SOT</td><td>4</td><td>3</td></tr>\n",
        "      \n",
        "    </table>\n",
        "    </div>\n",
        "<div style=\"display:inline-block; margin-right:2em;\">\n",
        "    <table>\n",
        "      <tr><th></th><th>Home</th><th>Away</th></tr>\n",
        "      <tr><td>Team</td><td>Newcastle</td><td>West Ham</td></tr>\n",
        "      <tr><td>Goals</td><td>2</td><td>1</td></tr>\n",
        "      <tr><td>Shots</td><td>23</td><td>10</td></tr>\n",
        "      <tr><td>SOT</td><td>10</td><td>3</td></tr>\n",
        "      \n",
        "    </table>\n",
        "    </div>\n",
        "<div style=\"display:inline-block; margin-right:2em;\">\n",
        "    <table>\n",
        "      <tr><th></th><th>Home</th><th>Away</th></tr>\n",
        "      <tr><td>Team</td><td>Southampton</td><td>West Brom</td></tr>\n",
        "      <tr><td>Goals</td><td>3</td><td>0</td></tr>\n",
        "      <tr><td>Shots</td><td>9</td><td>9</td></tr>\n",
        "      <tr><td>SOT</td><td>5</td><td>0</td></tr>\n",
        "      \n",
        "    </table>\n",
        "    </div>\n",
        "<div style=\"display:inline-block; margin-right:2em;\">\n",
        "    <table>\n",
        "      <tr><th></th><th>Home</th><th>Away</th></tr>\n",
        "      <tr><td>Team</td><td>Tottenham</td><td>Sunderland</td></tr>\n",
        "      <tr><td>Goals</td><td>4</td><td>1</td></tr>\n",
        "      <tr><td>Shots</td><td>26</td><td>5</td></tr>\n",
        "      <tr><td>SOT</td><td>11</td><td>2</td></tr>\n",
        "      \n",
        "    </table>\n",
        "    </div>\n",
        "<div style=\"display:inline-block; margin-right:2em;\">\n",
        "    <table>\n",
        "      <tr><th></th><th>Home</th><th>Away</th></tr>\n",
        "      <tr><td>Team</td><td>Liverpool</td><td>Man United</td></tr>\n",
        "      <tr><td>Goals</td><td>0</td><td>1</td></tr>\n",
        "      <tr><td>Shots</td><td>19</td><td>7</td></tr>\n",
        "      <tr><td>SOT</td><td>4</td><td>1</td></tr>\n",
        "      \n",
        "    </table>\n",
        "    </div>\n",
        "<div style=\"display:inline-block; margin-right:2em;\">\n",
        "    <table>\n",
        "      <tr><th></th><th>Home</th><th>Away</th></tr>\n",
        "      <tr><td>Team</td><td>Stoke</td><td>Arsenal</td></tr>\n",
        "      <tr><td>Goals</td><td>0</td><td>0</td></tr>\n",
        "      <tr><td>Shots</td><td>14</td><td>8</td></tr>\n",
        "      <tr><td>SOT</td><td>6</td><td>3</td></tr>\n",
        "      \n",
        "    </table>\n",
        "    </div>"
       ],
       "metadata": {},
       "output_type": "display_data",
       "text": [
        "<IPython.core.display.HTML at 0x7fc295a40438>"
       ]
      },
      {
       "html": [
        "<div style=\"display:inline-block; margin-right:2em;\"><table><tr><th>Position</th> <th>Team</th> <th>Points</th></tr><tr><td>1</td> <td>Leicester</td> <td>44</td></tr>\n",
        "<tr><td>-</td> <td>Arsenal</td> <td>44</td></tr>\n",
        "<tr><td>3</td> <td>Man City</td> <td>43</td></tr>\n",
        "<tr><td>4</td> <td>Tottenham</td> <td>39</td></tr>\n",
        "<tr><td>5</td> <td>Man United</td> <td>37</td></tr>\n",
        "<tr><td>6</td> <td>West Ham</td> <td>35</td></tr>\n",
        "<tr><td>7</td> <td>Stoke</td> <td>33</td></tr>\n",
        "<tr><td>8</td> <td>Crystal Palace</td> <td>31</td></tr>\n",
        "<tr><td>-</td> <td>Liverpool</td> <td>31</td></tr>\n",
        "<tr><td>10</td> <td>Southampton</td> <td>30</td></tr>\n",
        "<tr><td>11</td> <td>Watford</td> <td>29</td></tr>\n",
        "<tr><td>-</td> <td>Everton</td> <td>29</td></tr>\n",
        "<tr><td>13</td> <td>West Brom</td> <td>27</td></tr>\n",
        "<tr><td>14</td> <td>Chelsea</td> <td>25</td></tr>\n",
        "<tr><td>15</td> <td>Bournemouth</td> <td>24</td></tr>\n",
        "<tr><td>16</td> <td>Norwich</td> <td>23</td></tr>\n",
        "<tr><td>17</td> <td>Newcastle</td> <td>21</td></tr>\n",
        "<tr><td>18</td> <td>Swansea</td> <td>19</td></tr>\n",
        "<tr><td>19</td> <td>Sunderland</td> <td>18</td></tr>\n",
        "<tr><td>20</td> <td>Aston Villa</td> <td>12</td></tr></table></div>\n",
        "<div style=\"display:inline-block; margin-right:2em;\"><table><tr><th>Position</th> <th>Team</th> <th>Team Rating</th></tr><tr><td>1</td> <td>Man City</td> <td>0.268646140939205</td></tr>\n",
        "<tr><td>2</td> <td>Tottenham</td> <td>0.2095837986514689</td></tr>\n",
        "<tr><td>3</td> <td>Arsenal</td> <td>0.12968815748790902</td></tr>\n",
        "<tr><td>4</td> <td>Liverpool</td> <td>0.12594760206332867</td></tr>\n",
        "<tr><td>5</td> <td>Southampton</td> <td>0.09705813917529782</td></tr>\n",
        "<tr><td>6</td> <td>Man United</td> <td>0.08331574714593583</td></tr>\n",
        "<tr><td>7</td> <td>Leicester</td> <td>0.04992989660149112</td></tr>\n",
        "<tr><td>8</td> <td>Chelsea</td> <td>0.027711637191637863</td></tr>\n",
        "<tr><td>9</td> <td>Everton</td> <td>-6.215174755661024e-05</td></tr>\n",
        "<tr><td>10</td> <td>West Ham</td> <td>-0.007394766925740114</td></tr>\n",
        "<tr><td>11</td> <td>Bournemouth</td> <td>-0.011344341125768903</td></tr>\n",
        "<tr><td>12</td> <td>Watford</td> <td>-0.016013565655321492</td></tr>\n",
        "<tr><td>13</td> <td>Stoke</td> <td>-0.06797834104243798</td></tr>\n",
        "<tr><td>14</td> <td>Crystal Palace</td> <td>-0.06864341529257256</td></tr>\n",
        "<tr><td>15</td> <td>Swansea</td> <td>-0.07359592731905512</td></tr>\n",
        "<tr><td>16</td> <td>Norwich</td> <td>-0.11707431145573177</td></tr>\n",
        "<tr><td>17</td> <td>West Brom</td> <td>-0.1353146231932329</td></tr>\n",
        "<tr><td>18</td> <td>Aston Villa</td> <td>-0.1538345508230108</td></tr>\n",
        "<tr><td>19</td> <td>Sunderland</td> <td>-0.18576134406507852</td></tr>\n",
        "<tr><td>20</td> <td>Newcastle</td> <td>-0.18866298263445705</td></tr></table></div>\n",
        "<div style=\"display:inline-block; margin-right:2em;\"><table><tr><th>Position</th> <th>Team</th> <th>PDO</th></tr><tr><td>1</td> <td>Everton</td> <td>0.10705009276437849</td></tr>\n",
        "<tr><td>2</td> <td>Leicester</td> <td>0.09603208104685523</td></tr>\n",
        "<tr><td>3</td> <td>Man United</td> <td>0.09358974358974359</td></tr>\n",
        "<tr><td>4</td> <td>Stoke</td> <td>0.09020523534472166</td></tr>\n",
        "<tr><td>5</td> <td>West Ham</td> <td>0.08571428571428569</td></tr>\n",
        "<tr><td>6</td> <td>Arsenal</td> <td>0.07997867235403891</td></tr>\n",
        "<tr><td>7</td> <td>Watford</td> <td>0.05212355212355213</td></tr>\n",
        "<tr><td>8</td> <td>Man City</td> <td>0.035278413424866484</td></tr>\n",
        "<tr><td>9</td> <td>Sunderland</td> <td>0.019766997708174194</td></tr>\n",
        "<tr><td>10</td> <td>Tottenham</td> <td>0.008633980881899483</td></tr>\n",
        "<tr><td>11</td> <td>West Brom</td> <td>0.00773993808049539</td></tr>\n",
        "<tr><td>12</td> <td>Chelsea</td> <td>0.0064102564102563875</td></tr>\n",
        "<tr><td>13</td> <td>Crystal Palace</td> <td>-0.0196629213483146</td></tr>\n",
        "<tr><td>14</td> <td>Newcastle</td> <td>-0.035048165607706516</td></tr>\n",
        "<tr><td>15</td> <td>Norwich</td> <td>-0.04611528822055139</td></tr>\n",
        "<tr><td>16</td> <td>Southampton</td> <td>-0.048308542845860225</td></tr>\n",
        "<tr><td>17</td> <td>Swansea</td> <td>-0.10833088018840153</td></tr>\n",
        "<tr><td>18</td> <td>Aston Villa</td> <td>-0.11191522357198241</td></tr>\n",
        "<tr><td>19</td> <td>Liverpool</td> <td>-0.14617044228694714</td></tr>\n",
        "<tr><td>20</td> <td>Bournemouth</td> <td>-0.15066266566641662</td></tr></table></div>"
       ],
       "metadata": {},
       "output_type": "display_data",
       "text": [
        "<IPython.core.display.HTML at 0x7fc295a40438>"
       ]
      }
     ],
     "prompt_number": 2
    },
    {
     "cell_type": "markdown",
     "metadata": {},
     "source": [
      "# Aston Villa 1-1 Leicester\n",
      "\n",
      "Aston Villa have not managed to out-shoot many teams this season, so to do so against (one of) the league leaders is possibly a sign of improvement. Which makes it a bit of shame that they are now further from safety than previously due to those closest to them having good weekends, notably Newcastle and Swansea."
     ]
    },
    {
     "cell_type": "markdown",
     "metadata": {},
     "source": [
      "# Bournemouth 3-0 Norwich\n",
      "\n",
      "Bournemouth continue to improve and that result sees them leapfrog Norwich into 15th. Again because of the good weekends for Newcastle and Swansea they are still quite far from a comfortable position. Norwich beginning to slide rather worryingly."
     ]
    },
    {
     "cell_type": "markdown",
     "metadata": {},
     "source": [
      "# Chelsea 3-3 Everton\n",
      "\n",
      "A very entertaining game with a bit of controversy at the end. However, it's hard to make the case that Chelsea didn't deserve a draw overall. On a non-stat related note, I don't have much love for John Terry, but I was surprised that no-one on MOTD mentioned that although his draw-saving goal was clearly off-side, it was a pretty good finish.\n",
      "\n",
      "It's hard to really see Chelsea as relegation candidates, but it's hard not to comment on the fact that they are just 4 points from safety. However, they are equally just 5 points from 10th placed Southampton. Chelsea are currently 8th for team rating, and it does not seem entirely unlikely that they could end the season there. Whilst Southampton and Liverpool stand between Chelsea in 8th there is a trio of teams above 8th who **could** slip back in Crystal Palace, Stoke City and West Ham United."
     ]
    },
    {
     "cell_type": "markdown",
     "metadata": {},
     "source": [
      "# Manchester City 4-0 Crystal Palace\n",
      "\n",
      "The two Manchester teams managed 5 shots on target between them and scored all five of them. In truth though the sky blue half of Manchester were entirely on top here and were always going to win. Crystal Palace are having a tough time of it at the moment."
     ]
    },
    {
     "cell_type": "markdown",
     "metadata": {},
     "source": [
      "# Newcastle 2-1 West Ham\n",
      "\n",
      "A deserved victory for Newcastle, something I don't think we've said so far this season."
     ]
    },
    {
     "cell_type": "markdown",
     "metadata": {},
     "source": [
      "# Southampton 3-0 West Brom\n",
      "\n",
      "Interesting one, both teams had nine shots, but West Brom did not manage a single shot on target whilst Southampton managed 5. It is clear who deserved this one."
     ]
    },
    {
     "cell_type": "markdown",
     "metadata": {},
     "source": [
      "# Tottenham 4-1 Sunderland\n",
      "\n",
      "About as one-sided as it gets. Worrying times for Sunderland, who might have thought the 4-2 victory over Swansea could have represented a rise in form. Not on this evidence. Having said that Tottenham are one of the best teams in the league, so perhaps away to Tottenham is just not the kind of game relegation scrappers have much hope for."
     ]
    },
    {
     "cell_type": "markdown",
     "metadata": {},
     "source": [
      "# Liverpool 0-1 Manchester United\n",
      "\n",
      "Not much less one-side than the Tottenham, but in this case Liverpool lose. The big difference here is the shots on target, 4-1 is not that large an advantage."
     ]
    },
    {
     "cell_type": "markdown",
     "metadata": {},
     "source": [
      "# Stoke 0-0 Arsenal\n",
      "\n",
      "Bit of a slip up this for Arsenal and Stoke, if anything, deservered a win."
     ]
    },
    {
     "cell_type": "code",
     "collapsed": false,
     "input": [],
     "language": "python",
     "metadata": {},
     "outputs": []
    }
   ],
   "metadata": {}
  }
 ]
}