{
 "metadata": {
  "nikola": {
   "category": "",
   "date": "2015-10-21 08:02:09 UTC+01:00",
   "description": "",
   "link": "",
   "slug": "epl-17-19-october-2015",
   "tags": "",
   "title": "EPL 17-19 October 2015",
   "type": "text"
  },
  "signature": "sha256:d9d3dbfab5c99555956c8b513319d4859823dab0d63146c641bcf1668a165e90"
 },
 "nbformat": 3,
 "nbformat_minor": 0,
 "worksheets": [
  {
   "cells": [
    {
     "cell_type": "markdown",
     "metadata": {},
     "source": [
      "# EPL 3-4th October 2015\n",
      "\n",
      "A brief look at the shot statistics which underlay the weekend's games:"
     ]
    },
    {
     "cell_type": "code",
     "collapsed": false,
     "input": [
      "%matplotlib inline\n",
      "import league_analysis\n",
      "from IPython.display import display, HTML\n",
      "epl = league_analysis.epl\n",
      "weekend_matches = league_analysis.get_matches(epl, '17/10/2015', '19/10/2015')\n",
      "league_analysis.display_given_matches(weekend_matches)"
     ],
     "language": "python",
     "metadata": {},
     "outputs": [
      {
       "html": [
        "<div style=\"display:inline-block;\">\n",
        "    <table>\n",
        "      <tr><th></th><th>Home</th><th>Away</th></tr>\n",
        "      <tr><td>Team</td><td>Chelsea</td><td>Aston Villa</td></tr>\n",
        "      <tr><td>Goals</td><td>2</td><td>0</td></tr>\n",
        "      <tr><td>Shots</td><td>9</td><td>8</td></tr>\n",
        "      <tr><td>SOT</td><td>3</td><td>1</td></tr>\n",
        "      \n",
        "    </table>\n",
        "    </div>\n",
        "<div style=\"display:inline-block;\">\n",
        "    <table>\n",
        "      <tr><th></th><th>Home</th><th>Away</th></tr>\n",
        "      <tr><td>Team</td><td>Crystal Palace</td><td>West Ham</td></tr>\n",
        "      <tr><td>Goals</td><td>1</td><td>3</td></tr>\n",
        "      <tr><td>Shots</td><td>6</td><td>24</td></tr>\n",
        "      <tr><td>SOT</td><td>1</td><td>4</td></tr>\n",
        "      \n",
        "    </table>\n",
        "    </div>\n",
        "<div style=\"display:inline-block;\">\n",
        "    <table>\n",
        "      <tr><th></th><th>Home</th><th>Away</th></tr>\n",
        "      <tr><td>Team</td><td>Everton</td><td>Man United</td></tr>\n",
        "      <tr><td>Goals</td><td>0</td><td>3</td></tr>\n",
        "      <tr><td>Shots</td><td>12</td><td>10</td></tr>\n",
        "      <tr><td>SOT</td><td>3</td><td>7</td></tr>\n",
        "      \n",
        "    </table>\n",
        "    </div>\n",
        "<div style=\"display:inline-block;\">\n",
        "    <table>\n",
        "      <tr><th></th><th>Home</th><th>Away</th></tr>\n",
        "      <tr><td>Team</td><td>Man City</td><td>Bournemouth</td></tr>\n",
        "      <tr><td>Goals</td><td>5</td><td>1</td></tr>\n",
        "      <tr><td>Shots</td><td>15</td><td>5</td></tr>\n",
        "      <tr><td>SOT</td><td>11</td><td>1</td></tr>\n",
        "      \n",
        "    </table>\n",
        "    </div>\n",
        "<div style=\"display:inline-block;\">\n",
        "    <table>\n",
        "      <tr><th></th><th>Home</th><th>Away</th></tr>\n",
        "      <tr><td>Team</td><td>Southampton</td><td>Leicester</td></tr>\n",
        "      <tr><td>Goals</td><td>2</td><td>2</td></tr>\n",
        "      <tr><td>Shots</td><td>14</td><td>26</td></tr>\n",
        "      <tr><td>SOT</td><td>6</td><td>7</td></tr>\n",
        "      \n",
        "    </table>\n",
        "    </div>\n",
        "<div style=\"display:inline-block;\">\n",
        "    <table>\n",
        "      <tr><th></th><th>Home</th><th>Away</th></tr>\n",
        "      <tr><td>Team</td><td>Tottenham</td><td>Liverpool</td></tr>\n",
        "      <tr><td>Goals</td><td>0</td><td>0</td></tr>\n",
        "      <tr><td>Shots</td><td>13</td><td>12</td></tr>\n",
        "      <tr><td>SOT</td><td>4</td><td>3</td></tr>\n",
        "      \n",
        "    </table>\n",
        "    </div>\n",
        "<div style=\"display:inline-block;\">\n",
        "    <table>\n",
        "      <tr><th></th><th>Home</th><th>Away</th></tr>\n",
        "      <tr><td>Team</td><td>Watford</td><td>Arsenal</td></tr>\n",
        "      <tr><td>Goals</td><td>0</td><td>3</td></tr>\n",
        "      <tr><td>Shots</td><td>8</td><td>17</td></tr>\n",
        "      <tr><td>SOT</td><td>1</td><td>6</td></tr>\n",
        "      \n",
        "    </table>\n",
        "    </div>\n",
        "<div style=\"display:inline-block;\">\n",
        "    <table>\n",
        "      <tr><th></th><th>Home</th><th>Away</th></tr>\n",
        "      <tr><td>Team</td><td>West Brom</td><td>Sunderland</td></tr>\n",
        "      <tr><td>Goals</td><td>1</td><td>0</td></tr>\n",
        "      <tr><td>Shots</td><td>8</td><td>9</td></tr>\n",
        "      <tr><td>SOT</td><td>1</td><td>2</td></tr>\n",
        "      \n",
        "    </table>\n",
        "    </div>\n",
        "<div style=\"display:inline-block;\">\n",
        "    <table>\n",
        "      <tr><th></th><th>Home</th><th>Away</th></tr>\n",
        "      <tr><td>Team</td><td>Newcastle</td><td>Norwich</td></tr>\n",
        "      <tr><td>Goals</td><td>6</td><td>2</td></tr>\n",
        "      <tr><td>Shots</td><td>11</td><td>18</td></tr>\n",
        "      <tr><td>SOT</td><td>6</td><td>6</td></tr>\n",
        "      \n",
        "    </table>\n",
        "    </div>\n",
        "<div style=\"display:inline-block;\">\n",
        "    <table>\n",
        "      <tr><th></th><th>Home</th><th>Away</th></tr>\n",
        "      <tr><td>Team</td><td>Swansea</td><td>Stoke</td></tr>\n",
        "      <tr><td>Goals</td><td>0</td><td>1</td></tr>\n",
        "      <tr><td>Shots</td><td>14</td><td>9</td></tr>\n",
        "      <tr><td>SOT</td><td>2</td><td>2</td></tr>\n",
        "      \n",
        "    </table>\n",
        "    </div>"
       ],
       "metadata": {},
       "output_type": "display_data",
       "text": [
        "<IPython.core.display.HTML at 0x7fa9e4761128>"
       ]
      }
     ],
     "prompt_number": 1
    },
    {
     "cell_type": "markdown",
     "metadata": {},
     "source": [
      "# Chelsea 2-0 Aston Villa\n",
      "\n",
      "Chelsea sure needed this. It's not a particularly dominant home victory.\n",
      "\n",
      "# Crystal Palace 1-3 West Ham\n",
      "\n",
      "Something of a surprise and this no doubt now has a lot of the statistics people scratching their heads. I for one have been very bearish on West Ham, concluding that they have been very lucky and in particular away from home. But this was away from home and very well deserved victory. They had the second most total shots of the weekend after Leicester:"
     ]
    },
    {
     "cell_type": "code",
     "collapsed": false,
     "input": [
      "league_analysis.rank_teams_single_matches(weekend_matches, 'shots')"
     ],
     "language": "python",
     "metadata": {},
     "outputs": [
      {
       "html": [
        "<table><tr><th>Position</th> <th>Team</th> <th>shots</th></tr><tr><td>1</td> <td>Leicester</td> <td>26</td></tr>\n",
        "<tr><td>2</td> <td>West Ham</td> <td>24</td></tr>\n",
        "<tr><td>3</td> <td>Norwich</td> <td>18</td></tr>\n",
        "<tr><td>4</td> <td>Arsenal</td> <td>17</td></tr>\n",
        "<tr><td>5</td> <td>Man City</td> <td>15</td></tr>\n",
        "<tr><td>6</td> <td>Southampton</td> <td>14</td></tr>\n",
        "<tr><td>-</td> <td>Swansea</td> <td>14</td></tr>\n",
        "<tr><td>8</td> <td>Tottenham</td> <td>13</td></tr>\n",
        "<tr><td>9</td> <td>Everton</td> <td>12</td></tr>\n",
        "<tr><td>-</td> <td>Liverpool</td> <td>12</td></tr>\n",
        "<tr><td>11</td> <td>Newcastle</td> <td>11</td></tr>\n",
        "<tr><td>12</td> <td>Man United</td> <td>10</td></tr>\n",
        "<tr><td>13</td> <td>Chelsea</td> <td>9</td></tr>\n",
        "<tr><td>-</td> <td>Sunderland</td> <td>9</td></tr>\n",
        "<tr><td>-</td> <td>Stoke</td> <td>9</td></tr>\n",
        "<tr><td>16</td> <td>Aston Villa</td> <td>8</td></tr>\n",
        "<tr><td>-</td> <td>Watford</td> <td>8</td></tr>\n",
        "<tr><td>-</td> <td>West Brom</td> <td>8</td></tr>\n",
        "<tr><td>19</td> <td>Crystal Palace</td> <td>6</td></tr>\n",
        "<tr><td>20</td> <td>Bournemouth</td> <td>5</td></tr></table>"
       ],
       "metadata": {},
       "output_type": "display_data",
       "text": [
        "<IPython.core.display.HTML at 0x7fa9e4761a90>"
       ]
      }
     ],
     "prompt_number": 2
    },
    {
     "cell_type": "markdown",
     "metadata": {},
     "source": [
      "They also had the best total shots ratio for the weekend:"
     ]
    },
    {
     "cell_type": "code",
     "collapsed": false,
     "input": [
      "league_analysis.rank_teams_single_matches(weekend_matches, 'tsr')"
     ],
     "language": "python",
     "metadata": {},
     "outputs": [
      {
       "html": [
        "<table><tr><th>Position</th> <th>Team</th> <th>tsr</th></tr><tr><td>1</td> <td>West Ham</td> <td>0.8</td></tr>\n",
        "<tr><td>2</td> <td>Man City</td> <td>0.75</td></tr>\n",
        "<tr><td>3</td> <td>Arsenal</td> <td>0.68</td></tr>\n",
        "<tr><td>4</td> <td>Leicester</td> <td>0.65</td></tr>\n",
        "<tr><td>5</td> <td>Norwich</td> <td>0.6206896551724138</td></tr>\n",
        "<tr><td>6</td> <td>Swansea</td> <td>0.6086956521739131</td></tr>\n",
        "<tr><td>7</td> <td>Everton</td> <td>0.5454545454545454</td></tr>\n",
        "<tr><td>8</td> <td>Chelsea</td> <td>0.5294117647058824</td></tr>\n",
        "<tr><td>-</td> <td>Sunderland</td> <td>0.5294117647058824</td></tr>\n",
        "<tr><td>10</td> <td>Tottenham</td> <td>0.52</td></tr>\n",
        "<tr><td>11</td> <td>Liverpool</td> <td>0.48</td></tr>\n",
        "<tr><td>12</td> <td>Aston Villa</td> <td>0.47058823529411764</td></tr>\n",
        "<tr><td>-</td> <td>West Brom</td> <td>0.47058823529411764</td></tr>\n",
        "<tr><td>14</td> <td>Man United</td> <td>0.45454545454545453</td></tr>\n",
        "<tr><td>15</td> <td>Stoke</td> <td>0.391304347826087</td></tr>\n",
        "<tr><td>16</td> <td>Newcastle</td> <td>0.3793103448275862</td></tr>\n",
        "<tr><td>17</td> <td>Southampton</td> <td>0.35</td></tr>\n",
        "<tr><td>18</td> <td>Watford</td> <td>0.32</td></tr>\n",
        "<tr><td>19</td> <td>Bournemouth</td> <td>0.25</td></tr>\n",
        "<tr><td>20</td> <td>Crystal Palace</td> <td>0.2</td></tr></table>"
       ],
       "metadata": {},
       "output_type": "display_data",
       "text": [
        "<IPython.core.display.HTML at 0x7fa9e4761dd8>"
       ]
      }
     ],
     "prompt_number": 3
    },
    {
     "cell_type": "markdown",
     "metadata": {},
     "source": [
      "To see just how dominant a tsr of 0.8 is, we look at matches so far within the league in which a team has recorded a total shots ratio of 0.8 or more. There have only been 4 such matches. Twice Newcastle have been on the recieving end. Incredibly West Ham have been both on the receiving end and the team dishing out the shots."
     ]
    },
    {
     "cell_type": "code",
     "collapsed": false,
     "input": [
      "matches_so_far = league_analysis.get_matches(epl, '01/08/2015', '19/10/2015')\n",
      "high_tsr_matches = (m for m in matches_so_far if m.home_tsr >= 0.8 or m.away_tsr >= 0.8)\n",
      "league_analysis.display_given_matches(high_tsr_matches)\n",
      "display(HTML('There have been {0} matches in total'.format(len(matches_so_far))))"
     ],
     "language": "python",
     "metadata": {},
     "outputs": [
      {
       "html": [
        "<div style=\"display:inline-block;\">\n",
        "    <table>\n",
        "      <tr><th></th><th>Home</th><th>Away</th></tr>\n",
        "      <tr><td>Team</td><td>Swansea</td><td>Newcastle</td></tr>\n",
        "      <tr><td>Goals</td><td>2</td><td>0</td></tr>\n",
        "      <tr><td>Shots</td><td>19</td><td>4</td></tr>\n",
        "      <tr><td>SOT</td><td>6</td><td>2</td></tr>\n",
        "      \n",
        "    </table>\n",
        "    </div>\n",
        "<div style=\"display:inline-block;\">\n",
        "    <table>\n",
        "      <tr><th></th><th>Home</th><th>Away</th></tr>\n",
        "      <tr><td>Team</td><td>Newcastle</td><td>Arsenal</td></tr>\n",
        "      <tr><td>Goals</td><td>0</td><td>1</td></tr>\n",
        "      <tr><td>Shots</td><td>1</td><td>22</td></tr>\n",
        "      <tr><td>SOT</td><td>0</td><td>9</td></tr>\n",
        "      \n",
        "    </table>\n",
        "    </div>\n",
        "<div style=\"display:inline-block;\">\n",
        "    <table>\n",
        "      <tr><th></th><th>Home</th><th>Away</th></tr>\n",
        "      <tr><td>Team</td><td>Man City</td><td>West Ham</td></tr>\n",
        "      <tr><td>Goals</td><td>1</td><td>2</td></tr>\n",
        "      <tr><td>Shots</td><td>27</td><td>6</td></tr>\n",
        "      <tr><td>SOT</td><td>8</td><td>3</td></tr>\n",
        "      \n",
        "    </table>\n",
        "    </div>\n",
        "<div style=\"display:inline-block;\">\n",
        "    <table>\n",
        "      <tr><th></th><th>Home</th><th>Away</th></tr>\n",
        "      <tr><td>Team</td><td>Crystal Palace</td><td>West Ham</td></tr>\n",
        "      <tr><td>Goals</td><td>1</td><td>3</td></tr>\n",
        "      <tr><td>Shots</td><td>6</td><td>24</td></tr>\n",
        "      <tr><td>SOT</td><td>1</td><td>4</td></tr>\n",
        "      \n",
        "    </table>\n",
        "    </div>"
       ],
       "metadata": {},
       "output_type": "display_data",
       "text": [
        "<IPython.core.display.HTML at 0x7fa9c89771d0>"
       ]
      },
      {
       "html": [
        "There have been 90 matches in total"
       ],
       "metadata": {},
       "output_type": "display_data",
       "text": [
        "<IPython.core.display.HTML at 0x7fa9c8977ba8>"
       ]
      }
     ],
     "prompt_number": 4
    },
    {
     "cell_type": "markdown",
     "metadata": {},
     "source": [
      "This week it wasn't just the shots but the shots on target. For this West Ham were third best in the league this weekend, behind the title contenders Manchester City and (yes) Arsenal."
     ]
    },
    {
     "cell_type": "code",
     "collapsed": false,
     "input": [
      "league_analysis.rank_teams_single_matches(weekend_matches, 'sotr')"
     ],
     "language": "python",
     "metadata": {},
     "outputs": [
      {
       "html": [
        "<table><tr><th>Position</th> <th>Team</th> <th>sotr</th></tr><tr><td>1</td> <td>Man City</td> <td>0.9166666666666666</td></tr>\n",
        "<tr><td>2</td> <td>Arsenal</td> <td>0.8571428571428571</td></tr>\n",
        "<tr><td>3</td> <td>West Ham</td> <td>0.8</td></tr>\n",
        "<tr><td>4</td> <td>Chelsea</td> <td>0.75</td></tr>\n",
        "<tr><td>5</td> <td>Man United</td> <td>0.7</td></tr>\n",
        "<tr><td>6</td> <td>Sunderland</td> <td>0.6666666666666666</td></tr>\n",
        "<tr><td>7</td> <td>Tottenham</td> <td>0.5714285714285714</td></tr>\n",
        "<tr><td>8</td> <td>Leicester</td> <td>0.5384615384615384</td></tr>\n",
        "<tr><td>9</td> <td>Newcastle</td> <td>0.5</td></tr>\n",
        "<tr><td>-</td> <td>Norwich</td> <td>0.5</td></tr>\n",
        "<tr><td>-</td> <td>Swansea</td> <td>0.5</td></tr>\n",
        "<tr><td>-</td> <td>Stoke</td> <td>0.5</td></tr>\n",
        "<tr><td>13</td> <td>Southampton</td> <td>0.46153846153846156</td></tr>\n",
        "<tr><td>14</td> <td>Liverpool</td> <td>0.42857142857142855</td></tr>\n",
        "<tr><td>15</td> <td>West Brom</td> <td>0.3333333333333333</td></tr>\n",
        "<tr><td>16</td> <td>Everton</td> <td>0.3</td></tr>\n",
        "<tr><td>17</td> <td>Aston Villa</td> <td>0.25</td></tr>\n",
        "<tr><td>18</td> <td>Crystal Palace</td> <td>0.2</td></tr>\n",
        "<tr><td>19</td> <td>Watford</td> <td>0.14285714285714285</td></tr>\n",
        "<tr><td>20</td> <td>Bournemouth</td> <td>0.08333333333333333</td></tr></table>"
       ],
       "metadata": {},
       "output_type": "display_data",
       "text": [
        "<IPython.core.display.HTML at 0x7fa9e4761b38>"
       ]
      }
     ],
     "prompt_number": 5
    },
    {
     "cell_type": "markdown",
     "metadata": {},
     "source": [
      "The lingering worry for West Ham fans will be that all of these shots have come they were only 15th equal for their target ratio, that is the ratio of their total shots that were on target."
     ]
    },
    {
     "cell_type": "code",
     "collapsed": false,
     "input": [
      "league_analysis.rank_teams_single_matches(weekend_matches, 'target_ratio',\n",
      "                                          stat_header_name='Target Ratio')"
     ],
     "language": "python",
     "metadata": {},
     "outputs": [
      {
       "html": [
        "<table><tr><th>Position</th> <th>Team</th> <th>Target Ratio</th></tr><tr><td>1</td> <td>Man City</td> <td>0.4230769230769231</td></tr>\n",
        "<tr><td>2</td> <td>Man United</td> <td>0.4117647058823529</td></tr>\n",
        "<tr><td>3</td> <td>Newcastle</td> <td>0.35294117647058826</td></tr>\n",
        "<tr><td>4</td> <td>Southampton</td> <td>0.3</td></tr>\n",
        "<tr><td>5</td> <td>Arsenal</td> <td>0.2608695652173913</td></tr>\n",
        "<tr><td>6</td> <td>Chelsea</td> <td>0.25</td></tr>\n",
        "<tr><td>-</td> <td>Norwich</td> <td>0.25</td></tr>\n",
        "<tr><td>8</td> <td>Tottenham</td> <td>0.23529411764705882</td></tr>\n",
        "<tr><td>9</td> <td>Leicester</td> <td>0.21212121212121213</td></tr>\n",
        "<tr><td>10</td> <td>Everton</td> <td>0.2</td></tr>\n",
        "<tr><td>-</td> <td>Liverpool</td> <td>0.2</td></tr>\n",
        "<tr><td>12</td> <td>Sunderland</td> <td>0.18181818181818182</td></tr>\n",
        "<tr><td>-</td> <td>Stoke</td> <td>0.18181818181818182</td></tr>\n",
        "<tr><td>14</td> <td>Bournemouth</td> <td>0.16666666666666666</td></tr>\n",
        "<tr><td>15</td> <td>Crystal Palace</td> <td>0.14285714285714285</td></tr>\n",
        "<tr><td>-</td> <td>West Ham</td> <td>0.14285714285714285</td></tr>\n",
        "<tr><td>17</td> <td>Swansea</td> <td>0.125</td></tr>\n",
        "<tr><td>18</td> <td>Aston Villa</td> <td>0.1111111111111111</td></tr>\n",
        "<tr><td>-</td> <td>Watford</td> <td>0.1111111111111111</td></tr>\n",
        "<tr><td>-</td> <td>West Brom</td> <td>0.1111111111111111</td></tr></table>"
       ],
       "metadata": {},
       "output_type": "display_data",
       "text": [
        "<IPython.core.display.HTML at 0x7fa9e4761a90>"
       ]
      }
     ],
     "prompt_number": 6
    },
    {
     "cell_type": "markdown",
     "metadata": {},
     "source": [
      "And they still have a pretty large PDO, significantly higher than the second placed team, Manchester United, who are themselves something of an outlier:"
     ]
    },
    {
     "cell_type": "code",
     "collapsed": false,
     "input": [
      "league_analysis.display_statistic_rankings(epl, 'pdo')"
     ],
     "language": "python",
     "metadata": {},
     "outputs": [
      {
       "html": [
        "<table><tr><th>Position</th> <th>Team</th> <th>pdo</th></tr><tr><td>1</td> <td>West Ham</td> <td>0.2337507453786523</td></tr>\n",
        "<tr><td>2</td> <td>Man United</td> <td>0.13257575757575757</td></tr>\n",
        "<tr><td>3</td> <td>Everton</td> <td>0.09285714285714286</td></tr>\n",
        "<tr><td>4</td> <td>Arsenal</td> <td>0.07500000000000001</td></tr>\n",
        "<tr><td>5</td> <td>Crystal Palace</td> <td>0.07046070460704607</td></tr>\n",
        "<tr><td>6</td> <td>Newcastle</td> <td>0.06071428571428572</td></tr>\n",
        "<tr><td>7</td> <td>Stoke</td> <td>0.06062424969987995</td></tr>\n",
        "<tr><td>8</td> <td>Chelsea</td> <td>0.03205128205128205</td></tr>\n",
        "<tr><td>9</td> <td>Leicester</td> <td>0.009469696969696961</td></tr>\n",
        "<tr><td>10</td> <td>West Brom</td> <td>0.0034453057708871415</td></tr>\n",
        "<tr><td>11</td> <td>Man City</td> <td>-0.009009009009008973</td></tr>\n",
        "<tr><td>12</td> <td>Tottenham</td> <td>-0.022321428571428575</td></tr>\n",
        "<tr><td>13</td> <td>Watford</td> <td>-0.0231578947368421</td></tr>\n",
        "<tr><td>14</td> <td>Aston Villa</td> <td>-0.025641025641025605</td></tr>\n",
        "<tr><td>15</td> <td>Sunderland</td> <td>-0.04538461538461536</td></tr>\n",
        "<tr><td>16</td> <td>Swansea</td> <td>-0.04949314251639833</td></tr>\n",
        "<tr><td>17</td> <td>Norwich</td> <td>-0.10298102981029805</td></tr>\n",
        "<tr><td>18</td> <td>Liverpool</td> <td>-0.1515151515151515</td></tr>\n",
        "<tr><td>19</td> <td>Bournemouth</td> <td>-0.1523809523809524</td></tr>\n",
        "<tr><td>20</td> <td>Southampton</td> <td>-0.15598290598290598</td></tr></table>"
       ],
       "metadata": {},
       "output_type": "display_data",
       "text": [
        "<IPython.core.display.HTML at 0x7fa9e47618d0>"
       ]
      }
     ],
     "prompt_number": 7
    },
    {
     "cell_type": "markdown",
     "metadata": {},
     "source": [
      "# Watford 0-3 Arsenal, Manchester City 5-1 Bournemouth\n",
      "\n",
      "Two very dominate victories. These two feature at the top end of the tables above for this week. Team of the week here could easily go to Arsenal, although as we see above the Manchester City total shot ratio and shots on target ratio are both better than Arsenal's, let's not forget Arsenal were away from home."
     ]
    },
    {
     "cell_type": "markdown",
     "metadata": {},
     "source": [
      "# Everton 0-3 Manchester United\n",
      "\n",
      "Manchester United continue make very good use of the shots that they have. Everton actually managed more shots than United, but United had 7 out of 10 shots on target, that is a very high target ratio beaten only by their Manchester rivals this week. A continuing theme is that United seem capable of scoring a high percentage of their shots on target, here scoring 3 of the 7, which is just higher than they have managed all season, which puts them 4th in the league:"
     ]
    },
    {
     "cell_type": "code",
     "collapsed": false,
     "input": [
      "league_analysis.display_statistic_rankings(epl, 'goals_sot_for_ratio')"
     ],
     "language": "python",
     "metadata": {},
     "outputs": [
      {
       "html": [
        "<table><tr><th>Position</th> <th>Team</th> <th>goals_sot_for_ratio</th></tr><tr><td>1</td> <td>West Ham</td> <td>0.5128205128205128</td></tr>\n",
        "<tr><td>2</td> <td>Newcastle</td> <td>0.4</td></tr>\n",
        "<tr><td>3</td> <td>Leicester</td> <td>0.3958333333333333</td></tr>\n",
        "<tr><td>4</td> <td>Man United</td> <td>0.375</td></tr>\n",
        "<tr><td>5</td> <td>Chelsea</td> <td>0.358974358974359</td></tr>\n",
        "<tr><td>6</td> <td>Everton</td> <td>0.34285714285714286</td></tr>\n",
        "<tr><td>7</td> <td>Norwich</td> <td>0.34146341463414637</td></tr>\n",
        "<tr><td>8</td> <td>Bournemouth</td> <td>0.3333333333333333</td></tr>\n",
        "<tr><td>9</td> <td>Man City</td> <td>0.32432432432432434</td></tr>\n",
        "<tr><td>10</td> <td>Sunderland</td> <td>0.32</td></tr>\n",
        "<tr><td>11</td> <td>Aston Villa</td> <td>0.3076923076923077</td></tr>\n",
        "<tr><td>12</td> <td>Crystal Palace</td> <td>0.2926829268292683</td></tr>\n",
        "<tr><td>13</td> <td>Southampton</td> <td>0.28846153846153844</td></tr>\n",
        "<tr><td>14</td> <td>Stoke</td> <td>0.2647058823529412</td></tr>\n",
        "<tr><td>15</td> <td>West Brom</td> <td>0.25925925925925924</td></tr>\n",
        "<tr><td>16</td> <td>Arsenal</td> <td>0.25</td></tr>\n",
        "<tr><td>17</td> <td>Watford</td> <td>0.24</td></tr>\n",
        "<tr><td>18</td> <td>Swansea</td> <td>0.23255813953488372</td></tr>\n",
        "<tr><td>19</td> <td>Tottenham</td> <td>0.19642857142857142</td></tr>\n",
        "<tr><td>20</td> <td>Liverpool</td> <td>0.18181818181818182</td></tr></table>"
       ],
       "metadata": {},
       "output_type": "display_data",
       "text": [
        "<IPython.core.display.HTML at 0x7fa9e4761668>"
       ]
      }
     ],
     "prompt_number": 8
    },
    {
     "cell_type": "markdown",
     "metadata": {},
     "source": [
      "Coupled with this is a propensity for a high proportion of their shots to be on target, second only to Manchester City:"
     ]
    },
    {
     "cell_type": "code",
     "collapsed": false,
     "input": [
      "league_analysis.display_statistic_rankings(epl, 'sot_for_ratio')"
     ],
     "language": "python",
     "metadata": {},
     "outputs": [
      {
       "html": [
        "<table><tr><th>Position</th> <th>Team</th> <th>sot_for_ratio</th></tr><tr><td>1</td> <td>Man City</td> <td>0.4134078212290503</td></tr>\n",
        "<tr><td>2</td> <td>Man United</td> <td>0.40404040404040403</td></tr>\n",
        "<tr><td>3</td> <td>Tottenham</td> <td>0.38620689655172413</td></tr>\n",
        "<tr><td>4</td> <td>Newcastle</td> <td>0.38461538461538464</td></tr>\n",
        "<tr><td>5</td> <td>Stoke</td> <td>0.37362637362637363</td></tr>\n",
        "<tr><td>6</td> <td>Southampton</td> <td>0.36363636363636365</td></tr>\n",
        "<tr><td>-</td> <td>Arsenal</td> <td>0.36363636363636365</td></tr>\n",
        "<tr><td>8</td> <td>Crystal Palace</td> <td>0.35344827586206895</td></tr>\n",
        "<tr><td>9</td> <td>Swansea</td> <td>0.3524590163934426</td></tr>\n",
        "<tr><td>10</td> <td>Bournemouth</td> <td>0.35106382978723405</td></tr>\n",
        "<tr><td>11</td> <td>Leicester</td> <td>0.34782608695652173</td></tr>\n",
        "<tr><td>12</td> <td>Liverpool</td> <td>0.33587786259541985</td></tr>\n",
        "<tr><td>13</td> <td>Everton</td> <td>0.32710280373831774</td></tr>\n",
        "<tr><td>14</td> <td>West Ham</td> <td>0.30952380952380953</td></tr>\n",
        "<tr><td>15</td> <td>Norwich</td> <td>0.3082706766917293</td></tr>\n",
        "<tr><td>16</td> <td>West Brom</td> <td>0.3068181818181818</td></tr>\n",
        "<tr><td>17</td> <td>Sunderland</td> <td>0.2976190476190476</td></tr>\n",
        "<tr><td>18</td> <td>Chelsea</td> <td>0.291044776119403</td></tr>\n",
        "<tr><td>19</td> <td>Aston Villa</td> <td>0.26262626262626265</td></tr>\n",
        "<tr><td>20</td> <td>Watford</td> <td>0.22522522522522523</td></tr></table>"
       ],
       "metadata": {},
       "output_type": "display_data",
       "text": [
        "<IPython.core.display.HTML at 0x7fa9e4761a90>"
       ]
      }
     ],
     "prompt_number": 9
    },
    {
     "cell_type": "markdown",
     "metadata": {},
     "source": [
      "# Southampton 2-2 Leicester\n",
      "\n",
      "Incredible match with Leicester managing 26 shots on target against a side that is generally managing to avoid shots against, Southampton are still only 16th with 103 which includes the 26 from Leicester:"
     ]
    },
    {
     "cell_type": "code",
     "collapsed": false,
     "input": [
      "league_analysis.display_statistic_rankings(epl, 'shots_against')"
     ],
     "language": "python",
     "metadata": {},
     "outputs": [
      {
       "html": [
        "<table><tr><th>Position</th> <th>Team</th> <th>shots_against</th></tr><tr><td>1</td> <td>Newcastle</td> <td>163</td></tr>\n",
        "<tr><td>-</td> <td>Crystal Palace</td> <td>163</td></tr>\n",
        "<tr><td>3</td> <td>Sunderland</td> <td>149</td></tr>\n",
        "<tr><td>4</td> <td>Stoke</td> <td>136</td></tr>\n",
        "<tr><td>-</td> <td>West Ham</td> <td>136</td></tr>\n",
        "<tr><td>6</td> <td>West Brom</td> <td>132</td></tr>\n",
        "<tr><td>7</td> <td>Leicester</td> <td>123</td></tr>\n",
        "<tr><td>-</td> <td>Everton</td> <td>123</td></tr>\n",
        "<tr><td>9</td> <td>Norwich</td> <td>122</td></tr>\n",
        "<tr><td>10</td> <td>Chelsea</td> <td>119</td></tr>\n",
        "<tr><td>11</td> <td>Aston Villa</td> <td>117</td></tr>\n",
        "<tr><td>12</td> <td>Watford</td> <td>116</td></tr>\n",
        "<tr><td>-</td> <td>Swansea</td> <td>116</td></tr>\n",
        "<tr><td>14</td> <td>Tottenham</td> <td>115</td></tr>\n",
        "<tr><td>15</td> <td>Liverpool</td> <td>104</td></tr>\n",
        "<tr><td>16</td> <td>Southampton</td> <td>103</td></tr>\n",
        "<tr><td>17</td> <td>Arsenal</td> <td>99</td></tr>\n",
        "<tr><td>18</td> <td>Bournemouth</td> <td>94</td></tr>\n",
        "<tr><td>19</td> <td>Man United</td> <td>86</td></tr>\n",
        "<tr><td>20</td> <td>Man City</td> <td>78</td></tr></table>"
       ],
       "metadata": {},
       "output_type": "display_data",
       "text": [
        "<IPython.core.display.HTML at 0x7fa9e4761a58>"
       ]
      }
     ],
     "prompt_number": 10
    },
    {
     "cell_type": "markdown",
     "metadata": {},
     "source": [
      "# Newcastle 6-2 Norwich\n",
      "\n",
      "As [others have pointed out](http://statsbomb.com/2015/10/fun-order-and-klopp-week-9-in-the-premier-league/) it is not often a team concedes 6 and then scores 6 in the next match. More interesting here is that Newcastle had exactly 6 shots on target and scored with all six. How very Manchester United of them. I suspect this will be a statistical blip, so far still not very much for Newcastle fans to get excited about, other than:\n",
      "\n",
      "# West Brom 1-0 Sunderland\n",
      "\n",
      "It seems like the north east teams will indeed both be involved in a scrap for relegation. It seems more likely that Sunderland will avoid a scrap only by being so far behind safety that their relegation is assured from Christmas onwards. This week, away from home, they actually managed to out-shoot their opponents, just a shame their opponents were West Brom. Tony Pulis does genuinely appear to have some ability to get more (points) for a team than their shot numbers suggest they should."
     ]
    },
    {
     "cell_type": "markdown",
     "metadata": {},
     "source": [
      "# Tottenham 0-0 Liverpool\n",
      "\n",
      "Not a terribly exciting match for Liverpool's new manager. I think both of these teams are not getting the points they deserve. These two teams lie just above Southampton in the shots against column. Liverpool are 18th in the league for PDO, so they may have so far been a bit unlucky. As for Tottenham, they just aren't scoring very often."
     ]
    },
    {
     "cell_type": "markdown",
     "metadata": {},
     "source": [
      "# Swansea 0-1 Stoke\n",
      "\n",
      "I generally think Swansea are pretty decent mid-table side. No major worries. They were probably a touch unlucky to come away with nothing. Stoke fans have more cause for concern, but a good away 3 points was this."
     ]
    }
   ],
   "metadata": {}
  }
 ]
}