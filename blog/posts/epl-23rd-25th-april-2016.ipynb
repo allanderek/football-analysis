{
 "cells": [
  {
   "cell_type": "markdown",
   "metadata": {},
   "source": [
    "# English Premier League 23rd-25th of April\n",
    "\n",
    "Leicester take a big step towards the title as Spurs falter against West Brom. Everything else in a little bit of stasis as we wind-up the premier league. A large block of clubs with little to play for."
   ]
  },
  {
   "cell_type": "code",
   "execution_count": 1,
   "metadata": {
    "collapsed": false
   },
   "outputs": [
    {
     "data": {
      "text/html": [
       "<div><div style=\"display:inline-block; margin-right:2em;\">\n",
       "    <table>\n",
       "      <tr><th></th><th>Home</th><th>Away</th></tr>\n",
       "      <tr><td>Team</td><td>Aston Villa</td><td>Southampton</td></tr>\n",
       "      <tr><td>Goals</td><td>2</td><td>4</td></tr>\n",
       "      <tr><td>Shots</td><td>16</td><td>17</td></tr>\n",
       "      <tr><td>SOT</td><td>7</td><td>7</td></tr>\n",
       "      \n",
       "    </table>\n",
       "    </div>\n",
       "<div style=\"display:inline-block; margin-right:2em;\">\n",
       "    <table>\n",
       "      <tr><th></th><th>Home</th><th>Away</th></tr>\n",
       "      <tr><td>Team</td><td>Bournemouth</td><td>Chelsea</td></tr>\n",
       "      <tr><td>Goals</td><td>1</td><td>4</td></tr>\n",
       "      <tr><td>Shots</td><td>13</td><td>16</td></tr>\n",
       "      <tr><td>SOT</td><td>4</td><td>4</td></tr>\n",
       "      \n",
       "    </table>\n",
       "    </div>\n",
       "<div style=\"display:inline-block; margin-right:2em;\">\n",
       "    <table>\n",
       "      <tr><th></th><th>Home</th><th>Away</th></tr>\n",
       "      <tr><td>Team</td><td>Liverpool</td><td>Newcastle</td></tr>\n",
       "      <tr><td>Goals</td><td>2</td><td>2</td></tr>\n",
       "      <tr><td>Shots</td><td>13</td><td>6</td></tr>\n",
       "      <tr><td>SOT</td><td>4</td><td>3</td></tr>\n",
       "      \n",
       "    </table>\n",
       "    </div>\n",
       "<div style=\"display:inline-block; margin-right:2em;\">\n",
       "    <table>\n",
       "      <tr><th></th><th>Home</th><th>Away</th></tr>\n",
       "      <tr><td>Team</td><td>Man City</td><td>Stoke</td></tr>\n",
       "      <tr><td>Goals</td><td>4</td><td>0</td></tr>\n",
       "      <tr><td>Shots</td><td>11</td><td>14</td></tr>\n",
       "      <tr><td>SOT</td><td>6</td><td>2</td></tr>\n",
       "      \n",
       "    </table>\n",
       "    </div>\n",
       "<div style=\"display:inline-block; margin-right:2em;\">\n",
       "    <table>\n",
       "      <tr><th></th><th>Home</th><th>Away</th></tr>\n",
       "      <tr><td>Team</td><td>Leicester</td><td>Swansea</td></tr>\n",
       "      <tr><td>Goals</td><td>4</td><td>0</td></tr>\n",
       "      <tr><td>Shots</td><td>18</td><td>9</td></tr>\n",
       "      <tr><td>SOT</td><td>9</td><td>1</td></tr>\n",
       "      \n",
       "    </table>\n",
       "    </div>\n",
       "<div style=\"display:inline-block; margin-right:2em;\">\n",
       "    <table>\n",
       "      <tr><th></th><th>Home</th><th>Away</th></tr>\n",
       "      <tr><td>Team</td><td>Sunderland</td><td>Arsenal</td></tr>\n",
       "      <tr><td>Goals</td><td>0</td><td>0</td></tr>\n",
       "      <tr><td>Shots</td><td>12</td><td>20</td></tr>\n",
       "      <tr><td>SOT</td><td>3</td><td>7</td></tr>\n",
       "      \n",
       "    </table>\n",
       "    </div>\n",
       "<div style=\"display:inline-block; margin-right:2em;\">\n",
       "    <table>\n",
       "      <tr><th></th><th>Home</th><th>Away</th></tr>\n",
       "      <tr><td>Team</td><td>Tottenham</td><td>West Brom</td></tr>\n",
       "      <tr><td>Goals</td><td>1</td><td>1</td></tr>\n",
       "      <tr><td>Shots</td><td>19</td><td>16</td></tr>\n",
       "      <tr><td>SOT</td><td>2</td><td>3</td></tr>\n",
       "      \n",
       "    </table>\n",
       "    </div></div><div><div style=\"display:inline-block; margin-right:2em;\"><table><tr><th>Position</th> <th>Team</th> <th>Points</th></tr><tr><td>1</td> <td>Leicester</td> <td>76</td></tr>\n",
       "<tr><td>2</td> <td>Tottenham</td> <td>69</td></tr>\n",
       "<tr><td>3</td> <td>Arsenal</td> <td>64</td></tr>\n",
       "<tr><td>-</td> <td>Man City</td> <td>64</td></tr>\n",
       "<tr><td>5</td> <td>Man United</td> <td>59</td></tr>\n",
       "<tr><td>6</td> <td>West Ham</td> <td>56</td></tr>\n",
       "<tr><td>7</td> <td>Liverpool</td> <td>55</td></tr>\n",
       "<tr><td>8</td> <td>Southampton</td> <td>54</td></tr>\n",
       "<tr><td>9</td> <td>Stoke</td> <td>47</td></tr>\n",
       "<tr><td>-</td> <td>Chelsea</td> <td>47</td></tr>\n",
       "<tr><td>11</td> <td>Watford</td> <td>41</td></tr>\n",
       "<tr><td>-</td> <td>Bournemouth</td> <td>41</td></tr>\n",
       "<tr><td>-</td> <td>West Brom</td> <td>41</td></tr>\n",
       "<tr><td>-</td> <td>Everton</td> <td>41</td></tr>\n",
       "<tr><td>15</td> <td>Swansea</td> <td>40</td></tr>\n",
       "<tr><td>16</td> <td>Crystal Palace</td> <td>39</td></tr>\n",
       "<tr><td>17</td> <td>Sunderland</td> <td>31</td></tr>\n",
       "<tr><td>-</td> <td>Norwich</td> <td>31</td></tr>\n",
       "<tr><td>19</td> <td>Newcastle</td> <td>30</td></tr>\n",
       "<tr><td>20</td> <td>Aston Villa</td> <td>16</td></tr></table></div>\n",
       "<div style=\"display:inline-block; margin-right:2em;\"><table><tr><th>Position</th> <th>Team</th> <th>Team Rating</th></tr><tr><td>1</td> <td>Tottenham</td> <td>0.25107234378705806</td></tr>\n",
       "<tr><td>2</td> <td>Man City</td> <td>0.2461415592871838</td></tr>\n",
       "<tr><td>3</td> <td>Liverpool</td> <td>0.16781349606087162</td></tr>\n",
       "<tr><td>4</td> <td>Arsenal</td> <td>0.13402000842322226</td></tr>\n",
       "<tr><td>5</td> <td>Leicester</td> <td>0.07971627277917204</td></tr>\n",
       "<tr><td>6</td> <td>Southampton</td> <td>0.07376451592892258</td></tr>\n",
       "<tr><td>7</td> <td>Chelsea</td> <td>0.056824124797705114</td></tr>\n",
       "<tr><td>8</td> <td>Man United</td> <td>0.05567193099522776</td></tr>\n",
       "<tr><td>9</td> <td>West Ham</td> <td>0.041456005799134034</td></tr>\n",
       "<tr><td>10</td> <td>Everton</td> <td>-0.011922972189335183</td></tr>\n",
       "<tr><td>11</td> <td>Bournemouth</td> <td>-0.03722365730797268</td></tr>\n",
       "<tr><td>12</td> <td>Watford</td> <td>-0.07672192497000656</td></tr>\n",
       "<tr><td>13</td> <td>Swansea</td> <td>-0.08705898497147734</td></tr>\n",
       "<tr><td>14</td> <td>Crystal Palace</td> <td>-0.08717824904516029</td></tr>\n",
       "<tr><td>15</td> <td>Stoke</td> <td>-0.1031083879377967</td></tr>\n",
       "<tr><td>16</td> <td>Norwich</td> <td>-0.12090656710033323</td></tr>\n",
       "<tr><td>17</td> <td>Sunderland</td> <td>-0.13012919376824242</td></tr>\n",
       "<tr><td>18</td> <td>West Brom</td> <td>-0.15250085765791244</td></tr>\n",
       "<tr><td>19</td> <td>Newcastle</td> <td>-0.16831721657135482</td></tr>\n",
       "<tr><td>20</td> <td>Aston Villa</td> <td>-0.20470190076462774</td></tr></table></div>\n",
       "<div style=\"display:inline-block; margin-right:2em;\"><table><tr><th>Position</th> <th>Team</th> <th>PDO</th></tr><tr><td>1</td> <td>Leicester</td> <td>0.12400568181818183</td></tr>\n",
       "<tr><td>2</td> <td>West Ham</td> <td>0.0714817880794702</td></tr>\n",
       "<tr><td>3</td> <td>Chelsea</td> <td>0.06083290311478229</td></tr>\n",
       "<tr><td>4</td> <td>Man United</td> <td>0.06026785714285715</td></tr>\n",
       "<tr><td>5</td> <td>Everton</td> <td>0.06008428657435283</td></tr>\n",
       "<tr><td>6</td> <td>Arsenal</td> <td>0.05681818181818182</td></tr>\n",
       "<tr><td>7</td> <td>West Brom</td> <td>0.04474272930648765</td></tr>\n",
       "<tr><td>8</td> <td>Man City</td> <td>0.03937320679761641</td></tr>\n",
       "<tr><td>9</td> <td>Watford</td> <td>0.03469661414683206</td></tr>\n",
       "<tr><td>10</td> <td>Tottenham</td> <td>0.02777777777777779</td></tr>\n",
       "<tr><td>11</td> <td>Sunderland</td> <td>0.02736443883984868</td></tr>\n",
       "<tr><td>12</td> <td>Southampton</td> <td>0.020129032258064505</td></tr>\n",
       "<tr><td>13</td> <td>Stoke</td> <td>-0.008436853002070366</td></tr>\n",
       "<tr><td>14</td> <td>Crystal Palace</td> <td>-0.025930851063829807</td></tr>\n",
       "<tr><td>15</td> <td>Swansea</td> <td>-0.03484848484848485</td></tr>\n",
       "<tr><td>16</td> <td>Liverpool</td> <td>-0.0812901977851927</td></tr>\n",
       "<tr><td>17</td> <td>Norwich</td> <td>-0.0850023288309269</td></tr>\n",
       "<tr><td>18</td> <td>Newcastle</td> <td>-0.09498910675381261</td></tr>\n",
       "<tr><td>19</td> <td>Bournemouth</td> <td>-0.13136645962732918</td></tr>\n",
       "<tr><td>20</td> <td>Aston Villa</td> <td>-0.16064085447263018</td></tr></table></div></div>"
      ],
      "text/plain": [
       "<IPython.core.display.HTML object>"
      ]
     },
     "metadata": {},
     "output_type": "display_data"
    }
   ],
   "source": [
    "%matplotlib inline\n",
    "import league_analysis\n",
    "from IPython.display import display, HTML\n",
    "epl = league_analysis.epl\n",
    "display(HTML(league_analysis.blog_weekly_header(epl, '23/04/2016', '25/04/2016')))"
   ]
  },
  {
   "cell_type": "markdown",
   "metadata": {},
   "source": [
    "# Leicester 4-0 Swansea, Tottenham 1-1 West Brom\n",
    "\n",
    "So Tottenham would really have liked these results to have been swapped. Gaining two points on Leicester would have put them just 3 points behind and with a superior goal difference probably favourites. As it is, Leicester need one win from three, or three draws. Even after the result on Sunday, if Tottenham had seen past Pulis's West Brom, Leicester would still potentially need 5 points from 3 games. Winning one, losing one and drawing one seems a pretty plausible haul from their three remaining games, which will now be enough, but would not have been had Tottenham won on Monday night and their remaining games.\n",
    "\n",
    "You have to say from the shot statistics Leicester really deserved their win against a Swansea side who are not quite mathematically safe since Norwich have 4 games to play, but can probably rest easy. In contrast a 1-1 draw seemed a fair result on Monday night.\n",
    "\n",
    "<!-- TEASER_END -->"
   ]
  },
  {
   "cell_type": "code",
   "execution_count": 2,
   "metadata": {
    "collapsed": false
   },
   "outputs": [
    {
     "data": {
      "text/html": [
       "<table><tr><th>Leicester</th> <th>Tottenham</th></tr><tr><td>Man United (A)</td> <td>Chelsea (A)</td></tr>\n",
       "<tr><td>Everton (H)</td> <td>Southampton (H)</td></tr>\n",
       "<tr><td>Chelsea (A)</td> <td>Newcastle (A)</td></tr></table>"
      ],
      "text/plain": [
       "<IPython.core.display.HTML object>"
      ]
     },
     "metadata": {},
     "output_type": "display_data"
    }
   ],
   "source": [
    "league_analysis.compare_fixtures(epl, ['Leicester', 'Tottenham'])"
   ]
  },
  {
   "cell_type": "markdown",
   "metadata": {},
   "source": [
    "The remaining fixtures suggest it is certainly possible for Leicester to lose all three. Manchester United away from home looks tough, their best chance is probably Everton at home, but Chelsea are also winding down in holiday mode. From their point of view as well Tottenham don't have a guaranteed 9 points. One draw and they could still possibly win the title if Leicester do indeed lose all three games. But you have to say the title looks pretty likely to go to Leicester now."
   ]
  },
  {
   "cell_type": "markdown",
   "metadata": {},
   "source": [
    "# Aston Villa 2-4 Southampton\n",
    "\n",
    "Something of a summary of Aston Villa's whole season. Even when they have managed to play relatively well they have not really reaped any rewards. This is why they are dead last in PDO. Of course they are also dead last in team rating so the team is not good. But there is an argument that they have deserved the odd ray of sunshine which they haven't had."
   ]
  },
  {
   "cell_type": "markdown",
   "metadata": {},
   "source": [
    "# Bournemouth 1-4 Chelsea\n",
    "\n",
    "As I've said I'm pretty glad to see Bournemouth remaining in the premier league for next season. First of all they deserve it, but also they are just an interesting case-study for the statistics crowd. In this game they probably did make some errors that deserved to see them lose, but 1-4 is an unflattering score-line for what was a non-terrible display."
   ]
  },
  {
   "cell_type": "markdown",
   "metadata": {},
   "source": [
    "# Manchester City 4-0 Stoke\n",
    "\n",
    "It is not often that Manchester City are out-shot. Regardless of shot quality. "
   ]
  },
  {
   "cell_type": "code",
   "execution_count": 4,
   "metadata": {
    "collapsed": false
   },
   "outputs": [
    {
     "data": {
      "text/html": [
       "<div style=\"display:inline-block; margin-right:2em;\">\n",
       "    <table>\n",
       "      <tr><th></th><th>Home</th><th>Away</th></tr>\n",
       "      <tr><td>Team</td><td>Man City</td><td>Liverpool</td></tr>\n",
       "      <tr><td>Goals</td><td>1</td><td>4</td></tr>\n",
       "      <tr><td>Shots</td><td>11</td><td>14</td></tr>\n",
       "      <tr><td>SOT</td><td>3</td><td>9</td></tr>\n",
       "      \n",
       "    </table>\n",
       "    </div>\n",
       "<div style=\"display:inline-block; margin-right:2em;\">\n",
       "    <table>\n",
       "      <tr><th></th><th>Home</th><th>Away</th></tr>\n",
       "      <tr><td>Team</td><td>Sunderland</td><td>Man City</td></tr>\n",
       "      <tr><td>Goals</td><td>0</td><td>1</td></tr>\n",
       "      <tr><td>Shots</td><td>11</td><td>6</td></tr>\n",
       "      <tr><td>SOT</td><td>2</td><td>2</td></tr>\n",
       "      \n",
       "    </table>\n",
       "    </div>\n",
       "<div style=\"display:inline-block; margin-right:2em;\">\n",
       "    <table>\n",
       "      <tr><th></th><th>Home</th><th>Away</th></tr>\n",
       "      <tr><td>Team</td><td>Liverpool</td><td>Man City</td></tr>\n",
       "      <tr><td>Goals</td><td>3</td><td>0</td></tr>\n",
       "      <tr><td>Shots</td><td>11</td><td>4</td></tr>\n",
       "      <tr><td>SOT</td><td>7</td><td>2</td></tr>\n",
       "      \n",
       "    </table>\n",
       "    </div>\n",
       "<div style=\"display:inline-block; margin-right:2em;\">\n",
       "    <table>\n",
       "      <tr><th></th><th>Home</th><th>Away</th></tr>\n",
       "      <tr><td>Team</td><td>Man City</td><td>Stoke</td></tr>\n",
       "      <tr><td>Goals</td><td>4</td><td>0</td></tr>\n",
       "      <tr><td>Shots</td><td>11</td><td>14</td></tr>\n",
       "      <tr><td>SOT</td><td>6</td><td>2</td></tr>\n",
       "      \n",
       "    </table>\n",
       "    </div>"
      ],
      "text/plain": [
       "<IPython.core.display.HTML object>"
      ]
     },
     "metadata": {},
     "output_type": "display_data"
    }
   ],
   "source": [
    "def qualifying_game(game):\n",
    "    shots = game.HS - game.AS\n",
    "    return (shots < 0 and game.HomeTeam == 'Man City') or (shots > 0 and game.AwayTeam == 'Man City') \n",
    "games = [g for g in epl.matches if qualifying_game(g)]\n",
    "display(HTML(league_analysis.html_games(games)))"
   ]
  },
  {
   "cell_type": "markdown",
   "metadata": {},
   "source": [
    "So just four times have Manchester City been out-shot this season. Twice to Liverpool, both games they lost, otherwise they have won both times. Both times you might also suggest were teams that suprisingly out-shot Manchester City."
   ]
  },
  {
   "cell_type": "markdown",
   "metadata": {},
   "source": [
    "# Liverpool 2-2 Newcastle, Sunderland 0-0 Arsenal\n",
    "\n",
    "A great point for both Newcastle and Sunderland, both of which could not have been too confident of achieving anything. Both games involved superior teams that out-played the relegation embattled north-east teams. But both of them managed a point."
   ]
  },
  {
   "cell_type": "code",
   "execution_count": 5,
   "metadata": {
    "collapsed": false
   },
   "outputs": [
    {
     "data": {
      "text/html": [
       "<table><tr><th>Newcastle</th> <th>Sunderland</th> <th>Norwich</th></tr><tr><td>Crystal Palace (H)</td> <td>Stoke (A)</td> <td>Arsenal (A)</td></tr>\n",
       "<tr><td>Aston Villa (A)</td> <td>Chelsea (H)</td> <td>Man United (H)</td></tr>\n",
       "<tr><td>Tottenham (H)</td> <td>Everton (H)</td> <td>Watford (H)</td></tr></table>"
      ],
      "text/plain": [
       "<IPython.core.display.HTML object>"
      ]
     },
     "metadata": {},
     "output_type": "display_data"
    }
   ],
   "source": [
    "league_analysis.compare_fixtures(epl, ['Newcastle', 'Sunderland', 'Norwich'])"
   ]
  },
  {
   "cell_type": "markdown",
   "metadata": {},
   "source": [
    "Really hard to predict which of the three will stay up. Seems unlikely to be Norwich, although they have an extra game to play against Everton. Still, hard to see them getting anything at the Emirates, and Manchester United are not the best visitors to have, especially since they should still be gunning for a Champions' league place. Watford at home looks like their best bet. Sunderland also have a pretty tricky run-in. Newcastle look to have the easiest run-in, both Palace and Villa look winnable, and Tottenham may have already lost the league by the final day.\n",
    "\n",
    "So, actually, I'm going to predict that Newcastle stay up.\n",
    "\n",
    "Thanks for reading."
   ]
  }
 ],
 "metadata": {
  "kernelspec": {
   "display_name": "Python 3",
   "language": "python",
   "name": "python3"
  },
  "language_info": {
   "codemirror_mode": {
    "name": "ipython",
    "version": 3
   },
   "file_extension": ".py",
   "mimetype": "text/x-python",
   "name": "python",
   "nbconvert_exporter": "python",
   "pygments_lexer": "ipython3",
   "version": "3.4.3"
  },
  "nikola": {
   "category": "",
   "date": "2016-04-27 10:20:21 UTC+01:00",
   "description": "",
   "link": "",
   "slug": "epl-23rd-25th-april-2016",
   "tags": "",
   "title": "EPL 23rd-25th April 2016",
   "type": "text"
  }
 },
 "nbformat": 4,
 "nbformat_minor": 0
}
