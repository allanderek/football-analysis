{
 "metadata": {
  "nikola": {
   "category": "",
   "date": "2016-02-04 11:20:05 UTC",
   "description": "",
   "link": "",
   "slug": "epl-3rd-4th-february-2016",
   "tags": "",
   "title": "EPL 3rd-4th February 2016",
   "type": "text"
  },
  "signature": "sha256:a850ff20ec9965f2c033ceb855f79f051d40838483ea23a12063880abd7c0e05"
 },
 "nbformat": 3,
 "nbformat_minor": 0,
 "worksheets": [
  {
   "cells": [
    {
     "cell_type": "markdown",
     "metadata": {},
     "source": [
      "# EPL 2rd-3th February 2016\n",
      "\n",
      "A round of mid-week games, plenty of interesting results as Leicester continue lead the league after a tricky home fixture against Liverpool. "
     ]
    },
    {
     "cell_type": "code",
     "collapsed": false,
     "input": [
      "%matplotlib inline\n",
      "import league_analysis\n",
      "from IPython.display import display, HTML\n",
      "epl = league_analysis.epl\n",
      "league_analysis.blog_weekly_header(epl, '02/02/2016', '04/02/2016')"
     ],
     "language": "python",
     "metadata": {},
     "outputs": [
      {
       "html": [
        "<div style=\"display:inline-block; margin-right:2em;\">\n",
        "    <table>\n",
        "      <tr><th></th><th>Home</th><th>Away</th></tr>\n",
        "      <tr><td>Team</td><td>Arsenal</td><td>Southampton</td></tr>\n",
        "      <tr><td>Goals</td><td>0</td><td>0</td></tr>\n",
        "      <tr><td>Shots</td><td>21</td><td>14</td></tr>\n",
        "      <tr><td>SOT</td><td>11</td><td>3</td></tr>\n",
        "      \n",
        "    </table>\n",
        "    </div>\n",
        "<div style=\"display:inline-block; margin-right:2em;\">\n",
        "    <table>\n",
        "      <tr><th></th><th>Home</th><th>Away</th></tr>\n",
        "      <tr><td>Team</td><td>Crystal Palace</td><td>Bournemouth</td></tr>\n",
        "      <tr><td>Goals</td><td>1</td><td>2</td></tr>\n",
        "      <tr><td>Shots</td><td>14</td><td>8</td></tr>\n",
        "      <tr><td>SOT</td><td>3</td><td>4</td></tr>\n",
        "      \n",
        "    </table>\n",
        "    </div>\n",
        "<div style=\"display:inline-block; margin-right:2em;\">\n",
        "    <table>\n",
        "      <tr><th></th><th>Home</th><th>Away</th></tr>\n",
        "      <tr><td>Team</td><td>Leicester</td><td>Liverpool</td></tr>\n",
        "      <tr><td>Goals</td><td>2</td><td>0</td></tr>\n",
        "      <tr><td>Shots</td><td>13</td><td>14</td></tr>\n",
        "      <tr><td>SOT</td><td>6</td><td>2</td></tr>\n",
        "      \n",
        "    </table>\n",
        "    </div>\n",
        "<div style=\"display:inline-block; margin-right:2em;\">\n",
        "    <table>\n",
        "      <tr><th></th><th>Home</th><th>Away</th></tr>\n",
        "      <tr><td>Team</td><td>Man United</td><td>Stoke</td></tr>\n",
        "      <tr><td>Goals</td><td>3</td><td>0</td></tr>\n",
        "      <tr><td>Shots</td><td>15</td><td>10</td></tr>\n",
        "      <tr><td>SOT</td><td>5</td><td>0</td></tr>\n",
        "      \n",
        "    </table>\n",
        "    </div>\n",
        "<div style=\"display:inline-block; margin-right:2em;\">\n",
        "    <table>\n",
        "      <tr><th></th><th>Home</th><th>Away</th></tr>\n",
        "      <tr><td>Team</td><td>Norwich</td><td>Tottenham</td></tr>\n",
        "      <tr><td>Goals</td><td>0</td><td>3</td></tr>\n",
        "      <tr><td>Shots</td><td>10</td><td>17</td></tr>\n",
        "      <tr><td>SOT</td><td>2</td><td>6</td></tr>\n",
        "      \n",
        "    </table>\n",
        "    </div>\n",
        "<div style=\"display:inline-block; margin-right:2em;\">\n",
        "    <table>\n",
        "      <tr><th></th><th>Home</th><th>Away</th></tr>\n",
        "      <tr><td>Team</td><td>Sunderland</td><td>Man City</td></tr>\n",
        "      <tr><td>Goals</td><td>0</td><td>1</td></tr>\n",
        "      <tr><td>Shots</td><td>11</td><td>6</td></tr>\n",
        "      <tr><td>SOT</td><td>2</td><td>2</td></tr>\n",
        "      \n",
        "    </table>\n",
        "    </div>\n",
        "<div style=\"display:inline-block; margin-right:2em;\">\n",
        "    <table>\n",
        "      <tr><th></th><th>Home</th><th>Away</th></tr>\n",
        "      <tr><td>Team</td><td>West Brom</td><td>Swansea</td></tr>\n",
        "      <tr><td>Goals</td><td>1</td><td>1</td></tr>\n",
        "      <tr><td>Shots</td><td>17</td><td>18</td></tr>\n",
        "      <tr><td>SOT</td><td>7</td><td>4</td></tr>\n",
        "      \n",
        "    </table>\n",
        "    </div>\n",
        "<div style=\"display:inline-block; margin-right:2em;\">\n",
        "    <table>\n",
        "      <tr><th></th><th>Home</th><th>Away</th></tr>\n",
        "      <tr><td>Team</td><td>West Ham</td><td>Aston Villa</td></tr>\n",
        "      <tr><td>Goals</td><td>2</td><td>0</td></tr>\n",
        "      <tr><td>Shots</td><td>25</td><td>6</td></tr>\n",
        "      <tr><td>SOT</td><td>6</td><td>2</td></tr>\n",
        "      \n",
        "    </table>\n",
        "    </div>\n",
        "<div style=\"display:inline-block; margin-right:2em;\">\n",
        "    <table>\n",
        "      <tr><th></th><th>Home</th><th>Away</th></tr>\n",
        "      <tr><td>Team</td><td>Everton</td><td>Newcastle</td></tr>\n",
        "      <tr><td>Goals</td><td>3</td><td>0</td></tr>\n",
        "      <tr><td>Shots</td><td>18</td><td>7</td></tr>\n",
        "      <tr><td>SOT</td><td>7</td><td>3</td></tr>\n",
        "      \n",
        "    </table>\n",
        "    </div>\n",
        "<div style=\"display:inline-block; margin-right:2em;\">\n",
        "    <table>\n",
        "      <tr><th></th><th>Home</th><th>Away</th></tr>\n",
        "      <tr><td>Team</td><td>Watford</td><td>Chelsea</td></tr>\n",
        "      <tr><td>Goals</td><td>0</td><td>0</td></tr>\n",
        "      <tr><td>Shots</td><td>12</td><td>12</td></tr>\n",
        "      <tr><td>SOT</td><td>3</td><td>4</td></tr>\n",
        "      \n",
        "    </table>\n",
        "    </div>"
       ],
       "metadata": {},
       "output_type": "display_data",
       "text": [
        "<IPython.core.display.HTML at 0x7f83f1dce390>"
       ]
      },
      {
       "html": [
        "<div style=\"display:inline-block; margin-right:2em;\"><table><tr><th>Position</th> <th>Team</th> <th>Points</th></tr><tr><td>1</td> <td>Leicester</td> <td>50</td></tr>\n",
        "<tr><td>2</td> <td>Man City</td> <td>47</td></tr>\n",
        "<tr><td>3</td> <td>Tottenham</td> <td>45</td></tr>\n",
        "<tr><td>-</td> <td>Arsenal</td> <td>45</td></tr>\n",
        "<tr><td>5</td> <td>Man United</td> <td>40</td></tr>\n",
        "<tr><td>6</td> <td>West Ham</td> <td>39</td></tr>\n",
        "<tr><td>7</td> <td>Southampton</td> <td>34</td></tr>\n",
        "<tr><td>-</td> <td>Liverpool</td> <td>34</td></tr>\n",
        "<tr><td>9</td> <td>Stoke</td> <td>33</td></tr>\n",
        "<tr><td>-</td> <td>Watford</td> <td>33</td></tr>\n",
        "<tr><td>11</td> <td>Everton</td> <td>32</td></tr>\n",
        "<tr><td>12</td> <td>Crystal Palace</td> <td>31</td></tr>\n",
        "<tr><td>13</td> <td>Chelsea</td> <td>29</td></tr>\n",
        "<tr><td>-</td> <td>West Brom</td> <td>29</td></tr>\n",
        "<tr><td>15</td> <td>Bournemouth</td> <td>28</td></tr>\n",
        "<tr><td>16</td> <td>Swansea</td> <td>26</td></tr>\n",
        "<tr><td>17</td> <td>Norwich</td> <td>23</td></tr>\n",
        "<tr><td>18</td> <td>Newcastle</td> <td>21</td></tr>\n",
        "<tr><td>19</td> <td>Sunderland</td> <td>19</td></tr>\n",
        "<tr><td>20</td> <td>Aston Villa</td> <td>13</td></tr></table></div>\n",
        "<div style=\"display:inline-block; margin-right:2em;\"><table><tr><th>Position</th> <th>Team</th> <th>Team Rating</th></tr><tr><td>1</td> <td>Man City</td> <td>0.2558456585656961</td></tr>\n",
        "<tr><td>2</td> <td>Tottenham</td> <td>0.22758742157933667</td></tr>\n",
        "<tr><td>3</td> <td>Arsenal</td> <td>0.12138638879163716</td></tr>\n",
        "<tr><td>4</td> <td>Liverpool</td> <td>0.11567555704949581</td></tr>\n",
        "<tr><td>5</td> <td>Man United</td> <td>0.09561155805535647</td></tr>\n",
        "<tr><td>6</td> <td>Southampton</td> <td>0.08803579229425912</td></tr>\n",
        "<tr><td>7</td> <td>Leicester</td> <td>0.0757651539734471</td></tr>\n",
        "<tr><td>8</td> <td>Chelsea</td> <td>0.03330344468908802</td></tr>\n",
        "<tr><td>9</td> <td>Everton</td> <td>0.02622097173136405</td></tr>\n",
        "<tr><td>10</td> <td>West Ham</td> <td>0.011737311477217065</td></tr>\n",
        "<tr><td>11</td> <td>Bournemouth</td> <td>-0.0067631715573161985</td></tr>\n",
        "<tr><td>12</td> <td>Watford</td> <td>-0.009179063501253512</td></tr>\n",
        "<tr><td>13</td> <td>Swansea</td> <td>-0.06948538938000491</td></tr>\n",
        "<tr><td>14</td> <td>Crystal Palace</td> <td>-0.08267609813206361</td></tr>\n",
        "<tr><td>15</td> <td>Stoke</td> <td>-0.10447483509349206</td></tr>\n",
        "<tr><td>16</td> <td>Norwich</td> <td>-0.13288891768800465</td></tr>\n",
        "<tr><td>17</td> <td>West Brom</td> <td>-0.13632251964933156</td></tr>\n",
        "<tr><td>18</td> <td>Aston Villa</td> <td>-0.15917210454960845</td></tr>\n",
        "<tr><td>19</td> <td>Sunderland</td> <td>-0.17896679906510082</td></tr>\n",
        "<tr><td>20</td> <td>Newcastle</td> <td>-0.2011378206098156</td></tr></table></div>\n",
        "<div style=\"display:inline-block; margin-right:2em;\"><table><tr><th>Position</th> <th>Team</th> <th>PDO</th></tr><tr><td>1</td> <td>Leicester</td> <td>0.11513157894736842</td></tr>\n",
        "<tr><td>2</td> <td>Everton</td> <td>0.11373356565816567</td></tr>\n",
        "<tr><td>3</td> <td>Man United</td> <td>0.09796511627906973</td></tr>\n",
        "<tr><td>4</td> <td>West Ham</td> <td>0.08779688779688782</td></tr>\n",
        "<tr><td>5</td> <td>Arsenal</td> <td>0.06250921421200056</td></tr>\n",
        "<tr><td>6</td> <td>Stoke</td> <td>0.04850868567682726</td></tr>\n",
        "<tr><td>7</td> <td>Watford</td> <td>0.03881987577639756</td></tr>\n",
        "<tr><td>8</td> <td>Man City</td> <td>0.037727704394371064</td></tr>\n",
        "<tr><td>9</td> <td>Tottenham</td> <td>0.02172425590147109</td></tr>\n",
        "<tr><td>10</td> <td>West Brom</td> <td>0.005695792880258899</td></tr>\n",
        "<tr><td>11</td> <td>Sunderland</td> <td>0.004662004662004671</td></tr>\n",
        "<tr><td>12</td> <td>Southampton</td> <td>-0.0034423407917383853</td></tr>\n",
        "<tr><td>13</td> <td>Chelsea</td> <td>-0.004135203164329415</td></tr>\n",
        "<tr><td>14</td> <td>Crystal Palace</td> <td>-0.02374411302982732</td></tr>\n",
        "<tr><td>15</td> <td>Newcastle</td> <td>-0.04852154075633941</td></tr>\n",
        "<tr><td>16</td> <td>Norwich</td> <td>-0.052481110884214865</td></tr>\n",
        "<tr><td>17</td> <td>Swansea</td> <td>-0.0743413516609393</td></tr>\n",
        "<tr><td>18</td> <td>Aston Villa</td> <td>-0.12929475587703437</td></tr>\n",
        "<tr><td>19</td> <td>Bournemouth</td> <td>-0.13057989153108052</td></tr>\n",
        "<tr><td>20</td> <td>Liverpool</td> <td>-0.1417814113597246</td></tr></table></div>"
       ],
       "metadata": {},
       "output_type": "display_data",
       "text": [
        "<IPython.core.display.HTML at 0x7f83f1dce390>"
       ]
      }
     ],
     "prompt_number": 2
    },
    {
     "cell_type": "markdown",
     "metadata": {},
     "source": [
      "# Arsenal 0-0 Southampton\n",
      "\n",
      "Arsenal clearly had a lot of this game and managing 11 shots on target against a Southampton side that generally do not allow many shots on target against them is comendable. I am sure they would rather the three points, as they now sit equal with Tottenham and 5 points adrift of the league leaders. Southampton sit 4th equal for repressing shots on target against as well as 7th for general shots, in both cases sitting ahead of their hosts.\n",
      "\n",
      "<!-- TEASER_END -->"
     ]
    },
    {
     "cell_type": "code",
     "collapsed": false,
     "input": [
      "pairs = [(stats.teamname, stats.sot_against) for stats in epl.team_stats.values()]\n",
      "league_analysis.display_ranked_table(['Team', 'SOT Against'], pairs, reverse=False)\n",
      "pairs = [(stats.teamname, stats.shots_against) for stats in epl.team_stats.values()]\n",
      "league_analysis.display_ranked_table(['Team', 'Shots Against'], pairs, reverse=False)"
     ],
     "language": "python",
     "metadata": {},
     "outputs": [
      {
       "html": [
        "<table><tr><th>Position</th> <th>Team</th> <th>SOT Against</th></tr><tr><td>1</td> <td>Tottenham</td> <td>74</td></tr>\n",
        "<tr><td>2</td> <td>Man United</td> <td>80</td></tr>\n",
        "<tr><td>3</td> <td>Man City</td> <td>81</td></tr>\n",
        "<tr><td>4</td> <td>Southampton</td> <td>83</td></tr>\n",
        "<tr><td>-</td> <td>Liverpool</td> <td>83</td></tr>\n",
        "<tr><td>6</td> <td>Watford</td> <td>92</td></tr>\n",
        "<tr><td>7</td> <td>Bournemouth</td> <td>94</td></tr>\n",
        "<tr><td>8</td> <td>Leicester</td> <td>96</td></tr>\n",
        "<tr><td>9</td> <td>Swansea</td> <td>97</td></tr>\n",
        "<tr><td>10</td> <td>Arsenal</td> <td>102</td></tr>\n",
        "<tr><td>11</td> <td>West Brom</td> <td>103</td></tr>\n",
        "<tr><td>12</td> <td>Crystal Palace</td> <td>104</td></tr>\n",
        "<tr><td>13</td> <td>Chelsea</td> <td>108</td></tr>\n",
        "<tr><td>14</td> <td>West Ham</td> <td>110</td></tr>\n",
        "<tr><td>15</td> <td>Aston Villa</td> <td>112</td></tr>\n",
        "<tr><td>16</td> <td>Stoke</td> <td>113</td></tr>\n",
        "<tr><td>17</td> <td>Everton</td> <td>118</td></tr>\n",
        "<tr><td>-</td> <td>Norwich</td> <td>118</td></tr>\n",
        "<tr><td>19</td> <td>Newcastle</td> <td>131</td></tr>\n",
        "<tr><td>20</td> <td>Sunderland</td> <td>143</td></tr></table>"
       ],
       "metadata": {},
       "output_type": "display_data",
       "text": [
        "<IPython.core.display.HTML at 0x7f83ee1e6630>"
       ]
      },
      {
       "html": [
        "<table><tr><th>Position</th> <th>Team</th> <th>Shots Against</th></tr><tr><td>1</td> <td>Man City</td> <td>216</td></tr>\n",
        "<tr><td>2</td> <td>Man United</td> <td>229</td></tr>\n",
        "<tr><td>3</td> <td>Liverpool</td> <td>237</td></tr>\n",
        "<tr><td>4</td> <td>Bournemouth</td> <td>260</td></tr>\n",
        "<tr><td>5</td> <td>Tottenham</td> <td>262</td></tr>\n",
        "<tr><td>6</td> <td>Chelsea</td> <td>278</td></tr>\n",
        "<tr><td>7</td> <td>Southampton</td> <td>281</td></tr>\n",
        "<tr><td>8</td> <td>Arsenal</td> <td>293</td></tr>\n",
        "<tr><td>9</td> <td>Watford</td> <td>296</td></tr>\n",
        "<tr><td>10</td> <td>Aston Villa</td> <td>309</td></tr>\n",
        "<tr><td>11</td> <td>Swansea</td> <td>310</td></tr>\n",
        "<tr><td>12</td> <td>Leicester</td> <td>314</td></tr>\n",
        "<tr><td>13</td> <td>Norwich</td> <td>321</td></tr>\n",
        "<tr><td>14</td> <td>Everton</td> <td>325</td></tr>\n",
        "<tr><td>15</td> <td>West Brom</td> <td>335</td></tr>\n",
        "<tr><td>16</td> <td>Stoke</td> <td>347</td></tr>\n",
        "<tr><td>17</td> <td>West Ham</td> <td>359</td></tr>\n",
        "<tr><td>18</td> <td>Crystal Palace</td> <td>368</td></tr>\n",
        "<tr><td>19</td> <td>Sunderland</td> <td>369</td></tr>\n",
        "<tr><td>20</td> <td>Newcastle</td> <td>389</td></tr></table>"
       ],
       "metadata": {},
       "output_type": "display_data",
       "text": [
        "<IPython.core.display.HTML at 0x7f83ee1e66d8>"
       ]
      }
     ],
     "prompt_number": 6
    },
    {
     "cell_type": "markdown",
     "metadata": {},
     "source": [
      "A lot has been made of Arsenal's recent lack of ability to find goals. I suspect it is a local/random dip.\n",
      "\n",
      "# Crystal Palace 1-2 Bournemouth\n",
      "\n",
      "Crystal Palace actually managed to out-shoot Bournemouth here. Which might go some way to help relax fears that are surely starting to creep in, now that Palace have managed a 7 game winless run which now includes 5 straight defeats.\n"
     ]
    },
    {
     "cell_type": "code",
     "collapsed": false,
     "input": [
      "league_analysis.display_current_runs(epl)"
     ],
     "language": "python",
     "metadata": {},
     "outputs": [
      {
       "html": [
        "<div style=\"display:inline-block; margin-right:2em;\"><table><tr><th>Position</th> <th>Team</th> <th>Winning Run</th></tr><tr><td>1</td> <td>Tottenham</td> <td>3</td></tr>\n",
        "<tr><td>2</td> <td>Leicester</td> <td>2</td></tr>\n",
        "<tr><td>3</td> <td>Man United</td> <td>1</td></tr>\n",
        "<tr><td>-</td> <td>Everton</td> <td>1</td></tr>\n",
        "<tr><td>-</td> <td>West Ham</td> <td>1</td></tr>\n",
        "<tr><td>-</td> <td>Bournemouth</td> <td>1</td></tr>\n",
        "<tr><td>-</td> <td>Man City</td> <td>1</td></tr>\n",
        "<tr><td>8</td> <td>Chelsea</td> <td>0</td></tr>\n",
        "<tr><td>-</td> <td>Sunderland</td> <td>0</td></tr>\n",
        "<tr><td>-</td> <td>West Brom</td> <td>0</td></tr>\n",
        "<tr><td>-</td> <td>Stoke</td> <td>0</td></tr>\n",
        "<tr><td>-</td> <td>Watford</td> <td>0</td></tr>\n",
        "<tr><td>-</td> <td>Swansea</td> <td>0</td></tr>\n",
        "<tr><td>-</td> <td>Aston Villa</td> <td>0</td></tr>\n",
        "<tr><td>-</td> <td>Arsenal</td> <td>0</td></tr>\n",
        "<tr><td>-</td> <td>Crystal Palace</td> <td>0</td></tr>\n",
        "<tr><td>-</td> <td>Southampton</td> <td>0</td></tr>\n",
        "<tr><td>-</td> <td>Norwich</td> <td>0</td></tr>\n",
        "<tr><td>-</td> <td>Liverpool</td> <td>0</td></tr>\n",
        "<tr><td>-</td> <td>Newcastle</td> <td>0</td></tr></table></div>\n",
        "<div style=\"display:inline-block; margin-right:2em;\"><table><tr><th>Position</th> <th>Team</th> <th>Unbeaten Run</th></tr><tr><td>1</td> <td>Chelsea</td> <td>8</td></tr>\n",
        "<tr><td>2</td> <td>Man City</td> <td>7</td></tr>\n",
        "<tr><td>3</td> <td>Leicester</td> <td>6</td></tr>\n",
        "<tr><td>4</td> <td>Southampton</td> <td>4</td></tr>\n",
        "<tr><td>5</td> <td>Tottenham</td> <td>3</td></tr>\n",
        "<tr><td>-</td> <td>Swansea</td> <td>3</td></tr>\n",
        "<tr><td>-</td> <td>Bournemouth</td> <td>3</td></tr>\n",
        "<tr><td>8</td> <td>West Brom</td> <td>2</td></tr>\n",
        "<tr><td>-</td> <td>West Ham</td> <td>2</td></tr>\n",
        "<tr><td>-</td> <td>Watford</td> <td>2</td></tr>\n",
        "<tr><td>11</td> <td>Man United</td> <td>1</td></tr>\n",
        "<tr><td>-</td> <td>Everton</td> <td>1</td></tr>\n",
        "<tr><td>-</td> <td>Arsenal</td> <td>1</td></tr>\n",
        "<tr><td>14</td> <td>Sunderland</td> <td>0</td></tr>\n",
        "<tr><td>-</td> <td>Stoke</td> <td>0</td></tr>\n",
        "<tr><td>-</td> <td>Aston Villa</td> <td>0</td></tr>\n",
        "<tr><td>-</td> <td>Crystal Palace</td> <td>0</td></tr>\n",
        "<tr><td>-</td> <td>Norwich</td> <td>0</td></tr>\n",
        "<tr><td>-</td> <td>Liverpool</td> <td>0</td></tr>\n",
        "<tr><td>-</td> <td>Newcastle</td> <td>0</td></tr></table></div>\n",
        "<div style=\"display:inline-block; margin-right:2em;\"><table><tr><th>Position</th> <th>Team</th> <th>Winless</th></tr><tr><td>1</td> <td>Crystal Palace</td> <td>7</td></tr>\n",
        "<tr><td>2</td> <td>West Brom</td> <td>4</td></tr>\n",
        "<tr><td>-</td> <td>Arsenal</td> <td>4</td></tr>\n",
        "<tr><td>-</td> <td>Norwich</td> <td>4</td></tr>\n",
        "<tr><td>5</td> <td>Sunderland</td> <td>3</td></tr>\n",
        "<tr><td>-</td> <td>Stoke</td> <td>3</td></tr>\n",
        "<tr><td>-</td> <td>Aston Villa</td> <td>3</td></tr>\n",
        "<tr><td>8</td> <td>Newcastle</td> <td>2</td></tr>\n",
        "<tr><td>9</td> <td>Chelsea</td> <td>1</td></tr>\n",
        "<tr><td>-</td> <td>Watford</td> <td>1</td></tr>\n",
        "<tr><td>-</td> <td>Swansea</td> <td>1</td></tr>\n",
        "<tr><td>-</td> <td>Southampton</td> <td>1</td></tr>\n",
        "<tr><td>-</td> <td>Liverpool</td> <td>1</td></tr>\n",
        "<tr><td>14</td> <td>Tottenham</td> <td>0</td></tr>\n",
        "<tr><td>-</td> <td>Man United</td> <td>0</td></tr>\n",
        "<tr><td>-</td> <td>Everton</td> <td>0</td></tr>\n",
        "<tr><td>-</td> <td>West Ham</td> <td>0</td></tr>\n",
        "<tr><td>-</td> <td>Leicester</td> <td>0</td></tr>\n",
        "<tr><td>-</td> <td>Bournemouth</td> <td>0</td></tr>\n",
        "<tr><td>-</td> <td>Man City</td> <td>0</td></tr></table></div>\n",
        "<div style=\"display:inline-block; margin-right:2em;\"><table><tr><th>Position</th> <th>Team</th> <th>Losing</th></tr><tr><td>1</td> <td>Crystal Palace</td> <td>5</td></tr>\n",
        "<tr><td>2</td> <td>Norwich</td> <td>4</td></tr>\n",
        "<tr><td>3</td> <td>Stoke</td> <td>2</td></tr>\n",
        "<tr><td>-</td> <td>Newcastle</td> <td>2</td></tr>\n",
        "<tr><td>5</td> <td>Sunderland</td> <td>1</td></tr>\n",
        "<tr><td>-</td> <td>Aston Villa</td> <td>1</td></tr>\n",
        "<tr><td>-</td> <td>Liverpool</td> <td>1</td></tr>\n",
        "<tr><td>8</td> <td>Chelsea</td> <td>0</td></tr>\n",
        "<tr><td>-</td> <td>Tottenham</td> <td>0</td></tr>\n",
        "<tr><td>-</td> <td>Man United</td> <td>0</td></tr>\n",
        "<tr><td>-</td> <td>Everton</td> <td>0</td></tr>\n",
        "<tr><td>-</td> <td>West Brom</td> <td>0</td></tr>\n",
        "<tr><td>-</td> <td>West Ham</td> <td>0</td></tr>\n",
        "<tr><td>-</td> <td>Watford</td> <td>0</td></tr>\n",
        "<tr><td>-</td> <td>Swansea</td> <td>0</td></tr>\n",
        "<tr><td>-</td> <td>Leicester</td> <td>0</td></tr>\n",
        "<tr><td>-</td> <td>Arsenal</td> <td>0</td></tr>\n",
        "<tr><td>-</td> <td>Southampton</td> <td>0</td></tr>\n",
        "<tr><td>-</td> <td>Bournemouth</td> <td>0</td></tr>\n",
        "<tr><td>-</td> <td>Man City</td> <td>0</td></tr></table></div>"
       ],
       "metadata": {},
       "output_type": "display_data",
       "text": [
        "<IPython.core.display.HTML at 0x7f84067e8240>"
       ]
      }
     ],
     "prompt_number": 7
    },
    {
     "cell_type": "markdown",
     "metadata": {},
     "source": [
      "# Leicester 2-0 Liverpool\n",
      "\n",
      "You cannot really say this result was unwarranted. It felt like Liverpool had a lot of the play and a decent amount of good chances, but although they barely managed to out-shoot Leicester 14-13 shots, they only managed 2 shots on target, whilst Leicester conjured up 6. Liverpool are now again bottom for PDO, a position they seem to be dueling Bournemouth for on a weekly basis. Liverpool can certainly feel unlucky not to be higher than 7th in the table, but they can't feel too aggrieved to have lost *this* particular game.\n",
      "\n",
      "Leicester are 6th for shots on target ratio and 9th for total shots ratio, hardly title winning statistics but a top four place does not appear to be entirely out of whack. As the header shows team-rating has Leicester now in 7th, so first place is almost certainly involving a bit of luck, and their first place in the PDO stats backs this up. However, it's not as if Leicester are a mid-table team."
     ]
    },
    {
     "cell_type": "code",
     "collapsed": false,
     "input": [
      "pairs = [(stats.teamname, stats.sotr) for stats in epl.team_stats.values()]\n",
      "league_analysis.display_ranked_table(['Team', 'SOTR'], pairs)\n",
      "pairs = [(stats.teamname, stats.tsr) for stats in epl.team_stats.values()]\n",
      "league_analysis.display_ranked_table(['Team', 'TSR'], pairs)"
     ],
     "language": "python",
     "metadata": {},
     "outputs": [
      {
       "html": [
        "<table><tr><th>Position</th> <th>Team</th> <th>SOTR</th></tr><tr><td>1</td> <td>Tottenham</td> <td>0.6810344827586207</td></tr>\n",
        "<tr><td>2</td> <td>Man City</td> <td>0.6383928571428571</td></tr>\n",
        "<tr><td>3</td> <td>Southampton</td> <td>0.5743589743589743</td></tr>\n",
        "<tr><td>-</td> <td>Liverpool</td> <td>0.5743589743589743</td></tr>\n",
        "<tr><td>5</td> <td>Arsenal</td> <td>0.5659574468085107</td></tr>\n",
        "<tr><td>6</td> <td>Leicester</td> <td>0.5428571428571428</td></tr>\n",
        "<tr><td>7</td> <td>Bournemouth</td> <td>0.5204081632653061</td></tr>\n",
        "<tr><td>8</td> <td>Man United</td> <td>0.5180722891566265</td></tr>\n",
        "<tr><td>9</td> <td>West Ham</td> <td>0.502262443438914</td></tr>\n",
        "<tr><td>10</td> <td>Chelsea</td> <td>0.4881516587677725</td></tr>\n",
        "<tr><td>11</td> <td>Crystal Palace</td> <td>0.48514851485148514</td></tr>\n",
        "<tr><td>12</td> <td>Swansea</td> <td>0.48128342245989303</td></tr>\n",
        "<tr><td>13</td> <td>Watford</td> <td>0.4772727272727273</td></tr>\n",
        "<tr><td>14</td> <td>Everton</td> <td>0.47555555555555556</td></tr>\n",
        "<tr><td>15</td> <td>West Brom</td> <td>0.42134831460674155</td></tr>\n",
        "<tr><td>16</td> <td>Stoke</td> <td>0.4175257731958763</td></tr>\n",
        "<tr><td>17</td> <td>Aston Villa</td> <td>0.41361256544502617</td></tr>\n",
        "<tr><td>18</td> <td>Norwich</td> <td>0.4129353233830846</td></tr>\n",
        "<tr><td>19</td> <td>Newcastle</td> <td>0.39908256880733944</td></tr>\n",
        "<tr><td>20</td> <td>Sunderland</td> <td>0.3700440528634361</td></tr></table>"
       ],
       "metadata": {},
       "output_type": "display_data",
       "text": [
        "<IPython.core.display.HTML at 0x7f83ee1e6550>"
       ]
      },
      {
       "html": [
        "<table><tr><th>Position</th> <th>Team</th> <th>TSR</th></tr><tr><td>1</td> <td>Man City</td> <td>0.6532905296950241</td></tr>\n",
        "<tr><td>2</td> <td>Liverpool</td> <td>0.6226114649681529</td></tr>\n",
        "<tr><td>3</td> <td>Tottenham</td> <td>0.6012176560121766</td></tr>\n",
        "<tr><td>4</td> <td>Arsenal</td> <td>0.5540334855403348</td></tr>\n",
        "<tr><td>5</td> <td>Southampton</td> <td>0.5438311688311688</td></tr>\n",
        "<tr><td>6</td> <td>Man United</td> <td>0.5438247011952191</td></tr>\n",
        "<tr><td>7</td> <td>Chelsea</td> <td>0.5420098846787479</td></tr>\n",
        "<tr><td>8</td> <td>Bournemouth</td> <td>0.5323741007194245</td></tr>\n",
        "<tr><td>9</td> <td>Leicester</td> <td>0.5039494470774092</td></tr>\n",
        "<tr><td>10</td> <td>Everton</td> <td>0.49612403100775193</td></tr>\n",
        "<tr><td>11</td> <td>Watford</td> <td>0.48877374784110533</td></tr>\n",
        "<tr><td>12</td> <td>West Ham</td> <td>0.47667638483965014</td></tr>\n",
        "<tr><td>13</td> <td>Swansea</td> <td>0.47278911564625853</td></tr>\n",
        "<tr><td>14</td> <td>Aston Villa</td> <td>0.4472271914132379</td></tr>\n",
        "<tr><td>15</td> <td>Norwich</td> <td>0.4436741767764298</td></tr>\n",
        "<tr><td>16</td> <td>Crystal Palace</td> <td>0.4398782343987823</td></tr>\n",
        "<tr><td>17</td> <td>Stoke</td> <td>0.42833607907743</td></tr>\n",
        "<tr><td>18</td> <td>West Brom</td> <td>0.41228070175438597</td></tr>\n",
        "<tr><td>19</td> <td>Sunderland</td> <td>0.40387722132471726</td></tr>\n",
        "<tr><td>20</td> <td>Newcastle</td> <td>0.3825396825396825</td></tr></table>"
       ],
       "metadata": {},
       "output_type": "display_data",
       "text": [
        "<IPython.core.display.HTML at 0x7f83ee1e6780>"
       ]
      }
     ],
     "prompt_number": 11
    },
    {
     "cell_type": "markdown",
     "metadata": {},
     "source": [
      "# Manchester United 3-0 Stoke\n",
      "\n",
      "Manchester United score in the first half, score three times, deservedly win with 15 shots, 5 of which were on target. This almost seems like a better than decent team fighting for a champions' league spot having a pretty routine home victory. Manchester United and Sunderland are the only two teams to be in the same position in the league as their ranking for team rating. Only 5 points behind Arsenal and Tottenham now, dare I suggest that this could turn out to be a pretty *decent* season for Manchester United?"
     ]
    },
    {
     "cell_type": "markdown",
     "metadata": {},
     "source": [
      "# Norwich 0-3 Tottenham\n",
      "\n",
      "About as routine as away victories come. Tottenham starting to look like very plausible title winners. They are not just second for team rating, but pretty high above 3rd placed Arsenal. Norwich however, well that is 4 straight defeats and they remain 2 points above the relegation zone. Panic."
     ]
    },
    {
     "cell_type": "markdown",
     "metadata": {},
     "source": [
      "# Sunderland 0-1 Manchester City\n",
      "\n",
      "Much less routine than you would have expected. Pretty good performance from Sunderland, they actually out-shot their visitors. Not many teams have out-shot Manchester City this season. Still, it's points that both teams need, and City left with all three. Sunderland become only the second team to out-shoot Manchester City home or away this season:"
     ]
    },
    {
     "cell_type": "code",
     "collapsed": false,
     "input": [
      "def man_city_out_shot(game):\n",
      "    return ((game.HomeTeam == 'Man City' and game.HS < game.AS) or\n",
      "            (game.AwayTeam == 'Man City' and game.HS > game.AS))\n",
      "league_analysis.display_given_matches([game for game in epl.team_stats['Man City'].games if man_city_out_shot(game)])"
     ],
     "language": "python",
     "metadata": {},
     "outputs": [
      {
       "html": [
        "<div style=\"display:inline-block; margin-right:2em;\">\n",
        "    <table>\n",
        "      <tr><th></th><th>Home</th><th>Away</th></tr>\n",
        "      <tr><td>Team</td><td>Man City</td><td>Liverpool</td></tr>\n",
        "      <tr><td>Goals</td><td>1</td><td>4</td></tr>\n",
        "      <tr><td>Shots</td><td>11</td><td>14</td></tr>\n",
        "      <tr><td>SOT</td><td>3</td><td>9</td></tr>\n",
        "      \n",
        "    </table>\n",
        "    </div>\n",
        "<div style=\"display:inline-block; margin-right:2em;\">\n",
        "    <table>\n",
        "      <tr><th></th><th>Home</th><th>Away</th></tr>\n",
        "      <tr><td>Team</td><td>Sunderland</td><td>Man City</td></tr>\n",
        "      <tr><td>Goals</td><td>0</td><td>1</td></tr>\n",
        "      <tr><td>Shots</td><td>11</td><td>6</td></tr>\n",
        "      <tr><td>SOT</td><td>2</td><td>2</td></tr>\n",
        "      \n",
        "    </table>\n",
        "    </div>"
       ],
       "metadata": {},
       "output_type": "display_data",
       "text": [
        "<IPython.core.display.HTML at 0x7f83ee219cf8>"
       ]
      }
     ],
     "prompt_number": 14
    },
    {
     "cell_type": "markdown",
     "metadata": {},
     "source": [
      "# West Brom 1-1 Swansea\n",
      "\n",
      "A veritable shot-fest. The highest shooting match for either team so far this season with 35 shots. Games involving either of these two teams and more than 30 shots are not common, there are only 3 of them so far this season, with both teams managing it on one other occassion. For West Brom that was the not terribly flattering game in which Liverpool had 28 shots. Swansea fared better against West Ham, though it appears to have been speculative shooting since both teams only managed 2 shots on target."
     ]
    },
    {
     "cell_type": "code",
     "collapsed": false,
     "input": [
      "def high_shots(game):\n",
      "    return (game.HS + game.AS > 30)\n",
      "league_analysis.display_given_matches([game for game in epl.team_stats['West Brom'].games if high_shots(game)])\n",
      "league_analysis.display_given_matches([game for game in epl.team_stats['Swansea'].games if high_shots(game)])"
     ],
     "language": "python",
     "metadata": {},
     "outputs": [
      {
       "html": [
        "<div style=\"display:inline-block; margin-right:2em;\">\n",
        "    <table>\n",
        "      <tr><th></th><th>Home</th><th>Away</th></tr>\n",
        "      <tr><td>Team</td><td>Liverpool</td><td>West Brom</td></tr>\n",
        "      <tr><td>Goals</td><td>2</td><td>2</td></tr>\n",
        "      <tr><td>Shots</td><td>28</td><td>4</td></tr>\n",
        "      <tr><td>SOT</td><td>8</td><td>2</td></tr>\n",
        "      \n",
        "    </table>\n",
        "    </div>\n",
        "<div style=\"display:inline-block; margin-right:2em;\">\n",
        "    <table>\n",
        "      <tr><th></th><th>Home</th><th>Away</th></tr>\n",
        "      <tr><td>Team</td><td>West Brom</td><td>Swansea</td></tr>\n",
        "      <tr><td>Goals</td><td>1</td><td>1</td></tr>\n",
        "      <tr><td>Shots</td><td>17</td><td>18</td></tr>\n",
        "      <tr><td>SOT</td><td>7</td><td>4</td></tr>\n",
        "      \n",
        "    </table>\n",
        "    </div>"
       ],
       "metadata": {},
       "output_type": "display_data",
       "text": [
        "<IPython.core.display.HTML at 0x7f83ee219908>"
       ]
      },
      {
       "html": [
        "<div style=\"display:inline-block; margin-right:2em;\">\n",
        "    <table>\n",
        "      <tr><th></th><th>Home</th><th>Away</th></tr>\n",
        "      <tr><td>Team</td><td>Swansea</td><td>West Ham</td></tr>\n",
        "      <tr><td>Goals</td><td>0</td><td>0</td></tr>\n",
        "      <tr><td>Shots</td><td>21</td><td>11</td></tr>\n",
        "      <tr><td>SOT</td><td>2</td><td>2</td></tr>\n",
        "      \n",
        "    </table>\n",
        "    </div>\n",
        "<div style=\"display:inline-block; margin-right:2em;\">\n",
        "    <table>\n",
        "      <tr><th></th><th>Home</th><th>Away</th></tr>\n",
        "      <tr><td>Team</td><td>West Brom</td><td>Swansea</td></tr>\n",
        "      <tr><td>Goals</td><td>1</td><td>1</td></tr>\n",
        "      <tr><td>Shots</td><td>17</td><td>18</td></tr>\n",
        "      <tr><td>SOT</td><td>7</td><td>4</td></tr>\n",
        "      \n",
        "    </table>\n",
        "    </div>"
       ],
       "metadata": {},
       "output_type": "display_data",
       "text": [
        "<IPython.core.display.HTML at 0x7f83ef30c9b0>"
       ]
      }
     ],
     "prompt_number": 27
    },
    {
     "cell_type": "markdown",
     "metadata": {},
     "source": [
      "# West Ham 2-0 Aston Villa\n",
      "\n",
      "Pretty much a hammering for Aston Villa. Their poor showing here is somewhat mitigated by the early red card. I think all that needs to be said about Aston Villa has been said. Poor team, probably not as poor as their position reflects, but not good enough to extracate themselves from there."
     ]
    },
    {
     "cell_type": "markdown",
     "metadata": {},
     "source": [
      "# Everton 3-0 Newcastle\n",
      "\n",
      "I had previously said that Newcastle were the most likely of the bottom three to escape the relegation zone. This looks like a pretty poor performance against a somewhat eratic Everton team. They are likely pretty pleased that all four teams in the bottom four lost and Swansea just above them only managed a draw. So it is somewhat as you were for the bottom five, but given that Sunderland were playing Manchester City and Norwich were playing Tottenham this has to go down as something of a missed opportunity for Newcastle."
     ]
    },
    {
     "cell_type": "markdown",
     "metadata": {},
     "source": [
      "# Watford 0-0 Chelsea\n",
      "\n",
      "Both teams continue to play about as good as a mid-table team. Watford probably over-shooting pre-season expectations whilst Chelsea are clearly undershooting pre-season expectations even if we look at their 8th placed team rating rather than their 13th placed table position. Still Chelsea retain their position at the top of the unbeaten run table which now extends to 8 games. Given that the team above them in the table is Crystal Palace with their longest 7 game winless streak and 5 successive losses Chelsea must be eyeing up further progression up the table. Although next up for Chelsea is Manchester United whilst Palace travel to Swansea."
     ]
    },
    {
     "cell_type": "code",
     "collapsed": false,
     "input": [
      "league_analysis.compare_fixtures(epl, ['Bournemouth', 'Chelsea', 'Crystal Palace', 'Everton', 'Watford'])"
     ],
     "language": "python",
     "metadata": {},
     "outputs": [
      {
       "html": [
        "<table><tr><th>Bournemouth</th> <th>Chelsea</th> <th>Crystal Palace</th> <th>Everton</th> <th>Watford</th></tr><tr><td>Arsenal (H)</td> <td>Man United (H)</td> <td>Swansea (A)</td> <td>Stoke (A)</td> <td>Tottenham (A)</td></tr>\n",
        "<tr><td>Stoke (H)</td> <td>Newcastle (H)</td> <td>Watford (H)</td> <td>West Brom (H)</td> <td>Crystal Palace (A)</td></tr>\n",
        "<tr><td>Watford (A)</td> <td>Southampton (A)</td> <td>West Brom (A)</td> <td>Liverpool (A)</td> <td>Bournemouth (H)</td></tr>\n",
        "<tr><td>Southampton (H)</td> <td>Norwich (A)</td> <td>Sunderland (A)</td> <td>Aston Villa (A)</td> <td>Man United (A)</td></tr>\n",
        "<tr><td>Newcastle (A)</td> <td>Stoke (H)</td> <td>Liverpool (H)</td> <td>West Ham (H)</td> <td>Leicester (H)</td></tr>\n",
        "<tr><td>Swansea (H)</td> <td>Liverpool (A)</td> <td>Man United (A)</td> <td>Sunderland (A)</td> <td>West Ham (A)</td></tr>\n",
        "<tr><td>Tottenham (A)</td> <td>West Ham (H)</td> <td>Leicester (H)</td> <td>Arsenal (H)</td> <td>Stoke (H)</td></tr>\n",
        "<tr><td>Man City (H)</td> <td>Aston Villa (A)</td> <td>West Ham (A)</td> <td>Man United (A)</td> <td>Arsenal (A)</td></tr>\n",
        "<tr><td>Aston Villa (A)</td> <td>Swansea (A)</td> <td>Norwich (H)</td> <td>Watford (A)</td> <td>Everton (H)</td></tr>\n",
        "<tr><td>Liverpool (H)</td> <td>Man City (H)</td> <td>Arsenal (A)</td> <td>Southampton (H)</td> <td>West Brom (A)</td></tr>\n",
        "<tr><td>Chelsea (H)</td> <td>Bournemouth (A)</td> <td>Everton (H)</td> <td>Crystal Palace (A)</td> <td>Norwich (A)</td></tr>\n",
        "<tr><td>Everton (A)</td> <td>Tottenham (H)</td> <td>Newcastle (A)</td> <td>Bournemouth (H)</td> <td>Aston Villa (H)</td></tr>\n",
        "<tr><td>West Brom (H)</td> <td>Sunderland (A)</td> <td>Stoke (H)</td> <td>Leicester (A)</td> <td>Liverpool (A)</td></tr>\n",
        "<tr><td>Man United (A)</td> <td>Leicester (H)</td> <td>Southampton (A)</td> <td>Norwich (H)</td> <td>Sunderland (H)</td></tr></table>"
       ],
       "metadata": {},
       "output_type": "display_data",
       "text": [
        "<IPython.core.display.HTML at 0x7f83edd6f320>"
       ]
      }
     ],
     "prompt_number": 28
    },
    {
     "cell_type": "markdown",
     "metadata": {},
     "source": [
      "As always, thanks for reading."
     ]
    }
   ],
   "metadata": {}
  }
 ]
}