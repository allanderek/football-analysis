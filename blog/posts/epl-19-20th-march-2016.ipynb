{
 "cells": [
  {
   "cell_type": "markdown",
   "metadata": {},
   "source": [
    "# EPL 19-20th March 2016\n",
    "\n",
    "Another week another win for Leicester and another step taken towards the premier league title. Here is the usual look at the underlying shot statistics for the weekend's matches."
   ]
  },
  {
   "cell_type": "code",
   "execution_count": 1,
   "metadata": {
    "collapsed": false
   },
   "outputs": [
    {
     "data": {
      "text/html": [
       "<div><div style=\"display:inline-block; margin-right:2em;\">\n",
       "    <table>\n",
       "      <tr><th></th><th>Home</th><th>Away</th></tr>\n",
       "      <tr><td>Team</td><td>Chelsea</td><td>West Ham</td></tr>\n",
       "      <tr><td>Goals</td><td>2</td><td>2</td></tr>\n",
       "      <tr><td>Shots</td><td>22</td><td>13</td></tr>\n",
       "      <tr><td>SOT</td><td>5</td><td>6</td></tr>\n",
       "      \n",
       "    </table>\n",
       "    </div>\n",
       "<div style=\"display:inline-block; margin-right:2em;\">\n",
       "    <table>\n",
       "      <tr><th></th><th>Home</th><th>Away</th></tr>\n",
       "      <tr><td>Team</td><td>Crystal Palace</td><td>Leicester</td></tr>\n",
       "      <tr><td>Goals</td><td>0</td><td>1</td></tr>\n",
       "      <tr><td>Shots</td><td>12</td><td>8</td></tr>\n",
       "      <tr><td>SOT</td><td>4</td><td>3</td></tr>\n",
       "      \n",
       "    </table>\n",
       "    </div>\n",
       "<div style=\"display:inline-block; margin-right:2em;\">\n",
       "    <table>\n",
       "      <tr><th></th><th>Home</th><th>Away</th></tr>\n",
       "      <tr><td>Team</td><td>Everton</td><td>Arsenal</td></tr>\n",
       "      <tr><td>Goals</td><td>0</td><td>2</td></tr>\n",
       "      <tr><td>Shots</td><td>8</td><td>11</td></tr>\n",
       "      <tr><td>SOT</td><td>2</td><td>3</td></tr>\n",
       "      \n",
       "    </table>\n",
       "    </div>\n",
       "<div style=\"display:inline-block; margin-right:2em;\">\n",
       "    <table>\n",
       "      <tr><th></th><th>Home</th><th>Away</th></tr>\n",
       "      <tr><td>Team</td><td>Swansea</td><td>Aston Villa</td></tr>\n",
       "      <tr><td>Goals</td><td>1</td><td>0</td></tr>\n",
       "      <tr><td>Shots</td><td>10</td><td>12</td></tr>\n",
       "      <tr><td>SOT</td><td>1</td><td>2</td></tr>\n",
       "      \n",
       "    </table>\n",
       "    </div>\n",
       "<div style=\"display:inline-block; margin-right:2em;\">\n",
       "    <table>\n",
       "      <tr><th></th><th>Home</th><th>Away</th></tr>\n",
       "      <tr><td>Team</td><td>Watford</td><td>Stoke</td></tr>\n",
       "      <tr><td>Goals</td><td>1</td><td>2</td></tr>\n",
       "      <tr><td>Shots</td><td>9</td><td>9</td></tr>\n",
       "      <tr><td>SOT</td><td>4</td><td>6</td></tr>\n",
       "      \n",
       "    </table>\n",
       "    </div>\n",
       "<div style=\"display:inline-block; margin-right:2em;\">\n",
       "    <table>\n",
       "      <tr><th></th><th>Home</th><th>Away</th></tr>\n",
       "      <tr><td>Team</td><td>West Brom</td><td>Norwich</td></tr>\n",
       "      <tr><td>Goals</td><td>0</td><td>1</td></tr>\n",
       "      <tr><td>Shots</td><td>10</td><td>7</td></tr>\n",
       "      <tr><td>SOT</td><td>0</td><td>1</td></tr>\n",
       "      \n",
       "    </table>\n",
       "    </div>\n",
       "<div style=\"display:inline-block; margin-right:2em;\">\n",
       "    <table>\n",
       "      <tr><th></th><th>Home</th><th>Away</th></tr>\n",
       "      <tr><td>Team</td><td>Man City</td><td>Man United</td></tr>\n",
       "      <tr><td>Goals</td><td>0</td><td>1</td></tr>\n",
       "      <tr><td>Shots</td><td>26</td><td>5</td></tr>\n",
       "      <tr><td>SOT</td><td>2</td><td>3</td></tr>\n",
       "      \n",
       "    </table>\n",
       "    </div>\n",
       "<div style=\"display:inline-block; margin-right:2em;\">\n",
       "    <table>\n",
       "      <tr><th></th><th>Home</th><th>Away</th></tr>\n",
       "      <tr><td>Team</td><td>Newcastle</td><td>Sunderland</td></tr>\n",
       "      <tr><td>Goals</td><td>1</td><td>1</td></tr>\n",
       "      <tr><td>Shots</td><td>17</td><td>14</td></tr>\n",
       "      <tr><td>SOT</td><td>8</td><td>4</td></tr>\n",
       "      \n",
       "    </table>\n",
       "    </div>\n",
       "<div style=\"display:inline-block; margin-right:2em;\">\n",
       "    <table>\n",
       "      <tr><th></th><th>Home</th><th>Away</th></tr>\n",
       "      <tr><td>Team</td><td>Southampton</td><td>Liverpool</td></tr>\n",
       "      <tr><td>Goals</td><td>3</td><td>2</td></tr>\n",
       "      <tr><td>Shots</td><td>16</td><td>18</td></tr>\n",
       "      <tr><td>SOT</td><td>5</td><td>9</td></tr>\n",
       "      \n",
       "    </table>\n",
       "    </div>\n",
       "<div style=\"display:inline-block; margin-right:2em;\">\n",
       "    <table>\n",
       "      <tr><th></th><th>Home</th><th>Away</th></tr>\n",
       "      <tr><td>Team</td><td>Tottenham</td><td>Bournemouth</td></tr>\n",
       "      <tr><td>Goals</td><td>3</td><td>0</td></tr>\n",
       "      <tr><td>Shots</td><td>17</td><td>2</td></tr>\n",
       "      <tr><td>SOT</td><td>8</td><td>0</td></tr>\n",
       "      \n",
       "    </table>\n",
       "    </div></div><div><div style=\"display:inline-block; margin-right:2em;\"><table><tr><th>Position</th> <th>Team</th> <th>Points</th></tr><tr><td>1</td> <td>Leicester</td> <td>66</td></tr>\n",
       "<tr><td>2</td> <td>Tottenham</td> <td>61</td></tr>\n",
       "<tr><td>3</td> <td>Arsenal</td> <td>55</td></tr>\n",
       "<tr><td>4</td> <td>Man City</td> <td>51</td></tr>\n",
       "<tr><td>5</td> <td>West Ham</td> <td>50</td></tr>\n",
       "<tr><td>-</td> <td>Man United</td> <td>50</td></tr>\n",
       "<tr><td>7</td> <td>Southampton</td> <td>47</td></tr>\n",
       "<tr><td>8</td> <td>Stoke</td> <td>46</td></tr>\n",
       "<tr><td>9</td> <td>Liverpool</td> <td>44</td></tr>\n",
       "<tr><td>10</td> <td>Chelsea</td> <td>41</td></tr>\n",
       "<tr><td>11</td> <td>West Brom</td> <td>39</td></tr>\n",
       "<tr><td>12</td> <td>Bournemouth</td> <td>38</td></tr>\n",
       "<tr><td>-</td> <td>Everton</td> <td>38</td></tr>\n",
       "<tr><td>14</td> <td>Watford</td> <td>37</td></tr>\n",
       "<tr><td>15</td> <td>Swansea</td> <td>36</td></tr>\n",
       "<tr><td>16</td> <td>Crystal Palace</td> <td>33</td></tr>\n",
       "<tr><td>17</td> <td>Norwich</td> <td>28</td></tr>\n",
       "<tr><td>18</td> <td>Sunderland</td> <td>26</td></tr>\n",
       "<tr><td>19</td> <td>Newcastle</td> <td>25</td></tr>\n",
       "<tr><td>20</td> <td>Aston Villa</td> <td>16</td></tr></table></div>\n",
       "<div style=\"display:inline-block; margin-right:2em;\"><table><tr><th>Position</th> <th>Team</th> <th>Team Rating</th></tr><tr><td>1</td> <td>Tottenham</td> <td>0.24710791087088907</td></tr>\n",
       "<tr><td>2</td> <td>Man City</td> <td>0.2389774252864094</td></tr>\n",
       "<tr><td>3</td> <td>Liverpool</td> <td>0.14474279925123518</td></tr>\n",
       "<tr><td>4</td> <td>Arsenal</td> <td>0.11075857211421597</td></tr>\n",
       "<tr><td>5</td> <td>Leicester</td> <td>0.06704884032040781</td></tr>\n",
       "<tr><td>6</td> <td>Chelsea</td> <td>0.06000709018853358</td></tr>\n",
       "<tr><td>7</td> <td>Southampton</td> <td>0.0564910678235171</td></tr>\n",
       "<tr><td>8</td> <td>Man United</td> <td>0.04970145468954883</td></tr>\n",
       "<tr><td>9</td> <td>Everton</td> <td>0.04134731500654405</td></tr>\n",
       "<tr><td>10</td> <td>West Ham</td> <td>0.01702386906932641</td></tr>\n",
       "<tr><td>11</td> <td>Bournemouth</td> <td>-0.017487104921353552</td></tr>\n",
       "<tr><td>12</td> <td>Watford</td> <td>-0.044764865254164565</td></tr>\n",
       "<tr><td>13</td> <td>Swansea</td> <td>-0.07266532147459098</td></tr>\n",
       "<tr><td>14</td> <td>Stoke</td> <td>-0.07437775266011082</td></tr>\n",
       "<tr><td>15</td> <td>Crystal Palace</td> <td>-0.08166059447588073</td></tr>\n",
       "<tr><td>16</td> <td>Norwich</td> <td>-0.1320042244399923</td></tr>\n",
       "<tr><td>17</td> <td>West Brom</td> <td>-0.14293860336833414</td></tr>\n",
       "<tr><td>18</td> <td>Sunderland</td> <td>-0.144966402635897</td></tr>\n",
       "<tr><td>19</td> <td>Newcastle</td> <td>-0.1792828769890239</td></tr>\n",
       "<tr><td>20</td> <td>Aston Villa</td> <td>-0.19994132690032004</td></tr></table></div>\n",
       "<div style=\"display:inline-block; margin-right:2em;\"><table><tr><th>Position</th> <th>Team</th> <th>PDO</th></tr><tr><td>1</td> <td>Leicester</td> <td>0.11928904428904424</td></tr>\n",
       "<tr><td>2</td> <td>West Ham</td> <td>0.0843942054433714</td></tr>\n",
       "<tr><td>3</td> <td>Man United</td> <td>0.07763645998940116</td></tr>\n",
       "<tr><td>4</td> <td>Everton</td> <td>0.0712962962962963</td></tr>\n",
       "<tr><td>5</td> <td>Arsenal</td> <td>0.06744186046511627</td></tr>\n",
       "<tr><td>6</td> <td>West Brom</td> <td>0.052837209302325605</td></tr>\n",
       "<tr><td>7</td> <td>Watford</td> <td>0.05106179909329517</td></tr>\n",
       "<tr><td>8</td> <td>Stoke</td> <td>0.050529100529100535</td></tr>\n",
       "<tr><td>9</td> <td>Chelsea</td> <td>0.03754130112794807</td></tr>\n",
       "<tr><td>10</td> <td>Sunderland</td> <td>0.019047619047619035</td></tr>\n",
       "<tr><td>11</td> <td>Southampton</td> <td>0.007892606583917938</td></tr>\n",
       "<tr><td>12</td> <td>Tottenham</td> <td>-0.0008254656141979955</td></tr>\n",
       "<tr><td>13</td> <td>Man City</td> <td>-0.002348244687096379</td></tr>\n",
       "<tr><td>14</td> <td>Swansea</td> <td>-0.02093984172561103</td></tr>\n",
       "<tr><td>15</td> <td>Crystal Palace</td> <td>-0.04778243741263183</td></tr>\n",
       "<tr><td>16</td> <td>Norwich</td> <td>-0.061407440609592134</td></tr>\n",
       "<tr><td>17</td> <td>Bournemouth</td> <td>-0.10338445267054469</td></tr>\n",
       "<tr><td>18</td> <td>Liverpool</td> <td>-0.10624868504102669</td></tr>\n",
       "<tr><td>19</td> <td>Newcastle</td> <td>-0.11723565670934089</td></tr>\n",
       "<tr><td>20</td> <td>Aston Villa</td> <td>-0.14504241412877206</td></tr></table></div></div>"
      ],
      "text/plain": [
       "<IPython.core.display.HTML object>"
      ]
     },
     "metadata": {},
     "output_type": "display_data"
    }
   ],
   "source": [
    "%matplotlib inline\n",
    "import league_analysis\n",
    "from IPython.display import display, HTML\n",
    "epl = league_analysis.epl\n",
    "display(HTML(league_analysis.blog_weekly_header(epl, '19/03/2016', '20/03/2016')))"
   ]
  },
  {
   "cell_type": "markdown",
   "metadata": {},
   "source": [
    "# Chelsea 2-2 West Ham\n",
    "\n",
    "Cracking game. A draw is probably about a fair result here. Chelsea had 9 more shots, but one fewer on target, this chimes well with the fact that Chelsea spent a good proportion of this match behind, including a late proportion of the game (which increases urgency). Since we're talking about Chelsea, this seems a good point to show the latest runs, with Chelsea unbeaten for 14 games.\n",
    "\n",
    "<!-- TEASER_END -->"
   ]
  },
  {
   "cell_type": "code",
   "execution_count": 2,
   "metadata": {
    "collapsed": false
   },
   "outputs": [
    {
     "data": {
      "text/html": [
       "<div style=\"display:inline-block; margin-right:2em;\"><table><tr><th>Position</th> <th>Team</th> <th>Winning Run</th></tr><tr><td>1</td> <td>Leicester</td> <td>3</td></tr>\n",
       "<tr><td>2</td> <td>Southampton</td> <td>2</td></tr>\n",
       "<tr><td>-</td> <td>Tottenham</td> <td>2</td></tr>\n",
       "<tr><td>4</td> <td>Stoke</td> <td>1</td></tr>\n",
       "<tr><td>-</td> <td>Arsenal</td> <td>1</td></tr>\n",
       "<tr><td>-</td> <td>Norwich</td> <td>1</td></tr>\n",
       "<tr><td>-</td> <td>Swansea</td> <td>1</td></tr>\n",
       "<tr><td>-</td> <td>Man United</td> <td>1</td></tr>\n",
       "<tr><td>9</td> <td>Aston Villa</td> <td>0</td></tr>\n",
       "<tr><td>-</td> <td>Crystal Palace</td> <td>0</td></tr>\n",
       "<tr><td>-</td> <td>Bournemouth</td> <td>0</td></tr>\n",
       "<tr><td>-</td> <td>Liverpool</td> <td>0</td></tr>\n",
       "<tr><td>-</td> <td>West Brom</td> <td>0</td></tr>\n",
       "<tr><td>-</td> <td>Everton</td> <td>0</td></tr>\n",
       "<tr><td>-</td> <td>Chelsea</td> <td>0</td></tr>\n",
       "<tr><td>-</td> <td>Newcastle</td> <td>0</td></tr>\n",
       "<tr><td>-</td> <td>West Ham</td> <td>0</td></tr>\n",
       "<tr><td>-</td> <td>Sunderland</td> <td>0</td></tr>\n",
       "<tr><td>-</td> <td>Man City</td> <td>0</td></tr>\n",
       "<tr><td>-</td> <td>Watford</td> <td>0</td></tr></table></div>\n",
       "<div style=\"display:inline-block; margin-right:2em;\"><table><tr><th>Position</th> <th>Team</th> <th>Unbeaten Run</th></tr><tr><td>1</td> <td>Chelsea</td> <td>14</td></tr>\n",
       "<tr><td>2</td> <td>Leicester</td> <td>5</td></tr>\n",
       "<tr><td>-</td> <td>West Ham</td> <td>5</td></tr>\n",
       "<tr><td>4</td> <td>Southampton</td> <td>3</td></tr>\n",
       "<tr><td>-</td> <td>Sunderland</td> <td>3</td></tr>\n",
       "<tr><td>-</td> <td>Tottenham</td> <td>3</td></tr>\n",
       "<tr><td>7</td> <td>Arsenal</td> <td>2</td></tr>\n",
       "<tr><td>-</td> <td>Norwich</td> <td>2</td></tr>\n",
       "<tr><td>9</td> <td>Stoke</td> <td>1</td></tr>\n",
       "<tr><td>-</td> <td>Swansea</td> <td>1</td></tr>\n",
       "<tr><td>-</td> <td>Newcastle</td> <td>1</td></tr>\n",
       "<tr><td>-</td> <td>Man United</td> <td>1</td></tr>\n",
       "<tr><td>13</td> <td>Aston Villa</td> <td>0</td></tr>\n",
       "<tr><td>-</td> <td>Crystal Palace</td> <td>0</td></tr>\n",
       "<tr><td>-</td> <td>Bournemouth</td> <td>0</td></tr>\n",
       "<tr><td>-</td> <td>Liverpool</td> <td>0</td></tr>\n",
       "<tr><td>-</td> <td>West Brom</td> <td>0</td></tr>\n",
       "<tr><td>-</td> <td>Everton</td> <td>0</td></tr>\n",
       "<tr><td>-</td> <td>Man City</td> <td>0</td></tr>\n",
       "<tr><td>-</td> <td>Watford</td> <td>0</td></tr></table></div>\n",
       "<div style=\"display:inline-block; margin-right:2em;\"><table><tr><th>Position</th> <th>Team</th> <th>Winless</th></tr><tr><td>1</td> <td>Crystal Palace</td> <td>13</td></tr>\n",
       "<tr><td>2</td> <td>Aston Villa</td> <td>6</td></tr>\n",
       "<tr><td>3</td> <td>Newcastle</td> <td>5</td></tr>\n",
       "<tr><td>4</td> <td>Sunderland</td> <td>4</td></tr>\n",
       "<tr><td>-</td> <td>Watford</td> <td>4</td></tr>\n",
       "<tr><td>6</td> <td>Everton</td> <td>2</td></tr>\n",
       "<tr><td>-</td> <td>Chelsea</td> <td>2</td></tr>\n",
       "<tr><td>-</td> <td>Man City</td> <td>2</td></tr>\n",
       "<tr><td>9</td> <td>Bournemouth</td> <td>1</td></tr>\n",
       "<tr><td>-</td> <td>Liverpool</td> <td>1</td></tr>\n",
       "<tr><td>-</td> <td>West Brom</td> <td>1</td></tr>\n",
       "<tr><td>-</td> <td>West Ham</td> <td>1</td></tr>\n",
       "<tr><td>13</td> <td>Stoke</td> <td>0</td></tr>\n",
       "<tr><td>-</td> <td>Arsenal</td> <td>0</td></tr>\n",
       "<tr><td>-</td> <td>Leicester</td> <td>0</td></tr>\n",
       "<tr><td>-</td> <td>Southampton</td> <td>0</td></tr>\n",
       "<tr><td>-</td> <td>Norwich</td> <td>0</td></tr>\n",
       "<tr><td>-</td> <td>Swansea</td> <td>0</td></tr>\n",
       "<tr><td>-</td> <td>Man United</td> <td>0</td></tr>\n",
       "<tr><td>-</td> <td>Tottenham</td> <td>0</td></tr></table></div>\n",
       "<div style=\"display:inline-block; margin-right:2em;\"><table><tr><th>Position</th> <th>Team</th> <th>Losing</th></tr><tr><td>1</td> <td>Aston Villa</td> <td>6</td></tr>\n",
       "<tr><td>2</td> <td>Watford</td> <td>3</td></tr>\n",
       "<tr><td>3</td> <td>Crystal Palace</td> <td>2</td></tr>\n",
       "<tr><td>-</td> <td>Everton</td> <td>2</td></tr>\n",
       "<tr><td>5</td> <td>Bournemouth</td> <td>1</td></tr>\n",
       "<tr><td>-</td> <td>Liverpool</td> <td>1</td></tr>\n",
       "<tr><td>-</td> <td>West Brom</td> <td>1</td></tr>\n",
       "<tr><td>-</td> <td>Man City</td> <td>1</td></tr>\n",
       "<tr><td>9</td> <td>Stoke</td> <td>0</td></tr>\n",
       "<tr><td>-</td> <td>Arsenal</td> <td>0</td></tr>\n",
       "<tr><td>-</td> <td>Leicester</td> <td>0</td></tr>\n",
       "<tr><td>-</td> <td>Southampton</td> <td>0</td></tr>\n",
       "<tr><td>-</td> <td>Norwich</td> <td>0</td></tr>\n",
       "<tr><td>-</td> <td>Chelsea</td> <td>0</td></tr>\n",
       "<tr><td>-</td> <td>Swansea</td> <td>0</td></tr>\n",
       "<tr><td>-</td> <td>Newcastle</td> <td>0</td></tr>\n",
       "<tr><td>-</td> <td>West Ham</td> <td>0</td></tr>\n",
       "<tr><td>-</td> <td>Man United</td> <td>0</td></tr>\n",
       "<tr><td>-</td> <td>Sunderland</td> <td>0</td></tr>\n",
       "<tr><td>-</td> <td>Tottenham</td> <td>0</td></tr></table></div>"
      ],
      "text/plain": [
       "<IPython.core.display.HTML object>"
      ]
     },
     "metadata": {},
     "output_type": "display_data"
    }
   ],
   "source": [
    "league_analysis.display_current_runs(epl)"
   ]
  },
  {
   "cell_type": "markdown",
   "metadata": {},
   "source": [
    "However, Chelsea's important 14 game unbeaten run, should be teppered a little with the fact that they have only won 6 of those matches, including being out-shot by Norwich and a rather flattering 3-0 away win at Selhurst Park."
   ]
  },
  {
   "cell_type": "code",
   "execution_count": 14,
   "metadata": {
    "collapsed": false
   },
   "outputs": [
    {
     "data": {
      "text/html": [
       "<div style=\"display:inline-block; margin-right:2em;\">\n",
       "    <table>\n",
       "      <tr><th></th><th>Home</th><th>Away</th></tr>\n",
       "      <tr><td>Team</td><td>Chelsea</td><td>Sunderland</td></tr>\n",
       "      <tr><td>Goals</td><td>3</td><td>1</td></tr>\n",
       "      <tr><td>Shots</td><td>17</td><td>11</td></tr>\n",
       "      <tr><td>SOT</td><td>7</td><td>3</td></tr>\n",
       "      \n",
       "    </table>\n",
       "    </div>\n",
       "<div style=\"display:inline-block; margin-right:2em;\">\n",
       "    <table>\n",
       "      <tr><th></th><th>Home</th><th>Away</th></tr>\n",
       "      <tr><td>Team</td><td>Crystal Palace</td><td>Chelsea</td></tr>\n",
       "      <tr><td>Goals</td><td>0</td><td>3</td></tr>\n",
       "      <tr><td>Shots</td><td>8</td><td>10</td></tr>\n",
       "      <tr><td>SOT</td><td>4</td><td>4</td></tr>\n",
       "      \n",
       "    </table>\n",
       "    </div>\n",
       "<div style=\"display:inline-block; margin-right:2em;\">\n",
       "    <table>\n",
       "      <tr><th></th><th>Home</th><th>Away</th></tr>\n",
       "      <tr><td>Team</td><td>Arsenal</td><td>Chelsea</td></tr>\n",
       "      <tr><td>Goals</td><td>0</td><td>1</td></tr>\n",
       "      <tr><td>Shots</td><td>9</td><td>12</td></tr>\n",
       "      <tr><td>SOT</td><td>1</td><td>6</td></tr>\n",
       "      \n",
       "    </table>\n",
       "    </div>\n",
       "<div style=\"display:inline-block; margin-right:2em;\">\n",
       "    <table>\n",
       "      <tr><th></th><th>Home</th><th>Away</th></tr>\n",
       "      <tr><td>Team</td><td>Chelsea</td><td>Newcastle</td></tr>\n",
       "      <tr><td>Goals</td><td>5</td><td>1</td></tr>\n",
       "      <tr><td>Shots</td><td>15</td><td>10</td></tr>\n",
       "      <tr><td>SOT</td><td>5</td><td>4</td></tr>\n",
       "      \n",
       "    </table>\n",
       "    </div>\n",
       "<div style=\"display:inline-block; margin-right:2em;\">\n",
       "    <table>\n",
       "      <tr><th></th><th>Home</th><th>Away</th></tr>\n",
       "      <tr><td>Team</td><td>Southampton</td><td>Chelsea</td></tr>\n",
       "      <tr><td>Goals</td><td>1</td><td>2</td></tr>\n",
       "      <tr><td>Shots</td><td>7</td><td>16</td></tr>\n",
       "      <tr><td>SOT</td><td>2</td><td>4</td></tr>\n",
       "      \n",
       "    </table>\n",
       "    </div>\n",
       "<div style=\"display:inline-block; margin-right:2em;\">\n",
       "    <table>\n",
       "      <tr><th></th><th>Home</th><th>Away</th></tr>\n",
       "      <tr><td>Team</td><td>Norwich</td><td>Chelsea</td></tr>\n",
       "      <tr><td>Goals</td><td>1</td><td>2</td></tr>\n",
       "      <tr><td>Shots</td><td>13</td><td>10</td></tr>\n",
       "      <tr><td>SOT</td><td>2</td><td>2</td></tr>\n",
       "      \n",
       "    </table>\n",
       "    </div>"
      ],
      "text/plain": [
       "<IPython.core.display.HTML object>"
      ]
     },
     "metadata": {},
     "output_type": "display_data"
    }
   ],
   "source": [
    "def chelsea_win(game):\n",
    "    if game.HomeTeam == 'Chelsea':\n",
    "        return game.FTHG > game.FTAG\n",
    "    else:\n",
    "        assert game.AwayTeam == 'Chelsea'\n",
    "        return game.FTAG > game.FTHG\n",
    "league_analysis.display_given_matches(g for g in epl.team_stats['Chelsea'].games[-14:] if chelsea_win(g))"
   ]
  },
  {
   "cell_type": "markdown",
   "metadata": {},
   "source": [
    "This is why if we look at the form over the past 10 games, Chelsea are good, but Tottenham are better and Leicester have scored more points."
   ]
  },
  {
   "cell_type": "code",
   "execution_count": 15,
   "metadata": {
    "collapsed": false
   },
   "outputs": [
    {
     "data": {
      "text/html": [
       "<div style=\"display:inline-block; margin-right:2em;\"><table><tr><th>Position</th> <th>Team</th> <th>Points</th></tr><tr><td>1</td> <td>Tottenham</td> <td>25</td></tr>\n",
       "<tr><td>2</td> <td>Leicester</td> <td>23</td></tr>\n",
       "<tr><td>3</td> <td>Southampton</td> <td>20</td></tr>\n",
       "<tr><td>4</td> <td>Chelsea</td> <td>18</td></tr>\n",
       "<tr><td>-</td> <td>West Ham</td> <td>18</td></tr>\n",
       "<tr><td>6</td> <td>Bournemouth</td> <td>17</td></tr>\n",
       "<tr><td>-</td> <td>Swansea</td> <td>17</td></tr>\n",
       "<tr><td>-</td> <td>Man United</td> <td>17</td></tr>\n",
       "<tr><td>9</td> <td>Stoke</td> <td>14</td></tr>\n",
       "<tr><td>-</td> <td>Liverpool</td> <td>14</td></tr>\n",
       "<tr><td>11</td> <td>Arsenal</td> <td>13</td></tr>\n",
       "<tr><td>-</td> <td>West Brom</td> <td>13</td></tr>\n",
       "<tr><td>13</td> <td>Everton</td> <td>12</td></tr>\n",
       "<tr><td>-</td> <td>Man City</td> <td>12</td></tr>\n",
       "<tr><td>15</td> <td>Sunderland</td> <td>11</td></tr>\n",
       "<tr><td>16</td> <td>Newcastle</td> <td>8</td></tr>\n",
       "<tr><td>-</td> <td>Watford</td> <td>8</td></tr>\n",
       "<tr><td>18</td> <td>Aston Villa</td> <td>5</td></tr>\n",
       "<tr><td>-</td> <td>Norwich</td> <td>5</td></tr>\n",
       "<tr><td>20</td> <td>Crystal Palace</td> <td>2</td></tr></table></div>\n",
       "<div style=\"display:inline-block; margin-right:2em;\"><table><tr><th>Position</th> <th>Team</th> <th>Team Rating</th></tr><tr><td>1</td> <td>Tottenham</td> <td>0.35769122037296497</td></tr>\n",
       "<tr><td>2</td> <td>Man City</td> <td>0.2148074228227645</td></tr>\n",
       "<tr><td>3</td> <td>Liverpool</td> <td>0.14934454714598783</td></tr>\n",
       "<tr><td>4</td> <td>Chelsea</td> <td>0.12769303380864183</td></tr>\n",
       "<tr><td>5</td> <td>Leicester</td> <td>0.1003351268960672</td></tr>\n",
       "<tr><td>6</td> <td>Everton</td> <td>0.06779691954104167</td></tr>\n",
       "<tr><td>7</td> <td>West Ham</td> <td>0.048957310546536896</td></tr>\n",
       "<tr><td>8</td> <td>Bournemouth</td> <td>0.016068563393227375</td></tr>\n",
       "<tr><td>9</td> <td>Arsenal</td> <td>0.015888066604995383</td></tr>\n",
       "<tr><td>10</td> <td>Southampton</td> <td>-0.011874072061767577</td></tr>\n",
       "<tr><td>11</td> <td>Man United</td> <td>-0.05287525405172468</td></tr>\n",
       "<tr><td>12</td> <td>Swansea</td> <td>-0.05837103536890509</td></tr>\n",
       "<tr><td>13</td> <td>Stoke</td> <td>-0.07017369579390914</td></tr>\n",
       "<tr><td>14</td> <td>Sunderland</td> <td>-0.0752421364932708</td></tr>\n",
       "<tr><td>15</td> <td>Newcastle</td> <td>-0.07841208183422443</td></tr>\n",
       "<tr><td>16</td> <td>West Brom</td> <td>-0.15962556306306305</td></tr>\n",
       "<tr><td>17</td> <td>Crystal Palace</td> <td>-0.1634253452739026</td></tr>\n",
       "<tr><td>18</td> <td>Watford</td> <td>-0.17095507433742735</td></tr>\n",
       "<tr><td>19</td> <td>Norwich</td> <td>-0.2018366677906411</td></tr>\n",
       "<tr><td>20</td> <td>Aston Villa</td> <td>-0.27905743894907975</td></tr></table></div>\n",
       "<div style=\"display:inline-block; margin-right:2em;\"><table><tr><th>Position</th> <th>Team</th> <th>PDO</th></tr><tr><td>1</td> <td>Swansea</td> <td>0.1777777777777778</td></tr>\n",
       "<tr><td>2</td> <td>Leicester</td> <td>0.17373737373737375</td></tr>\n",
       "<tr><td>3</td> <td>Southampton</td> <td>0.1718266253869969</td></tr>\n",
       "<tr><td>4</td> <td>West Ham</td> <td>0.1256921373200443</td></tr>\n",
       "<tr><td>5</td> <td>Chelsea</td> <td>0.10425531914893615</td></tr>\n",
       "<tr><td>6</td> <td>Man United</td> <td>0.09477124183006536</td></tr>\n",
       "<tr><td>7</td> <td>West Brom</td> <td>0.09234234234234234</td></tr>\n",
       "<tr><td>8</td> <td>Sunderland</td> <td>0.07751196172248803</td></tr>\n",
       "<tr><td>9</td> <td>Bournemouth</td> <td>0.05128205128205132</td></tr>\n",
       "<tr><td>10</td> <td>Arsenal</td> <td>0.0478723404255319</td></tr>\n",
       "<tr><td>11</td> <td>Everton</td> <td>0.023352361183186288</td></tr>\n",
       "<tr><td>12</td> <td>Watford</td> <td>-0.007692307692307693</td></tr>\n",
       "<tr><td>13</td> <td>Man City</td> <td>-0.012733446519524627</td></tr>\n",
       "<tr><td>14</td> <td>Tottenham</td> <td>-0.026606425702811243</td></tr>\n",
       "<tr><td>15</td> <td>Liverpool</td> <td>-0.028310104529616742</td></tr>\n",
       "<tr><td>16</td> <td>Stoke</td> <td>-0.0892857142857143</td></tr>\n",
       "<tr><td>17</td> <td>Norwich</td> <td>-0.13008130081300817</td></tr>\n",
       "<tr><td>18</td> <td>Crystal Palace</td> <td>-0.18210262828535667</td></tr>\n",
       "<tr><td>19</td> <td>Aston Villa</td> <td>-0.21153846153846154</td></tr>\n",
       "<tr><td>20</td> <td>Newcastle</td> <td>-0.3472222222222222</td></tr></table></div>"
      ],
      "text/plain": [
       "<IPython.core.display.HTML object>"
      ]
     },
     "metadata": {},
     "output_type": "display_data"
    }
   ],
   "source": [
    "stats = league_analysis.last_x_game_stats(epl, 10)\n",
    "display(HTML(league_analysis.header_stat_tables(epl, stats=stats)))"
   ]
  },
  {
   "cell_type": "markdown",
   "metadata": {},
   "source": [
    "# Crystal Palace 0-1 Leicester City\n",
    "\n",
    "A collision of two teams, one currently out-performing their numbers the other currently under-performing their numbers and so it proved in the game. Last week we pointed out that Leicester beat Newcastle with their only shot on target of the game. This week was more even but it's hard not to feel some sympathy for Palace here. Okay so Palace spent quite a bit of this match behind, but still.\n",
    "\n",
    "I really think this will be a fascinating end to the season. On paper I don't think Leicester have enough to finish the season without dropping 5 more points than Tottenham, but I would have made the same prediction about the previous 10 matches as well. Either Leicester really have found a way to beat their numbers, or winning the title will likely require their luck to continue.\n",
    "\n",
    "To be clear, this is Newcastle and Crystal Palace we're talking about here. In the past 10 games they rate 15th and 17th for team rating."
   ]
  },
  {
   "cell_type": "code",
   "execution_count": 16,
   "metadata": {
    "collapsed": false
   },
   "outputs": [
    {
     "data": {
      "text/html": [
       "<table><tr><th>Leicester</th> <th>Tottenham</th></tr><tr><td>Southampton (H)</td> <td>Liverpool (A)</td></tr>\n",
       "<tr><td>Sunderland (A)</td> <td>Man United (H)</td></tr>\n",
       "<tr><td>West Ham (H)</td> <td>Stoke (A)</td></tr>\n",
       "<tr><td>Swansea (H)</td> <td>West Brom (H)</td></tr>\n",
       "<tr><td>Man United (A)</td> <td>Chelsea (A)</td></tr>\n",
       "<tr><td>Everton (H)</td> <td>Southampton (H)</td></tr>\n",
       "<tr><td>Chelsea (A)</td> <td>Newcastle (A)</td></tr></table>"
      ],
      "text/plain": [
       "<IPython.core.display.HTML object>"
      ]
     },
     "metadata": {},
     "output_type": "display_data"
    }
   ],
   "source": [
    "league_analysis.compare_fixtures(epl, ['Leicester', 'Tottenham'])"
   ]
  },
  {
   "cell_type": "markdown",
   "metadata": {},
   "source": [
    "Southampton will be a very tough test for Leicester next week, but Liverpool then Manchester United are pretty tough asks for Tottenham. Final day of the season could be interesting, if Tottenham need to make up 3 points on Leicester, it would be tough to bet against it."
   ]
  },
  {
   "cell_type": "markdown",
   "metadata": {},
   "source": [
    "# Everton 0-2 Arsenal\n",
    "\n",
    "A good away win for Arsenal, far from dominating the game, but somewhat controlled it."
   ]
  },
  {
   "cell_type": "markdown",
   "metadata": {},
   "source": [
    "# Swansea 1-0 Aston Villa\n",
    "\n",
    "At times Villa have been abject, and at times you have had to feel a touch sorry for them. This is reflected in the fact that Villa now have the lowest PDO in the league. However, let's not forget they also have the lowest team rating. They certainly deserve to be relegated, but don't quite deserve to be 9 points adrift."
   ]
  },
  {
   "cell_type": "markdown",
   "metadata": {},
   "source": [
    "# Watford 1-2 Stoke\n",
    "\n",
    "Very good game. Stoke continue to confound analysts. They certainly **seem** like a better team than their 14th ranked team rating suggests. Will be interesting to see if they can remain in the top half of the league. It's hard to see them surpassing any of the teams above them, unless perhaps West Ham crumble. But Chelsea and Liverpool are hot on their tails. That would still keep Stoke in 10th, and the others are probably just a bit too far back. So I predict 10th for Stoke."
   ]
  },
  {
   "cell_type": "markdown",
   "metadata": {},
   "source": [
    "# West Brom 0-1 Norwich\n",
    "\n",
    "Norwich certainly needed that. One of those games that neither team particularly deserved to win, with just a single shot on target all game, in total."
   ]
  },
  {
   "cell_type": "markdown",
   "metadata": {},
   "source": [
    "# Manchester City 0-1 Manchester United\n",
    "\n",
    "Any hope of the title is surely gone now for Manchester City and they turn their attention more to the prospect of missing out on the Champions' League next season. They were certainly a bit unlucky to have lost this, in a similar way to failing to win at Norwich last week. In both games though, despite creating a lot of chances, they have not actually achieved many shots on target. Still, 26 shots is a fairly incredible number, here are the games this season in which a team has taken 26 or more shots and failed to win:"
   ]
  },
  {
   "cell_type": "code",
   "execution_count": 17,
   "metadata": {
    "collapsed": false
   },
   "outputs": [
    {
     "data": {
      "text/html": [
       "<div style=\"display:inline-block; margin-right:2em;\">\n",
       "    <table>\n",
       "      <tr><th></th><th>Home</th><th>Away</th></tr>\n",
       "      <tr><td>Team</td><td>Chelsea</td><td>Crystal Palace</td></tr>\n",
       "      <tr><td>Goals</td><td>1</td><td>2</td></tr>\n",
       "      <tr><td>Shots</td><td>26</td><td>13</td></tr>\n",
       "      <tr><td>SOT</td><td>9</td><td>6</td></tr>\n",
       "      \n",
       "    </table>\n",
       "    </div>\n",
       "<div style=\"display:inline-block; margin-right:2em;\">\n",
       "    <table>\n",
       "      <tr><th></th><th>Home</th><th>Away</th></tr>\n",
       "      <tr><td>Team</td><td>Man City</td><td>West Ham</td></tr>\n",
       "      <tr><td>Goals</td><td>1</td><td>2</td></tr>\n",
       "      <tr><td>Shots</td><td>27</td><td>6</td></tr>\n",
       "      <tr><td>SOT</td><td>8</td><td>3</td></tr>\n",
       "      \n",
       "    </table>\n",
       "    </div>\n",
       "<div style=\"display:inline-block; margin-right:2em;\">\n",
       "    <table>\n",
       "      <tr><th></th><th>Home</th><th>Away</th></tr>\n",
       "      <tr><td>Team</td><td>Southampton</td><td>Leicester</td></tr>\n",
       "      <tr><td>Goals</td><td>2</td><td>2</td></tr>\n",
       "      <tr><td>Shots</td><td>14</td><td>26</td></tr>\n",
       "      <tr><td>SOT</td><td>6</td><td>7</td></tr>\n",
       "      \n",
       "    </table>\n",
       "    </div>\n",
       "<div style=\"display:inline-block; margin-right:2em;\">\n",
       "    <table>\n",
       "      <tr><th></th><th>Home</th><th>Away</th></tr>\n",
       "      <tr><td>Team</td><td>Liverpool</td><td>West Brom</td></tr>\n",
       "      <tr><td>Goals</td><td>2</td><td>2</td></tr>\n",
       "      <tr><td>Shots</td><td>28</td><td>4</td></tr>\n",
       "      <tr><td>SOT</td><td>8</td><td>2</td></tr>\n",
       "      \n",
       "    </table>\n",
       "    </div>\n",
       "<div style=\"display:inline-block; margin-right:2em;\">\n",
       "    <table>\n",
       "      <tr><th></th><th>Home</th><th>Away</th></tr>\n",
       "      <tr><td>Team</td><td>Stoke</td><td>Crystal Palace</td></tr>\n",
       "      <tr><td>Goals</td><td>1</td><td>2</td></tr>\n",
       "      <tr><td>Shots</td><td>26</td><td>12</td></tr>\n",
       "      <tr><td>SOT</td><td>5</td><td>3</td></tr>\n",
       "      \n",
       "    </table>\n",
       "    </div>\n",
       "<div style=\"display:inline-block; margin-right:2em;\">\n",
       "    <table>\n",
       "      <tr><th></th><th>Home</th><th>Away</th></tr>\n",
       "      <tr><td>Team</td><td>Everton</td><td>West Brom</td></tr>\n",
       "      <tr><td>Goals</td><td>0</td><td>1</td></tr>\n",
       "      <tr><td>Shots</td><td>34</td><td>5</td></tr>\n",
       "      <tr><td>SOT</td><td>6</td><td>1</td></tr>\n",
       "      \n",
       "    </table>\n",
       "    </div>\n",
       "<div style=\"display:inline-block; margin-right:2em;\">\n",
       "    <table>\n",
       "      <tr><th></th><th>Home</th><th>Away</th></tr>\n",
       "      <tr><td>Team</td><td>Tottenham</td><td>Arsenal</td></tr>\n",
       "      <tr><td>Goals</td><td>2</td><td>2</td></tr>\n",
       "      <tr><td>Shots</td><td>26</td><td>10</td></tr>\n",
       "      <tr><td>SOT</td><td>11</td><td>4</td></tr>\n",
       "      \n",
       "    </table>\n",
       "    </div>\n",
       "<div style=\"display:inline-block; margin-right:2em;\">\n",
       "    <table>\n",
       "      <tr><th></th><th>Home</th><th>Away</th></tr>\n",
       "      <tr><td>Team</td><td>Man City</td><td>Man United</td></tr>\n",
       "      <tr><td>Goals</td><td>0</td><td>1</td></tr>\n",
       "      <tr><td>Shots</td><td>26</td><td>5</td></tr>\n",
       "      <tr><td>SOT</td><td>2</td><td>3</td></tr>\n",
       "      \n",
       "    </table>\n",
       "    </div>"
      ],
      "text/plain": [
       "<IPython.core.display.HTML object>"
      ]
     },
     "metadata": {},
     "output_type": "display_data"
    }
   ],
   "source": [
    "def high_shooting_losers(game):\n",
    "    return (game.HS >= 26 and game.FTHG <= game.FTAG) or (game.AS >= 26 and game.FTAG <= game.FTHG)\n",
    "league_analysis.display_given_matches(g for g in epl.matches if high_shooting_losers(g))"
   ]
  },
  {
   "cell_type": "markdown",
   "metadata": {},
   "source": [
    "Just 8 games. Of those, strangely 5 of them were loses, this probably reflects the stronger team being behind and throwing more caution to the wind as the game progresses. Note, in only one of these games has the high shooting team failed to even score. Can the red Manchesters beat out the sky blue Manchesters to the 4th Champions' League spot?"
   ]
  },
  {
   "cell_type": "code",
   "execution_count": 18,
   "metadata": {
    "collapsed": false
   },
   "outputs": [
    {
     "data": {
      "text/html": [
       "<table><tr><th>Man United</th> <th>Man City</th> <th>Arsenal</th></tr><tr><td>Everton (H)</td> <td>Bournemouth (A)</td> <td>Watford (H)</td></tr>\n",
       "<tr><td>Tottenham (A)</td> <td>West Brom (H)</td> <td>West Ham (A)</td></tr>\n",
       "<tr><td>Aston Villa (H)</td> <td>Chelsea (A)</td> <td>Crystal Palace (H)</td></tr>\n",
       "<tr><td>Crystal Palace (H)</td> <td>Newcastle (A)</td> <td>West Brom (H)</td></tr>\n",
       "<tr><td>Leicester (H)</td> <td>Stoke (H)</td> <td>Sunderland (A)</td></tr>\n",
       "<tr><td>Norwich (A)</td> <td>Southampton (A)</td> <td>Norwich (H)</td></tr>\n",
       "<tr><td>West Ham (A)</td> <td>Arsenal (H)</td> <td>Man City (A)</td></tr>\n",
       "<tr><td>Bournemouth (H)</td> <td>Swansea (A)</td> <td>Aston Villa (H)</td></tr></table>"
      ],
      "text/plain": [
       "<IPython.core.display.HTML object>"
      ]
     },
     "metadata": {},
     "output_type": "display_data"
    }
   ],
   "source": [
    "league_analysis.compare_fixtures(epl, ['Man United', 'Man City', 'Arsenal'])"
   ]
  },
  {
   "cell_type": "markdown",
   "metadata": {},
   "source": [
    "A couple of tricky games in the offing for Manchester United, but City will be wary of the Arsenal game in the penultimate match of the season. Saying that, Arsenal may well be wary of just that match themselves. Manchester City have a game in hand on Arsenal and in the last ten games Arsenal have a team rating ranked only 9th whereas City are ranked second. Fortunately for Arsenal, Manchester United are ranked even worse at 11th. My prediction, City, Arsenal, United."
   ]
  },
  {
   "cell_type": "markdown",
   "metadata": {},
   "source": [
    "# Newcastle 1-1 Sunderland\n",
    "\n",
    "Newcastle probably deserved a win here and that is somewhat emblematic of their season since the January transfer window. They are quite clearly showing improved form, but not getting much return from it. Wins for both Norwich and Swansea must have increased tension in the North East. However, as we have noted before, Swansea have a quite trecherous final four games to navigate, and Stoke, and then Chelsea, next don't look overly inviting either. Swansea now have 36 points, they may well have to hope that that is enough. Can Newcastle pick up 11 points? It's certainly possible, they will be looking for 6 points in their final two matches.\n",
    "\n",
    "Can Crystal Palace survive? They have a bit of a better run-in than Swansea, but their current form is pretty bad. If I had to bet I'd say Norwich aren't looking good and one of Newcastle and Sunderland, probably seperated by a point or even goal difference."
   ]
  },
  {
   "cell_type": "code",
   "execution_count": 21,
   "metadata": {
    "collapsed": false
   },
   "outputs": [
    {
     "data": {
      "text/html": [
       "<table><tr><th>Newcastle</th> <th>Sunderland</th> <th>Norwich</th> <th>Crystal Palace</th> <th>Swansea</th></tr><tr><td>Norwich (A)</td> <td>West Brom (H)</td> <td>Newcastle (H)</td> <td>West Ham (A)</td> <td>Stoke (A)</td></tr>\n",
       "<tr><td>Southampton (A)</td> <td>Leicester (H)</td> <td>Crystal Palace (A)</td> <td>Norwich (H)</td> <td>Chelsea (H)</td></tr>\n",
       "<tr><td>Swansea (H)</td> <td>Norwich (A)</td> <td>Sunderland (H)</td> <td>Arsenal (A)</td> <td>Newcastle (A)</td></tr>\n",
       "<tr><td>Man City (H)</td> <td>Arsenal (H)</td> <td>Arsenal (A)</td> <td>Man United (A)</td> <td>Leicester (A)</td></tr>\n",
       "<tr><td>Liverpool (A)</td> <td>Stoke (A)</td> <td>Man United (H)</td> <td>Everton (H)</td> <td>Liverpool (H)</td></tr>\n",
       "<tr><td>Crystal Palace (H)</td> <td>Chelsea (H)</td> <td>Watford (H)</td> <td>Newcastle (A)</td> <td>West Ham (A)</td></tr>\n",
       "<tr><td>Aston Villa (A)</td> <td>Everton (H)</td> <td>Everton (A)</td> <td>Stoke (H)</td> <td>Man City (H)</td></tr></table>"
      ],
      "text/plain": [
       "<IPython.core.display.HTML object>"
      ]
     },
     "metadata": {},
     "output_type": "display_data"
    }
   ],
   "source": [
    "league_analysis.compare_fixtures(epl, ['Newcastle', 'Sunderland', 'Norwich', 'Crystal Palace', 'Swansea'])"
   ]
  },
  {
   "cell_type": "markdown",
   "metadata": {},
   "source": [
    "# Southampton 3-2 Liverpool\n",
    "\n",
    "Wow, an incredible game. Not the first time we've said that about a Liverpool game this season. Liverpool should be higher up the league, and doing so with entertaining football. Things look pretty good for Liverpool for next season, and also for Southampton, if with perhaps slightly lower expectations."
   ]
  },
  {
   "cell_type": "markdown",
   "metadata": {},
   "source": [
    "# Tottenham 3-0 Bournemouth\n",
    "\n",
    "Bournemouth are generally a decent team and deserve to be in the league for next season (which they almost certainly will be). But Tottenham are a *great* team. When a great team gets in front early on, it can be difficult to make things happen for their opposition, and Bournemouth just did not have that in them. A team rating of greater than 0.3 for the last ten games means Tottenham are now top overall for team rating. Both very good number for Tottenham, and they should go on and win the league. There, I said it. Tottenham should win the league and Leicester should be second."
   ]
  },
  {
   "cell_type": "markdown",
   "metadata": {},
   "source": [
    "Thanks for reading."
   ]
  }
 ],
 "metadata": {
  "kernelspec": {
   "display_name": "Python 3",
   "language": "python",
   "name": "python3"
  },
  "language_info": {
   "codemirror_mode": {
    "name": "ipython",
    "version": 3
   },
   "file_extension": ".py",
   "mimetype": "text/x-python",
   "name": "python",
   "nbconvert_exporter": "python",
   "pygments_lexer": "ipython3",
   "version": "3.4.3"
  },
  "nikola": {
   "category": "",
   "date": "2016-03-22 11:21:17 UTC",
   "description": "",
   "link": "",
   "slug": "epl-19-20th-march-2016",
   "tags": "",
   "title": "EPL 19-20th March 2016",
   "type": "text"
  }
 },
 "nbformat": 4,
 "nbformat_minor": 0
}
