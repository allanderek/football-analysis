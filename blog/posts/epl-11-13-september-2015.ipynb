{
 "metadata": {
  "nikola": {
   "category": "",
   "date": "2015-09-14 13:57:19 UTC+01:00",
   "description": "",
   "link": "",
   "slug": "epl-11-13-september-2015",
   "tags": "",
   "title": "EPL 11-13 September 2015",
   "type": "text"
  },
  "signature": "sha256:21de25eb5ddc0bd89f43638a673881070e5f2a00b9f62f54753ffb9c6f5653a6"
 },
 "nbformat": 3,
 "nbformat_minor": 0,
 "worksheets": [
  {
   "cells": [
    {
     "cell_type": "markdown",
     "metadata": {},
     "source": [
      "# EPL 11-13th September 2015\n",
      "\n",
      "Another weekend in the EPL, let's look at the basic statistics for all the games:"
     ]
    },
    {
     "cell_type": "code",
     "collapsed": false,
     "input": [
      "%matplotlib inline\n",
      "import league_analysis\n",
      "from IPython.display import display, HTML\n",
      "epl = league_analysis.epl\n",
      "league_analysis.display_matches(epl, '12/09/15', '14/09/15')"
     ],
     "language": "python",
     "metadata": {},
     "outputs": [
      {
       "html": [
        "<div style=\"display:inline-block;\">\n",
        "    <table>\n",
        "      <tr><th></th><th>Home</th><th>Away</th></tr>\n",
        "      <tr><td>Team</td><td>Arsenal</td><td>Stoke</td></tr>\n",
        "      <tr><td>Goals</td><td>2</td><td>0</td></tr>\n",
        "      <tr><td>Shots</td><td>29</td><td>9</td></tr>\n",
        "      <tr><td>SOT</td><td>12</td><td>4</td></tr>\n",
        "      \n",
        "    </table>\n",
        "    </div>\n",
        "<div style=\"display:inline-block;\">\n",
        "    <table>\n",
        "      <tr><th></th><th>Home</th><th>Away</th></tr>\n",
        "      <tr><td>Team</td><td>Crystal Palace</td><td>Man City</td></tr>\n",
        "      <tr><td>Goals</td><td>0</td><td>1</td></tr>\n",
        "      <tr><td>Shots</td><td>10</td><td>21</td></tr>\n",
        "      <tr><td>SOT</td><td>2</td><td>7</td></tr>\n",
        "      \n",
        "    </table>\n",
        "    </div>\n",
        "<div style=\"display:inline-block;\">\n",
        "    <table>\n",
        "      <tr><th></th><th>Home</th><th>Away</th></tr>\n",
        "      <tr><td>Team</td><td>Everton</td><td>Chelsea</td></tr>\n",
        "      <tr><td>Goals</td><td>3</td><td>1</td></tr>\n",
        "      <tr><td>Shots</td><td>14</td><td>15</td></tr>\n",
        "      <tr><td>SOT</td><td>9</td><td>2</td></tr>\n",
        "      \n",
        "    </table>\n",
        "    </div>\n",
        "<div style=\"display:inline-block;\">\n",
        "    <table>\n",
        "      <tr><th></th><th>Home</th><th>Away</th></tr>\n",
        "      <tr><td>Team</td><td>Man United</td><td>Liverpool</td></tr>\n",
        "      <tr><td>Goals</td><td>3</td><td>1</td></tr>\n",
        "      <tr><td>Shots</td><td>9</td><td>8</td></tr>\n",
        "      <tr><td>SOT</td><td>3</td><td>4</td></tr>\n",
        "      \n",
        "    </table>\n",
        "    </div>\n",
        "<div style=\"display:inline-block;\">\n",
        "    <table>\n",
        "      <tr><th></th><th>Home</th><th>Away</th></tr>\n",
        "      <tr><td>Team</td><td>Norwich</td><td>Bournemouth</td></tr>\n",
        "      <tr><td>Goals</td><td>3</td><td>1</td></tr>\n",
        "      <tr><td>Shots</td><td>12</td><td>7</td></tr>\n",
        "      <tr><td>SOT</td><td>4</td><td>2</td></tr>\n",
        "      \n",
        "    </table>\n",
        "    </div>\n",
        "<div style=\"display:inline-block;\">\n",
        "    <table>\n",
        "      <tr><th></th><th>Home</th><th>Away</th></tr>\n",
        "      <tr><td>Team</td><td>Watford</td><td>Swansea</td></tr>\n",
        "      <tr><td>Goals</td><td>1</td><td>0</td></tr>\n",
        "      <tr><td>Shots</td><td>17</td><td>8</td></tr>\n",
        "      <tr><td>SOT</td><td>6</td><td>3</td></tr>\n",
        "      \n",
        "    </table>\n",
        "    </div>\n",
        "<div style=\"display:inline-block;\">\n",
        "    <table>\n",
        "      <tr><th></th><th>Home</th><th>Away</th></tr>\n",
        "      <tr><td>Team</td><td>West Brom</td><td>Southampton</td></tr>\n",
        "      <tr><td>Goals</td><td>0</td><td>0</td></tr>\n",
        "      <tr><td>Shots</td><td>8</td><td>14</td></tr>\n",
        "      <tr><td>SOT</td><td>1</td><td>4</td></tr>\n",
        "      \n",
        "    </table>\n",
        "    </div>\n",
        "<div style=\"display:inline-block;\">\n",
        "    <table>\n",
        "      <tr><th></th><th>Home</th><th>Away</th></tr>\n",
        "      <tr><td>Team</td><td>Leicester</td><td>Aston Villa</td></tr>\n",
        "      <tr><td>Goals</td><td>3</td><td>2</td></tr>\n",
        "      <tr><td>Shots</td><td>21</td><td>11</td></tr>\n",
        "      <tr><td>SOT</td><td>6</td><td>4</td></tr>\n",
        "      \n",
        "    </table>\n",
        "    </div>\n",
        "<div style=\"display:inline-block;\">\n",
        "    <table>\n",
        "      <tr><th></th><th>Home</th><th>Away</th></tr>\n",
        "      <tr><td>Team</td><td>Sunderland</td><td>Tottenham</td></tr>\n",
        "      <tr><td>Goals</td><td>0</td><td>1</td></tr>\n",
        "      <tr><td>Shots</td><td>12</td><td>15</td></tr>\n",
        "      <tr><td>SOT</td><td>2</td><td>4</td></tr>\n",
        "      \n",
        "    </table>\n",
        "    </div>\n",
        "<div style=\"display:inline-block;\">\n",
        "    <table>\n",
        "      <tr><th></th><th>Home</th><th>Away</th></tr>\n",
        "      <tr><td>Team</td><td>West Ham</td><td>Newcastle</td></tr>\n",
        "      <tr><td>Goals</td><td>2</td><td>0</td></tr>\n",
        "      <tr><td>Shots</td><td>17</td><td>14</td></tr>\n",
        "      <tr><td>SOT</td><td>3</td><td>4</td></tr>\n",
        "      \n",
        "    </table>\n",
        "    </div>"
       ],
       "metadata": {},
       "output_type": "display_data",
       "text": [
        "<IPython.core.display.HTML at 0x7f44f8267438>"
       ]
      }
     ],
     "prompt_number": 1
    },
    {
     "cell_type": "markdown",
     "metadata": {},
     "source": [
      "# Everton 3-1 Chelsea\n",
      "\n",
      "Chelsea are not having a great start to the season. As others have [pointed out](http://statsbomb.com/2015/09/what-the-hell-chelsea-premier-league-stat-round-up/) this is not a case of having underlying performance and getting a bunch of unlucky results. The performance for Chelsea simply is not there. In this case they have a respectable number of shots at goal, in fact out-shooting their hosts 14-15, but it is the shots on target that reveals that the score line was anything but a fluke. Everton had 9 shots on target to Chelsea's 2. If we take the [average number of shots on target per goal in the premier league](http://allanderek.github.io/football-analysis/posts/shots-per-goal/) and multiply by 9 vs 2 we get an average score line of 2.54 vs 0.57, so 3-1 is perfectly fair scoreline given those shots on targets. I still expect Chelsea to somewhat improve, but they will have to improve their performances rather than just allow luck to regress to the mean.\n",
      "\n",
      "<!-- TEASER_END -->"
     ]
    },
    {
     "cell_type": "markdown",
     "metadata": {},
     "source": [
      "# Arsenal, Watford, Leicester, Norwich, Man City, and Tottenham\n",
      "\n",
      "Convincing victories (for varying definitions of the word 'convincing') for Arsenal, Watford, Leicester, Norwich and Tottenham. Generally indicating that they were worthy winners."
     ]
    },
    {
     "cell_type": "markdown",
     "metadata": {},
     "source": [
      "# Southampton 0-0 West Brom\n",
      "\n",
      "Southampton can consider themselves a tad unfortunate not to have scored a winner for a very valuable away victory. The total number of shots shows some dominance and the fact that they had 4 shots on target suggests that they weren't simply shooting on sight of goal."
     ]
    },
    {
     "cell_type": "markdown",
     "metadata": {},
     "source": [
      "# Manchester United 3-1 Liverpool\n",
      "\n",
      "Manchester United continue to over-perform their statistics. For Man United, it does have the feel of a an over-performance with some real underlying strength, rather than simply riding their luck. To have scored with all 3 shots on target (one of which was a penalty) would generally leave the opposition feeling a little hard done by. But few who actually watched the game would consider the Liverpool side really worthy of even a draw. In short, Manchester United are becoming an interesting team to watch."
     ]
    },
    {
     "cell_type": "markdown",
     "metadata": {},
     "source": [
      "# West Ham 2-0 Newcastle\n",
      "\n",
      "Which leaves us with West Ham's win over Newcastle. Again, Newcastle could feel a touch aggrieved not to have garnered a draw here. In general West Ham are over-performing. Scoring with 2 out of their 3 shots on target is a very good return. I somehow suspect that West Ham will begin reverting somewhat. But on the positive side, they out-shot their opponents with a healthy 17 shots, albeit conceding 17."
     ]
    }
   ],
   "metadata": {}
  }
 ]
}