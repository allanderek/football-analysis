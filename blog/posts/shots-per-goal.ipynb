{
 "metadata": {
  "nikola": {
   "category": "",
   "date": "2015-08-26 14:01:53 UTC+01:00",
   "description": "",
   "link": "",
   "slug": "shots-per-goal",
   "tags": "",
   "title": "Shots Per Goal",
   "type": "text"
  },
  "signature": "sha256:b8019caa9d060cc7328754796ec64331270459ceea84030dc0a7e0bb16e87e13"
 },
 "nbformat": 3,
 "nbformat_minor": 0,
 "worksheets": [
  {
   "cells": [
    {
     "cell_type": "markdown",
     "metadata": {},
     "source": [
      "# Shots Per Goal\n",
      "\n",
      "A very quick post which explores the average number of shots and shots on target it takes in order to score a goal. If we assume that shots and shots on target are a better indicator of skill than the number of goals, then we can get an idea of what the score *should* have been for any given game. Of course this simple analysis ignores score effects which are almost certainly prevalent."
     ]
    },
    {
     "cell_type": "code",
     "collapsed": false,
     "input": [
      "import league_analysis\n",
      "from IPython.display import display, HTML"
     ],
     "language": "python",
     "metadata": {},
     "outputs": [],
     "prompt_number": 1
    },
    {
     "cell_type": "markdown",
     "metadata": {},
     "source": [
      "The following tables then show for each year the number of shots divided by the number of goals for each of the 5 leagues we are examining and the average across all 5 leagues. We then get an overall picture for all years, firstly for each league individually and then in the final row of the final table we have the overall picture which includes all the matches we have data for.\n",
      "\n",
      "In addition, we do the same analyses, but only for all home shots/goals and all away shots/goals, since it may be that there is a difference in the number of shots taken for each goal by home and away teams.\n",
      "\n",
      "<!-- TEASER_END -->"
     ]
    },
    {
     "cell_type": "code",
     "collapsed": false,
     "input": [
      "for year in league_analysis.all_years:\n",
      "    display(HTML('<h3>{0}</h3>'.format(year.year_name)))\n",
      "    league_analysis.display_shots_per_goal_info(years=[year])\n",
      "display(HTML('<h3>All Years</h3>'))\n",
      "league_analysis.display_shots_per_goal_info()"
     ],
     "language": "python",
     "metadata": {},
     "outputs": [
      {
       "html": [
        "<h3>1011</h3>"
       ],
       "metadata": {},
       "output_type": "display_data",
       "text": [
        "<IPython.core.display.HTML at 0x7f2deca05470>"
       ]
      },
      {
       "html": [
        "<table><tr><th>league</th> <th>shots per goal</th> <th>sot per goal</th> <th>home spg</th> <th>home sotpg</th> <th>away spg</th> <th>away sotpg</th></tr><tr><td>epl</td> <td>8.888993414863593</td> <td>4.866415804327375</td> <td>8.500810372771475</td> <td>4.716369529983792</td> <td>9.426008968609866</td> <td>5.073991031390134</td></tr>\n",
        "<tr><td>ech</td> <td>8.309271523178808</td> <td>4.354304635761589</td> <td>8.333333333333334</td> <td>4.322695035460993</td> <td>8.278614457831326</td> <td>4.394578313253012</td></tr>\n",
        "<tr><td>elo</td> <td>7.581842279655401</td> <td>3.841616964877402</td> <td>7.535329341317365</td> <td>3.7904191616766467</td> <td>7.63946587537092</td> <td>3.9050445103857565</td></tr>\n",
        "<tr><td>elt</td> <td>7.347941567065073</td> <td>3.4156706507304118</td> <td>7.307317073170732</td> <td>3.4414634146341463</td> <td>7.396501457725948</td> <td>3.3848396501457727</td></tr>\n",
        "<tr><td>spl</td> <td>7.082191780821918</td> <td>3.565068493150685</td> <td>7.0476190476190474</td> <td>3.5238095238095237</td> <td>7.122676579925651</td> <td>3.613382899628253</td></tr>\n",
        "<tr><td>Overall</td> <td>7.880589760207388</td> <td>4.013447828904731</td> <td>7.806291872997378</td> <td>3.9801922516749197</td> <td>7.973713033953998</td> <td>4.055129609346477</td></tr></table>"
       ],
       "metadata": {},
       "output_type": "display_data",
       "text": [
        "<IPython.core.display.HTML at 0x7f2e0a43b7b8>"
       ]
      },
      {
       "html": [
        "<h3>1112</h3>"
       ],
       "metadata": {},
       "output_type": "display_data",
       "text": [
        "<IPython.core.display.HTML at 0x7f2e0a43b7b8>"
       ]
      },
      {
       "html": [
        "<table><tr><th>league</th> <th>shots per goal</th> <th>sot per goal</th> <th>home spg</th> <th>home sotpg</th> <th>away spg</th> <th>away sotpg</th></tr><tr><td>epl</td> <td>9.25703564727955</td> <td>5.230769230769231</td> <td>9.144039735099337</td> <td>5.155629139072848</td> <td>9.404761904761905</td> <td>5.329004329004329</td></tr>\n",
        "<tr><td>ech</td> <td>8.621564482029598</td> <td>4.456659619450317</td> <td>8.654241645244216</td> <td>4.482005141388175</td> <td>8.581903276131046</td> <td>4.425897035881436</td></tr>\n",
        "<tr><td>elo</td> <td>7.751511081262592</td> <td>3.9079919408999326</td> <td>7.807361963190184</td> <td>3.939877300613497</td> <td>7.683976261127596</td> <td>3.8694362017804154</td></tr>\n",
        "<tr><td>elt</td> <td>8.017146776406035</td> <td>3.993141289437586</td> <td>7.898765432098766</td> <td>3.9592592592592593</td> <td>8.165123456790123</td> <td>4.035493827160494</td></tr>\n",
        "<tr><td>spl</td> <td>6.846921797004992</td> <td>3.5041597337770383</td> <td>7.111111111111111</td> <td>3.6126984126984127</td> <td>6.555944055944056</td> <td>3.3846153846153846</td></tr>\n",
        "<tr><td>Overall</td> <td>8.196253936681584</td> <td>4.2511188463451015</td> <td>8.2049969897652</td> <td>4.26158940397351</td> <td>8.18554039099963</td> <td>4.238288454444854</td></tr></table>"
       ],
       "metadata": {},
       "output_type": "display_data",
       "text": [
        "<IPython.core.display.HTML at 0x7f2e0a43b7b8>"
       ]
      },
      {
       "html": [
        "<h3>1213</h3>"
       ],
       "metadata": {},
       "output_type": "display_data",
       "text": [
        "<IPython.core.display.HTML at 0x7f2e0a43b7b8>"
       ]
      },
      {
       "html": [
        "<table><tr><th>league</th> <th>shots per goal</th> <th>sot per goal</th> <th>home spg</th> <th>home sotpg</th> <th>away spg</th> <th>away sotpg</th></tr><tr><td>epl</td> <td>8.985888993414864</td> <td>5.089369708372531</td> <td>9.065878378378379</td> <td>5.108108108108108</td> <td>8.885350318471337</td> <td>5.065817409766455</td></tr>\n",
        "<tr><td>ech</td> <td>7.918340026773762</td> <td>4.136546184738956</td> <td>7.941105769230769</td> <td>4.150240384615385</td> <td>7.889728096676738</td> <td>4.119335347432024</td></tr>\n",
        "<tr><td>elo</td> <td>8.539136795903438</td> <td>4.286027798098025</td> <td>8.547169811320755</td> <td>4.30188679245283</td> <td>8.5296</td> <td>4.2672</td></tr>\n",
        "<tr><td>elt</td> <td>7.874204946996467</td> <td>3.963957597173145</td> <td>7.951219512195122</td> <td>3.9653401797175865</td> <td>7.779874213836478</td> <td>3.9622641509433962</td></tr>\n",
        "<tr><td>spl</td> <td>7.016051364365971</td> <td>3.524879614767255</td> <td>7.2373887240356085</td> <td>3.599406528189911</td> <td>6.755244755244755</td> <td>3.437062937062937</td></tr>\n",
        "<tr><td>Overall</td> <td>8.146259644414625</td> <td>4.2358269037235825</td> <td>8.211151736745887</td> <td>4.256855575868373</td> <td>8.066791044776119</td> <td>4.210074626865672</td></tr></table>"
       ],
       "metadata": {},
       "output_type": "display_data",
       "text": [
        "<IPython.core.display.HTML at 0x7f2e0a43b7b8>"
       ]
      },
      {
       "html": [
        "<h3>1314</h3>"
       ],
       "metadata": {},
       "output_type": "display_data",
       "text": [
        "<IPython.core.display.HTML at 0x7f2e0a43b7b8>"
       ]
      },
      {
       "html": [
        "<table><tr><th>league</th> <th>shots per goal</th> <th>sot per goal</th> <th>home spg</th> <th>home sotpg</th> <th>away spg</th> <th>away sotpg</th></tr><tr><td>epl</td> <td>9.709125475285171</td> <td>3.223384030418251</td> <td>9.503344481605351</td> <td>3.20066889632107</td> <td>9.980176211453745</td> <td>3.253303964757709</td></tr>\n",
        "<tr><td>ech</td> <td>10.129009762900976</td> <td>3.301952580195258</td> <td>10.257250945775535</td> <td>3.3455233291298865</td> <td>9.970358814352574</td> <td>3.2480499219968797</td></tr>\n",
        "<tr><td>elo</td> <td>8.29938900203666</td> <td>3.3380855397148674</td> <td>8.337871287128714</td> <td>3.339108910891089</td> <td>8.25263157894737</td> <td>3.336842105263158</td></tr>\n",
        "<tr><td>elt</td> <td>8.426026336173509</td> <td>3.3446940356312935</td> <td>8.379008746355685</td> <td>3.3411078717201166</td> <td>8.479338842975206</td> <td>3.3487603305785125</td></tr>\n",
        "<tr><td>spl</td> <td>7.520766773162939</td> <td>3.0894568690095845</td> <td>7.417391304347826</td> <td>3.1043478260869564</td> <td>7.647686832740214</td> <td>3.0711743772241995</td></tr>\n",
        "<tr><td>Overall</td> <td>8.943158611300204</td> <td>3.283696392103472</td> <td>8.935294117647059</td> <td>3.290402476780186</td> <td>8.95275888133031</td> <td>3.2755102040816326</td></tr></table>"
       ],
       "metadata": {},
       "output_type": "display_data",
       "text": [
        "<IPython.core.display.HTML at 0x7f2e0a43b7b8>"
       ]
      },
      {
       "html": [
        "<h3>1415</h3>"
       ],
       "metadata": {},
       "output_type": "display_data",
       "text": [
        "<IPython.core.display.HTML at 0x7f2e0a43b7b8>"
       ]
      },
      {
       "html": [
        "<table><tr><th>league</th> <th>shots per goal</th> <th>sot per goal</th> <th>home spg</th> <th>home sotpg</th> <th>away spg</th> <th>away sotpg</th></tr><tr><td>epl</td> <td>10.098461538461539</td> <td>3.275897435897436</td> <td>9.923214285714286</td> <td>3.205357142857143</td> <td>10.334939759036144</td> <td>3.3710843373493975</td></tr>\n",
        "<tr><td>ech</td> <td>10.175033921302578</td> <td>3.289009497964722</td> <td>10.160736196319018</td> <td>3.2625766871165642</td> <td>10.192716236722307</td> <td>3.3216995447647952</td></tr>\n",
        "<tr><td>elo</td> <td>8.15915300546448</td> <td>3.3545081967213113</td> <td>8.38974358974359</td> <td>3.428205128205128</td> <td>7.896198830409356</td> <td>3.27046783625731</td></tr>\n",
        "<tr><td>elt</td> <td>8.502657555049355</td> <td>3.3705391040242976</td> <td>8.248979591836735</td> <td>3.254421768707483</td> <td>8.823024054982818</td> <td>3.5171821305841924</td></tr>\n",
        "<tr><td>spl</td> <td>7.7904599659284495</td> <td>3.340715502555366</td> <td>7.615151515151515</td> <td>3.2848484848484847</td> <td>8.01556420233463</td> <td>3.412451361867704</td></tr>\n",
        "<tr><td>Overall</td> <td>9.035585353274884</td> <td>3.3269726663228467</td> <td>8.993167701863355</td> <td>3.293167701863354</td> <td>9.088178667693493</td> <td>3.3688871775125144</td></tr></table>"
       ],
       "metadata": {},
       "output_type": "display_data",
       "text": [
        "<IPython.core.display.HTML at 0x7f2e0a43b7b8>"
       ]
      },
      {
       "html": [
        "<h3>1516</h3>"
       ],
       "metadata": {},
       "output_type": "display_data",
       "text": [
        "<IPython.core.display.HTML at 0x7f2e0a43b7b8>"
       ]
      },
      {
       "html": [
        "<table><tr><th>league</th> <th>shots per goal</th> <th>sot per goal</th> <th>home spg</th> <th>home sotpg</th> <th>away spg</th> <th>away sotpg</th></tr><tr><td>epl</td> <td>10.404040404040405</td> <td>3.525252525252525</td> <td>12.568181818181818</td> <td>3.7954545454545454</td> <td>8.672727272727272</td> <td>3.309090909090909</td></tr>\n",
        "<tr><td>ech</td> <td>10.673758865248226</td> <td>3.3191489361702127</td> <td>11.86111111111111</td> <td>3.611111111111111</td> <td>9.434782608695652</td> <td>3.0144927536231885</td></tr>\n",
        "<tr><td>elo</td> <td>8.662921348314606</td> <td>3.4831460674157304</td> <td>8.68421052631579</td> <td>3.5052631578947366</td> <td>8.63855421686747</td> <td>3.4578313253012047</td></tr>\n",
        "<tr><td>elt</td> <td>7.9523809523809526</td> <td>3.1746031746031744</td> <td>7.5588235294117645</td> <td>3.019607843137255</td> <td>8.413793103448276</td> <td>3.3563218390804597</td></tr>\n",
        "<tr><td>spl</td> <td>7.204081632653061</td> <td>3.4081632653061225</td> <td>6.980392156862745</td> <td>3.2549019607843137</td> <td>7.446808510638298</td> <td>3.574468085106383</td></tr>\n",
        "<tr><td>Overall</td> <td>8.916312056737588</td> <td>3.3631205673758866</td> <td>9.228021978021978</td> <td>3.39010989010989</td> <td>8.583577712609971</td> <td>3.334310850439883</td></tr></table>"
       ],
       "metadata": {},
       "output_type": "display_data",
       "text": [
        "<IPython.core.display.HTML at 0x7f2e0a43b7b8>"
       ]
      },
      {
       "html": [
        "<h3>All Years</h3>"
       ],
       "metadata": {},
       "output_type": "display_data",
       "text": [
        "<IPython.core.display.HTML at 0x7f2def6f4a20>"
       ]
      },
      {
       "html": [
        "<table><tr><th>league</th> <th>shots per goal</th> <th>sot per goal</th> <th>home spg</th> <th>home sotpg</th> <th>away spg</th> <th>away sotpg</th></tr><tr><td>epl</td> <td>9.394321173373449</td> <td>4.342421963144039</td> <td>9.263018242122719</td> <td>4.286567164179105</td> <td>9.566217976552323</td> <td>4.415544941380808</td></tr>\n",
        "<tr><td>ech</td> <td>9.05232869379015</td> <td>3.89855460385439</td> <td>9.10517408123791</td> <td>3.9093326885880075</td> <td>8.986810551558753</td> <td>3.885191846522782</td></tr>\n",
        "<tr><td>elo</td> <td>8.070588235294117</td> <td>3.7330213903743314</td> <td>8.123435582822086</td> <td>3.7479754601226993</td> <td>8.00734214390602</td> <td>3.7151248164464024</td></tr>\n",
        "<tr><td>elt</td> <td>8.009476031215161</td> <td>3.6137123745819397</td> <td>7.926246185147508</td> <td>3.5885045778229907</td> <td>8.110357583230579</td> <td>3.644266337854501</td></tr>\n",
        "<tr><td>spl</td> <td>7.24879769156781</td> <td>3.402693170888105</td> <td>7.281157708210277</td> <td>3.4152392203189605</td> <td>7.210378681626929</td> <td>3.387798036465638</td></tr>\n",
        "<tr><td>Overall</td> <td>8.442695893996401</td> <td>3.8177981351218713</td> <td>8.437659486083913</td> <td>3.813304848376951</td> <td>8.448884351757329</td> <td>3.823319235817413</td></tr></table>"
       ],
       "metadata": {},
       "output_type": "display_data",
       "text": [
        "<IPython.core.display.HTML at 0x7f2e0a43b7b8>"
       ]
      }
     ],
     "prompt_number": 2
    },
    {
     "cell_type": "markdown",
     "metadata": {},
     "source": [
      "# Conclusion\n",
      "\n",
      "My take from this is that the number of shots/shots on target per goal is not affected by whether the team is playing at home or away. It does seem to be affected by which league the match is taking place in. In particular the higher the league the more shots/sots required per goal. There also seems to be year-on-year differences, but these are smaller.\n",
      "\n",
      "A final note is that it seems to converge pretty quickly after a few matches in a given season. So I think we can safely use the shots/sots per goal from the current season on a per-league basis. We do not need to look at historical data, nor do we need to separate home from away teams."
     ]
    }
   ],
   "metadata": {}
  }
 ]
}