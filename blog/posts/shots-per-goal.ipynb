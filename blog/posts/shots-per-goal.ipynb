{
 "metadata": {
  "nikola": {
   "category": "",
   "date": "2015-08-26 14:01:53 UTC+01:00",
   "description": "",
   "link": "",
   "slug": "shots-per-goal",
   "tags": "",
   "title": "Shots Per Goal",
   "type": "text"
  },
  "signature": "sha256:bd5d5627bba2be3439d14719aed1e076cabfcdb6e1b7016efffc88fd24fabe75"
 },
 "nbformat": 3,
 "nbformat_minor": 0,
 "worksheets": [
  {
   "cells": [
    {
     "cell_type": "markdown",
     "metadata": {},
     "source": [
      "# Shots Per Goal\n",
      "\n",
      "A very quick post which explores the average number of shots and shots on target it takes in order to score a goal. If we assume that shots and shots on target are a better indicator of skill than the number of goals, then we can get an idea of what the score *should* have been for any given game. Of course this simple analysis ignores score effects which are almost certainly prevalent."
     ]
    },
    {
     "cell_type": "code",
     "collapsed": false,
     "input": [
      "import league_analysis\n",
      "from IPython.display import display, HTML"
     ],
     "language": "python",
     "metadata": {},
     "outputs": [],
     "prompt_number": 1
    },
    {
     "cell_type": "markdown",
     "metadata": {},
     "source": [
      "The following tables then show for each year the number of shots divided by the number of goals for each of the 5 leagues we are examining and the average across all 5 leagues. We then get an overall picture for all years, firstly for each league individually and then in the final row of the final table we have the overall picture which includes all the matches we have data for.\n",
      "\n",
      "In addition, we do the same analyses, but only for all home shots/goals and all away shots/goals, since it may be that there is a difference in the number of shots taken for each goal by home and away teams.\n",
      "\n",
      "<!-- TEASER_END -->"
     ]
    },
    {
     "cell_type": "code",
     "collapsed": false,
     "input": [
      "league_analysis.parse_all_data()\n",
      "for year in league_analysis.all_years:\n",
      "    display(HTML('<h3>{0}</h3>'.format(year.year_name)))\n",
      "    league_analysis.display_shots_per_goal_info(years=[year])\n",
      "display(HTML('<h3>All Years</h3>'))\n",
      "league_analysis.display_shots_per_goal_info()"
     ],
     "language": "python",
     "metadata": {},
     "outputs": [
      {
       "html": [
        "<h3>1011</h3>"
       ],
       "metadata": {},
       "output_type": "display_data",
       "text": [
        "<IPython.core.display.HTML at 0x7fe6869a8908>"
       ]
      },
      {
       "html": [
        "<table><tr><th>league</th> <th>shots per goal</th> <th>sot per goal</th> <th>home spg</th> <th>home sotpg</th> <th>away spg</th> <th>away sotpg</th></tr><tr><td>epl</td> <td>8.888993414863593</td> <td>4.866415804327375</td> <td>8.500810372771475</td> <td>4.716369529983792</td> <td>9.426008968609866</td> <td>5.073991031390134</td></tr>\n",
        "<tr><td>ech</td> <td>8.309271523178808</td> <td>4.354304635761589</td> <td>8.333333333333334</td> <td>4.322695035460993</td> <td>8.278614457831326</td> <td>4.394578313253012</td></tr>\n",
        "<tr><td>elo</td> <td>7.581842279655401</td> <td>3.841616964877402</td> <td>7.535329341317365</td> <td>3.7904191616766467</td> <td>7.63946587537092</td> <td>3.9050445103857565</td></tr>\n",
        "<tr><td>elt</td> <td>7.347941567065073</td> <td>3.4156706507304118</td> <td>7.307317073170732</td> <td>3.4414634146341463</td> <td>7.396501457725948</td> <td>3.3848396501457727</td></tr>\n",
        "<tr><td>spl</td> <td>7.082191780821918</td> <td>3.565068493150685</td> <td>7.0476190476190474</td> <td>3.5238095238095237</td> <td>7.122676579925651</td> <td>3.613382899628253</td></tr>\n",
        "<tr><td>Overall</td> <td>7.880589760207388</td> <td>4.013447828904731</td> <td>7.806291872997378</td> <td>3.9801922516749197</td> <td>7.973713033953998</td> <td>4.055129609346477</td></tr></table>"
       ],
       "metadata": {},
       "output_type": "display_data",
       "text": [
        "<IPython.core.display.HTML at 0x7fe6869a8908>"
       ]
      },
      {
       "html": [
        "<h3>1112</h3>"
       ],
       "metadata": {},
       "output_type": "display_data",
       "text": [
        "<IPython.core.display.HTML at 0x7fe6869a8908>"
       ]
      },
      {
       "html": [
        "<table><tr><th>league</th> <th>shots per goal</th> <th>sot per goal</th> <th>home spg</th> <th>home sotpg</th> <th>away spg</th> <th>away sotpg</th></tr><tr><td>epl</td> <td>9.25703564727955</td> <td>5.230769230769231</td> <td>9.144039735099337</td> <td>5.155629139072848</td> <td>9.404761904761905</td> <td>5.329004329004329</td></tr>\n",
        "<tr><td>ech</td> <td>8.621564482029598</td> <td>4.456659619450317</td> <td>8.654241645244216</td> <td>4.482005141388175</td> <td>8.581903276131046</td> <td>4.425897035881436</td></tr>\n",
        "<tr><td>elo</td> <td>7.751511081262592</td> <td>3.9079919408999326</td> <td>7.807361963190184</td> <td>3.939877300613497</td> <td>7.683976261127596</td> <td>3.8694362017804154</td></tr>\n",
        "<tr><td>elt</td> <td>8.017146776406035</td> <td>3.993141289437586</td> <td>7.898765432098766</td> <td>3.9592592592592593</td> <td>8.165123456790123</td> <td>4.035493827160494</td></tr>\n",
        "<tr><td>spl</td> <td>6.846921797004992</td> <td>3.5041597337770383</td> <td>7.111111111111111</td> <td>3.6126984126984127</td> <td>6.555944055944056</td> <td>3.3846153846153846</td></tr>\n",
        "<tr><td>Overall</td> <td>8.196253936681584</td> <td>4.2511188463451015</td> <td>8.2049969897652</td> <td>4.26158940397351</td> <td>8.18554039099963</td> <td>4.238288454444854</td></tr></table>"
       ],
       "metadata": {},
       "output_type": "display_data",
       "text": [
        "<IPython.core.display.HTML at 0x7fe6869a8908>"
       ]
      },
      {
       "html": [
        "<h3>1213</h3>"
       ],
       "metadata": {},
       "output_type": "display_data",
       "text": [
        "<IPython.core.display.HTML at 0x7fe6869a8908>"
       ]
      },
      {
       "html": [
        "<table><tr><th>league</th> <th>shots per goal</th> <th>sot per goal</th> <th>home spg</th> <th>home sotpg</th> <th>away spg</th> <th>away sotpg</th></tr><tr><td>epl</td> <td>8.985888993414864</td> <td>5.089369708372531</td> <td>9.065878378378379</td> <td>5.108108108108108</td> <td>8.885350318471337</td> <td>5.065817409766455</td></tr>\n",
        "<tr><td>ech</td> <td>7.918340026773762</td> <td>4.136546184738956</td> <td>7.941105769230769</td> <td>4.150240384615385</td> <td>7.889728096676738</td> <td>4.119335347432024</td></tr>\n",
        "<tr><td>elo</td> <td>8.539136795903438</td> <td>4.286027798098025</td> <td>8.547169811320755</td> <td>4.30188679245283</td> <td>8.5296</td> <td>4.2672</td></tr>\n",
        "<tr><td>elt</td> <td>7.874204946996467</td> <td>3.963957597173145</td> <td>7.951219512195122</td> <td>3.9653401797175865</td> <td>7.779874213836478</td> <td>3.9622641509433962</td></tr>\n",
        "<tr><td>spl</td> <td>7.016051364365971</td> <td>3.524879614767255</td> <td>7.2373887240356085</td> <td>3.599406528189911</td> <td>6.755244755244755</td> <td>3.437062937062937</td></tr>\n",
        "<tr><td>Overall</td> <td>8.146259644414625</td> <td>4.2358269037235825</td> <td>8.211151736745887</td> <td>4.256855575868373</td> <td>8.066791044776119</td> <td>4.210074626865672</td></tr></table>"
       ],
       "metadata": {},
       "output_type": "display_data",
       "text": [
        "<IPython.core.display.HTML at 0x7fe6869a8908>"
       ]
      },
      {
       "html": [
        "<h3>1314</h3>"
       ],
       "metadata": {},
       "output_type": "display_data",
       "text": [
        "<IPython.core.display.HTML at 0x7fe6869a8908>"
       ]
      },
      {
       "html": [
        "<table><tr><th>league</th> <th>shots per goal</th> <th>sot per goal</th> <th>home spg</th> <th>home sotpg</th> <th>away spg</th> <th>away sotpg</th></tr><tr><td>epl</td> <td>9.709125475285171</td> <td>3.223384030418251</td> <td>9.503344481605351</td> <td>3.20066889632107</td> <td>9.980176211453745</td> <td>3.253303964757709</td></tr>\n",
        "<tr><td>ech</td> <td>10.129009762900976</td> <td>3.301952580195258</td> <td>10.257250945775535</td> <td>3.3455233291298865</td> <td>9.970358814352574</td> <td>3.2480499219968797</td></tr>\n",
        "<tr><td>elo</td> <td>8.29938900203666</td> <td>3.3380855397148674</td> <td>8.337871287128714</td> <td>3.339108910891089</td> <td>8.25263157894737</td> <td>3.336842105263158</td></tr>\n",
        "<tr><td>elt</td> <td>8.426026336173509</td> <td>3.3446940356312935</td> <td>8.379008746355685</td> <td>3.3411078717201166</td> <td>8.479338842975206</td> <td>3.3487603305785125</td></tr>\n",
        "<tr><td>spl</td> <td>7.520766773162939</td> <td>3.0894568690095845</td> <td>7.417391304347826</td> <td>3.1043478260869564</td> <td>7.647686832740214</td> <td>3.0711743772241995</td></tr>\n",
        "<tr><td>Overall</td> <td>8.943158611300204</td> <td>3.283696392103472</td> <td>8.935294117647059</td> <td>3.290402476780186</td> <td>8.95275888133031</td> <td>3.2755102040816326</td></tr></table>"
       ],
       "metadata": {},
       "output_type": "display_data",
       "text": [
        "<IPython.core.display.HTML at 0x7fe6869a8908>"
       ]
      },
      {
       "html": [
        "<h3>1415</h3>"
       ],
       "metadata": {},
       "output_type": "display_data",
       "text": [
        "<IPython.core.display.HTML at 0x7fe6869a8908>"
       ]
      },
      {
       "html": [
        "<table><tr><th>league</th> <th>shots per goal</th> <th>sot per goal</th> <th>home spg</th> <th>home sotpg</th> <th>away spg</th> <th>away sotpg</th></tr><tr><td>epl</td> <td>10.098461538461539</td> <td>3.275897435897436</td> <td>9.923214285714286</td> <td>3.205357142857143</td> <td>10.334939759036144</td> <td>3.3710843373493975</td></tr>\n",
        "<tr><td>ech</td> <td>10.175033921302578</td> <td>3.289009497964722</td> <td>10.160736196319018</td> <td>3.2625766871165642</td> <td>10.192716236722307</td> <td>3.3216995447647952</td></tr>\n",
        "<tr><td>elo</td> <td>8.15915300546448</td> <td>3.3545081967213113</td> <td>8.38974358974359</td> <td>3.428205128205128</td> <td>7.896198830409356</td> <td>3.27046783625731</td></tr>\n",
        "<tr><td>elt</td> <td>8.502657555049355</td> <td>3.3705391040242976</td> <td>8.248979591836735</td> <td>3.254421768707483</td> <td>8.823024054982818</td> <td>3.5171821305841924</td></tr>\n",
        "<tr><td>spl</td> <td>7.7904599659284495</td> <td>3.340715502555366</td> <td>7.615151515151515</td> <td>3.2848484848484847</td> <td>8.01556420233463</td> <td>3.412451361867704</td></tr>\n",
        "<tr><td>Overall</td> <td>9.035585353274884</td> <td>3.3269726663228467</td> <td>8.993167701863355</td> <td>3.293167701863354</td> <td>9.088178667693493</td> <td>3.3688871775125144</td></tr></table>"
       ],
       "metadata": {},
       "output_type": "display_data",
       "text": [
        "<IPython.core.display.HTML at 0x7fe6869a8908>"
       ]
      },
      {
       "html": [
        "<h3>1516</h3>"
       ],
       "metadata": {},
       "output_type": "display_data",
       "text": [
        "<IPython.core.display.HTML at 0x7fe6869a8908>"
       ]
      },
      {
       "html": [
        "<table><tr><th>league</th> <th>shots per goal</th> <th>sot per goal</th> <th>home spg</th> <th>home sotpg</th> <th>away spg</th> <th>away sotpg</th></tr><tr><td>epl</td> <td>9.636363636363637</td> <td>3.272727272727273</td> <td>11.666666666666666</td> <td>3.515151515151515</td> <td>8.113636363636363</td> <td>3.090909090909091</td></tr>\n",
        "<tr><td>ech</td> <td>11.233644859813085</td> <td>3.5514018691588785</td> <td>11.616666666666667</td> <td>3.6166666666666667</td> <td>10.74468085106383</td> <td>3.4680851063829787</td></tr>\n",
        "<tr><td>elo</td> <td>8.346774193548388</td> <td>3.370967741935484</td> <td>7.472222222222222</td> <td>3.0277777777777777</td> <td>9.557692307692308</td> <td>3.8461538461538463</td></tr>\n",
        "<tr><td>elt</td> <td>7.881889763779528</td> <td>3.1496062992125986</td> <td>7.594202898550725</td> <td>3.101449275362319</td> <td>8.224137931034482</td> <td>3.206896551724138</td></tr>\n",
        "<tr><td>spl</td> <td>7.160493827160494</td> <td>3.419753086419753</td> <td>6.853658536585366</td> <td>3.292682926829268</td> <td>7.475</td> <td>3.55</td></tr>\n",
        "<tr><td>Overall</td> <td>8.837209302325581</td> <td>3.3468992248062017</td> <td>8.818181818181818</td> <td>3.272727272727273</td> <td>8.858921161825727</td> <td>3.4315352697095434</td></tr></table>"
       ],
       "metadata": {},
       "output_type": "display_data",
       "text": [
        "<IPython.core.display.HTML at 0x7fe6869a8908>"
       ]
      },
      {
       "html": [
        "<h3>All Years</h3>"
       ],
       "metadata": {},
       "output_type": "display_data",
       "text": [
        "<IPython.core.display.HTML at 0x7fe687301048>"
       ]
      },
      {
       "html": [
        "<table><tr><th>league</th> <th>shots per goal</th> <th>sot per goal</th> <th>home spg</th> <th>home sotpg</th> <th>away spg</th> <th>away sotpg</th></tr><tr><td>epl</td> <td>9.378965256797583</td> <td>4.34214501510574</td> <td>9.241011984021306</td> <td>4.285286284953395</td> <td>9.559773123909249</td> <td>4.416666666666667</td></tr>\n",
        "<tr><td>ech</td> <td>9.052971228824953</td> <td>3.904544232320516</td> <td>9.093598448108633</td> <td>3.9102812803103784</td> <td>9.002414001207</td> <td>3.8974049487024742</td></tr>\n",
        "<tr><td>elo</td> <td>8.061001885267977</td> <td>3.732965257204417</td> <td>8.098716683119447</td> <td>3.740868706811451</td> <td>8.01570835803201</td> <td>3.723473621813871</td></tr>\n",
        "<tr><td>elt</td> <td>8.008715209446162</td> <td>3.6170930559460217</td> <td>7.929982046678636</td> <td>3.59476788920236</td> <td>8.104199066874028</td> <td>3.644167962674961</td></tr>\n",
        "<tr><td>spl</td> <td>7.247904577691812</td> <td>3.4029658284977433</td> <td>7.279857397504457</td> <td>3.4171122994652405</td> <td>7.210007047216349</td> <td>3.386187455954898</td></tr>\n",
        "<tr><td>Overall</td> <td>8.438405319989466</td> <td>3.8203515933631813</td> <td>8.42673905261902</td> <td>3.813626058942847</td> <td>8.452769208168062</td> <td>3.828632290289408</td></tr></table>"
       ],
       "metadata": {},
       "output_type": "display_data",
       "text": [
        "<IPython.core.display.HTML at 0x7fe6869a8908>"
       ]
      }
     ],
     "prompt_number": 2
    },
    {
     "cell_type": "markdown",
     "metadata": {},
     "source": [
      "# Conclusion\n",
      "\n",
      "My take from this is that the number of shots/shots on target per goal is not affected by whether the team is playing at home or away. It does seem to be affected by which league the match is taking place in. In particular the higher the league the more shots/sots required per goal. There also seems to be year-on-year differences, but these are smaller.\n",
      "\n",
      "A final note is that it seems to converge pretty quickly after a few matches in a given season. So I think we can safely use the shots/sots per goal from the current season on a per-league basis. We do not need to look at historical data, nor do we need to separate home from away teams."
     ]
    }
   ],
   "metadata": {}
  }
 ]
}