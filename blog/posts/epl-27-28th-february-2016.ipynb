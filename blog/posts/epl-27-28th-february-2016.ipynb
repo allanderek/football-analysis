{
 "cells": [
  {
   "cell_type": "markdown",
   "metadata": {},
   "source": [
    "# EPL 27-28th February 2016\n",
    "\n",
    "Only 8 games this weekend and Manchester City sink 9 points behind leaders Leicester, although now we have to start qualifying all such statements with the fact that Manchester City have played one fewer game than everyone else bar Liverpool. Manchester City also managed to pick up some kind of trophy or something at the weekend."
   ]
  },
  {
   "cell_type": "code",
   "execution_count": 1,
   "metadata": {
    "collapsed": false
   },
   "outputs": [
    {
     "data": {
      "text/html": [
       "<div style=\"display:inline-block; margin-right:2em;\">\n",
       "    <table>\n",
       "      <tr><th></th><th>Home</th><th>Away</th></tr>\n",
       "      <tr><td>Team</td><td>Leicester</td><td>Norwich</td></tr>\n",
       "      <tr><td>Goals</td><td>1</td><td>0</td></tr>\n",
       "      <tr><td>Shots</td><td>13</td><td>9</td></tr>\n",
       "      <tr><td>SOT</td><td>3</td><td>1</td></tr>\n",
       "      \n",
       "    </table>\n",
       "    </div>\n",
       "<div style=\"display:inline-block; margin-right:2em;\">\n",
       "    <table>\n",
       "      <tr><th></th><th>Home</th><th>Away</th></tr>\n",
       "      <tr><td>Team</td><td>Southampton</td><td>Chelsea</td></tr>\n",
       "      <tr><td>Goals</td><td>1</td><td>2</td></tr>\n",
       "      <tr><td>Shots</td><td>7</td><td>16</td></tr>\n",
       "      <tr><td>SOT</td><td>2</td><td>4</td></tr>\n",
       "      \n",
       "    </table>\n",
       "    </div>\n",
       "<div style=\"display:inline-block; margin-right:2em;\">\n",
       "    <table>\n",
       "      <tr><th></th><th>Home</th><th>Away</th></tr>\n",
       "      <tr><td>Team</td><td>Stoke</td><td>Aston Villa</td></tr>\n",
       "      <tr><td>Goals</td><td>2</td><td>1</td></tr>\n",
       "      <tr><td>Shots</td><td>11</td><td>5</td></tr>\n",
       "      <tr><td>SOT</td><td>3</td><td>1</td></tr>\n",
       "      \n",
       "    </table>\n",
       "    </div>\n",
       "<div style=\"display:inline-block; margin-right:2em;\">\n",
       "    <table>\n",
       "      <tr><th></th><th>Home</th><th>Away</th></tr>\n",
       "      <tr><td>Team</td><td>Watford</td><td>Bournemouth</td></tr>\n",
       "      <tr><td>Goals</td><td>0</td><td>0</td></tr>\n",
       "      <tr><td>Shots</td><td>14</td><td>11</td></tr>\n",
       "      <tr><td>SOT</td><td>1</td><td>3</td></tr>\n",
       "      \n",
       "    </table>\n",
       "    </div>\n",
       "<div style=\"display:inline-block; margin-right:2em;\">\n",
       "    <table>\n",
       "      <tr><th></th><th>Home</th><th>Away</th></tr>\n",
       "      <tr><td>Team</td><td>West Brom</td><td>Crystal Palace</td></tr>\n",
       "      <tr><td>Goals</td><td>3</td><td>2</td></tr>\n",
       "      <tr><td>Shots</td><td>11</td><td>15</td></tr>\n",
       "      <tr><td>SOT</td><td>5</td><td>2</td></tr>\n",
       "      \n",
       "    </table>\n",
       "    </div>\n",
       "<div style=\"display:inline-block; margin-right:2em;\">\n",
       "    <table>\n",
       "      <tr><th></th><th>Home</th><th>Away</th></tr>\n",
       "      <tr><td>Team</td><td>West Ham</td><td>Sunderland</td></tr>\n",
       "      <tr><td>Goals</td><td>1</td><td>0</td></tr>\n",
       "      <tr><td>Shots</td><td>9</td><td>13</td></tr>\n",
       "      <tr><td>SOT</td><td>3</td><td>4</td></tr>\n",
       "      \n",
       "    </table>\n",
       "    </div>\n",
       "<div style=\"display:inline-block; margin-right:2em;\">\n",
       "    <table>\n",
       "      <tr><th></th><th>Home</th><th>Away</th></tr>\n",
       "      <tr><td>Team</td><td>Tottenham</td><td>Swansea</td></tr>\n",
       "      <tr><td>Goals</td><td>2</td><td>1</td></tr>\n",
       "      <tr><td>Shots</td><td>34</td><td>10</td></tr>\n",
       "      <tr><td>SOT</td><td>14</td><td>4</td></tr>\n",
       "      \n",
       "    </table>\n",
       "    </div>\n",
       "<div style=\"display:inline-block; margin-right:2em;\">\n",
       "    <table>\n",
       "      <tr><th></th><th>Home</th><th>Away</th></tr>\n",
       "      <tr><td>Team</td><td>Man United</td><td>Arsenal</td></tr>\n",
       "      <tr><td>Goals</td><td>3</td><td>2</td></tr>\n",
       "      <tr><td>Shots</td><td>7</td><td>13</td></tr>\n",
       "      <tr><td>SOT</td><td>5</td><td>5</td></tr>\n",
       "      \n",
       "    </table>\n",
       "    </div><div style=\"display:inline-block; margin-right:2em;\"><table><tr><th>Position</th> <th>Team</th> <th>Points</th></tr><tr><td>1</td> <td>Leicester</td> <td>56</td></tr>\n",
       "<tr><td>2</td> <td>Tottenham</td> <td>54</td></tr>\n",
       "<tr><td>3</td> <td>Arsenal</td> <td>51</td></tr>\n",
       "<tr><td>4</td> <td>Man City</td> <td>47</td></tr>\n",
       "<tr><td>5</td> <td>Man United</td> <td>44</td></tr>\n",
       "<tr><td>6</td> <td>West Ham</td> <td>43</td></tr>\n",
       "<tr><td>7</td> <td>Southampton</td> <td>40</td></tr>\n",
       "<tr><td>8</td> <td>Stoke</td> <td>39</td></tr>\n",
       "<tr><td>9</td> <td>Liverpool</td> <td>38</td></tr>\n",
       "<tr><td>10</td> <td>Watford</td> <td>37</td></tr>\n",
       "<tr><td>11</td> <td>Chelsea</td> <td>36</td></tr>\n",
       "<tr><td>12</td> <td>Everton</td> <td>35</td></tr>\n",
       "<tr><td>-</td> <td>West Brom</td> <td>35</td></tr>\n",
       "<tr><td>14</td> <td>Crystal Palace</td> <td>32</td></tr>\n",
       "<tr><td>15</td> <td>Bournemouth</td> <td>29</td></tr>\n",
       "<tr><td>16</td> <td>Swansea</td> <td>27</td></tr>\n",
       "<tr><td>17</td> <td>Norwich</td> <td>24</td></tr>\n",
       "<tr><td>-</td> <td>Newcastle</td> <td>24</td></tr>\n",
       "<tr><td>19</td> <td>Sunderland</td> <td>23</td></tr>\n",
       "<tr><td>20</td> <td>Aston Villa</td> <td>16</td></tr></table></div>\n",
       "<div style=\"display:inline-block; margin-right:2em;\"><table><tr><th>Position</th> <th>Team</th> <th>Team Rating</th></tr><tr><td>1</td> <td>Tottenham</td> <td>0.23955953857081358</td></tr>\n",
       "<tr><td>2</td> <td>Man City</td> <td>0.23638459957781202</td></tr>\n",
       "<tr><td>3</td> <td>Liverpool</td> <td>0.14026653809433803</td></tr>\n",
       "<tr><td>4</td> <td>Arsenal</td> <td>0.1260747487231492</td></tr>\n",
       "<tr><td>5</td> <td>Man United</td> <td>0.06905509317288838</td></tr>\n",
       "<tr><td>6</td> <td>Southampton</td> <td>0.06810321276058692</td></tr>\n",
       "<tr><td>7</td> <td>Leicester</td> <td>0.05915796067491008</td></tr>\n",
       "<tr><td>8</td> <td>Chelsea</td> <td>0.05622452190825179</td></tr>\n",
       "<tr><td>9</td> <td>Everton</td> <td>0.05561406767290818</td></tr>\n",
       "<tr><td>10</td> <td>West Ham</td> <td>0.014085728288286144</td></tr>\n",
       "<tr><td>11</td> <td>Bournemouth</td> <td>-0.018456573319753443</td></tr>\n",
       "<tr><td>12</td> <td>Watford</td> <td>-0.03146851466179693</td></tr>\n",
       "<tr><td>13</td> <td>Crystal Palace</td> <td>-0.08018565041057944</td></tr>\n",
       "<tr><td>14</td> <td>Swansea</td> <td>-0.08402388689992549</td></tr>\n",
       "<tr><td>15</td> <td>Stoke</td> <td>-0.08906208633497704</td></tr>\n",
       "<tr><td>16</td> <td>Norwich</td> <td>-0.13127243981231576</td></tr>\n",
       "<tr><td>17</td> <td>West Brom</td> <td>-0.15228259204352992</td></tr>\n",
       "<tr><td>18</td> <td>Sunderland</td> <td>-0.15760114310455756</td></tr>\n",
       "<tr><td>19</td> <td>Aston Villa</td> <td>-0.17460298611210157</td></tr>\n",
       "<tr><td>20</td> <td>Newcastle</td> <td>-0.18926507726470765</td></tr></table></div>\n",
       "<div style=\"display:inline-block; margin-right:2em;\"><table><tr><th>Position</th> <th>Team</th> <th>PDO</th></tr><tr><td>1</td> <td>Leicester</td> <td>0.11479873427036574</td></tr>\n",
       "<tr><td>2</td> <td>Everton</td> <td>0.09966937594710018</td></tr>\n",
       "<tr><td>3</td> <td>Watford</td> <td>0.0772932022932023</td></tr>\n",
       "<tr><td>4</td> <td>West Ham</td> <td>0.0755613720898195</td></tr>\n",
       "<tr><td>5</td> <td>Man United</td> <td>0.07246963562753034</td></tr>\n",
       "<tr><td>6</td> <td>Arsenal</td> <td>0.06052042858824919</td></tr>\n",
       "<tr><td>7</td> <td>West Brom</td> <td>0.04519774011299432</td></tr>\n",
       "<tr><td>8</td> <td>Stoke</td> <td>0.041336153710558765</td></tr>\n",
       "<tr><td>9</td> <td>Chelsea</td> <td>0.03609521791339976</td></tr>\n",
       "<tr><td>10</td> <td>Sunderland</td> <td>0.012001340931947713</td></tr>\n",
       "<tr><td>11</td> <td>Tottenham</td> <td>0.010206786850477212</td></tr>\n",
       "<tr><td>12</td> <td>Man City</td> <td>0.01018848700967906</td></tr>\n",
       "<tr><td>13</td> <td>Southampton</td> <td>0.00354191263282172</td></tr>\n",
       "<tr><td>14</td> <td>Crystal Palace</td> <td>-0.03829278021539689</td></tr>\n",
       "<tr><td>15</td> <td>Swansea</td> <td>-0.05255949323745934</td></tr>\n",
       "<tr><td>16</td> <td>Norwich</td> <td>-0.06263736263736264</td></tr>\n",
       "<tr><td>17</td> <td>Newcastle</td> <td>-0.0847839135654262</td></tr>\n",
       "<tr><td>18</td> <td>Liverpool</td> <td>-0.11701734957548915</td></tr>\n",
       "<tr><td>19</td> <td>Aston Villa</td> <td>-0.125</td></tr>\n",
       "<tr><td>20</td> <td>Bournemouth</td> <td>-0.14482406935237124</td></tr></table></div>"
      ],
      "text/plain": [
       "<IPython.core.display.HTML at 0x7f58e0aae518>"
      ]
     },
     "metadata": {},
     "output_type": "display_data"
    }
   ],
   "source": [
    "%matplotlib inline\n",
    "import league_analysis\n",
    "from IPython.display import display, HTML\n",
    "epl = league_analysis.epl\n",
    "display(HTML(league_analysis.blog_weekly_header(epl, '27/02/2016', '28/02/2016')))"
   ]
  },
  {
   "cell_type": "markdown",
   "metadata": {},
   "source": [
    "# Leicester City 1-0 Norwich\n",
    "\n",
    "Norwich will be truly gutted not to have taken a point here, a point they so desperately needed. The Leicester juggernaut sort of continues to roll on. It's hard to believe that Arsenal, Tottenham, or Manchester City would have been reduced to just 3 shots on target whilst playing the majority of the game at 0-0 against Norwich. Still, dominating shots has not really been Leicester's stick this season and what they have done they have obviously done successfully. It's pretty easy to see that the Leicester doubters will look at this sort of win as clear evidence Leicester are going to struggle to win the league, whilst those bullish on Leicester will see this as the sort of win that champions make.\n",
    "\n",
    "Norwich now winless in 7, Newcastle, Sunderland on 1, Aston Villa on 2. If that does not worry Norwich fans, then, well perhaps they're just not that worried about life in the Championship.\n",
    "\n",
    "<!-- TEASER_END -->"
   ]
  },
  {
   "cell_type": "code",
   "execution_count": 4,
   "metadata": {
    "collapsed": false
   },
   "outputs": [
    {
     "data": {
      "text/html": [
       "<div style=\"display:inline-block; margin-right:2em;\"><table><tr><th>Position</th> <th>Team</th> <th>Winning Run</th></tr><tr><td>1</td> <td>Tottenham</td> <td>6</td></tr>\n",
       "<tr><td>2</td> <td>Stoke</td> <td>2</td></tr>\n",
       "<tr><td>-</td> <td>West Brom</td> <td>2</td></tr>\n",
       "<tr><td>-</td> <td>Chelsea</td> <td>2</td></tr>\n",
       "<tr><td>5</td> <td>Man United</td> <td>1</td></tr>\n",
       "<tr><td>-</td> <td>Leicester</td> <td>1</td></tr>\n",
       "<tr><td>-</td> <td>West Ham</td> <td>1</td></tr>\n",
       "<tr><td>-</td> <td>Liverpool</td> <td>1</td></tr>\n",
       "<tr><td>9</td> <td>Southampton</td> <td>0</td></tr>\n",
       "<tr><td>-</td> <td>Everton</td> <td>0</td></tr>\n",
       "<tr><td>-</td> <td>Norwich</td> <td>0</td></tr>\n",
       "<tr><td>-</td> <td>Man City</td> <td>0</td></tr>\n",
       "<tr><td>-</td> <td>Swansea</td> <td>0</td></tr>\n",
       "<tr><td>-</td> <td>Watford</td> <td>0</td></tr>\n",
       "<tr><td>-</td> <td>Crystal Palace</td> <td>0</td></tr>\n",
       "<tr><td>-</td> <td>Bournemouth</td> <td>0</td></tr>\n",
       "<tr><td>-</td> <td>Arsenal</td> <td>0</td></tr>\n",
       "<tr><td>-</td> <td>Aston Villa</td> <td>0</td></tr>\n",
       "<tr><td>-</td> <td>Sunderland</td> <td>0</td></tr>\n",
       "<tr><td>-</td> <td>Newcastle</td> <td>0</td></tr></table></div>\n",
       "<div style=\"display:inline-block; margin-right:2em;\"><table><tr><th>Position</th> <th>Team</th> <th>Unbeaten Run</th></tr><tr><td>1</td> <td>Chelsea</td> <td>11</td></tr>\n",
       "<tr><td>2</td> <td>Tottenham</td> <td>6</td></tr>\n",
       "<tr><td>3</td> <td>Watford</td> <td>2</td></tr>\n",
       "<tr><td>-</td> <td>Stoke</td> <td>2</td></tr>\n",
       "<tr><td>-</td> <td>West Ham</td> <td>2</td></tr>\n",
       "<tr><td>-</td> <td>West Brom</td> <td>2</td></tr>\n",
       "<tr><td>-</td> <td>Liverpool</td> <td>2</td></tr>\n",
       "<tr><td>8</td> <td>Man United</td> <td>1</td></tr>\n",
       "<tr><td>-</td> <td>Leicester</td> <td>1</td></tr>\n",
       "<tr><td>-</td> <td>Bournemouth</td> <td>1</td></tr>\n",
       "<tr><td>11</td> <td>Southampton</td> <td>0</td></tr>\n",
       "<tr><td>-</td> <td>Everton</td> <td>0</td></tr>\n",
       "<tr><td>-</td> <td>Norwich</td> <td>0</td></tr>\n",
       "<tr><td>-</td> <td>Man City</td> <td>0</td></tr>\n",
       "<tr><td>-</td> <td>Swansea</td> <td>0</td></tr>\n",
       "<tr><td>-</td> <td>Crystal Palace</td> <td>0</td></tr>\n",
       "<tr><td>-</td> <td>Arsenal</td> <td>0</td></tr>\n",
       "<tr><td>-</td> <td>Aston Villa</td> <td>0</td></tr>\n",
       "<tr><td>-</td> <td>Sunderland</td> <td>0</td></tr>\n",
       "<tr><td>-</td> <td>Newcastle</td> <td>0</td></tr></table></div>\n",
       "<div style=\"display:inline-block; margin-right:2em;\"><table><tr><th>Position</th> <th>Team</th> <th>Winless</th></tr><tr><td>1</td> <td>Crystal Palace</td> <td>10</td></tr>\n",
       "<tr><td>2</td> <td>Norwich</td> <td>7</td></tr>\n",
       "<tr><td>3</td> <td>Swansea</td> <td>4</td></tr>\n",
       "<tr><td>4</td> <td>Bournemouth</td> <td>3</td></tr>\n",
       "<tr><td>5</td> <td>Man City</td> <td>2</td></tr>\n",
       "<tr><td>-</td> <td>Aston Villa</td> <td>2</td></tr>\n",
       "<tr><td>7</td> <td>Southampton</td> <td>1</td></tr>\n",
       "<tr><td>-</td> <td>Everton</td> <td>1</td></tr>\n",
       "<tr><td>-</td> <td>Watford</td> <td>1</td></tr>\n",
       "<tr><td>-</td> <td>Arsenal</td> <td>1</td></tr>\n",
       "<tr><td>-</td> <td>Sunderland</td> <td>1</td></tr>\n",
       "<tr><td>-</td> <td>Newcastle</td> <td>1</td></tr>\n",
       "<tr><td>13</td> <td>Stoke</td> <td>0</td></tr>\n",
       "<tr><td>-</td> <td>Man United</td> <td>0</td></tr>\n",
       "<tr><td>-</td> <td>Leicester</td> <td>0</td></tr>\n",
       "<tr><td>-</td> <td>West Ham</td> <td>0</td></tr>\n",
       "<tr><td>-</td> <td>West Brom</td> <td>0</td></tr>\n",
       "<tr><td>-</td> <td>Chelsea</td> <td>0</td></tr>\n",
       "<tr><td>-</td> <td>Liverpool</td> <td>0</td></tr>\n",
       "<tr><td>-</td> <td>Tottenham</td> <td>0</td></tr></table></div>\n",
       "<div style=\"display:inline-block; margin-right:2em;\"><table><tr><th>Position</th> <th>Team</th> <th>Losing</th></tr><tr><td>1</td> <td>Man City</td> <td>2</td></tr>\n",
       "<tr><td>-</td> <td>Swansea</td> <td>2</td></tr>\n",
       "<tr><td>-</td> <td>Crystal Palace</td> <td>2</td></tr>\n",
       "<tr><td>-</td> <td>Aston Villa</td> <td>2</td></tr>\n",
       "<tr><td>5</td> <td>Southampton</td> <td>1</td></tr>\n",
       "<tr><td>-</td> <td>Everton</td> <td>1</td></tr>\n",
       "<tr><td>-</td> <td>Norwich</td> <td>1</td></tr>\n",
       "<tr><td>-</td> <td>Arsenal</td> <td>1</td></tr>\n",
       "<tr><td>-</td> <td>Sunderland</td> <td>1</td></tr>\n",
       "<tr><td>-</td> <td>Newcastle</td> <td>1</td></tr>\n",
       "<tr><td>11</td> <td>Watford</td> <td>0</td></tr>\n",
       "<tr><td>-</td> <td>Stoke</td> <td>0</td></tr>\n",
       "<tr><td>-</td> <td>Man United</td> <td>0</td></tr>\n",
       "<tr><td>-</td> <td>Leicester</td> <td>0</td></tr>\n",
       "<tr><td>-</td> <td>Bournemouth</td> <td>0</td></tr>\n",
       "<tr><td>-</td> <td>West Ham</td> <td>0</td></tr>\n",
       "<tr><td>-</td> <td>West Brom</td> <td>0</td></tr>\n",
       "<tr><td>-</td> <td>Chelsea</td> <td>0</td></tr>\n",
       "<tr><td>-</td> <td>Liverpool</td> <td>0</td></tr>\n",
       "<tr><td>-</td> <td>Tottenham</td> <td>0</td></tr></table></div>"
      ],
      "text/plain": [
       "<IPython.core.display.HTML at 0x7f58e0aae048>"
      ]
     },
     "metadata": {},
     "output_type": "display_data"
    }
   ],
   "source": [
    "league_analysis.display_current_runs(epl)"
   ]
  },
  {
   "cell_type": "markdown",
   "metadata": {},
   "source": [
    "# Southampton 1-2 Chelsea\n",
    "\n",
    "Speaking of juggernauts, that is now 11 games unbeaten for Chelsea. This was a game that looked tough for them on paper, but to be away to Southampton and to not only win, but out-shoot their hosts pretty comprehensively has me now thinking that Chelsea are pretty much a top four side once again. Of course I don't think they'll make it back into the top four this season they're too far behind, but if I were a Chelsea fan I'd be reasonably encouraged about next season. Just to drill that point home, here are the statistics for the last ten games:"
   ]
  },
  {
   "cell_type": "code",
   "execution_count": 6,
   "metadata": {
    "collapsed": false
   },
   "outputs": [
    {
     "data": {
      "text/html": [
       "<div style=\"display:inline-block; margin-right:2em;\"><table><tr><th>Position</th> <th>Team</th> <th>Points</th></tr><tr><td>1</td> <td>Tottenham</td> <td>25</td></tr>\n",
       "<tr><td>2</td> <td>Southampton</td> <td>19</td></tr>\n",
       "<tr><td>3</td> <td>Leicester</td> <td>18</td></tr>\n",
       "<tr><td>-</td> <td>West Ham</td> <td>18</td></tr>\n",
       "<tr><td>-</td> <td>Chelsea</td> <td>18</td></tr>\n",
       "<tr><td>6</td> <td>Stoke</td> <td>16</td></tr>\n",
       "<tr><td>7</td> <td>Man City</td> <td>15</td></tr>\n",
       "<tr><td>-</td> <td>Man United</td> <td>15</td></tr>\n",
       "<tr><td>-</td> <td>Arsenal</td> <td>15</td></tr>\n",
       "<tr><td>-</td> <td>West Brom</td> <td>15</td></tr>\n",
       "<tr><td>11</td> <td>Liverpool</td> <td>14</td></tr>\n",
       "<tr><td>12</td> <td>Everton</td> <td>12</td></tr>\n",
       "<tr><td>-</td> <td>Swansea</td> <td>12</td></tr>\n",
       "<tr><td>14</td> <td>Sunderland</td> <td>11</td></tr>\n",
       "<tr><td>15</td> <td>Bournemouth</td> <td>10</td></tr>\n",
       "<tr><td>16</td> <td>Watford</td> <td>9</td></tr>\n",
       "<tr><td>-</td> <td>Aston Villa</td> <td>9</td></tr>\n",
       "<tr><td>18</td> <td>Newcastle</td> <td>8</td></tr>\n",
       "<tr><td>19</td> <td>Norwich</td> <td>7</td></tr>\n",
       "<tr><td>20</td> <td>Crystal Palace</td> <td>3</td></tr></table></div>\n",
       "<div style=\"display:inline-block; margin-right:2em;\"><table><tr><th>Position</th> <th>Team</th> <th>Team Rating</th></tr><tr><td>1</td> <td>Tottenham</td> <td>0.32825135138028105</td></tr>\n",
       "<tr><td>2</td> <td>Man City</td> <td>0.20624302547677692</td></tr>\n",
       "<tr><td>3</td> <td>Liverpool</td> <td>0.15722416161620223</td></tr>\n",
       "<tr><td>4</td> <td>Chelsea</td> <td>0.1466243326673592</td></tr>\n",
       "<tr><td>5</td> <td>Everton</td> <td>0.12332072391718414</td></tr>\n",
       "<tr><td>6</td> <td>Southampton</td> <td>0.0959495617627332</td></tr>\n",
       "<tr><td>7</td> <td>West Ham</td> <td>0.05973383631417903</td></tr>\n",
       "<tr><td>8</td> <td>Arsenal</td> <td>0.006261704026431772</td></tr>\n",
       "<tr><td>9</td> <td>Man United</td> <td>0.0008759053328820558</td></tr>\n",
       "<tr><td>10</td> <td>Leicester</td> <td>-0.00958274383199606</td></tr>\n",
       "<tr><td>11</td> <td>Bournemouth</td> <td>-0.040675013648226545</td></tr>\n",
       "<tr><td>12</td> <td>Stoke</td> <td>-0.04348717643912149</td></tr>\n",
       "<tr><td>13</td> <td>West Brom</td> <td>-0.08894697642408966</td></tr>\n",
       "<tr><td>14</td> <td>Sunderland</td> <td>-0.10937107755314025</td></tr>\n",
       "<tr><td>15</td> <td>Newcastle</td> <td>-0.1163225921978699</td></tr>\n",
       "<tr><td>16</td> <td>Swansea</td> <td>-0.1249154804183991</td></tr>\n",
       "<tr><td>17</td> <td>Watford</td> <td>-0.14340709083949604</td></tr>\n",
       "<tr><td>18</td> <td>Aston Villa</td> <td>-0.18378633114687876</td></tr>\n",
       "<tr><td>19</td> <td>Crystal Palace</td> <td>-0.18810791559570592</td></tr>\n",
       "<tr><td>20</td> <td>Norwich</td> <td>-0.19202645797978035</td></tr></table></div>\n",
       "<div style=\"display:inline-block; margin-right:2em;\"><table><tr><th>Position</th> <th>Team</th> <th>PDO</th></tr><tr><td>1</td> <td>Southampton</td> <td>0.19768403639371382</td></tr>\n",
       "<tr><td>2</td> <td>Chelsea</td> <td>0.1746031746031746</td></tr>\n",
       "<tr><td>3</td> <td>Leicester</td> <td>0.15294117647058822</td></tr>\n",
       "<tr><td>4</td> <td>West Ham</td> <td>0.10233029381965553</td></tr>\n",
       "<tr><td>5</td> <td>Watford</td> <td>0.09090909090909094</td></tr>\n",
       "<tr><td>6</td> <td>Sunderland</td> <td>0.05110565110565113</td></tr>\n",
       "<tr><td>7</td> <td>Swansea</td> <td>0.04411764705882354</td></tr>\n",
       "<tr><td>8</td> <td>Man City</td> <td>0.02613981762917933</td></tr>\n",
       "<tr><td>9</td> <td>Everton</td> <td>0.018803418803418792</td></tr>\n",
       "<tr><td>10</td> <td>West Brom</td> <td>0.015202702702702686</td></tr>\n",
       "<tr><td>11</td> <td>Man United</td> <td>0.0012570710245128902</td></tr>\n",
       "<tr><td>12</td> <td>Arsenal</td> <td>-0.010421189752496729</td></tr>\n",
       "<tr><td>13</td> <td>Tottenham</td> <td>-0.015350877192982448</td></tr>\n",
       "<tr><td>14</td> <td>Stoke</td> <td>-0.018796992481203034</td></tr>\n",
       "<tr><td>15</td> <td>Liverpool</td> <td>-0.04728720756595317</td></tr>\n",
       "<tr><td>16</td> <td>Norwich</td> <td>-0.050264550264550234</td></tr>\n",
       "<tr><td>17</td> <td>Bournemouth</td> <td>-0.11711711711711709</td></tr>\n",
       "<tr><td>18</td> <td>Newcastle</td> <td>-0.19130434782608696</td></tr>\n",
       "<tr><td>19</td> <td>Aston Villa</td> <td>-0.19264069264069264</td></tr>\n",
       "<tr><td>20</td> <td>Crystal Palace</td> <td>-0.2095959595959596</td></tr></table></div>"
      ],
      "text/plain": [
       "<IPython.core.display.HTML at 0x7f58c4c5dcc0>"
      ]
     },
     "metadata": {},
     "output_type": "display_data"
    }
   ],
   "source": [
    "stats = league_analysis.last_x_game_stats(epl, 10)\n",
    "display(HTML(league_analysis.header_stat_tables(epl, stats=stats)))"
   ]
  },
  {
   "cell_type": "markdown",
   "metadata": {},
   "source": [
    "Note that Southampton are good, despite this loss. Both at the top for PDO, but also 4th (Chelsea) and 6th for team rating. Things look more rosy for these two teams than their current league positions suggest, and that is despite Southampton being in a pretty credible 7th."
   ]
  },
  {
   "cell_type": "markdown",
   "metadata": {},
   "source": [
    "# Stoke 2-1 Aston Villa\n",
    "\n",
    "Not much more to write about Aston Villa, 8 points from safety and they just don't look likely to pick up 8 extra points. Stoke are a pretty interesting team, but they are surely beatable. But you're going to struggle if you get exactly one shot on target, even if you manage to score from it.\n",
    "\n",
    "So what of Stoke? They are certainly more entertaining than the old Stoke. But they are projecting mid-table. Currently 8th, but a lot of teams are on a similar set of points, West Brom are just 4 points back but 5 places in 13th. It is hard to see Stoke improving on 8th, the only team above them that may drop back is West Ham, but there are a few, such as Chelsea lurking just 3 points back, who could beat them into a higher placed finish.\n",
    "\n",
    "Stoke face Chelsea, Southampton, and Watford after Newcastle, so this run will either see them consolidate 8th, or drop back. I'm afraid I see them losing to Chelsea and Liverpool, so dropping back, but I'm horrible at predictions."
   ]
  },
  {
   "cell_type": "code",
   "execution_count": 8,
   "metadata": {
    "collapsed": false
   },
   "outputs": [
    {
     "data": {
      "text/html": [
       "<table><tr><th>West Ham</th> <th>Stoke</th> <th>Liverpool</th> <th>Watford</th> <th>Chelsea</th></tr><tr><td>Tottenham (H)</td> <td>Newcastle (H)</td> <td>Man City (H)</td> <td>Man United (A)</td> <td>Norwich (A)</td></tr>\n",
       "<tr><td>Everton (A)</td> <td>Chelsea (A)</td> <td>Crystal Palace (A)</td> <td>Leicester (H)</td> <td>Stoke (H)</td></tr>\n",
       "<tr><td>Watford (H)</td> <td>Southampton (H)</td> <td>Chelsea (H)</td> <td>West Ham (A)</td> <td>Liverpool (A)</td></tr>\n",
       "<tr><td>Chelsea (A)</td> <td>Watford (A)</td> <td>Southampton (A)</td> <td>Stoke (H)</td> <td>West Ham (H)</td></tr>\n",
       "<tr><td>Crystal Palace (H)</td> <td>Swansea (H)</td> <td>Tottenham (H)</td> <td>Arsenal (A)</td> <td>Aston Villa (A)</td></tr>\n",
       "<tr><td>Arsenal (H)</td> <td>Liverpool (A)</td> <td>Stoke (H)</td> <td>Everton (H)</td> <td>Swansea (A)</td></tr>\n",
       "<tr><td>Leicester (A)</td> <td>Tottenham (H)</td> <td>Bournemouth (A)</td> <td>West Brom (A)</td> <td>Man City (H)</td></tr>\n",
       "<tr><td>Man United (H)</td> <td>Man City (A)</td> <td>Newcastle (H)</td> <td>Norwich (A)</td> <td>Bournemouth (A)</td></tr>\n",
       "<tr><td>West Brom (A)</td> <td>Sunderland (H)</td> <td>Swansea (A)</td> <td>Aston Villa (H)</td> <td>Tottenham (H)</td></tr>\n",
       "<tr><td>Swansea (H)</td> <td>Crystal Palace (A)</td> <td>Watford (H)</td> <td>Liverpool (A)</td> <td>Sunderland (A)</td></tr>\n",
       "<tr><td>Stoke (A)</td> <td>West Ham (H)</td> <td>West Brom (A)</td> <td>Sunderland (H)</td> <td>Leicester (H)</td></tr></table>"
      ],
      "text/plain": [
       "<IPython.core.display.HTML at 0x7f58c492b940>"
      ]
     },
     "metadata": {},
     "output_type": "display_data"
    }
   ],
   "source": [
    "league_analysis.compare_fixtures(epl, ['West Ham', 'Stoke', 'Liverpool', 'Watford', 'Chelsea' ])"
   ]
  },
  {
   "cell_type": "markdown",
   "metadata": {},
   "source": [
    "# Watford 0-0 Bournemouth\n",
    "\n",
    "Definitely a game that seemed like Bournemouth should have won, even though they actually took fewer shots. They did have more shots on target and at least according to the MOTD highlights had more of the game. Watford look pretty safe. Bournemouth are clearly not safe, they certainly look good enough to retain premier league status, and you have to think with Norwich and Swansea below them now there are enough poorer teams below them to save them. But a bad run of luck, which Bournemouth have had enough of this season, could yet see them drop. That would be a shame for a number of reasons."
   ]
  },
  {
   "cell_type": "markdown",
   "metadata": {},
   "source": [
    "# West Brom 3-2 Crystal Palace\n",
    "\n",
    "Crystal Palace actually had more shots, but that is likely due to spending a lot of this game behind, Palace were behind from the 12th minute, and at least 2 goals behind from the 20th minute to the 80th minute. Not really like a Pulis team to give up a 3 goal lead to win by just the single goal, but whatever the score line, and however many shots, this was something of a convincing win.\n",
    "\n",
    "Palace. Worst team for the last ten games (and a bit beyond) as their winless streak now extends to 10 games, and they have managed just 3 points in those ten games. That is 4 worst than then next poorest haul of points from the last ten games. It is difficult to pin-point exactly what has gone wrong for Palace. They have certainly been a touch unfortunate with a PDO of -0.21, but they have also failed to impress being 19th in the league for team rating. So perhaps the 3 points is a touch unfortunate but it looks like a reasonable haul would have been something like 7, which would have put them on 36 points and probably clear of the relegation zone. As it stands 32 points is not quite enough for them to relax. They have an away game to Sunderland to come and they'll want to win that, because after that it is Liverpool, Manchester United, and Leicester, difficult to see Palace winning any of those games (though perhaps Leicester will struggle to break them down)."
   ]
  },
  {
   "cell_type": "code",
   "execution_count": 10,
   "metadata": {
    "collapsed": false
   },
   "outputs": [
    {
     "data": {
      "text/html": [
       "<table><tr><th>Crystal Palace</th> <th>Bournemouth</th> <th>Norwich</th> <th>Swansea</th></tr><tr><td>Sunderland (A)</td> <td>Southampton (H)</td> <td>Chelsea (H)</td> <td>Arsenal (A)</td></tr>\n",
       "<tr><td>Liverpool (H)</td> <td>Newcastle (A)</td> <td>Swansea (A)</td> <td>Norwich (H)</td></tr>\n",
       "<tr><td>Man United (A)</td> <td>Swansea (H)</td> <td>Man City (H)</td> <td>Bournemouth (A)</td></tr>\n",
       "<tr><td>Leicester (H)</td> <td>Tottenham (A)</td> <td>West Brom (A)</td> <td>Aston Villa (H)</td></tr>\n",
       "<tr><td>West Ham (A)</td> <td>Man City (H)</td> <td>Newcastle (H)</td> <td>Stoke (A)</td></tr>\n",
       "<tr><td>Norwich (H)</td> <td>Aston Villa (A)</td> <td>Crystal Palace (A)</td> <td>Chelsea (H)</td></tr>\n",
       "<tr><td>Arsenal (A)</td> <td>Liverpool (H)</td> <td>Sunderland (H)</td> <td>Newcastle (A)</td></tr>\n",
       "<tr><td>Everton (H)</td> <td>Chelsea (H)</td> <td>Watford (H)</td> <td>Leicester (A)</td></tr>\n",
       "<tr><td>Newcastle (A)</td> <td>Everton (A)</td> <td>Arsenal (A)</td> <td>Liverpool (H)</td></tr>\n",
       "<tr><td>Stoke (H)</td> <td>West Brom (H)</td> <td>Man United (H)</td> <td>West Ham (A)</td></tr>\n",
       "<tr><td>Southampton (A)</td> <td>Man United (A)</td> <td>Everton (A)</td> <td>Man City (H)</td></tr></table>"
      ],
      "text/plain": [
       "<IPython.core.display.HTML at 0x7f58c45f26d8>"
      ]
     },
     "metadata": {},
     "output_type": "display_data"
    }
   ],
   "source": [
    "league_analysis.compare_fixtures(epl, ['Crystal Palace', 'Bournemouth', 'Norwich', 'Swansea' ])"
   ]
  },
  {
   "cell_type": "markdown",
   "metadata": {},
   "source": [
    "Encouragingly though, Palace's away form is significantly better than their home form, at least relative to the rest of the league. They lie 18th in home form, but 10th equal in away form."
   ]
  },
  {
   "cell_type": "code",
   "execution_count": 13,
   "metadata": {
    "collapsed": false
   },
   "outputs": [
    {
     "data": {
      "text/html": [
       "<h2>Home Form</h2>"
      ],
      "text/plain": [
       "<IPython.core.display.HTML at 0x7f58c42553c8>"
      ]
     },
     "metadata": {},
     "output_type": "display_data"
    },
    {
     "data": {
      "text/html": [
       "<div style=\"display:inline-block; margin-right:2em;\"><table><tr><th>Position</th> <th>Team</th> <th>Points</th></tr><tr><td>1</td> <td>Man City</td> <td>28</td></tr>\n",
       "<tr><td>-</td> <td>Leicester</td> <td>28</td></tr>\n",
       "<tr><td>-</td> <td>Tottenham</td> <td>28</td></tr>\n",
       "<tr><td>4</td> <td>Arsenal</td> <td>27</td></tr>\n",
       "<tr><td>5</td> <td>Man United</td> <td>25</td></tr>\n",
       "<tr><td>6</td> <td>Southampton</td> <td>23</td></tr>\n",
       "<tr><td>-</td> <td>West Ham</td> <td>23</td></tr>\n",
       "<tr><td>8</td> <td>Stoke</td> <td>20</td></tr>\n",
       "<tr><td>-</td> <td>Chelsea</td> <td>20</td></tr>\n",
       "<tr><td>10</td> <td>Watford</td> <td>19</td></tr>\n",
       "<tr><td>-</td> <td>West Brom</td> <td>19</td></tr>\n",
       "<tr><td>12</td> <td>Swansea</td> <td>17</td></tr>\n",
       "<tr><td>-</td> <td>Liverpool</td> <td>17</td></tr>\n",
       "<tr><td>-</td> <td>Newcastle</td> <td>17</td></tr>\n",
       "<tr><td>15</td> <td>Everton</td> <td>16</td></tr>\n",
       "<tr><td>-</td> <td>Norwich</td> <td>16</td></tr>\n",
       "<tr><td>17</td> <td>Sunderland</td> <td>15</td></tr>\n",
       "<tr><td>18</td> <td>Crystal Palace</td> <td>14</td></tr>\n",
       "<tr><td>19</td> <td>Bournemouth</td> <td>13</td></tr>\n",
       "<tr><td>20</td> <td>Aston Villa</td> <td>10</td></tr></table></div>\n",
       "<div style=\"display:inline-block; margin-right:2em;\"><table><tr><th>Position</th> <th>Team</th> <th>Team Rating</th></tr><tr><td>1</td> <td>Tottenham</td> <td>0.2923597987524312</td></tr>\n",
       "<tr><td>2</td> <td>Man City</td> <td>0.2766260512401658</td></tr>\n",
       "<tr><td>3</td> <td>Man United</td> <td>0.2337791234982247</td></tr>\n",
       "<tr><td>4</td> <td>Liverpool</td> <td>0.18236657427150557</td></tr>\n",
       "<tr><td>5</td> <td>Arsenal</td> <td>0.16309089838596033</td></tr>\n",
       "<tr><td>6</td> <td>Southampton</td> <td>0.10848127242525303</td></tr>\n",
       "<tr><td>7</td> <td>Everton</td> <td>0.10108706004836762</td></tr>\n",
       "<tr><td>8</td> <td>Chelsea</td> <td>0.09739130728381235</td></tr>\n",
       "<tr><td>9</td> <td>West Ham</td> <td>0.09656831486641974</td></tr>\n",
       "<tr><td>10</td> <td>Leicester</td> <td>0.09432402471122739</td></tr>\n",
       "<tr><td>11</td> <td>Watford</td> <td>0.04700082586056169</td></tr>\n",
       "<tr><td>12</td> <td>Bournemouth</td> <td>0.045777950862696606</td></tr>\n",
       "<tr><td>13</td> <td>Stoke</td> <td>0.024971472217109908</td></tr>\n",
       "<tr><td>14</td> <td>Norwich</td> <td>0.014497625343774101</td></tr>\n",
       "<tr><td>15</td> <td>Crystal Palace</td> <td>-0.018163964910808947</td></tr>\n",
       "<tr><td>16</td> <td>Newcastle</td> <td>-0.03163223853151367</td></tr>\n",
       "<tr><td>17</td> <td>Swansea</td> <td>-0.03744230524301533</td></tr>\n",
       "<tr><td>18</td> <td>Sunderland</td> <td>-0.058082084108647666</td></tr>\n",
       "<tr><td>19</td> <td>West Brom</td> <td>-0.061143651621451994</td></tr>\n",
       "<tr><td>20</td> <td>Aston Villa</td> <td>-0.08610679703958697</td></tr></table></div>\n",
       "<div style=\"display:inline-block; margin-right:2em;\"><table><tr><th>Position</th> <th>Team</th> <th>PDO</th></tr><tr><td>1</td> <td>Man United</td> <td>0.1878787878787879</td></tr>\n",
       "<tr><td>2</td> <td>Sunderland</td> <td>0.14295485636114913</td></tr>\n",
       "<tr><td>3</td> <td>Leicester</td> <td>0.11666666666666664</td></tr>\n",
       "<tr><td>4</td> <td>Arsenal</td> <td>0.10569456427955132</td></tr>\n",
       "<tr><td>5</td> <td>Man City</td> <td>0.08104395604395609</td></tr>\n",
       "<tr><td>6</td> <td>Chelsea</td> <td>0.05927601809954747</td></tr>\n",
       "<tr><td>7</td> <td>Newcastle</td> <td>0.05205811138014527</td></tr>\n",
       "<tr><td>8</td> <td>Stoke</td> <td>0.051577152600170484</td></tr>\n",
       "<tr><td>9</td> <td>Everton</td> <td>0.04802076573653474</td></tr>\n",
       "<tr><td>10</td> <td>West Ham</td> <td>0.04019688269073013</td></tr>\n",
       "<tr><td>11</td> <td>Watford</td> <td>0.03613945578231295</td></tr>\n",
       "<tr><td>12</td> <td>Southampton</td> <td>0.022727272727272763</td></tr>\n",
       "<tr><td>13</td> <td>Tottenham</td> <td>0.014506769825918753</td></tr>\n",
       "<tr><td>14</td> <td>West Brom</td> <td>0.003710575139146577</td></tr>\n",
       "<tr><td>15</td> <td>Norwich</td> <td>-0.0008525149190110604</td></tr>\n",
       "<tr><td>16</td> <td>Swansea</td> <td>-0.02380952380952378</td></tr>\n",
       "<tr><td>17</td> <td>Crystal Palace</td> <td>-0.10256410256410253</td></tr>\n",
       "<tr><td>18</td> <td>Aston Villa</td> <td>-0.12458471760797343</td></tr>\n",
       "<tr><td>19</td> <td>Bournemouth</td> <td>-0.17857142857142855</td></tr>\n",
       "<tr><td>20</td> <td>Liverpool</td> <td>-0.23444976076555024</td></tr></table></div>"
      ],
      "text/plain": [
       "<IPython.core.display.HTML at 0x7f58c4255438>"
      ]
     },
     "metadata": {},
     "output_type": "display_data"
    },
    {
     "data": {
      "text/html": [
       "<h2>Away Form</h2>"
      ],
      "text/plain": [
       "<IPython.core.display.HTML at 0x7f58c42553c8>"
      ]
     },
     "metadata": {},
     "output_type": "display_data"
    },
    {
     "data": {
      "text/html": [
       "<div style=\"display:inline-block; margin-right:2em;\"><table><tr><th>Position</th> <th>Team</th> <th>Points</th></tr><tr><td>1</td> <td>Leicester</td> <td>28</td></tr>\n",
       "<tr><td>2</td> <td>Tottenham</td> <td>26</td></tr>\n",
       "<tr><td>3</td> <td>Arsenal</td> <td>24</td></tr>\n",
       "<tr><td>4</td> <td>Liverpool</td> <td>21</td></tr>\n",
       "<tr><td>5</td> <td>West Ham</td> <td>20</td></tr>\n",
       "<tr><td>6</td> <td>Everton</td> <td>19</td></tr>\n",
       "<tr><td>-</td> <td>Man City</td> <td>19</td></tr>\n",
       "<tr><td>-</td> <td>Stoke</td> <td>19</td></tr>\n",
       "<tr><td>-</td> <td>Man United</td> <td>19</td></tr>\n",
       "<tr><td>10</td> <td>Watford</td> <td>18</td></tr>\n",
       "<tr><td>-</td> <td>Crystal Palace</td> <td>18</td></tr>\n",
       "<tr><td>12</td> <td>Southampton</td> <td>17</td></tr>\n",
       "<tr><td>13</td> <td>Bournemouth</td> <td>16</td></tr>\n",
       "<tr><td>-</td> <td>West Brom</td> <td>16</td></tr>\n",
       "<tr><td>-</td> <td>Chelsea</td> <td>16</td></tr>\n",
       "<tr><td>16</td> <td>Swansea</td> <td>10</td></tr>\n",
       "<tr><td>17</td> <td>Norwich</td> <td>8</td></tr>\n",
       "<tr><td>-</td> <td>Sunderland</td> <td>8</td></tr>\n",
       "<tr><td>19</td> <td>Newcastle</td> <td>7</td></tr>\n",
       "<tr><td>20</td> <td>Aston Villa</td> <td>6</td></tr></table></div>\n",
       "<div style=\"display:inline-block; margin-right:2em;\"><table><tr><th>Position</th> <th>Team</th> <th>Team Rating</th></tr><tr><td>1</td> <td>Man City</td> <td>0.1725730325769805</td></tr>\n",
       "<tr><td>2</td> <td>Tottenham</td> <td>0.17033454803656944</td></tr>\n",
       "<tr><td>3</td> <td>Liverpool</td> <td>0.08981412570356766</td></tr>\n",
       "<tr><td>4</td> <td>Arsenal</td> <td>0.08177113126267696</td></tr>\n",
       "<tr><td>5</td> <td>Leicester</td> <td>0.02743044475163485</td></tr>\n",
       "<tr><td>6</td> <td>Southampton</td> <td>0.015710776410565102</td></tr>\n",
       "<tr><td>7</td> <td>Chelsea</td> <td>0.0008611422646379874</td></tr>\n",
       "<tr><td>8</td> <td>Everton</td> <td>-0.002692833117750884</td></tr>\n",
       "<tr><td>9</td> <td>Man United</td> <td>-0.049251292161275724</td></tr>\n",
       "<tr><td>10</td> <td>West Ham</td> <td>-0.06140146320442257</td></tr>\n",
       "<tr><td>11</td> <td>Bournemouth</td> <td>-0.07508376378741534</td></tr>\n",
       "<tr><td>12</td> <td>Watford</td> <td>-0.10386298679909228</td></tr>\n",
       "<tr><td>13</td> <td>Swansea</td> <td>-0.12072163382910531</td></tr>\n",
       "<tr><td>14</td> <td>Crystal Palace</td> <td>-0.13770496694482226</td></tr>\n",
       "<tr><td>15</td> <td>Stoke</td> <td>-0.18172995712711232</td></tr>\n",
       "<tr><td>16</td> <td>Sunderland</td> <td>-0.23769642540966424</td></tr>\n",
       "<tr><td>17</td> <td>Aston Villa</td> <td>-0.24872344066731975</td></tr>\n",
       "<tr><td>18</td> <td>Norwich</td> <td>-0.25587357471233346</td></tr>\n",
       "<tr><td>19</td> <td>West Brom</td> <td>-0.260371233704567</td></tr>\n",
       "<tr><td>20</td> <td>Newcastle</td> <td>-0.3479487649605296</td></tr></table></div>\n",
       "<div style=\"display:inline-block; margin-right:2em;\"><table><tr><th>Position</th> <th>Team</th> <th>PDO</th></tr><tr><td>1</td> <td>Everton</td> <td>0.16181818181818183</td></tr>\n",
       "<tr><td>2</td> <td>Watford</td> <td>0.14041514041514042</td></tr>\n",
       "<tr><td>3</td> <td>West Ham</td> <td>0.1197827329902802</td></tr>\n",
       "<tr><td>4</td> <td>Leicester</td> <td>0.11207598371777477</td></tr>\n",
       "<tr><td>5</td> <td>West Brom</td> <td>0.05902777777777779</td></tr>\n",
       "<tr><td>6</td> <td>Crystal Palace</td> <td>0.04231974921630094</td></tr>\n",
       "<tr><td>7</td> <td>Stoke</td> <td>0.030266706622715023</td></tr>\n",
       "<tr><td>8</td> <td>Tottenham</td> <td>0.010038610038610063</td></tr>\n",
       "<tr><td>9</td> <td>Arsenal</td> <td>0.002843111915223573</td></tr>\n",
       "<tr><td>10</td> <td>Chelsea</td> <td>0.0</td></tr>\n",
       "<tr><td>11</td> <td>Man United</td> <td>-0.0013668671405139277</td></tr>\n",
       "<tr><td>12</td> <td>Southampton</td> <td>-0.034042553191489355</td></tr>\n",
       "<tr><td>13</td> <td>Liverpool</td> <td>-0.039649986327590925</td></tr>\n",
       "<tr><td>14</td> <td>Swansea</td> <td>-0.07072368421052633</td></tr>\n",
       "<tr><td>15</td> <td>Sunderland</td> <td>-0.08880726015557477</td></tr>\n",
       "<tr><td>16</td> <td>Man City</td> <td>-0.0976190476190476</td></tr>\n",
       "<tr><td>17</td> <td>Bournemouth</td> <td>-0.109391124871001</td></tr>\n",
       "<tr><td>18</td> <td>Aston Villa</td> <td>-0.12059620596205961</td></tr>\n",
       "<tr><td>19</td> <td>Norwich</td> <td>-0.12573839662447256</td></tr>\n",
       "<tr><td>20</td> <td>Newcastle</td> <td>-0.23593073593073596</td></tr></table></div>"
      ],
      "text/plain": [
       "<IPython.core.display.HTML at 0x7f58c4255400>"
      ]
     },
     "metadata": {},
     "output_type": "display_data"
    }
   ],
   "source": [
    "display(HTML('<h2>Home Form</h2>'))\n",
    "display(HTML(league_analysis.header_stat_tables(epl, stats=epl.home_team_stats.values())))\n",
    "display(HTML('<h2>Away Form</h2>'))\n",
    "display(HTML(league_analysis.header_stat_tables(epl, stats=epl.away_team_stats.values())))"
   ]
  },
  {
   "cell_type": "markdown",
   "metadata": {},
   "source": [
    "# West Ham 1-0 Sunderland\n",
    "\n",
    "West Ham have won several games despite not out-shooting opponents and they managed it again here. Here is a table of points scored from games in which a team has been out-shot. It's not surprising that teams like Manchester City and Liverpool do so badly here, simply because there are very few games in which they have been out-shot."
   ]
  },
  {
   "cell_type": "code",
   "execution_count": 15,
   "metadata": {
    "collapsed": false
   },
   "outputs": [
    {
     "data": {
      "text/html": [
       "<table><tr><th>Position</th> <th>Team</th> <th>Scoring Draws</th></tr><tr><td>1</td> <td>Leicester</td> <td>26</td></tr>\n",
       "<tr><td>2</td> <td>West Ham</td> <td>25</td></tr>\n",
       "<tr><td>-</td> <td>West Brom</td> <td>25</td></tr>\n",
       "<tr><td>4</td> <td>Stoke</td> <td>22</td></tr>\n",
       "<tr><td>5</td> <td>Crystal Palace</td> <td>18</td></tr>\n",
       "<tr><td>6</td> <td>Everton</td> <td>16</td></tr>\n",
       "<tr><td>-</td> <td>Swansea</td> <td>16</td></tr>\n",
       "<tr><td>-</td> <td>Newcastle</td> <td>16</td></tr>\n",
       "<tr><td>9</td> <td>Watford</td> <td>15</td></tr>\n",
       "<tr><td>10</td> <td>Man United</td> <td>14</td></tr>\n",
       "<tr><td>-</td> <td>Sunderland</td> <td>14</td></tr>\n",
       "<tr><td>12</td> <td>Southampton</td> <td>12</td></tr>\n",
       "<tr><td>-</td> <td>Arsenal</td> <td>12</td></tr>\n",
       "<tr><td>14</td> <td>Aston Villa</td> <td>9</td></tr>\n",
       "<tr><td>15</td> <td>Bournemouth</td> <td>8</td></tr>\n",
       "<tr><td>-</td> <td>Tottenham</td> <td>8</td></tr>\n",
       "<tr><td>17</td> <td>Norwich</td> <td>7</td></tr>\n",
       "<tr><td>18</td> <td>Chelsea</td> <td>4</td></tr>\n",
       "<tr><td>19</td> <td>Man City</td> <td>3</td></tr>\n",
       "<tr><td>-</td> <td>Liverpool</td> <td>3</td></tr></table>"
      ],
      "text/plain": [
       "<IPython.core.display.HTML at 0x7f58c4438dd8>"
      ]
     },
     "metadata": {},
     "output_type": "display_data"
    }
   ],
   "source": [
    "def points_from_outshot(stats):\n",
    "    def process_game(game):\n",
    "        if stats.teamname == game.HomeTeam:\n",
    "            team_shots = game.HS\n",
    "            opp_shots = game.AS\n",
    "            team_goals = game.FTHG\n",
    "            opp_goals = game.FTAG\n",
    "        else:\n",
    "            assert stats.teamname == game.AwayTeam\n",
    "            team_shots = game.AS\n",
    "            opp_shots = game.HS\n",
    "            team_goals = game.FTAG\n",
    "            opp_goals = game.FTHG\n",
    "        if team_shots < opp_shots:\n",
    "            if team_goals > opp_goals:\n",
    "                return 3\n",
    "            elif team_goals == opp_goals:\n",
    "                return 1\n",
    "            else:\n",
    "                assert team_goals < opp_goals\n",
    "                return 0\n",
    "        else:\n",
    "            return 0\n",
    "    return sum(process_game(g) for g in stats.games)\n",
    "\n",
    "pairs = [(stats.teamname, points_from_outshot(stats)) for stats in epl.team_stats.values()]\n",
    "league_analysis.display_ranked_table(['Team', 'Points from Outshot'], pairs, reverse=True)"
   ]
  },
  {
   "cell_type": "markdown",
   "metadata": {},
   "source": [
    "Really notable that Leicester are leading here, but West Ham (and West Brom) are just a single drawn match behind. Still, none of this helps Sunderland who badly need points. However, Sunderland appear to be in good enough form to *maybe* get themselves out of the relegation zone. In the last ten games they are 14th for team rating. Bit of a shame that Newcastle did not play this weekend, so the comparison is a bit out of sync. I have a bet since the start of the season that Sunderland would be relegated, it's looked good for most of the year, but is probably now the worst it has looked all season."
   ]
  },
  {
   "cell_type": "markdown",
   "metadata": {},
   "source": [
    "# Tottenham 2-1 Swansea\n",
    "\n",
    "Phew, 34 is a lot of shots. That is roughly how many shots Manchester United have taken all season (okay not quite it just feels like that). 14 shots on target is also pretty incredible. Any lingering doubts for Tottenham fans? A 2-1 victory doesn't really seem as convincing as it should have been given that level of domination. Tottenham for me though are now favourites for the league, maybe I said that last week, but they are."
   ]
  },
  {
   "cell_type": "markdown",
   "metadata": {},
   "source": [
    "# Manchester United 3-2 Arsenal\n",
    "\n",
    "I don't know how Manchester United are doing it, but 3 goals from 5 on target and just 7 shots. Scoring 3 goals with just 5 shots on target is not that rare, but doing so whilst also having only 7 shots in total is pretty rare:"
   ]
  },
  {
   "cell_type": "code",
   "execution_count": 18,
   "metadata": {
    "collapsed": false
   },
   "outputs": [
    {
     "data": {
      "text/html": [
       "<div style=\"display:inline-block; margin-right:2em;\">\n",
       "    <table>\n",
       "      <tr><th></th><th>Home</th><th>Away</th></tr>\n",
       "      <tr><td>Team</td><td>Watford</td><td>Liverpool</td></tr>\n",
       "      <tr><td>Goals</td><td>3</td><td>0</td></tr>\n",
       "      <tr><td>Shots</td><td>6</td><td>12</td></tr>\n",
       "      <tr><td>SOT</td><td>5</td><td>4</td></tr>\n",
       "      \n",
       "    </table>\n",
       "    </div>\n",
       "<div style=\"display:inline-block; margin-right:2em;\">\n",
       "    <table>\n",
       "      <tr><th></th><th>Home</th><th>Away</th></tr>\n",
       "      <tr><td>Team</td><td>Swansea</td><td>Sunderland</td></tr>\n",
       "      <tr><td>Goals</td><td>2</td><td>4</td></tr>\n",
       "      <tr><td>Shots</td><td>10</td><td>7</td></tr>\n",
       "      <tr><td>SOT</td><td>5</td><td>5</td></tr>\n",
       "      \n",
       "    </table>\n",
       "    </div>\n",
       "<div style=\"display:inline-block; margin-right:2em;\">\n",
       "    <table>\n",
       "      <tr><th></th><th>Home</th><th>Away</th></tr>\n",
       "      <tr><td>Team</td><td>Norwich</td><td>Liverpool</td></tr>\n",
       "      <tr><td>Goals</td><td>4</td><td>5</td></tr>\n",
       "      <tr><td>Shots</td><td>6</td><td>13</td></tr>\n",
       "      <tr><td>SOT</td><td>5</td><td>7</td></tr>\n",
       "      \n",
       "    </table>\n",
       "    </div>\n",
       "<div style=\"display:inline-block; margin-right:2em;\">\n",
       "    <table>\n",
       "      <tr><th></th><th>Home</th><th>Away</th></tr>\n",
       "      <tr><td>Team</td><td>Man United</td><td>Arsenal</td></tr>\n",
       "      <tr><td>Goals</td><td>3</td><td>2</td></tr>\n",
       "      <tr><td>Shots</td><td>7</td><td>13</td></tr>\n",
       "      <tr><td>SOT</td><td>5</td><td>5</td></tr>\n",
       "      \n",
       "    </table>\n",
       "    </div>"
      ],
      "text/plain": [
       "<IPython.core.display.HTML at 0x7f58c4438ba8>"
      ]
     },
     "metadata": {},
     "output_type": "display_data"
    }
   ],
   "source": [
    "def high_conversion(game):\n",
    "    home = game.FTHG >= 3 and (game.HS <= 7 and game.HST <= 5)\n",
    "    away = game.FTAG >= 3 and (game.AS <= 7 and game.AST <= 5)\n",
    "    return home or away\n",
    "league_analysis.display_given_matches(g for g in epl.matches if high_conversion(g))"
   ]
  },
  {
   "cell_type": "markdown",
   "metadata": {},
   "source": [
    "So just four games so far this season, two teams have managed this against Liverpool, Sunderland actually managed to out-do this feat by scoring 4 goals against Swansea with the same 7 total shots and 5 on target. Norwich are the only team to manage this and still lose, which is a pretty incredible feat.\n",
    "\n",
    "To wrap up, I'm bearish on Manchester United making the top four, I'm a hold for Arsenal winning the title, mostly because I'm so bullish for Tottenham to do so."
   ]
  },
  {
   "cell_type": "markdown",
   "metadata": {},
   "source": [
    "As always thanks for reading. Don't forget there are mid-week games this week, Liverpool and Manchester City get to re-run their cup final on Wednesday."
   ]
  }
 ],
 "metadata": {
  "kernelspec": {
   "display_name": "Python 3",
   "language": "python",
   "name": "python3"
  },
  "language_info": {
   "codemirror_mode": {
    "name": "ipython",
    "version": 3
   },
   "file_extension": ".py",
   "mimetype": "text/x-python",
   "name": "python",
   "nbconvert_exporter": "python",
   "pygments_lexer": "ipython3",
   "version": "3.4.3"
  },
  "nikola": {
   "category": "",
   "date": "2016-02-29 10:38:33 UTC",
   "description": "",
   "link": "",
   "slug": "epl-27-28th-february-2016",
   "tags": "",
   "title": "EPL 27-28th February 2016",
   "type": "text"
  }
 },
 "nbformat": 4,
 "nbformat_minor": 0
}
