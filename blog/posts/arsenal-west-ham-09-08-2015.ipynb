{
 "metadata": {
  "nikola": {
   "category": "",
   "date": "2015-08-11 14:22:15 UTC+01:00",
   "description": "",
   "link": "",
   "slug": "arsenal-west-ham-09-08-2015",
   "tags": "",
   "title": "Arsenal vs West Ham",
   "type": "text"
  },
  "signature": "sha256:d6651a63215892972fc3bda38e77e42dc83780f28f1bd838b7e49ea1f5f94269"
 },
 "nbformat": 3,
 "nbformat_minor": 0,
 "worksheets": [
  {
   "cells": [
    {
     "cell_type": "markdown",
     "metadata": {},
     "source": [
      "# Arsenal vs West Ham 09/08/2015\n",
      "\n",
      "Possibly the largest upset of the week came at the Emirates where Arsenal started their title campaign with a home loss to West Ham. A quick look at the game statistics:"
     ]
    },
    {
     "cell_type": "code",
     "collapsed": false,
     "input": [
      "import league_analysis\n",
      "epl = league_analysis.epl\n",
      "league_analysis.display_match(epl.get_game('Arsenal', 'West Ham', '09/08/15'))"
     ],
     "language": "python",
     "metadata": {},
     "outputs": [
      {
       "html": [
        "\n",
        "    <table>\n",
        "      <tr><th></th><th>Home</th><th>Away</th></tr>\n",
        "      <tr><td>Team</td><td>Arsenal</td><td>West Ham</td></tr>\n",
        "      <tr><td>Goals</td><td>0</td><td>2</td></tr>\n",
        "      <tr><td>Shots</td><td>22</td><td>8</td></tr>\n",
        "      <tr><td>SOT</td><td>6</td><td>4</td></tr>\n",
        "      \n",
        "    </table>\n",
        "    "
       ],
       "metadata": {},
       "output_type": "display_data",
       "text": [
        "<IPython.core.display.HTML at 0x7fa582661898>"
       ]
      }
     ],
     "prompt_number": 1
    },
    {
     "cell_type": "markdown",
     "metadata": {},
     "source": [
      "So Arsenal were pretty dominant in shots, 22 vs 8. They did seem to have trouble converting those shots to shots on target though. We can look at all of the matches in the leagues we have data from (Eng top four leagues and Scottish Premiership), to see how often the team that has fewer shots wins the match:\n",
      "\n",
      "<!-- TEASER_END -->"
     ]
    },
    {
     "cell_type": "code",
     "collapsed": false,
     "input": [
      "all_matches = list(league_analysis.get_all_matches(years=league_analysis.all_years))\n",
      "num_matches = len(all_matches)\n",
      "def shots_winner_wins(match):\n",
      "    return ((match.FTR == 'H' and match.HS > match.AS) or\n",
      "            (match.FTR == 'A' and match.AS > match.HS))\n",
      "def shots_loser_wins(match):\n",
      "    return ((match.FTR == 'H' and match.HS < match.AS) or\n",
      "            (match.FTR == 'A' and match.AS < match.HS))\n",
      "more_shots = league_analysis.count_matches(shots_winner_wins, all_matches)\n",
      "fewer_shots = league_analysis.count_matches(shots_loser_wins, all_matches)\n",
      "draws = league_analysis.count_matches(lambda m: m.FTR == 'D', all_matches)\n",
      "league_analysis.display_pairs([('more shots', more_shots),\n",
      "                               ('fewer shots', fewer_shots),\n",
      "                               ('all wins', num_matches - draws),\n",
      "                               ('draws', draws),\n",
      "                               ('total number of matches', num_matches)])"
     ],
     "language": "python",
     "metadata": {},
     "outputs": [
      {
       "html": [
        "<table>\n",
        "<tr><td>more shots</td><td>4917</td></tr>\n",
        "<tr><td>fewer shots</td><td>2956</td></tr>\n",
        "<tr><td>all wins</td><td>8340</td></tr>\n",
        "<tr><td>draws</td><td>3037</td></tr>\n",
        "<tr><td>total number of matches</td><td>11377</td></tr>\n",
        "</table>"
       ],
       "metadata": {},
       "output_type": "display_data",
       "text": [
        "<IPython.core.display.HTML at 0x7fa5671b2c18>"
       ]
      }
     ],
     "prompt_number": 2
    },
    {
     "cell_type": "markdown",
     "metadata": {},
     "source": [
      "So of course the team that takes the larger number of shots is more likely to win, but it is only a ratio of approximately 5:3 (some games the teams have equal shot numbers). So it is not *that* uncommon for a team that is out-shot to win. However, of course many of these games may be cases in which the difference was small, so we check on how often a team is out-shot by the margin that Arsenal out-shot West Ham by, and how often such a team loses the match:"
     ]
    },
    {
     "cell_type": "code",
     "collapsed": false,
     "input": [
      "def get_win_shots(match):\n",
      "    if match.FTR == 'H':\n",
      "        return match.HS\n",
      "    elif match.FTR == 'A':\n",
      "        return match.AS\n",
      "    else:\n",
      "        return None\n",
      "def get_lose_shots(match):\n",
      "    if match.FTR == 'H':\n",
      "        return match.AS\n",
      "    elif match.FTR == 'A':\n",
      "        return match.HS\n",
      "    else:\n",
      "        return None"
     ],
     "language": "python",
     "metadata": {},
     "outputs": [],
     "prompt_number": 3
    },
    {
     "cell_type": "code",
     "collapsed": false,
     "input": [
      "out_shot_win = 0\n",
      "out_shot_draw = 0\n",
      "out_shot_lose = 0\n",
      "for match in all_matches:\n",
      "    if match.FTR == 'D':\n",
      "        if match.HS - match.AS >= 14 or match.AS - match.HS >= 14:\n",
      "            out_shot_draw += 1\n",
      "    else:\n",
      "        win_shots = get_win_shots(match)\n",
      "        lose_shots = get_lose_shots(match)\n",
      "        if win_shots - lose_shots >= 14:\n",
      "            out_shot_win += 1\n",
      "        elif lose_shots - win_shots >= 14:\n",
      "            out_shot_lose += 1\n",
      "\n",
      "all_out_shots = out_shot_win + out_shot_draw + out_shot_lose\n",
      "league_analysis.display_pairs([('A team wins shots by 14 or more', all_out_shots),\n",
      "                               ('Won shots by 14 but lost', out_shot_lose),\n",
      "                               ('Won shots by 14 and won', out_shot_win),\n",
      "                               ('Won shots by 14 but draw', out_shot_draw)])"
     ],
     "language": "python",
     "metadata": {},
     "outputs": [
      {
       "html": [
        "<table>\n",
        "<tr><td>A team wins shots by 14 or more</td><td>667</td></tr>\n",
        "<tr><td>Won shots by 14 but lost</td><td>118</td></tr>\n",
        "<tr><td>Won shots by 14 and won</td><td>412</td></tr>\n",
        "<tr><td>Won shots by 14 but draw</td><td>137</td></tr>\n",
        "</table>"
       ],
       "metadata": {},
       "output_type": "display_data",
       "text": [
        "<IPython.core.display.HTML at 0x7fa5671c6588>"
       ]
      }
     ],
     "prompt_number": 4
    },
    {
     "cell_type": "markdown",
     "metadata": {},
     "source": [
      "So in only 667 of the 11377 games did one team out-shoot the other by 14 shots or more. In 118 of those cases did the team that took the most shots actually lose the game. By contrast there are 412 games in which such a dominant shots team wins the game. I'm a little surprised there are not a larger number of dominant displays where a team really bosses the shots *and* wins the game. Similarly to the teams that win the shots battle at all, when a team wins the shots battle by as much as Arsenal did at the weekend, they are favourites to win the game, the ratio of wins to losses is only approximately 4:1. Good, but not guaranteed.\n",
      "\n",
      "To be clear, I'm not terribly surprised by the 118 number. When a significantly superior team finds themselves behind in a game they tend to ramp up their urgency and hence shots. So it is not surprising to find the odd game in which such a team just does not find away to score. The 118 number represents less than 1% of the games.\n",
      "\n",
      "I am surprised that less 4% of games result in a team bossing the shots by 14 or more and reaping the benefits of this. I guess this demonstrates that once a team obtains a lead (or possibly a comfortable lead) they don't have much adventure about them. Or perhaps they pass up shooting opportunities in the hope of cultivating better chances, whilst hopefully whittling down the clock.\n",
      "\n",
      "This might tell us something about score-effects. That is, that score effects are rather important."
     ]
    }
   ],
   "metadata": {}
  }
 ]
}