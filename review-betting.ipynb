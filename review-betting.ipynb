{
 "metadata": {
  "name": "",
  "signature": "sha256:6350a39898f26051f4b9ff3eb8f4cfc8b876244347dd3cb21c8ae060fdfc263a"
 },
 "nbformat": 3,
 "nbformat_minor": 0,
 "worksheets": [
  {
   "cells": [
    {
     "cell_type": "code",
     "collapsed": false,
     "input": [
      "bets_text = \"\"\"\n",
      "# League Two:\n",
      "Bristol Rovers v Barnet: 1 - 1, 7.0\n",
      "Cambridge Utd v Crawley Town: 2 - 0, 8.2\n",
      "Carlisle v AFC Wimbledon: 1 - 2, 11.5\n",
      "Exeter v York City: 1 - 2, 12.0\n",
      "Mansfield v Oxford Utd: 1 - 2, 10.0\n",
      "Newport County v Leyton Orient: 1 - 1, 7.6\n",
      "Northampton v Plymouth: 2 - 0, 11.5\n",
      "Notts Co v Accrington S: 0 - 0, 10.5\n",
      "Portsmouth v Morecambe: 2 - 1, 8.8\n",
      "Stevenage v Hartlepool: 2 - 1, 9.4\n",
      "Wycombe v Dag and Red: 2 - 1, 10.0\n",
      "Yeovil v Luton: 1 - 0, 11.0\n",
      "\n",
      "# League One:\n",
      "Barnsley v Bradford: 0 - 0, 10.5\n",
      "Burton v Peterborough: 3 - 1, 21.0\n",
      "Chesterfield v Rochdale: 2 - 1, 9.4\n",
      "Crewe v Bury: 1 - 3, 18.0\n",
      "Fleetwood Town v Colchester: 1 - 2, 13.5\n",
      "Gillingham v Wigan: 2 - 2, 15.0\n",
      "Oldham v Shrewsbury: 0 - 0, 10.0\n",
      "Port Vale v Doncaster: 0 - 0, 10.0\n",
      "Scunthorpe v Millwall: 1 - 2, 12.0\n",
      "Sheff Utd v Blackpool: 2 - 1, 9.0\n",
      "Southend v Swindon: 1 - 2, 12.0\n",
      "Walsall v Coventry: 2 - 2, 16.0\n",
      "\n",
      "# Championship:\n",
      "Birmingham v Derby: 0 - 2, 14.5\n",
      "\n",
      "Leeds v Sheff Wed: 1 - 1, 7.2\n",
      "Bolton v Nottm Forest: 1 - 2, 11.0\n",
      "Brighton v Blackburn: 2 - 1, 10.5\n",
      "Burnley v Brentford: 1 - 2, 12.0\n",
      "Charlton v Hull: 0 - 2, 10.0\n",
      "Fulham v Huddersfield: 2 - 0, 13.6925\n",
      "Middlesbrough v Bristol City: 2 - 1, 9.8\n",
      "Preston v Ipswich: 2 - 1, 11.0\n",
      "QPR v Rotherham: 2 - 0, 9.0\n",
      "Reading v MK Dons: 2 - 1, 10.0\n",
      "Cardiff v Wolves: 1 - 1, 7.2\n",
      "\n",
      "# Premiership:\n",
      "Man Utd v Newcastle: 3 - 0, 10.5\n",
      "C Palace v Aston Villa: 2 - 0, 9.8\n",
      "Leicester v Tottenham: 1 - 1, 7.66\n",
      "Norwich v Stoke: 2 - 1, 11.5\n",
      "Sunderland v Swansea: 0 - 2, 10.5\n",
      "West Ham v Bournemouth: 1 - 2, 12.2925\n",
      "\n",
      "West Brom v Chelsea: 0 - 2, 8.0\n",
      "Everton v Man City: 0 - 2, 10.5\n",
      "Watford v Southampton: 2 - 2, 17.0\n",
      "\n",
      "\n",
      "# Scottish Premiership:\n",
      "Dundee Utd v Celtic: 1 - 3, 12.5\n",
      "Aberdeen v Dundee: 2 - 1, 9.0\n",
      "Inverness CT v Hamilton: 0 - 2, 18.0\n",
      "Hearts v Partick: 2 - 1, 9.6\n",
      "Kilmarnock v Ross Co: 1 - 3, 23.0\n",
      "St Johnstone v Motherwell: 0 - 2, 20.0\n",
      "\"\"\"\n",
      "bets_start_date = \"21/08/2015\"\n",
      "bets_end_date = \"24/08/2015\""
     ],
     "language": "python",
     "metadata": {},
     "outputs": [],
     "prompt_number": 1
    },
    {
     "cell_type": "code",
     "collapsed": false,
     "input": [
      "bets_text = \"\"\"\n",
      "# Scottish Premiership:\n",
      "Celtic v St Johnstone: 3 - 0, 8.331\n",
      "Dundee v Inverness CT: 2 - 0, 11.0725\n",
      "Hamilton v Hearts: 0 - 2, 12.18\n",
      "Motherwell v Kilmarnock: 2 - 0, 10.0\n",
      "Partick v Aberdeen: 1 - 2, 9.235999999999999\n",
      "Ross Co v Dundee Utd: 1 - 0, 9.2\n",
      "\n",
      "# League Two:\n",
      "AFC Wimbledon v Exeter: 2 - 1, 9.912\n",
      "Accrington S v Northampton: 1 - 2, 10.08\n",
      "Barnet v Cambridge Utd: 1 - 1, 6.8\n",
      "Dag and Red v Stevenage: 2 - 1, 12.5625\n",
      "Crawley Town v Wycombe: 0 - 1, 8.2\n",
      "Hartlepool v Carlisle: 1 - 1, 6.6\n",
      "Leyton Orient v Bristol Rovers: 1 - 2, 14.055\n",
      "Luton v Portsmouth: 0 - 2, 14.105\n",
      "Morecambe v Notts Co: 2 - 1, 10.08\n",
      "Oxford Utd v Yeovil: 2 - 0, 7.8\n",
      "Plymouth v Newport County: 2 - 1, 9.235999999999999\n",
      "York City v Mansfield: 1 - 1, 7.0\n",
      "\n",
      "# League One:\n",
      "Blackpool v Walsall: 1 - 3, 18.5\n",
      "Bradford v Port Vale: 0 - 1, 10.5\n",
      "Bury v Oldham: 2 - 0, 10.15\n",
      "Colchester v Scunthorpe: 2 - 0, 16.0475\n",
      "Doncaster v Fleetwood Town: 1 - 2, 13.5575\n",
      "Millwall v Chesterfield: 1 - 2, 11.135\n",
      "Peterborough v Gillingham: 1 - 1, 7.093999999999999\n",
      "Rochdale v Barnsley: 2 - 0, 10.575\n",
      "Shrewsbury v Burton: 1 - 2, 13.06\n",
      "Swindon v Sheff Utd: 2 - 0, 17.045\n",
      "Wigan v Crewe: 1 - 0, 7.29\n",
      "Coventry v Southend: 2 - 1, 10.0\n",
      "\n",
      "# Championship:\n",
      "Blackburn v Bolton: 1 - 0, 8.8\n",
      "\n",
      "Derby v Leeds: 2 - 1, 9.8\n",
      "Brentford v Reading: 1 - 2, 13.0\n",
      "Bristol City v Burnley: 1 - 0, 8.638\n",
      "Huddersfield v QPR: 1 - 1, 7.093999999999999\n",
      "Hull v Preston: 0 - 1, 11.0\n",
      "Ipswich v Brighton: 1 - 1, 6.8\n",
      "MK Dons v Birmingham: 1 - 1, 7.29\n",
      "Nottm Forest v Cardiff: 0 - 1, 10.5\n",
      "Rotherham v Fulham: 1 - 1, 7.047999999999999\n",
      "Sheff Wed v Middlesbrough: 0 - 2, 10.5\n",
      "Wolves v Charlton: 1 - 1, 7.176\n",
      "\n",
      "# Premiership:\n",
      "Newcastle v Arsenal: 1 - 3, 15.5\n",
      "Aston Villa v Sunderland: 1 - 1, 8.0\n",
      "Bournemouth v Leicester: 2 - 1, 10.0\n",
      "Chelsea v C Palace: 2 - 1, 9.8\n",
      "Liverpool v West Ham: 4 - 0, 18.0\n",
      "Man City v Watford: 3 - 1, 11.5\n",
      "Stoke v West Brom: 2 - 1, 10.0\n",
      "Tottenham v Everton: 2 - 0, 12.0\n",
      "Southampton v Norwich: 1 - 1, 7.4\n",
      "Swansea v Man Utd: 1 - 2, 10.5\n",
      "\"\"\"\n",
      "bets_start_date = \"28/08/2015\"\n",
      "bets_end_date = \"31/08/2015\""
     ],
     "language": "python",
     "metadata": {},
     "outputs": [],
     "prompt_number": 2
    },
    {
     "cell_type": "code",
     "collapsed": false,
     "input": [
      "bets_text = \"\"\"\n",
      "# Scottish Premiership:\n",
      "Inverness CT v Hearts: Hearts, 2.5\n",
      "\n",
      "Aberdeen v Celtic: Celtic, 1.95\n",
      "Dundee Utd v Kilmarnock: Dundee Utd, 1.81\n",
      "Motherwell v Ross Co: Ross Co, 2.66\n",
      "Partick v Dundee: The Draw, 3.4\n",
      "St Johnstone v Hamilton: Hamilton, 3.45\n",
      "\n",
      "# Championship:\n",
      "Reading v Ipswich: Reading, 2.3\n",
      "\n",
      "QPR v Nottm Forest: The Draw, 3.8\n",
      "Birmingham v Bristol City: The Draw, 3.5\n",
      "Bolton v Wolves: The Draw, 3.4\n",
      "Brighton v Hull: Brighton, 2.7\n",
      "Burnley v Sheff Wed: Sheff Wed, 4.3\n",
      "Cardiff v Huddersfield: The Draw, 3.5\n",
      "Charlton v Rotherham: The Draw, 3.55125\n",
      "Leeds v Brentford: The Draw, 3.5\n",
      "Middlesbrough v MK Dons: Middlesbrough, 1.6\n",
      "Preston v Derby: Preston, 2.7746000000000004\n",
      "\n",
      "Fulham v Blackburn: Blackburn, 2.96\n",
      "\n",
      "# Premiership:\n",
      "Everton v Chelsea: The Draw, 3.6\n",
      "Arsenal v Stoke: Arsenal, 1.31\n",
      "C Palace v Man City: Man City, 1.67\n",
      "Norwich v Bournemouth: The Draw, 3.5\n",
      "Watford v Swansea: The Draw, 3.4\n",
      "West Brom v Southampton: Southampton, 2.52\n",
      "Man Utd v Liverpool: Man Utd, 2.0\n",
      "\n",
      "Sunderland v Tottenham: Tottenham, 1.95\n",
      "Leicester v Aston Villa: The Draw, 3.75\n",
      "\n",
      "# League One:\n",
      "Barnsley v Swindon: The Draw, 3.6\n",
      "Burton v Rochdale: The Draw, 3.35\n",
      "Chesterfield v Colchester: Colchester, 5.2\n",
      "Crewe v Millwall: The Draw, 3.55\n",
      "Fleetwood Town v Bradford: Fleetwood Town, 3.0\n",
      "Gillingham v Blackpool: Gillingham, 1.65\n",
      "Oldham v Peterborough: Peterborough, 2.82\n",
      "Port Vale v Wigan: The Draw, 3.4\n",
      "Scunthorpe v Coventry: Coventry, 2.6\n",
      "Sheff Utd v Bury: The Draw, 3.7\n",
      "Southend v Shrewsbury: Southend, 2.2\n",
      "Walsall v Doncaster: Walsall, 1.97\n",
      "\"\"\"\n",
      "bets_start_date = \"11/09/2015\"\n",
      "bets_end_date = \"13/09/2015\""
     ],
     "language": "python",
     "metadata": {},
     "outputs": [],
     "prompt_number": 3
    },
    {
     "cell_type": "code",
     "collapsed": false,
     "input": [
      "bets_text = \"\"\"\n",
      "# Scottish Premiership:\n",
      "Aberdeen v Hamilton: The Draw, 4.846500000000001\n",
      "\n",
      "# League One:\n",
      "Port Vale v Millwall: Port Vale, 2.36\n",
      "Sheff Utd v Colchester: Colchester, 5.6\n",
      "\n",
      "# Championship:\n",
      "Birmingham v Nottm Forest: The Draw, 3.6\n",
      "Brighton v Rotherham: Brighton, 1.62\n",
      "Burnley v MK Dons: MK Dons, 5.9\n",
      "Cardiff v Hull: The Draw, 3.3\n",
      "Charlton v Huddersfield: The Draw, 3.45\n",
      "Leeds v Ipswich: The Draw, 3.4\n",
      "Middlesbrough v Brentford: Middlesbrough, 1.62\n",
      "Preston v Bristol City: Preston, 2.36\n",
      "Bolton v Sheff Wed: The Draw, 3.5\n",
      "Reading v Derby: Reading, 2.52\n",
      "\"\"\"\n",
      "bets_start_date = \"15/09/2015\"\n",
      "bets_end_date = \"15/09/2015\""
     ],
     "language": "python",
     "metadata": {},
     "outputs": [],
     "prompt_number": 4
    },
    {
     "cell_type": "code",
     "collapsed": false,
     "input": [
      "bets_text = \"\"\"\n",
      "# Scottish Premiership:\n",
      "Dundee Utd v Inverness CT: Dundee Utd, 2.4637000000000002\n",
      "Hamilton v Motherwell: Hamilton, 2.34\n",
      "Kilmarnock v St Johnstone: St Johnstone, 2.18\n",
      "Ross Co v Partick: Ross Co, 2.12\n",
      "\n",
      "Hearts v Aberdeen: The Draw, 3.4\n",
      "Celtic v Dundee: Celtic, 1.25\n",
      "\n",
      "# Championship:\n",
      "Ipswich v Birmingham: The Draw, 3.7\n",
      "\n",
      "Nottm Forest v Middlesbrough: Nottm Forest, 3.9\n",
      "Blackburn v Charlton: Blackburn, 2.0\n",
      "Brentford v Preston: The Draw, 3.4\n",
      "Bristol City v Reading: Reading, 2.9799\n",
      "Huddersfield v Bolton: Huddersfield, 2.28\n",
      "Hull v QPR: Hull, 1.96\n",
      "MK Dons v Leeds: The Draw, 3.45\n",
      "Rotherham v Cardiff: Cardiff, 2.54\n",
      "Sheff Wed v Fulham: The Draw, 3.6\n",
      "Wolves v Brighton: Brighton, 3.05\n",
      "\n",
      "# Premiership:\n",
      "Chelsea v Arsenal: The Draw, 3.55\n",
      "Aston Villa v West Brom: The Draw, 3.3\n",
      "Bournemouth v Sunderland: The Draw, 4.0\n",
      "Newcastle v Watford: Watford, 3.1\n",
      "Stoke v Leicester: Leicester, 3.15\n",
      "Swansea v Everton: The Draw, 3.45\n",
      "Man City v West Ham: Man City, 1.29\n",
      "\n",
      "Tottenham v C Palace: Tottenham, 2.04\n",
      "Liverpool v Norwich: The Draw, 4.0\n",
      "Southampton v Man Utd: Southampton, 3.25\n",
      "\"\"\"\n",
      "bets_start_date = \"18/09/2015\"\n",
      "bets_end_date = \"21/09/2015\""
     ],
     "language": "python",
     "metadata": {},
     "outputs": [],
     "prompt_number": 5
    },
    {
     "cell_type": "code",
     "collapsed": false,
     "input": [
      "bets_text = \"\"\"\n",
      "# Scottish Premiership:\n",
      "Celtic v Hearts: Celtic, 1.27\n",
      "Dundee v Ross Co: Ross Co, 2.94\n",
      "Inverness CT v Aberdeen: Aberdeen, 1.91\n",
      "Kilmarnock v Hamilton: Hamilton, 2.3225\n",
      "Motherwell v Partick: Motherwell, 2.54\n",
      "St Johnstone v Dundee Utd: Dundee Utd, 3.5\n",
      "\n",
      "# Championship:\n",
      "Fulham v QPR: The Draw, 3.5\n",
      "\n",
      "MK Dons v Derby: Derby, 2.06\n",
      "Birmingham v Rotherham: The Draw, 3.65\n",
      "Bolton v Brighton: Brighton, 2.34\n",
      "Brentford v Sheff Wed: The Draw, 3.55\n",
      "Burnley v Reading: Reading, 3.1\n",
      "Cardiff v Charlton: Cardiff, 1.9610000000000003\n",
      "Hull v Blackburn: The Draw, 3.55\n",
      "Ipswich v Bristol City: The Draw, 3.75\n",
      "Preston v Wolves: Preston, 2.44\n",
      "\n",
      "Middlesbrough v Leeds: Middlesbrough, 1.55\n",
      "\n",
      "# Premiership:\n",
      "Tottenham v Man City: Man City, 2.0\n",
      "Leicester v Arsenal: The Draw, 4.1\n",
      "Liverpool v Aston Villa: Liverpool, 1.56\n",
      "Man Utd v Sunderland: Man Utd, 1.24\n",
      "Southampton v Swansea: Southampton, 2.08\n",
      "Stoke v Bournemouth: The Draw, 3.45\n",
      "West Ham v Norwich: The Draw, 3.55\n",
      "\n",
      "Newcastle v Chelsea: Chelsea, 1.66\n",
      "Watford v C Palace: Watford, 2.6\n",
      "\n",
      "West Brom v Everton: Everton, 2.54\n",
      "\"\"\"\n",
      "bets_start_date = \"25/09/2015\"\n",
      "bets_end_date = \"28/09/2015\""
     ],
     "language": "python",
     "metadata": {},
     "outputs": [],
     "prompt_number": 6
    },
    {
     "cell_type": "code",
     "collapsed": false,
     "input": [
      "bets_text = \"\"\"\n",
      "#Championship:\n",
      "Brentford v Birmingham: The Draw, 3.65\n",
      "Fulham v Wolves: The Draw, 3.6\n",
      "\n",
      "#League One\n",
      "Blackpool v Chesterfield: Chesterfield, 2.18\n",
      "Burton v Sheff Utd: Burton, 2.66\n",
      "Colchester v Bradford: Colchester, 3.0\n",
      "Crewe v Southend: Southend, 2.18\n",
      "Doncaster v Swindon: The Draw, 3.45\n",
      "Gillingham v Fleetwood Town: The Draw, 3.7\n",
      "Peterborough v Bury: Peterborough, 2.52\n",
      "Port Vale v Oldham: Port Vale, 2.02\n",
      "Rochdale v Shrewsbury: Rochdale, 2.14\n",
      "Scunthorpe v Walsall: Walsall, 2.48\n",
      "Wigan v Millwall: The Draw, 3.45\n",
      "\"\"\"\n",
      "bets_start_date = \"29/09/2015\"\n",
      "bets_end_date = \"29/09/2015\""
     ],
     "language": "python",
     "metadata": {},
     "outputs": [],
     "prompt_number": 7
    },
    {
     "cell_type": "code",
     "collapsed": false,
     "input": [
      "bets_text = \"\"\"\n",
      "# Scottish Premiership:\n",
      "Aberdeen v St Johnstone: Aberdeen, 1.63\n",
      "Dundee v Motherwell: Dundee, 2.28\n",
      "Hearts v Kilmarnock: Hearts, 1.5247\n",
      "Partick v Dundee Utd: The Draw, 3.5275\n",
      "Ross Co v Inverness CT: Ross Co, 2.2962999999999996\n",
      "\n",
      "Hamilton v Celtic: Celtic, 1.35\n",
      "\n",
      "# Championship:\n",
      "Rotherham v Burnley: The Draw, 3.45\n",
      "\n",
      "Wolves v Huddersfield: The Draw, 3.7\n",
      "Blackburn v Ipswich: Blackburn, 2.28\n",
      "Bristol City v MK Dons: The Draw, 3.85\n",
      "Brighton v Cardiff: Brighton, 1.92\n",
      "Derby v Brentford: Derby, 1.73\n",
      "Leeds v Birmingham: The Draw, 3.55\n",
      "Nottm Forest v Hull: The Draw, 3.35\n",
      "QPR v Bolton: The Draw, 3.65\n",
      "Reading v Middlesbrough: Reading, 2.68\n",
      "Sheff Wed v Preston: The Draw, 3.5\n",
      "\n",
      "Charlton v Fulham: The Draw, 3.5\n",
      "\n",
      "# Premiership:\n",
      "C Palace v West Brom: The Draw, 3.7\n",
      "Aston Villa v Stoke: The Draw, 3.35\n",
      "Bournemouth v Watford: Watford, 3.85\n",
      "Man City v Newcastle: Man City, 1.26\n",
      "# Man City v Newcastle: Man City, 2.0639999999999996\n",
      "Norwich v Leicester: The Draw, 3.6\n",
      "Sunderland v West Ham: The Draw, 3.5\n",
      "Chelsea v Southampton: Southampton, 5.0\n",
      "\n",
      "Everton v Liverpool: Liverpool, 2.9\n",
      "Arsenal v Man Utd: The Draw, 3.8\n",
      "Swansea v Tottenham: The Draw, 3.45\n",
      "\n",
      "# League One:\n",
      "Blackpool v Swindon: The Draw, 3.55\n",
      "Burton v Southend: Burton, 2.16\n",
      "Colchester v Bury: The Draw, 3.55\n",
      "Coventry v Shrewsbury: Coventry, 2.28\n",
      "Crewe v Chesterfield: The Draw, 3.55\n",
      "Doncaster v Barnsley: Doncaster, 2.5\n",
      "Gillingham v Oldham: Gillingham, 1.95\n",
      "Peterborough v Millwall: Peterborough, 2.6\n",
      "\"\"\"\n",
      "bets_start_date = \"2/10/2015\"\n",
      "bets_end_date = \"5/10/2015\""
     ],
     "language": "python",
     "metadata": {},
     "outputs": [],
     "prompt_number": 13
    },
    {
     "cell_type": "code",
     "collapsed": false,
     "input": [
      "import blog.posts.league_analysis as league_analysis\n",
      "from IPython.display import display, HTML"
     ],
     "language": "python",
     "metadata": {},
     "outputs": [],
     "prompt_number": 9
    },
    {
     "cell_type": "code",
     "collapsed": false,
     "input": [
      "def display_bet_analysis(bet_line, match, league, profit_loss=None):\n",
      "    # So this is the number of goals we would have expected the team to have scored based on shots\n",
      "    home_shots_goals = match.HS / league.shots_per_goal\n",
      "    away_shots_goals = match.AS / league.shots_per_goal\n",
      "    # Similarly for shots on target\n",
      "    home_sot_goals = match.HST / league.sot_per_goal\n",
      "    away_sot_goals = match.AST / league.sot_per_goal\n",
      "\n",
      "    # Who is closer to the shots scorelines, the bet or the real scoreline?\n",
      "    home_shots_score_diff = abs(match.FTHG - home_shots_goals)\n",
      "    away_shots_score_diff = abs(match.FTAG - away_shots_goals)\n",
      "    home_sots_score_diff = abs(match.FTHG - home_sot_goals)\n",
      "    away_sots_score_diff = abs(match.FTAG - away_sot_goals)\n",
      "\n",
      "    # home_bet = bet_line.home_score\n",
      "    # away_bet = bet_line.away_score\n",
      "    # home_shots_bet_diff = abs(home_bet - home_shots_goals)\n",
      "    # away_shots_bet_diff = abs(away_bet - away_shots_goals)\n",
      "    # home_sots_bet_diff = abs(home_bet - home_sot_goals)\n",
      "    # away_sots_bet_diff = abs(away_bet - away_sot_goals)\n",
      "    \n",
      "    headers = ['', match.HomeTeam, match.AwayTeam]\n",
      "    rows = [['Goals', match.FTHG, match.FTAG],\n",
      "            # ['Bet Goals', home_bet, away_bet],\n",
      "            ['Shots', match.HS, match.AS],\n",
      "            ['SOT', match.HST, match.AST],\n",
      "            ['Shots Scoreline', home_shots_goals, away_shots_goals],\n",
      "            ['SOT Scoreline', home_sot_goals, away_sot_goals],\n",
      "            ['Score-Shots Diff', home_shots_score_diff, away_shots_score_diff],\n",
      "            # ['Bet-Shots Diff', home_shots_bet_diff, away_shots_bet_diff],\n",
      "            ['Score-Sots Diff', home_sots_score_diff, away_sots_score_diff],\n",
      "            # ['Bet-Sots Diff', home_sots_bet_diff, away_sots_bet_diff]\n",
      "            ['Bet', bet_line.bet_result, bet_line.bet_result],\n",
      "            ['Profit/Loss', profit_loss, profit_loss]\n",
      "            ]\n",
      "\n",
      "    league_analysis.display_table(headers, rows)\n",
      "\n"
     ],
     "language": "python",
     "metadata": {},
     "outputs": [],
     "prompt_number": 10
    },
    {
     "cell_type": "code",
     "collapsed": false,
     "input": [
      "class BetLine(object):\n",
      "    def __init__(self, bet_line):\n",
      "        \"\"\"Example Correct Score bet line: Bristol Rovers v Barnet: 1 - 1, 7.0\n",
      "        Example of a Result bet line: Walsall v Doncaster: Walsall, 1.97\n",
      "        \"\"\"\n",
      "        self.parse_result_line(bet_line)\n",
      "\n",
      "    def parse_correct_score_line(self, bet_line):\n",
      "        \"\"\"Example Correct Score bet line: Bristol Rovers v Barnet: 1 - 1, 7.0\n",
      "        \"\"\"\n",
      "        match_teams, bet_details = bet_line.split(': ')\n",
      "        self.home, self.away = match_teams.split(' v ')\n",
      "        bet_score, self.bet_price = bet_details.split(', ')\n",
      "        home_score, away_score = bet_score.split(' - ')\n",
      "        self.home_score = int(home_score)\n",
      "        self.away_score = int(away_score)\n",
      "    \n",
      "    def parse_result_line(self, bet_line):\n",
      "        \"\"\"Example of a Result bet line: Walsall v Doncaster: Walsall, 1.97\n",
      "        \"\"\"\n",
      "        match_teams, bet_details = bet_line.split(': ')\n",
      "        self.home, self.away = match_teams.split(' v ')\n",
      "        result, self.bet_price = bet_details.split(', ')\n",
      "        if result == \"The Draw\":\n",
      "            self.bet_result = 'D'\n",
      "        elif result == self.home:\n",
      "            self.bet_result = 'H'\n",
      "        else:\n",
      "            assert result == self.away\n",
      "            self.bet_result = 'A'\n",
      "    \n",
      "    def get_relevant_match(self, league, start_date, end_date):\n",
      "        home = league_analysis.alias_team(self.home)\n",
      "        away = league_analysis.alias_team(self.away)\n",
      "    \n",
      "        matches = league_analysis.get_matches(league, start_date, end_date,\n",
      "                                              home_team=home, away_team=away)\n",
      "        match = matches[0]\n",
      "        self.match = match\n",
      "        return match\n",
      "\n",
      "    def get_profit_loss(self, match=None, commission=0.05):\n",
      "        if match is None:\n",
      "            match = self.match\n",
      "        # The amount of money you get back is the odds multiplied by\n",
      "        # the commission you pay. If you lose the bet you get no money back\n",
      "        if self.bet_result == match.FTR:\n",
      "            odds = float(self.bet_price)\n",
      "            return (odds - 1.0) * (1.0 - commission)\n",
      "        else:\n",
      "            return -1.0"
     ],
     "language": "python",
     "metadata": {},
     "outputs": [],
     "prompt_number": 11
    },
    {
     "cell_type": "code",
     "collapsed": false,
     "input": [
      "league_two = league_analysis.year_201516.elt_league\n",
      "league_one = league_analysis.year_201516.elo_league\n",
      "championship = league_analysis.year_201516.ech_league\n",
      "premiership = league_analysis.year_201516.epl_league\n",
      "scottish_premiership = league_analysis.year_201516.spl_league\n",
      "\n",
      "all_leagues = league_analysis.year_201516.all_leagues\n",
      "league_bet_lines = {league.title: (league, []) for league in all_leagues}\n",
      "\n",
      "def add_bet_line(bet_line):\n",
      "    for league in all_leagues:\n",
      "        home = league_analysis.alias_team(bet_line.home)\n",
      "        away = league_analysis.alias_team(bet_line.away)\n",
      "        if home in league.teams and away in league.teams:\n",
      "            _league, league_lines = league_bet_lines[league.title]\n",
      "            league_lines.append(bet_line)\n",
      "            break\n",
      "    else:\n",
      "        message = 'Match not found in any league, {0} vs {1}'\n",
      "        raise Exception(message.format(bet_line.home, bet_line.away))\n",
      "\n",
      "for line in bets_text.split('\\n'):\n",
      "    if line == '' or line.startswith('#'):\n",
      "        continue\n",
      "    bet_line = BetLine(line)\n",
      "    add_bet_line(bet_line)\n",
      "\n",
      "league_profit_loss = 0.0\n",
      "total_profit_loss = 0.0\n",
      "for league_name, (current_league, bet_lines) in league_bet_lines.items():\n",
      "    league_profit_loss = 0.0\n",
      "    if not bet_lines:\n",
      "        continue\n",
      "    display(HTML('<h2>{0}</h2>'.format(league_name)))\n",
      "    for bet_line in bet_lines:\n",
      "        try:\n",
      "            match = bet_line.get_relevant_match(current_league, bets_start_date, bets_end_date)\n",
      "        except IndexError:\n",
      "            message_template = 'Data not available for match: {0} vs {1}'\n",
      "            message = message_template.format(bet_line.home, bet_line.away)\n",
      "            display(HTML(message))\n",
      "            continue\n",
      "        profit_loss = bet_line.get_profit_loss(match=match, commission=0.05)\n",
      "        league_profit_loss += profit_loss\n",
      "        display_bet_analysis(bet_line, match, current_league, profit_loss=profit_loss)\n",
      "    display(HTML('<h3>League profit/loss: {0}</h3>'.format(league_profit_loss)))\n",
      "    total_profit_loss += league_profit_loss\n",
      "display(HTML('<h2>Total profit/loss: {0}</h2>'.format(total_profit_loss)))"
     ],
     "language": "python",
     "metadata": {},
     "outputs": [
      {
       "html": [
        "<h2>championship</h2>"
       ],
       "metadata": {},
       "output_type": "display_data",
       "text": [
        "<IPython.core.display.HTML at 0x7fdea4f599e8>"
       ]
      },
      {
       "html": [
        "<table><tr><th></th> <th>Rotherham</th> <th>Burnley</th></tr><tr><td>Goals</td> <td>1</td> <td>2</td></tr>\n",
        "<tr><td>Shots</td> <td>15</td> <td>12</td></tr>\n",
        "<tr><td>SOT</td> <td>3</td> <td>5</td></tr>\n",
        "<tr><td>Shots Scoreline</td> <td>1.4592545799115604</td> <td>1.1674036639292482</td></tr>\n",
        "<tr><td>SOT Scoreline</td> <td>0.8988326848249028</td> <td>1.4980544747081712</td></tr>\n",
        "<tr><td>Score-Shots Diff</td> <td>0.4592545799115604</td> <td>0.8325963360707518</td></tr>\n",
        "<tr><td>Score-Sots Diff</td> <td>0.10116731517509725</td> <td>0.5019455252918288</td></tr>\n",
        "<tr><td>Bet</td> <td>D</td> <td>D</td></tr>\n",
        "<tr><td>Profit/Loss</td> <td>-1.0</td> <td>-1.0</td></tr></table>"
       ],
       "metadata": {},
       "output_type": "display_data",
       "text": [
        "<IPython.core.display.HTML at 0x7fdea4f597b8>"
       ]
      },
      {
       "html": [
        "<table><tr><th></th> <th>Wolves</th> <th>Huddersfield</th></tr><tr><td>Goals</td> <td>3</td> <td>0</td></tr>\n",
        "<tr><td>Shots</td> <td>14</td> <td>12</td></tr>\n",
        "<tr><td>SOT</td> <td>8</td> <td>6</td></tr>\n",
        "<tr><td>Shots Scoreline</td> <td>1.3619709412507897</td> <td>1.1674036639292482</td></tr>\n",
        "<tr><td>SOT Scoreline</td> <td>2.396887159533074</td> <td>1.7976653696498055</td></tr>\n",
        "<tr><td>Score-Shots Diff</td> <td>1.6380290587492103</td> <td>1.1674036639292482</td></tr>\n",
        "<tr><td>Score-Sots Diff</td> <td>0.6031128404669261</td> <td>1.7976653696498055</td></tr>\n",
        "<tr><td>Bet</td> <td>D</td> <td>D</td></tr>\n",
        "<tr><td>Profit/Loss</td> <td>-1.0</td> <td>-1.0</td></tr></table>"
       ],
       "metadata": {},
       "output_type": "display_data",
       "text": [
        "<IPython.core.display.HTML at 0x7fdea4f597b8>"
       ]
      },
      {
       "html": [
        "<table><tr><th></th> <th>Blackburn</th> <th>Ipswich</th></tr><tr><td>Goals</td> <td>2</td> <td>0</td></tr>\n",
        "<tr><td>Shots</td> <td>15</td> <td>10</td></tr>\n",
        "<tr><td>SOT</td> <td>4</td> <td>3</td></tr>\n",
        "<tr><td>Shots Scoreline</td> <td>1.4592545799115604</td> <td>0.9728363866077069</td></tr>\n",
        "<tr><td>SOT Scoreline</td> <td>1.198443579766537</td> <td>0.8988326848249028</td></tr>\n",
        "<tr><td>Score-Shots Diff</td> <td>0.5407454200884396</td> <td>0.9728363866077069</td></tr>\n",
        "<tr><td>Score-Sots Diff</td> <td>0.8015564202334631</td> <td>0.8988326848249028</td></tr>\n",
        "<tr><td>Bet</td> <td>H</td> <td>H</td></tr>\n",
        "<tr><td>Profit/Loss</td> <td>1.2159999999999997</td> <td>1.2159999999999997</td></tr></table>"
       ],
       "metadata": {},
       "output_type": "display_data",
       "text": [
        "<IPython.core.display.HTML at 0x7fdea4f597b8>"
       ]
      },
      {
       "html": [
        "<table><tr><th></th> <th>Bristol City</th> <th>Milton Keynes Dons</th></tr><tr><td>Goals</td> <td>1</td> <td>1</td></tr>\n",
        "<tr><td>Shots</td> <td>6</td> <td>11</td></tr>\n",
        "<tr><td>SOT</td> <td>3</td> <td>4</td></tr>\n",
        "<tr><td>Shots Scoreline</td> <td>0.5837018319646241</td> <td>1.0701200252684775</td></tr>\n",
        "<tr><td>SOT Scoreline</td> <td>0.8988326848249028</td> <td>1.198443579766537</td></tr>\n",
        "<tr><td>Score-Shots Diff</td> <td>0.4162981680353759</td> <td>0.07012002526847749</td></tr>\n",
        "<tr><td>Score-Sots Diff</td> <td>0.10116731517509725</td> <td>0.19844357976653693</td></tr>\n",
        "<tr><td>Bet</td> <td>D</td> <td>D</td></tr>\n",
        "<tr><td>Profit/Loss</td> <td>2.7075</td> <td>2.7075</td></tr></table>"
       ],
       "metadata": {},
       "output_type": "display_data",
       "text": [
        "<IPython.core.display.HTML at 0x7fdea4f597b8>"
       ]
      },
      {
       "html": [
        "<table><tr><th></th> <th>Brighton</th> <th>Cardiff</th></tr><tr><td>Goals</td> <td>1</td> <td>1</td></tr>\n",
        "<tr><td>Shots</td> <td>20</td> <td>6</td></tr>\n",
        "<tr><td>SOT</td> <td>8</td> <td>3</td></tr>\n",
        "<tr><td>Shots Scoreline</td> <td>1.9456727732154138</td> <td>0.5837018319646241</td></tr>\n",
        "<tr><td>SOT Scoreline</td> <td>2.396887159533074</td> <td>0.8988326848249028</td></tr>\n",
        "<tr><td>Score-Shots Diff</td> <td>0.9456727732154138</td> <td>0.4162981680353759</td></tr>\n",
        "<tr><td>Score-Sots Diff</td> <td>1.3968871595330739</td> <td>0.10116731517509725</td></tr>\n",
        "<tr><td>Bet</td> <td>H</td> <td>H</td></tr>\n",
        "<tr><td>Profit/Loss</td> <td>-1.0</td> <td>-1.0</td></tr></table>"
       ],
       "metadata": {},
       "output_type": "display_data",
       "text": [
        "<IPython.core.display.HTML at 0x7fdea4f597b8>"
       ]
      },
      {
       "html": [
        "<table><tr><th></th> <th>Derby</th> <th>Brentford</th></tr><tr><td>Goals</td> <td>2</td> <td>0</td></tr>\n",
        "<tr><td>Shots</td> <td>21</td> <td>11</td></tr>\n",
        "<tr><td>SOT</td> <td>6</td> <td>5</td></tr>\n",
        "<tr><td>Shots Scoreline</td> <td>2.0429564118761845</td> <td>1.0701200252684775</td></tr>\n",
        "<tr><td>SOT Scoreline</td> <td>1.7976653696498055</td> <td>1.4980544747081712</td></tr>\n",
        "<tr><td>Score-Shots Diff</td> <td>0.042956411876184486</td> <td>1.0701200252684775</td></tr>\n",
        "<tr><td>Score-Sots Diff</td> <td>0.2023346303501945</td> <td>1.4980544747081712</td></tr>\n",
        "<tr><td>Bet</td> <td>H</td> <td>H</td></tr>\n",
        "<tr><td>Profit/Loss</td> <td>0.6935</td> <td>0.6935</td></tr></table>"
       ],
       "metadata": {},
       "output_type": "display_data",
       "text": [
        "<IPython.core.display.HTML at 0x7fdea4f597b8>"
       ]
      },
      {
       "html": [
        "<table><tr><th></th> <th>Leeds</th> <th>Birmingham</th></tr><tr><td>Goals</td> <td>0</td> <td>2</td></tr>\n",
        "<tr><td>Shots</td> <td>13</td> <td>13</td></tr>\n",
        "<tr><td>SOT</td> <td>4</td> <td>5</td></tr>\n",
        "<tr><td>Shots Scoreline</td> <td>1.264687302590019</td> <td>1.264687302590019</td></tr>\n",
        "<tr><td>SOT Scoreline</td> <td>1.198443579766537</td> <td>1.4980544747081712</td></tr>\n",
        "<tr><td>Score-Shots Diff</td> <td>1.264687302590019</td> <td>0.7353126974099811</td></tr>\n",
        "<tr><td>Score-Sots Diff</td> <td>1.198443579766537</td> <td>0.5019455252918288</td></tr>\n",
        "<tr><td>Bet</td> <td>D</td> <td>D</td></tr>\n",
        "<tr><td>Profit/Loss</td> <td>-1.0</td> <td>-1.0</td></tr></table>"
       ],
       "metadata": {},
       "output_type": "display_data",
       "text": [
        "<IPython.core.display.HTML at 0x7fdea4f597b8>"
       ]
      },
      {
       "html": [
        "<table><tr><th></th> <th>Nott'm Forest</th> <th>Hull</th></tr><tr><td>Goals</td> <td>0</td> <td>1</td></tr>\n",
        "<tr><td>Shots</td> <td>28</td> <td>15</td></tr>\n",
        "<tr><td>SOT</td> <td>8</td> <td>8</td></tr>\n",
        "<tr><td>Shots Scoreline</td> <td>2.7239418825015793</td> <td>1.4592545799115604</td></tr>\n",
        "<tr><td>SOT Scoreline</td> <td>2.396887159533074</td> <td>2.396887159533074</td></tr>\n",
        "<tr><td>Score-Shots Diff</td> <td>2.7239418825015793</td> <td>0.4592545799115604</td></tr>\n",
        "<tr><td>Score-Sots Diff</td> <td>2.396887159533074</td> <td>1.3968871595330739</td></tr>\n",
        "<tr><td>Bet</td> <td>D</td> <td>D</td></tr>\n",
        "<tr><td>Profit/Loss</td> <td>-1.0</td> <td>-1.0</td></tr></table>"
       ],
       "metadata": {},
       "output_type": "display_data",
       "text": [
        "<IPython.core.display.HTML at 0x7fdea4f597b8>"
       ]
      },
      {
       "html": [
        "<table><tr><th></th> <th>QPR</th> <th>Bolton</th></tr><tr><td>Goals</td> <td>4</td> <td>3</td></tr>\n",
        "<tr><td>Shots</td> <td>19</td> <td>11</td></tr>\n",
        "<tr><td>SOT</td> <td>10</td> <td>4</td></tr>\n",
        "<tr><td>Shots Scoreline</td> <td>1.848389134554643</td> <td>1.0701200252684775</td></tr>\n",
        "<tr><td>SOT Scoreline</td> <td>2.9961089494163424</td> <td>1.198443579766537</td></tr>\n",
        "<tr><td>Score-Shots Diff</td> <td>2.151610865445357</td> <td>1.9298799747315225</td></tr>\n",
        "<tr><td>Score-Sots Diff</td> <td>1.0038910505836576</td> <td>1.801556420233463</td></tr>\n",
        "<tr><td>Bet</td> <td>D</td> <td>D</td></tr>\n",
        "<tr><td>Profit/Loss</td> <td>-1.0</td> <td>-1.0</td></tr></table>"
       ],
       "metadata": {},
       "output_type": "display_data",
       "text": [
        "<IPython.core.display.HTML at 0x7fdea4f597b8>"
       ]
      },
      {
       "html": [
        "<table><tr><th></th> <th>Reading</th> <th>Middlesbrough</th></tr><tr><td>Goals</td> <td>2</td> <td>0</td></tr>\n",
        "<tr><td>Shots</td> <td>14</td> <td>6</td></tr>\n",
        "<tr><td>SOT</td> <td>4</td> <td>1</td></tr>\n",
        "<tr><td>Shots Scoreline</td> <td>1.3619709412507897</td> <td>0.5837018319646241</td></tr>\n",
        "<tr><td>SOT Scoreline</td> <td>1.198443579766537</td> <td>0.29961089494163423</td></tr>\n",
        "<tr><td>Score-Shots Diff</td> <td>0.6380290587492103</td> <td>0.5837018319646241</td></tr>\n",
        "<tr><td>Score-Sots Diff</td> <td>0.8015564202334631</td> <td>0.29961089494163423</td></tr>\n",
        "<tr><td>Bet</td> <td>H</td> <td>H</td></tr>\n",
        "<tr><td>Profit/Loss</td> <td>1.596</td> <td>1.596</td></tr></table>"
       ],
       "metadata": {},
       "output_type": "display_data",
       "text": [
        "<IPython.core.display.HTML at 0x7fdea4f597b8>"
       ]
      },
      {
       "html": [
        "<table><tr><th></th> <th>Sheffield Weds</th> <th>Preston</th></tr><tr><td>Goals</td> <td>3</td> <td>1</td></tr>\n",
        "<tr><td>Shots</td> <td>13</td> <td>10</td></tr>\n",
        "<tr><td>SOT</td> <td>6</td> <td>4</td></tr>\n",
        "<tr><td>Shots Scoreline</td> <td>1.264687302590019</td> <td>0.9728363866077069</td></tr>\n",
        "<tr><td>SOT Scoreline</td> <td>1.7976653696498055</td> <td>1.198443579766537</td></tr>\n",
        "<tr><td>Score-Shots Diff</td> <td>1.735312697409981</td> <td>0.027163613392293118</td></tr>\n",
        "<tr><td>Score-Sots Diff</td> <td>1.2023346303501945</td> <td>0.19844357976653693</td></tr>\n",
        "<tr><td>Bet</td> <td>D</td> <td>D</td></tr>\n",
        "<tr><td>Profit/Loss</td> <td>-1.0</td> <td>-1.0</td></tr></table>"
       ],
       "metadata": {},
       "output_type": "display_data",
       "text": [
        "<IPython.core.display.HTML at 0x7fdea4f597b8>"
       ]
      },
      {
       "html": [
        "<table><tr><th></th> <th>Charlton</th> <th>Fulham</th></tr><tr><td>Goals</td> <td>2</td> <td>2</td></tr>\n",
        "<tr><td>Shots</td> <td>21</td> <td>18</td></tr>\n",
        "<tr><td>SOT</td> <td>7</td> <td>8</td></tr>\n",
        "<tr><td>Shots Scoreline</td> <td>2.0429564118761845</td> <td>1.7511054958938723</td></tr>\n",
        "<tr><td>SOT Scoreline</td> <td>2.09727626459144</td> <td>2.396887159533074</td></tr>\n",
        "<tr><td>Score-Shots Diff</td> <td>0.042956411876184486</td> <td>0.24889450410612768</td></tr>\n",
        "<tr><td>Score-Sots Diff</td> <td>0.09727626459143979</td> <td>0.39688715953307385</td></tr>\n",
        "<tr><td>Bet</td> <td>D</td> <td>D</td></tr>\n",
        "<tr><td>Profit/Loss</td> <td>2.375</td> <td>2.375</td></tr></table>"
       ],
       "metadata": {},
       "output_type": "display_data",
       "text": [
        "<IPython.core.display.HTML at 0x7fdea4f597b8>"
       ]
      },
      {
       "html": [
        "<h3>League profit/loss: 1.5879999999999999</h3>"
       ],
       "metadata": {},
       "output_type": "display_data",
       "text": [
        "<IPython.core.display.HTML at 0x7fdea4f599e8>"
       ]
      },
      {
       "html": [
        "<h2>premier-league</h2>"
       ],
       "metadata": {},
       "output_type": "display_data",
       "text": [
        "<IPython.core.display.HTML at 0x7fdea4f599e8>"
       ]
      },
      {
       "html": [
        "<table><tr><th></th> <th>Crystal Palace</th> <th>West Brom</th></tr><tr><td>Goals</td> <td>2</td> <td>0</td></tr>\n",
        "<tr><td>Shots</td> <td>21</td> <td>7</td></tr>\n",
        "<tr><td>SOT</td> <td>8</td> <td>2</td></tr>\n",
        "<tr><td>Shots Scoreline</td> <td>2.1430568499534015</td> <td>0.7143522833178005</td></tr>\n",
        "<tr><td>SOT Scoreline</td> <td>2.3707713125845737</td> <td>0.5926928281461434</td></tr>\n",
        "<tr><td>Score-Shots Diff</td> <td>0.1430568499534015</td> <td>0.7143522833178005</td></tr>\n",
        "<tr><td>Score-Sots Diff</td> <td>0.37077131258457374</td> <td>0.5926928281461434</td></tr>\n",
        "<tr><td>Bet</td> <td>D</td> <td>D</td></tr>\n",
        "<tr><td>Profit/Loss</td> <td>-1.0</td> <td>-1.0</td></tr></table>"
       ],
       "metadata": {},
       "output_type": "display_data",
       "text": [
        "<IPython.core.display.HTML at 0x7fdea4f597b8>"
       ]
      },
      {
       "html": [
        "<table><tr><th></th> <th>Aston Villa</th> <th>Stoke</th></tr><tr><td>Goals</td> <td>0</td> <td>1</td></tr>\n",
        "<tr><td>Shots</td> <td>13</td> <td>12</td></tr>\n",
        "<tr><td>SOT</td> <td>2</td> <td>5</td></tr>\n",
        "<tr><td>Shots Scoreline</td> <td>1.3266542404473438</td> <td>1.2246039142590868</td></tr>\n",
        "<tr><td>SOT Scoreline</td> <td>0.5926928281461434</td> <td>1.4817320703653587</td></tr>\n",
        "<tr><td>Score-Shots Diff</td> <td>1.3266542404473438</td> <td>0.22460391425908677</td></tr>\n",
        "<tr><td>Score-Sots Diff</td> <td>0.5926928281461434</td> <td>0.4817320703653587</td></tr>\n",
        "<tr><td>Bet</td> <td>D</td> <td>D</td></tr>\n",
        "<tr><td>Profit/Loss</td> <td>-1.0</td> <td>-1.0</td></tr></table>"
       ],
       "metadata": {},
       "output_type": "display_data",
       "text": [
        "<IPython.core.display.HTML at 0x7fdea4f597b8>"
       ]
      },
      {
       "html": [
        "<table><tr><th></th> <th>Bournemouth</th> <th>Watford</th></tr><tr><td>Goals</td> <td>1</td> <td>1</td></tr>\n",
        "<tr><td>Shots</td> <td>12</td> <td>11</td></tr>\n",
        "<tr><td>SOT</td> <td>6</td> <td>2</td></tr>\n",
        "<tr><td>Shots Scoreline</td> <td>1.2246039142590868</td> <td>1.1225535880708295</td></tr>\n",
        "<tr><td>SOT Scoreline</td> <td>1.7780784844384303</td> <td>0.5926928281461434</td></tr>\n",
        "<tr><td>Score-Shots Diff</td> <td>0.22460391425908677</td> <td>0.1225535880708295</td></tr>\n",
        "<tr><td>Score-Sots Diff</td> <td>0.7780784844384303</td> <td>0.40730717185385656</td></tr>\n",
        "<tr><td>Bet</td> <td>A</td> <td>A</td></tr>\n",
        "<tr><td>Profit/Loss</td> <td>-1.0</td> <td>-1.0</td></tr></table>"
       ],
       "metadata": {},
       "output_type": "display_data",
       "text": [
        "<IPython.core.display.HTML at 0x7fdea4f597b8>"
       ]
      },
      {
       "html": [
        "<table><tr><th></th> <th>Man City</th> <th>Newcastle</th></tr><tr><td>Goals</td> <td>6</td> <td>1</td></tr>\n",
        "<tr><td>Shots</td> <td>23</td> <td>6</td></tr>\n",
        "<tr><td>SOT</td> <td>11</td> <td>4</td></tr>\n",
        "<tr><td>Shots Scoreline</td> <td>2.347157502329916</td> <td>0.6123019571295434</td></tr>\n",
        "<tr><td>SOT Scoreline</td> <td>3.259810554803789</td> <td>1.1853856562922869</td></tr>\n",
        "<tr><td>Score-Shots Diff</td> <td>3.652842497670084</td> <td>0.3876980428704566</td></tr>\n",
        "<tr><td>Score-Sots Diff</td> <td>2.740189445196211</td> <td>0.18538565629228687</td></tr>\n",
        "<tr><td>Bet</td> <td>H</td> <td>H</td></tr>\n",
        "<tr><td>Profit/Loss</td> <td>0.247</td> <td>0.247</td></tr></table>"
       ],
       "metadata": {},
       "output_type": "display_data",
       "text": [
        "<IPython.core.display.HTML at 0x7fdea4f597b8>"
       ]
      },
      {
       "html": [
        "<table><tr><th></th> <th>Norwich</th> <th>Leicester</th></tr><tr><td>Goals</td> <td>1</td> <td>2</td></tr>\n",
        "<tr><td>Shots</td> <td>17</td> <td>16</td></tr>\n",
        "<tr><td>SOT</td> <td>2</td> <td>5</td></tr>\n",
        "<tr><td>Shots Scoreline</td> <td>1.7348555452003729</td> <td>1.6328052190121156</td></tr>\n",
        "<tr><td>SOT Scoreline</td> <td>0.5926928281461434</td> <td>1.4817320703653587</td></tr>\n",
        "<tr><td>Score-Shots Diff</td> <td>0.7348555452003729</td> <td>0.3671947809878844</td></tr>\n",
        "<tr><td>Score-Sots Diff</td> <td>0.40730717185385656</td> <td>0.5182679296346413</td></tr>\n",
        "<tr><td>Bet</td> <td>D</td> <td>D</td></tr>\n",
        "<tr><td>Profit/Loss</td> <td>-1.0</td> <td>-1.0</td></tr></table>"
       ],
       "metadata": {},
       "output_type": "display_data",
       "text": [
        "<IPython.core.display.HTML at 0x7fdea4f597b8>"
       ]
      },
      {
       "html": [
        "<table><tr><th></th> <th>Sunderland</th> <th>West Ham</th></tr><tr><td>Goals</td> <td>2</td> <td>2</td></tr>\n",
        "<tr><td>Shots</td> <td>12</td> <td>20</td></tr>\n",
        "<tr><td>SOT</td> <td>3</td> <td>6</td></tr>\n",
        "<tr><td>Shots Scoreline</td> <td>1.2246039142590868</td> <td>2.0410065237651445</td></tr>\n",
        "<tr><td>SOT Scoreline</td> <td>0.8890392422192152</td> <td>1.7780784844384303</td></tr>\n",
        "<tr><td>Score-Shots Diff</td> <td>0.7753960857409132</td> <td>0.041006523765144465</td></tr>\n",
        "<tr><td>Score-Sots Diff</td> <td>1.1109607577807847</td> <td>0.2219215155615697</td></tr>\n",
        "<tr><td>Bet</td> <td>D</td> <td>D</td></tr>\n",
        "<tr><td>Profit/Loss</td> <td>2.375</td> <td>2.375</td></tr></table>"
       ],
       "metadata": {},
       "output_type": "display_data",
       "text": [
        "<IPython.core.display.HTML at 0x7fdea4f597b8>"
       ]
      },
      {
       "html": [
        "<table><tr><th></th> <th>Chelsea</th> <th>Southampton</th></tr><tr><td>Goals</td> <td>1</td> <td>3</td></tr>\n",
        "<tr><td>Shots</td> <td>10</td> <td>13</td></tr>\n",
        "<tr><td>SOT</td> <td>3</td> <td>5</td></tr>\n",
        "<tr><td>Shots Scoreline</td> <td>1.0205032618825722</td> <td>1.3266542404473438</td></tr>\n",
        "<tr><td>SOT Scoreline</td> <td>0.8890392422192152</td> <td>1.4817320703653587</td></tr>\n",
        "<tr><td>Score-Shots Diff</td> <td>0.020503261882572232</td> <td>1.6733457595526562</td></tr>\n",
        "<tr><td>Score-Sots Diff</td> <td>0.11096075778078485</td> <td>1.5182679296346413</td></tr>\n",
        "<tr><td>Bet</td> <td>A</td> <td>A</td></tr>\n",
        "<tr><td>Profit/Loss</td> <td>3.8</td> <td>3.8</td></tr></table>"
       ],
       "metadata": {},
       "output_type": "display_data",
       "text": [
        "<IPython.core.display.HTML at 0x7fdea4f597b8>"
       ]
      },
      {
       "html": [
        "<table><tr><th></th> <th>Everton</th> <th>Liverpool</th></tr><tr><td>Goals</td> <td>1</td> <td>1</td></tr>\n",
        "<tr><td>Shots</td> <td>14</td> <td>13</td></tr>\n",
        "<tr><td>SOT</td> <td>4</td> <td>4</td></tr>\n",
        "<tr><td>Shots Scoreline</td> <td>1.428704566635601</td> <td>1.3266542404473438</td></tr>\n",
        "<tr><td>SOT Scoreline</td> <td>1.1853856562922869</td> <td>1.1853856562922869</td></tr>\n",
        "<tr><td>Score-Shots Diff</td> <td>0.4287045666356011</td> <td>0.3266542404473438</td></tr>\n",
        "<tr><td>Score-Sots Diff</td> <td>0.18538565629228687</td> <td>0.18538565629228687</td></tr>\n",
        "<tr><td>Bet</td> <td>A</td> <td>A</td></tr>\n",
        "<tr><td>Profit/Loss</td> <td>-1.0</td> <td>-1.0</td></tr></table>"
       ],
       "metadata": {},
       "output_type": "display_data",
       "text": [
        "<IPython.core.display.HTML at 0x7fdea4f597b8>"
       ]
      },
      {
       "html": [
        "<table><tr><th></th> <th>Arsenal</th> <th>Man United</th></tr><tr><td>Goals</td> <td>3</td> <td>0</td></tr>\n",
        "<tr><td>Shots</td> <td>12</td> <td>9</td></tr>\n",
        "<tr><td>SOT</td> <td>5</td> <td>5</td></tr>\n",
        "<tr><td>Shots Scoreline</td> <td>1.2246039142590868</td> <td>0.9184529356943151</td></tr>\n",
        "<tr><td>SOT Scoreline</td> <td>1.4817320703653587</td> <td>1.4817320703653587</td></tr>\n",
        "<tr><td>Score-Shots Diff</td> <td>1.7753960857409132</td> <td>0.9184529356943151</td></tr>\n",
        "<tr><td>Score-Sots Diff</td> <td>1.5182679296346413</td> <td>1.4817320703653587</td></tr>\n",
        "<tr><td>Bet</td> <td>D</td> <td>D</td></tr>\n",
        "<tr><td>Profit/Loss</td> <td>-1.0</td> <td>-1.0</td></tr></table>"
       ],
       "metadata": {},
       "output_type": "display_data",
       "text": [
        "<IPython.core.display.HTML at 0x7fdea4f597b8>"
       ]
      },
      {
       "html": [
        "<table><tr><th></th> <th>Swansea</th> <th>Tottenham</th></tr><tr><td>Goals</td> <td>2</td> <td>2</td></tr>\n",
        "<tr><td>Shots</td> <td>11</td> <td>19</td></tr>\n",
        "<tr><td>SOT</td> <td>2</td> <td>11</td></tr>\n",
        "<tr><td>Shots Scoreline</td> <td>1.1225535880708295</td> <td>1.9389561975768872</td></tr>\n",
        "<tr><td>SOT Scoreline</td> <td>0.5926928281461434</td> <td>3.259810554803789</td></tr>\n",
        "<tr><td>Score-Shots Diff</td> <td>0.8774464119291705</td> <td>0.0610438024231128</td></tr>\n",
        "<tr><td>Score-Sots Diff</td> <td>1.4073071718538566</td> <td>1.259810554803789</td></tr>\n",
        "<tr><td>Bet</td> <td>D</td> <td>D</td></tr>\n",
        "<tr><td>Profit/Loss</td> <td>2.3275</td> <td>2.3275</td></tr></table>"
       ],
       "metadata": {},
       "output_type": "display_data",
       "text": [
        "<IPython.core.display.HTML at 0x7fdea4f597b8>"
       ]
      },
      {
       "html": [
        "<h3>League profit/loss: 2.7495</h3>"
       ],
       "metadata": {},
       "output_type": "display_data",
       "text": [
        "<IPython.core.display.HTML at 0x7fdea4f599e8>"
       ]
      },
      {
       "html": [
        "<h2>league-one</h2>"
       ],
       "metadata": {},
       "output_type": "display_data",
       "text": [
        "<IPython.core.display.HTML at 0x7fdea4f599e8>"
       ]
      },
      {
       "html": [
        "<table><tr><th></th> <th>Blackpool</th> <th>Swindon</th></tr><tr><td>Goals</td> <td>1</td> <td>0</td></tr>\n",
        "<tr><td>Shots</td> <td>13</td> <td>8</td></tr>\n",
        "<tr><td>SOT</td> <td>5</td> <td>3</td></tr>\n",
        "<tr><td>Shots Scoreline</td> <td>1.6038664323374339</td> <td>0.986994727592267</td></tr>\n",
        "<tr><td>SOT Scoreline</td> <td>1.5408252853380158</td> <td>0.9244951712028094</td></tr>\n",
        "<tr><td>Score-Shots Diff</td> <td>0.6038664323374339</td> <td>0.986994727592267</td></tr>\n",
        "<tr><td>Score-Sots Diff</td> <td>0.5408252853380158</td> <td>0.9244951712028094</td></tr>\n",
        "<tr><td>Bet</td> <td>D</td> <td>D</td></tr>\n",
        "<tr><td>Profit/Loss</td> <td>-1.0</td> <td>-1.0</td></tr></table>"
       ],
       "metadata": {},
       "output_type": "display_data",
       "text": [
        "<IPython.core.display.HTML at 0x7fdea4f597b8>"
       ]
      },
      {
       "html": [
        "<table><tr><th></th> <th>Burton</th> <th>Southend</th></tr><tr><td>Goals</td> <td>1</td> <td>0</td></tr>\n",
        "<tr><td>Shots</td> <td>16</td> <td>4</td></tr>\n",
        "<tr><td>SOT</td> <td>3</td> <td>1</td></tr>\n",
        "<tr><td>Shots Scoreline</td> <td>1.973989455184534</td> <td>0.4934973637961335</td></tr>\n",
        "<tr><td>SOT Scoreline</td> <td>0.9244951712028094</td> <td>0.30816505706760317</td></tr>\n",
        "<tr><td>Score-Shots Diff</td> <td>0.9739894551845341</td> <td>0.4934973637961335</td></tr>\n",
        "<tr><td>Score-Sots Diff</td> <td>0.07550482879719056</td> <td>0.30816505706760317</td></tr>\n",
        "<tr><td>Bet</td> <td>H</td> <td>H</td></tr>\n",
        "<tr><td>Profit/Loss</td> <td>1.102</td> <td>1.102</td></tr></table>"
       ],
       "metadata": {},
       "output_type": "display_data",
       "text": [
        "<IPython.core.display.HTML at 0x7fdea4f597b8>"
       ]
      },
      {
       "html": [
        "<table><tr><th></th> <th>Colchester</th> <th>Bury</th></tr><tr><td>Goals</td> <td>0</td> <td>1</td></tr>\n",
        "<tr><td>Shots</td> <td>13</td> <td>4</td></tr>\n",
        "<tr><td>SOT</td> <td>7</td> <td>2</td></tr>\n",
        "<tr><td>Shots Scoreline</td> <td>1.6038664323374339</td> <td>0.4934973637961335</td></tr>\n",
        "<tr><td>SOT Scoreline</td> <td>2.157155399473222</td> <td>0.6163301141352063</td></tr>\n",
        "<tr><td>Score-Shots Diff</td> <td>1.6038664323374339</td> <td>0.5065026362038665</td></tr>\n",
        "<tr><td>Score-Sots Diff</td> <td>2.157155399473222</td> <td>0.38366988586479367</td></tr>\n",
        "<tr><td>Bet</td> <td>D</td> <td>D</td></tr>\n",
        "<tr><td>Profit/Loss</td> <td>-1.0</td> <td>-1.0</td></tr></table>"
       ],
       "metadata": {},
       "output_type": "display_data",
       "text": [
        "<IPython.core.display.HTML at 0x7fdea4f597b8>"
       ]
      },
      {
       "html": [
        "<table><tr><th></th> <th>Coventry</th> <th>Shrewsbury</th></tr><tr><td>Goals</td> <td>3</td> <td>0</td></tr>\n",
        "<tr><td>Shots</td> <td>18</td> <td>6</td></tr>\n",
        "<tr><td>SOT</td> <td>9</td> <td>2</td></tr>\n",
        "<tr><td>Shots Scoreline</td> <td>2.2207381370826007</td> <td>0.7402460456942003</td></tr>\n",
        "<tr><td>SOT Scoreline</td> <td>2.773485513608428</td> <td>0.6163301141352063</td></tr>\n",
        "<tr><td>Score-Shots Diff</td> <td>0.7792618629173993</td> <td>0.7402460456942003</td></tr>\n",
        "<tr><td>Score-Sots Diff</td> <td>0.2265144863915718</td> <td>0.6163301141352063</td></tr>\n",
        "<tr><td>Bet</td> <td>H</td> <td>H</td></tr>\n",
        "<tr><td>Profit/Loss</td> <td>1.2159999999999997</td> <td>1.2159999999999997</td></tr></table>"
       ],
       "metadata": {},
       "output_type": "display_data",
       "text": [
        "<IPython.core.display.HTML at 0x7fdea4f597b8>"
       ]
      },
      {
       "html": [
        "<table><tr><th></th> <th>Crewe</th> <th>Chesterfield</th></tr><tr><td>Goals</td> <td>1</td> <td>2</td></tr>\n",
        "<tr><td>Shots</td> <td>12</td> <td>9</td></tr>\n",
        "<tr><td>SOT</td> <td>2</td> <td>4</td></tr>\n",
        "<tr><td>Shots Scoreline</td> <td>1.4804920913884005</td> <td>1.1103690685413004</td></tr>\n",
        "<tr><td>SOT Scoreline</td> <td>0.6163301141352063</td> <td>1.2326602282704127</td></tr>\n",
        "<tr><td>Score-Shots Diff</td> <td>0.48049209138840054</td> <td>0.8896309314586996</td></tr>\n",
        "<tr><td>Score-Sots Diff</td> <td>0.38366988586479367</td> <td>0.7673397717295873</td></tr>\n",
        "<tr><td>Bet</td> <td>D</td> <td>D</td></tr>\n",
        "<tr><td>Profit/Loss</td> <td>-1.0</td> <td>-1.0</td></tr></table>"
       ],
       "metadata": {},
       "output_type": "display_data",
       "text": [
        "<IPython.core.display.HTML at 0x7fdea4f597b8>"
       ]
      },
      {
       "html": [
        "<table><tr><th></th> <th>Doncaster</th> <th>Barnsley</th></tr><tr><td>Goals</td> <td>2</td> <td>1</td></tr>\n",
        "<tr><td>Shots</td> <td>7</td> <td>11</td></tr>\n",
        "<tr><td>SOT</td> <td>2</td> <td>5</td></tr>\n",
        "<tr><td>Shots Scoreline</td> <td>0.8636203866432337</td> <td>1.3571177504393672</td></tr>\n",
        "<tr><td>SOT Scoreline</td> <td>0.6163301141352063</td> <td>1.5408252853380158</td></tr>\n",
        "<tr><td>Score-Shots Diff</td> <td>1.1363796133567663</td> <td>0.3571177504393672</td></tr>\n",
        "<tr><td>Score-Sots Diff</td> <td>1.3836698858647938</td> <td>0.5408252853380158</td></tr>\n",
        "<tr><td>Bet</td> <td>H</td> <td>H</td></tr>\n",
        "<tr><td>Profit/Loss</td> <td>1.4249999999999998</td> <td>1.4249999999999998</td></tr></table>"
       ],
       "metadata": {},
       "output_type": "display_data",
       "text": [
        "<IPython.core.display.HTML at 0x7fdea4f597b8>"
       ]
      },
      {
       "html": [
        "<table><tr><th></th> <th>Gillingham</th> <th>Oldham</th></tr><tr><td>Goals</td> <td>3</td> <td>3</td></tr>\n",
        "<tr><td>Shots</td> <td>12</td> <td>8</td></tr>\n",
        "<tr><td>SOT</td> <td>5</td> <td>2</td></tr>\n",
        "<tr><td>Shots Scoreline</td> <td>1.4804920913884005</td> <td>0.986994727592267</td></tr>\n",
        "<tr><td>SOT Scoreline</td> <td>1.5408252853380158</td> <td>0.6163301141352063</td></tr>\n",
        "<tr><td>Score-Shots Diff</td> <td>1.5195079086115995</td> <td>2.013005272407733</td></tr>\n",
        "<tr><td>Score-Sots Diff</td> <td>1.4591747146619842</td> <td>2.383669885864794</td></tr>\n",
        "<tr><td>Bet</td> <td>H</td> <td>H</td></tr>\n",
        "<tr><td>Profit/Loss</td> <td>-1.0</td> <td>-1.0</td></tr></table>"
       ],
       "metadata": {},
       "output_type": "display_data",
       "text": [
        "<IPython.core.display.HTML at 0x7fdea4f597b8>"
       ]
      },
      {
       "html": [
        "<table><tr><th></th> <th>Peterboro</th> <th>Millwall</th></tr><tr><td>Goals</td> <td>5</td> <td>3</td></tr>\n",
        "<tr><td>Shots</td> <td>21</td> <td>22</td></tr>\n",
        "<tr><td>SOT</td> <td>9</td> <td>7</td></tr>\n",
        "<tr><td>Shots Scoreline</td> <td>2.590861159929701</td> <td>2.7142355008787344</td></tr>\n",
        "<tr><td>SOT Scoreline</td> <td>2.773485513608428</td> <td>2.157155399473222</td></tr>\n",
        "<tr><td>Score-Shots Diff</td> <td>2.409138840070299</td> <td>0.28576449912126556</td></tr>\n",
        "<tr><td>Score-Sots Diff</td> <td>2.226514486391572</td> <td>0.842844600526778</td></tr>\n",
        "<tr><td>Bet</td> <td>H</td> <td>H</td></tr>\n",
        "<tr><td>Profit/Loss</td> <td>1.52</td> <td>1.52</td></tr></table>"
       ],
       "metadata": {},
       "output_type": "display_data",
       "text": [
        "<IPython.core.display.HTML at 0x7fdea4f597b8>"
       ]
      },
      {
       "html": [
        "<h3>League profit/loss: 1.2629999999999997</h3>"
       ],
       "metadata": {},
       "output_type": "display_data",
       "text": [
        "<IPython.core.display.HTML at 0x7fdea4f599e8>"
       ]
      },
      {
       "html": [
        "<h2>scottish-premiership</h2>"
       ],
       "metadata": {},
       "output_type": "display_data",
       "text": [
        "<IPython.core.display.HTML at 0x7fdea4f599e8>"
       ]
      },
      {
       "html": [
        "<table><tr><th></th> <th>Aberdeen</th> <th>St Johnstone</th></tr><tr><td>Goals</td> <td>1</td> <td>5</td></tr>\n",
        "<tr><td>Shots</td> <td>1</td> <td>5</td></tr>\n",
        "<tr><td>SOT</td> <td>1</td> <td>5</td></tr>\n",
        "<tr><td>Shots Scoreline</td> <td>0.14131338320864506</td> <td>0.7065669160432253</td></tr>\n",
        "<tr><td>SOT Scoreline</td> <td>0.3136531365313653</td> <td>1.5682656826568264</td></tr>\n",
        "<tr><td>Score-Shots Diff</td> <td>0.8586866167913549</td> <td>4.293433083956774</td></tr>\n",
        "<tr><td>Score-Sots Diff</td> <td>0.6863468634686347</td> <td>3.4317343173431736</td></tr>\n",
        "<tr><td>Bet</td> <td>H</td> <td>H</td></tr>\n",
        "<tr><td>Profit/Loss</td> <td>-1.0</td> <td>-1.0</td></tr></table>"
       ],
       "metadata": {},
       "output_type": "display_data",
       "text": [
        "<IPython.core.display.HTML at 0x7fdea4f597b8>"
       ]
      },
      {
       "html": [
        "<table><tr><th></th> <th>Dundee</th> <th>Motherwell</th></tr><tr><td>Goals</td> <td>2</td> <td>1</td></tr>\n",
        "<tr><td>Shots</td> <td>10</td> <td>5</td></tr>\n",
        "<tr><td>SOT</td> <td>7</td> <td>2</td></tr>\n",
        "<tr><td>Shots Scoreline</td> <td>1.4131338320864506</td> <td>0.7065669160432253</td></tr>\n",
        "<tr><td>SOT Scoreline</td> <td>2.195571955719557</td> <td>0.6273062730627306</td></tr>\n",
        "<tr><td>Score-Shots Diff</td> <td>0.5868661679135494</td> <td>0.2934330839567747</td></tr>\n",
        "<tr><td>Score-Sots Diff</td> <td>0.195571955719557</td> <td>0.37269372693726943</td></tr>\n",
        "<tr><td>Bet</td> <td>H</td> <td>H</td></tr>\n",
        "<tr><td>Profit/Loss</td> <td>1.2159999999999997</td> <td>1.2159999999999997</td></tr></table>"
       ],
       "metadata": {},
       "output_type": "display_data",
       "text": [
        "<IPython.core.display.HTML at 0x7fdea4f597b8>"
       ]
      },
      {
       "html": [
        "<table><tr><th></th> <th>Hearts</th> <th>Kilmarnock</th></tr><tr><td>Goals</td> <td>1</td> <td>1</td></tr>\n",
        "<tr><td>Shots</td> <td>13</td> <td>8</td></tr>\n",
        "<tr><td>SOT</td> <td>6</td> <td>3</td></tr>\n",
        "<tr><td>Shots Scoreline</td> <td>1.8370739817123858</td> <td>1.1305070656691605</td></tr>\n",
        "<tr><td>SOT Scoreline</td> <td>1.8819188191881917</td> <td>0.9409594095940959</td></tr>\n",
        "<tr><td>Score-Shots Diff</td> <td>0.8370739817123858</td> <td>0.13050706566916048</td></tr>\n",
        "<tr><td>Score-Sots Diff</td> <td>0.8819188191881917</td> <td>0.05904059040590415</td></tr>\n",
        "<tr><td>Bet</td> <td>H</td> <td>H</td></tr>\n",
        "<tr><td>Profit/Loss</td> <td>-1.0</td> <td>-1.0</td></tr></table>"
       ],
       "metadata": {},
       "output_type": "display_data",
       "text": [
        "<IPython.core.display.HTML at 0x7fdea4f597b8>"
       ]
      },
      {
       "html": [
        "<table><tr><th></th> <th>Partick</th> <th>Dundee United</th></tr><tr><td>Goals</td> <td>3</td> <td>0</td></tr>\n",
        "<tr><td>Shots</td> <td>13</td> <td>7</td></tr>\n",
        "<tr><td>SOT</td> <td>8</td> <td>4</td></tr>\n",
        "<tr><td>Shots Scoreline</td> <td>1.8370739817123858</td> <td>0.9891936824605154</td></tr>\n",
        "<tr><td>SOT Scoreline</td> <td>2.5092250922509223</td> <td>1.2546125461254611</td></tr>\n",
        "<tr><td>Score-Shots Diff</td> <td>1.1629260182876142</td> <td>0.9891936824605154</td></tr>\n",
        "<tr><td>Score-Sots Diff</td> <td>0.4907749077490777</td> <td>1.2546125461254611</td></tr>\n",
        "<tr><td>Bet</td> <td>D</td> <td>D</td></tr>\n",
        "<tr><td>Profit/Loss</td> <td>-1.0</td> <td>-1.0</td></tr></table>"
       ],
       "metadata": {},
       "output_type": "display_data",
       "text": [
        "<IPython.core.display.HTML at 0x7fdea4f597b8>"
       ]
      },
      {
       "html": [
        "<table><tr><th></th> <th>Ross County</th> <th>Inverness C</th></tr><tr><td>Goals</td> <td>1</td> <td>2</td></tr>\n",
        "<tr><td>Shots</td> <td>13</td> <td>5</td></tr>\n",
        "<tr><td>SOT</td> <td>6</td> <td>4</td></tr>\n",
        "<tr><td>Shots Scoreline</td> <td>1.8370739817123858</td> <td>0.7065669160432253</td></tr>\n",
        "<tr><td>SOT Scoreline</td> <td>1.8819188191881917</td> <td>1.2546125461254611</td></tr>\n",
        "<tr><td>Score-Shots Diff</td> <td>0.8370739817123858</td> <td>1.2934330839567747</td></tr>\n",
        "<tr><td>Score-Sots Diff</td> <td>0.8819188191881917</td> <td>0.7453874538745389</td></tr>\n",
        "<tr><td>Bet</td> <td>H</td> <td>H</td></tr>\n",
        "<tr><td>Profit/Loss</td> <td>-1.0</td> <td>-1.0</td></tr></table>"
       ],
       "metadata": {},
       "output_type": "display_data",
       "text": [
        "<IPython.core.display.HTML at 0x7fdea4f597b8>"
       ]
      },
      {
       "html": [
        "<table><tr><th></th> <th>Hamilton</th> <th>Celtic</th></tr><tr><td>Goals</td> <td>1</td> <td>2</td></tr>\n",
        "<tr><td>Shots</td> <td>7</td> <td>12</td></tr>\n",
        "<tr><td>SOT</td> <td>3</td> <td>6</td></tr>\n",
        "<tr><td>Shots Scoreline</td> <td>0.9891936824605154</td> <td>1.6957605985037407</td></tr>\n",
        "<tr><td>SOT Scoreline</td> <td>0.9409594095940959</td> <td>1.8819188191881917</td></tr>\n",
        "<tr><td>Score-Shots Diff</td> <td>0.010806317539484578</td> <td>0.3042394014962593</td></tr>\n",
        "<tr><td>Score-Sots Diff</td> <td>0.05904059040590415</td> <td>0.1180811808118083</td></tr>\n",
        "<tr><td>Bet</td> <td>A</td> <td>A</td></tr>\n",
        "<tr><td>Profit/Loss</td> <td>0.3325000000000001</td> <td>0.3325000000000001</td></tr></table>"
       ],
       "metadata": {},
       "output_type": "display_data",
       "text": [
        "<IPython.core.display.HTML at 0x7fdea4f597b8>"
       ]
      },
      {
       "html": [
        "<h3>League profit/loss: -2.4515000000000002</h3>"
       ],
       "metadata": {},
       "output_type": "display_data",
       "text": [
        "<IPython.core.display.HTML at 0x7fdea4f599e8>"
       ]
      },
      {
       "html": [
        "<h2>Total profit/loss: 3.148999999999999</h2>"
       ],
       "metadata": {},
       "output_type": "display_data",
       "text": [
        "<IPython.core.display.HTML at 0x7fdea4f59e80>"
       ]
      }
     ],
     "prompt_number": 16
    },
    {
     "cell_type": "code",
     "collapsed": false,
     "input": [],
     "language": "python",
     "metadata": {},
     "outputs": [],
     "prompt_number": 12
    }
   ],
   "metadata": {}
  }
 ]
}