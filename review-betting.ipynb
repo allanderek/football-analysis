{
 "metadata": {
  "name": "",
  "signature": "sha256:e4d2190a6723a7d9637573eadea6f56cd0f974610dfccc54ffaa269ace256874"
 },
 "nbformat": 3,
 "nbformat_minor": 0,
 "worksheets": [
  {
   "cells": [
    {
     "cell_type": "code",
     "collapsed": false,
     "input": [
      "bets_text = \"\"\"\n",
      "League Two:\n",
      "Bristol Rovers v Barnet: 1 - 1, 7.0\n",
      "Cambridge Utd v Crawley Town: 2 - 0, 8.2\n",
      "Carlisle v AFC Wimbledon: 1 - 2, 11.5\n",
      "Exeter v York City: 1 - 2, 12.0\n",
      "Mansfield v Oxford Utd: 1 - 2, 10.0\n",
      "Newport County v Leyton Orient: 1 - 1, 7.6\n",
      "Northampton v Plymouth: 2 - 0, 11.5\n",
      "Notts Co v Accrington S: 0 - 0, 10.5\n",
      "Portsmouth v Morecambe: 2 - 1, 8.8\n",
      "Stevenage v Hartlepool: 2 - 1, 9.4\n",
      "Wycombe v Dag and Red: 2 - 1, 10.0\n",
      "Yeovil v Luton: 1 - 0, 11.0\n",
      "\n",
      "League One:\n",
      "Barnsley v Bradford: 0 - 0, 10.5\n",
      "Burton v Peterborough: 3 - 1, 21.0\n",
      "Chesterfield v Rochdale: 2 - 1, 9.4\n",
      "Crewe v Bury: 1 - 3, 18.0\n",
      "Fleetwood Town v Colchester: 1 - 2, 13.5\n",
      "Gillingham v Wigan: 2 - 2, 15.0\n",
      "Oldham v Shrewsbury: 0 - 0, 10.0\n",
      "Port Vale v Doncaster: 0 - 0, 10.0\n",
      "Scunthorpe v Millwall: 1 - 2, 12.0\n",
      "Sheff Utd v Blackpool: 2 - 1, 9.0\n",
      "Southend v Swindon: 1 - 2, 12.0\n",
      "Walsall v Coventry: 2 - 2, 16.0\n",
      "\n",
      "Championship:\n",
      "Birmingham v Derby: 0 - 2, 14.5\n",
      "\n",
      "Leeds v Sheff Wed: 1 - 1, 7.2\n",
      "Bolton v Nottm Forest: 1 - 2, 11.0\n",
      "Brighton v Blackburn: 2 - 1, 10.5\n",
      "Burnley v Brentford: 1 - 2, 12.0\n",
      "Charlton v Hull: 0 - 2, 10.0\n",
      "Fulham v Huddersfield: 2 - 0, 13.6925\n",
      "Middlesbrough v Bristol City: 2 - 1, 9.8\n",
      "Preston v Ipswich: 2 - 1, 11.0\n",
      "QPR v Rotherham: 2 - 0, 9.0\n",
      "Reading v MK Dons: 2 - 1, 10.0\n",
      "Cardiff v Wolves: 1 - 1, 7.2\n",
      "\n",
      "Premiership:\n",
      "Man Utd v Newcastle: 3 - 0, 10.5\n",
      "C Palace v Aston Villa: 2 - 0, 9.8\n",
      "Leicester v Tottenham: 1 - 1, 7.66\n",
      "Norwich v Stoke: 2 - 1, 11.5\n",
      "Sunderland v Swansea: 0 - 2, 10.5\n",
      "West Ham v Bournemouth: 1 - 2, 12.2925\n",
      "\n",
      "West Brom v Chelsea: 0 - 2, 8.0\n",
      "Everton v Man City: 0 - 2, 10.5\n",
      "Watford v Southampton: 2 - 2, 17.0\n",
      "\n",
      "\n",
      "Scottish Premiership:\n",
      "Dundee Utd v Celtic: 1 - 3, 12.5\n",
      "Aberdeen v Dundee: 2 - 1, 9.0\n",
      "Inverness CT v Hamilton: 0 - 2, 18.0\n",
      "Hearts v Partick: 2 - 1, 9.6\n",
      "Kilmarnock v Ross Co: 1 - 3, 23.0\n",
      "St Johnstone v Motherwell: 0 - 2, 20.0\n",
      "\"\"\""
     ],
     "language": "python",
     "metadata": {},
     "outputs": [],
     "prompt_number": 1
    },
    {
     "cell_type": "code",
     "collapsed": false,
     "input": [
      "import blog.posts.league_analysis as league_analysis\n",
      "from IPython.display import display, HTML"
     ],
     "language": "python",
     "metadata": {},
     "outputs": [],
     "prompt_number": 2
    },
    {
     "cell_type": "code",
     "collapsed": false,
     "input": [
      "for league in league_analysis.current_year.all_leagues:\n",
      "    league.retrieve_data()\n",
      "    league.parse_league_data()\n",
      "    league.calculate_league_shot_stats()"
     ],
     "language": "python",
     "metadata": {},
     "outputs": [],
     "prompt_number": 3
    },
    {
     "cell_type": "code",
     "collapsed": false,
     "input": [
      "def display_bet_analysis(league, home, away, start_date, end_date, bet):\n",
      "    home = league_analysis.alias_team(home)\n",
      "    away = league_analysis.alias_team(away)\n",
      "    matches = league_analysis.get_matches(league, start_date, end_date,\n",
      "                                          home_team=home, away_team=away)\n",
      "    match = matches[0]\n",
      "    # So this is the number of goals we would have expected the team to have scored based on shots\n",
      "    home_shots_goals = match.HS / league.shots_per_goal\n",
      "    away_shots_goals = match.AS / league.shots_per_goal\n",
      "    # Similarly for shots on target\n",
      "    home_sot_goals = match.HST / league.sot_per_goal\n",
      "    away_sot_goals = match.AST / league.sot_per_goal\n",
      "\n",
      "    # Who is closer to the shots scorelines, the bet or the real scoreline?\n",
      "    home_shots_score_diff = abs(match.FTHG - home_shots_goals)\n",
      "    away_shots_score_diff = abs(match.FTAG - away_shots_goals)\n",
      "    home_sots_score_diff = abs(match.FTHG - home_sot_goals)\n",
      "    away_sots_score_diff = abs(match.FTAG - away_sot_goals)\n",
      "\n",
      "    home_bet = bet[0]\n",
      "    away_bet = bet[1]\n",
      "    home_shots_bet_diff = abs(home_bet - home_shots_goals)\n",
      "    away_shots_bet_diff = abs(away_bet - away_shots_goals)\n",
      "    home_sots_bet_diff = abs(home_bet - home_sot_goals)\n",
      "    away_sots_bet_diff = abs(away_bet - away_sot_goals)\n",
      "    \n",
      "    headers = ['', match.HomeTeam, match.AwayTeam]\n",
      "    rows = [['Goals', match.FTHG, match.FTAG],\n",
      "            ['Bet Goals', bet[0], bet[1]],\n",
      "            ['Shots', match.HS, match.AS],\n",
      "            ['SOT', match.HST, match.AST],\n",
      "            ['Shots Scoreline', home_shots_goals, away_shots_goals],\n",
      "            ['SOT Scoreline', home_sot_goals, away_sot_goals],\n",
      "            ['Score-Shots Diff', home_shots_score_diff, away_shots_score_diff],\n",
      "            ['Bet-Shots Diff', home_shots_bet_diff, away_shots_bet_diff],\n",
      "            ['Score-Sots Diff', home_sots_score_diff, away_sots_score_diff],\n",
      "            ['Bet-Sots Diff', home_sots_bet_diff, away_sots_bet_diff]]\n",
      "\n",
      "    league_analysis.display_table(headers, rows)\n",
      "\n"
     ],
     "language": "python",
     "metadata": {},
     "outputs": [],
     "prompt_number": 4
    },
    {
     "cell_type": "code",
     "collapsed": false,
     "input": [
      "def process_bet_line(league, start_date, end_date, bet_line):\n",
      "    \"Bristol Rovers v Barnet: 1 - 1, 7.0\"\n",
      "    match_teams, bet_details = bet_line.split(': ')\n",
      "    home, away = match_teams.split(' v ')\n",
      "    bet_score, bet_price = bet_details.split(', ')\n",
      "    home_score, away_score = bet_score.split(' - ')\n",
      "    bet = (int(home_score), int(away_score))\n",
      "    display_bet_analysis(league, home, away, start_date, end_date, bet)"
     ],
     "language": "python",
     "metadata": {},
     "outputs": [],
     "prompt_number": 5
    },
    {
     "cell_type": "code",
     "collapsed": false,
     "input": [
      "leagues = {'League Two:': league_analysis.year_201516.elt_league,\n",
      "           'League One:': league_analysis.year_201516.elo_league,\n",
      "           'Championship:': league_analysis.year_201516.ech_league,\n",
      "           'Premiership:': league_analysis.year_201516.epl_league,\n",
      "           'Scottish Premiership:': league_analysis.year_201516.spl_league,}\n",
      "\n",
      "\n",
      "for line in bets_text.split('\\n'):\n",
      "    if line == '':\n",
      "        continue\n",
      "    try:\n",
      "        current_league = leagues[line]\n",
      "        display(HTML('<h2>{0}</h2>'.format(line)))\n",
      "    except KeyError:\n",
      "        process_bet_line(current_league, \"21/08/2015\", \"23/08/2015\", line)"
     ],
     "language": "python",
     "metadata": {},
     "outputs": [
      {
       "html": [
        "<h2>League Two:</h2>"
       ],
       "metadata": {},
       "output_type": "display_data",
       "text": [
        "<IPython.core.display.HTML at 0x7f2cdd369780>"
       ]
      },
      {
       "html": [
        "<table><tr><th></th> <th>Bristol Rvs</th> <th>Barnet</th></tr><tr><td>Goals</td> <td>3</td> <td>1</td></tr>\n",
        "<tr><td>Bet Goals</td> <td>1</td> <td>1</td></tr>\n",
        "<tr><td>Shots</td> <td>15</td> <td>8</td></tr>\n",
        "<tr><td>SOT</td> <td>7</td> <td>2</td></tr>\n",
        "<tr><td>Shots Scoreline</td> <td>1.903096903096903</td> <td>1.014985014985015</td></tr>\n",
        "<tr><td>SOT Scoreline</td> <td>2.2224999999999997</td> <td>0.635</td></tr>\n",
        "<tr><td>Score-Shots Diff</td> <td>1.096903096903097</td> <td>0.014985014985015033</td></tr>\n",
        "<tr><td>Bet-Shots Diff</td> <td>0.9030969030969029</td> <td>0.014985014985015033</td></tr>\n",
        "<tr><td>Score-Sots Diff</td> <td>0.7775000000000003</td> <td>0.365</td></tr>\n",
        "<tr><td>Bet-Sots Diff</td> <td>1.2224999999999997</td> <td>0.365</td></tr></table>"
       ],
       "metadata": {},
       "output_type": "display_data",
       "text": [
        "<IPython.core.display.HTML at 0x7f2cdd369b70>"
       ]
      },
      {
       "html": [
        "<table><tr><th></th> <th>Cambridge</th> <th>Crawley Town</th></tr><tr><td>Goals</td> <td>0</td> <td>3</td></tr>\n",
        "<tr><td>Bet Goals</td> <td>2</td> <td>0</td></tr>\n",
        "<tr><td>Shots</td> <td>12</td> <td>10</td></tr>\n",
        "<tr><td>SOT</td> <td>6</td> <td>3</td></tr>\n",
        "<tr><td>Shots Scoreline</td> <td>1.5224775224775224</td> <td>1.2687312687312686</td></tr>\n",
        "<tr><td>SOT Scoreline</td> <td>1.9049999999999998</td> <td>0.9524999999999999</td></tr>\n",
        "<tr><td>Score-Shots Diff</td> <td>1.5224775224775224</td> <td>1.7312687312687314</td></tr>\n",
        "<tr><td>Bet-Shots Diff</td> <td>0.47752247752247756</td> <td>1.2687312687312686</td></tr>\n",
        "<tr><td>Score-Sots Diff</td> <td>1.9049999999999998</td> <td>2.0475000000000003</td></tr>\n",
        "<tr><td>Bet-Sots Diff</td> <td>0.0950000000000002</td> <td>0.9524999999999999</td></tr></table>"
       ],
       "metadata": {},
       "output_type": "display_data",
       "text": [
        "<IPython.core.display.HTML at 0x7f2cdd369780>"
       ]
      },
      {
       "html": [
        "<table><tr><th></th> <th>Carlisle</th> <th>AFC Wimbledon</th></tr><tr><td>Goals</td> <td>1</td> <td>1</td></tr>\n",
        "<tr><td>Bet Goals</td> <td>1</td> <td>2</td></tr>\n",
        "<tr><td>Shots</td> <td>11</td> <td>10</td></tr>\n",
        "<tr><td>SOT</td> <td>5</td> <td>5</td></tr>\n",
        "<tr><td>Shots Scoreline</td> <td>1.3956043956043955</td> <td>1.2687312687312686</td></tr>\n",
        "<tr><td>SOT Scoreline</td> <td>1.5875</td> <td>1.5875</td></tr>\n",
        "<tr><td>Score-Shots Diff</td> <td>0.39560439560439553</td> <td>0.2687312687312686</td></tr>\n",
        "<tr><td>Bet-Shots Diff</td> <td>0.39560439560439553</td> <td>0.7312687312687314</td></tr>\n",
        "<tr><td>Score-Sots Diff</td> <td>0.5874999999999999</td> <td>0.5874999999999999</td></tr>\n",
        "<tr><td>Bet-Sots Diff</td> <td>0.5874999999999999</td> <td>0.4125000000000001</td></tr></table>"
       ],
       "metadata": {},
       "output_type": "display_data",
       "text": [
        "<IPython.core.display.HTML at 0x7f2cdd369780>"
       ]
      },
      {
       "html": [
        "<table><tr><th></th> <th>Exeter</th> <th>York</th></tr><tr><td>Goals</td> <td>0</td> <td>0</td></tr>\n",
        "<tr><td>Bet Goals</td> <td>1</td> <td>2</td></tr>\n",
        "<tr><td>Shots</td> <td>15</td> <td>7</td></tr>\n",
        "<tr><td>SOT</td> <td>5</td> <td>2</td></tr>\n",
        "<tr><td>Shots Scoreline</td> <td>1.903096903096903</td> <td>0.8881118881118881</td></tr>\n",
        "<tr><td>SOT Scoreline</td> <td>1.5875</td> <td>0.635</td></tr>\n",
        "<tr><td>Score-Shots Diff</td> <td>1.903096903096903</td> <td>0.8881118881118881</td></tr>\n",
        "<tr><td>Bet-Shots Diff</td> <td>0.9030969030969029</td> <td>1.1118881118881119</td></tr>\n",
        "<tr><td>Score-Sots Diff</td> <td>1.5875</td> <td>0.635</td></tr>\n",
        "<tr><td>Bet-Sots Diff</td> <td>0.5874999999999999</td> <td>1.365</td></tr></table>"
       ],
       "metadata": {},
       "output_type": "display_data",
       "text": [
        "<IPython.core.display.HTML at 0x7f2cdd369b70>"
       ]
      },
      {
       "html": [
        "<table><tr><th></th> <th>Mansfield</th> <th>Oxford</th></tr><tr><td>Goals</td> <td>1</td> <td>1</td></tr>\n",
        "<tr><td>Bet Goals</td> <td>1</td> <td>2</td></tr>\n",
        "<tr><td>Shots</td> <td>7</td> <td>9</td></tr>\n",
        "<tr><td>SOT</td> <td>2</td> <td>4</td></tr>\n",
        "<tr><td>Shots Scoreline</td> <td>0.8881118881118881</td> <td>1.1418581418581417</td></tr>\n",
        "<tr><td>SOT Scoreline</td> <td>0.635</td> <td>1.27</td></tr>\n",
        "<tr><td>Score-Shots Diff</td> <td>0.11188811188811187</td> <td>0.14185814185814172</td></tr>\n",
        "<tr><td>Bet-Shots Diff</td> <td>0.11188811188811187</td> <td>0.8581418581418583</td></tr>\n",
        "<tr><td>Score-Sots Diff</td> <td>0.365</td> <td>0.27</td></tr>\n",
        "<tr><td>Bet-Sots Diff</td> <td>0.365</td> <td>0.73</td></tr></table>"
       ],
       "metadata": {},
       "output_type": "display_data",
       "text": [
        "<IPython.core.display.HTML at 0x7f2cdd369b38>"
       ]
      },
      {
       "html": [
        "<table><tr><th></th> <th>Newport County</th> <th>Leyton Orient</th></tr><tr><td>Goals</td> <td>2</td> <td>3</td></tr>\n",
        "<tr><td>Bet Goals</td> <td>1</td> <td>1</td></tr>\n",
        "<tr><td>Shots</td> <td>13</td> <td>11</td></tr>\n",
        "<tr><td>SOT</td> <td>5</td> <td>6</td></tr>\n",
        "<tr><td>Shots Scoreline</td> <td>1.6493506493506493</td> <td>1.3956043956043955</td></tr>\n",
        "<tr><td>SOT Scoreline</td> <td>1.5875</td> <td>1.9049999999999998</td></tr>\n",
        "<tr><td>Score-Shots Diff</td> <td>0.35064935064935066</td> <td>1.6043956043956045</td></tr>\n",
        "<tr><td>Bet-Shots Diff</td> <td>0.6493506493506493</td> <td>0.39560439560439553</td></tr>\n",
        "<tr><td>Score-Sots Diff</td> <td>0.4125000000000001</td> <td>1.0950000000000002</td></tr>\n",
        "<tr><td>Bet-Sots Diff</td> <td>0.5874999999999999</td> <td>0.9049999999999998</td></tr></table>"
       ],
       "metadata": {},
       "output_type": "display_data",
       "text": [
        "<IPython.core.display.HTML at 0x7f2cdd369b38>"
       ]
      },
      {
       "html": [
        "<table><tr><th></th> <th>Northampton</th> <th>Plymouth</th></tr><tr><td>Goals</td> <td>0</td> <td>2</td></tr>\n",
        "<tr><td>Bet Goals</td> <td>2</td> <td>0</td></tr>\n",
        "<tr><td>Shots</td> <td>6</td> <td>12</td></tr>\n",
        "<tr><td>SOT</td> <td>3</td> <td>6</td></tr>\n",
        "<tr><td>Shots Scoreline</td> <td>0.7612387612387612</td> <td>1.5224775224775224</td></tr>\n",
        "<tr><td>SOT Scoreline</td> <td>0.9524999999999999</td> <td>1.9049999999999998</td></tr>\n",
        "<tr><td>Score-Shots Diff</td> <td>0.7612387612387612</td> <td>0.47752247752247756</td></tr>\n",
        "<tr><td>Bet-Shots Diff</td> <td>1.2387612387612388</td> <td>1.5224775224775224</td></tr>\n",
        "<tr><td>Score-Sots Diff</td> <td>0.9524999999999999</td> <td>0.0950000000000002</td></tr>\n",
        "<tr><td>Bet-Sots Diff</td> <td>1.0475</td> <td>1.9049999999999998</td></tr></table>"
       ],
       "metadata": {},
       "output_type": "display_data",
       "text": [
        "<IPython.core.display.HTML at 0x7f2cdd369b38>"
       ]
      },
      {
       "html": [
        "<table><tr><th></th> <th>Notts County</th> <th>Accrington</th></tr><tr><td>Goals</td> <td>1</td> <td>1</td></tr>\n",
        "<tr><td>Bet Goals</td> <td>0</td> <td>0</td></tr>\n",
        "<tr><td>Shots</td> <td>14</td> <td>10</td></tr>\n",
        "<tr><td>SOT</td> <td>4</td> <td>7</td></tr>\n",
        "<tr><td>Shots Scoreline</td> <td>1.7762237762237763</td> <td>1.2687312687312686</td></tr>\n",
        "<tr><td>SOT Scoreline</td> <td>1.27</td> <td>2.2224999999999997</td></tr>\n",
        "<tr><td>Score-Shots Diff</td> <td>0.7762237762237763</td> <td>0.2687312687312686</td></tr>\n",
        "<tr><td>Bet-Shots Diff</td> <td>1.7762237762237763</td> <td>1.2687312687312686</td></tr>\n",
        "<tr><td>Score-Sots Diff</td> <td>0.27</td> <td>1.2224999999999997</td></tr>\n",
        "<tr><td>Bet-Sots Diff</td> <td>1.27</td> <td>2.2224999999999997</td></tr></table>"
       ],
       "metadata": {},
       "output_type": "display_data",
       "text": [
        "<IPython.core.display.HTML at 0x7f2cdd369b38>"
       ]
      },
      {
       "html": [
        "<table><tr><th></th> <th>Portsmouth</th> <th>Morecambe</th></tr><tr><td>Goals</td> <td>3</td> <td>3</td></tr>\n",
        "<tr><td>Bet Goals</td> <td>2</td> <td>1</td></tr>\n",
        "<tr><td>Shots</td> <td>20</td> <td>9</td></tr>\n",
        "<tr><td>SOT</td> <td>9</td> <td>5</td></tr>\n",
        "<tr><td>Shots Scoreline</td> <td>2.5374625374625372</td> <td>1.1418581418581417</td></tr>\n",
        "<tr><td>SOT Scoreline</td> <td>2.8575</td> <td>1.5875</td></tr>\n",
        "<tr><td>Score-Shots Diff</td> <td>0.46253746253746275</td> <td>1.8581418581418583</td></tr>\n",
        "<tr><td>Bet-Shots Diff</td> <td>0.5374625374625372</td> <td>0.14185814185814172</td></tr>\n",
        "<tr><td>Score-Sots Diff</td> <td>0.14250000000000007</td> <td>1.4125</td></tr>\n",
        "<tr><td>Bet-Sots Diff</td> <td>0.8574999999999999</td> <td>0.5874999999999999</td></tr></table>"
       ],
       "metadata": {},
       "output_type": "display_data",
       "text": [
        "<IPython.core.display.HTML at 0x7f2cdd369b38>"
       ]
      },
      {
       "html": [
        "<table><tr><th></th> <th>Stevenage</th> <th>Hartlepool</th></tr><tr><td>Goals</td> <td>2</td> <td>0</td></tr>\n",
        "<tr><td>Bet Goals</td> <td>2</td> <td>1</td></tr>\n",
        "<tr><td>Shots</td> <td>9</td> <td>8</td></tr>\n",
        "<tr><td>SOT</td> <td>2</td> <td>2</td></tr>\n",
        "<tr><td>Shots Scoreline</td> <td>1.1418581418581417</td> <td>1.014985014985015</td></tr>\n",
        "<tr><td>SOT Scoreline</td> <td>0.635</td> <td>0.635</td></tr>\n",
        "<tr><td>Score-Shots Diff</td> <td>0.8581418581418583</td> <td>1.014985014985015</td></tr>\n",
        "<tr><td>Bet-Shots Diff</td> <td>0.8581418581418583</td> <td>0.014985014985015033</td></tr>\n",
        "<tr><td>Score-Sots Diff</td> <td>1.365</td> <td>0.635</td></tr>\n",
        "<tr><td>Bet-Sots Diff</td> <td>1.365</td> <td>0.365</td></tr></table>"
       ],
       "metadata": {},
       "output_type": "display_data",
       "text": [
        "<IPython.core.display.HTML at 0x7f2cdd369b38>"
       ]
      },
      {
       "html": [
        "<table><tr><th></th> <th>Wycombe</th> <th>Dag and Red</th></tr><tr><td>Goals</td> <td>1</td> <td>1</td></tr>\n",
        "<tr><td>Bet Goals</td> <td>2</td> <td>1</td></tr>\n",
        "<tr><td>Shots</td> <td>16</td> <td>4</td></tr>\n",
        "<tr><td>SOT</td> <td>4</td> <td>4</td></tr>\n",
        "<tr><td>Shots Scoreline</td> <td>2.02997002997003</td> <td>0.5074925074925075</td></tr>\n",
        "<tr><td>SOT Scoreline</td> <td>1.27</td> <td>1.27</td></tr>\n",
        "<tr><td>Score-Shots Diff</td> <td>1.02997002997003</td> <td>0.4925074925074925</td></tr>\n",
        "<tr><td>Bet-Shots Diff</td> <td>0.029970029970030065</td> <td>0.4925074925074925</td></tr>\n",
        "<tr><td>Score-Sots Diff</td> <td>0.27</td> <td>0.27</td></tr>\n",
        "<tr><td>Bet-Sots Diff</td> <td>0.73</td> <td>0.27</td></tr></table>"
       ],
       "metadata": {},
       "output_type": "display_data",
       "text": [
        "<IPython.core.display.HTML at 0x7f2cdd369b70>"
       ]
      },
      {
       "html": [
        "<table><tr><th></th> <th>Yeovil</th> <th>Luton</th></tr><tr><td>Goals</td> <td>3</td> <td>2</td></tr>\n",
        "<tr><td>Bet Goals</td> <td>1</td> <td>0</td></tr>\n",
        "<tr><td>Shots</td> <td>9</td> <td>7</td></tr>\n",
        "<tr><td>SOT</td> <td>7</td> <td>2</td></tr>\n",
        "<tr><td>Shots Scoreline</td> <td>1.1418581418581417</td> <td>0.8881118881118881</td></tr>\n",
        "<tr><td>SOT Scoreline</td> <td>2.2224999999999997</td> <td>0.635</td></tr>\n",
        "<tr><td>Score-Shots Diff</td> <td>1.8581418581418583</td> <td>1.1118881118881119</td></tr>\n",
        "<tr><td>Bet-Shots Diff</td> <td>0.14185814185814172</td> <td>0.8881118881118881</td></tr>\n",
        "<tr><td>Score-Sots Diff</td> <td>0.7775000000000003</td> <td>1.365</td></tr>\n",
        "<tr><td>Bet-Sots Diff</td> <td>1.2224999999999997</td> <td>0.635</td></tr></table>"
       ],
       "metadata": {},
       "output_type": "display_data",
       "text": [
        "<IPython.core.display.HTML at 0x7f2cdd369ba8>"
       ]
      },
      {
       "html": [
        "<h2>League One:</h2>"
       ],
       "metadata": {},
       "output_type": "display_data",
       "text": [
        "<IPython.core.display.HTML at 0x7f2cdd369b70>"
       ]
      },
      {
       "html": [
        "<table><tr><th></th> <th>Barnsley</th> <th>Bradford</th></tr><tr><td>Goals</td> <td>0</td> <td>0</td></tr>\n",
        "<tr><td>Bet Goals</td> <td>0</td> <td>0</td></tr>\n",
        "<tr><td>Shots</td> <td>8</td> <td>11</td></tr>\n",
        "<tr><td>SOT</td> <td>2</td> <td>4</td></tr>\n",
        "<tr><td>Shots Scoreline</td> <td>0.9584541062801931</td> <td>1.3178743961352655</td></tr>\n",
        "<tr><td>SOT Scoreline</td> <td>0.5933014354066986</td> <td>1.186602870813397</td></tr>\n",
        "<tr><td>Score-Shots Diff</td> <td>0.9584541062801931</td> <td>1.3178743961352655</td></tr>\n",
        "<tr><td>Bet-Shots Diff</td> <td>0.9584541062801931</td> <td>1.3178743961352655</td></tr>\n",
        "<tr><td>Score-Sots Diff</td> <td>0.5933014354066986</td> <td>1.186602870813397</td></tr>\n",
        "<tr><td>Bet-Sots Diff</td> <td>0.5933014354066986</td> <td>1.186602870813397</td></tr></table>"
       ],
       "metadata": {},
       "output_type": "display_data",
       "text": [
        "<IPython.core.display.HTML at 0x7f2cdd369b38>"
       ]
      },
      {
       "html": [
        "<table><tr><th></th> <th>Burton</th> <th>Peterboro</th></tr><tr><td>Goals</td> <td>2</td> <td>1</td></tr>\n",
        "<tr><td>Bet Goals</td> <td>3</td> <td>1</td></tr>\n",
        "<tr><td>Shots</td> <td>9</td> <td>10</td></tr>\n",
        "<tr><td>SOT</td> <td>4</td> <td>5</td></tr>\n",
        "<tr><td>Shots Scoreline</td> <td>1.0782608695652174</td> <td>1.1980676328502415</td></tr>\n",
        "<tr><td>SOT Scoreline</td> <td>1.186602870813397</td> <td>1.4832535885167464</td></tr>\n",
        "<tr><td>Score-Shots Diff</td> <td>0.9217391304347826</td> <td>0.19806763285024154</td></tr>\n",
        "<tr><td>Bet-Shots Diff</td> <td>1.9217391304347826</td> <td>0.19806763285024154</td></tr>\n",
        "<tr><td>Score-Sots Diff</td> <td>0.8133971291866029</td> <td>0.4832535885167464</td></tr>\n",
        "<tr><td>Bet-Sots Diff</td> <td>1.813397129186603</td> <td>0.4832535885167464</td></tr></table>"
       ],
       "metadata": {},
       "output_type": "display_data",
       "text": [
        "<IPython.core.display.HTML at 0x7f2cdd3697b8>"
       ]
      },
      {
       "html": [
        "<table><tr><th></th> <th>Chesterfield</th> <th>Rochdale</th></tr><tr><td>Goals</td> <td>0</td> <td>0</td></tr>\n",
        "<tr><td>Bet Goals</td> <td>2</td> <td>1</td></tr>\n",
        "<tr><td>Shots</td> <td>6</td> <td>9</td></tr>\n",
        "<tr><td>SOT</td> <td>4</td> <td>3</td></tr>\n",
        "<tr><td>Shots Scoreline</td> <td>0.7188405797101448</td> <td>1.0782608695652174</td></tr>\n",
        "<tr><td>SOT Scoreline</td> <td>1.186602870813397</td> <td>0.8899521531100478</td></tr>\n",
        "<tr><td>Score-Shots Diff</td> <td>0.7188405797101448</td> <td>1.0782608695652174</td></tr>\n",
        "<tr><td>Bet-Shots Diff</td> <td>1.281159420289855</td> <td>0.07826086956521738</td></tr>\n",
        "<tr><td>Score-Sots Diff</td> <td>1.186602870813397</td> <td>0.8899521531100478</td></tr>\n",
        "<tr><td>Bet-Sots Diff</td> <td>0.8133971291866029</td> <td>0.11004784688995217</td></tr></table>"
       ],
       "metadata": {},
       "output_type": "display_data",
       "text": [
        "<IPython.core.display.HTML at 0x7f2cdd369780>"
       ]
      },
      {
       "html": [
        "<table><tr><th></th> <th>Crewe</th> <th>Bury</th></tr><tr><td>Goals</td> <td>3</td> <td>3</td></tr>\n",
        "<tr><td>Bet Goals</td> <td>1</td> <td>3</td></tr>\n",
        "<tr><td>Shots</td> <td>7</td> <td>20</td></tr>\n",
        "<tr><td>SOT</td> <td>5</td> <td>9</td></tr>\n",
        "<tr><td>Shots Scoreline</td> <td>0.838647342995169</td> <td>2.396135265700483</td></tr>\n",
        "<tr><td>SOT Scoreline</td> <td>1.4832535885167464</td> <td>2.6698564593301435</td></tr>\n",
        "<tr><td>Score-Shots Diff</td> <td>2.161352657004831</td> <td>0.6038647342995169</td></tr>\n",
        "<tr><td>Bet-Shots Diff</td> <td>0.16135265700483103</td> <td>0.6038647342995169</td></tr>\n",
        "<tr><td>Score-Sots Diff</td> <td>1.5167464114832536</td> <td>0.3301435406698565</td></tr>\n",
        "<tr><td>Bet-Sots Diff</td> <td>0.4832535885167464</td> <td>0.3301435406698565</td></tr></table>"
       ],
       "metadata": {},
       "output_type": "display_data",
       "text": [
        "<IPython.core.display.HTML at 0x7f2cdd369cf8>"
       ]
      },
      {
       "html": [
        "<table><tr><th></th> <th>Fleetwood Town</th> <th>Colchester</th></tr><tr><td>Goals</td> <td>4</td> <td>0</td></tr>\n",
        "<tr><td>Bet Goals</td> <td>1</td> <td>2</td></tr>\n",
        "<tr><td>Shots</td> <td>12</td> <td>15</td></tr>\n",
        "<tr><td>SOT</td> <td>9</td> <td>6</td></tr>\n",
        "<tr><td>Shots Scoreline</td> <td>1.4376811594202896</td> <td>1.797101449275362</td></tr>\n",
        "<tr><td>SOT Scoreline</td> <td>2.6698564593301435</td> <td>1.7799043062200957</td></tr>\n",
        "<tr><td>Score-Shots Diff</td> <td>2.56231884057971</td> <td>1.797101449275362</td></tr>\n",
        "<tr><td>Bet-Shots Diff</td> <td>0.4376811594202896</td> <td>0.20289855072463792</td></tr>\n",
        "<tr><td>Score-Sots Diff</td> <td>1.3301435406698565</td> <td>1.7799043062200957</td></tr>\n",
        "<tr><td>Bet-Sots Diff</td> <td>1.6698564593301435</td> <td>0.22009569377990434</td></tr></table>"
       ],
       "metadata": {},
       "output_type": "display_data",
       "text": [
        "<IPython.core.display.HTML at 0x7f2cdd369b38>"
       ]
      },
      {
       "html": [
        "<table><tr><th></th> <th>Gillingham</th> <th>Wigan</th></tr><tr><td>Goals</td> <td>2</td> <td>0</td></tr>\n",
        "<tr><td>Bet Goals</td> <td>2</td> <td>2</td></tr>\n",
        "<tr><td>Shots</td> <td>11</td> <td>6</td></tr>\n",
        "<tr><td>SOT</td> <td>6</td> <td>3</td></tr>\n",
        "<tr><td>Shots Scoreline</td> <td>1.3178743961352655</td> <td>0.7188405797101448</td></tr>\n",
        "<tr><td>SOT Scoreline</td> <td>1.7799043062200957</td> <td>0.8899521531100478</td></tr>\n",
        "<tr><td>Score-Shots Diff</td> <td>0.6821256038647345</td> <td>0.7188405797101448</td></tr>\n",
        "<tr><td>Bet-Shots Diff</td> <td>0.6821256038647345</td> <td>1.281159420289855</td></tr>\n",
        "<tr><td>Score-Sots Diff</td> <td>0.22009569377990434</td> <td>0.8899521531100478</td></tr>\n",
        "<tr><td>Bet-Sots Diff</td> <td>0.22009569377990434</td> <td>1.1100478468899522</td></tr></table>"
       ],
       "metadata": {},
       "output_type": "display_data",
       "text": [
        "<IPython.core.display.HTML at 0x7f2cdd369b70>"
       ]
      },
      {
       "html": [
        "<table><tr><th></th> <th>Oldham</th> <th>Shrewsbury</th></tr><tr><td>Goals</td> <td>1</td> <td>1</td></tr>\n",
        "<tr><td>Bet Goals</td> <td>0</td> <td>0</td></tr>\n",
        "<tr><td>Shots</td> <td>9</td> <td>9</td></tr>\n",
        "<tr><td>SOT</td> <td>2</td> <td>5</td></tr>\n",
        "<tr><td>Shots Scoreline</td> <td>1.0782608695652174</td> <td>1.0782608695652174</td></tr>\n",
        "<tr><td>SOT Scoreline</td> <td>0.5933014354066986</td> <td>1.4832535885167464</td></tr>\n",
        "<tr><td>Score-Shots Diff</td> <td>0.07826086956521738</td> <td>0.07826086956521738</td></tr>\n",
        "<tr><td>Bet-Shots Diff</td> <td>1.0782608695652174</td> <td>1.0782608695652174</td></tr>\n",
        "<tr><td>Score-Sots Diff</td> <td>0.40669856459330145</td> <td>0.4832535885167464</td></tr>\n",
        "<tr><td>Bet-Sots Diff</td> <td>0.5933014354066986</td> <td>1.4832535885167464</td></tr></table>"
       ],
       "metadata": {},
       "output_type": "display_data",
       "text": [
        "<IPython.core.display.HTML at 0x7f2cdd369b70>"
       ]
      },
      {
       "html": [
        "<table><tr><th></th> <th>Port Vale</th> <th>Doncaster</th></tr><tr><td>Goals</td> <td>3</td> <td>0</td></tr>\n",
        "<tr><td>Bet Goals</td> <td>0</td> <td>0</td></tr>\n",
        "<tr><td>Shots</td> <td>19</td> <td>5</td></tr>\n",
        "<tr><td>SOT</td> <td>9</td> <td>2</td></tr>\n",
        "<tr><td>Shots Scoreline</td> <td>2.276328502415459</td> <td>0.5990338164251208</td></tr>\n",
        "<tr><td>SOT Scoreline</td> <td>2.6698564593301435</td> <td>0.5933014354066986</td></tr>\n",
        "<tr><td>Score-Shots Diff</td> <td>0.7236714975845411</td> <td>0.5990338164251208</td></tr>\n",
        "<tr><td>Bet-Shots Diff</td> <td>2.276328502415459</td> <td>0.5990338164251208</td></tr>\n",
        "<tr><td>Score-Sots Diff</td> <td>0.3301435406698565</td> <td>0.5933014354066986</td></tr>\n",
        "<tr><td>Bet-Sots Diff</td> <td>2.6698564593301435</td> <td>0.5933014354066986</td></tr></table>"
       ],
       "metadata": {},
       "output_type": "display_data",
       "text": [
        "<IPython.core.display.HTML at 0x7f2cdd369b38>"
       ]
      },
      {
       "html": [
        "<table><tr><th></th> <th>Scunthorpe</th> <th>Millwall</th></tr><tr><td>Goals</td> <td>0</td> <td>0</td></tr>\n",
        "<tr><td>Bet Goals</td> <td>1</td> <td>2</td></tr>\n",
        "<tr><td>Shots</td> <td>14</td> <td>10</td></tr>\n",
        "<tr><td>SOT</td> <td>6</td> <td>3</td></tr>\n",
        "<tr><td>Shots Scoreline</td> <td>1.677294685990338</td> <td>1.1980676328502415</td></tr>\n",
        "<tr><td>SOT Scoreline</td> <td>1.7799043062200957</td> <td>0.8899521531100478</td></tr>\n",
        "<tr><td>Score-Shots Diff</td> <td>1.677294685990338</td> <td>1.1980676328502415</td></tr>\n",
        "<tr><td>Bet-Shots Diff</td> <td>0.6772946859903379</td> <td>0.8019323671497585</td></tr>\n",
        "<tr><td>Score-Sots Diff</td> <td>1.7799043062200957</td> <td>0.8899521531100478</td></tr>\n",
        "<tr><td>Bet-Sots Diff</td> <td>0.7799043062200957</td> <td>1.1100478468899522</td></tr></table>"
       ],
       "metadata": {},
       "output_type": "display_data",
       "text": [
        "<IPython.core.display.HTML at 0x7f2cdd369b38>"
       ]
      },
      {
       "html": [
        "<table><tr><th></th> <th>Sheffield United</th> <th>Blackpool</th></tr><tr><td>Goals</td> <td>2</td> <td>0</td></tr>\n",
        "<tr><td>Bet Goals</td> <td>2</td> <td>1</td></tr>\n",
        "<tr><td>Shots</td> <td>10</td> <td>8</td></tr>\n",
        "<tr><td>SOT</td> <td>4</td> <td>2</td></tr>\n",
        "<tr><td>Shots Scoreline</td> <td>1.1980676328502415</td> <td>0.9584541062801931</td></tr>\n",
        "<tr><td>SOT Scoreline</td> <td>1.186602870813397</td> <td>0.5933014354066986</td></tr>\n",
        "<tr><td>Score-Shots Diff</td> <td>0.8019323671497585</td> <td>0.9584541062801931</td></tr>\n",
        "<tr><td>Bet-Shots Diff</td> <td>0.8019323671497585</td> <td>0.04154589371980688</td></tr>\n",
        "<tr><td>Score-Sots Diff</td> <td>0.8133971291866029</td> <td>0.5933014354066986</td></tr>\n",
        "<tr><td>Bet-Sots Diff</td> <td>0.8133971291866029</td> <td>0.40669856459330145</td></tr></table>"
       ],
       "metadata": {},
       "output_type": "display_data",
       "text": [
        "<IPython.core.display.HTML at 0x7f2cdd369b38>"
       ]
      },
      {
       "html": [
        "<table><tr><th></th> <th>Southend</th> <th>Swindon</th></tr><tr><td>Goals</td> <td>0</td> <td>1</td></tr>\n",
        "<tr><td>Bet Goals</td> <td>1</td> <td>2</td></tr>\n",
        "<tr><td>Shots</td> <td>13</td> <td>8</td></tr>\n",
        "<tr><td>SOT</td> <td>4</td> <td>2</td></tr>\n",
        "<tr><td>Shots Scoreline</td> <td>1.5574879227053138</td> <td>0.9584541062801931</td></tr>\n",
        "<tr><td>SOT Scoreline</td> <td>1.186602870813397</td> <td>0.5933014354066986</td></tr>\n",
        "<tr><td>Score-Shots Diff</td> <td>1.5574879227053138</td> <td>0.04154589371980688</td></tr>\n",
        "<tr><td>Bet-Shots Diff</td> <td>0.5574879227053138</td> <td>1.0415458937198068</td></tr>\n",
        "<tr><td>Score-Sots Diff</td> <td>1.186602870813397</td> <td>0.40669856459330145</td></tr>\n",
        "<tr><td>Bet-Sots Diff</td> <td>0.1866028708133971</td> <td>1.4066985645933014</td></tr></table>"
       ],
       "metadata": {},
       "output_type": "display_data",
       "text": [
        "<IPython.core.display.HTML at 0x7f2cdd369b70>"
       ]
      },
      {
       "html": [
        "<table><tr><th></th> <th>Walsall</th> <th>Coventry</th></tr><tr><td>Goals</td> <td>2</td> <td>1</td></tr>\n",
        "<tr><td>Bet Goals</td> <td>2</td> <td>2</td></tr>\n",
        "<tr><td>Shots</td> <td>17</td> <td>11</td></tr>\n",
        "<tr><td>SOT</td> <td>6</td> <td>4</td></tr>\n",
        "<tr><td>Shots Scoreline</td> <td>2.0367149758454106</td> <td>1.3178743961352655</td></tr>\n",
        "<tr><td>SOT Scoreline</td> <td>1.7799043062200957</td> <td>1.186602870813397</td></tr>\n",
        "<tr><td>Score-Shots Diff</td> <td>0.03671497584541061</td> <td>0.31787439613526547</td></tr>\n",
        "<tr><td>Bet-Shots Diff</td> <td>0.03671497584541061</td> <td>0.6821256038647345</td></tr>\n",
        "<tr><td>Score-Sots Diff</td> <td>0.22009569377990434</td> <td>0.1866028708133971</td></tr>\n",
        "<tr><td>Bet-Sots Diff</td> <td>0.22009569377990434</td> <td>0.8133971291866029</td></tr></table>"
       ],
       "metadata": {},
       "output_type": "display_data",
       "text": [
        "<IPython.core.display.HTML at 0x7f2cdd369b70>"
       ]
      },
      {
       "html": [
        "<h2>Championship:</h2>"
       ],
       "metadata": {},
       "output_type": "display_data",
       "text": [
        "<IPython.core.display.HTML at 0x7f2cdd3697b8>"
       ]
      },
      {
       "html": [
        "<table><tr><th></th> <th>Birmingham</th> <th>Derby</th></tr><tr><td>Goals</td> <td>1</td> <td>1</td></tr>\n",
        "<tr><td>Bet Goals</td> <td>0</td> <td>2</td></tr>\n",
        "<tr><td>Shots</td> <td>19</td> <td>20</td></tr>\n",
        "<tr><td>SOT</td> <td>7</td> <td>6</td></tr>\n",
        "<tr><td>Shots Scoreline</td> <td>1.6913477537437602</td> <td>1.7803660565723793</td></tr>\n",
        "<tr><td>SOT Scoreline</td> <td>1.9710526315789474</td> <td>1.6894736842105262</td></tr>\n",
        "<tr><td>Score-Shots Diff</td> <td>0.6913477537437602</td> <td>0.7803660565723793</td></tr>\n",
        "<tr><td>Bet-Shots Diff</td> <td>1.6913477537437602</td> <td>0.21963394342762066</td></tr>\n",
        "<tr><td>Score-Sots Diff</td> <td>0.9710526315789474</td> <td>0.6894736842105262</td></tr>\n",
        "<tr><td>Bet-Sots Diff</td> <td>1.9710526315789474</td> <td>0.31052631578947376</td></tr></table>"
       ],
       "metadata": {},
       "output_type": "display_data",
       "text": [
        "<IPython.core.display.HTML at 0x7f2cdd369b38>"
       ]
      },
      {
       "html": [
        "<table><tr><th></th> <th>Leeds</th> <th>Sheffield Weds</th></tr><tr><td>Goals</td> <td>1</td> <td>1</td></tr>\n",
        "<tr><td>Bet Goals</td> <td>1</td> <td>1</td></tr>\n",
        "<tr><td>Shots</td> <td>20</td> <td>9</td></tr>\n",
        "<tr><td>SOT</td> <td>3</td> <td>3</td></tr>\n",
        "<tr><td>Shots Scoreline</td> <td>1.7803660565723793</td> <td>0.8011647254575707</td></tr>\n",
        "<tr><td>SOT Scoreline</td> <td>0.8447368421052631</td> <td>0.8447368421052631</td></tr>\n",
        "<tr><td>Score-Shots Diff</td> <td>0.7803660565723793</td> <td>0.19883527454242933</td></tr>\n",
        "<tr><td>Bet-Shots Diff</td> <td>0.7803660565723793</td> <td>0.19883527454242933</td></tr>\n",
        "<tr><td>Score-Sots Diff</td> <td>0.15526315789473688</td> <td>0.15526315789473688</td></tr>\n",
        "<tr><td>Bet-Sots Diff</td> <td>0.15526315789473688</td> <td>0.15526315789473688</td></tr></table>"
       ],
       "metadata": {},
       "output_type": "display_data",
       "text": [
        "<IPython.core.display.HTML at 0x7f2cdd369b38>"
       ]
      },
      {
       "html": [
        "<table><tr><th></th> <th>Bolton</th> <th>Nott'm Forest</th></tr><tr><td>Goals</td> <td>1</td> <td>1</td></tr>\n",
        "<tr><td>Bet Goals</td> <td>1</td> <td>2</td></tr>\n",
        "<tr><td>Shots</td> <td>21</td> <td>10</td></tr>\n",
        "<tr><td>SOT</td> <td>3</td> <td>3</td></tr>\n",
        "<tr><td>Shots Scoreline</td> <td>1.8693843594009982</td> <td>0.8901830282861897</td></tr>\n",
        "<tr><td>SOT Scoreline</td> <td>0.8447368421052631</td> <td>0.8447368421052631</td></tr>\n",
        "<tr><td>Score-Shots Diff</td> <td>0.8693843594009982</td> <td>0.10981697171381033</td></tr>\n",
        "<tr><td>Bet-Shots Diff</td> <td>0.8693843594009982</td> <td>1.1098169717138102</td></tr>\n",
        "<tr><td>Score-Sots Diff</td> <td>0.15526315789473688</td> <td>0.15526315789473688</td></tr>\n",
        "<tr><td>Bet-Sots Diff</td> <td>0.15526315789473688</td> <td>1.155263157894737</td></tr></table>"
       ],
       "metadata": {},
       "output_type": "display_data",
       "text": [
        "<IPython.core.display.HTML at 0x7f2cdd369b38>"
       ]
      },
      {
       "html": [
        "<table><tr><th></th> <th>Brighton</th> <th>Blackburn</th></tr><tr><td>Goals</td> <td>1</td> <td>0</td></tr>\n",
        "<tr><td>Bet Goals</td> <td>2</td> <td>1</td></tr>\n",
        "<tr><td>Shots</td> <td>11</td> <td>12</td></tr>\n",
        "<tr><td>SOT</td> <td>2</td> <td>5</td></tr>\n",
        "<tr><td>Shots Scoreline</td> <td>0.9792013311148086</td> <td>1.0682196339434276</td></tr>\n",
        "<tr><td>SOT Scoreline</td> <td>0.5631578947368421</td> <td>1.4078947368421053</td></tr>\n",
        "<tr><td>Score-Shots Diff</td> <td>0.02079866888519144</td> <td>1.0682196339434276</td></tr>\n",
        "<tr><td>Bet-Shots Diff</td> <td>1.0207986688851913</td> <td>0.06821963394342756</td></tr>\n",
        "<tr><td>Score-Sots Diff</td> <td>0.4368421052631579</td> <td>1.4078947368421053</td></tr>\n",
        "<tr><td>Bet-Sots Diff</td> <td>1.436842105263158</td> <td>0.4078947368421053</td></tr></table>"
       ],
       "metadata": {},
       "output_type": "display_data",
       "text": [
        "<IPython.core.display.HTML at 0x7f2cdd3697b8>"
       ]
      },
      {
       "html": [
        "<table><tr><th></th> <th>Burnley</th> <th>Brentford</th></tr><tr><td>Goals</td> <td>1</td> <td>0</td></tr>\n",
        "<tr><td>Bet Goals</td> <td>1</td> <td>2</td></tr>\n",
        "<tr><td>Shots</td> <td>13</td> <td>7</td></tr>\n",
        "<tr><td>SOT</td> <td>3</td> <td>4</td></tr>\n",
        "<tr><td>Shots Scoreline</td> <td>1.1572379367720464</td> <td>0.6231281198003328</td></tr>\n",
        "<tr><td>SOT Scoreline</td> <td>0.8447368421052631</td> <td>1.1263157894736842</td></tr>\n",
        "<tr><td>Score-Shots Diff</td> <td>0.15723793677204645</td> <td>0.6231281198003328</td></tr>\n",
        "<tr><td>Bet-Shots Diff</td> <td>0.15723793677204645</td> <td>1.3768718801996673</td></tr>\n",
        "<tr><td>Score-Sots Diff</td> <td>0.15526315789473688</td> <td>1.1263157894736842</td></tr>\n",
        "<tr><td>Bet-Sots Diff</td> <td>0.15526315789473688</td> <td>0.8736842105263158</td></tr></table>"
       ],
       "metadata": {},
       "output_type": "display_data",
       "text": [
        "<IPython.core.display.HTML at 0x7f2cdd369b38>"
       ]
      },
      {
       "html": [
        "<table><tr><th></th> <th>Charlton</th> <th>Hull</th></tr><tr><td>Goals</td> <td>2</td> <td>1</td></tr>\n",
        "<tr><td>Bet Goals</td> <td>0</td> <td>2</td></tr>\n",
        "<tr><td>Shots</td> <td>13</td> <td>12</td></tr>\n",
        "<tr><td>SOT</td> <td>5</td> <td>3</td></tr>\n",
        "<tr><td>Shots Scoreline</td> <td>1.1572379367720464</td> <td>1.0682196339434276</td></tr>\n",
        "<tr><td>SOT Scoreline</td> <td>1.4078947368421053</td> <td>0.8447368421052631</td></tr>\n",
        "<tr><td>Score-Shots Diff</td> <td>0.8427620632279536</td> <td>0.06821963394342756</td></tr>\n",
        "<tr><td>Bet-Shots Diff</td> <td>1.1572379367720464</td> <td>0.9317803660565724</td></tr>\n",
        "<tr><td>Score-Sots Diff</td> <td>0.5921052631578947</td> <td>0.15526315789473688</td></tr>\n",
        "<tr><td>Bet-Sots Diff</td> <td>1.4078947368421053</td> <td>1.155263157894737</td></tr></table>"
       ],
       "metadata": {},
       "output_type": "display_data",
       "text": [
        "<IPython.core.display.HTML at 0x7f2cdd369b38>"
       ]
      },
      {
       "html": [
        "<table><tr><th></th> <th>Fulham</th> <th>Huddersfield</th></tr><tr><td>Goals</td> <td>1</td> <td>1</td></tr>\n",
        "<tr><td>Bet Goals</td> <td>2</td> <td>0</td></tr>\n",
        "<tr><td>Shots</td> <td>16</td> <td>13</td></tr>\n",
        "<tr><td>SOT</td> <td>5</td> <td>6</td></tr>\n",
        "<tr><td>Shots Scoreline</td> <td>1.4242928452579033</td> <td>1.1572379367720464</td></tr>\n",
        "<tr><td>SOT Scoreline</td> <td>1.4078947368421053</td> <td>1.6894736842105262</td></tr>\n",
        "<tr><td>Score-Shots Diff</td> <td>0.42429284525790334</td> <td>0.15723793677204645</td></tr>\n",
        "<tr><td>Bet-Shots Diff</td> <td>0.5757071547420967</td> <td>1.1572379367720464</td></tr>\n",
        "<tr><td>Score-Sots Diff</td> <td>0.4078947368421053</td> <td>0.6894736842105262</td></tr>\n",
        "<tr><td>Bet-Sots Diff</td> <td>0.5921052631578947</td> <td>1.6894736842105262</td></tr></table>"
       ],
       "metadata": {},
       "output_type": "display_data",
       "text": [
        "<IPython.core.display.HTML at 0x7f2cdd369b38>"
       ]
      },
      {
       "html": [
        "<table><tr><th></th> <th>Middlesbrough</th> <th>Bristol City</th></tr><tr><td>Goals</td> <td>0</td> <td>1</td></tr>\n",
        "<tr><td>Bet Goals</td> <td>2</td> <td>1</td></tr>\n",
        "<tr><td>Shots</td> <td>19</td> <td>12</td></tr>\n",
        "<tr><td>SOT</td> <td>6</td> <td>4</td></tr>\n",
        "<tr><td>Shots Scoreline</td> <td>1.6913477537437602</td> <td>1.0682196339434276</td></tr>\n",
        "<tr><td>SOT Scoreline</td> <td>1.6894736842105262</td> <td>1.1263157894736842</td></tr>\n",
        "<tr><td>Score-Shots Diff</td> <td>1.6913477537437602</td> <td>0.06821963394342756</td></tr>\n",
        "<tr><td>Bet-Shots Diff</td> <td>0.30865224625623977</td> <td>0.06821963394342756</td></tr>\n",
        "<tr><td>Score-Sots Diff</td> <td>1.6894736842105262</td> <td>0.12631578947368416</td></tr>\n",
        "<tr><td>Bet-Sots Diff</td> <td>0.31052631578947376</td> <td>0.12631578947368416</td></tr></table>"
       ],
       "metadata": {},
       "output_type": "display_data",
       "text": [
        "<IPython.core.display.HTML at 0x7f2cdd369780>"
       ]
      },
      {
       "html": [
        "<table><tr><th></th> <th>Preston</th> <th>Ipswich</th></tr><tr><td>Goals</td> <td>1</td> <td>2</td></tr>\n",
        "<tr><td>Bet Goals</td> <td>2</td> <td>1</td></tr>\n",
        "<tr><td>Shots</td> <td>16</td> <td>4</td></tr>\n",
        "<tr><td>SOT</td> <td>5</td> <td>2</td></tr>\n",
        "<tr><td>Shots Scoreline</td> <td>1.4242928452579033</td> <td>0.35607321131447583</td></tr>\n",
        "<tr><td>SOT Scoreline</td> <td>1.4078947368421053</td> <td>0.5631578947368421</td></tr>\n",
        "<tr><td>Score-Shots Diff</td> <td>0.42429284525790334</td> <td>1.6439267886855242</td></tr>\n",
        "<tr><td>Bet-Shots Diff</td> <td>0.5757071547420967</td> <td>0.6439267886855242</td></tr>\n",
        "<tr><td>Score-Sots Diff</td> <td>0.4078947368421053</td> <td>1.436842105263158</td></tr>\n",
        "<tr><td>Bet-Sots Diff</td> <td>0.5921052631578947</td> <td>0.4368421052631579</td></tr></table>"
       ],
       "metadata": {},
       "output_type": "display_data",
       "text": [
        "<IPython.core.display.HTML at 0x7f2cdd369c88>"
       ]
      },
      {
       "html": [
        "<table><tr><th></th> <th>QPR</th> <th>Rotherham</th></tr><tr><td>Goals</td> <td>4</td> <td>2</td></tr>\n",
        "<tr><td>Bet Goals</td> <td>2</td> <td>0</td></tr>\n",
        "<tr><td>Shots</td> <td>14</td> <td>11</td></tr>\n",
        "<tr><td>SOT</td> <td>5</td> <td>4</td></tr>\n",
        "<tr><td>Shots Scoreline</td> <td>1.2462562396006656</td> <td>0.9792013311148086</td></tr>\n",
        "<tr><td>SOT Scoreline</td> <td>1.4078947368421053</td> <td>1.1263157894736842</td></tr>\n",
        "<tr><td>Score-Shots Diff</td> <td>2.7537437603993347</td> <td>1.0207986688851913</td></tr>\n",
        "<tr><td>Bet-Shots Diff</td> <td>0.7537437603993344</td> <td>0.9792013311148086</td></tr>\n",
        "<tr><td>Score-Sots Diff</td> <td>2.5921052631578947</td> <td>0.8736842105263158</td></tr>\n",
        "<tr><td>Bet-Sots Diff</td> <td>0.5921052631578947</td> <td>1.1263157894736842</td></tr></table>"
       ],
       "metadata": {},
       "output_type": "display_data",
       "text": [
        "<IPython.core.display.HTML at 0x7f2cdd369b70>"
       ]
      },
      {
       "html": [
        "<table><tr><th></th> <th>Reading</th> <th>Milton Keynes Dons</th></tr><tr><td>Goals</td> <td>0</td> <td>0</td></tr>\n",
        "<tr><td>Bet Goals</td> <td>2</td> <td>1</td></tr>\n",
        "<tr><td>Shots</td> <td>20</td> <td>3</td></tr>\n",
        "<tr><td>SOT</td> <td>7</td> <td>0</td></tr>\n",
        "<tr><td>Shots Scoreline</td> <td>1.7803660565723793</td> <td>0.2670549084858569</td></tr>\n",
        "<tr><td>SOT Scoreline</td> <td>1.9710526315789474</td> <td>0.0</td></tr>\n",
        "<tr><td>Score-Shots Diff</td> <td>1.7803660565723793</td> <td>0.2670549084858569</td></tr>\n",
        "<tr><td>Bet-Shots Diff</td> <td>0.21963394342762066</td> <td>0.7329450915141431</td></tr>\n",
        "<tr><td>Score-Sots Diff</td> <td>1.9710526315789474</td> <td>0.0</td></tr>\n",
        "<tr><td>Bet-Sots Diff</td> <td>0.02894736842105261</td> <td>1.0</td></tr></table>"
       ],
       "metadata": {},
       "output_type": "display_data",
       "text": [
        "<IPython.core.display.HTML at 0x7f2cdd369c88>"
       ]
      },
      {
       "html": [
        "<table><tr><th></th> <th>Cardiff</th> <th>Wolves</th></tr><tr><td>Goals</td> <td>2</td> <td>0</td></tr>\n",
        "<tr><td>Bet Goals</td> <td>1</td> <td>1</td></tr>\n",
        "<tr><td>Shots</td> <td>9</td> <td>8</td></tr>\n",
        "<tr><td>SOT</td> <td>4</td> <td>0</td></tr>\n",
        "<tr><td>Shots Scoreline</td> <td>0.8011647254575707</td> <td>0.7121464226289517</td></tr>\n",
        "<tr><td>SOT Scoreline</td> <td>1.1263157894736842</td> <td>0.0</td></tr>\n",
        "<tr><td>Score-Shots Diff</td> <td>1.1988352745424293</td> <td>0.7121464226289517</td></tr>\n",
        "<tr><td>Bet-Shots Diff</td> <td>0.19883527454242933</td> <td>0.28785357737104833</td></tr>\n",
        "<tr><td>Score-Sots Diff</td> <td>0.8736842105263158</td> <td>0.0</td></tr>\n",
        "<tr><td>Bet-Sots Diff</td> <td>0.12631578947368416</td> <td>1.0</td></tr></table>"
       ],
       "metadata": {},
       "output_type": "display_data",
       "text": [
        "<IPython.core.display.HTML at 0x7f2cdd369c88>"
       ]
      },
      {
       "html": [
        "<h2>Premiership:</h2>"
       ],
       "metadata": {},
       "output_type": "display_data",
       "text": [
        "<IPython.core.display.HTML at 0x7f2cdd3697b8>"
       ]
      },
      {
       "html": [
        "<table><tr><th></th> <th>Man United</th> <th>Newcastle</th></tr><tr><td>Goals</td> <td>0</td> <td>0</td></tr>\n",
        "<tr><td>Bet Goals</td> <td>3</td> <td>0</td></tr>\n",
        "<tr><td>Shots</td> <td>20</td> <td>7</td></tr>\n",
        "<tr><td>SOT</td> <td>8</td> <td>0</td></tr>\n",
        "<tr><td>Shots Scoreline</td> <td>2.0754716981132075</td> <td>0.7264150943396226</td></tr>\n",
        "<tr><td>SOT Scoreline</td> <td>2.444444444444444</td> <td>0.0</td></tr>\n",
        "<tr><td>Score-Shots Diff</td> <td>2.0754716981132075</td> <td>0.7264150943396226</td></tr>\n",
        "<tr><td>Bet-Shots Diff</td> <td>0.9245283018867925</td> <td>0.7264150943396226</td></tr>\n",
        "<tr><td>Score-Sots Diff</td> <td>2.444444444444444</td> <td>0.0</td></tr>\n",
        "<tr><td>Bet-Sots Diff</td> <td>0.5555555555555558</td> <td>0.0</td></tr></table>"
       ],
       "metadata": {},
       "output_type": "display_data",
       "text": [
        "<IPython.core.display.HTML at 0x7f2cdd369b38>"
       ]
      },
      {
       "html": [
        "<table><tr><th></th> <th>Crystal Palace</th> <th>Aston Villa</th></tr><tr><td>Goals</td> <td>2</td> <td>1</td></tr>\n",
        "<tr><td>Bet Goals</td> <td>2</td> <td>0</td></tr>\n",
        "<tr><td>Shots</td> <td>16</td> <td>11</td></tr>\n",
        "<tr><td>SOT</td> <td>6</td> <td>2</td></tr>\n",
        "<tr><td>Shots Scoreline</td> <td>1.660377358490566</td> <td>1.141509433962264</td></tr>\n",
        "<tr><td>SOT Scoreline</td> <td>1.8333333333333333</td> <td>0.611111111111111</td></tr>\n",
        "<tr><td>Score-Shots Diff</td> <td>0.3396226415094341</td> <td>0.141509433962264</td></tr>\n",
        "<tr><td>Bet-Shots Diff</td> <td>0.3396226415094341</td> <td>1.141509433962264</td></tr>\n",
        "<tr><td>Score-Sots Diff</td> <td>0.16666666666666674</td> <td>0.38888888888888895</td></tr>\n",
        "<tr><td>Bet-Sots Diff</td> <td>0.16666666666666674</td> <td>0.611111111111111</td></tr></table>"
       ],
       "metadata": {},
       "output_type": "display_data",
       "text": [
        "<IPython.core.display.HTML at 0x7f2cdd3697b8>"
       ]
      },
      {
       "html": [
        "<table><tr><th></th> <th>Leicester</th> <th>Tottenham</th></tr><tr><td>Goals</td> <td>1</td> <td>1</td></tr>\n",
        "<tr><td>Bet Goals</td> <td>1</td> <td>1</td></tr>\n",
        "<tr><td>Shots</td> <td>13</td> <td>19</td></tr>\n",
        "<tr><td>SOT</td> <td>2</td> <td>6</td></tr>\n",
        "<tr><td>Shots Scoreline</td> <td>1.349056603773585</td> <td>1.971698113207547</td></tr>\n",
        "<tr><td>SOT Scoreline</td> <td>0.611111111111111</td> <td>1.8333333333333333</td></tr>\n",
        "<tr><td>Score-Shots Diff</td> <td>0.34905660377358494</td> <td>0.9716981132075471</td></tr>\n",
        "<tr><td>Bet-Shots Diff</td> <td>0.34905660377358494</td> <td>0.9716981132075471</td></tr>\n",
        "<tr><td>Score-Sots Diff</td> <td>0.38888888888888895</td> <td>0.8333333333333333</td></tr>\n",
        "<tr><td>Bet-Sots Diff</td> <td>0.38888888888888895</td> <td>0.8333333333333333</td></tr></table>"
       ],
       "metadata": {},
       "output_type": "display_data",
       "text": [
        "<IPython.core.display.HTML at 0x7f2cdd3697b8>"
       ]
      },
      {
       "html": [
        "<table><tr><th></th> <th>Norwich</th> <th>Stoke</th></tr><tr><td>Goals</td> <td>1</td> <td>1</td></tr>\n",
        "<tr><td>Bet Goals</td> <td>2</td> <td>1</td></tr>\n",
        "<tr><td>Shots</td> <td>21</td> <td>6</td></tr>\n",
        "<tr><td>SOT</td> <td>7</td> <td>1</td></tr>\n",
        "<tr><td>Shots Scoreline</td> <td>2.1792452830188678</td> <td>0.6226415094339622</td></tr>\n",
        "<tr><td>SOT Scoreline</td> <td>2.138888888888889</td> <td>0.3055555555555555</td></tr>\n",
        "<tr><td>Score-Shots Diff</td> <td>1.1792452830188678</td> <td>0.37735849056603776</td></tr>\n",
        "<tr><td>Bet-Shots Diff</td> <td>0.17924528301886777</td> <td>0.37735849056603776</td></tr>\n",
        "<tr><td>Score-Sots Diff</td> <td>1.1388888888888888</td> <td>0.6944444444444444</td></tr>\n",
        "<tr><td>Bet-Sots Diff</td> <td>0.13888888888888884</td> <td>0.6944444444444444</td></tr></table>"
       ],
       "metadata": {},
       "output_type": "display_data",
       "text": [
        "<IPython.core.display.HTML at 0x7f2cdd369c88>"
       ]
      },
      {
       "html": [
        "<table><tr><th></th> <th>Sunderland</th> <th>Swansea</th></tr><tr><td>Goals</td> <td>1</td> <td>1</td></tr>\n",
        "<tr><td>Bet Goals</td> <td>0</td> <td>2</td></tr>\n",
        "<tr><td>Shots</td> <td>10</td> <td>20</td></tr>\n",
        "<tr><td>SOT</td> <td>2</td> <td>9</td></tr>\n",
        "<tr><td>Shots Scoreline</td> <td>1.0377358490566038</td> <td>2.0754716981132075</td></tr>\n",
        "<tr><td>SOT Scoreline</td> <td>0.611111111111111</td> <td>2.75</td></tr>\n",
        "<tr><td>Score-Shots Diff</td> <td>0.037735849056603765</td> <td>1.0754716981132075</td></tr>\n",
        "<tr><td>Bet-Shots Diff</td> <td>1.0377358490566038</td> <td>0.07547169811320753</td></tr>\n",
        "<tr><td>Score-Sots Diff</td> <td>0.38888888888888895</td> <td>1.75</td></tr>\n",
        "<tr><td>Bet-Sots Diff</td> <td>0.611111111111111</td> <td>0.75</td></tr></table>"
       ],
       "metadata": {},
       "output_type": "display_data",
       "text": [
        "<IPython.core.display.HTML at 0x7f2cdd369b70>"
       ]
      },
      {
       "html": [
        "<table><tr><th></th> <th>West Ham</th> <th>Bournemouth</th></tr><tr><td>Goals</td> <td>3</td> <td>4</td></tr>\n",
        "<tr><td>Bet Goals</td> <td>1</td> <td>2</td></tr>\n",
        "<tr><td>Shots</td> <td>10</td> <td>15</td></tr>\n",
        "<tr><td>SOT</td> <td>4</td> <td>7</td></tr>\n",
        "<tr><td>Shots Scoreline</td> <td>1.0377358490566038</td> <td>1.5566037735849056</td></tr>\n",
        "<tr><td>SOT Scoreline</td> <td>1.222222222222222</td> <td>2.138888888888889</td></tr>\n",
        "<tr><td>Score-Shots Diff</td> <td>1.9622641509433962</td> <td>2.4433962264150946</td></tr>\n",
        "<tr><td>Bet-Shots Diff</td> <td>0.037735849056603765</td> <td>0.44339622641509435</td></tr>\n",
        "<tr><td>Score-Sots Diff</td> <td>1.777777777777778</td> <td>1.8611111111111112</td></tr>\n",
        "<tr><td>Bet-Sots Diff</td> <td>0.2222222222222221</td> <td>0.13888888888888884</td></tr></table>"
       ],
       "metadata": {},
       "output_type": "display_data",
       "text": [
        "<IPython.core.display.HTML at 0x7f2cdd369b38>"
       ]
      },
      {
       "html": [
        "<table><tr><th></th> <th>West Brom</th> <th>Chelsea</th></tr><tr><td>Goals</td> <td>2</td> <td>3</td></tr>\n",
        "<tr><td>Bet Goals</td> <td>0</td> <td>2</td></tr>\n",
        "<tr><td>Shots</td> <td>15</td> <td>15</td></tr>\n",
        "<tr><td>SOT</td> <td>6</td> <td>5</td></tr>\n",
        "<tr><td>Shots Scoreline</td> <td>1.5566037735849056</td> <td>1.5566037735849056</td></tr>\n",
        "<tr><td>SOT Scoreline</td> <td>1.8333333333333333</td> <td>1.5277777777777777</td></tr>\n",
        "<tr><td>Score-Shots Diff</td> <td>0.44339622641509435</td> <td>1.4433962264150944</td></tr>\n",
        "<tr><td>Bet-Shots Diff</td> <td>1.5566037735849056</td> <td>0.44339622641509435</td></tr>\n",
        "<tr><td>Score-Sots Diff</td> <td>0.16666666666666674</td> <td>1.4722222222222223</td></tr>\n",
        "<tr><td>Bet-Sots Diff</td> <td>1.8333333333333333</td> <td>0.4722222222222223</td></tr></table>"
       ],
       "metadata": {},
       "output_type": "display_data",
       "text": [
        "<IPython.core.display.HTML at 0x7f2cdd369b70>"
       ]
      },
      {
       "html": [
        "<table><tr><th></th> <th>Everton</th> <th>Man City</th></tr><tr><td>Goals</td> <td>0</td> <td>2</td></tr>\n",
        "<tr><td>Bet Goals</td> <td>0</td> <td>2</td></tr>\n",
        "<tr><td>Shots</td> <td>10</td> <td>16</td></tr>\n",
        "<tr><td>SOT</td> <td>1</td> <td>9</td></tr>\n",
        "<tr><td>Shots Scoreline</td> <td>1.0377358490566038</td> <td>1.660377358490566</td></tr>\n",
        "<tr><td>SOT Scoreline</td> <td>0.3055555555555555</td> <td>2.75</td></tr>\n",
        "<tr><td>Score-Shots Diff</td> <td>1.0377358490566038</td> <td>0.3396226415094341</td></tr>\n",
        "<tr><td>Bet-Shots Diff</td> <td>1.0377358490566038</td> <td>0.3396226415094341</td></tr>\n",
        "<tr><td>Score-Sots Diff</td> <td>0.3055555555555555</td> <td>0.75</td></tr>\n",
        "<tr><td>Bet-Sots Diff</td> <td>0.3055555555555555</td> <td>0.75</td></tr></table>"
       ],
       "metadata": {},
       "output_type": "display_data",
       "text": [
        "<IPython.core.display.HTML at 0x7f2cdd369b70>"
       ]
      },
      {
       "html": [
        "<table><tr><th></th> <th>Watford</th> <th>Southampton</th></tr><tr><td>Goals</td> <td>0</td> <td>0</td></tr>\n",
        "<tr><td>Bet Goals</td> <td>2</td> <td>2</td></tr>\n",
        "<tr><td>Shots</td> <td>13</td> <td>14</td></tr>\n",
        "<tr><td>SOT</td> <td>0</td> <td>5</td></tr>\n",
        "<tr><td>Shots Scoreline</td> <td>1.349056603773585</td> <td>1.4528301886792452</td></tr>\n",
        "<tr><td>SOT Scoreline</td> <td>0.0</td> <td>1.5277777777777777</td></tr>\n",
        "<tr><td>Score-Shots Diff</td> <td>1.349056603773585</td> <td>1.4528301886792452</td></tr>\n",
        "<tr><td>Bet-Shots Diff</td> <td>0.6509433962264151</td> <td>0.5471698113207548</td></tr>\n",
        "<tr><td>Score-Sots Diff</td> <td>0.0</td> <td>1.5277777777777777</td></tr>\n",
        "<tr><td>Bet-Sots Diff</td> <td>2.0</td> <td>0.4722222222222223</td></tr></table>"
       ],
       "metadata": {},
       "output_type": "display_data",
       "text": [
        "<IPython.core.display.HTML at 0x7f2cdd369b70>"
       ]
      },
      {
       "html": [
        "<h2>Scottish Premiership:</h2>"
       ],
       "metadata": {},
       "output_type": "display_data",
       "text": [
        "<IPython.core.display.HTML at 0x7f2cdd369b38>"
       ]
      },
      {
       "html": [
        "<table><tr><th></th> <th>Dundee United</th> <th>Celtic</th></tr><tr><td>Goals</td> <td>1</td> <td>3</td></tr>\n",
        "<tr><td>Bet Goals</td> <td>1</td> <td>3</td></tr>\n",
        "<tr><td>Shots</td> <td>6</td> <td>15</td></tr>\n",
        "<tr><td>SOT</td> <td>3</td> <td>6</td></tr>\n",
        "<tr><td>Shots Scoreline</td> <td>0.8379310344827586</td> <td>2.094827586206897</td></tr>\n",
        "<tr><td>SOT Scoreline</td> <td>0.8772563176895307</td> <td>1.7545126353790614</td></tr>\n",
        "<tr><td>Score-Shots Diff</td> <td>0.16206896551724137</td> <td>0.9051724137931032</td></tr>\n",
        "<tr><td>Bet-Shots Diff</td> <td>0.16206896551724137</td> <td>0.9051724137931032</td></tr>\n",
        "<tr><td>Score-Sots Diff</td> <td>0.12274368231046928</td> <td>1.2454873646209386</td></tr>\n",
        "<tr><td>Bet-Sots Diff</td> <td>0.12274368231046928</td> <td>1.2454873646209386</td></tr></table>"
       ],
       "metadata": {},
       "output_type": "display_data",
       "text": [
        "<IPython.core.display.HTML at 0x7f2cdd3697b8>"
       ]
      },
      {
       "html": [
        "<table><tr><th></th> <th>Aberdeen</th> <th>Dundee</th></tr><tr><td>Goals</td> <td>2</td> <td>0</td></tr>\n",
        "<tr><td>Bet Goals</td> <td>2</td> <td>1</td></tr>\n",
        "<tr><td>Shots</td> <td>13</td> <td>7</td></tr>\n",
        "<tr><td>SOT</td> <td>5</td> <td>4</td></tr>\n",
        "<tr><td>Shots Scoreline</td> <td>1.8155172413793104</td> <td>0.9775862068965517</td></tr>\n",
        "<tr><td>SOT Scoreline</td> <td>1.4620938628158844</td> <td>1.1696750902527075</td></tr>\n",
        "<tr><td>Score-Shots Diff</td> <td>0.18448275862068964</td> <td>0.9775862068965517</td></tr>\n",
        "<tr><td>Bet-Shots Diff</td> <td>0.18448275862068964</td> <td>0.022413793103448265</td></tr>\n",
        "<tr><td>Score-Sots Diff</td> <td>0.5379061371841156</td> <td>1.1696750902527075</td></tr>\n",
        "<tr><td>Bet-Sots Diff</td> <td>0.5379061371841156</td> <td>0.16967509025270755</td></tr></table>"
       ],
       "metadata": {},
       "output_type": "display_data",
       "text": [
        "<IPython.core.display.HTML at 0x7f2cdd3697b8>"
       ]
      },
      {
       "html": [
        "<table><tr><th></th> <th>Inverness C</th> <th>Hamilton</th></tr><tr><td>Goals</td> <td>0</td> <td>2</td></tr>\n",
        "<tr><td>Bet Goals</td> <td>0</td> <td>2</td></tr>\n",
        "<tr><td>Shots</td> <td>10</td> <td>10</td></tr>\n",
        "<tr><td>SOT</td> <td>5</td> <td>4</td></tr>\n",
        "<tr><td>Shots Scoreline</td> <td>1.396551724137931</td> <td>1.396551724137931</td></tr>\n",
        "<tr><td>SOT Scoreline</td> <td>1.4620938628158844</td> <td>1.1696750902527075</td></tr>\n",
        "<tr><td>Score-Shots Diff</td> <td>1.396551724137931</td> <td>0.603448275862069</td></tr>\n",
        "<tr><td>Bet-Shots Diff</td> <td>1.396551724137931</td> <td>0.603448275862069</td></tr>\n",
        "<tr><td>Score-Sots Diff</td> <td>1.4620938628158844</td> <td>0.8303249097472925</td></tr>\n",
        "<tr><td>Bet-Sots Diff</td> <td>1.4620938628158844</td> <td>0.8303249097472925</td></tr></table>"
       ],
       "metadata": {},
       "output_type": "display_data",
       "text": [
        "<IPython.core.display.HTML at 0x7f2cdd369b70>"
       ]
      },
      {
       "html": [
        "<table><tr><th></th> <th>Hearts</th> <th>Partick</th></tr><tr><td>Goals</td> <td>3</td> <td>0</td></tr>\n",
        "<tr><td>Bet Goals</td> <td>2</td> <td>1</td></tr>\n",
        "<tr><td>Shots</td> <td>13</td> <td>4</td></tr>\n",
        "<tr><td>SOT</td> <td>5</td> <td>0</td></tr>\n",
        "<tr><td>Shots Scoreline</td> <td>1.8155172413793104</td> <td>0.5586206896551724</td></tr>\n",
        "<tr><td>SOT Scoreline</td> <td>1.4620938628158844</td> <td>0.0</td></tr>\n",
        "<tr><td>Score-Shots Diff</td> <td>1.1844827586206896</td> <td>0.5586206896551724</td></tr>\n",
        "<tr><td>Bet-Shots Diff</td> <td>0.18448275862068964</td> <td>0.4413793103448276</td></tr>\n",
        "<tr><td>Score-Sots Diff</td> <td>1.5379061371841156</td> <td>0.0</td></tr>\n",
        "<tr><td>Bet-Sots Diff</td> <td>0.5379061371841156</td> <td>1.0</td></tr></table>"
       ],
       "metadata": {},
       "output_type": "display_data",
       "text": [
        "<IPython.core.display.HTML at 0x7f2cdd3697f0>"
       ]
      },
      {
       "html": [
        "<table><tr><th></th> <th>Kilmarnock</th> <th>Ross County</th></tr><tr><td>Goals</td> <td>0</td> <td>4</td></tr>\n",
        "<tr><td>Bet Goals</td> <td>1</td> <td>3</td></tr>\n",
        "<tr><td>Shots</td> <td>8</td> <td>22</td></tr>\n",
        "<tr><td>SOT</td> <td>2</td> <td>11</td></tr>\n",
        "<tr><td>Shots Scoreline</td> <td>1.1172413793103448</td> <td>3.0724137931034483</td></tr>\n",
        "<tr><td>SOT Scoreline</td> <td>0.5848375451263538</td> <td>3.216606498194946</td></tr>\n",
        "<tr><td>Score-Shots Diff</td> <td>1.1172413793103448</td> <td>0.9275862068965517</td></tr>\n",
        "<tr><td>Bet-Shots Diff</td> <td>0.11724137931034484</td> <td>0.07241379310344831</td></tr>\n",
        "<tr><td>Score-Sots Diff</td> <td>0.5848375451263538</td> <td>0.7833935018050542</td></tr>\n",
        "<tr><td>Bet-Sots Diff</td> <td>0.4151624548736462</td> <td>0.21660649819494582</td></tr></table>"
       ],
       "metadata": {},
       "output_type": "display_data",
       "text": [
        "<IPython.core.display.HTML at 0x7f2cdd369780>"
       ]
      },
      {
       "html": [
        "<table><tr><th></th> <th>St Johnstone</th> <th>Motherwell</th></tr><tr><td>Goals</td> <td>2</td> <td>1</td></tr>\n",
        "<tr><td>Bet Goals</td> <td>0</td> <td>2</td></tr>\n",
        "<tr><td>Shots</td> <td>11</td> <td>11</td></tr>\n",
        "<tr><td>SOT</td> <td>6</td> <td>4</td></tr>\n",
        "<tr><td>Shots Scoreline</td> <td>1.5362068965517242</td> <td>1.5362068965517242</td></tr>\n",
        "<tr><td>SOT Scoreline</td> <td>1.7545126353790614</td> <td>1.1696750902527075</td></tr>\n",
        "<tr><td>Score-Shots Diff</td> <td>0.46379310344827585</td> <td>0.5362068965517242</td></tr>\n",
        "<tr><td>Bet-Shots Diff</td> <td>1.5362068965517242</td> <td>0.46379310344827585</td></tr>\n",
        "<tr><td>Score-Sots Diff</td> <td>0.24548736462093856</td> <td>0.16967509025270755</td></tr>\n",
        "<tr><td>Bet-Sots Diff</td> <td>1.7545126353790614</td> <td>0.8303249097472925</td></tr></table>"
       ],
       "metadata": {},
       "output_type": "display_data",
       "text": [
        "<IPython.core.display.HTML at 0x7f2cdd3697b8>"
       ]
      }
     ],
     "prompt_number": 6
    }
   ],
   "metadata": {}
  }
 ]
}