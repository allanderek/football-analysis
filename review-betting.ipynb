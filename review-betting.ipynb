{
 "metadata": {
  "name": "",
  "signature": "sha256:5011bb65980c5577bdbfc3eea751f71b7311d6f0131dee577eb8eb3e954fc669"
 },
 "nbformat": 3,
 "nbformat_minor": 0,
 "worksheets": [
  {
   "cells": [
    {
     "cell_type": "code",
     "collapsed": false,
     "input": [
      "bets_text = \"\"\"\n",
      "League Two:\n",
      "Bristol Rovers v Barnet: 1 - 1, 7.0\n",
      "Cambridge Utd v Crawley Town: 2 - 0, 8.2\n",
      "Carlisle v AFC Wimbledon: 1 - 2, 11.5\n",
      "Exeter v York City: 1 - 2, 12.0\n",
      "Mansfield v Oxford Utd: 1 - 2, 10.0\n",
      "Newport County v Leyton Orient: 1 - 1, 7.6\n",
      "Northampton v Plymouth: 2 - 0, 11.5\n",
      "Notts Co v Accrington S: 0 - 0, 10.5\n",
      "Portsmouth v Morecambe: 2 - 1, 8.8\n",
      "Stevenage v Hartlepool: 2 - 1, 9.4\n",
      "Wycombe v Dag and Red: 2 - 1, 10.0\n",
      "Yeovil v Luton: 1 - 0, 11.0\n",
      "\n",
      "League One:\n",
      "Barnsley v Bradford: 0 - 0, 10.5\n",
      "Burton v Peterborough: 3 - 1, 21.0\n",
      "Chesterfield v Rochdale: 2 - 1, 9.4\n",
      "Crewe v Bury: 1 - 3, 18.0\n",
      "Fleetwood Town v Colchester: 1 - 2, 13.5\n",
      "Gillingham v Wigan: 2 - 2, 15.0\n",
      "Oldham v Shrewsbury: 0 - 0, 10.0\n",
      "Port Vale v Doncaster: 0 - 0, 10.0\n",
      "Scunthorpe v Millwall: 1 - 2, 12.0\n",
      "Sheff Utd v Blackpool: 2 - 1, 9.0\n",
      "Southend v Swindon: 1 - 2, 12.0\n",
      "Walsall v Coventry: 2 - 2, 16.0\n",
      "\n",
      "Championship:\n",
      "Birmingham v Derby: 0 - 2, 14.5\n",
      "\n",
      "Leeds v Sheff Wed: 1 - 1, 7.2\n",
      "Bolton v Nottm Forest: 1 - 2, 11.0\n",
      "Brighton v Blackburn: 2 - 1, 10.5\n",
      "Burnley v Brentford: 1 - 2, 12.0\n",
      "Charlton v Hull: 0 - 2, 10.0\n",
      "Fulham v Huddersfield: 2 - 0, 13.6925\n",
      "Middlesbrough v Bristol City: 2 - 1, 9.8\n",
      "Preston v Ipswich: 2 - 1, 11.0\n",
      "QPR v Rotherham: 2 - 0, 9.0\n",
      "Reading v MK Dons: 2 - 1, 10.0\n",
      "Cardiff v Wolves: 1 - 1, 7.2\n",
      "\n",
      "Premiership:\n",
      "Man Utd v Newcastle: 3 - 0, 10.5\n",
      "C Palace v Aston Villa: 2 - 0, 9.8\n",
      "Leicester v Tottenham: 1 - 1, 7.66\n",
      "Norwich v Stoke: 2 - 1, 11.5\n",
      "Sunderland v Swansea: 0 - 2, 10.5\n",
      "West Ham v Bournemouth: 1 - 2, 12.2925\n",
      "\n",
      "West Brom v Chelsea: 0 - 2, 8.0\n",
      "Everton v Man City: 0 - 2, 10.5\n",
      "Watford v Southampton: 2 - 2, 17.0\n",
      "\n",
      "\n",
      "Scottish Premiership:\n",
      "Dundee Utd v Celtic: 1 - 3, 12.5\n",
      "Aberdeen v Dundee: 2 - 1, 9.0\n",
      "Inverness CT v Hamilton: 0 - 2, 18.0\n",
      "Hearts v Partick: 2 - 1, 9.6\n",
      "Kilmarnock v Ross Co: 1 - 3, 23.0\n",
      "St Johnstone v Motherwell: 0 - 2, 20.0\n",
      "\"\"\"\n",
      "bets_start_date = \"21/08/2015\"\n",
      "bets_end_date = \"24/08/2015\""
     ],
     "language": "python",
     "metadata": {},
     "outputs": [],
     "prompt_number": 11
    },
    {
     "cell_type": "code",
     "collapsed": false,
     "input": [
      "bets_text = \"\"\"\n",
      "Scottish Premiership:\n",
      "Celtic v St Johnstone: 3 - 0, 8.331\n",
      "Dundee v Inverness CT: 2 - 0, 11.0725\n",
      "Hamilton v Hearts: 0 - 2, 12.18\n",
      "Motherwell v Kilmarnock: 2 - 0, 10.0\n",
      "Partick v Aberdeen: 1 - 2, 9.235999999999999\n",
      "Ross Co v Dundee Utd: 1 - 0, 9.2\n",
      "\n",
      "League Two:\n",
      "AFC Wimbledon v Exeter: 2 - 1, 9.912\n",
      "Accrington S v Northampton: 1 - 2, 10.08\n",
      "Barnet v Cambridge Utd: 1 - 1, 6.8\n",
      "Dag and Red v Stevenage: 2 - 1, 12.5625\n",
      "Crawley Town v Wycombe: 0 - 1, 8.2\n",
      "Hartlepool v Carlisle: 1 - 1, 6.6\n",
      "Leyton Orient v Bristol Rovers: 1 - 2, 14.055\n",
      "Luton v Portsmouth: 0 - 2, 14.105\n",
      "Morecambe v Notts Co: 2 - 1, 10.08\n",
      "Oxford Utd v Yeovil: 2 - 0, 7.8\n",
      "Plymouth v Newport County: 2 - 1, 9.235999999999999\n",
      "York City v Mansfield: 1 - 1, 7.0\n",
      "\n",
      "League One:\n",
      "Blackpool v Walsall: 1 - 3, 18.5\n",
      "Bradford v Port Vale: 0 - 1, 10.5\n",
      "Bury v Oldham: 2 - 0, 10.15\n",
      "Colchester v Scunthorpe: 2 - 0, 16.0475\n",
      "Doncaster v Fleetwood Town: 1 - 2, 13.5575\n",
      "Millwall v Chesterfield: 1 - 2, 11.135\n",
      "Peterborough v Gillingham: 1 - 1, 7.093999999999999\n",
      "Rochdale v Barnsley: 2 - 0, 10.575\n",
      "Shrewsbury v Burton: 1 - 2, 13.06\n",
      "Swindon v Sheff Utd: 2 - 0, 17.045\n",
      "Wigan v Crewe: 1 - 0, 7.29\n",
      "Coventry v Southend: 2 - 1, 10.0\n",
      "\n",
      "Championship:\n",
      "Blackburn v Bolton: 1 - 0, 8.8\n",
      "\n",
      "Derby v Leeds: 2 - 1, 9.8\n",
      "Brentford v Reading: 1 - 2, 13.0\n",
      "Bristol City v Burnley: 1 - 0, 8.638\n",
      "Huddersfield v QPR: 1 - 1, 7.093999999999999\n",
      "Hull v Preston: 0 - 1, 11.0\n",
      "Ipswich v Brighton: 1 - 1, 6.8\n",
      "MK Dons v Birmingham: 1 - 1, 7.29\n",
      "Nottm Forest v Cardiff: 0 - 1, 10.5\n",
      "Rotherham v Fulham: 1 - 1, 7.047999999999999\n",
      "Sheff Wed v Middlesbrough: 0 - 2, 10.5\n",
      "Wolves v Charlton: 1 - 1, 7.176\n",
      "\n",
      "Premiership:\n",
      "Newcastle v Arsenal: 1 - 3, 15.5\n",
      "Aston Villa v Sunderland: 1 - 1, 8.0\n",
      "Bournemouth v Leicester: 2 - 1, 10.0\n",
      "Chelsea v C Palace: 2 - 1, 9.8\n",
      "Liverpool v West Ham: 4 - 0, 18.0\n",
      "Man City v Watford: 3 - 1, 11.5\n",
      "Stoke v West Brom: 2 - 1, 10.0\n",
      "Tottenham v Everton: 2 - 0, 12.0\n",
      "Southampton v Norwich: 1 - 1, 7.4\n",
      "Swansea v Man Utd: 1 - 2, 10.5\n",
      "\"\"\"\n",
      "bets_start_date = \"28/08/2015\"\n",
      "bets_end_date = \"31/08/2015\""
     ],
     "language": "python",
     "metadata": {},
     "outputs": [],
     "prompt_number": 12
    },
    {
     "cell_type": "code",
     "collapsed": false,
     "input": [
      "import blog.posts.league_analysis as league_analysis\n",
      "from IPython.display import display, HTML"
     ],
     "language": "python",
     "metadata": {},
     "outputs": [],
     "prompt_number": 13
    },
    {
     "cell_type": "code",
     "collapsed": false,
     "input": [
      "for league in league_analysis.current_year.all_leagues:\n",
      "    league.retrieve_data()\n",
      "    league.parse_league_data()\n",
      "    league.calculate_league_shot_stats()"
     ],
     "language": "python",
     "metadata": {},
     "outputs": [],
     "prompt_number": 14
    },
    {
     "cell_type": "code",
     "collapsed": false,
     "input": [
      "def display_bet_analysis(league, start_date, end_date, bet_line):\n",
      "    match = bet_line.get_relevant_match(league, start_date, end_date)\n",
      "    \n",
      "    # So this is the number of goals we would have expected the team to have scored based on shots\n",
      "    home_shots_goals = match.HS / league.shots_per_goal\n",
      "    away_shots_goals = match.AS / league.shots_per_goal\n",
      "    # Similarly for shots on target\n",
      "    home_sot_goals = match.HST / league.sot_per_goal\n",
      "    away_sot_goals = match.AST / league.sot_per_goal\n",
      "\n",
      "    # Who is closer to the shots scorelines, the bet or the real scoreline?\n",
      "    home_shots_score_diff = abs(match.FTHG - home_shots_goals)\n",
      "    away_shots_score_diff = abs(match.FTAG - away_shots_goals)\n",
      "    home_sots_score_diff = abs(match.FTHG - home_sot_goals)\n",
      "    away_sots_score_diff = abs(match.FTAG - away_sot_goals)\n",
      "\n",
      "    home_bet = bet_line.home_score\n",
      "    away_bet = bet_line.away_score\n",
      "    home_shots_bet_diff = abs(home_bet - home_shots_goals)\n",
      "    away_shots_bet_diff = abs(away_bet - away_shots_goals)\n",
      "    home_sots_bet_diff = abs(home_bet - home_sot_goals)\n",
      "    away_sots_bet_diff = abs(away_bet - away_sot_goals)\n",
      "    \n",
      "    headers = ['', match.HomeTeam, match.AwayTeam]\n",
      "    rows = [['Goals', match.FTHG, match.FTAG],\n",
      "            ['Bet Goals', home_bet, away_bet],\n",
      "            ['Shots', match.HS, match.AS],\n",
      "            ['SOT', match.HST, match.AST],\n",
      "            ['Shots Scoreline', home_shots_goals, away_shots_goals],\n",
      "            ['SOT Scoreline', home_sot_goals, away_sot_goals],\n",
      "            ['Score-Shots Diff', home_shots_score_diff, away_shots_score_diff],\n",
      "            ['Bet-Shots Diff', home_shots_bet_diff, away_shots_bet_diff],\n",
      "            ['Score-Sots Diff', home_sots_score_diff, away_sots_score_diff],\n",
      "            ['Bet-Sots Diff', home_sots_bet_diff, away_sots_bet_diff]]\n",
      "\n",
      "    league_analysis.display_table(headers, rows)\n",
      "\n"
     ],
     "language": "python",
     "metadata": {},
     "outputs": [],
     "prompt_number": 15
    },
    {
     "cell_type": "code",
     "collapsed": false,
     "input": [
      "class BetLine(object):\n",
      "    def __init__(self, bet_line):\n",
      "        \"\"\"Example bet line: Bristol Rovers v Barnet: 1 - 1, 7.0\"\"\"\n",
      "        match_teams, bet_details = bet_line.split(': ')\n",
      "        self.home, self.away = match_teams.split(' v ')\n",
      "        bet_score, self.bet_price = bet_details.split(', ')\n",
      "        home_score, away_score = bet_score.split(' - ')\n",
      "        self.home_score = int(home_score)\n",
      "        self.away_score = int(away_score)\n",
      "    \n",
      "    def get_relevant_match(self, league, start_date, end_date):\n",
      "        home = league_analysis.alias_team(self.home)\n",
      "        away = league_analysis.alias_team(self.away)\n",
      "    \n",
      "        matches = league_analysis.get_matches(league, start_date, end_date,\n",
      "                                              home_team=home, away_team=away)\n",
      "        match = matches[0]\n",
      "        return match\n",
      "\n",
      "    \n",
      "def process_bet_line(league, start_date, end_date, bet_line):\n",
      "    display_bet_analysis(league, start_date, end_date, BetLine(bet_line))\n"
     ],
     "language": "python",
     "metadata": {},
     "outputs": [],
     "prompt_number": 16
    },
    {
     "cell_type": "code",
     "collapsed": false,
     "input": [
      "leagues = {'League Two:': league_analysis.year_201516.elt_league,\n",
      "           'League One:': league_analysis.year_201516.elo_league,\n",
      "           'Championship:': league_analysis.year_201516.ech_league,\n",
      "           'Premiership:': league_analysis.year_201516.epl_league,\n",
      "           'Scottish Premiership:': league_analysis.year_201516.spl_league,}\n",
      "\n",
      "\n",
      "for line in bets_text.split('\\n'):\n",
      "    if line == '':\n",
      "        continue\n",
      "    try:\n",
      "        current_league = leagues[line]\n",
      "        display(HTML('<h2>{0}</h2>'.format(line)))\n",
      "    except KeyError:\n",
      "        process_bet_line(current_league, bets_start_date, bets_end_date, line)"
     ],
     "language": "python",
     "metadata": {},
     "outputs": [
      {
       "html": [
        "<h2>Scottish Premiership:</h2>"
       ],
       "metadata": {},
       "output_type": "display_data",
       "text": [
        "<IPython.core.display.HTML at 0x7f6827716080>"
       ]
      },
      {
       "html": [
        "<table><tr><th></th> <th>Celtic</th> <th>St Johnstone</th></tr><tr><td>Goals</td> <td>3</td> <td>1</td></tr>\n",
        "<tr><td>Bet Goals</td> <td>3</td> <td>0</td></tr>\n",
        "<tr><td>Shots</td> <td>23</td> <td>6</td></tr>\n",
        "<tr><td>SOT</td> <td>8</td> <td>3</td></tr>\n",
        "<tr><td>Shots Scoreline</td> <td>3.192634560906516</td> <td>0.8328611898016998</td></tr>\n",
        "<tr><td>SOT Scoreline</td> <td>2.3473053892215567</td> <td>0.8802395209580838</td></tr>\n",
        "<tr><td>Score-Shots Diff</td> <td>0.19263456090651587</td> <td>0.16713881019830024</td></tr>\n",
        "<tr><td>Bet-Shots Diff</td> <td>0.19263456090651587</td> <td>0.8328611898016998</td></tr>\n",
        "<tr><td>Score-Sots Diff</td> <td>0.6526946107784433</td> <td>0.11976047904191622</td></tr>\n",
        "<tr><td>Bet-Sots Diff</td> <td>0.6526946107784433</td> <td>0.8802395209580838</td></tr></table>"
       ],
       "metadata": {},
       "output_type": "display_data",
       "text": [
        "<IPython.core.display.HTML at 0x7f6827716198>"
       ]
      },
      {
       "html": [
        "<table><tr><th></th> <th>Dundee</th> <th>Inverness C</th></tr><tr><td>Goals</td> <td>1</td> <td>1</td></tr>\n",
        "<tr><td>Bet Goals</td> <td>2</td> <td>0</td></tr>\n",
        "<tr><td>Shots</td> <td>8</td> <td>10</td></tr>\n",
        "<tr><td>SOT</td> <td>4</td> <td>4</td></tr>\n",
        "<tr><td>Shots Scoreline</td> <td>1.1104815864022664</td> <td>1.388101983002833</td></tr>\n",
        "<tr><td>SOT Scoreline</td> <td>1.1736526946107784</td> <td>1.1736526946107784</td></tr>\n",
        "<tr><td>Score-Shots Diff</td> <td>0.11048158640226635</td> <td>0.38810198300283294</td></tr>\n",
        "<tr><td>Bet-Shots Diff</td> <td>0.8895184135977336</td> <td>1.388101983002833</td></tr>\n",
        "<tr><td>Score-Sots Diff</td> <td>0.17365269461077837</td> <td>0.17365269461077837</td></tr>\n",
        "<tr><td>Bet-Sots Diff</td> <td>0.8263473053892216</td> <td>1.1736526946107784</td></tr></table>"
       ],
       "metadata": {},
       "output_type": "display_data",
       "text": [
        "<IPython.core.display.HTML at 0x7f68277160b8>"
       ]
      },
      {
       "html": [
        "<table><tr><th></th> <th>Hamilton</th> <th>Hearts</th></tr><tr><td>Goals</td> <td>3</td> <td>2</td></tr>\n",
        "<tr><td>Bet Goals</td> <td>0</td> <td>2</td></tr>\n",
        "<tr><td>Shots</td> <td>10</td> <td>6</td></tr>\n",
        "<tr><td>SOT</td> <td>7</td> <td>4</td></tr>\n",
        "<tr><td>Shots Scoreline</td> <td>1.388101983002833</td> <td>0.8328611898016998</td></tr>\n",
        "<tr><td>SOT Scoreline</td> <td>2.053892215568862</td> <td>1.1736526946107784</td></tr>\n",
        "<tr><td>Score-Shots Diff</td> <td>1.611898016997167</td> <td>1.1671388101983002</td></tr>\n",
        "<tr><td>Bet-Shots Diff</td> <td>1.388101983002833</td> <td>1.1671388101983002</td></tr>\n",
        "<tr><td>Score-Sots Diff</td> <td>0.9461077844311379</td> <td>0.8263473053892216</td></tr>\n",
        "<tr><td>Bet-Sots Diff</td> <td>2.053892215568862</td> <td>0.8263473053892216</td></tr></table>"
       ],
       "metadata": {},
       "output_type": "display_data",
       "text": [
        "<IPython.core.display.HTML at 0x7f6827716160>"
       ]
      },
      {
       "html": [
        "<table><tr><th></th> <th>Motherwell</th> <th>Kilmarnock</th></tr><tr><td>Goals</td> <td>1</td> <td>0</td></tr>\n",
        "<tr><td>Bet Goals</td> <td>2</td> <td>0</td></tr>\n",
        "<tr><td>Shots</td> <td>12</td> <td>9</td></tr>\n",
        "<tr><td>SOT</td> <td>3</td> <td>4</td></tr>\n",
        "<tr><td>Shots Scoreline</td> <td>1.6657223796033995</td> <td>1.2492917847025495</td></tr>\n",
        "<tr><td>SOT Scoreline</td> <td>0.8802395209580838</td> <td>1.1736526946107784</td></tr>\n",
        "<tr><td>Score-Shots Diff</td> <td>0.6657223796033995</td> <td>1.2492917847025495</td></tr>\n",
        "<tr><td>Bet-Shots Diff</td> <td>0.33427762039660047</td> <td>1.2492917847025495</td></tr>\n",
        "<tr><td>Score-Sots Diff</td> <td>0.11976047904191622</td> <td>1.1736526946107784</td></tr>\n",
        "<tr><td>Bet-Sots Diff</td> <td>1.1197604790419162</td> <td>1.1736526946107784</td></tr></table>"
       ],
       "metadata": {},
       "output_type": "display_data",
       "text": [
        "<IPython.core.display.HTML at 0x7f68277160b8>"
       ]
      },
      {
       "html": [
        "<table><tr><th></th> <th>Partick</th> <th>Aberdeen</th></tr><tr><td>Goals</td> <td>0</td> <td>2</td></tr>\n",
        "<tr><td>Bet Goals</td> <td>1</td> <td>2</td></tr>\n",
        "<tr><td>Shots</td> <td>8</td> <td>6</td></tr>\n",
        "<tr><td>SOT</td> <td>3</td> <td>4</td></tr>\n",
        "<tr><td>Shots Scoreline</td> <td>1.1104815864022664</td> <td>0.8328611898016998</td></tr>\n",
        "<tr><td>SOT Scoreline</td> <td>0.8802395209580838</td> <td>1.1736526946107784</td></tr>\n",
        "<tr><td>Score-Shots Diff</td> <td>1.1104815864022664</td> <td>1.1671388101983002</td></tr>\n",
        "<tr><td>Bet-Shots Diff</td> <td>0.11048158640226635</td> <td>1.1671388101983002</td></tr>\n",
        "<tr><td>Score-Sots Diff</td> <td>0.8802395209580838</td> <td>0.8263473053892216</td></tr>\n",
        "<tr><td>Bet-Sots Diff</td> <td>0.11976047904191622</td> <td>0.8263473053892216</td></tr></table>"
       ],
       "metadata": {},
       "output_type": "display_data",
       "text": [
        "<IPython.core.display.HTML at 0x7f68277160b8>"
       ]
      },
      {
       "html": [
        "<table><tr><th></th> <th>Ross County</th> <th>Dundee United</th></tr><tr><td>Goals</td> <td>2</td> <td>1</td></tr>\n",
        "<tr><td>Bet Goals</td> <td>1</td> <td>0</td></tr>\n",
        "<tr><td>Shots</td> <td>14</td> <td>14</td></tr>\n",
        "<tr><td>SOT</td> <td>6</td> <td>7</td></tr>\n",
        "<tr><td>Shots Scoreline</td> <td>1.9433427762039661</td> <td>1.9433427762039661</td></tr>\n",
        "<tr><td>SOT Scoreline</td> <td>1.7604790419161676</td> <td>2.053892215568862</td></tr>\n",
        "<tr><td>Score-Shots Diff</td> <td>0.056657223796033884</td> <td>0.9433427762039661</td></tr>\n",
        "<tr><td>Bet-Shots Diff</td> <td>0.9433427762039661</td> <td>1.9433427762039661</td></tr>\n",
        "<tr><td>Score-Sots Diff</td> <td>0.23952095808383245</td> <td>1.0538922155688621</td></tr>\n",
        "<tr><td>Bet-Sots Diff</td> <td>0.7604790419161676</td> <td>2.053892215568862</td></tr></table>"
       ],
       "metadata": {},
       "output_type": "display_data",
       "text": [
        "<IPython.core.display.HTML at 0x7f68277160b8>"
       ]
      },
      {
       "html": [
        "<h2>League Two:</h2>"
       ],
       "metadata": {},
       "output_type": "display_data",
       "text": [
        "<IPython.core.display.HTML at 0x7f6827716080>"
       ]
      },
      {
       "html": [
        "<table><tr><th></th> <th>AFC Wimbledon</th> <th>Exeter</th></tr><tr><td>Goals</td> <td>2</td> <td>1</td></tr>\n",
        "<tr><td>Bet Goals</td> <td>2</td> <td>1</td></tr>\n",
        "<tr><td>Shots</td> <td>14</td> <td>6</td></tr>\n",
        "<tr><td>SOT</td> <td>3</td> <td>1</td></tr>\n",
        "<tr><td>Shots Scoreline</td> <td>1.7604790419161676</td> <td>0.7544910179640718</td></tr>\n",
        "<tr><td>SOT Scoreline</td> <td>0.9450000000000001</td> <td>0.315</td></tr>\n",
        "<tr><td>Score-Shots Diff</td> <td>0.23952095808383245</td> <td>0.2455089820359282</td></tr>\n",
        "<tr><td>Bet-Shots Diff</td> <td>0.23952095808383245</td> <td>0.2455089820359282</td></tr>\n",
        "<tr><td>Score-Sots Diff</td> <td>1.055</td> <td>0.685</td></tr>\n",
        "<tr><td>Bet-Sots Diff</td> <td>1.055</td> <td>0.685</td></tr></table>"
       ],
       "metadata": {},
       "output_type": "display_data",
       "text": [
        "<IPython.core.display.HTML at 0x7f68277160b8>"
       ]
      },
      {
       "html": [
        "<table><tr><th></th> <th>Accrington</th> <th>Northampton</th></tr><tr><td>Goals</td> <td>1</td> <td>1</td></tr>\n",
        "<tr><td>Bet Goals</td> <td>1</td> <td>2</td></tr>\n",
        "<tr><td>Shots</td> <td>10</td> <td>5</td></tr>\n",
        "<tr><td>SOT</td> <td>4</td> <td>3</td></tr>\n",
        "<tr><td>Shots Scoreline</td> <td>1.2574850299401197</td> <td>0.6287425149700598</td></tr>\n",
        "<tr><td>SOT Scoreline</td> <td>1.26</td> <td>0.9450000000000001</td></tr>\n",
        "<tr><td>Score-Shots Diff</td> <td>0.2574850299401197</td> <td>0.37125748502994016</td></tr>\n",
        "<tr><td>Bet-Shots Diff</td> <td>0.2574850299401197</td> <td>1.3712574850299402</td></tr>\n",
        "<tr><td>Score-Sots Diff</td> <td>0.26</td> <td>0.05499999999999994</td></tr>\n",
        "<tr><td>Bet-Sots Diff</td> <td>0.26</td> <td>1.055</td></tr></table>"
       ],
       "metadata": {},
       "output_type": "display_data",
       "text": [
        "<IPython.core.display.HTML at 0x7f6827716198>"
       ]
      },
      {
       "html": [
        "<table><tr><th></th> <th>Barnet</th> <th>Cambridge</th></tr><tr><td>Goals</td> <td>0</td> <td>0</td></tr>\n",
        "<tr><td>Bet Goals</td> <td>1</td> <td>1</td></tr>\n",
        "<tr><td>Shots</td> <td>6</td> <td>6</td></tr>\n",
        "<tr><td>SOT</td> <td>1</td> <td>4</td></tr>\n",
        "<tr><td>Shots Scoreline</td> <td>0.7544910179640718</td> <td>0.7544910179640718</td></tr>\n",
        "<tr><td>SOT Scoreline</td> <td>0.315</td> <td>1.26</td></tr>\n",
        "<tr><td>Score-Shots Diff</td> <td>0.7544910179640718</td> <td>0.7544910179640718</td></tr>\n",
        "<tr><td>Bet-Shots Diff</td> <td>0.2455089820359282</td> <td>0.2455089820359282</td></tr>\n",
        "<tr><td>Score-Sots Diff</td> <td>0.315</td> <td>1.26</td></tr>\n",
        "<tr><td>Bet-Sots Diff</td> <td>0.685</td> <td>0.26</td></tr></table>"
       ],
       "metadata": {},
       "output_type": "display_data",
       "text": [
        "<IPython.core.display.HTML at 0x7f6827716198>"
       ]
      },
      {
       "html": [
        "<table><tr><th></th> <th>Dag and Red</th> <th>Stevenage</th></tr><tr><td>Goals</td> <td>1</td> <td>1</td></tr>\n",
        "<tr><td>Bet Goals</td> <td>2</td> <td>1</td></tr>\n",
        "<tr><td>Shots</td> <td>11</td> <td>7</td></tr>\n",
        "<tr><td>SOT</td> <td>4</td> <td>5</td></tr>\n",
        "<tr><td>Shots Scoreline</td> <td>1.3832335329341316</td> <td>0.8802395209580838</td></tr>\n",
        "<tr><td>SOT Scoreline</td> <td>1.26</td> <td>1.5750000000000002</td></tr>\n",
        "<tr><td>Score-Shots Diff</td> <td>0.38323353293413165</td> <td>0.11976047904191622</td></tr>\n",
        "<tr><td>Bet-Shots Diff</td> <td>0.6167664670658684</td> <td>0.11976047904191622</td></tr>\n",
        "<tr><td>Score-Sots Diff</td> <td>0.26</td> <td>0.5750000000000002</td></tr>\n",
        "<tr><td>Bet-Sots Diff</td> <td>0.74</td> <td>0.5750000000000002</td></tr></table>"
       ],
       "metadata": {},
       "output_type": "display_data",
       "text": [
        "<IPython.core.display.HTML at 0x7f68277160b8>"
       ]
      },
      {
       "html": [
        "<table><tr><th></th> <th>Crawley Town</th> <th>Wycombe</th></tr><tr><td>Goals</td> <td>0</td> <td>0</td></tr>\n",
        "<tr><td>Bet Goals</td> <td>0</td> <td>1</td></tr>\n",
        "<tr><td>Shots</td> <td>17</td> <td>15</td></tr>\n",
        "<tr><td>SOT</td> <td>6</td> <td>5</td></tr>\n",
        "<tr><td>Shots Scoreline</td> <td>2.1377245508982035</td> <td>1.8862275449101795</td></tr>\n",
        "<tr><td>SOT Scoreline</td> <td>1.8900000000000001</td> <td>1.5750000000000002</td></tr>\n",
        "<tr><td>Score-Shots Diff</td> <td>2.1377245508982035</td> <td>1.8862275449101795</td></tr>\n",
        "<tr><td>Bet-Shots Diff</td> <td>2.1377245508982035</td> <td>0.8862275449101795</td></tr>\n",
        "<tr><td>Score-Sots Diff</td> <td>1.8900000000000001</td> <td>1.5750000000000002</td></tr>\n",
        "<tr><td>Bet-Sots Diff</td> <td>1.8900000000000001</td> <td>0.5750000000000002</td></tr></table>"
       ],
       "metadata": {},
       "output_type": "display_data",
       "text": [
        "<IPython.core.display.HTML at 0x7f68277160b8>"
       ]
      },
      {
       "html": [
        "<table><tr><th></th> <th>Hartlepool</th> <th>Carlisle</th></tr><tr><td>Goals</td> <td>2</td> <td>3</td></tr>\n",
        "<tr><td>Bet Goals</td> <td>1</td> <td>1</td></tr>\n",
        "<tr><td>Shots</td> <td>12</td> <td>15</td></tr>\n",
        "<tr><td>SOT</td> <td>5</td> <td>6</td></tr>\n",
        "<tr><td>Shots Scoreline</td> <td>1.5089820359281436</td> <td>1.8862275449101795</td></tr>\n",
        "<tr><td>SOT Scoreline</td> <td>1.5750000000000002</td> <td>1.8900000000000001</td></tr>\n",
        "<tr><td>Score-Shots Diff</td> <td>0.4910179640718564</td> <td>1.1137724550898205</td></tr>\n",
        "<tr><td>Bet-Shots Diff</td> <td>0.5089820359281436</td> <td>0.8862275449101795</td></tr>\n",
        "<tr><td>Score-Sots Diff</td> <td>0.4249999999999998</td> <td>1.1099999999999999</td></tr>\n",
        "<tr><td>Bet-Sots Diff</td> <td>0.5750000000000002</td> <td>0.8900000000000001</td></tr></table>"
       ],
       "metadata": {},
       "output_type": "display_data",
       "text": [
        "<IPython.core.display.HTML at 0x7f6827716198>"
       ]
      },
      {
       "html": [
        "<table><tr><th></th> <th>Leyton Orient</th> <th>Bristol Rvs</th></tr><tr><td>Goals</td> <td>2</td> <td>0</td></tr>\n",
        "<tr><td>Bet Goals</td> <td>1</td> <td>2</td></tr>\n",
        "<tr><td>Shots</td> <td>12</td> <td>9</td></tr>\n",
        "<tr><td>SOT</td> <td>8</td> <td>5</td></tr>\n",
        "<tr><td>Shots Scoreline</td> <td>1.5089820359281436</td> <td>1.1317365269461077</td></tr>\n",
        "<tr><td>SOT Scoreline</td> <td>2.52</td> <td>1.5750000000000002</td></tr>\n",
        "<tr><td>Score-Shots Diff</td> <td>0.4910179640718564</td> <td>1.1317365269461077</td></tr>\n",
        "<tr><td>Bet-Shots Diff</td> <td>0.5089820359281436</td> <td>0.8682634730538923</td></tr>\n",
        "<tr><td>Score-Sots Diff</td> <td>0.52</td> <td>1.5750000000000002</td></tr>\n",
        "<tr><td>Bet-Sots Diff</td> <td>1.52</td> <td>0.4249999999999998</td></tr></table>"
       ],
       "metadata": {},
       "output_type": "display_data",
       "text": [
        "<IPython.core.display.HTML at 0x7f6827716160>"
       ]
      },
      {
       "html": [
        "<table><tr><th></th> <th>Luton</th> <th>Portsmouth</th></tr><tr><td>Goals</td> <td>1</td> <td>2</td></tr>\n",
        "<tr><td>Bet Goals</td> <td>0</td> <td>2</td></tr>\n",
        "<tr><td>Shots</td> <td>7</td> <td>10</td></tr>\n",
        "<tr><td>SOT</td> <td>1</td> <td>5</td></tr>\n",
        "<tr><td>Shots Scoreline</td> <td>0.8802395209580838</td> <td>1.2574850299401197</td></tr>\n",
        "<tr><td>SOT Scoreline</td> <td>0.315</td> <td>1.5750000000000002</td></tr>\n",
        "<tr><td>Score-Shots Diff</td> <td>0.11976047904191622</td> <td>0.7425149700598803</td></tr>\n",
        "<tr><td>Bet-Shots Diff</td> <td>0.8802395209580838</td> <td>0.7425149700598803</td></tr>\n",
        "<tr><td>Score-Sots Diff</td> <td>0.685</td> <td>0.4249999999999998</td></tr>\n",
        "<tr><td>Bet-Sots Diff</td> <td>0.315</td> <td>0.4249999999999998</td></tr></table>"
       ],
       "metadata": {},
       "output_type": "display_data",
       "text": [
        "<IPython.core.display.HTML at 0x7f6827716160>"
       ]
      },
      {
       "html": [
        "<table><tr><th></th> <th>Morecambe</th> <th>Notts County</th></tr><tr><td>Goals</td> <td>4</td> <td>1</td></tr>\n",
        "<tr><td>Bet Goals</td> <td>2</td> <td>1</td></tr>\n",
        "<tr><td>Shots</td> <td>10</td> <td>21</td></tr>\n",
        "<tr><td>SOT</td> <td>5</td> <td>7</td></tr>\n",
        "<tr><td>Shots Scoreline</td> <td>1.2574850299401197</td> <td>2.6407185628742513</td></tr>\n",
        "<tr><td>SOT Scoreline</td> <td>1.5750000000000002</td> <td>2.205</td></tr>\n",
        "<tr><td>Score-Shots Diff</td> <td>2.7425149700598803</td> <td>1.6407185628742513</td></tr>\n",
        "<tr><td>Bet-Shots Diff</td> <td>0.7425149700598803</td> <td>1.6407185628742513</td></tr>\n",
        "<tr><td>Score-Sots Diff</td> <td>2.425</td> <td>1.205</td></tr>\n",
        "<tr><td>Bet-Sots Diff</td> <td>0.4249999999999998</td> <td>1.205</td></tr></table>"
       ],
       "metadata": {},
       "output_type": "display_data",
       "text": [
        "<IPython.core.display.HTML at 0x7f68277160b8>"
       ]
      },
      {
       "html": [
        "<table><tr><th></th> <th>Oxford</th> <th>Yeovil</th></tr><tr><td>Goals</td> <td>2</td> <td>0</td></tr>\n",
        "<tr><td>Bet Goals</td> <td>2</td> <td>0</td></tr>\n",
        "<tr><td>Shots</td> <td>15</td> <td>3</td></tr>\n",
        "<tr><td>SOT</td> <td>8</td> <td>1</td></tr>\n",
        "<tr><td>Shots Scoreline</td> <td>1.8862275449101795</td> <td>0.3772455089820359</td></tr>\n",
        "<tr><td>SOT Scoreline</td> <td>2.52</td> <td>0.315</td></tr>\n",
        "<tr><td>Score-Shots Diff</td> <td>0.11377245508982048</td> <td>0.3772455089820359</td></tr>\n",
        "<tr><td>Bet-Shots Diff</td> <td>0.11377245508982048</td> <td>0.3772455089820359</td></tr>\n",
        "<tr><td>Score-Sots Diff</td> <td>0.52</td> <td>0.315</td></tr>\n",
        "<tr><td>Bet-Sots Diff</td> <td>0.52</td> <td>0.315</td></tr></table>"
       ],
       "metadata": {},
       "output_type": "display_data",
       "text": [
        "<IPython.core.display.HTML at 0x7f68277160b8>"
       ]
      },
      {
       "html": [
        "<table><tr><th></th> <th>Plymouth</th> <th>Newport County</th></tr><tr><td>Goals</td> <td>1</td> <td>0</td></tr>\n",
        "<tr><td>Bet Goals</td> <td>2</td> <td>1</td></tr>\n",
        "<tr><td>Shots</td> <td>20</td> <td>11</td></tr>\n",
        "<tr><td>SOT</td> <td>9</td> <td>7</td></tr>\n",
        "<tr><td>Shots Scoreline</td> <td>2.5149700598802394</td> <td>1.3832335329341316</td></tr>\n",
        "<tr><td>SOT Scoreline</td> <td>2.835</td> <td>2.205</td></tr>\n",
        "<tr><td>Score-Shots Diff</td> <td>1.5149700598802394</td> <td>1.3832335329341316</td></tr>\n",
        "<tr><td>Bet-Shots Diff</td> <td>0.5149700598802394</td> <td>0.38323353293413165</td></tr>\n",
        "<tr><td>Score-Sots Diff</td> <td>1.835</td> <td>2.205</td></tr>\n",
        "<tr><td>Bet-Sots Diff</td> <td>0.835</td> <td>1.205</td></tr></table>"
       ],
       "metadata": {},
       "output_type": "display_data",
       "text": [
        "<IPython.core.display.HTML at 0x7f6827716160>"
       ]
      },
      {
       "html": [
        "<table><tr><th></th> <th>York</th> <th>Mansfield</th></tr><tr><td>Goals</td> <td>1</td> <td>2</td></tr>\n",
        "<tr><td>Bet Goals</td> <td>1</td> <td>1</td></tr>\n",
        "<tr><td>Shots</td> <td>11</td> <td>6</td></tr>\n",
        "<tr><td>SOT</td> <td>1</td> <td>3</td></tr>\n",
        "<tr><td>Shots Scoreline</td> <td>1.3832335329341316</td> <td>0.7544910179640718</td></tr>\n",
        "<tr><td>SOT Scoreline</td> <td>0.315</td> <td>0.9450000000000001</td></tr>\n",
        "<tr><td>Score-Shots Diff</td> <td>0.38323353293413165</td> <td>1.2455089820359282</td></tr>\n",
        "<tr><td>Bet-Shots Diff</td> <td>0.38323353293413165</td> <td>0.2455089820359282</td></tr>\n",
        "<tr><td>Score-Sots Diff</td> <td>0.685</td> <td>1.055</td></tr>\n",
        "<tr><td>Bet-Sots Diff</td> <td>0.685</td> <td>0.05499999999999994</td></tr></table>"
       ],
       "metadata": {},
       "output_type": "display_data",
       "text": [
        "<IPython.core.display.HTML at 0x7f6827716160>"
       ]
      },
      {
       "html": [
        "<h2>League One:</h2>"
       ],
       "metadata": {},
       "output_type": "display_data",
       "text": [
        "<IPython.core.display.HTML at 0x7f6827716080>"
       ]
      },
      {
       "html": [
        "<table><tr><th></th> <th>Blackpool</th> <th>Walsall</th></tr><tr><td>Goals</td> <td>0</td> <td>4</td></tr>\n",
        "<tr><td>Bet Goals</td> <td>1</td> <td>3</td></tr>\n",
        "<tr><td>Shots</td> <td>14</td> <td>19</td></tr>\n",
        "<tr><td>SOT</td> <td>4</td> <td>10</td></tr>\n",
        "<tr><td>Shots Scoreline</td> <td>1.616083009079118</td> <td>2.1932555123216604</td></tr>\n",
        "<tr><td>SOT Scoreline</td> <td>1.1483870967741936</td> <td>2.870967741935484</td></tr>\n",
        "<tr><td>Score-Shots Diff</td> <td>1.616083009079118</td> <td>1.8067444876783396</td></tr>\n",
        "<tr><td>Bet-Shots Diff</td> <td>0.6160830090791181</td> <td>0.8067444876783396</td></tr>\n",
        "<tr><td>Score-Sots Diff</td> <td>1.1483870967741936</td> <td>1.129032258064516</td></tr>\n",
        "<tr><td>Bet-Sots Diff</td> <td>0.1483870967741936</td> <td>0.12903225806451601</td></tr></table>"
       ],
       "metadata": {},
       "output_type": "display_data",
       "text": [
        "<IPython.core.display.HTML at 0x7f6827716128>"
       ]
      },
      {
       "html": [
        "<table><tr><th></th> <th>Bradford</th> <th>Port Vale</th></tr><tr><td>Goals</td> <td>1</td> <td>0</td></tr>\n",
        "<tr><td>Bet Goals</td> <td>0</td> <td>1</td></tr>\n",
        "<tr><td>Shots</td> <td>7</td> <td>8</td></tr>\n",
        "<tr><td>SOT</td> <td>4</td> <td>3</td></tr>\n",
        "<tr><td>Shots Scoreline</td> <td>0.808041504539559</td> <td>0.9234760051880675</td></tr>\n",
        "<tr><td>SOT Scoreline</td> <td>1.1483870967741936</td> <td>0.8612903225806452</td></tr>\n",
        "<tr><td>Score-Shots Diff</td> <td>0.19195849546044097</td> <td>0.9234760051880675</td></tr>\n",
        "<tr><td>Bet-Shots Diff</td> <td>0.808041504539559</td> <td>0.0765239948119325</td></tr>\n",
        "<tr><td>Score-Sots Diff</td> <td>0.1483870967741936</td> <td>0.8612903225806452</td></tr>\n",
        "<tr><td>Bet-Sots Diff</td> <td>1.1483870967741936</td> <td>0.1387096774193548</td></tr></table>"
       ],
       "metadata": {},
       "output_type": "display_data",
       "text": [
        "<IPython.core.display.HTML at 0x7f6827716160>"
       ]
      },
      {
       "html": [
        "<table><tr><th></th> <th>Bury</th> <th>Oldham</th></tr><tr><td>Goals</td> <td>1</td> <td>1</td></tr>\n",
        "<tr><td>Bet Goals</td> <td>2</td> <td>0</td></tr>\n",
        "<tr><td>Shots</td> <td>10</td> <td>7</td></tr>\n",
        "<tr><td>SOT</td> <td>3</td> <td>3</td></tr>\n",
        "<tr><td>Shots Scoreline</td> <td>1.1543450064850844</td> <td>0.808041504539559</td></tr>\n",
        "<tr><td>SOT Scoreline</td> <td>0.8612903225806452</td> <td>0.8612903225806452</td></tr>\n",
        "<tr><td>Score-Shots Diff</td> <td>0.15434500648508442</td> <td>0.19195849546044097</td></tr>\n",
        "<tr><td>Bet-Shots Diff</td> <td>0.8456549935149156</td> <td>0.808041504539559</td></tr>\n",
        "<tr><td>Score-Sots Diff</td> <td>0.1387096774193548</td> <td>0.1387096774193548</td></tr>\n",
        "<tr><td>Bet-Sots Diff</td> <td>1.1387096774193548</td> <td>0.8612903225806452</td></tr></table>"
       ],
       "metadata": {},
       "output_type": "display_data",
       "text": [
        "<IPython.core.display.HTML at 0x7f6827716128>"
       ]
      },
      {
       "html": [
        "<table><tr><th></th> <th>Colchester</th> <th>Scunthorpe</th></tr><tr><td>Goals</td> <td>2</td> <td>2</td></tr>\n",
        "<tr><td>Bet Goals</td> <td>2</td> <td>0</td></tr>\n",
        "<tr><td>Shots</td> <td>10</td> <td>7</td></tr>\n",
        "<tr><td>SOT</td> <td>6</td> <td>3</td></tr>\n",
        "<tr><td>Shots Scoreline</td> <td>1.1543450064850844</td> <td>0.808041504539559</td></tr>\n",
        "<tr><td>SOT Scoreline</td> <td>1.7225806451612904</td> <td>0.8612903225806452</td></tr>\n",
        "<tr><td>Score-Shots Diff</td> <td>0.8456549935149156</td> <td>1.191958495460441</td></tr>\n",
        "<tr><td>Bet-Shots Diff</td> <td>0.8456549935149156</td> <td>0.808041504539559</td></tr>\n",
        "<tr><td>Score-Sots Diff</td> <td>0.2774193548387096</td> <td>1.1387096774193548</td></tr>\n",
        "<tr><td>Bet-Sots Diff</td> <td>0.2774193548387096</td> <td>0.8612903225806452</td></tr></table>"
       ],
       "metadata": {},
       "output_type": "display_data",
       "text": [
        "<IPython.core.display.HTML at 0x7f68277160f0>"
       ]
      },
      {
       "html": [
        "<table><tr><th></th> <th>Doncaster</th> <th>Fleetwood Town</th></tr><tr><td>Goals</td> <td>2</td> <td>0</td></tr>\n",
        "<tr><td>Bet Goals</td> <td>1</td> <td>2</td></tr>\n",
        "<tr><td>Shots</td> <td>9</td> <td>13</td></tr>\n",
        "<tr><td>SOT</td> <td>7</td> <td>1</td></tr>\n",
        "<tr><td>Shots Scoreline</td> <td>1.038910505836576</td> <td>1.5006485084306096</td></tr>\n",
        "<tr><td>SOT Scoreline</td> <td>2.009677419354839</td> <td>0.2870967741935484</td></tr>\n",
        "<tr><td>Score-Shots Diff</td> <td>0.961089494163424</td> <td>1.5006485084306096</td></tr>\n",
        "<tr><td>Bet-Shots Diff</td> <td>0.03891050583657596</td> <td>0.4993514915693904</td></tr>\n",
        "<tr><td>Score-Sots Diff</td> <td>0.00967741935483879</td> <td>0.2870967741935484</td></tr>\n",
        "<tr><td>Bet-Sots Diff</td> <td>1.0096774193548388</td> <td>1.7129032258064516</td></tr></table>"
       ],
       "metadata": {},
       "output_type": "display_data",
       "text": [
        "<IPython.core.display.HTML at 0x7f6827716198>"
       ]
      },
      {
       "html": [
        "<table><tr><th></th> <th>Millwall</th> <th>Chesterfield</th></tr><tr><td>Goals</td> <td>0</td> <td>2</td></tr>\n",
        "<tr><td>Bet Goals</td> <td>1</td> <td>2</td></tr>\n",
        "<tr><td>Shots</td> <td>4</td> <td>9</td></tr>\n",
        "<tr><td>SOT</td> <td>2</td> <td>5</td></tr>\n",
        "<tr><td>Shots Scoreline</td> <td>0.46173800259403375</td> <td>1.038910505836576</td></tr>\n",
        "<tr><td>SOT Scoreline</td> <td>0.5741935483870968</td> <td>1.435483870967742</td></tr>\n",
        "<tr><td>Score-Shots Diff</td> <td>0.46173800259403375</td> <td>0.961089494163424</td></tr>\n",
        "<tr><td>Bet-Shots Diff</td> <td>0.5382619974059663</td> <td>0.961089494163424</td></tr>\n",
        "<tr><td>Score-Sots Diff</td> <td>0.5741935483870968</td> <td>0.564516129032258</td></tr>\n",
        "<tr><td>Bet-Sots Diff</td> <td>0.4258064516129032</td> <td>0.564516129032258</td></tr></table>"
       ],
       "metadata": {},
       "output_type": "display_data",
       "text": [
        "<IPython.core.display.HTML at 0x7f68277160f0>"
       ]
      },
      {
       "html": [
        "<table><tr><th></th> <th>Peterboro</th> <th>Gillingham</th></tr><tr><td>Goals</td> <td>1</td> <td>1</td></tr>\n",
        "<tr><td>Bet Goals</td> <td>1</td> <td>1</td></tr>\n",
        "<tr><td>Shots</td> <td>20</td> <td>15</td></tr>\n",
        "<tr><td>SOT</td> <td>11</td> <td>4</td></tr>\n",
        "<tr><td>Shots Scoreline</td> <td>2.308690012970169</td> <td>1.7315175097276265</td></tr>\n",
        "<tr><td>SOT Scoreline</td> <td>3.1580645161290324</td> <td>1.1483870967741936</td></tr>\n",
        "<tr><td>Score-Shots Diff</td> <td>1.3086900129701688</td> <td>0.7315175097276265</td></tr>\n",
        "<tr><td>Bet-Shots Diff</td> <td>1.3086900129701688</td> <td>0.7315175097276265</td></tr>\n",
        "<tr><td>Score-Sots Diff</td> <td>2.1580645161290324</td> <td>0.1483870967741936</td></tr>\n",
        "<tr><td>Bet-Sots Diff</td> <td>2.1580645161290324</td> <td>0.1483870967741936</td></tr></table>"
       ],
       "metadata": {},
       "output_type": "display_data",
       "text": [
        "<IPython.core.display.HTML at 0x7f6827716198>"
       ]
      },
      {
       "html": [
        "<table><tr><th></th> <th>Rochdale</th> <th>Barnsley</th></tr><tr><td>Goals</td> <td>3</td> <td>0</td></tr>\n",
        "<tr><td>Bet Goals</td> <td>2</td> <td>0</td></tr>\n",
        "<tr><td>Shots</td> <td>12</td> <td>5</td></tr>\n",
        "<tr><td>SOT</td> <td>7</td> <td>1</td></tr>\n",
        "<tr><td>Shots Scoreline</td> <td>1.3852140077821011</td> <td>0.5771725032425422</td></tr>\n",
        "<tr><td>SOT Scoreline</td> <td>2.009677419354839</td> <td>0.2870967741935484</td></tr>\n",
        "<tr><td>Score-Shots Diff</td> <td>1.6147859922178989</td> <td>0.5771725032425422</td></tr>\n",
        "<tr><td>Bet-Shots Diff</td> <td>0.6147859922178989</td> <td>0.5771725032425422</td></tr>\n",
        "<tr><td>Score-Sots Diff</td> <td>0.9903225806451612</td> <td>0.2870967741935484</td></tr>\n",
        "<tr><td>Bet-Sots Diff</td> <td>0.00967741935483879</td> <td>0.2870967741935484</td></tr></table>"
       ],
       "metadata": {},
       "output_type": "display_data",
       "text": [
        "<IPython.core.display.HTML at 0x7f6827716198>"
       ]
      },
      {
       "html": [
        "<table><tr><th></th> <th>Shrewsbury</th> <th>Burton</th></tr><tr><td>Goals</td> <td>0</td> <td>1</td></tr>\n",
        "<tr><td>Bet Goals</td> <td>1</td> <td>2</td></tr>\n",
        "<tr><td>Shots</td> <td>14</td> <td>5</td></tr>\n",
        "<tr><td>SOT</td> <td>1</td> <td>3</td></tr>\n",
        "<tr><td>Shots Scoreline</td> <td>1.616083009079118</td> <td>0.5771725032425422</td></tr>\n",
        "<tr><td>SOT Scoreline</td> <td>0.2870967741935484</td> <td>0.8612903225806452</td></tr>\n",
        "<tr><td>Score-Shots Diff</td> <td>1.616083009079118</td> <td>0.4228274967574578</td></tr>\n",
        "<tr><td>Bet-Shots Diff</td> <td>0.6160830090791181</td> <td>1.4228274967574577</td></tr>\n",
        "<tr><td>Score-Sots Diff</td> <td>0.2870967741935484</td> <td>0.1387096774193548</td></tr>\n",
        "<tr><td>Bet-Sots Diff</td> <td>0.7129032258064516</td> <td>1.1387096774193548</td></tr></table>"
       ],
       "metadata": {},
       "output_type": "display_data",
       "text": [
        "<IPython.core.display.HTML at 0x7f6827716198>"
       ]
      },
      {
       "html": [
        "<table><tr><th></th> <th>Swindon</th> <th>Sheffield United</th></tr><tr><td>Goals</td> <td>0</td> <td>2</td></tr>\n",
        "<tr><td>Bet Goals</td> <td>2</td> <td>0</td></tr>\n",
        "<tr><td>Shots</td> <td>10</td> <td>9</td></tr>\n",
        "<tr><td>SOT</td> <td>1</td> <td>6</td></tr>\n",
        "<tr><td>Shots Scoreline</td> <td>1.1543450064850844</td> <td>1.038910505836576</td></tr>\n",
        "<tr><td>SOT Scoreline</td> <td>0.2870967741935484</td> <td>1.7225806451612904</td></tr>\n",
        "<tr><td>Score-Shots Diff</td> <td>1.1543450064850844</td> <td>0.961089494163424</td></tr>\n",
        "<tr><td>Bet-Shots Diff</td> <td>0.8456549935149156</td> <td>1.038910505836576</td></tr>\n",
        "<tr><td>Score-Sots Diff</td> <td>0.2870967741935484</td> <td>0.2774193548387096</td></tr>\n",
        "<tr><td>Bet-Sots Diff</td> <td>1.7129032258064516</td> <td>1.7225806451612904</td></tr></table>"
       ],
       "metadata": {},
       "output_type": "display_data",
       "text": [
        "<IPython.core.display.HTML at 0x7f68277160f0>"
       ]
      },
      {
       "html": [
        "<table><tr><th></th> <th>Wigan</th> <th>Crewe</th></tr><tr><td>Goals</td> <td>1</td> <td>0</td></tr>\n",
        "<tr><td>Bet Goals</td> <td>1</td> <td>0</td></tr>\n",
        "<tr><td>Shots</td> <td>15</td> <td>9</td></tr>\n",
        "<tr><td>SOT</td> <td>9</td> <td>2</td></tr>\n",
        "<tr><td>Shots Scoreline</td> <td>1.7315175097276265</td> <td>1.038910505836576</td></tr>\n",
        "<tr><td>SOT Scoreline</td> <td>2.5838709677419356</td> <td>0.5741935483870968</td></tr>\n",
        "<tr><td>Score-Shots Diff</td> <td>0.7315175097276265</td> <td>1.038910505836576</td></tr>\n",
        "<tr><td>Bet-Shots Diff</td> <td>0.7315175097276265</td> <td>1.038910505836576</td></tr>\n",
        "<tr><td>Score-Sots Diff</td> <td>1.5838709677419356</td> <td>0.5741935483870968</td></tr>\n",
        "<tr><td>Bet-Sots Diff</td> <td>1.5838709677419356</td> <td>0.5741935483870968</td></tr></table>"
       ],
       "metadata": {},
       "output_type": "display_data",
       "text": [
        "<IPython.core.display.HTML at 0x7f68277160f0>"
       ]
      },
      {
       "html": [
        "<table><tr><th></th> <th>Coventry</th> <th>Southend</th></tr><tr><td>Goals</td> <td>2</td> <td>2</td></tr>\n",
        "<tr><td>Bet Goals</td> <td>2</td> <td>1</td></tr>\n",
        "<tr><td>Shots</td> <td>18</td> <td>13</td></tr>\n",
        "<tr><td>SOT</td> <td>8</td> <td>6</td></tr>\n",
        "<tr><td>Shots Scoreline</td> <td>2.077821011673152</td> <td>1.5006485084306096</td></tr>\n",
        "<tr><td>SOT Scoreline</td> <td>2.296774193548387</td> <td>1.7225806451612904</td></tr>\n",
        "<tr><td>Score-Shots Diff</td> <td>0.07782101167315192</td> <td>0.4993514915693904</td></tr>\n",
        "<tr><td>Bet-Shots Diff</td> <td>0.07782101167315192</td> <td>0.5006485084306096</td></tr>\n",
        "<tr><td>Score-Sots Diff</td> <td>0.2967741935483872</td> <td>0.2774193548387096</td></tr>\n",
        "<tr><td>Bet-Sots Diff</td> <td>0.2967741935483872</td> <td>0.7225806451612904</td></tr></table>"
       ],
       "metadata": {},
       "output_type": "display_data",
       "text": [
        "<IPython.core.display.HTML at 0x7f6827716128>"
       ]
      },
      {
       "html": [
        "<h2>Championship:</h2>"
       ],
       "metadata": {},
       "output_type": "display_data",
       "text": [
        "<IPython.core.display.HTML at 0x7f6827716080>"
       ]
      },
      {
       "html": [
        "<table><tr><th></th> <th>Blackburn</th> <th>Bolton</th></tr><tr><td>Goals</td> <td>0</td> <td>0</td></tr>\n",
        "<tr><td>Bet Goals</td> <td>1</td> <td>0</td></tr>\n",
        "<tr><td>Shots</td> <td>18</td> <td>8</td></tr>\n",
        "<tr><td>SOT</td> <td>1</td> <td>1</td></tr>\n",
        "<tr><td>Shots Scoreline</td> <td>1.6863787375415284</td> <td>0.7495016611295682</td></tr>\n",
        "<tr><td>SOT Scoreline</td> <td>0.30128205128205127</td> <td>0.30128205128205127</td></tr>\n",
        "<tr><td>Score-Shots Diff</td> <td>1.6863787375415284</td> <td>0.7495016611295682</td></tr>\n",
        "<tr><td>Bet-Shots Diff</td> <td>0.6863787375415284</td> <td>0.7495016611295682</td></tr>\n",
        "<tr><td>Score-Sots Diff</td> <td>0.30128205128205127</td> <td>0.30128205128205127</td></tr>\n",
        "<tr><td>Bet-Sots Diff</td> <td>0.6987179487179487</td> <td>0.30128205128205127</td></tr></table>"
       ],
       "metadata": {},
       "output_type": "display_data",
       "text": [
        "<IPython.core.display.HTML at 0x7f68277161d0>"
       ]
      },
      {
       "html": [
        "<table><tr><th></th> <th>Derby</th> <th>Leeds</th></tr><tr><td>Goals</td> <td>1</td> <td>2</td></tr>\n",
        "<tr><td>Bet Goals</td> <td>2</td> <td>1</td></tr>\n",
        "<tr><td>Shots</td> <td>12</td> <td>13</td></tr>\n",
        "<tr><td>SOT</td> <td>3</td> <td>2</td></tr>\n",
        "<tr><td>Shots Scoreline</td> <td>1.1242524916943522</td> <td>1.2179401993355483</td></tr>\n",
        "<tr><td>SOT Scoreline</td> <td>0.9038461538461539</td> <td>0.6025641025641025</td></tr>\n",
        "<tr><td>Score-Shots Diff</td> <td>0.12425249169435215</td> <td>0.7820598006644517</td></tr>\n",
        "<tr><td>Bet-Shots Diff</td> <td>0.8757475083056478</td> <td>0.2179401993355483</td></tr>\n",
        "<tr><td>Score-Sots Diff</td> <td>0.09615384615384615</td> <td>1.3974358974358974</td></tr>\n",
        "<tr><td>Bet-Sots Diff</td> <td>1.0961538461538463</td> <td>0.39743589743589747</td></tr></table>"
       ],
       "metadata": {},
       "output_type": "display_data",
       "text": [
        "<IPython.core.display.HTML at 0x7f68277161d0>"
       ]
      },
      {
       "html": [
        "<table><tr><th></th> <th>Brentford</th> <th>Reading</th></tr><tr><td>Goals</td> <td>1</td> <td>3</td></tr>\n",
        "<tr><td>Bet Goals</td> <td>1</td> <td>2</td></tr>\n",
        "<tr><td>Shots</td> <td>9</td> <td>16</td></tr>\n",
        "<tr><td>SOT</td> <td>1</td> <td>9</td></tr>\n",
        "<tr><td>Shots Scoreline</td> <td>0.8431893687707642</td> <td>1.4990033222591364</td></tr>\n",
        "<tr><td>SOT Scoreline</td> <td>0.30128205128205127</td> <td>2.7115384615384617</td></tr>\n",
        "<tr><td>Score-Shots Diff</td> <td>0.15681063122923578</td> <td>1.5009966777408636</td></tr>\n",
        "<tr><td>Bet-Shots Diff</td> <td>0.15681063122923578</td> <td>0.5009966777408636</td></tr>\n",
        "<tr><td>Score-Sots Diff</td> <td>0.6987179487179487</td> <td>0.2884615384615383</td></tr>\n",
        "<tr><td>Bet-Sots Diff</td> <td>0.6987179487179487</td> <td>0.7115384615384617</td></tr></table>"
       ],
       "metadata": {},
       "output_type": "display_data",
       "text": [
        "<IPython.core.display.HTML at 0x7f6827716128>"
       ]
      },
      {
       "html": [
        "<table><tr><th></th> <th>Bristol City</th> <th>Burnley</th></tr><tr><td>Goals</td> <td>1</td> <td>2</td></tr>\n",
        "<tr><td>Bet Goals</td> <td>1</td> <td>0</td></tr>\n",
        "<tr><td>Shots</td> <td>15</td> <td>9</td></tr>\n",
        "<tr><td>SOT</td> <td>8</td> <td>3</td></tr>\n",
        "<tr><td>Shots Scoreline</td> <td>1.4053156146179402</td> <td>0.8431893687707642</td></tr>\n",
        "<tr><td>SOT Scoreline</td> <td>2.41025641025641</td> <td>0.9038461538461539</td></tr>\n",
        "<tr><td>Score-Shots Diff</td> <td>0.4053156146179402</td> <td>1.1568106312292357</td></tr>\n",
        "<tr><td>Bet-Shots Diff</td> <td>0.4053156146179402</td> <td>0.8431893687707642</td></tr>\n",
        "<tr><td>Score-Sots Diff</td> <td>1.4102564102564101</td> <td>1.0961538461538463</td></tr>\n",
        "<tr><td>Bet-Sots Diff</td> <td>1.4102564102564101</td> <td>0.9038461538461539</td></tr></table>"
       ],
       "metadata": {},
       "output_type": "display_data",
       "text": [
        "<IPython.core.display.HTML at 0x7f6827716160>"
       ]
      },
      {
       "html": [
        "<table><tr><th></th> <th>Huddersfield</th> <th>QPR</th></tr><tr><td>Goals</td> <td>0</td> <td>1</td></tr>\n",
        "<tr><td>Bet Goals</td> <td>1</td> <td>1</td></tr>\n",
        "<tr><td>Shots</td> <td>14</td> <td>9</td></tr>\n",
        "<tr><td>SOT</td> <td>1</td> <td>2</td></tr>\n",
        "<tr><td>Shots Scoreline</td> <td>1.3116279069767443</td> <td>0.8431893687707642</td></tr>\n",
        "<tr><td>SOT Scoreline</td> <td>0.30128205128205127</td> <td>0.6025641025641025</td></tr>\n",
        "<tr><td>Score-Shots Diff</td> <td>1.3116279069767443</td> <td>0.15681063122923578</td></tr>\n",
        "<tr><td>Bet-Shots Diff</td> <td>0.31162790697674425</td> <td>0.15681063122923578</td></tr>\n",
        "<tr><td>Score-Sots Diff</td> <td>0.30128205128205127</td> <td>0.39743589743589747</td></tr>\n",
        "<tr><td>Bet-Sots Diff</td> <td>0.6987179487179487</td> <td>0.39743589743589747</td></tr></table>"
       ],
       "metadata": {},
       "output_type": "display_data",
       "text": [
        "<IPython.core.display.HTML at 0x7f6827716198>"
       ]
      },
      {
       "html": [
        "<table><tr><th></th> <th>Hull</th> <th>Preston</th></tr><tr><td>Goals</td> <td>2</td> <td>0</td></tr>\n",
        "<tr><td>Bet Goals</td> <td>0</td> <td>1</td></tr>\n",
        "<tr><td>Shots</td> <td>15</td> <td>7</td></tr>\n",
        "<tr><td>SOT</td> <td>4</td> <td>1</td></tr>\n",
        "<tr><td>Shots Scoreline</td> <td>1.4053156146179402</td> <td>0.6558139534883721</td></tr>\n",
        "<tr><td>SOT Scoreline</td> <td>1.205128205128205</td> <td>0.30128205128205127</td></tr>\n",
        "<tr><td>Score-Shots Diff</td> <td>0.5946843853820598</td> <td>0.6558139534883721</td></tr>\n",
        "<tr><td>Bet-Shots Diff</td> <td>1.4053156146179402</td> <td>0.3441860465116279</td></tr>\n",
        "<tr><td>Score-Sots Diff</td> <td>0.7948717948717949</td> <td>0.30128205128205127</td></tr>\n",
        "<tr><td>Bet-Sots Diff</td> <td>1.205128205128205</td> <td>0.6987179487179487</td></tr></table>"
       ],
       "metadata": {},
       "output_type": "display_data",
       "text": [
        "<IPython.core.display.HTML at 0x7f6827716160>"
       ]
      },
      {
       "html": [
        "<table><tr><th></th> <th>Ipswich</th> <th>Brighton</th></tr><tr><td>Goals</td> <td>2</td> <td>3</td></tr>\n",
        "<tr><td>Bet Goals</td> <td>1</td> <td>1</td></tr>\n",
        "<tr><td>Shots</td> <td>10</td> <td>22</td></tr>\n",
        "<tr><td>SOT</td> <td>3</td> <td>6</td></tr>\n",
        "<tr><td>Shots Scoreline</td> <td>0.9368770764119602</td> <td>2.0611295681063124</td></tr>\n",
        "<tr><td>SOT Scoreline</td> <td>0.9038461538461539</td> <td>1.8076923076923077</td></tr>\n",
        "<tr><td>Score-Shots Diff</td> <td>1.0631229235880397</td> <td>0.9388704318936876</td></tr>\n",
        "<tr><td>Bet-Shots Diff</td> <td>0.06312292358803984</td> <td>1.0611295681063124</td></tr>\n",
        "<tr><td>Score-Sots Diff</td> <td>1.0961538461538463</td> <td>1.1923076923076923</td></tr>\n",
        "<tr><td>Bet-Sots Diff</td> <td>0.09615384615384615</td> <td>0.8076923076923077</td></tr></table>"
       ],
       "metadata": {},
       "output_type": "display_data",
       "text": [
        "<IPython.core.display.HTML at 0x7f6827716128>"
       ]
      },
      {
       "html": [
        "<table><tr><th></th> <th>Milton Keynes Dons</th> <th>Birmingham</th></tr><tr><td>Goals</td> <td>0</td> <td>2</td></tr>\n",
        "<tr><td>Bet Goals</td> <td>1</td> <td>1</td></tr>\n",
        "<tr><td>Shots</td> <td>10</td> <td>12</td></tr>\n",
        "<tr><td>SOT</td> <td>0</td> <td>3</td></tr>\n",
        "<tr><td>Shots Scoreline</td> <td>0.9368770764119602</td> <td>1.1242524916943522</td></tr>\n",
        "<tr><td>SOT Scoreline</td> <td>0.0</td> <td>0.9038461538461539</td></tr>\n",
        "<tr><td>Score-Shots Diff</td> <td>0.9368770764119602</td> <td>0.8757475083056478</td></tr>\n",
        "<tr><td>Bet-Shots Diff</td> <td>0.06312292358803984</td> <td>0.12425249169435215</td></tr>\n",
        "<tr><td>Score-Sots Diff</td> <td>0.0</td> <td>1.0961538461538463</td></tr>\n",
        "<tr><td>Bet-Sots Diff</td> <td>1.0</td> <td>0.09615384615384615</td></tr></table>"
       ],
       "metadata": {},
       "output_type": "display_data",
       "text": [
        "<IPython.core.display.HTML at 0x7f68277160b8>"
       ]
      },
      {
       "html": [
        "<table><tr><th></th> <th>Nott'm Forest</th> <th>Cardiff</th></tr><tr><td>Goals</td> <td>1</td> <td>2</td></tr>\n",
        "<tr><td>Bet Goals</td> <td>0</td> <td>1</td></tr>\n",
        "<tr><td>Shots</td> <td>17</td> <td>13</td></tr>\n",
        "<tr><td>SOT</td> <td>5</td> <td>5</td></tr>\n",
        "<tr><td>Shots Scoreline</td> <td>1.5926910299003323</td> <td>1.2179401993355483</td></tr>\n",
        "<tr><td>SOT Scoreline</td> <td>1.5064102564102564</td> <td>1.5064102564102564</td></tr>\n",
        "<tr><td>Score-Shots Diff</td> <td>0.5926910299003323</td> <td>0.7820598006644517</td></tr>\n",
        "<tr><td>Bet-Shots Diff</td> <td>1.5926910299003323</td> <td>0.2179401993355483</td></tr>\n",
        "<tr><td>Score-Sots Diff</td> <td>0.5064102564102564</td> <td>0.4935897435897436</td></tr>\n",
        "<tr><td>Bet-Sots Diff</td> <td>1.5064102564102564</td> <td>0.5064102564102564</td></tr></table>"
       ],
       "metadata": {},
       "output_type": "display_data",
       "text": [
        "<IPython.core.display.HTML at 0x7f6827716198>"
       ]
      },
      {
       "html": [
        "<table><tr><th></th> <th>Rotherham</th> <th>Fulham</th></tr><tr><td>Goals</td> <td>1</td> <td>3</td></tr>\n",
        "<tr><td>Bet Goals</td> <td>1</td> <td>1</td></tr>\n",
        "<tr><td>Shots</td> <td>13</td> <td>15</td></tr>\n",
        "<tr><td>SOT</td> <td>7</td> <td>6</td></tr>\n",
        "<tr><td>Shots Scoreline</td> <td>1.2179401993355483</td> <td>1.4053156146179402</td></tr>\n",
        "<tr><td>SOT Scoreline</td> <td>2.108974358974359</td> <td>1.8076923076923077</td></tr>\n",
        "<tr><td>Score-Shots Diff</td> <td>0.2179401993355483</td> <td>1.5946843853820598</td></tr>\n",
        "<tr><td>Bet-Shots Diff</td> <td>0.2179401993355483</td> <td>0.4053156146179402</td></tr>\n",
        "<tr><td>Score-Sots Diff</td> <td>1.108974358974359</td> <td>1.1923076923076923</td></tr>\n",
        "<tr><td>Bet-Sots Diff</td> <td>1.108974358974359</td> <td>0.8076923076923077</td></tr></table>"
       ],
       "metadata": {},
       "output_type": "display_data",
       "text": [
        "<IPython.core.display.HTML at 0x7f6827716128>"
       ]
      },
      {
       "html": [
        "<table><tr><th></th> <th>Sheffield Weds</th> <th>Middlesbrough</th></tr><tr><td>Goals</td> <td>1</td> <td>3</td></tr>\n",
        "<tr><td>Bet Goals</td> <td>0</td> <td>2</td></tr>\n",
        "<tr><td>Shots</td> <td>10</td> <td>13</td></tr>\n",
        "<tr><td>SOT</td> <td>4</td> <td>5</td></tr>\n",
        "<tr><td>Shots Scoreline</td> <td>0.9368770764119602</td> <td>1.2179401993355483</td></tr>\n",
        "<tr><td>SOT Scoreline</td> <td>1.205128205128205</td> <td>1.5064102564102564</td></tr>\n",
        "<tr><td>Score-Shots Diff</td> <td>0.06312292358803984</td> <td>1.7820598006644517</td></tr>\n",
        "<tr><td>Bet-Shots Diff</td> <td>0.9368770764119602</td> <td>0.7820598006644517</td></tr>\n",
        "<tr><td>Score-Sots Diff</td> <td>0.20512820512820507</td> <td>1.4935897435897436</td></tr>\n",
        "<tr><td>Bet-Sots Diff</td> <td>1.205128205128205</td> <td>0.4935897435897436</td></tr></table>"
       ],
       "metadata": {},
       "output_type": "display_data",
       "text": [
        "<IPython.core.display.HTML at 0x7f68277160b8>"
       ]
      },
      {
       "html": [
        "<table><tr><th></th> <th>Wolves</th> <th>Charlton</th></tr><tr><td>Goals</td> <td>2</td> <td>1</td></tr>\n",
        "<tr><td>Bet Goals</td> <td>1</td> <td>1</td></tr>\n",
        "<tr><td>Shots</td> <td>14</td> <td>9</td></tr>\n",
        "<tr><td>SOT</td> <td>6</td> <td>2</td></tr>\n",
        "<tr><td>Shots Scoreline</td> <td>1.3116279069767443</td> <td>0.8431893687707642</td></tr>\n",
        "<tr><td>SOT Scoreline</td> <td>1.8076923076923077</td> <td>0.6025641025641025</td></tr>\n",
        "<tr><td>Score-Shots Diff</td> <td>0.6883720930232557</td> <td>0.15681063122923578</td></tr>\n",
        "<tr><td>Bet-Shots Diff</td> <td>0.31162790697674425</td> <td>0.15681063122923578</td></tr>\n",
        "<tr><td>Score-Sots Diff</td> <td>0.1923076923076923</td> <td>0.39743589743589747</td></tr>\n",
        "<tr><td>Bet-Sots Diff</td> <td>0.8076923076923077</td> <td>0.39743589743589747</td></tr></table>"
       ],
       "metadata": {},
       "output_type": "display_data",
       "text": [
        "<IPython.core.display.HTML at 0x7f68277160b8>"
       ]
      },
      {
       "html": [
        "<h2>Premiership:</h2>"
       ],
       "metadata": {},
       "output_type": "display_data",
       "text": [
        "<IPython.core.display.HTML at 0x7f6827716080>"
       ]
      },
      {
       "html": [
        "<table><tr><th></th> <th>Newcastle</th> <th>Arsenal</th></tr><tr><td>Goals</td> <td>0</td> <td>1</td></tr>\n",
        "<tr><td>Bet Goals</td> <td>1</td> <td>3</td></tr>\n",
        "<tr><td>Shots</td> <td>1</td> <td>22</td></tr>\n",
        "<tr><td>SOT</td> <td>0</td> <td>9</td></tr>\n",
        "<tr><td>Shots Scoreline</td> <td>0.09611650485436893</td> <td>2.1145631067961164</td></tr>\n",
        "<tr><td>SOT Scoreline</td> <td>0.0</td> <td>2.5530085959885387</td></tr>\n",
        "<tr><td>Score-Shots Diff</td> <td>0.09611650485436893</td> <td>1.1145631067961164</td></tr>\n",
        "<tr><td>Bet-Shots Diff</td> <td>0.903883495145631</td> <td>0.8854368932038836</td></tr>\n",
        "<tr><td>Score-Sots Diff</td> <td>0.0</td> <td>1.5530085959885387</td></tr>\n",
        "<tr><td>Bet-Sots Diff</td> <td>1.0</td> <td>0.4469914040114613</td></tr></table>"
       ],
       "metadata": {},
       "output_type": "display_data",
       "text": [
        "<IPython.core.display.HTML at 0x7f68277160b8>"
       ]
      },
      {
       "html": [
        "<table><tr><th></th> <th>Aston Villa</th> <th>Sunderland</th></tr><tr><td>Goals</td> <td>2</td> <td>2</td></tr>\n",
        "<tr><td>Bet Goals</td> <td>1</td> <td>1</td></tr>\n",
        "<tr><td>Shots</td> <td>21</td> <td>7</td></tr>\n",
        "<tr><td>SOT</td> <td>6</td> <td>3</td></tr>\n",
        "<tr><td>Shots Scoreline</td> <td>2.0184466019417475</td> <td>0.6728155339805825</td></tr>\n",
        "<tr><td>SOT Scoreline</td> <td>1.702005730659026</td> <td>0.851002865329513</td></tr>\n",
        "<tr><td>Score-Shots Diff</td> <td>0.01844660194174752</td> <td>1.3271844660194176</td></tr>\n",
        "<tr><td>Bet-Shots Diff</td> <td>1.0184466019417475</td> <td>0.32718446601941753</td></tr>\n",
        "<tr><td>Score-Sots Diff</td> <td>0.29799426934097406</td> <td>1.148997134670487</td></tr>\n",
        "<tr><td>Bet-Sots Diff</td> <td>0.7020057306590259</td> <td>0.14899713467048703</td></tr></table>"
       ],
       "metadata": {},
       "output_type": "display_data",
       "text": [
        "<IPython.core.display.HTML at 0x7f6827716128>"
       ]
      },
      {
       "html": [
        "<table><tr><th></th> <th>Bournemouth</th> <th>Leicester</th></tr><tr><td>Goals</td> <td>1</td> <td>1</td></tr>\n",
        "<tr><td>Bet Goals</td> <td>2</td> <td>1</td></tr>\n",
        "<tr><td>Shots</td> <td>5</td> <td>4</td></tr>\n",
        "<tr><td>SOT</td> <td>2</td> <td>2</td></tr>\n",
        "<tr><td>Shots Scoreline</td> <td>0.4805825242718446</td> <td>0.3844660194174757</td></tr>\n",
        "<tr><td>SOT Scoreline</td> <td>0.5673352435530086</td> <td>0.5673352435530086</td></tr>\n",
        "<tr><td>Score-Shots Diff</td> <td>0.5194174757281553</td> <td>0.6155339805825243</td></tr>\n",
        "<tr><td>Bet-Shots Diff</td> <td>1.5194174757281553</td> <td>0.6155339805825243</td></tr>\n",
        "<tr><td>Score-Sots Diff</td> <td>0.4326647564469914</td> <td>0.4326647564469914</td></tr>\n",
        "<tr><td>Bet-Sots Diff</td> <td>1.4326647564469914</td> <td>0.4326647564469914</td></tr></table>"
       ],
       "metadata": {},
       "output_type": "display_data",
       "text": [
        "<IPython.core.display.HTML at 0x7f6827716198>"
       ]
      },
      {
       "html": [
        "<table><tr><th></th> <th>Chelsea</th> <th>Crystal Palace</th></tr><tr><td>Goals</td> <td>1</td> <td>2</td></tr>\n",
        "<tr><td>Bet Goals</td> <td>2</td> <td>1</td></tr>\n",
        "<tr><td>Shots</td> <td>26</td> <td>13</td></tr>\n",
        "<tr><td>SOT</td> <td>9</td> <td>6</td></tr>\n",
        "<tr><td>Shots Scoreline</td> <td>2.499029126213592</td> <td>1.249514563106796</td></tr>\n",
        "<tr><td>SOT Scoreline</td> <td>2.5530085959885387</td> <td>1.702005730659026</td></tr>\n",
        "<tr><td>Score-Shots Diff</td> <td>1.4990291262135922</td> <td>0.7504854368932039</td></tr>\n",
        "<tr><td>Bet-Shots Diff</td> <td>0.4990291262135922</td> <td>0.2495145631067961</td></tr>\n",
        "<tr><td>Score-Sots Diff</td> <td>1.5530085959885387</td> <td>0.29799426934097406</td></tr>\n",
        "<tr><td>Bet-Sots Diff</td> <td>0.5530085959885387</td> <td>0.7020057306590259</td></tr></table>"
       ],
       "metadata": {},
       "output_type": "display_data",
       "text": [
        "<IPython.core.display.HTML at 0x7f6827716198>"
       ]
      },
      {
       "html": [
        "<table><tr><th></th> <th>Liverpool</th> <th>West Ham</th></tr><tr><td>Goals</td> <td>0</td> <td>3</td></tr>\n",
        "<tr><td>Bet Goals</td> <td>4</td> <td>0</td></tr>\n",
        "<tr><td>Shots</td> <td>13</td> <td>12</td></tr>\n",
        "<tr><td>SOT</td> <td>1</td> <td>5</td></tr>\n",
        "<tr><td>Shots Scoreline</td> <td>1.249514563106796</td> <td>1.153398058252427</td></tr>\n",
        "<tr><td>SOT Scoreline</td> <td>0.2836676217765043</td> <td>1.4183381088825215</td></tr>\n",
        "<tr><td>Score-Shots Diff</td> <td>1.249514563106796</td> <td>1.846601941747573</td></tr>\n",
        "<tr><td>Bet-Shots Diff</td> <td>2.7504854368932037</td> <td>1.153398058252427</td></tr>\n",
        "<tr><td>Score-Sots Diff</td> <td>0.2836676217765043</td> <td>1.5816618911174785</td></tr>\n",
        "<tr><td>Bet-Sots Diff</td> <td>3.7163323782234956</td> <td>1.4183381088825215</td></tr></table>"
       ],
       "metadata": {},
       "output_type": "display_data",
       "text": [
        "<IPython.core.display.HTML at 0x7f68277160b8>"
       ]
      },
      {
       "html": [
        "<table><tr><th></th> <th>Man City</th> <th>Watford</th></tr><tr><td>Goals</td> <td>2</td> <td>0</td></tr>\n",
        "<tr><td>Bet Goals</td> <td>3</td> <td>1</td></tr>\n",
        "<tr><td>Shots</td> <td>18</td> <td>7</td></tr>\n",
        "<tr><td>SOT</td> <td>5</td> <td>0</td></tr>\n",
        "<tr><td>Shots Scoreline</td> <td>1.7300970873786405</td> <td>0.6728155339805825</td></tr>\n",
        "<tr><td>SOT Scoreline</td> <td>1.4183381088825215</td> <td>0.0</td></tr>\n",
        "<tr><td>Score-Shots Diff</td> <td>0.26990291262135946</td> <td>0.6728155339805825</td></tr>\n",
        "<tr><td>Bet-Shots Diff</td> <td>1.2699029126213595</td> <td>0.32718446601941753</td></tr>\n",
        "<tr><td>Score-Sots Diff</td> <td>0.5816618911174785</td> <td>0.0</td></tr>\n",
        "<tr><td>Bet-Sots Diff</td> <td>1.5816618911174785</td> <td>1.0</td></tr></table>"
       ],
       "metadata": {},
       "output_type": "display_data",
       "text": [
        "<IPython.core.display.HTML at 0x7f68277160b8>"
       ]
      },
      {
       "html": [
        "<table><tr><th></th> <th>Stoke</th> <th>West Brom</th></tr><tr><td>Goals</td> <td>0</td> <td>1</td></tr>\n",
        "<tr><td>Bet Goals</td> <td>2</td> <td>1</td></tr>\n",
        "<tr><td>Shots</td> <td>13</td> <td>15</td></tr>\n",
        "<tr><td>SOT</td> <td>5</td> <td>5</td></tr>\n",
        "<tr><td>Shots Scoreline</td> <td>1.249514563106796</td> <td>1.4417475728155338</td></tr>\n",
        "<tr><td>SOT Scoreline</td> <td>1.4183381088825215</td> <td>1.4183381088825215</td></tr>\n",
        "<tr><td>Score-Shots Diff</td> <td>1.249514563106796</td> <td>0.4417475728155338</td></tr>\n",
        "<tr><td>Bet-Shots Diff</td> <td>0.7504854368932039</td> <td>0.4417475728155338</td></tr>\n",
        "<tr><td>Score-Sots Diff</td> <td>1.4183381088825215</td> <td>0.41833810888252154</td></tr>\n",
        "<tr><td>Bet-Sots Diff</td> <td>0.5816618911174785</td> <td>0.41833810888252154</td></tr></table>"
       ],
       "metadata": {},
       "output_type": "display_data",
       "text": [
        "<IPython.core.display.HTML at 0x7f6827716128>"
       ]
      },
      {
       "html": [
        "<table><tr><th></th> <th>Tottenham</th> <th>Everton</th></tr><tr><td>Goals</td> <td>0</td> <td>0</td></tr>\n",
        "<tr><td>Bet Goals</td> <td>2</td> <td>0</td></tr>\n",
        "<tr><td>Shots</td> <td>20</td> <td>8</td></tr>\n",
        "<tr><td>SOT</td> <td>6</td> <td>3</td></tr>\n",
        "<tr><td>Shots Scoreline</td> <td>1.9223300970873785</td> <td>0.7689320388349514</td></tr>\n",
        "<tr><td>SOT Scoreline</td> <td>1.702005730659026</td> <td>0.851002865329513</td></tr>\n",
        "<tr><td>Score-Shots Diff</td> <td>1.9223300970873785</td> <td>0.7689320388349514</td></tr>\n",
        "<tr><td>Bet-Shots Diff</td> <td>0.07766990291262155</td> <td>0.7689320388349514</td></tr>\n",
        "<tr><td>Score-Sots Diff</td> <td>1.702005730659026</td> <td>0.851002865329513</td></tr>\n",
        "<tr><td>Bet-Sots Diff</td> <td>0.29799426934097406</td> <td>0.851002865329513</td></tr></table>"
       ],
       "metadata": {},
       "output_type": "display_data",
       "text": [
        "<IPython.core.display.HTML at 0x7f6827716198>"
       ]
      },
      {
       "html": [
        "<table><tr><th></th> <th>Southampton</th> <th>Norwich</th></tr><tr><td>Goals</td> <td>3</td> <td>0</td></tr>\n",
        "<tr><td>Bet Goals</td> <td>1</td> <td>1</td></tr>\n",
        "<tr><td>Shots</td> <td>23</td> <td>6</td></tr>\n",
        "<tr><td>SOT</td> <td>8</td> <td>1</td></tr>\n",
        "<tr><td>Shots Scoreline</td> <td>2.210679611650485</td> <td>0.5766990291262135</td></tr>\n",
        "<tr><td>SOT Scoreline</td> <td>2.2693409742120343</td> <td>0.2836676217765043</td></tr>\n",
        "<tr><td>Score-Shots Diff</td> <td>0.7893203883495148</td> <td>0.5766990291262135</td></tr>\n",
        "<tr><td>Bet-Shots Diff</td> <td>1.2106796116504852</td> <td>0.4233009708737865</td></tr>\n",
        "<tr><td>Score-Sots Diff</td> <td>0.7306590257879657</td> <td>0.2836676217765043</td></tr>\n",
        "<tr><td>Bet-Sots Diff</td> <td>1.2693409742120343</td> <td>0.7163323782234957</td></tr></table>"
       ],
       "metadata": {},
       "output_type": "display_data",
       "text": [
        "<IPython.core.display.HTML at 0x7f68277160b8>"
       ]
      },
      {
       "html": [
        "<table><tr><th></th> <th>Swansea</th> <th>Man United</th></tr><tr><td>Goals</td> <td>2</td> <td>1</td></tr>\n",
        "<tr><td>Bet Goals</td> <td>1</td> <td>2</td></tr>\n",
        "<tr><td>Shots</td> <td>9</td> <td>11</td></tr>\n",
        "<tr><td>SOT</td> <td>4</td> <td>4</td></tr>\n",
        "<tr><td>Shots Scoreline</td> <td>0.8650485436893203</td> <td>1.0572815533980582</td></tr>\n",
        "<tr><td>SOT Scoreline</td> <td>1.1346704871060171</td> <td>1.1346704871060171</td></tr>\n",
        "<tr><td>Score-Shots Diff</td> <td>1.1349514563106797</td> <td>0.05728155339805818</td></tr>\n",
        "<tr><td>Bet-Shots Diff</td> <td>0.13495145631067973</td> <td>0.9427184466019418</td></tr>\n",
        "<tr><td>Score-Sots Diff</td> <td>0.8653295128939829</td> <td>0.13467048710601714</td></tr>\n",
        "<tr><td>Bet-Sots Diff</td> <td>0.13467048710601714</td> <td>0.8653295128939829</td></tr></table>"
       ],
       "metadata": {},
       "output_type": "display_data",
       "text": [
        "<IPython.core.display.HTML at 0x7f68277160b8>"
       ]
      }
     ],
     "prompt_number": 17
    },
    {
     "cell_type": "code",
     "collapsed": false,
     "input": [
      "def bet_result_of_bet_line(league, start_date, end_date, bet_line):\n",
      "    \"\"\" For a given bet line which correspondes to a Correct Score bet, instead\n",
      "    say what would have been the profit/loss if you had bet on simply H/D/A.\n",
      "    \"\"\"\n",
      "    bet_line = BetLine(bet_line)\n",
      "    print(bet_line.home)\n",
      "    print(bet_line.away)\n",
      "    commission = 0.95\n",
      "    match = bet_line.get_relevant_match(league, start_date, end_date)\n",
      "    if bet_line.home_score > bet_line.away_score and match.FTR == 'H':\n",
      "        return match.BbAvH * commission\n",
      "    elif bet_line.home_score == bet_line.away_score and match.FTR == 'D':\n",
      "        return match.BbAvD * commission\n",
      "    elif bet_line.home_score < bet_line.away_score and match.FTR == 'A':\n",
      "        return match.BbAvA * commission\n",
      "    else:\n",
      "        return -1.0"
     ],
     "language": "python",
     "metadata": {},
     "outputs": [],
     "prompt_number": 18
    },
    {
     "cell_type": "code",
     "collapsed": false,
     "input": [
      "leagues = {'League Two:': league_analysis.year_201516.elt_league,\n",
      "           'League One:': league_analysis.year_201516.elo_league,\n",
      "           'Championship:': league_analysis.year_201516.ech_league,\n",
      "           'Premiership:': league_analysis.year_201516.epl_league,\n",
      "           'Scottish Premiership:': league_analysis.year_201516.spl_league,}\n",
      "\n",
      "profit_loss = 0\n",
      "overall_profit_loss = 0\n",
      "for line in bets_text.split('\\n'):\n",
      "    if line == '':\n",
      "        continue\n",
      "    try:\n",
      "        current_league = leagues[line]\n",
      "        display(HTML('<h2>{0}</h2>'.format(line)))\n",
      "        overall_profit_loss += profit_loss\n",
      "        profit_loss = 0\n",
      "    except KeyError:\n",
      "        profit_loss += bet_result_of_bet_line(current_league, bets_start_date, bets_end_date, line)\n",
      "        print(\"You would have won/lost: {0}\".format(profit_loss))\n",
      "print(\"Overall you would have won/lost: {0}\".format(overall_profit_loss))"
     ],
     "language": "python",
     "metadata": {},
     "outputs": [
      {
       "html": [
        "<h2>Scottish Premiership:</h2>"
       ],
       "metadata": {},
       "output_type": "display_data",
       "text": [
        "<IPython.core.display.HTML at 0x7f6827776390>"
       ]
      },
      {
       "output_type": "stream",
       "stream": "stdout",
       "text": [
        "Celtic\n",
        "St Johnstone\n",
        "You would have won/lost: 1.1019999999999999\n",
        "Dundee\n",
        "Inverness CT\n",
        "You would have won/lost: 0.10199999999999987\n",
        "Hamilton\n",
        "Hearts\n",
        "You would have won/lost: -0.8980000000000001\n",
        "Motherwell\n",
        "Kilmarnock\n",
        "You would have won/lost: 0.8499999999999999\n",
        "Partick\n",
        "Aberdeen\n",
        "You would have won/lost: 2.465\n",
        "Ross Co\n",
        "Dundee Utd\n",
        "You would have won/lost: 4.4315\n"
       ]
      },
      {
       "html": [
        "<h2>League Two:</h2>"
       ],
       "metadata": {},
       "output_type": "display_data",
       "text": [
        "<IPython.core.display.HTML at 0x7f6827776390>"
       ]
      },
      {
       "output_type": "stream",
       "stream": "stdout",
       "text": [
        "AFC Wimbledon\n",
        "Exeter\n",
        "You would have won/lost: 2.2135\n",
        "Accrington S\n",
        "Northampton\n",
        "You would have won/lost: 1.2134999999999998\n",
        "Barnet\n",
        "Cambridge Utd\n",
        "You would have won/lost: 4.2725\n",
        "Dag and Red\n",
        "Stevenage\n",
        "You would have won/lost: 3.2725\n",
        "Crawley Town\n",
        "Wycombe\n",
        "You would have won/lost: 2.2725\n",
        "Hartlepool\n",
        "Carlisle\n",
        "You would have won/lost: 1.2725\n",
        "Leyton Orient\n",
        "Bristol Rovers\n",
        "You would have won/lost: 0.27249999999999996\n",
        "Luton\n",
        "Portsmouth\n",
        "You would have won/lost: 2.638\n",
        "Morecambe\n",
        "Notts Co\n",
        "You would have won/lost: 5.0035\n",
        "Oxford Utd\n",
        "Yeovil\n",
        "You would have won/lost: 6.457\n",
        "Plymouth\n",
        "Newport County\n",
        "You would have won/lost: 8.091\n",
        "York City\n",
        "Mansfield\n",
        "You would have won/lost: 7.090999999999999\n"
       ]
      },
      {
       "html": [
        "<h2>League One:</h2>"
       ],
       "metadata": {},
       "output_type": "display_data",
       "text": [
        "<IPython.core.display.HTML at 0x7f6827764470>"
       ]
      },
      {
       "output_type": "stream",
       "stream": "stdout",
       "text": [
        "Blackpool\n",
        "Walsall\n",
        "You would have won/lost: 1.7385\n",
        "Bradford\n",
        "Port Vale\n",
        "You would have won/lost: 0.7384999999999999\n",
        "Bury\n",
        "Oldham\n",
        "You would have won/lost: -0.26150000000000007\n",
        "Colchester\n",
        "Scunthorpe\n",
        "You would have won/lost: -1.2615\n",
        "Doncaster\n",
        "Fleetwood Town\n",
        "You would have won/lost: -2.2615\n",
        "Millwall\n",
        "Chesterfield\n",
        "You would have won/lost: 0.38900000000000023\n",
        "Peterborough\n",
        "Gillingham\n",
        "You would have won/lost: 3.4955000000000003\n",
        "Rochdale\n",
        "Barnsley\n",
        "You would have won/lost: 5.3955\n",
        "Shrewsbury\n",
        "Burton\n",
        "You would have won/lost: 8.483\n",
        "Swindon\n",
        "Sheff Utd\n",
        "You would have won/lost: 7.4830000000000005\n",
        "Wigan\n",
        "Crewe\n",
        "You would have won/lost: 8.9365\n",
        "Coventry\n",
        "Southend\n",
        "You would have won/lost: 7.9365000000000006\n"
       ]
      },
      {
       "html": [
        "<h2>Championship:</h2>"
       ],
       "metadata": {},
       "output_type": "display_data",
       "text": [
        "<IPython.core.display.HTML at 0x7f6827764470>"
       ]
      },
      {
       "output_type": "stream",
       "stream": "stdout",
       "text": [
        "Blackburn\n",
        "Bolton\n",
        "You would have won/lost: -1.0\n",
        "Derby\n",
        "Leeds\n",
        "You would have won/lost: -2.0\n",
        "Brentford\n",
        "Reading\n",
        "You would have won/lost: 1.0875\n",
        "Bristol City\n",
        "Burnley\n",
        "You would have won/lost: 0.08749999999999991\n",
        "Huddersfield\n",
        "QPR\n",
        "You would have won/lost: -0.9125000000000001\n",
        "Hull\n",
        "Preston\n",
        "You would have won/lost: -1.9125\n",
        "Ipswich\n",
        "Brighton\n",
        "You would have won/lost: -2.9125\n",
        "MK Dons\n",
        "Birmingham\n",
        "You would have won/lost: -3.9125\n",
        "Nottm Forest\n",
        "Cardiff\n",
        "You would have won/lost: -1.0245000000000002\n",
        "Rotherham\n",
        "Fulham\n",
        "You would have won/lost: -2.0245\n",
        "Sheff Wed\n",
        "Middlesbrough\n",
        "You would have won/lost: 0.017999999999999794\n",
        "Wolves\n",
        "Charlton\n",
        "You would have won/lost: -0.9820000000000002\n"
       ]
      },
      {
       "html": [
        "<h2>Premiership:</h2>"
       ],
       "metadata": {},
       "output_type": "display_data",
       "text": [
        "<IPython.core.display.HTML at 0x7f6827764470>"
       ]
      },
      {
       "output_type": "stream",
       "stream": "stdout",
       "text": [
        "Newcastle\n",
        "Arsenal\n",
        "You would have won/lost: 1.5295\n",
        "Aston Villa\n",
        "Sunderland\n",
        "You would have won/lost: 4.778499999999999\n",
        "Bournemouth\n",
        "Leicester\n",
        "You would have won/lost: 3.7784999999999993\n",
        "Chelsea\n",
        "C Palace\n",
        "You would have won/lost: 2.7784999999999993\n",
        "Liverpool\n",
        "West Ham\n",
        "You would have won/lost: 1.7784999999999993\n",
        "Man City\n",
        "Watford\n",
        "You would have won/lost: 2.908999999999999\n",
        "Stoke\n",
        "West Brom\n",
        "You would have won/lost: 1.908999999999999\n",
        "Tottenham\n",
        "Everton\n",
        "You would have won/lost: 0.9089999999999989\n",
        "Southampton\n",
        "Norwich\n",
        "You would have won/lost: -0.09100000000000108\n",
        "Swansea\n",
        "Man Utd\n",
        "You would have won/lost: -1.091000000000001\n",
        "Overall you would have won/lost: 18.477\n"
       ]
      }
     ],
     "prompt_number": 19
    },
    {
     "cell_type": "code",
     "collapsed": false,
     "input": [],
     "language": "python",
     "metadata": {},
     "outputs": [],
     "prompt_number": 19
    }
   ],
   "metadata": {}
  }
 ]
}