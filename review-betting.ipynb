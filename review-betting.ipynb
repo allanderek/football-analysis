{
 "metadata": {
  "name": "",
  "signature": "sha256:ce5580d086380e45afa29555be601a523009bea5650b21d7166cef3b6ef063e5"
 },
 "nbformat": 3,
 "nbformat_minor": 0,
 "worksheets": [
  {
   "cells": [
    {
     "cell_type": "code",
     "collapsed": false,
     "input": [
      "bets_text = \"\"\"\n",
      "# League Two:\n",
      "Bristol Rovers v Barnet: 1 - 1, 7.0\n",
      "Cambridge Utd v Crawley Town: 2 - 0, 8.2\n",
      "Carlisle v AFC Wimbledon: 1 - 2, 11.5\n",
      "Exeter v York City: 1 - 2, 12.0\n",
      "Mansfield v Oxford Utd: 1 - 2, 10.0\n",
      "Newport County v Leyton Orient: 1 - 1, 7.6\n",
      "Northampton v Plymouth: 2 - 0, 11.5\n",
      "Notts Co v Accrington S: 0 - 0, 10.5\n",
      "Portsmouth v Morecambe: 2 - 1, 8.8\n",
      "Stevenage v Hartlepool: 2 - 1, 9.4\n",
      "Wycombe v Dag and Red: 2 - 1, 10.0\n",
      "Yeovil v Luton: 1 - 0, 11.0\n",
      "\n",
      "# League One:\n",
      "Barnsley v Bradford: 0 - 0, 10.5\n",
      "Burton v Peterborough: 3 - 1, 21.0\n",
      "Chesterfield v Rochdale: 2 - 1, 9.4\n",
      "Crewe v Bury: 1 - 3, 18.0\n",
      "Fleetwood Town v Colchester: 1 - 2, 13.5\n",
      "Gillingham v Wigan: 2 - 2, 15.0\n",
      "Oldham v Shrewsbury: 0 - 0, 10.0\n",
      "Port Vale v Doncaster: 0 - 0, 10.0\n",
      "Scunthorpe v Millwall: 1 - 2, 12.0\n",
      "Sheff Utd v Blackpool: 2 - 1, 9.0\n",
      "Southend v Swindon: 1 - 2, 12.0\n",
      "Walsall v Coventry: 2 - 2, 16.0\n",
      "\n",
      "# Championship:\n",
      "Birmingham v Derby: 0 - 2, 14.5\n",
      "\n",
      "Leeds v Sheff Wed: 1 - 1, 7.2\n",
      "Bolton v Nottm Forest: 1 - 2, 11.0\n",
      "Brighton v Blackburn: 2 - 1, 10.5\n",
      "Burnley v Brentford: 1 - 2, 12.0\n",
      "Charlton v Hull: 0 - 2, 10.0\n",
      "Fulham v Huddersfield: 2 - 0, 13.6925\n",
      "Middlesbrough v Bristol City: 2 - 1, 9.8\n",
      "Preston v Ipswich: 2 - 1, 11.0\n",
      "QPR v Rotherham: 2 - 0, 9.0\n",
      "Reading v MK Dons: 2 - 1, 10.0\n",
      "Cardiff v Wolves: 1 - 1, 7.2\n",
      "\n",
      "# Premiership:\n",
      "Man Utd v Newcastle: 3 - 0, 10.5\n",
      "C Palace v Aston Villa: 2 - 0, 9.8\n",
      "Leicester v Tottenham: 1 - 1, 7.66\n",
      "Norwich v Stoke: 2 - 1, 11.5\n",
      "Sunderland v Swansea: 0 - 2, 10.5\n",
      "West Ham v Bournemouth: 1 - 2, 12.2925\n",
      "\n",
      "West Brom v Chelsea: 0 - 2, 8.0\n",
      "Everton v Man City: 0 - 2, 10.5\n",
      "Watford v Southampton: 2 - 2, 17.0\n",
      "\n",
      "\n",
      "# Scottish Premiership:\n",
      "Dundee Utd v Celtic: 1 - 3, 12.5\n",
      "Aberdeen v Dundee: 2 - 1, 9.0\n",
      "Inverness CT v Hamilton: 0 - 2, 18.0\n",
      "Hearts v Partick: 2 - 1, 9.6\n",
      "Kilmarnock v Ross Co: 1 - 3, 23.0\n",
      "St Johnstone v Motherwell: 0 - 2, 20.0\n",
      "\"\"\"\n",
      "bets_start_date = \"21/08/2015\"\n",
      "bets_end_date = \"24/08/2015\""
     ],
     "language": "python",
     "metadata": {},
     "outputs": [],
     "prompt_number": 33
    },
    {
     "cell_type": "code",
     "collapsed": false,
     "input": [
      "bets_text = \"\"\"\n",
      "# Scottish Premiership:\n",
      "Celtic v St Johnstone: 3 - 0, 8.331\n",
      "Dundee v Inverness CT: 2 - 0, 11.0725\n",
      "Hamilton v Hearts: 0 - 2, 12.18\n",
      "Motherwell v Kilmarnock: 2 - 0, 10.0\n",
      "Partick v Aberdeen: 1 - 2, 9.235999999999999\n",
      "Ross Co v Dundee Utd: 1 - 0, 9.2\n",
      "\n",
      "# League Two:\n",
      "AFC Wimbledon v Exeter: 2 - 1, 9.912\n",
      "Accrington S v Northampton: 1 - 2, 10.08\n",
      "Barnet v Cambridge Utd: 1 - 1, 6.8\n",
      "Dag and Red v Stevenage: 2 - 1, 12.5625\n",
      "Crawley Town v Wycombe: 0 - 1, 8.2\n",
      "Hartlepool v Carlisle: 1 - 1, 6.6\n",
      "Leyton Orient v Bristol Rovers: 1 - 2, 14.055\n",
      "Luton v Portsmouth: 0 - 2, 14.105\n",
      "Morecambe v Notts Co: 2 - 1, 10.08\n",
      "Oxford Utd v Yeovil: 2 - 0, 7.8\n",
      "Plymouth v Newport County: 2 - 1, 9.235999999999999\n",
      "York City v Mansfield: 1 - 1, 7.0\n",
      "\n",
      "# League One:\n",
      "Blackpool v Walsall: 1 - 3, 18.5\n",
      "Bradford v Port Vale: 0 - 1, 10.5\n",
      "Bury v Oldham: 2 - 0, 10.15\n",
      "Colchester v Scunthorpe: 2 - 0, 16.0475\n",
      "Doncaster v Fleetwood Town: 1 - 2, 13.5575\n",
      "Millwall v Chesterfield: 1 - 2, 11.135\n",
      "Peterborough v Gillingham: 1 - 1, 7.093999999999999\n",
      "Rochdale v Barnsley: 2 - 0, 10.575\n",
      "Shrewsbury v Burton: 1 - 2, 13.06\n",
      "Swindon v Sheff Utd: 2 - 0, 17.045\n",
      "Wigan v Crewe: 1 - 0, 7.29\n",
      "Coventry v Southend: 2 - 1, 10.0\n",
      "\n",
      "# Championship:\n",
      "Blackburn v Bolton: 1 - 0, 8.8\n",
      "\n",
      "Derby v Leeds: 2 - 1, 9.8\n",
      "Brentford v Reading: 1 - 2, 13.0\n",
      "Bristol City v Burnley: 1 - 0, 8.638\n",
      "Huddersfield v QPR: 1 - 1, 7.093999999999999\n",
      "Hull v Preston: 0 - 1, 11.0\n",
      "Ipswich v Brighton: 1 - 1, 6.8\n",
      "MK Dons v Birmingham: 1 - 1, 7.29\n",
      "Nottm Forest v Cardiff: 0 - 1, 10.5\n",
      "Rotherham v Fulham: 1 - 1, 7.047999999999999\n",
      "Sheff Wed v Middlesbrough: 0 - 2, 10.5\n",
      "Wolves v Charlton: 1 - 1, 7.176\n",
      "\n",
      "# Premiership:\n",
      "Newcastle v Arsenal: 1 - 3, 15.5\n",
      "Aston Villa v Sunderland: 1 - 1, 8.0\n",
      "Bournemouth v Leicester: 2 - 1, 10.0\n",
      "Chelsea v C Palace: 2 - 1, 9.8\n",
      "Liverpool v West Ham: 4 - 0, 18.0\n",
      "Man City v Watford: 3 - 1, 11.5\n",
      "Stoke v West Brom: 2 - 1, 10.0\n",
      "Tottenham v Everton: 2 - 0, 12.0\n",
      "Southampton v Norwich: 1 - 1, 7.4\n",
      "Swansea v Man Utd: 1 - 2, 10.5\n",
      "\"\"\"\n",
      "bets_start_date = \"28/08/2015\"\n",
      "bets_end_date = \"31/08/2015\""
     ],
     "language": "python",
     "metadata": {},
     "outputs": [],
     "prompt_number": 34
    },
    {
     "cell_type": "code",
     "collapsed": false,
     "input": [
      "bets_text = \"\"\"\n",
      "# Scottish Premiership:\n",
      "Inverness CT v Hearts: Hearts, 2.5\n",
      "\n",
      "Aberdeen v Celtic: Celtic, 1.95\n",
      "Dundee Utd v Kilmarnock: Dundee Utd, 1.81\n",
      "Motherwell v Ross Co: Ross Co, 2.66\n",
      "Partick v Dundee: The Draw, 3.4\n",
      "St Johnstone v Hamilton: Hamilton, 3.45\n",
      "\n",
      "# Championship:\n",
      "Reading v Ipswich: Reading, 2.3\n",
      "\n",
      "QPR v Nottm Forest: The Draw, 3.8\n",
      "Birmingham v Bristol City: The Draw, 3.5\n",
      "Bolton v Wolves: The Draw, 3.4\n",
      "Brighton v Hull: Brighton, 2.7\n",
      "Burnley v Sheff Wed: Sheff Wed, 4.3\n",
      "Cardiff v Huddersfield: The Draw, 3.5\n",
      "Charlton v Rotherham: The Draw, 3.55125\n",
      "Leeds v Brentford: The Draw, 3.5\n",
      "Middlesbrough v MK Dons: Middlesbrough, 1.6\n",
      "Preston v Derby: Preston, 2.7746000000000004\n",
      "\n",
      "Fulham v Blackburn: Blackburn, 2.96\n",
      "\n",
      "# Premiership:\n",
      "Everton v Chelsea: The Draw, 3.6\n",
      "Arsenal v Stoke: Arsenal, 1.31\n",
      "C Palace v Man City: Man City, 1.67\n",
      "Norwich v Bournemouth: The Draw, 3.5\n",
      "Watford v Swansea: The Draw, 3.4\n",
      "West Brom v Southampton: Southampton, 2.52\n",
      "Man Utd v Liverpool: Man Utd, 2.0\n",
      "\n",
      "Sunderland v Tottenham: Tottenham, 1.95\n",
      "Leicester v Aston Villa: The Draw, 3.75\n",
      "\n",
      "# League One:\n",
      "Barnsley v Swindon: The Draw, 3.6\n",
      "Burton v Rochdale: The Draw, 3.35\n",
      "Chesterfield v Colchester: Colchester, 5.2\n",
      "Crewe v Millwall: The Draw, 3.55\n",
      "Fleetwood Town v Bradford: Fleetwood Town, 3.0\n",
      "Gillingham v Blackpool: Gillingham, 1.65\n",
      "Oldham v Peterborough: Peterborough, 2.82\n",
      "Port Vale v Wigan: The Draw, 3.4\n",
      "Scunthorpe v Coventry: Coventry, 2.6\n",
      "Sheff Utd v Bury: The Draw, 3.7\n",
      "Southend v Shrewsbury: Southend, 2.2\n",
      "Walsall v Doncaster: Walsall, 1.97\n",
      "\"\"\"\n",
      "bets_start_date = \"11/09/2015\"\n",
      "bets_end_date = \"13/09/2015\""
     ],
     "language": "python",
     "metadata": {},
     "outputs": [],
     "prompt_number": 35
    },
    {
     "cell_type": "code",
     "collapsed": false,
     "input": [
      "bets_text = \"\"\"\n",
      "# Scottish Premiership:\n",
      "Aberdeen v Hamilton: The Draw, 4.846500000000001\n",
      "\n",
      "# League One:\n",
      "Port Vale v Millwall: Port Vale, 2.36\n",
      "Sheff Utd v Colchester: Colchester, 5.6\n",
      "\n",
      "# Championship:\n",
      "Birmingham v Nottm Forest: The Draw, 3.6\n",
      "Brighton v Rotherham: Brighton, 1.62\n",
      "Burnley v MK Dons: MK Dons, 5.9\n",
      "Cardiff v Hull: The Draw, 3.3\n",
      "Charlton v Huddersfield: The Draw, 3.45\n",
      "Leeds v Ipswich: The Draw, 3.4\n",
      "Middlesbrough v Brentford: Middlesbrough, 1.62\n",
      "Preston v Bristol City: Preston, 2.36\n",
      "Bolton v Sheff Wed: The Draw, 3.5\n",
      "Reading v Derby: Reading, 2.52\n",
      "\"\"\"\n",
      "bets_start_date = \"15/09/2015\"\n",
      "bets_end_date = \"15/09/2015\""
     ],
     "language": "python",
     "metadata": {},
     "outputs": [],
     "prompt_number": 36
    },
    {
     "cell_type": "code",
     "collapsed": false,
     "input": [
      "bets_text = \"\"\"\n",
      "# Scottish Premiership:\n",
      "Dundee Utd v Inverness CT: Dundee Utd, 2.4637000000000002\n",
      "Hamilton v Motherwell: Hamilton, 2.34\n",
      "Kilmarnock v St Johnstone: St Johnstone, 2.18\n",
      "Ross Co v Partick: Ross Co, 2.12\n",
      "\n",
      "Hearts v Aberdeen: The Draw, 3.4\n",
      "Celtic v Dundee: Celtic, 1.25\n",
      "\n",
      "# Championship:\n",
      "Ipswich v Birmingham: The Draw, 3.7\n",
      "\n",
      "Nottm Forest v Middlesbrough: Nottm Forest, 3.9\n",
      "Blackburn v Charlton: Blackburn, 2.0\n",
      "Brentford v Preston: The Draw, 3.4\n",
      "Bristol City v Reading: Reading, 2.9799\n",
      "Huddersfield v Bolton: Huddersfield, 2.28\n",
      "Hull v QPR: Hull, 1.96\n",
      "MK Dons v Leeds: The Draw, 3.45\n",
      "Rotherham v Cardiff: Cardiff, 2.54\n",
      "Sheff Wed v Fulham: The Draw, 3.6\n",
      "Wolves v Brighton: Brighton, 3.05\n",
      "\n",
      "# Premiership:\n",
      "Chelsea v Arsenal: The Draw, 3.55\n",
      "Aston Villa v West Brom: The Draw, 3.3\n",
      "Bournemouth v Sunderland: The Draw, 4.0\n",
      "Newcastle v Watford: Watford, 3.1\n",
      "Stoke v Leicester: Leicester, 3.15\n",
      "Swansea v Everton: The Draw, 3.45\n",
      "Man City v West Ham: Man City, 1.29\n",
      "\n",
      "Tottenham v C Palace: Tottenham, 2.04\n",
      "Liverpool v Norwich: The Draw, 4.0\n",
      "Southampton v Man Utd: Southampton, 3.25\n",
      "\"\"\"\n",
      "bets_start_date = \"18/09/2015\"\n",
      "bets_end_date = \"21/09/2015\""
     ],
     "language": "python",
     "metadata": {},
     "outputs": [],
     "prompt_number": 37
    },
    {
     "cell_type": "code",
     "collapsed": false,
     "input": [
      "bets_text = \"\"\"\n",
      "# Scottish Premiership:\n",
      "Celtic v Hearts: Celtic, 1.27\n",
      "Dundee v Ross Co: Ross Co, 2.94\n",
      "Inverness CT v Aberdeen: Aberdeen, 1.91\n",
      "Kilmarnock v Hamilton: Hamilton, 2.3225\n",
      "Motherwell v Partick: Motherwell, 2.54\n",
      "St Johnstone v Dundee Utd: Dundee Utd, 3.5\n",
      "\n",
      "# Championship:\n",
      "Fulham v QPR: The Draw, 3.5\n",
      "\n",
      "MK Dons v Derby: Derby, 2.06\n",
      "Birmingham v Rotherham: The Draw, 3.65\n",
      "Bolton v Brighton: Brighton, 2.34\n",
      "Brentford v Sheff Wed: The Draw, 3.55\n",
      "Burnley v Reading: Reading, 3.1\n",
      "Cardiff v Charlton: Cardiff, 1.9610000000000003\n",
      "Hull v Blackburn: The Draw, 3.55\n",
      "Ipswich v Bristol City: The Draw, 3.75\n",
      "Preston v Wolves: Preston, 2.44\n",
      "\n",
      "Middlesbrough v Leeds: Middlesbrough, 1.55\n",
      "\n",
      "# Premiership:\n",
      "Tottenham v Man City: Man City, 2.0\n",
      "Leicester v Arsenal: The Draw, 4.1\n",
      "Liverpool v Aston Villa: Liverpool, 1.56\n",
      "Man Utd v Sunderland: Man Utd, 1.24\n",
      "Southampton v Swansea: Southampton, 2.08\n",
      "Stoke v Bournemouth: The Draw, 3.45\n",
      "West Ham v Norwich: The Draw, 3.55\n",
      "\n",
      "Newcastle v Chelsea: Chelsea, 1.66\n",
      "Watford v C Palace: Watford, 2.6\n",
      "\n",
      "West Brom v Everton: Everton, 2.54\n",
      "\"\"\"\n",
      "bets_start_date = \"25/09/2015\"\n",
      "bets_end_date = \"28/09/2015\""
     ],
     "language": "python",
     "metadata": {},
     "outputs": [],
     "prompt_number": 38
    },
    {
     "cell_type": "code",
     "collapsed": false,
     "input": [
      "bets_text = \"\"\"\n",
      "#Championship:\n",
      "Brentford v Birmingham: The Draw, 3.65\n",
      "Fulham v Wolves: The Draw, 3.6\n",
      "\n",
      "#League One\n",
      "Blackpool v Chesterfield: Chesterfield, 2.18\n",
      "Burton v Sheff Utd: Burton, 2.66\n",
      "Colchester v Bradford: Colchester, 3.0\n",
      "Crewe v Southend: Southend, 2.18\n",
      "Doncaster v Swindon: The Draw, 3.45\n",
      "Gillingham v Fleetwood Town: The Draw, 3.7\n",
      "Peterborough v Bury: Peterborough, 2.52\n",
      "Port Vale v Oldham: Port Vale, 2.02\n",
      "Rochdale v Shrewsbury: Rochdale, 2.14\n",
      "Scunthorpe v Walsall: Walsall, 2.48\n",
      "Wigan v Millwall: The Draw, 3.45\n",
      "\"\"\"\n",
      "bets_start_date = \"29/09/2015\"\n",
      "bets_end_date = \"29/09/2015\""
     ],
     "language": "python",
     "metadata": {},
     "outputs": [],
     "prompt_number": 39
    },
    {
     "cell_type": "code",
     "collapsed": false,
     "input": [
      "bets_text = \"\"\"\n",
      "# Scottish Premiership:\n",
      "Aberdeen v St Johnstone: Aberdeen, 1.63\n",
      "Dundee v Motherwell: Dundee, 2.28\n",
      "Hearts v Kilmarnock: Hearts, 1.5247\n",
      "Partick v Dundee Utd: The Draw, 3.5275\n",
      "Ross Co v Inverness CT: Ross Co, 2.2962999999999996\n",
      "\n",
      "Hamilton v Celtic: Celtic, 1.35\n",
      "\n",
      "# Championship:\n",
      "Rotherham v Burnley: The Draw, 3.45\n",
      "\n",
      "Wolves v Huddersfield: The Draw, 3.7\n",
      "Blackburn v Ipswich: Blackburn, 2.28\n",
      "Bristol City v MK Dons: The Draw, 3.85\n",
      "Brighton v Cardiff: Brighton, 1.92\n",
      "Derby v Brentford: Derby, 1.73\n",
      "Leeds v Birmingham: The Draw, 3.55\n",
      "Nottm Forest v Hull: The Draw, 3.35\n",
      "QPR v Bolton: The Draw, 3.65\n",
      "Reading v Middlesbrough: Reading, 2.68\n",
      "Sheff Wed v Preston: The Draw, 3.5\n",
      "\n",
      "Charlton v Fulham: The Draw, 3.5\n",
      "\n",
      "# Premiership:\n",
      "C Palace v West Brom: The Draw, 3.7\n",
      "Aston Villa v Stoke: The Draw, 3.35\n",
      "Bournemouth v Watford: Watford, 3.85\n",
      "Man City v Newcastle: Man City, 1.26\n",
      "# Man City v Newcastle: Man City, 2.0639999999999996\n",
      "Norwich v Leicester: The Draw, 3.6\n",
      "Sunderland v West Ham: The Draw, 3.5\n",
      "Chelsea v Southampton: Southampton, 5.0\n",
      "\n",
      "Everton v Liverpool: Liverpool, 2.9\n",
      "Arsenal v Man Utd: The Draw, 3.8\n",
      "Swansea v Tottenham: The Draw, 3.45\n",
      "\n",
      "# League One:\n",
      "Blackpool v Swindon: The Draw, 3.55\n",
      "Burton v Southend: Burton, 2.16\n",
      "Colchester v Bury: The Draw, 3.55\n",
      "Coventry v Shrewsbury: Coventry, 2.28\n",
      "Crewe v Chesterfield: The Draw, 3.55\n",
      "Doncaster v Barnsley: Doncaster, 2.5\n",
      "Gillingham v Oldham: Gillingham, 1.95\n",
      "Peterborough v Millwall: Peterborough, 2.6\n",
      "\"\"\"\n",
      "bets_start_date = \"2/10/2015\"\n",
      "bets_end_date = \"5/10/2015\""
     ],
     "language": "python",
     "metadata": {},
     "outputs": [],
     "prompt_number": 40
    },
    {
     "cell_type": "code",
     "collapsed": false,
     "input": [
      "bets_text = \"\"\"\n",
      "# League Two:\n",
      "Barnet v Accrington S: Accrington S, 2.8\n",
      "Cambridge Utd v Portsmouth: Portsmouth, 2.28\n",
      "Carlisle v Morecambe: The Draw, 3.65\n",
      "Crawley Town v Leyton Orient: Leyton Orient, 1.72085\n",
      "Luton v York City: The Draw, 3.8\n",
      "Mansfield v Newport County: Mansfield, 1.92\n",
      "Northampton v Hartlepool: Northampton, 1.9\n",
      "Oxford Utd v AFC Wimbledon: The Draw, 3.6\n",
      "Yeovil v Dag and Red: The Draw, 3.55\n",
      "Exeter v Stevenage: Exeter, 2.02\n",
      "Notts Co v Plymouth: The Draw, 3.45\n",
      "\n",
      "# League One:\n",
      "Barnsley v Crewe: Barnsley, 1.63\n",
      "Bury v Wigan: The Draw, 3.5\n",
      "Chesterfield v Gillingham: Gillingham, 2.9019999999999997\n",
      "Fleetwood Town v Coventry: Coventry, 2.52\n",
      "Oldham v Scunthorpe: The Draw, 3.45\n",
      "Sheff Utd v Rochdale: The Draw, 3.7\n",
      "Shrewsbury v Colchester: Colchester, 2.98\n",
      "Southend v Port Vale: The Draw, 3.6\n",
      "Swindon v Peterborough: Peterborough, 2.62\n",
      "Walsall v Burton: The Draw, 3.4\n",
      "\"\"\"\n",
      "\n",
      "bets_start_date = \"09/10/2015\"\n",
      "bets_end_date = \"11/10/2015\""
     ],
     "language": "python",
     "metadata": {},
     "outputs": [],
     "prompt_number": 41
    },
    {
     "cell_type": "code",
     "collapsed": false,
     "input": [
      "bets_text = \"\"\"\n",
      "# Championship:\n",
      "Brighton v Bristol City: Brighton, 1.9\n",
      "Cardiff v Middlesbrough: Middlesbrough, 2.28\n",
      "Charlton v Preston: The Draw, 3.4\n",
      "Huddersfield v MK Dons: The Draw, 3.6\n",
      "Hull v Ipswich: The Draw, 3.5\n",
      "Nottm Forest v Burnley: The Draw, 3.4\n",
      "QPR v Sheff Wed: QPR, 2.7\n",
      "# Rotherham v Reading: Reading -2, 9.094\n",
      "Rotherham v Reading: Reading, 1.95\n",
      "Bolton v Birmingham: The Draw, 3.5\n",
      "\n",
      "# League One\n",
      "Barnsley v Walsall: Walsall, 2.8609999999999998\n",
      "Blackpool v Millwall: Millwall, 2.02\n",
      "Bradford v Bury: The Draw, 3.55\n",
      "Burton v Crewe: Burton, 1.49\n",
      "Chesterfield v Southend: The Draw, 3.55\n",
      "Colchester v Port Vale: Colchester, 2.44\n",
      "Gillingham v Scunthorpe: The Draw, 3.55\n",
      "Peterborough v Wigan: Wigan, 2.56\n",
      "Rochdale v Coventry: Coventry, 2.86\n",
      "Sheff Utd v Fleetwood Town: The Draw, 3.9\n",
      "Shrewsbury v Doncaster: Shrewsbury, 2.26\n",
      "Swindon v Oldham: Oldham, 2.62\n",
      "\n",
      "# League Two\n",
      "Accrington S v AFC Wimbledon: The Draw, 3.5\n",
      "Bristol Rovers v Notts Co: Bristol Rovers, 2.28\n",
      "Hartlepool v Barnet: Barnet, 2.64\n",
      "Luton v Leyton Orient: Leyton Orient, 2.46\n",
      "Morecambe v Crawley Town: The Draw, 3.7\n",
      "Northampton v Carlisle: Northampton, 2.06\n",
      "Oxford Utd v Plymouth: Oxford Utd, 2.06\n",
      "Portsmouth v Stevenage: Portsmouth, 1.55\n",
      "Wycombe v Newport County: Wycombe, 1.67\n",
      "Yeovil v Mansfield: Mansfield, 2.12\n",
      "York City v Dag and Red: The Draw, 3.6\n",
      "\n",
      "# Wednesday\n",
      "Exeter v Cambridge Utd: The Draw, 3.6\n",
      "Blackburn v Derby: The Draw, 3.55\n",
      "Fulham v Leeds: The Draw, 3.65\n",
      "Wolves v Brentford: The Draw, 4.0\n",
      "\"\"\"\n",
      "\n",
      "bets_start_date = \"20/10/2015\"\n",
      "bets_end_date = \"21/10/2015\""
     ],
     "language": "python",
     "metadata": {},
     "outputs": [],
     "prompt_number": 42
    },
    {
     "cell_type": "code",
     "collapsed": false,
     "input": [
      "bets_filename = 'data/1516/bets-23-10.text'\n",
      "with open(bets_filename) as bets_file:\n",
      "    bets_text = bets_file.read()\n",
      "\n",
      "bets_start_date = \"23/10/2015\"\n",
      "bets_end_date = \"26/10/2015\""
     ],
     "language": "python",
     "metadata": {},
     "outputs": [],
     "prompt_number": 43
    },
    {
     "cell_type": "code",
     "collapsed": false,
     "input": [
      "import blog.posts.league_analysis as league_analysis\n",
      "from IPython.display import display, HTML"
     ],
     "language": "python",
     "metadata": {},
     "outputs": [],
     "prompt_number": 44
    },
    {
     "cell_type": "code",
     "collapsed": false,
     "input": [
      "def display_bet_analysis(bet_line, match, league, profit_loss=None):\n",
      "    # So this is the number of goals we would have expected the team to have scored based on shots\n",
      "    home_shots_goals = match.HS / league.shots_per_goal\n",
      "    away_shots_goals = match.AS / league.shots_per_goal\n",
      "    # Similarly for shots on target\n",
      "    home_sot_goals = match.HST / league.sot_per_goal\n",
      "    away_sot_goals = match.AST / league.sot_per_goal\n",
      "\n",
      "    # Who is closer to the shots scorelines, the bet or the real scoreline?\n",
      "    home_shots_score_diff = abs(match.FTHG - home_shots_goals)\n",
      "    away_shots_score_diff = abs(match.FTAG - away_shots_goals)\n",
      "    home_sots_score_diff = abs(match.FTHG - home_sot_goals)\n",
      "    away_sots_score_diff = abs(match.FTAG - away_sot_goals)\n",
      "\n",
      "    # home_bet = bet_line.home_score\n",
      "    # away_bet = bet_line.away_score\n",
      "    # home_shots_bet_diff = abs(home_bet - home_shots_goals)\n",
      "    # away_shots_bet_diff = abs(away_bet - away_shots_goals)\n",
      "    # home_sots_bet_diff = abs(home_bet - home_sot_goals)\n",
      "    # away_sots_bet_diff = abs(away_bet - away_sot_goals)\n",
      "    \n",
      "    headers = ['', match.HomeTeam, match.AwayTeam]\n",
      "    rows = [['Goals', match.FTHG, match.FTAG],\n",
      "            # ['Bet Goals', home_bet, away_bet],\n",
      "            ['Shots', match.HS, match.AS],\n",
      "            ['SOT', match.HST, match.AST],\n",
      "            ['Shots Scoreline', home_shots_goals, away_shots_goals],\n",
      "            ['SOT Scoreline', home_sot_goals, away_sot_goals],\n",
      "            ['Score-Shots Diff', home_shots_score_diff, away_shots_score_diff],\n",
      "            # ['Bet-Shots Diff', home_shots_bet_diff, away_shots_bet_diff],\n",
      "            ['Score-Sots Diff', home_sots_score_diff, away_sots_score_diff],\n",
      "            # ['Bet-Sots Diff', home_sots_bet_diff, away_sots_bet_diff]\n",
      "            ['Bet', bet_line.bet_result, bet_line.bet_result],\n",
      "            ['Profit/Loss', profit_loss, profit_loss]\n",
      "            ]\n",
      "\n",
      "    league_analysis.display_table(headers, rows)\n",
      "\n"
     ],
     "language": "python",
     "metadata": {},
     "outputs": [],
     "prompt_number": 45
    },
    {
     "cell_type": "code",
     "collapsed": false,
     "input": [
      "class BetLine(object):\n",
      "    def __init__(self, bet_line):\n",
      "        \"\"\"Example Correct Score bet line: Bristol Rovers v Barnet: 1 - 1, 7.0\n",
      "        Example of a Result bet line: Walsall v Doncaster: Walsall, 1.97\n",
      "        \"\"\"\n",
      "        self.parse_result_line(bet_line)\n",
      "\n",
      "    def parse_correct_score_line(self, bet_line):\n",
      "        \"\"\"Example Correct Score bet line: Bristol Rovers v Barnet: 1 - 1, 7.0\n",
      "        \"\"\"\n",
      "        match_teams, bet_details = bet_line.split(': ')\n",
      "        self.home, self.away = match_teams.split(' v ')\n",
      "        bet_score, self.bet_price = bet_details.split(', ')\n",
      "        home_score, away_score = bet_score.split(' - ')\n",
      "        self.home_score = int(home_score)\n",
      "        self.away_score = int(away_score)\n",
      "    \n",
      "    def parse_result_line(self, bet_line):\n",
      "        \"\"\"Example of a Result bet line: Walsall v Doncaster: Walsall, 1.97\n",
      "        \"\"\"\n",
      "        match_teams, bet_details = bet_line.split(': ')\n",
      "        self.home, self.away = match_teams.split(' v ')\n",
      "        result, self.bet_price = bet_details.split(', ')\n",
      "        if result == \"The Draw\":\n",
      "            self.bet_result = 'D'\n",
      "        elif result == self.home:\n",
      "            self.bet_result = 'H'\n",
      "        else:\n",
      "            assert result == self.away\n",
      "            self.bet_result = 'A'\n",
      "    \n",
      "    def get_relevant_match(self, league, start_date, end_date):\n",
      "        home = league_analysis.alias_team(self.home)\n",
      "        away = league_analysis.alias_team(self.away)\n",
      "    \n",
      "        matches = league_analysis.get_matches(league, start_date, end_date,\n",
      "                                              home_team=home, away_team=away)\n",
      "        match = matches[0]\n",
      "        self.match = match\n",
      "        return match\n",
      "\n",
      "    def get_profit_loss(self, match=None, commission=0.05):\n",
      "        if match is None:\n",
      "            match = self.match\n",
      "        # The amount of money you get back is the odds multiplied by\n",
      "        # the commission you pay. If you lose the bet you get no money back\n",
      "        if self.bet_result == match.FTR:\n",
      "            odds = float(self.bet_price)\n",
      "            return (odds - 1.0) * (1.0 - commission)\n",
      "        else:\n",
      "            return -1.0"
     ],
     "language": "python",
     "metadata": {},
     "outputs": [],
     "prompt_number": 46
    },
    {
     "cell_type": "code",
     "collapsed": false,
     "input": [
      "league_two = league_analysis.year_201516.elt_league\n",
      "league_one = league_analysis.year_201516.elo_league\n",
      "championship = league_analysis.year_201516.ech_league\n",
      "premiership = league_analysis.year_201516.epl_league\n",
      "scottish_premiership = league_analysis.year_201516.spl_league\n",
      "\n",
      "all_leagues = league_analysis.year_201516.all_leagues\n",
      "league_bet_lines = {league.title: (league, []) for league in all_leagues}\n",
      "\n",
      "def add_bet_line(bet_line):\n",
      "    for league in all_leagues:\n",
      "        home = league_analysis.alias_team(bet_line.home)\n",
      "        away = league_analysis.alias_team(bet_line.away)\n",
      "        if home in league.teams and away in league.teams:\n",
      "            _league, league_lines = league_bet_lines[league.title]\n",
      "            league_lines.append(bet_line)\n",
      "            break\n",
      "    else:\n",
      "        message = 'Match not found in any league, {0} vs {1}'\n",
      "        raise Exception(message.format(bet_line.home, bet_line.away))\n",
      "\n",
      "for line in bets_text.split('\\n'):\n",
      "    if line == '' or line.startswith('#'):\n",
      "        continue\n",
      "    bet_line = BetLine(line)\n",
      "    add_bet_line(bet_line)\n",
      "\n",
      "league_profit_loss = 0.0\n",
      "total_profit_loss = 0.0\n",
      "for league_name, (current_league, bet_lines) in league_bet_lines.items():\n",
      "    league_profit_loss = 0.0\n",
      "    if not bet_lines:\n",
      "        continue\n",
      "    display(HTML('<h2>{0}</h2>'.format(league_name)))\n",
      "    for bet_line in bet_lines:\n",
      "        try:\n",
      "            match = bet_line.get_relevant_match(current_league, bets_start_date, bets_end_date)\n",
      "        except IndexError:\n",
      "            message_template = 'Data not available for match: {0} vs {1}'\n",
      "            message = message_template.format(bet_line.home, bet_line.away)\n",
      "            display(HTML(message))\n",
      "            continue\n",
      "        profit_loss = bet_line.get_profit_loss(match=match, commission=0.05)\n",
      "        league_profit_loss += profit_loss\n",
      "        display_bet_analysis(bet_line, match, current_league, profit_loss=profit_loss)\n",
      "    display(HTML('<h3>League profit/loss: {0}</h3>'.format(league_profit_loss)))\n",
      "    total_profit_loss += league_profit_loss\n",
      "display(HTML('<h2>Total profit/loss: {0}</h2>'.format(total_profit_loss)))"
     ],
     "language": "python",
     "metadata": {},
     "outputs": [
      {
       "html": [
        "<h2>league-one</h2>"
       ],
       "metadata": {},
       "output_type": "display_data",
       "text": [
        "<IPython.core.display.HTML at 0x7fc58cf042b0>"
       ]
      },
      {
       "html": [
        "<table><tr><th></th> <th>Sheffield United</th> <th>Millwall</th></tr><tr><td>Goals</td> <td>1</td> <td>2</td></tr>\n",
        "<tr><td>Shots</td> <td>6</td> <td>10</td></tr>\n",
        "<tr><td>SOT</td> <td>1</td> <td>6</td></tr>\n",
        "<tr><td>Shots Scoreline</td> <td>0.7449032932566648</td> <td>1.2415054887611081</td></tr>\n",
        "<tr><td>SOT Scoreline</td> <td>0.30844155844155846</td> <td>1.8506493506493507</td></tr>\n",
        "<tr><td>Score-Shots Diff</td> <td>0.2550967067433352</td> <td>0.7584945112388919</td></tr>\n",
        "<tr><td>Score-Sots Diff</td> <td>0.6915584415584415</td> <td>0.14935064935064934</td></tr>\n",
        "<tr><td>Bet</td> <td>D</td> <td>D</td></tr>\n",
        "<tr><td>Profit/Loss</td> <td>-1.0</td> <td>-1.0</td></tr></table>"
       ],
       "metadata": {},
       "output_type": "display_data",
       "text": [
        "<IPython.core.display.HTML at 0x7fc58cf04320>"
       ]
      },
      {
       "html": [
        "<table><tr><th></th> <th>Barnsley</th> <th>Fleetwood Town</th></tr><tr><td>Goals</td> <td>0</td> <td>1</td></tr>\n",
        "<tr><td>Shots</td> <td>8</td> <td>6</td></tr>\n",
        "<tr><td>SOT</td> <td>5</td> <td>5</td></tr>\n",
        "<tr><td>Shots Scoreline</td> <td>0.9932043910088865</td> <td>0.7449032932566648</td></tr>\n",
        "<tr><td>SOT Scoreline</td> <td>1.5422077922077924</td> <td>1.5422077922077924</td></tr>\n",
        "<tr><td>Score-Shots Diff</td> <td>0.9932043910088865</td> <td>0.2550967067433352</td></tr>\n",
        "<tr><td>Score-Sots Diff</td> <td>1.5422077922077924</td> <td>0.5422077922077924</td></tr>\n",
        "<tr><td>Bet</td> <td>A</td> <td>A</td></tr>\n",
        "<tr><td>Profit/Loss</td> <td>2.238912499999999</td> <td>2.238912499999999</td></tr></table>"
       ],
       "metadata": {},
       "output_type": "display_data",
       "text": [
        "<IPython.core.display.HTML at 0x7fc58cf04320>"
       ]
      },
      {
       "html": [
        "<table><tr><th></th> <th>Blackpool</th> <th>Crewe</th></tr><tr><td>Goals</td> <td>2</td> <td>0</td></tr>\n",
        "<tr><td>Shots</td> <td>14</td> <td>9</td></tr>\n",
        "<tr><td>SOT</td> <td>10</td> <td>3</td></tr>\n",
        "<tr><td>Shots Scoreline</td> <td>1.7381076842655514</td> <td>1.1173549398849973</td></tr>\n",
        "<tr><td>SOT Scoreline</td> <td>3.0844155844155847</td> <td>0.9253246753246753</td></tr>\n",
        "<tr><td>Score-Shots Diff</td> <td>0.2618923157344486</td> <td>1.1173549398849973</td></tr>\n",
        "<tr><td>Score-Sots Diff</td> <td>1.0844155844155847</td> <td>0.9253246753246753</td></tr>\n",
        "<tr><td>Bet</td> <td>H</td> <td>H</td></tr>\n",
        "<tr><td>Profit/Loss</td> <td>0.95</td> <td>0.95</td></tr></table>"
       ],
       "metadata": {},
       "output_type": "display_data",
       "text": [
        "<IPython.core.display.HTML at 0x7fc58cf04320>"
       ]
      },
      {
       "html": [
        "<table><tr><th></th> <th>Bradford</th> <th>Wigan</th></tr><tr><td>Goals</td> <td>1</td> <td>1</td></tr>\n",
        "<tr><td>Shots</td> <td>5</td> <td>8</td></tr>\n",
        "<tr><td>SOT</td> <td>3</td> <td>4</td></tr>\n",
        "<tr><td>Shots Scoreline</td> <td>0.6207527443805541</td> <td>0.9932043910088865</td></tr>\n",
        "<tr><td>SOT Scoreline</td> <td>0.9253246753246753</td> <td>1.2337662337662338</td></tr>\n",
        "<tr><td>Score-Shots Diff</td> <td>0.37924725561944594</td> <td>0.006795608991113533</td></tr>\n",
        "<tr><td>Score-Sots Diff</td> <td>0.07467532467532467</td> <td>0.23376623376623384</td></tr>\n",
        "<tr><td>Bet</td> <td>A</td> <td>A</td></tr>\n",
        "<tr><td>Profit/Loss</td> <td>-1.0</td> <td>-1.0</td></tr></table>"
       ],
       "metadata": {},
       "output_type": "display_data",
       "text": [
        "<IPython.core.display.HTML at 0x7fc58cf04320>"
       ]
      },
      {
       "html": [
        "<table><tr><th></th> <th>Burton</th> <th>Port Vale</th></tr><tr><td>Goals</td> <td>2</td> <td>0</td></tr>\n",
        "<tr><td>Shots</td> <td>24</td> <td>4</td></tr>\n",
        "<tr><td>SOT</td> <td>5</td> <td>0</td></tr>\n",
        "<tr><td>Shots Scoreline</td> <td>2.9796131730266593</td> <td>0.49660219550444323</td></tr>\n",
        "<tr><td>SOT Scoreline</td> <td>1.5422077922077924</td> <td>0.0</td></tr>\n",
        "<tr><td>Score-Shots Diff</td> <td>0.9796131730266593</td> <td>0.49660219550444323</td></tr>\n",
        "<tr><td>Score-Sots Diff</td> <td>0.45779220779220764</td> <td>0.0</td></tr>\n",
        "<tr><td>Bet</td> <td>H</td> <td>H</td></tr>\n",
        "<tr><td>Profit/Loss</td> <td>0.988</td> <td>0.988</td></tr></table>"
       ],
       "metadata": {},
       "output_type": "display_data",
       "text": [
        "<IPython.core.display.HTML at 0x7fc58cf04320>"
       ]
      },
      {
       "html": [
        "<table><tr><th></th> <th>Chesterfield</th> <th>Scunthorpe</th></tr><tr><td>Goals</td> <td>0</td> <td>3</td></tr>\n",
        "<tr><td>Shots</td> <td>13</td> <td>15</td></tr>\n",
        "<tr><td>SOT</td> <td>3</td> <td>10</td></tr>\n",
        "<tr><td>Shots Scoreline</td> <td>1.6139571353894406</td> <td>1.8622582331416622</td></tr>\n",
        "<tr><td>SOT Scoreline</td> <td>0.9253246753246753</td> <td>3.0844155844155847</td></tr>\n",
        "<tr><td>Score-Shots Diff</td> <td>1.6139571353894406</td> <td>1.1377417668583378</td></tr>\n",
        "<tr><td>Score-Sots Diff</td> <td>0.9253246753246753</td> <td>0.08441558441558472</td></tr>\n",
        "<tr><td>Bet</td> <td>A</td> <td>A</td></tr>\n",
        "<tr><td>Profit/Loss</td> <td>1.9949999999999999</td> <td>1.9949999999999999</td></tr></table>"
       ],
       "metadata": {},
       "output_type": "display_data",
       "text": [
        "<IPython.core.display.HTML at 0x7fc58cf04320>"
       ]
      },
      {
       "html": [
        "<table><tr><th></th> <th>Colchester</th> <th>Walsall</th></tr><tr><td>Goals</td> <td>4</td> <td>4</td></tr>\n",
        "<tr><td>Shots</td> <td>18</td> <td>12</td></tr>\n",
        "<tr><td>SOT</td> <td>7</td> <td>8</td></tr>\n",
        "<tr><td>Shots Scoreline</td> <td>2.2347098797699947</td> <td>1.4898065865133296</td></tr>\n",
        "<tr><td>SOT Scoreline</td> <td>2.159090909090909</td> <td>2.4675324675324677</td></tr>\n",
        "<tr><td>Score-Shots Diff</td> <td>1.7652901202300053</td> <td>2.5101934134866704</td></tr>\n",
        "<tr><td>Score-Sots Diff</td> <td>1.8409090909090908</td> <td>1.5324675324675323</td></tr>\n",
        "<tr><td>Bet</td> <td>D</td> <td>D</td></tr>\n",
        "<tr><td>Profit/Loss</td> <td>2.4225</td> <td>2.4225</td></tr></table>"
       ],
       "metadata": {},
       "output_type": "display_data",
       "text": [
        "<IPython.core.display.HTML at 0x7fc58cf04320>"
       ]
      },
      {
       "html": [
        "<table><tr><th></th> <th>Gillingham</th> <th>Southend</th></tr><tr><td>Goals</td> <td>1</td> <td>1</td></tr>\n",
        "<tr><td>Shots</td> <td>12</td> <td>7</td></tr>\n",
        "<tr><td>SOT</td> <td>5</td> <td>4</td></tr>\n",
        "<tr><td>Shots Scoreline</td> <td>1.4898065865133296</td> <td>0.8690538421327757</td></tr>\n",
        "<tr><td>SOT Scoreline</td> <td>1.5422077922077924</td> <td>1.2337662337662338</td></tr>\n",
        "<tr><td>Score-Shots Diff</td> <td>0.48980658651332964</td> <td>0.1309461578672243</td></tr>\n",
        "<tr><td>Score-Sots Diff</td> <td>0.5422077922077924</td> <td>0.23376623376623384</td></tr>\n",
        "<tr><td>Bet</td> <td>H</td> <td>H</td></tr>\n",
        "<tr><td>Profit/Loss</td> <td>-1.0</td> <td>-1.0</td></tr></table>"
       ],
       "metadata": {},
       "output_type": "display_data",
       "text": [
        "<IPython.core.display.HTML at 0x7fc58cf04320>"
       ]
      },
      {
       "html": [
        "<table><tr><th></th> <th>Peterboro</th> <th>Doncaster</th></tr><tr><td>Goals</td> <td>4</td> <td>0</td></tr>\n",
        "<tr><td>Shots</td> <td>26</td> <td>10</td></tr>\n",
        "<tr><td>SOT</td> <td>11</td> <td>3</td></tr>\n",
        "<tr><td>Shots Scoreline</td> <td>3.2279142707788813</td> <td>1.2415054887611081</td></tr>\n",
        "<tr><td>SOT Scoreline</td> <td>3.392857142857143</td> <td>0.9253246753246753</td></tr>\n",
        "<tr><td>Score-Shots Diff</td> <td>0.7720857292211187</td> <td>1.2415054887611081</td></tr>\n",
        "<tr><td>Score-Sots Diff</td> <td>0.6071428571428572</td> <td>0.9253246753246753</td></tr>\n",
        "<tr><td>Bet</td> <td>H</td> <td>H</td></tr>\n",
        "<tr><td>Profit/Loss</td> <td>1.064</td> <td>1.064</td></tr></table>"
       ],
       "metadata": {},
       "output_type": "display_data",
       "text": [
        "<IPython.core.display.HTML at 0x7fc58cf04320>"
       ]
      },
      {
       "html": [
        "<table><tr><th></th> <th>Rochdale</th> <th>Oldham</th></tr><tr><td>Goals</td> <td>0</td> <td>0</td></tr>\n",
        "<tr><td>Shots</td> <td>5</td> <td>9</td></tr>\n",
        "<tr><td>SOT</td> <td>1</td> <td>0</td></tr>\n",
        "<tr><td>Shots Scoreline</td> <td>0.6207527443805541</td> <td>1.1173549398849973</td></tr>\n",
        "<tr><td>SOT Scoreline</td> <td>0.30844155844155846</td> <td>0.0</td></tr>\n",
        "<tr><td>Score-Shots Diff</td> <td>0.6207527443805541</td> <td>1.1173549398849973</td></tr>\n",
        "<tr><td>Score-Sots Diff</td> <td>0.30844155844155846</td> <td>0.0</td></tr>\n",
        "<tr><td>Bet</td> <td>H</td> <td>H</td></tr>\n",
        "<tr><td>Profit/Loss</td> <td>-1.0</td> <td>-1.0</td></tr></table>"
       ],
       "metadata": {},
       "output_type": "display_data",
       "text": [
        "<IPython.core.display.HTML at 0x7fc58cf04320>"
       ]
      },
      {
       "html": [
        "<table><tr><th></th> <th>Shrewsbury</th> <th>Bury</th></tr><tr><td>Goals</td> <td>2</td> <td>0</td></tr>\n",
        "<tr><td>Shots</td> <td>7</td> <td>12</td></tr>\n",
        "<tr><td>SOT</td> <td>3</td> <td>3</td></tr>\n",
        "<tr><td>Shots Scoreline</td> <td>0.8690538421327757</td> <td>1.4898065865133296</td></tr>\n",
        "<tr><td>SOT Scoreline</td> <td>0.9253246753246753</td> <td>0.9253246753246753</td></tr>\n",
        "<tr><td>Score-Shots Diff</td> <td>1.1309461578672244</td> <td>1.4898065865133296</td></tr>\n",
        "<tr><td>Score-Sots Diff</td> <td>1.0746753246753247</td> <td>0.9253246753246753</td></tr>\n",
        "<tr><td>Bet</td> <td>D</td> <td>D</td></tr>\n",
        "<tr><td>Profit/Loss</td> <td>-1.0</td> <td>-1.0</td></tr></table>"
       ],
       "metadata": {},
       "output_type": "display_data",
       "text": [
        "<IPython.core.display.HTML at 0x7fc58cf04320>"
       ]
      },
      {
       "html": [
        "<table><tr><th></th> <th>Swindon</th> <th>Coventry</th></tr><tr><td>Goals</td> <td>2</td> <td>2</td></tr>\n",
        "<tr><td>Shots</td> <td>12</td> <td>12</td></tr>\n",
        "<tr><td>SOT</td> <td>7</td> <td>5</td></tr>\n",
        "<tr><td>Shots Scoreline</td> <td>1.4898065865133296</td> <td>1.4898065865133296</td></tr>\n",
        "<tr><td>SOT Scoreline</td> <td>2.159090909090909</td> <td>1.5422077922077924</td></tr>\n",
        "<tr><td>Score-Shots Diff</td> <td>0.5101934134866704</td> <td>0.5101934134866704</td></tr>\n",
        "<tr><td>Score-Sots Diff</td> <td>0.15909090909090917</td> <td>0.45779220779220764</td></tr>\n",
        "<tr><td>Bet</td> <td>A</td> <td>A</td></tr>\n",
        "<tr><td>Profit/Loss</td> <td>-1.0</td> <td>-1.0</td></tr></table>"
       ],
       "metadata": {},
       "output_type": "display_data",
       "text": [
        "<IPython.core.display.HTML at 0x7fc58cf04320>"
       ]
      },
      {
       "html": [
        "<h3>League profit/loss: 3.658412499999999</h3>"
       ],
       "metadata": {},
       "output_type": "display_data",
       "text": [
        "<IPython.core.display.HTML at 0x7fc58cf042b0>"
       ]
      },
      {
       "html": [
        "<h2>premier-league</h2>"
       ],
       "metadata": {},
       "output_type": "display_data",
       "text": [
        "<IPython.core.display.HTML at 0x7fc58cf042b0>"
       ]
      },
      {
       "html": [
        "<table><tr><th></th> <th>Aston Villa</th> <th>Swansea</th></tr><tr><td>Goals</td> <td>1</td> <td>2</td></tr>\n",
        "<tr><td>Shots</td> <td>9</td> <td>11</td></tr>\n",
        "<tr><td>SOT</td> <td>3</td> <td>4</td></tr>\n",
        "<tr><td>Shots Scoreline</td> <td>0.9435760579489134</td> <td>1.1532596263820052</td></tr>\n",
        "<tr><td>SOT Scoreline</td> <td>0.9269662921348315</td> <td>1.2359550561797752</td></tr>\n",
        "<tr><td>Score-Shots Diff</td> <td>0.056423942051086584</td> <td>0.8467403736179948</td></tr>\n",
        "<tr><td>Score-Sots Diff</td> <td>0.0730337078651685</td> <td>0.7640449438202248</td></tr>\n",
        "<tr><td>Bet</td> <td>A</td> <td>A</td></tr>\n",
        "<tr><td>Profit/Loss</td> <td>1.577</td> <td>1.577</td></tr></table>"
       ],
       "metadata": {},
       "output_type": "display_data",
       "text": [
        "<IPython.core.display.HTML at 0x7fc58cf04320>"
       ]
      },
      {
       "html": [
        "<table><tr><th></th> <th>Leicester</th> <th>Crystal Palace</th></tr><tr><td>Goals</td> <td>1</td> <td>0</td></tr>\n",
        "<tr><td>Shots</td> <td>12</td> <td>9</td></tr>\n",
        "<tr><td>SOT</td> <td>3</td> <td>4</td></tr>\n",
        "<tr><td>Shots Scoreline</td> <td>1.258101410598551</td> <td>0.9435760579489134</td></tr>\n",
        "<tr><td>SOT Scoreline</td> <td>0.9269662921348315</td> <td>1.2359550561797752</td></tr>\n",
        "<tr><td>Score-Shots Diff</td> <td>0.2581014105985511</td> <td>0.9435760579489134</td></tr>\n",
        "<tr><td>Score-Sots Diff</td> <td>0.0730337078651685</td> <td>1.2359550561797752</td></tr>\n",
        "<tr><td>Bet</td> <td>H</td> <td>H</td></tr>\n",
        "<tr><td>Profit/Loss</td> <td>1.2349999999999999</td> <td>1.2349999999999999</td></tr></table>"
       ],
       "metadata": {},
       "output_type": "display_data",
       "text": [
        "<IPython.core.display.HTML at 0x7fc58cf04320>"
       ]
      },
      {
       "html": [
        "<table><tr><th></th> <th>Norwich</th> <th>West Brom</th></tr><tr><td>Goals</td> <td>0</td> <td>1</td></tr>\n",
        "<tr><td>Shots</td> <td>16</td> <td>7</td></tr>\n",
        "<tr><td>SOT</td> <td>3</td> <td>4</td></tr>\n",
        "<tr><td>Shots Scoreline</td> <td>1.6774685474647348</td> <td>0.7338924895158215</td></tr>\n",
        "<tr><td>SOT Scoreline</td> <td>0.9269662921348315</td> <td>1.2359550561797752</td></tr>\n",
        "<tr><td>Score-Shots Diff</td> <td>1.6774685474647348</td> <td>0.26610751048417847</td></tr>\n",
        "<tr><td>Score-Sots Diff</td> <td>0.9269662921348315</td> <td>0.2359550561797752</td></tr>\n",
        "<tr><td>Bet</td> <td>H</td> <td>H</td></tr>\n",
        "<tr><td>Profit/Loss</td> <td>-1.0</td> <td>-1.0</td></tr></table>"
       ],
       "metadata": {},
       "output_type": "display_data",
       "text": [
        "<IPython.core.display.HTML at 0x7fc58cf04320>"
       ]
      },
      {
       "html": [
        "<table><tr><th></th> <th>Stoke</th> <th>Watford</th></tr><tr><td>Goals</td> <td>0</td> <td>2</td></tr>\n",
        "<tr><td>Shots</td> <td>12</td> <td>13</td></tr>\n",
        "<tr><td>SOT</td> <td>1</td> <td>3</td></tr>\n",
        "<tr><td>Shots Scoreline</td> <td>1.258101410598551</td> <td>1.3629431948150972</td></tr>\n",
        "<tr><td>SOT Scoreline</td> <td>0.3089887640449438</td> <td>0.9269662921348315</td></tr>\n",
        "<tr><td>Score-Shots Diff</td> <td>1.258101410598551</td> <td>0.6370568051849028</td></tr>\n",
        "<tr><td>Score-Sots Diff</td> <td>0.3089887640449438</td> <td>1.0730337078651684</td></tr>\n",
        "<tr><td>Bet</td> <td>D</td> <td>D</td></tr>\n",
        "<tr><td>Profit/Loss</td> <td>-1.0</td> <td>-1.0</td></tr></table>"
       ],
       "metadata": {},
       "output_type": "display_data",
       "text": [
        "<IPython.core.display.HTML at 0x7fc58cf04320>"
       ]
      },
      {
       "html": [
        "<table><tr><th></th> <th>West Ham</th> <th>Chelsea</th></tr><tr><td>Goals</td> <td>2</td> <td>1</td></tr>\n",
        "<tr><td>Shots</td> <td>12</td> <td>8</td></tr>\n",
        "<tr><td>SOT</td> <td>5</td> <td>4</td></tr>\n",
        "<tr><td>Shots Scoreline</td> <td>1.258101410598551</td> <td>0.8387342737323674</td></tr>\n",
        "<tr><td>SOT Scoreline</td> <td>1.5449438202247192</td> <td>1.2359550561797752</td></tr>\n",
        "<tr><td>Score-Shots Diff</td> <td>0.7418985894014489</td> <td>0.16126572626763258</td></tr>\n",
        "<tr><td>Score-Sots Diff</td> <td>0.4550561797752808</td> <td>0.2359550561797752</td></tr>\n",
        "<tr><td>Bet</td> <td>A</td> <td>A</td></tr>\n",
        "<tr><td>Profit/Loss</td> <td>-1.0</td> <td>-1.0</td></tr></table>"
       ],
       "metadata": {},
       "output_type": "display_data",
       "text": [
        "<IPython.core.display.HTML at 0x7fc58cf04320>"
       ]
      },
      {
       "html": [
        "<table><tr><th></th> <th>Arsenal</th> <th>Everton</th></tr><tr><td>Goals</td> <td>2</td> <td>1</td></tr>\n",
        "<tr><td>Shots</td> <td>20</td> <td>10</td></tr>\n",
        "<tr><td>SOT</td> <td>5</td> <td>5</td></tr>\n",
        "<tr><td>Shots Scoreline</td> <td>2.0968356843309186</td> <td>1.0484178421654593</td></tr>\n",
        "<tr><td>SOT Scoreline</td> <td>1.5449438202247192</td> <td>1.5449438202247192</td></tr>\n",
        "<tr><td>Score-Shots Diff</td> <td>0.0968356843309186</td> <td>0.0484178421654593</td></tr>\n",
        "<tr><td>Score-Sots Diff</td> <td>0.4550561797752808</td> <td>0.5449438202247192</td></tr>\n",
        "<tr><td>Bet</td> <td>H</td> <td>H</td></tr>\n",
        "<tr><td>Profit/Loss</td> <td>0.43699999999999994</td> <td>0.43699999999999994</td></tr></table>"
       ],
       "metadata": {},
       "output_type": "display_data",
       "text": [
        "<IPython.core.display.HTML at 0x7fc58cf04320>"
       ]
      },
      {
       "html": [
        "<table><tr><th></th> <th>Sunderland</th> <th>Newcastle</th></tr><tr><td>Goals</td> <td>3</td> <td>0</td></tr>\n",
        "<tr><td>Shots</td> <td>9</td> <td>21</td></tr>\n",
        "<tr><td>SOT</td> <td>3</td> <td>8</td></tr>\n",
        "<tr><td>Shots Scoreline</td> <td>0.9435760579489134</td> <td>2.2016774685474645</td></tr>\n",
        "<tr><td>SOT Scoreline</td> <td>0.9269662921348315</td> <td>2.4719101123595504</td></tr>\n",
        "<tr><td>Score-Shots Diff</td> <td>2.0564239420510866</td> <td>2.2016774685474645</td></tr>\n",
        "<tr><td>Score-Sots Diff</td> <td>2.0730337078651684</td> <td>2.4719101123595504</td></tr>\n",
        "<tr><td>Bet</td> <td>D</td> <td>D</td></tr>\n",
        "<tr><td>Profit/Loss</td> <td>-1.0</td> <td>-1.0</td></tr></table>"
       ],
       "metadata": {},
       "output_type": "display_data",
       "text": [
        "<IPython.core.display.HTML at 0x7fc58cf04320>"
       ]
      },
      {
       "html": [
        "<table><tr><th></th> <th>Bournemouth</th> <th>Tottenham</th></tr><tr><td>Goals</td> <td>1</td> <td>5</td></tr>\n",
        "<tr><td>Shots</td> <td>11</td> <td>14</td></tr>\n",
        "<tr><td>SOT</td> <td>3</td> <td>9</td></tr>\n",
        "<tr><td>Shots Scoreline</td> <td>1.1532596263820052</td> <td>1.467784979031643</td></tr>\n",
        "<tr><td>SOT Scoreline</td> <td>0.9269662921348315</td> <td>2.7808988764044944</td></tr>\n",
        "<tr><td>Score-Shots Diff</td> <td>0.1532596263820052</td> <td>3.5322150209683567</td></tr>\n",
        "<tr><td>Score-Sots Diff</td> <td>0.0730337078651685</td> <td>2.2191011235955056</td></tr>\n",
        "<tr><td>Bet</td> <td>A</td> <td>A</td></tr>\n",
        "<tr><td>Profit/Loss</td> <td>1.1969999999999998</td> <td>1.1969999999999998</td></tr></table>"
       ],
       "metadata": {},
       "output_type": "display_data",
       "text": [
        "<IPython.core.display.HTML at 0x7fc58cf04320>"
       ]
      },
      {
       "html": [
        "<table><tr><th></th> <th>Man United</th> <th>Man City</th></tr><tr><td>Goals</td> <td>0</td> <td>0</td></tr>\n",
        "<tr><td>Shots</td> <td>6</td> <td>6</td></tr>\n",
        "<tr><td>SOT</td> <td>1</td> <td>1</td></tr>\n",
        "<tr><td>Shots Scoreline</td> <td>0.6290507052992755</td> <td>0.6290507052992755</td></tr>\n",
        "<tr><td>SOT Scoreline</td> <td>0.3089887640449438</td> <td>0.3089887640449438</td></tr>\n",
        "<tr><td>Score-Shots Diff</td> <td>0.6290507052992755</td> <td>0.6290507052992755</td></tr>\n",
        "<tr><td>Score-Sots Diff</td> <td>0.3089887640449438</td> <td>0.3089887640449438</td></tr>\n",
        "<tr><td>Bet</td> <td>A</td> <td>A</td></tr>\n",
        "<tr><td>Profit/Loss</td> <td>-1.0</td> <td>-1.0</td></tr></table>"
       ],
       "metadata": {},
       "output_type": "display_data",
       "text": [
        "<IPython.core.display.HTML at 0x7fc58cf04320>"
       ]
      },
      {
       "html": [
        "<table><tr><th></th> <th>Liverpool</th> <th>Southampton</th></tr><tr><td>Goals</td> <td>1</td> <td>1</td></tr>\n",
        "<tr><td>Shots</td> <td>15</td> <td>8</td></tr>\n",
        "<tr><td>SOT</td> <td>2</td> <td>3</td></tr>\n",
        "<tr><td>Shots Scoreline</td> <td>1.572626763248189</td> <td>0.8387342737323674</td></tr>\n",
        "<tr><td>SOT Scoreline</td> <td>0.6179775280898876</td> <td>0.9269662921348315</td></tr>\n",
        "<tr><td>Score-Shots Diff</td> <td>0.572626763248189</td> <td>0.16126572626763258</td></tr>\n",
        "<tr><td>Score-Sots Diff</td> <td>0.3820224719101124</td> <td>0.0730337078651685</td></tr>\n",
        "<tr><td>Bet</td> <td>D</td> <td>D</td></tr>\n",
        "<tr><td>Profit/Loss</td> <td>2.4699999999999998</td> <td>2.4699999999999998</td></tr></table>"
       ],
       "metadata": {},
       "output_type": "display_data",
       "text": [
        "<IPython.core.display.HTML at 0x7fc58cf04320>"
       ]
      },
      {
       "html": [
        "<h3>League profit/loss: 1.9159999999999995</h3>"
       ],
       "metadata": {},
       "output_type": "display_data",
       "text": [
        "<IPython.core.display.HTML at 0x7fc58cf042b0>"
       ]
      },
      {
       "html": [
        "<h2>scottish-premiership</h2>"
       ],
       "metadata": {},
       "output_type": "display_data",
       "text": [
        "<IPython.core.display.HTML at 0x7fc58cf042b0>"
       ]
      },
      {
       "html": [
        "<table><tr><th></th> <th>Aberdeen</th> <th>Motherwell</th></tr><tr><td>Goals</td> <td>1</td> <td>1</td></tr>\n",
        "<tr><td>Shots</td> <td>11</td> <td>11</td></tr>\n",
        "<tr><td>SOT</td> <td>2</td> <td>7</td></tr>\n",
        "<tr><td>Shots Scoreline</td> <td>1.4951456310679612</td> <td>1.4951456310679612</td></tr>\n",
        "<tr><td>SOT Scoreline</td> <td>0.6173228346456693</td> <td>2.1606299212598423</td></tr>\n",
        "<tr><td>Score-Shots Diff</td> <td>0.49514563106796117</td> <td>0.49514563106796117</td></tr>\n",
        "<tr><td>Score-Sots Diff</td> <td>0.3826771653543307</td> <td>1.1606299212598423</td></tr>\n",
        "<tr><td>Bet</td> <td>H</td> <td>H</td></tr>\n",
        "<tr><td>Profit/Loss</td> <td>-1.0</td> <td>-1.0</td></tr></table>"
       ],
       "metadata": {},
       "output_type": "display_data",
       "text": [
        "<IPython.core.display.HTML at 0x7fc58cf04320>"
       ]
      },
      {
       "html": [
        "<table><tr><th></th> <th>Dundee</th> <th>Kilmarnock</th></tr><tr><td>Goals</td> <td>1</td> <td>2</td></tr>\n",
        "<tr><td>Shots</td> <td>9</td> <td>9</td></tr>\n",
        "<tr><td>SOT</td> <td>4</td> <td>8</td></tr>\n",
        "<tr><td>Shots Scoreline</td> <td>1.2233009708737865</td> <td>1.2233009708737865</td></tr>\n",
        "<tr><td>SOT Scoreline</td> <td>1.2346456692913386</td> <td>2.469291338582677</td></tr>\n",
        "<tr><td>Score-Shots Diff</td> <td>0.22330097087378653</td> <td>0.7766990291262135</td></tr>\n",
        "<tr><td>Score-Sots Diff</td> <td>0.23464566929133857</td> <td>0.46929133858267713</td></tr>\n",
        "<tr><td>Bet</td> <td>H</td> <td>H</td></tr>\n",
        "<tr><td>Profit/Loss</td> <td>-1.0</td> <td>-1.0</td></tr></table>"
       ],
       "metadata": {},
       "output_type": "display_data",
       "text": [
        "<IPython.core.display.HTML at 0x7fc58cf04320>"
       ]
      },
      {
       "html": [
        "<table><tr><th></th> <th>Hearts</th> <th>Ross County</th></tr><tr><td>Goals</td> <td>2</td> <td>0</td></tr>\n",
        "<tr><td>Shots</td> <td>9</td> <td>8</td></tr>\n",
        "<tr><td>SOT</td> <td>4</td> <td>3</td></tr>\n",
        "<tr><td>Shots Scoreline</td> <td>1.2233009708737865</td> <td>1.087378640776699</td></tr>\n",
        "<tr><td>SOT Scoreline</td> <td>1.2346456692913386</td> <td>0.9259842519685039</td></tr>\n",
        "<tr><td>Score-Shots Diff</td> <td>0.7766990291262135</td> <td>1.087378640776699</td></tr>\n",
        "<tr><td>Score-Sots Diff</td> <td>0.7653543307086614</td> <td>0.9259842519685039</td></tr>\n",
        "<tr><td>Bet</td> <td>D</td> <td>D</td></tr>\n",
        "<tr><td>Profit/Loss</td> <td>-1.0</td> <td>-1.0</td></tr></table>"
       ],
       "metadata": {},
       "output_type": "display_data",
       "text": [
        "<IPython.core.display.HTML at 0x7fc58cf04320>"
       ]
      },
      {
       "html": [
        "<table><tr><th></th> <th>Inverness C</th> <th>St Johnstone</th></tr><tr><td>Goals</td> <td>0</td> <td>1</td></tr>\n",
        "<tr><td>Shots</td> <td>8</td> <td>6</td></tr>\n",
        "<tr><td>SOT</td> <td>2</td> <td>1</td></tr>\n",
        "<tr><td>Shots Scoreline</td> <td>1.087378640776699</td> <td>0.8155339805825244</td></tr>\n",
        "<tr><td>SOT Scoreline</td> <td>0.6173228346456693</td> <td>0.30866141732283464</td></tr>\n",
        "<tr><td>Score-Shots Diff</td> <td>1.087378640776699</td> <td>0.18446601941747565</td></tr>\n",
        "<tr><td>Score-Sots Diff</td> <td>0.6173228346456693</td> <td>0.6913385826771654</td></tr>\n",
        "<tr><td>Bet</td> <td>D</td> <td>D</td></tr>\n",
        "<tr><td>Profit/Loss</td> <td>-1.0</td> <td>-1.0</td></tr></table>"
       ],
       "metadata": {},
       "output_type": "display_data",
       "text": [
        "<IPython.core.display.HTML at 0x7fc58cf04320>"
       ]
      },
      {
       "html": [
        "<table><tr><th></th> <th>Partick</th> <th>Hamilton</th></tr><tr><td>Goals</td> <td>1</td> <td>1</td></tr>\n",
        "<tr><td>Shots</td> <td>13</td> <td>16</td></tr>\n",
        "<tr><td>SOT</td> <td>2</td> <td>4</td></tr>\n",
        "<tr><td>Shots Scoreline</td> <td>1.766990291262136</td> <td>2.174757281553398</td></tr>\n",
        "<tr><td>SOT Scoreline</td> <td>0.6173228346456693</td> <td>1.2346456692913386</td></tr>\n",
        "<tr><td>Score-Shots Diff</td> <td>0.766990291262136</td> <td>1.174757281553398</td></tr>\n",
        "<tr><td>Score-Sots Diff</td> <td>0.3826771653543307</td> <td>0.23464566929133857</td></tr>\n",
        "<tr><td>Bet</td> <td>A</td> <td>A</td></tr>\n",
        "<tr><td>Profit/Loss</td> <td>-1.0</td> <td>-1.0</td></tr></table>"
       ],
       "metadata": {},
       "output_type": "display_data",
       "text": [
        "<IPython.core.display.HTML at 0x7fc58cf04320>"
       ]
      },
      {
       "html": [
        "<table><tr><th></th> <th>Celtic</th> <th>Dundee United</th></tr><tr><td>Goals</td> <td>5</td> <td>0</td></tr>\n",
        "<tr><td>Shots</td> <td>23</td> <td>3</td></tr>\n",
        "<tr><td>SOT</td> <td>12</td> <td>1</td></tr>\n",
        "<tr><td>Shots Scoreline</td> <td>3.1262135922330097</td> <td>0.4077669902912622</td></tr>\n",
        "<tr><td>SOT Scoreline</td> <td>3.7039370078740155</td> <td>0.30866141732283464</td></tr>\n",
        "<tr><td>Score-Shots Diff</td> <td>1.8737864077669903</td> <td>0.4077669902912622</td></tr>\n",
        "<tr><td>Score-Sots Diff</td> <td>1.2960629921259845</td> <td>0.30866141732283464</td></tr>\n",
        "<tr><td>Bet</td> <td>H</td> <td>H</td></tr>\n",
        "<tr><td>Profit/Loss</td> <td>0.8549999999999999</td> <td>0.8549999999999999</td></tr></table>"
       ],
       "metadata": {},
       "output_type": "display_data",
       "text": [
        "<IPython.core.display.HTML at 0x7fc58cf04320>"
       ]
      },
      {
       "html": [
        "<h3>League profit/loss: -4.1450000000000005</h3>"
       ],
       "metadata": {},
       "output_type": "display_data",
       "text": [
        "<IPython.core.display.HTML at 0x7fc58cf042b0>"
       ]
      },
      {
       "html": [
        "<h2>championship</h2>"
       ],
       "metadata": {},
       "output_type": "display_data",
       "text": [
        "<IPython.core.display.HTML at 0x7fc58cf042b0>"
       ]
      },
      {
       "html": [
        "<table><tr><th></th> <th>Rotherham</th> <th>Sheffield Weds</th></tr><tr><td>Goals</td> <td>1</td> <td>2</td></tr>\n",
        "<tr><td>Shots</td> <td>11</td> <td>16</td></tr>\n",
        "<tr><td>SOT</td> <td>3</td> <td>6</td></tr>\n",
        "<tr><td>Shots Scoreline</td> <td>1.0331044629720452</td> <td>1.502697400686611</td></tr>\n",
        "<tr><td>SOT Scoreline</td> <td>0.8613193403298351</td> <td>1.7226386806596703</td></tr>\n",
        "<tr><td>Score-Shots Diff</td> <td>0.03310446297204517</td> <td>0.49730259931338905</td></tr>\n",
        "<tr><td>Score-Sots Diff</td> <td>0.13868065967016485</td> <td>0.2773613193403297</td></tr>\n",
        "<tr><td>Bet</td> <td>H</td> <td>H</td></tr>\n",
        "<tr><td>Profit/Loss</td> <td>-1.0</td> <td>-1.0</td></tr></table>"
       ],
       "metadata": {},
       "output_type": "display_data",
       "text": [
        "<IPython.core.display.HTML at 0x7fc58cf04320>"
       ]
      },
      {
       "html": [
        "<table><tr><th></th> <th>Blackburn</th> <th>Burnley</th></tr><tr><td>Goals</td> <td>0</td> <td>1</td></tr>\n",
        "<tr><td>Shots</td> <td>18</td> <td>5</td></tr>\n",
        "<tr><td>SOT</td> <td>6</td> <td>2</td></tr>\n",
        "<tr><td>Shots Scoreline</td> <td>1.6905345757724375</td> <td>0.46959293771456595</td></tr>\n",
        "<tr><td>SOT Scoreline</td> <td>1.7226386806596703</td> <td>0.5742128935532234</td></tr>\n",
        "<tr><td>Score-Shots Diff</td> <td>1.6905345757724375</td> <td>0.530407062285434</td></tr>\n",
        "<tr><td>Score-Sots Diff</td> <td>1.7226386806596703</td> <td>0.42578710644677664</td></tr>\n",
        "<tr><td>Bet</td> <td>H</td> <td>H</td></tr>\n",
        "<tr><td>Profit/Loss</td> <td>-1.0</td> <td>-1.0</td></tr></table>"
       ],
       "metadata": {},
       "output_type": "display_data",
       "text": [
        "<IPython.core.display.HTML at 0x7fc58cf04320>"
       ]
      },
      {
       "html": [
        "<table><tr><th></th> <th>Fulham</th> <th>Reading</th></tr><tr><td>Goals</td> <td>4</td> <td>2</td></tr>\n",
        "<tr><td>Shots</td> <td>11</td> <td>9</td></tr>\n",
        "<tr><td>SOT</td> <td>7</td> <td>4</td></tr>\n",
        "<tr><td>Shots Scoreline</td> <td>1.0331044629720452</td> <td>0.8452672878862187</td></tr>\n",
        "<tr><td>SOT Scoreline</td> <td>2.009745127436282</td> <td>1.1484257871064467</td></tr>\n",
        "<tr><td>Score-Shots Diff</td> <td>2.9668955370279546</td> <td>1.1547327121137814</td></tr>\n",
        "<tr><td>Score-Sots Diff</td> <td>1.990254872563718</td> <td>0.8515742128935533</td></tr>\n",
        "<tr><td>Bet</td> <td>A</td> <td>A</td></tr>\n",
        "<tr><td>Profit/Loss</td> <td>-1.0</td> <td>-1.0</td></tr></table>"
       ],
       "metadata": {},
       "output_type": "display_data",
       "text": [
        "<IPython.core.display.HTML at 0x7fc58cf04320>"
       ]
      },
      {
       "html": [
        "<table><tr><th></th> <th>Bolton</th> <th>Leeds</th></tr><tr><td>Goals</td> <td>1</td> <td>1</td></tr>\n",
        "<tr><td>Shots</td> <td>8</td> <td>12</td></tr>\n",
        "<tr><td>SOT</td> <td>3</td> <td>3</td></tr>\n",
        "<tr><td>Shots Scoreline</td> <td>0.7513487003433055</td> <td>1.1270230505149583</td></tr>\n",
        "<tr><td>SOT Scoreline</td> <td>0.8613193403298351</td> <td>0.8613193403298351</td></tr>\n",
        "<tr><td>Score-Shots Diff</td> <td>0.24865129965669452</td> <td>0.12702305051495832</td></tr>\n",
        "<tr><td>Score-Sots Diff</td> <td>0.13868065967016485</td> <td>0.13868065967016485</td></tr>\n",
        "<tr><td>Bet</td> <td>D</td> <td>D</td></tr>\n",
        "<tr><td>Profit/Loss</td> <td>2.3275</td> <td>2.3275</td></tr></table>"
       ],
       "metadata": {},
       "output_type": "display_data",
       "text": [
        "<IPython.core.display.HTML at 0x7fc58cf04320>"
       ]
      },
      {
       "html": [
        "<table><tr><th></th> <th>Brighton</th> <th>Preston</th></tr><tr><td>Goals</td> <td>0</td> <td>0</td></tr>\n",
        "<tr><td>Shots</td> <td>10</td> <td>11</td></tr>\n",
        "<tr><td>SOT</td> <td>1</td> <td>3</td></tr>\n",
        "<tr><td>Shots Scoreline</td> <td>0.9391858754291319</td> <td>1.0331044629720452</td></tr>\n",
        "<tr><td>SOT Scoreline</td> <td>0.2871064467766117</td> <td>0.8613193403298351</td></tr>\n",
        "<tr><td>Score-Shots Diff</td> <td>0.9391858754291319</td> <td>1.0331044629720452</td></tr>\n",
        "<tr><td>Score-Sots Diff</td> <td>0.2871064467766117</td> <td>0.8613193403298351</td></tr>\n",
        "<tr><td>Bet</td> <td>H</td> <td>H</td></tr>\n",
        "<tr><td>Profit/Loss</td> <td>-1.0</td> <td>-1.0</td></tr></table>"
       ],
       "metadata": {},
       "output_type": "display_data",
       "text": [
        "<IPython.core.display.HTML at 0x7fc58cf04320>"
       ]
      },
      {
       "html": [
        "<table><tr><th></th> <th>Charlton</th> <th>Brentford</th></tr><tr><td>Goals</td> <td>0</td> <td>3</td></tr>\n",
        "<tr><td>Shots</td> <td>13</td> <td>16</td></tr>\n",
        "<tr><td>SOT</td> <td>6</td> <td>4</td></tr>\n",
        "<tr><td>Shots Scoreline</td> <td>1.2209416380578715</td> <td>1.502697400686611</td></tr>\n",
        "<tr><td>SOT Scoreline</td> <td>1.7226386806596703</td> <td>1.1484257871064467</td></tr>\n",
        "<tr><td>Score-Shots Diff</td> <td>1.2209416380578715</td> <td>1.497302599313389</td></tr>\n",
        "<tr><td>Score-Sots Diff</td> <td>1.7226386806596703</td> <td>1.8515742128935533</td></tr>\n",
        "<tr><td>Bet</td> <td>D</td> <td>D</td></tr>\n",
        "<tr><td>Profit/Loss</td> <td>-1.0</td> <td>-1.0</td></tr></table>"
       ],
       "metadata": {},
       "output_type": "display_data",
       "text": [
        "<IPython.core.display.HTML at 0x7fc58cf04320>"
       ]
      },
      {
       "html": [
        "<table><tr><th></th> <th>Huddersfield</th> <th>Derby</th></tr><tr><td>Goals</td> <td>1</td> <td>2</td></tr>\n",
        "<tr><td>Shots</td> <td>15</td> <td>17</td></tr>\n",
        "<tr><td>SOT</td> <td>6</td> <td>8</td></tr>\n",
        "<tr><td>Shots Scoreline</td> <td>1.4087788131436978</td> <td>1.596615988229524</td></tr>\n",
        "<tr><td>SOT Scoreline</td> <td>1.7226386806596703</td> <td>2.2968515742128934</td></tr>\n",
        "<tr><td>Score-Shots Diff</td> <td>0.4087788131436978</td> <td>0.4033840117704759</td></tr>\n",
        "<tr><td>Score-Sots Diff</td> <td>0.7226386806596703</td> <td>0.29685157421289343</td></tr>\n",
        "<tr><td>Bet</td> <td>D</td> <td>D</td></tr>\n",
        "<tr><td>Profit/Loss</td> <td>-1.0</td> <td>-1.0</td></tr></table>"
       ],
       "metadata": {},
       "output_type": "display_data",
       "text": [
        "<IPython.core.display.HTML at 0x7fc58cf04320>"
       ]
      },
      {
       "html": [
        "<table><tr><th></th> <th>Hull</th> <th>Birmingham</th></tr><tr><td>Goals</td> <td>2</td> <td>0</td></tr>\n",
        "<tr><td>Shots</td> <td>15</td> <td>7</td></tr>\n",
        "<tr><td>SOT</td> <td>6</td> <td>3</td></tr>\n",
        "<tr><td>Shots Scoreline</td> <td>1.4087788131436978</td> <td>0.6574301128003923</td></tr>\n",
        "<tr><td>SOT Scoreline</td> <td>1.7226386806596703</td> <td>0.8613193403298351</td></tr>\n",
        "<tr><td>Score-Shots Diff</td> <td>0.5912211868563022</td> <td>0.6574301128003923</td></tr>\n",
        "<tr><td>Score-Sots Diff</td> <td>0.2773613193403297</td> <td>0.8613193403298351</td></tr>\n",
        "<tr><td>Bet</td> <td>H</td> <td>H</td></tr>\n",
        "<tr><td>Profit/Loss</td> <td>0.798</td> <td>0.798</td></tr></table>"
       ],
       "metadata": {},
       "output_type": "display_data",
       "text": [
        "<IPython.core.display.HTML at 0x7fc58cf04320>"
       ]
      },
      {
       "html": [
        "<table><tr><th></th> <th>Nott'm Forest</th> <th>Ipswich</th></tr><tr><td>Goals</td> <td>1</td> <td>1</td></tr>\n",
        "<tr><td>Shots</td> <td>18</td> <td>9</td></tr>\n",
        "<tr><td>SOT</td> <td>5</td> <td>3</td></tr>\n",
        "<tr><td>Shots Scoreline</td> <td>1.6905345757724375</td> <td>0.8452672878862187</td></tr>\n",
        "<tr><td>SOT Scoreline</td> <td>1.4355322338830585</td> <td>0.8613193403298351</td></tr>\n",
        "<tr><td>Score-Shots Diff</td> <td>0.6905345757724375</td> <td>0.15473271211378126</td></tr>\n",
        "<tr><td>Score-Sots Diff</td> <td>0.4355322338830585</td> <td>0.13868065967016485</td></tr>\n",
        "<tr><td>Bet</td> <td>H</td> <td>H</td></tr>\n",
        "<tr><td>Profit/Loss</td> <td>-1.0</td> <td>-1.0</td></tr></table>"
       ],
       "metadata": {},
       "output_type": "display_data",
       "text": [
        "<IPython.core.display.HTML at 0x7fc58cf04320>"
       ]
      },
      {
       "html": [
        "<table><tr><th></th> <th>QPR</th> <th>Milton Keynes Dons</th></tr><tr><td>Goals</td> <td>3</td> <td>0</td></tr>\n",
        "<tr><td>Shots</td> <td>21</td> <td>4</td></tr>\n",
        "<tr><td>SOT</td> <td>7</td> <td>1</td></tr>\n",
        "<tr><td>Shots Scoreline</td> <td>1.972290338401177</td> <td>0.37567435017165274</td></tr>\n",
        "<tr><td>SOT Scoreline</td> <td>2.009745127436282</td> <td>0.2871064467766117</td></tr>\n",
        "<tr><td>Score-Shots Diff</td> <td>1.027709661598823</td> <td>0.37567435017165274</td></tr>\n",
        "<tr><td>Score-Sots Diff</td> <td>0.9902548725637179</td> <td>0.2871064467766117</td></tr>\n",
        "<tr><td>Bet</td> <td>D</td> <td>D</td></tr>\n",
        "<tr><td>Profit/Loss</td> <td>-1.0</td> <td>-1.0</td></tr></table>"
       ],
       "metadata": {},
       "output_type": "display_data",
       "text": [
        "<IPython.core.display.HTML at 0x7fc58cf04320>"
       ]
      },
      {
       "html": [
        "<table><tr><th></th> <th>Wolves</th> <th>Middlesbrough</th></tr><tr><td>Goals</td> <td>1</td> <td>3</td></tr>\n",
        "<tr><td>Shots</td> <td>18</td> <td>15</td></tr>\n",
        "<tr><td>SOT</td> <td>5</td> <td>8</td></tr>\n",
        "<tr><td>Shots Scoreline</td> <td>1.6905345757724375</td> <td>1.4087788131436978</td></tr>\n",
        "<tr><td>SOT Scoreline</td> <td>1.4355322338830585</td> <td>2.2968515742128934</td></tr>\n",
        "<tr><td>Score-Shots Diff</td> <td>0.6905345757724375</td> <td>1.5912211868563022</td></tr>\n",
        "<tr><td>Score-Sots Diff</td> <td>0.4355322338830585</td> <td>0.7031484257871066</td></tr>\n",
        "<tr><td>Bet</td> <td>D</td> <td>D</td></tr>\n",
        "<tr><td>Profit/Loss</td> <td>-1.0</td> <td>-1.0</td></tr></table>"
       ],
       "metadata": {},
       "output_type": "display_data",
       "text": [
        "<IPython.core.display.HTML at 0x7fc58cf04320>"
       ]
      },
      {
       "html": [
        "<h3>League profit/loss: -5.874499999999999</h3>"
       ],
       "metadata": {},
       "output_type": "display_data",
       "text": [
        "<IPython.core.display.HTML at 0x7fc58cf042b0>"
       ]
      },
      {
       "html": [
        "<h2>Total profit/loss: -4.445087500000001</h2>"
       ],
       "metadata": {},
       "output_type": "display_data",
       "text": [
        "<IPython.core.display.HTML at 0x7fc58cf047f0>"
       ]
      }
     ],
     "prompt_number": 47
    },
    {
     "cell_type": "code",
     "collapsed": false,
     "input": [],
     "language": "python",
     "metadata": {},
     "outputs": [],
     "prompt_number": 47
    }
   ],
   "metadata": {}
  }
 ]
}