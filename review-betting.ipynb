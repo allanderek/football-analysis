{
 "metadata": {
  "name": "",
  "signature": "sha256:ac88efc34af00b7e45b9b5035936392a1c50f6a0aa61cdc9201742e6e630af28"
 },
 "nbformat": 3,
 "nbformat_minor": 0,
 "worksheets": [
  {
   "cells": [
    {
     "cell_type": "code",
     "collapsed": false,
     "input": [
      "bets_text = \"\"\"\n",
      "# League Two:\n",
      "Bristol Rovers v Barnet: 1 - 1, 7.0\n",
      "Cambridge Utd v Crawley Town: 2 - 0, 8.2\n",
      "Carlisle v AFC Wimbledon: 1 - 2, 11.5\n",
      "Exeter v York City: 1 - 2, 12.0\n",
      "Mansfield v Oxford Utd: 1 - 2, 10.0\n",
      "Newport County v Leyton Orient: 1 - 1, 7.6\n",
      "Northampton v Plymouth: 2 - 0, 11.5\n",
      "Notts Co v Accrington S: 0 - 0, 10.5\n",
      "Portsmouth v Morecambe: 2 - 1, 8.8\n",
      "Stevenage v Hartlepool: 2 - 1, 9.4\n",
      "Wycombe v Dag and Red: 2 - 1, 10.0\n",
      "Yeovil v Luton: 1 - 0, 11.0\n",
      "\n",
      "# League One:\n",
      "Barnsley v Bradford: 0 - 0, 10.5\n",
      "Burton v Peterborough: 3 - 1, 21.0\n",
      "Chesterfield v Rochdale: 2 - 1, 9.4\n",
      "Crewe v Bury: 1 - 3, 18.0\n",
      "Fleetwood Town v Colchester: 1 - 2, 13.5\n",
      "Gillingham v Wigan: 2 - 2, 15.0\n",
      "Oldham v Shrewsbury: 0 - 0, 10.0\n",
      "Port Vale v Doncaster: 0 - 0, 10.0\n",
      "Scunthorpe v Millwall: 1 - 2, 12.0\n",
      "Sheff Utd v Blackpool: 2 - 1, 9.0\n",
      "Southend v Swindon: 1 - 2, 12.0\n",
      "Walsall v Coventry: 2 - 2, 16.0\n",
      "\n",
      "# Championship:\n",
      "Birmingham v Derby: 0 - 2, 14.5\n",
      "\n",
      "Leeds v Sheff Wed: 1 - 1, 7.2\n",
      "Bolton v Nottm Forest: 1 - 2, 11.0\n",
      "Brighton v Blackburn: 2 - 1, 10.5\n",
      "Burnley v Brentford: 1 - 2, 12.0\n",
      "Charlton v Hull: 0 - 2, 10.0\n",
      "Fulham v Huddersfield: 2 - 0, 13.6925\n",
      "Middlesbrough v Bristol City: 2 - 1, 9.8\n",
      "Preston v Ipswich: 2 - 1, 11.0\n",
      "QPR v Rotherham: 2 - 0, 9.0\n",
      "Reading v MK Dons: 2 - 1, 10.0\n",
      "Cardiff v Wolves: 1 - 1, 7.2\n",
      "\n",
      "# Premiership:\n",
      "Man Utd v Newcastle: 3 - 0, 10.5\n",
      "C Palace v Aston Villa: 2 - 0, 9.8\n",
      "Leicester v Tottenham: 1 - 1, 7.66\n",
      "Norwich v Stoke: 2 - 1, 11.5\n",
      "Sunderland v Swansea: 0 - 2, 10.5\n",
      "West Ham v Bournemouth: 1 - 2, 12.2925\n",
      "\n",
      "West Brom v Chelsea: 0 - 2, 8.0\n",
      "Everton v Man City: 0 - 2, 10.5\n",
      "Watford v Southampton: 2 - 2, 17.0\n",
      "\n",
      "\n",
      "# Scottish Premiership:\n",
      "Dundee Utd v Celtic: 1 - 3, 12.5\n",
      "Aberdeen v Dundee: 2 - 1, 9.0\n",
      "Inverness CT v Hamilton: 0 - 2, 18.0\n",
      "Hearts v Partick: 2 - 1, 9.6\n",
      "Kilmarnock v Ross Co: 1 - 3, 23.0\n",
      "St Johnstone v Motherwell: 0 - 2, 20.0\n",
      "\"\"\"\n",
      "bets_start_date = \"21/08/2015\"\n",
      "bets_end_date = \"24/08/2015\""
     ],
     "language": "python",
     "metadata": {},
     "outputs": [],
     "prompt_number": 15
    },
    {
     "cell_type": "code",
     "collapsed": false,
     "input": [
      "bets_text = \"\"\"\n",
      "# Scottish Premiership:\n",
      "Celtic v St Johnstone: 3 - 0, 8.331\n",
      "Dundee v Inverness CT: 2 - 0, 11.0725\n",
      "Hamilton v Hearts: 0 - 2, 12.18\n",
      "Motherwell v Kilmarnock: 2 - 0, 10.0\n",
      "Partick v Aberdeen: 1 - 2, 9.235999999999999\n",
      "Ross Co v Dundee Utd: 1 - 0, 9.2\n",
      "\n",
      "# League Two:\n",
      "AFC Wimbledon v Exeter: 2 - 1, 9.912\n",
      "Accrington S v Northampton: 1 - 2, 10.08\n",
      "Barnet v Cambridge Utd: 1 - 1, 6.8\n",
      "Dag and Red v Stevenage: 2 - 1, 12.5625\n",
      "Crawley Town v Wycombe: 0 - 1, 8.2\n",
      "Hartlepool v Carlisle: 1 - 1, 6.6\n",
      "Leyton Orient v Bristol Rovers: 1 - 2, 14.055\n",
      "Luton v Portsmouth: 0 - 2, 14.105\n",
      "Morecambe v Notts Co: 2 - 1, 10.08\n",
      "Oxford Utd v Yeovil: 2 - 0, 7.8\n",
      "Plymouth v Newport County: 2 - 1, 9.235999999999999\n",
      "York City v Mansfield: 1 - 1, 7.0\n",
      "\n",
      "# League One:\n",
      "Blackpool v Walsall: 1 - 3, 18.5\n",
      "Bradford v Port Vale: 0 - 1, 10.5\n",
      "Bury v Oldham: 2 - 0, 10.15\n",
      "Colchester v Scunthorpe: 2 - 0, 16.0475\n",
      "Doncaster v Fleetwood Town: 1 - 2, 13.5575\n",
      "Millwall v Chesterfield: 1 - 2, 11.135\n",
      "Peterborough v Gillingham: 1 - 1, 7.093999999999999\n",
      "Rochdale v Barnsley: 2 - 0, 10.575\n",
      "Shrewsbury v Burton: 1 - 2, 13.06\n",
      "Swindon v Sheff Utd: 2 - 0, 17.045\n",
      "Wigan v Crewe: 1 - 0, 7.29\n",
      "Coventry v Southend: 2 - 1, 10.0\n",
      "\n",
      "# Championship:\n",
      "Blackburn v Bolton: 1 - 0, 8.8\n",
      "\n",
      "Derby v Leeds: 2 - 1, 9.8\n",
      "Brentford v Reading: 1 - 2, 13.0\n",
      "Bristol City v Burnley: 1 - 0, 8.638\n",
      "Huddersfield v QPR: 1 - 1, 7.093999999999999\n",
      "Hull v Preston: 0 - 1, 11.0\n",
      "Ipswich v Brighton: 1 - 1, 6.8\n",
      "MK Dons v Birmingham: 1 - 1, 7.29\n",
      "Nottm Forest v Cardiff: 0 - 1, 10.5\n",
      "Rotherham v Fulham: 1 - 1, 7.047999999999999\n",
      "Sheff Wed v Middlesbrough: 0 - 2, 10.5\n",
      "Wolves v Charlton: 1 - 1, 7.176\n",
      "\n",
      "# Premiership:\n",
      "Newcastle v Arsenal: 1 - 3, 15.5\n",
      "Aston Villa v Sunderland: 1 - 1, 8.0\n",
      "Bournemouth v Leicester: 2 - 1, 10.0\n",
      "Chelsea v C Palace: 2 - 1, 9.8\n",
      "Liverpool v West Ham: 4 - 0, 18.0\n",
      "Man City v Watford: 3 - 1, 11.5\n",
      "Stoke v West Brom: 2 - 1, 10.0\n",
      "Tottenham v Everton: 2 - 0, 12.0\n",
      "Southampton v Norwich: 1 - 1, 7.4\n",
      "Swansea v Man Utd: 1 - 2, 10.5\n",
      "\"\"\"\n",
      "bets_start_date = \"28/08/2015\"\n",
      "bets_end_date = \"31/08/2015\""
     ],
     "language": "python",
     "metadata": {},
     "outputs": [],
     "prompt_number": 16
    },
    {
     "cell_type": "code",
     "collapsed": false,
     "input": [
      "bets_text = \"\"\"\n",
      "# Scottish Premiership:\n",
      "Inverness CT v Hearts: Hearts, 2.5\n",
      "\n",
      "Aberdeen v Celtic: Celtic, 1.95\n",
      "Dundee Utd v Kilmarnock: Dundee Utd, 1.81\n",
      "Motherwell v Ross Co: Ross Co, 2.66\n",
      "Partick v Dundee: The Draw, 3.4\n",
      "St Johnstone v Hamilton: Hamilton, 3.45\n",
      "\n",
      "# Championship:\n",
      "Reading v Ipswich: Reading, 2.3\n",
      "\n",
      "QPR v Nottm Forest: The Draw, 3.8\n",
      "Birmingham v Bristol City: The Draw, 3.5\n",
      "Bolton v Wolves: The Draw, 3.4\n",
      "Brighton v Hull: Brighton, 2.7\n",
      "Burnley v Sheff Wed: Sheff Wed, 4.3\n",
      "Cardiff v Huddersfield: The Draw, 3.5\n",
      "Charlton v Rotherham: The Draw, 3.55125\n",
      "Leeds v Brentford: The Draw, 3.5\n",
      "Middlesbrough v MK Dons: Middlesbrough, 1.6\n",
      "Preston v Derby: Preston, 2.7746000000000004\n",
      "\n",
      "Fulham v Blackburn: Blackburn, 2.96\n",
      "\n",
      "# Premiership:\n",
      "Everton v Chelsea: The Draw, 3.6\n",
      "Arsenal v Stoke: Arsenal, 1.31\n",
      "C Palace v Man City: Man City, 1.67\n",
      "Norwich v Bournemouth: The Draw, 3.5\n",
      "Watford v Swansea: The Draw, 3.4\n",
      "West Brom v Southampton: Southampton, 2.52\n",
      "Man Utd v Liverpool: Man Utd, 2.0\n",
      "\n",
      "Sunderland v Tottenham: Tottenham, 1.95\n",
      "Leicester v Aston Villa: The Draw, 3.75\n",
      "\n",
      "# League One:\n",
      "Barnsley v Swindon: The Draw, 3.6\n",
      "Burton v Rochdale: The Draw, 3.35\n",
      "Chesterfield v Colchester: Colchester, 5.2\n",
      "Crewe v Millwall: The Draw, 3.55\n",
      "Fleetwood Town v Bradford: Fleetwood Town, 3.0\n",
      "Gillingham v Blackpool: Gillingham, 1.65\n",
      "Oldham v Peterborough: Peterborough, 2.82\n",
      "Port Vale v Wigan: The Draw, 3.4\n",
      "Scunthorpe v Coventry: Coventry, 2.6\n",
      "Sheff Utd v Bury: The Draw, 3.7\n",
      "Southend v Shrewsbury: Southend, 2.2\n",
      "Walsall v Doncaster: Walsall, 1.97\n",
      "\"\"\"\n",
      "bets_start_date = \"11/09/2015\"\n",
      "bets_end_date = \"13/09/2015\""
     ],
     "language": "python",
     "metadata": {},
     "outputs": [],
     "prompt_number": 17
    },
    {
     "cell_type": "code",
     "collapsed": false,
     "input": [
      "bets_text = \"\"\"\n",
      "# Scottish Premiership:\n",
      "Aberdeen v Hamilton: The Draw, 4.846500000000001\n",
      "\n",
      "# League One:\n",
      "Port Vale v Millwall: Port Vale, 2.36\n",
      "Sheff Utd v Colchester: Colchester, 5.6\n",
      "\n",
      "# Championship:\n",
      "Birmingham v Nottm Forest: The Draw, 3.6\n",
      "Brighton v Rotherham: Brighton, 1.62\n",
      "Burnley v MK Dons: MK Dons, 5.9\n",
      "Cardiff v Hull: The Draw, 3.3\n",
      "Charlton v Huddersfield: The Draw, 3.45\n",
      "Leeds v Ipswich: The Draw, 3.4\n",
      "Middlesbrough v Brentford: Middlesbrough, 1.62\n",
      "Preston v Bristol City: Preston, 2.36\n",
      "Bolton v Sheff Wed: The Draw, 3.5\n",
      "Reading v Derby: Reading, 2.52\n",
      "\"\"\"\n",
      "bets_start_date = \"15/09/2015\"\n",
      "bets_end_date = \"15/09/2015\""
     ],
     "language": "python",
     "metadata": {},
     "outputs": [],
     "prompt_number": 18
    },
    {
     "cell_type": "code",
     "collapsed": false,
     "input": [
      "bets_text = \"\"\"\n",
      "# Scottish Premiership:\n",
      "Dundee Utd v Inverness CT: Dundee Utd, 2.4637000000000002\n",
      "Hamilton v Motherwell: Hamilton, 2.34\n",
      "Kilmarnock v St Johnstone: St Johnstone, 2.18\n",
      "Ross Co v Partick: Ross Co, 2.12\n",
      "\n",
      "Hearts v Aberdeen: The Draw, 3.4\n",
      "Celtic v Dundee: Celtic, 1.25\n",
      "\n",
      "# Championship:\n",
      "Ipswich v Birmingham: The Draw, 3.7\n",
      "\n",
      "Nottm Forest v Middlesbrough: Nottm Forest, 3.9\n",
      "Blackburn v Charlton: Blackburn, 2.0\n",
      "Brentford v Preston: The Draw, 3.4\n",
      "Bristol City v Reading: Reading, 2.9799\n",
      "Huddersfield v Bolton: Huddersfield, 2.28\n",
      "Hull v QPR: Hull, 1.96\n",
      "MK Dons v Leeds: The Draw, 3.45\n",
      "Rotherham v Cardiff: Cardiff, 2.54\n",
      "Sheff Wed v Fulham: The Draw, 3.6\n",
      "Wolves v Brighton: Brighton, 3.05\n",
      "\n",
      "# Premiership:\n",
      "Chelsea v Arsenal: The Draw, 3.55\n",
      "Aston Villa v West Brom: The Draw, 3.3\n",
      "Bournemouth v Sunderland: The Draw, 4.0\n",
      "Newcastle v Watford: Watford, 3.1\n",
      "Stoke v Leicester: Leicester, 3.15\n",
      "Swansea v Everton: The Draw, 3.45\n",
      "Man City v West Ham: Man City, 1.29\n",
      "\n",
      "Tottenham v C Palace: Tottenham, 2.04\n",
      "Liverpool v Norwich: The Draw, 4.0\n",
      "Southampton v Man Utd: Southampton, 3.25\n",
      "\"\"\"\n",
      "bets_start_date = \"18/09/2015\"\n",
      "bets_end_date = \"21/09/2015\""
     ],
     "language": "python",
     "metadata": {},
     "outputs": [],
     "prompt_number": 19
    },
    {
     "cell_type": "code",
     "collapsed": false,
     "input": [
      "bets_text = \"\"\"\n",
      "# Scottish Premiership:\n",
      "Celtic v Hearts: Celtic, 1.27\n",
      "Dundee v Ross Co: Ross Co, 2.94\n",
      "Inverness CT v Aberdeen: Aberdeen, 1.91\n",
      "Kilmarnock v Hamilton: Hamilton, 2.3225\n",
      "Motherwell v Partick: Motherwell, 2.54\n",
      "St Johnstone v Dundee Utd: Dundee Utd, 3.5\n",
      "\n",
      "# Championship:\n",
      "Fulham v QPR: The Draw, 3.5\n",
      "\n",
      "MK Dons v Derby: Derby, 2.06\n",
      "Birmingham v Rotherham: The Draw, 3.65\n",
      "Bolton v Brighton: Brighton, 2.34\n",
      "Brentford v Sheff Wed: The Draw, 3.55\n",
      "Burnley v Reading: Reading, 3.1\n",
      "Cardiff v Charlton: Cardiff, 1.9610000000000003\n",
      "Hull v Blackburn: The Draw, 3.55\n",
      "Ipswich v Bristol City: The Draw, 3.75\n",
      "Preston v Wolves: Preston, 2.44\n",
      "\n",
      "Middlesbrough v Leeds: Middlesbrough, 1.55\n",
      "\n",
      "# Premiership:\n",
      "Tottenham v Man City: Man City, 2.0\n",
      "Leicester v Arsenal: The Draw, 4.1\n",
      "Liverpool v Aston Villa: Liverpool, 1.56\n",
      "Man Utd v Sunderland: Man Utd, 1.24\n",
      "Southampton v Swansea: Southampton, 2.08\n",
      "Stoke v Bournemouth: The Draw, 3.45\n",
      "West Ham v Norwich: The Draw, 3.55\n",
      "\n",
      "Newcastle v Chelsea: Chelsea, 1.66\n",
      "Watford v C Palace: Watford, 2.6\n",
      "\n",
      "West Brom v Everton: Everton, 2.54\n",
      "\"\"\"\n",
      "bets_start_date = \"25/09/2015\"\n",
      "bets_end_date = \"28/09/2015\""
     ],
     "language": "python",
     "metadata": {},
     "outputs": [],
     "prompt_number": 20
    },
    {
     "cell_type": "code",
     "collapsed": false,
     "input": [
      "bets_text = \"\"\"\n",
      "#Championship:\n",
      "Brentford v Birmingham: The Draw, 3.65\n",
      "Fulham v Wolves: The Draw, 3.6\n",
      "\n",
      "#League One\n",
      "Blackpool v Chesterfield: Chesterfield, 2.18\n",
      "Burton v Sheff Utd: Burton, 2.66\n",
      "Colchester v Bradford: Colchester, 3.0\n",
      "Crewe v Southend: Southend, 2.18\n",
      "Doncaster v Swindon: The Draw, 3.45\n",
      "Gillingham v Fleetwood Town: The Draw, 3.7\n",
      "Peterborough v Bury: Peterborough, 2.52\n",
      "Port Vale v Oldham: Port Vale, 2.02\n",
      "Rochdale v Shrewsbury: Rochdale, 2.14\n",
      "Scunthorpe v Walsall: Walsall, 2.48\n",
      "Wigan v Millwall: The Draw, 3.45\n",
      "\"\"\"\n",
      "bets_start_date = \"29/09/2015\"\n",
      "bets_end_date = \"29/09/2015\""
     ],
     "language": "python",
     "metadata": {},
     "outputs": [],
     "prompt_number": 21
    },
    {
     "cell_type": "code",
     "collapsed": false,
     "input": [
      "bets_text = \"\"\"\n",
      "# Scottish Premiership:\n",
      "Aberdeen v St Johnstone: Aberdeen, 1.63\n",
      "Dundee v Motherwell: Dundee, 2.28\n",
      "Hearts v Kilmarnock: Hearts, 1.5247\n",
      "Partick v Dundee Utd: The Draw, 3.5275\n",
      "Ross Co v Inverness CT: Ross Co, 2.2962999999999996\n",
      "\n",
      "Hamilton v Celtic: Celtic, 1.35\n",
      "\n",
      "# Championship:\n",
      "Rotherham v Burnley: The Draw, 3.45\n",
      "\n",
      "Wolves v Huddersfield: The Draw, 3.7\n",
      "Blackburn v Ipswich: Blackburn, 2.28\n",
      "Bristol City v MK Dons: The Draw, 3.85\n",
      "Brighton v Cardiff: Brighton, 1.92\n",
      "Derby v Brentford: Derby, 1.73\n",
      "Leeds v Birmingham: The Draw, 3.55\n",
      "Nottm Forest v Hull: The Draw, 3.35\n",
      "QPR v Bolton: The Draw, 3.65\n",
      "Reading v Middlesbrough: Reading, 2.68\n",
      "Sheff Wed v Preston: The Draw, 3.5\n",
      "\n",
      "Charlton v Fulham: The Draw, 3.5\n",
      "\n",
      "# Premiership:\n",
      "C Palace v West Brom: The Draw, 3.7\n",
      "Aston Villa v Stoke: The Draw, 3.35\n",
      "Bournemouth v Watford: Watford, 3.85\n",
      "Man City v Newcastle: Man City, 1.26\n",
      "# Man City v Newcastle: Man City, 2.0639999999999996\n",
      "Norwich v Leicester: The Draw, 3.6\n",
      "Sunderland v West Ham: The Draw, 3.5\n",
      "Chelsea v Southampton: Southampton, 5.0\n",
      "\n",
      "Everton v Liverpool: Liverpool, 2.9\n",
      "Arsenal v Man Utd: The Draw, 3.8\n",
      "Swansea v Tottenham: The Draw, 3.45\n",
      "\n",
      "# League One:\n",
      "Blackpool v Swindon: The Draw, 3.55\n",
      "Burton v Southend: Burton, 2.16\n",
      "Colchester v Bury: The Draw, 3.55\n",
      "Coventry v Shrewsbury: Coventry, 2.28\n",
      "Crewe v Chesterfield: The Draw, 3.55\n",
      "Doncaster v Barnsley: Doncaster, 2.5\n",
      "Gillingham v Oldham: Gillingham, 1.95\n",
      "Peterborough v Millwall: Peterborough, 2.6\n",
      "\"\"\"\n",
      "bets_start_date = \"2/10/2015\"\n",
      "bets_end_date = \"5/10/2015\""
     ],
     "language": "python",
     "metadata": {},
     "outputs": [],
     "prompt_number": 22
    },
    {
     "cell_type": "code",
     "collapsed": false,
     "input": [
      "bets_text = \"\"\"\n",
      "# League Two:\n",
      "Barnet v Accrington S: Accrington S, 2.8\n",
      "Cambridge Utd v Portsmouth: Portsmouth, 2.28\n",
      "Carlisle v Morecambe: The Draw, 3.65\n",
      "Crawley Town v Leyton Orient: Leyton Orient, 1.72085\n",
      "Luton v York City: The Draw, 3.8\n",
      "Mansfield v Newport County: Mansfield, 1.92\n",
      "Northampton v Hartlepool: Northampton, 1.9\n",
      "Oxford Utd v AFC Wimbledon: The Draw, 3.6\n",
      "Yeovil v Dag and Red: The Draw, 3.55\n",
      "Exeter v Stevenage: Exeter, 2.02\n",
      "Notts Co v Plymouth: The Draw, 3.45\n",
      "\n",
      "# League One:\n",
      "Barnsley v Crewe: Barnsley, 1.63\n",
      "Bury v Wigan: The Draw, 3.5\n",
      "Chesterfield v Gillingham: Gillingham, 2.9019999999999997\n",
      "Fleetwood Town v Coventry: Coventry, 2.52\n",
      "Oldham v Scunthorpe: The Draw, 3.45\n",
      "Sheff Utd v Rochdale: The Draw, 3.7\n",
      "Shrewsbury v Colchester: Colchester, 2.98\n",
      "Southend v Port Vale: The Draw, 3.6\n",
      "Swindon v Peterborough: Peterborough, 2.62\n",
      "Walsall v Burton: The Draw, 3.4\n",
      "\"\"\"\n",
      "\n",
      "bets_start_date = \"09/10/2015\"\n",
      "bets_end_date = \"11/10/2015\""
     ],
     "language": "python",
     "metadata": {},
     "outputs": [],
     "prompt_number": 23
    },
    {
     "cell_type": "code",
     "collapsed": false,
     "input": [
      "bets_text = \"\"\"\n",
      "# Championship:\n",
      "Brighton v Bristol City: Brighton, 1.9\n",
      "Cardiff v Middlesbrough: Middlesbrough, 2.28\n",
      "Charlton v Preston: The Draw, 3.4\n",
      "Huddersfield v MK Dons: The Draw, 3.6\n",
      "Hull v Ipswich: The Draw, 3.5\n",
      "Nottm Forest v Burnley: The Draw, 3.4\n",
      "QPR v Sheff Wed: QPR, 2.7\n",
      "# Rotherham v Reading: Reading -2, 9.094\n",
      "Rotherham v Reading: Reading, 1.95\n",
      "Bolton v Birmingham: The Draw, 3.5\n",
      "\n",
      "# League One\n",
      "Barnsley v Walsall: Walsall, 2.8609999999999998\n",
      "Blackpool v Millwall: Millwall, 2.02\n",
      "Bradford v Bury: The Draw, 3.55\n",
      "Burton v Crewe: Burton, 1.49\n",
      "Chesterfield v Southend: The Draw, 3.55\n",
      "Colchester v Port Vale: Colchester, 2.44\n",
      "Gillingham v Scunthorpe: The Draw, 3.55\n",
      "Peterborough v Wigan: Wigan, 2.56\n",
      "Rochdale v Coventry: Coventry, 2.86\n",
      "Sheff Utd v Fleetwood Town: The Draw, 3.9\n",
      "Shrewsbury v Doncaster: Shrewsbury, 2.26\n",
      "Swindon v Oldham: Oldham, 2.62\n",
      "\n",
      "# League Two\n",
      "Accrington S v AFC Wimbledon: The Draw, 3.5\n",
      "Bristol Rovers v Notts Co: Bristol Rovers, 2.28\n",
      "Hartlepool v Barnet: Barnet, 2.64\n",
      "Luton v Leyton Orient: Leyton Orient, 2.46\n",
      "Morecambe v Crawley Town: The Draw, 3.7\n",
      "Northampton v Carlisle: Northampton, 2.06\n",
      "Oxford Utd v Plymouth: Oxford Utd, 2.06\n",
      "Portsmouth v Stevenage: Portsmouth, 1.55\n",
      "Wycombe v Newport County: Wycombe, 1.67\n",
      "Yeovil v Mansfield: Mansfield, 2.12\n",
      "York City v Dag and Red: The Draw, 3.6\n",
      "\n",
      "# Wednesday\n",
      "Exeter v Cambridge Utd: The Draw, 3.6\n",
      "Blackburn v Derby: The Draw, 3.55\n",
      "Fulham v Leeds: The Draw, 3.65\n",
      "Wolves v Brentford: The Draw, 4.0\n",
      "\"\"\"\n",
      "\n",
      "bets_start_date = \"20/10/2015\"\n",
      "bets_end_date = \"21/10/2015\""
     ],
     "language": "python",
     "metadata": {},
     "outputs": [],
     "prompt_number": 24
    },
    {
     "cell_type": "code",
     "collapsed": false,
     "input": [
      "import blog.posts.league_analysis as league_analysis\n",
      "from IPython.display import display, HTML"
     ],
     "language": "python",
     "metadata": {},
     "outputs": [],
     "prompt_number": 25
    },
    {
     "cell_type": "code",
     "collapsed": false,
     "input": [
      "def display_bet_analysis(bet_line, match, league, profit_loss=None):\n",
      "    # So this is the number of goals we would have expected the team to have scored based on shots\n",
      "    home_shots_goals = match.HS / league.shots_per_goal\n",
      "    away_shots_goals = match.AS / league.shots_per_goal\n",
      "    # Similarly for shots on target\n",
      "    home_sot_goals = match.HST / league.sot_per_goal\n",
      "    away_sot_goals = match.AST / league.sot_per_goal\n",
      "\n",
      "    # Who is closer to the shots scorelines, the bet or the real scoreline?\n",
      "    home_shots_score_diff = abs(match.FTHG - home_shots_goals)\n",
      "    away_shots_score_diff = abs(match.FTAG - away_shots_goals)\n",
      "    home_sots_score_diff = abs(match.FTHG - home_sot_goals)\n",
      "    away_sots_score_diff = abs(match.FTAG - away_sot_goals)\n",
      "\n",
      "    # home_bet = bet_line.home_score\n",
      "    # away_bet = bet_line.away_score\n",
      "    # home_shots_bet_diff = abs(home_bet - home_shots_goals)\n",
      "    # away_shots_bet_diff = abs(away_bet - away_shots_goals)\n",
      "    # home_sots_bet_diff = abs(home_bet - home_sot_goals)\n",
      "    # away_sots_bet_diff = abs(away_bet - away_sot_goals)\n",
      "    \n",
      "    headers = ['', match.HomeTeam, match.AwayTeam]\n",
      "    rows = [['Goals', match.FTHG, match.FTAG],\n",
      "            # ['Bet Goals', home_bet, away_bet],\n",
      "            ['Shots', match.HS, match.AS],\n",
      "            ['SOT', match.HST, match.AST],\n",
      "            ['Shots Scoreline', home_shots_goals, away_shots_goals],\n",
      "            ['SOT Scoreline', home_sot_goals, away_sot_goals],\n",
      "            ['Score-Shots Diff', home_shots_score_diff, away_shots_score_diff],\n",
      "            # ['Bet-Shots Diff', home_shots_bet_diff, away_shots_bet_diff],\n",
      "            ['Score-Sots Diff', home_sots_score_diff, away_sots_score_diff],\n",
      "            # ['Bet-Sots Diff', home_sots_bet_diff, away_sots_bet_diff]\n",
      "            ['Bet', bet_line.bet_result, bet_line.bet_result],\n",
      "            ['Profit/Loss', profit_loss, profit_loss]\n",
      "            ]\n",
      "\n",
      "    league_analysis.display_table(headers, rows)\n",
      "\n"
     ],
     "language": "python",
     "metadata": {},
     "outputs": [],
     "prompt_number": 26
    },
    {
     "cell_type": "code",
     "collapsed": false,
     "input": [
      "class BetLine(object):\n",
      "    def __init__(self, bet_line):\n",
      "        \"\"\"Example Correct Score bet line: Bristol Rovers v Barnet: 1 - 1, 7.0\n",
      "        Example of a Result bet line: Walsall v Doncaster: Walsall, 1.97\n",
      "        \"\"\"\n",
      "        self.parse_result_line(bet_line)\n",
      "\n",
      "    def parse_correct_score_line(self, bet_line):\n",
      "        \"\"\"Example Correct Score bet line: Bristol Rovers v Barnet: 1 - 1, 7.0\n",
      "        \"\"\"\n",
      "        match_teams, bet_details = bet_line.split(': ')\n",
      "        self.home, self.away = match_teams.split(' v ')\n",
      "        bet_score, self.bet_price = bet_details.split(', ')\n",
      "        home_score, away_score = bet_score.split(' - ')\n",
      "        self.home_score = int(home_score)\n",
      "        self.away_score = int(away_score)\n",
      "    \n",
      "    def parse_result_line(self, bet_line):\n",
      "        \"\"\"Example of a Result bet line: Walsall v Doncaster: Walsall, 1.97\n",
      "        \"\"\"\n",
      "        match_teams, bet_details = bet_line.split(': ')\n",
      "        self.home, self.away = match_teams.split(' v ')\n",
      "        result, self.bet_price = bet_details.split(', ')\n",
      "        if result == \"The Draw\":\n",
      "            self.bet_result = 'D'\n",
      "        elif result == self.home:\n",
      "            self.bet_result = 'H'\n",
      "        else:\n",
      "            assert result == self.away\n",
      "            self.bet_result = 'A'\n",
      "    \n",
      "    def get_relevant_match(self, league, start_date, end_date):\n",
      "        home = league_analysis.alias_team(self.home)\n",
      "        away = league_analysis.alias_team(self.away)\n",
      "    \n",
      "        matches = league_analysis.get_matches(league, start_date, end_date,\n",
      "                                              home_team=home, away_team=away)\n",
      "        match = matches[0]\n",
      "        self.match = match\n",
      "        return match\n",
      "\n",
      "    def get_profit_loss(self, match=None, commission=0.05):\n",
      "        if match is None:\n",
      "            match = self.match\n",
      "        # The amount of money you get back is the odds multiplied by\n",
      "        # the commission you pay. If you lose the bet you get no money back\n",
      "        if self.bet_result == match.FTR:\n",
      "            odds = float(self.bet_price)\n",
      "            return (odds - 1.0) * (1.0 - commission)\n",
      "        else:\n",
      "            return -1.0"
     ],
     "language": "python",
     "metadata": {},
     "outputs": [],
     "prompt_number": 27
    },
    {
     "cell_type": "code",
     "collapsed": false,
     "input": [
      "league_two = league_analysis.year_201516.elt_league\n",
      "league_one = league_analysis.year_201516.elo_league\n",
      "championship = league_analysis.year_201516.ech_league\n",
      "premiership = league_analysis.year_201516.epl_league\n",
      "scottish_premiership = league_analysis.year_201516.spl_league\n",
      "\n",
      "all_leagues = league_analysis.year_201516.all_leagues\n",
      "league_bet_lines = {league.title: (league, []) for league in all_leagues}\n",
      "\n",
      "def add_bet_line(bet_line):\n",
      "    for league in all_leagues:\n",
      "        home = league_analysis.alias_team(bet_line.home)\n",
      "        away = league_analysis.alias_team(bet_line.away)\n",
      "        if home in league.teams and away in league.teams:\n",
      "            _league, league_lines = league_bet_lines[league.title]\n",
      "            league_lines.append(bet_line)\n",
      "            break\n",
      "    else:\n",
      "        message = 'Match not found in any league, {0} vs {1}'\n",
      "        raise Exception(message.format(bet_line.home, bet_line.away))\n",
      "\n",
      "for line in bets_text.split('\\n'):\n",
      "    if line == '' or line.startswith('#'):\n",
      "        continue\n",
      "    bet_line = BetLine(line)\n",
      "    add_bet_line(bet_line)\n",
      "\n",
      "league_profit_loss = 0.0\n",
      "total_profit_loss = 0.0\n",
      "for league_name, (current_league, bet_lines) in league_bet_lines.items():\n",
      "    league_profit_loss = 0.0\n",
      "    if not bet_lines:\n",
      "        continue\n",
      "    display(HTML('<h2>{0}</h2>'.format(league_name)))\n",
      "    for bet_line in bet_lines:\n",
      "        try:\n",
      "            match = bet_line.get_relevant_match(current_league, bets_start_date, bets_end_date)\n",
      "        except IndexError:\n",
      "            message_template = 'Data not available for match: {0} vs {1}'\n",
      "            message = message_template.format(bet_line.home, bet_line.away)\n",
      "            display(HTML(message))\n",
      "            continue\n",
      "        profit_loss = bet_line.get_profit_loss(match=match, commission=0.05)\n",
      "        league_profit_loss += profit_loss\n",
      "        display_bet_analysis(bet_line, match, current_league, profit_loss=profit_loss)\n",
      "    display(HTML('<h3>League profit/loss: {0}</h3>'.format(league_profit_loss)))\n",
      "    total_profit_loss += league_profit_loss\n",
      "display(HTML('<h2>Total profit/loss: {0}</h2>'.format(total_profit_loss)))"
     ],
     "language": "python",
     "metadata": {},
     "outputs": [
      {
       "html": [
        "<h2>championship</h2>"
       ],
       "metadata": {},
       "output_type": "display_data",
       "text": [
        "<IPython.core.display.HTML at 0x7f7b36dc4f98>"
       ]
      },
      {
       "html": [
        "<table><tr><th></th> <th>Brighton</th> <th>Bristol City</th></tr><tr><td>Goals</td> <td>2</td> <td>1</td></tr>\n",
        "<tr><td>Shots</td> <td>18</td> <td>8</td></tr>\n",
        "<tr><td>SOT</td> <td>6</td> <td>5</td></tr>\n",
        "<tr><td>Shots Scoreline</td> <td>1.6772834956567517</td> <td>0.7454593314030007</td></tr>\n",
        "<tr><td>SOT Scoreline</td> <td>1.7212317666126418</td> <td>1.4343598055105349</td></tr>\n",
        "<tr><td>Score-Shots Diff</td> <td>0.3227165043432483</td> <td>0.2545406685969993</td></tr>\n",
        "<tr><td>Score-Sots Diff</td> <td>0.27876823338735823</td> <td>0.4343598055105349</td></tr>\n",
        "<tr><td>Bet</td> <td>H</td> <td>H</td></tr>\n",
        "<tr><td>Profit/Loss</td> <td>0.8549999999999999</td> <td>0.8549999999999999</td></tr></table>"
       ],
       "metadata": {},
       "output_type": "display_data",
       "text": [
        "<IPython.core.display.HTML at 0x7f7b36dc4fd0>"
       ]
      },
      {
       "html": [
        "<table><tr><th></th> <th>Cardiff</th> <th>Middlesbrough</th></tr><tr><td>Goals</td> <td>1</td> <td>0</td></tr>\n",
        "<tr><td>Shots</td> <td>14</td> <td>17</td></tr>\n",
        "<tr><td>SOT</td> <td>5</td> <td>5</td></tr>\n",
        "<tr><td>Shots Scoreline</td> <td>1.3045538299552513</td> <td>1.5841010792313766</td></tr>\n",
        "<tr><td>SOT Scoreline</td> <td>1.4343598055105349</td> <td>1.4343598055105349</td></tr>\n",
        "<tr><td>Score-Shots Diff</td> <td>0.30455382995525127</td> <td>1.5841010792313766</td></tr>\n",
        "<tr><td>Score-Sots Diff</td> <td>0.4343598055105349</td> <td>1.4343598055105349</td></tr>\n",
        "<tr><td>Bet</td> <td>A</td> <td>A</td></tr>\n",
        "<tr><td>Profit/Loss</td> <td>-1.0</td> <td>-1.0</td></tr></table>"
       ],
       "metadata": {},
       "output_type": "display_data",
       "text": [
        "<IPython.core.display.HTML at 0x7f7b36dc4fd0>"
       ]
      },
      {
       "html": [
        "<table><tr><th></th> <th>Charlton</th> <th>Preston</th></tr><tr><td>Goals</td> <td>0</td> <td>3</td></tr>\n",
        "<tr><td>Shots</td> <td>8</td> <td>18</td></tr>\n",
        "<tr><td>SOT</td> <td>1</td> <td>5</td></tr>\n",
        "<tr><td>Shots Scoreline</td> <td>0.7454593314030007</td> <td>1.6772834956567517</td></tr>\n",
        "<tr><td>SOT Scoreline</td> <td>0.28687196110210694</td> <td>1.4343598055105349</td></tr>\n",
        "<tr><td>Score-Shots Diff</td> <td>0.7454593314030007</td> <td>1.3227165043432483</td></tr>\n",
        "<tr><td>Score-Sots Diff</td> <td>0.28687196110210694</td> <td>1.5656401944894651</td></tr>\n",
        "<tr><td>Bet</td> <td>D</td> <td>D</td></tr>\n",
        "<tr><td>Profit/Loss</td> <td>-1.0</td> <td>-1.0</td></tr></table>"
       ],
       "metadata": {},
       "output_type": "display_data",
       "text": [
        "<IPython.core.display.HTML at 0x7f7b36dc4fd0>"
       ]
      },
      {
       "html": [
        "<table><tr><th></th> <th>Huddersfield</th> <th>Milton Keynes Dons</th></tr><tr><td>Goals</td> <td>2</td> <td>0</td></tr>\n",
        "<tr><td>Shots</td> <td>9</td> <td>9</td></tr>\n",
        "<tr><td>SOT</td> <td>5</td> <td>1</td></tr>\n",
        "<tr><td>Shots Scoreline</td> <td>0.8386417478283759</td> <td>0.8386417478283759</td></tr>\n",
        "<tr><td>SOT Scoreline</td> <td>1.4343598055105349</td> <td>0.28687196110210694</td></tr>\n",
        "<tr><td>Score-Shots Diff</td> <td>1.1613582521716241</td> <td>0.8386417478283759</td></tr>\n",
        "<tr><td>Score-Sots Diff</td> <td>0.5656401944894651</td> <td>0.28687196110210694</td></tr>\n",
        "<tr><td>Bet</td> <td>D</td> <td>D</td></tr>\n",
        "<tr><td>Profit/Loss</td> <td>-1.0</td> <td>-1.0</td></tr></table>"
       ],
       "metadata": {},
       "output_type": "display_data",
       "text": [
        "<IPython.core.display.HTML at 0x7f7b36dc4fd0>"
       ]
      },
      {
       "html": [
        "<table><tr><th></th> <th>Hull</th> <th>Ipswich</th></tr><tr><td>Goals</td> <td>3</td> <td>0</td></tr>\n",
        "<tr><td>Shots</td> <td>15</td> <td>15</td></tr>\n",
        "<tr><td>SOT</td> <td>5</td> <td>2</td></tr>\n",
        "<tr><td>Shots Scoreline</td> <td>1.3977362463806264</td> <td>1.3977362463806264</td></tr>\n",
        "<tr><td>SOT Scoreline</td> <td>1.4343598055105349</td> <td>0.5737439222042139</td></tr>\n",
        "<tr><td>Score-Shots Diff</td> <td>1.6022637536193736</td> <td>1.3977362463806264</td></tr>\n",
        "<tr><td>Score-Sots Diff</td> <td>1.5656401944894651</td> <td>0.5737439222042139</td></tr>\n",
        "<tr><td>Bet</td> <td>D</td> <td>D</td></tr>\n",
        "<tr><td>Profit/Loss</td> <td>-1.0</td> <td>-1.0</td></tr></table>"
       ],
       "metadata": {},
       "output_type": "display_data",
       "text": [
        "<IPython.core.display.HTML at 0x7f7b36dc4fd0>"
       ]
      },
      {
       "html": [
        "<table><tr><th></th> <th>Nott'm Forest</th> <th>Burnley</th></tr><tr><td>Goals</td> <td>1</td> <td>1</td></tr>\n",
        "<tr><td>Shots</td> <td>12</td> <td>15</td></tr>\n",
        "<tr><td>SOT</td> <td>5</td> <td>2</td></tr>\n",
        "<tr><td>Shots Scoreline</td> <td>1.1181889971045011</td> <td>1.3977362463806264</td></tr>\n",
        "<tr><td>SOT Scoreline</td> <td>1.4343598055105349</td> <td>0.5737439222042139</td></tr>\n",
        "<tr><td>Score-Shots Diff</td> <td>0.11818899710450115</td> <td>0.39773624638062643</td></tr>\n",
        "<tr><td>Score-Sots Diff</td> <td>0.4343598055105349</td> <td>0.4262560777957861</td></tr>\n",
        "<tr><td>Bet</td> <td>D</td> <td>D</td></tr>\n",
        "<tr><td>Profit/Loss</td> <td>2.28</td> <td>2.28</td></tr></table>"
       ],
       "metadata": {},
       "output_type": "display_data",
       "text": [
        "<IPython.core.display.HTML at 0x7f7b36dc4fd0>"
       ]
      },
      {
       "html": [
        "<table><tr><th></th> <th>QPR</th> <th>Sheffield Weds</th></tr><tr><td>Goals</td> <td>0</td> <td>0</td></tr>\n",
        "<tr><td>Shots</td> <td>19</td> <td>6</td></tr>\n",
        "<tr><td>SOT</td> <td>2</td> <td>0</td></tr>\n",
        "<tr><td>Shots Scoreline</td> <td>1.7704659120821267</td> <td>0.5590944985522506</td></tr>\n",
        "<tr><td>SOT Scoreline</td> <td>0.5737439222042139</td> <td>0.0</td></tr>\n",
        "<tr><td>Score-Shots Diff</td> <td>1.7704659120821267</td> <td>0.5590944985522506</td></tr>\n",
        "<tr><td>Score-Sots Diff</td> <td>0.5737439222042139</td> <td>0.0</td></tr>\n",
        "<tr><td>Bet</td> <td>H</td> <td>H</td></tr>\n",
        "<tr><td>Profit/Loss</td> <td>-1.0</td> <td>-1.0</td></tr></table>"
       ],
       "metadata": {},
       "output_type": "display_data",
       "text": [
        "<IPython.core.display.HTML at 0x7f7b36dc4fd0>"
       ]
      },
      {
       "html": [
        "<table><tr><th></th> <th>Rotherham</th> <th>Reading</th></tr><tr><td>Goals</td> <td>1</td> <td>1</td></tr>\n",
        "<tr><td>Shots</td> <td>19</td> <td>17</td></tr>\n",
        "<tr><td>SOT</td> <td>6</td> <td>6</td></tr>\n",
        "<tr><td>Shots Scoreline</td> <td>1.7704659120821267</td> <td>1.5841010792313766</td></tr>\n",
        "<tr><td>SOT Scoreline</td> <td>1.7212317666126418</td> <td>1.7212317666126418</td></tr>\n",
        "<tr><td>Score-Shots Diff</td> <td>0.7704659120821267</td> <td>0.5841010792313766</td></tr>\n",
        "<tr><td>Score-Sots Diff</td> <td>0.7212317666126418</td> <td>0.7212317666126418</td></tr>\n",
        "<tr><td>Bet</td> <td>A</td> <td>A</td></tr>\n",
        "<tr><td>Profit/Loss</td> <td>-1.0</td> <td>-1.0</td></tr></table>"
       ],
       "metadata": {},
       "output_type": "display_data",
       "text": [
        "<IPython.core.display.HTML at 0x7f7b36dc4fd0>"
       ]
      },
      {
       "html": [
        "<table><tr><th></th> <th>Bolton</th> <th>Birmingham</th></tr><tr><td>Goals</td> <td>0</td> <td>1</td></tr>\n",
        "<tr><td>Shots</td> <td>16</td> <td>14</td></tr>\n",
        "<tr><td>SOT</td> <td>6</td> <td>8</td></tr>\n",
        "<tr><td>Shots Scoreline</td> <td>1.4909186628060014</td> <td>1.3045538299552513</td></tr>\n",
        "<tr><td>SOT Scoreline</td> <td>1.7212317666126418</td> <td>2.2949756888168555</td></tr>\n",
        "<tr><td>Score-Shots Diff</td> <td>1.4909186628060014</td> <td>0.30455382995525127</td></tr>\n",
        "<tr><td>Score-Sots Diff</td> <td>1.7212317666126418</td> <td>1.2949756888168555</td></tr>\n",
        "<tr><td>Bet</td> <td>D</td> <td>D</td></tr>\n",
        "<tr><td>Profit/Loss</td> <td>-1.0</td> <td>-1.0</td></tr></table>"
       ],
       "metadata": {},
       "output_type": "display_data",
       "text": [
        "<IPython.core.display.HTML at 0x7f7b36dc4fd0>"
       ]
      },
      {
       "html": [
        "<table><tr><th></th> <th>Blackburn</th> <th>Derby</th></tr><tr><td>Goals</td> <td>0</td> <td>0</td></tr>\n",
        "<tr><td>Shots</td> <td>10</td> <td>10</td></tr>\n",
        "<tr><td>SOT</td> <td>3</td> <td>1</td></tr>\n",
        "<tr><td>Shots Scoreline</td> <td>0.9318241642537509</td> <td>0.9318241642537509</td></tr>\n",
        "<tr><td>SOT Scoreline</td> <td>0.8606158833063209</td> <td>0.28687196110210694</td></tr>\n",
        "<tr><td>Score-Shots Diff</td> <td>0.9318241642537509</td> <td>0.9318241642537509</td></tr>\n",
        "<tr><td>Score-Sots Diff</td> <td>0.8606158833063209</td> <td>0.28687196110210694</td></tr>\n",
        "<tr><td>Bet</td> <td>D</td> <td>D</td></tr>\n",
        "<tr><td>Profit/Loss</td> <td>2.4225</td> <td>2.4225</td></tr></table>"
       ],
       "metadata": {},
       "output_type": "display_data",
       "text": [
        "<IPython.core.display.HTML at 0x7f7b36dc4fd0>"
       ]
      },
      {
       "html": [
        "<table><tr><th></th> <th>Fulham</th> <th>Leeds</th></tr><tr><td>Goals</td> <td>1</td> <td>1</td></tr>\n",
        "<tr><td>Shots</td> <td>11</td> <td>16</td></tr>\n",
        "<tr><td>SOT</td> <td>2</td> <td>8</td></tr>\n",
        "<tr><td>Shots Scoreline</td> <td>1.025006580679126</td> <td>1.4909186628060014</td></tr>\n",
        "<tr><td>SOT Scoreline</td> <td>0.5737439222042139</td> <td>2.2949756888168555</td></tr>\n",
        "<tr><td>Score-Shots Diff</td> <td>0.025006580679125978</td> <td>0.4909186628060014</td></tr>\n",
        "<tr><td>Score-Sots Diff</td> <td>0.4262560777957861</td> <td>1.2949756888168555</td></tr>\n",
        "<tr><td>Bet</td> <td>D</td> <td>D</td></tr>\n",
        "<tr><td>Profit/Loss</td> <td>2.5174999999999996</td> <td>2.5174999999999996</td></tr></table>"
       ],
       "metadata": {},
       "output_type": "display_data",
       "text": [
        "<IPython.core.display.HTML at 0x7f7b36dc4fd0>"
       ]
      },
      {
       "html": [
        "<table><tr><th></th> <th>Wolves</th> <th>Brentford</th></tr><tr><td>Goals</td> <td>0</td> <td>2</td></tr>\n",
        "<tr><td>Shots</td> <td>15</td> <td>15</td></tr>\n",
        "<tr><td>SOT</td> <td>3</td> <td>7</td></tr>\n",
        "<tr><td>Shots Scoreline</td> <td>1.3977362463806264</td> <td>1.3977362463806264</td></tr>\n",
        "<tr><td>SOT Scoreline</td> <td>0.8606158833063209</td> <td>2.0081037277147487</td></tr>\n",
        "<tr><td>Score-Shots Diff</td> <td>1.3977362463806264</td> <td>0.6022637536193736</td></tr>\n",
        "<tr><td>Score-Sots Diff</td> <td>0.8606158833063209</td> <td>0.008103727714748654</td></tr>\n",
        "<tr><td>Bet</td> <td>D</td> <td>D</td></tr>\n",
        "<tr><td>Profit/Loss</td> <td>-1.0</td> <td>-1.0</td></tr></table>"
       ],
       "metadata": {},
       "output_type": "display_data",
       "text": [
        "<IPython.core.display.HTML at 0x7f7b36dc4fd0>"
       ]
      },
      {
       "html": [
        "<h3>League profit/loss: 0.07499999999999929</h3>"
       ],
       "metadata": {},
       "output_type": "display_data",
       "text": [
        "<IPython.core.display.HTML at 0x7f7b36dc4f98>"
       ]
      },
      {
       "html": [
        "<h2>league-two</h2>"
       ],
       "metadata": {},
       "output_type": "display_data",
       "text": [
        "<IPython.core.display.HTML at 0x7f7b36dc4f98>"
       ]
      },
      {
       "html": [
        "<table><tr><th></th> <th>Accrington</th> <th>AFC Wimbledon</th></tr><tr><td>Goals</td> <td>3</td> <td>4</td></tr>\n",
        "<tr><td>Shots</td> <td>8</td> <td>12</td></tr>\n",
        "<tr><td>SOT</td> <td>7</td> <td>6</td></tr>\n",
        "<tr><td>Shots Scoreline</td> <td>1.0551724137931036</td> <td>1.5827586206896553</td></tr>\n",
        "<tr><td>SOT Scoreline</td> <td>2.265867418899859</td> <td>1.9421720733427363</td></tr>\n",
        "<tr><td>Score-Shots Diff</td> <td>1.9448275862068964</td> <td>2.4172413793103447</td></tr>\n",
        "<tr><td>Score-Sots Diff</td> <td>0.7341325811001411</td> <td>2.0578279266572634</td></tr>\n",
        "<tr><td>Bet</td> <td>D</td> <td>D</td></tr>\n",
        "<tr><td>Profit/Loss</td> <td>-1.0</td> <td>-1.0</td></tr></table>"
       ],
       "metadata": {},
       "output_type": "display_data",
       "text": [
        "<IPython.core.display.HTML at 0x7f7b36dc4fd0>"
       ]
      },
      {
       "html": [
        "<table><tr><th></th> <th>Bristol Rvs</th> <th>Notts County</th></tr><tr><td>Goals</td> <td>0</td> <td>0</td></tr>\n",
        "<tr><td>Shots</td> <td>14</td> <td>6</td></tr>\n",
        "<tr><td>SOT</td> <td>3</td> <td>0</td></tr>\n",
        "<tr><td>Shots Scoreline</td> <td>1.846551724137931</td> <td>0.7913793103448277</td></tr>\n",
        "<tr><td>SOT Scoreline</td> <td>0.9710860366713682</td> <td>0.0</td></tr>\n",
        "<tr><td>Score-Shots Diff</td> <td>1.846551724137931</td> <td>0.7913793103448277</td></tr>\n",
        "<tr><td>Score-Sots Diff</td> <td>0.9710860366713682</td> <td>0.0</td></tr>\n",
        "<tr><td>Bet</td> <td>H</td> <td>H</td></tr>\n",
        "<tr><td>Profit/Loss</td> <td>-1.0</td> <td>-1.0</td></tr></table>"
       ],
       "metadata": {},
       "output_type": "display_data",
       "text": [
        "<IPython.core.display.HTML at 0x7f7b36dc4fd0>"
       ]
      },
      {
       "html": [
        "<table><tr><th></th> <th>Hartlepool</th> <th>Barnet</th></tr><tr><td>Goals</td> <td>1</td> <td>1</td></tr>\n",
        "<tr><td>Shots</td> <td>7</td> <td>7</td></tr>\n",
        "<tr><td>SOT</td> <td>5</td> <td>4</td></tr>\n",
        "<tr><td>Shots Scoreline</td> <td>0.9232758620689655</td> <td>0.9232758620689655</td></tr>\n",
        "<tr><td>SOT Scoreline</td> <td>1.6184767277856136</td> <td>1.2947813822284908</td></tr>\n",
        "<tr><td>Score-Shots Diff</td> <td>0.0767241379310345</td> <td>0.0767241379310345</td></tr>\n",
        "<tr><td>Score-Sots Diff</td> <td>0.6184767277856136</td> <td>0.2947813822284908</td></tr>\n",
        "<tr><td>Bet</td> <td>A</td> <td>A</td></tr>\n",
        "<tr><td>Profit/Loss</td> <td>-1.0</td> <td>-1.0</td></tr></table>"
       ],
       "metadata": {},
       "output_type": "display_data",
       "text": [
        "<IPython.core.display.HTML at 0x7f7b36dc4fd0>"
       ]
      },
      {
       "html": [
        "<table><tr><th></th> <th>Luton</th> <th>Leyton Orient</th></tr><tr><td>Goals</td> <td>1</td> <td>1</td></tr>\n",
        "<tr><td>Shots</td> <td>11</td> <td>10</td></tr>\n",
        "<tr><td>SOT</td> <td>3</td> <td>5</td></tr>\n",
        "<tr><td>Shots Scoreline</td> <td>1.4508620689655174</td> <td>1.3189655172413794</td></tr>\n",
        "<tr><td>SOT Scoreline</td> <td>0.9710860366713682</td> <td>1.6184767277856136</td></tr>\n",
        "<tr><td>Score-Shots Diff</td> <td>0.4508620689655174</td> <td>0.31896551724137945</td></tr>\n",
        "<tr><td>Score-Sots Diff</td> <td>0.02891396332863183</td> <td>0.6184767277856136</td></tr>\n",
        "<tr><td>Bet</td> <td>A</td> <td>A</td></tr>\n",
        "<tr><td>Profit/Loss</td> <td>-1.0</td> <td>-1.0</td></tr></table>"
       ],
       "metadata": {},
       "output_type": "display_data",
       "text": [
        "<IPython.core.display.HTML at 0x7f7b36dc4fd0>"
       ]
      },
      {
       "html": [
        "<table><tr><th></th> <th>Morecambe</th> <th>Crawley Town</th></tr><tr><td>Goals</td> <td>3</td> <td>1</td></tr>\n",
        "<tr><td>Shots</td> <td>6</td> <td>9</td></tr>\n",
        "<tr><td>SOT</td> <td>6</td> <td>4</td></tr>\n",
        "<tr><td>Shots Scoreline</td> <td>0.7913793103448277</td> <td>1.1870689655172415</td></tr>\n",
        "<tr><td>SOT Scoreline</td> <td>1.9421720733427363</td> <td>1.2947813822284908</td></tr>\n",
        "<tr><td>Score-Shots Diff</td> <td>2.2086206896551723</td> <td>0.1870689655172415</td></tr>\n",
        "<tr><td>Score-Sots Diff</td> <td>1.0578279266572637</td> <td>0.2947813822284908</td></tr>\n",
        "<tr><td>Bet</td> <td>D</td> <td>D</td></tr>\n",
        "<tr><td>Profit/Loss</td> <td>-1.0</td> <td>-1.0</td></tr></table>"
       ],
       "metadata": {},
       "output_type": "display_data",
       "text": [
        "<IPython.core.display.HTML at 0x7f7b36dc4fd0>"
       ]
      },
      {
       "html": [
        "<table><tr><th></th> <th>Northampton</th> <th>Carlisle</th></tr><tr><td>Goals</td> <td>3</td> <td>2</td></tr>\n",
        "<tr><td>Shots</td> <td>15</td> <td>14</td></tr>\n",
        "<tr><td>SOT</td> <td>7</td> <td>4</td></tr>\n",
        "<tr><td>Shots Scoreline</td> <td>1.978448275862069</td> <td>1.846551724137931</td></tr>\n",
        "<tr><td>SOT Scoreline</td> <td>2.265867418899859</td> <td>1.2947813822284908</td></tr>\n",
        "<tr><td>Score-Shots Diff</td> <td>1.021551724137931</td> <td>0.153448275862069</td></tr>\n",
        "<tr><td>Score-Sots Diff</td> <td>0.7341325811001411</td> <td>0.7052186177715092</td></tr>\n",
        "<tr><td>Bet</td> <td>H</td> <td>H</td></tr>\n",
        "<tr><td>Profit/Loss</td> <td>1.007</td> <td>1.007</td></tr></table>"
       ],
       "metadata": {},
       "output_type": "display_data",
       "text": [
        "<IPython.core.display.HTML at 0x7f7b36dc4fd0>"
       ]
      },
      {
       "html": [
        "<table><tr><th></th> <th>Oxford</th> <th>Plymouth</th></tr><tr><td>Goals</td> <td>1</td> <td>0</td></tr>\n",
        "<tr><td>Shots</td> <td>7</td> <td>4</td></tr>\n",
        "<tr><td>SOT</td> <td>3</td> <td>1</td></tr>\n",
        "<tr><td>Shots Scoreline</td> <td>0.9232758620689655</td> <td>0.5275862068965518</td></tr>\n",
        "<tr><td>SOT Scoreline</td> <td>0.9710860366713682</td> <td>0.3236953455571227</td></tr>\n",
        "<tr><td>Score-Shots Diff</td> <td>0.0767241379310345</td> <td>0.5275862068965518</td></tr>\n",
        "<tr><td>Score-Sots Diff</td> <td>0.02891396332863183</td> <td>0.3236953455571227</td></tr>\n",
        "<tr><td>Bet</td> <td>H</td> <td>H</td></tr>\n",
        "<tr><td>Profit/Loss</td> <td>1.007</td> <td>1.007</td></tr></table>"
       ],
       "metadata": {},
       "output_type": "display_data",
       "text": [
        "<IPython.core.display.HTML at 0x7f7b36dc4fd0>"
       ]
      },
      {
       "html": [
        "<table><tr><th></th> <th>Portsmouth</th> <th>Stevenage</th></tr><tr><td>Goals</td> <td>1</td> <td>1</td></tr>\n",
        "<tr><td>Shots</td> <td>20</td> <td>6</td></tr>\n",
        "<tr><td>SOT</td> <td>7</td> <td>2</td></tr>\n",
        "<tr><td>Shots Scoreline</td> <td>2.637931034482759</td> <td>0.7913793103448277</td></tr>\n",
        "<tr><td>SOT Scoreline</td> <td>2.265867418899859</td> <td>0.6473906911142454</td></tr>\n",
        "<tr><td>Score-Shots Diff</td> <td>1.637931034482759</td> <td>0.20862068965517233</td></tr>\n",
        "<tr><td>Score-Sots Diff</td> <td>1.2658674188998589</td> <td>0.3526093088857546</td></tr>\n",
        "<tr><td>Bet</td> <td>H</td> <td>H</td></tr>\n",
        "<tr><td>Profit/Loss</td> <td>-1.0</td> <td>-1.0</td></tr></table>"
       ],
       "metadata": {},
       "output_type": "display_data",
       "text": [
        "<IPython.core.display.HTML at 0x7f7b36dc4fd0>"
       ]
      },
      {
       "html": [
        "<table><tr><th></th> <th>Wycombe</th> <th>Newport County</th></tr><tr><td>Goals</td> <td>0</td> <td>2</td></tr>\n",
        "<tr><td>Shots</td> <td>7</td> <td>4</td></tr>\n",
        "<tr><td>SOT</td> <td>4</td> <td>2</td></tr>\n",
        "<tr><td>Shots Scoreline</td> <td>0.9232758620689655</td> <td>0.5275862068965518</td></tr>\n",
        "<tr><td>SOT Scoreline</td> <td>1.2947813822284908</td> <td>0.6473906911142454</td></tr>\n",
        "<tr><td>Score-Shots Diff</td> <td>0.9232758620689655</td> <td>1.4724137931034482</td></tr>\n",
        "<tr><td>Score-Sots Diff</td> <td>1.2947813822284908</td> <td>1.3526093088857545</td></tr>\n",
        "<tr><td>Bet</td> <td>H</td> <td>H</td></tr>\n",
        "<tr><td>Profit/Loss</td> <td>-1.0</td> <td>-1.0</td></tr></table>"
       ],
       "metadata": {},
       "output_type": "display_data",
       "text": [
        "<IPython.core.display.HTML at 0x7f7b36dc4fd0>"
       ]
      },
      {
       "html": [
        "<table><tr><th></th> <th>Yeovil</th> <th>Mansfield</th></tr><tr><td>Goals</td> <td>0</td> <td>1</td></tr>\n",
        "<tr><td>Shots</td> <td>5</td> <td>7</td></tr>\n",
        "<tr><td>SOT</td> <td>0</td> <td>3</td></tr>\n",
        "<tr><td>Shots Scoreline</td> <td>0.6594827586206897</td> <td>0.9232758620689655</td></tr>\n",
        "<tr><td>SOT Scoreline</td> <td>0.0</td> <td>0.9710860366713682</td></tr>\n",
        "<tr><td>Score-Shots Diff</td> <td>0.6594827586206897</td> <td>0.0767241379310345</td></tr>\n",
        "<tr><td>Score-Sots Diff</td> <td>0.0</td> <td>0.02891396332863183</td></tr>\n",
        "<tr><td>Bet</td> <td>A</td> <td>A</td></tr>\n",
        "<tr><td>Profit/Loss</td> <td>1.064</td> <td>1.064</td></tr></table>"
       ],
       "metadata": {},
       "output_type": "display_data",
       "text": [
        "<IPython.core.display.HTML at 0x7f7b36dc4fd0>"
       ]
      },
      {
       "html": [
        "<table><tr><th></th> <th>York</th> <th>Dag and Red</th></tr><tr><td>Goals</td> <td>2</td> <td>2</td></tr>\n",
        "<tr><td>Shots</td> <td>10</td> <td>10</td></tr>\n",
        "<tr><td>SOT</td> <td>4</td> <td>5</td></tr>\n",
        "<tr><td>Shots Scoreline</td> <td>1.3189655172413794</td> <td>1.3189655172413794</td></tr>\n",
        "<tr><td>SOT Scoreline</td> <td>1.2947813822284908</td> <td>1.6184767277856136</td></tr>\n",
        "<tr><td>Score-Shots Diff</td> <td>0.6810344827586206</td> <td>0.6810344827586206</td></tr>\n",
        "<tr><td>Score-Sots Diff</td> <td>0.7052186177715092</td> <td>0.3815232722143864</td></tr>\n",
        "<tr><td>Bet</td> <td>D</td> <td>D</td></tr>\n",
        "<tr><td>Profit/Loss</td> <td>2.4699999999999998</td> <td>2.4699999999999998</td></tr></table>"
       ],
       "metadata": {},
       "output_type": "display_data",
       "text": [
        "<IPython.core.display.HTML at 0x7f7b36dc4fd0>"
       ]
      },
      {
       "html": [
        "<table><tr><th></th> <th>Exeter</th> <th>Cambridge</th></tr><tr><td>Goals</td> <td>1</td> <td>0</td></tr>\n",
        "<tr><td>Shots</td> <td>9</td> <td>9</td></tr>\n",
        "<tr><td>SOT</td> <td>4</td> <td>5</td></tr>\n",
        "<tr><td>Shots Scoreline</td> <td>1.1870689655172415</td> <td>1.1870689655172415</td></tr>\n",
        "<tr><td>SOT Scoreline</td> <td>1.2947813822284908</td> <td>1.6184767277856136</td></tr>\n",
        "<tr><td>Score-Shots Diff</td> <td>0.1870689655172415</td> <td>1.1870689655172415</td></tr>\n",
        "<tr><td>Score-Sots Diff</td> <td>0.2947813822284908</td> <td>1.6184767277856136</td></tr>\n",
        "<tr><td>Bet</td> <td>D</td> <td>D</td></tr>\n",
        "<tr><td>Profit/Loss</td> <td>-1.0</td> <td>-1.0</td></tr></table>"
       ],
       "metadata": {},
       "output_type": "display_data",
       "text": [
        "<IPython.core.display.HTML at 0x7f7b36dc4fd0>"
       ]
      },
      {
       "html": [
        "<h3>League profit/loss: -2.452000000000001</h3>"
       ],
       "metadata": {},
       "output_type": "display_data",
       "text": [
        "<IPython.core.display.HTML at 0x7f7b36dc4f98>"
       ]
      },
      {
       "html": [
        "<h2>league-one</h2>"
       ],
       "metadata": {},
       "output_type": "display_data",
       "text": [
        "<IPython.core.display.HTML at 0x7f7b36dc4f98>"
       ]
      },
      {
       "html": [
        "<table><tr><th></th> <th>Barnsley</th> <th>Walsall</th></tr><tr><td>Goals</td> <td>0</td> <td>2</td></tr>\n",
        "<tr><td>Shots</td> <td>10</td> <td>10</td></tr>\n",
        "<tr><td>SOT</td> <td>3</td> <td>5</td></tr>\n",
        "<tr><td>Shots Scoreline</td> <td>1.2408759124087592</td> <td>1.2408759124087592</td></tr>\n",
        "<tr><td>SOT Scoreline</td> <td>0.9285714285714286</td> <td>1.5476190476190477</td></tr>\n",
        "<tr><td>Score-Shots Diff</td> <td>1.2408759124087592</td> <td>0.7591240875912408</td></tr>\n",
        "<tr><td>Score-Sots Diff</td> <td>0.9285714285714286</td> <td>0.45238095238095233</td></tr>\n",
        "<tr><td>Bet</td> <td>A</td> <td>A</td></tr>\n",
        "<tr><td>Profit/Loss</td> <td>1.7679499999999997</td> <td>1.7679499999999997</td></tr></table>"
       ],
       "metadata": {},
       "output_type": "display_data",
       "text": [
        "<IPython.core.display.HTML at 0x7f7b36dc4fd0>"
       ]
      },
      {
       "html": [
        "<table><tr><th></th> <th>Blackpool</th> <th>Millwall</th></tr><tr><td>Goals</td> <td>1</td> <td>1</td></tr>\n",
        "<tr><td>Shots</td> <td>7</td> <td>8</td></tr>\n",
        "<tr><td>SOT</td> <td>3</td> <td>3</td></tr>\n",
        "<tr><td>Shots Scoreline</td> <td>0.8686131386861314</td> <td>0.9927007299270073</td></tr>\n",
        "<tr><td>SOT Scoreline</td> <td>0.9285714285714286</td> <td>0.9285714285714286</td></tr>\n",
        "<tr><td>Score-Shots Diff</td> <td>0.13138686131386856</td> <td>0.007299270072992692</td></tr>\n",
        "<tr><td>Score-Sots Diff</td> <td>0.0714285714285714</td> <td>0.0714285714285714</td></tr>\n",
        "<tr><td>Bet</td> <td>A</td> <td>A</td></tr>\n",
        "<tr><td>Profit/Loss</td> <td>-1.0</td> <td>-1.0</td></tr></table>"
       ],
       "metadata": {},
       "output_type": "display_data",
       "text": [
        "<IPython.core.display.HTML at 0x7f7b36dc4fd0>"
       ]
      },
      {
       "html": [
        "<table><tr><th></th> <th>Bradford</th> <th>Bury</th></tr><tr><td>Goals</td> <td>2</td> <td>1</td></tr>\n",
        "<tr><td>Shots</td> <td>9</td> <td>6</td></tr>\n",
        "<tr><td>SOT</td> <td>3</td> <td>3</td></tr>\n",
        "<tr><td>Shots Scoreline</td> <td>1.1167883211678833</td> <td>0.7445255474452555</td></tr>\n",
        "<tr><td>SOT Scoreline</td> <td>0.9285714285714286</td> <td>0.9285714285714286</td></tr>\n",
        "<tr><td>Score-Shots Diff</td> <td>0.8832116788321167</td> <td>0.25547445255474455</td></tr>\n",
        "<tr><td>Score-Sots Diff</td> <td>1.0714285714285714</td> <td>0.0714285714285714</td></tr>\n",
        "<tr><td>Bet</td> <td>D</td> <td>D</td></tr>\n",
        "<tr><td>Profit/Loss</td> <td>-1.0</td> <td>-1.0</td></tr></table>"
       ],
       "metadata": {},
       "output_type": "display_data",
       "text": [
        "<IPython.core.display.HTML at 0x7f7b36dc4fd0>"
       ]
      },
      {
       "html": [
        "<table><tr><th></th> <th>Burton</th> <th>Crewe</th></tr><tr><td>Goals</td> <td>0</td> <td>0</td></tr>\n",
        "<tr><td>Shots</td> <td>24</td> <td>5</td></tr>\n",
        "<tr><td>SOT</td> <td>7</td> <td>1</td></tr>\n",
        "<tr><td>Shots Scoreline</td> <td>2.978102189781022</td> <td>0.6204379562043796</td></tr>\n",
        "<tr><td>SOT Scoreline</td> <td>2.1666666666666665</td> <td>0.30952380952380953</td></tr>\n",
        "<tr><td>Score-Shots Diff</td> <td>2.978102189781022</td> <td>0.6204379562043796</td></tr>\n",
        "<tr><td>Score-Sots Diff</td> <td>2.1666666666666665</td> <td>0.30952380952380953</td></tr>\n",
        "<tr><td>Bet</td> <td>H</td> <td>H</td></tr>\n",
        "<tr><td>Profit/Loss</td> <td>-1.0</td> <td>-1.0</td></tr></table>"
       ],
       "metadata": {},
       "output_type": "display_data",
       "text": [
        "<IPython.core.display.HTML at 0x7f7b36dc4fd0>"
       ]
      },
      {
       "html": [
        "<table><tr><th></th> <th>Chesterfield</th> <th>Southend</th></tr><tr><td>Goals</td> <td>3</td> <td>0</td></tr>\n",
        "<tr><td>Shots</td> <td>20</td> <td>15</td></tr>\n",
        "<tr><td>SOT</td> <td>10</td> <td>4</td></tr>\n",
        "<tr><td>Shots Scoreline</td> <td>2.4817518248175183</td> <td>1.8613138686131387</td></tr>\n",
        "<tr><td>SOT Scoreline</td> <td>3.0952380952380953</td> <td>1.2380952380952381</td></tr>\n",
        "<tr><td>Score-Shots Diff</td> <td>0.5182481751824817</td> <td>1.8613138686131387</td></tr>\n",
        "<tr><td>Score-Sots Diff</td> <td>0.09523809523809534</td> <td>1.2380952380952381</td></tr>\n",
        "<tr><td>Bet</td> <td>D</td> <td>D</td></tr>\n",
        "<tr><td>Profit/Loss</td> <td>-1.0</td> <td>-1.0</td></tr></table>"
       ],
       "metadata": {},
       "output_type": "display_data",
       "text": [
        "<IPython.core.display.HTML at 0x7f7b36dc4fd0>"
       ]
      },
      {
       "html": [
        "<table><tr><th></th> <th>Colchester</th> <th>Port Vale</th></tr><tr><td>Goals</td> <td>2</td> <td>1</td></tr>\n",
        "<tr><td>Shots</td> <td>15</td> <td>9</td></tr>\n",
        "<tr><td>SOT</td> <td>8</td> <td>5</td></tr>\n",
        "<tr><td>Shots Scoreline</td> <td>1.8613138686131387</td> <td>1.1167883211678833</td></tr>\n",
        "<tr><td>SOT Scoreline</td> <td>2.4761904761904763</td> <td>1.5476190476190477</td></tr>\n",
        "<tr><td>Score-Shots Diff</td> <td>0.13868613138686126</td> <td>0.11678832116788329</td></tr>\n",
        "<tr><td>Score-Sots Diff</td> <td>0.4761904761904763</td> <td>0.5476190476190477</td></tr>\n",
        "<tr><td>Bet</td> <td>H</td> <td>H</td></tr>\n",
        "<tr><td>Profit/Loss</td> <td>1.3679999999999999</td> <td>1.3679999999999999</td></tr></table>"
       ],
       "metadata": {},
       "output_type": "display_data",
       "text": [
        "<IPython.core.display.HTML at 0x7f7b36dc4fd0>"
       ]
      },
      {
       "html": [
        "<table><tr><th></th> <th>Gillingham</th> <th>Scunthorpe</th></tr><tr><td>Goals</td> <td>2</td> <td>1</td></tr>\n",
        "<tr><td>Shots</td> <td>5</td> <td>14</td></tr>\n",
        "<tr><td>SOT</td> <td>2</td> <td>4</td></tr>\n",
        "<tr><td>Shots Scoreline</td> <td>0.6204379562043796</td> <td>1.7372262773722629</td></tr>\n",
        "<tr><td>SOT Scoreline</td> <td>0.6190476190476191</td> <td>1.2380952380952381</td></tr>\n",
        "<tr><td>Score-Shots Diff</td> <td>1.3795620437956204</td> <td>0.7372262773722629</td></tr>\n",
        "<tr><td>Score-Sots Diff</td> <td>1.380952380952381</td> <td>0.23809523809523814</td></tr>\n",
        "<tr><td>Bet</td> <td>D</td> <td>D</td></tr>\n",
        "<tr><td>Profit/Loss</td> <td>-1.0</td> <td>-1.0</td></tr></table>"
       ],
       "metadata": {},
       "output_type": "display_data",
       "text": [
        "<IPython.core.display.HTML at 0x7f7b36dc4fd0>"
       ]
      },
      {
       "html": [
        "<table><tr><th></th> <th>Peterboro</th> <th>Wigan</th></tr><tr><td>Goals</td> <td>2</td> <td>3</td></tr>\n",
        "<tr><td>Shots</td> <td>16</td> <td>12</td></tr>\n",
        "<tr><td>SOT</td> <td>4</td> <td>6</td></tr>\n",
        "<tr><td>Shots Scoreline</td> <td>1.9854014598540146</td> <td>1.489051094890511</td></tr>\n",
        "<tr><td>SOT Scoreline</td> <td>1.2380952380952381</td> <td>1.8571428571428572</td></tr>\n",
        "<tr><td>Score-Shots Diff</td> <td>0.014598540145985384</td> <td>1.510948905109489</td></tr>\n",
        "<tr><td>Score-Sots Diff</td> <td>0.7619047619047619</td> <td>1.1428571428571428</td></tr>\n",
        "<tr><td>Bet</td> <td>A</td> <td>A</td></tr>\n",
        "<tr><td>Profit/Loss</td> <td>1.482</td> <td>1.482</td></tr></table>"
       ],
       "metadata": {},
       "output_type": "display_data",
       "text": [
        "<IPython.core.display.HTML at 0x7f7b36dc4fd0>"
       ]
      },
      {
       "html": [
        "<table><tr><th></th> <th>Rochdale</th> <th>Coventry</th></tr><tr><td>Goals</td> <td>0</td> <td>0</td></tr>\n",
        "<tr><td>Shots</td> <td>14</td> <td>9</td></tr>\n",
        "<tr><td>SOT</td> <td>4</td> <td>4</td></tr>\n",
        "<tr><td>Shots Scoreline</td> <td>1.7372262773722629</td> <td>1.1167883211678833</td></tr>\n",
        "<tr><td>SOT Scoreline</td> <td>1.2380952380952381</td> <td>1.2380952380952381</td></tr>\n",
        "<tr><td>Score-Shots Diff</td> <td>1.7372262773722629</td> <td>1.1167883211678833</td></tr>\n",
        "<tr><td>Score-Sots Diff</td> <td>1.2380952380952381</td> <td>1.2380952380952381</td></tr>\n",
        "<tr><td>Bet</td> <td>A</td> <td>A</td></tr>\n",
        "<tr><td>Profit/Loss</td> <td>-1.0</td> <td>-1.0</td></tr></table>"
       ],
       "metadata": {},
       "output_type": "display_data",
       "text": [
        "<IPython.core.display.HTML at 0x7f7b36dc4fd0>"
       ]
      },
      {
       "html": [
        "<table><tr><th></th> <th>Sheffield United</th> <th>Fleetwood Town</th></tr><tr><td>Goals</td> <td>3</td> <td>0</td></tr>\n",
        "<tr><td>Shots</td> <td>8</td> <td>6</td></tr>\n",
        "<tr><td>SOT</td> <td>4</td> <td>1</td></tr>\n",
        "<tr><td>Shots Scoreline</td> <td>0.9927007299270073</td> <td>0.7445255474452555</td></tr>\n",
        "<tr><td>SOT Scoreline</td> <td>1.2380952380952381</td> <td>0.30952380952380953</td></tr>\n",
        "<tr><td>Score-Shots Diff</td> <td>2.0072992700729926</td> <td>0.7445255474452555</td></tr>\n",
        "<tr><td>Score-Sots Diff</td> <td>1.7619047619047619</td> <td>0.30952380952380953</td></tr>\n",
        "<tr><td>Bet</td> <td>D</td> <td>D</td></tr>\n",
        "<tr><td>Profit/Loss</td> <td>-1.0</td> <td>-1.0</td></tr></table>"
       ],
       "metadata": {},
       "output_type": "display_data",
       "text": [
        "<IPython.core.display.HTML at 0x7f7b36dc4fd0>"
       ]
      },
      {
       "html": [
        "<table><tr><th></th> <th>Shrewsbury</th> <th>Doncaster</th></tr><tr><td>Goals</td> <td>1</td> <td>2</td></tr>\n",
        "<tr><td>Shots</td> <td>12</td> <td>9</td></tr>\n",
        "<tr><td>SOT</td> <td>3</td> <td>4</td></tr>\n",
        "<tr><td>Shots Scoreline</td> <td>1.489051094890511</td> <td>1.1167883211678833</td></tr>\n",
        "<tr><td>SOT Scoreline</td> <td>0.9285714285714286</td> <td>1.2380952380952381</td></tr>\n",
        "<tr><td>Score-Shots Diff</td> <td>0.4890510948905109</td> <td>0.8832116788321167</td></tr>\n",
        "<tr><td>Score-Sots Diff</td> <td>0.0714285714285714</td> <td>0.7619047619047619</td></tr>\n",
        "<tr><td>Bet</td> <td>H</td> <td>H</td></tr>\n",
        "<tr><td>Profit/Loss</td> <td>-1.0</td> <td>-1.0</td></tr></table>"
       ],
       "metadata": {},
       "output_type": "display_data",
       "text": [
        "<IPython.core.display.HTML at 0x7f7b36dc4fd0>"
       ]
      },
      {
       "html": [
        "<table><tr><th></th> <th>Swindon</th> <th>Oldham</th></tr><tr><td>Goals</td> <td>1</td> <td>2</td></tr>\n",
        "<tr><td>Shots</td> <td>13</td> <td>12</td></tr>\n",
        "<tr><td>SOT</td> <td>4</td> <td>5</td></tr>\n",
        "<tr><td>Shots Scoreline</td> <td>1.613138686131387</td> <td>1.489051094890511</td></tr>\n",
        "<tr><td>SOT Scoreline</td> <td>1.2380952380952381</td> <td>1.5476190476190477</td></tr>\n",
        "<tr><td>Score-Shots Diff</td> <td>0.613138686131387</td> <td>0.5109489051094891</td></tr>\n",
        "<tr><td>Score-Sots Diff</td> <td>0.23809523809523814</td> <td>0.45238095238095233</td></tr>\n",
        "<tr><td>Bet</td> <td>A</td> <td>A</td></tr>\n",
        "<tr><td>Profit/Loss</td> <td>1.539</td> <td>1.539</td></tr></table>"
       ],
       "metadata": {},
       "output_type": "display_data",
       "text": [
        "<IPython.core.display.HTML at 0x7f7b36dc4fd0>"
       ]
      },
      {
       "html": [
        "<h3>League profit/loss: -1.8430500000000005</h3>"
       ],
       "metadata": {},
       "output_type": "display_data",
       "text": [
        "<IPython.core.display.HTML at 0x7f7b36dc4f98>"
       ]
      },
      {
       "html": [
        "<h2>Total profit/loss: -4.220050000000002</h2>"
       ],
       "metadata": {},
       "output_type": "display_data",
       "text": [
        "<IPython.core.display.HTML at 0x7f7b36dc4fd0>"
       ]
      }
     ],
     "prompt_number": 28
    },
    {
     "cell_type": "code",
     "collapsed": false,
     "input": [],
     "language": "python",
     "metadata": {},
     "outputs": [],
     "prompt_number": 28
    }
   ],
   "metadata": {}
  }
 ]
}