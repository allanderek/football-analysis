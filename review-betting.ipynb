{
 "metadata": {
  "name": "",
  "signature": "sha256:9eec56d1e9797eee3ba1023be02070ea0463b1cacde6cc36dc99da9ff6ec7d6d"
 },
 "nbformat": 3,
 "nbformat_minor": 0,
 "worksheets": [
  {
   "cells": [
    {
     "cell_type": "code",
     "collapsed": false,
     "input": [
      "bets_text = \"\"\"\n",
      "League Two:\n",
      "Bristol Rovers v Barnet: 1 - 1, 7.0\n",
      "Cambridge Utd v Crawley Town: 2 - 0, 8.2\n",
      "Carlisle v AFC Wimbledon: 1 - 2, 11.5\n",
      "Exeter v York City: 1 - 2, 12.0\n",
      "Mansfield v Oxford Utd: 1 - 2, 10.0\n",
      "Newport County v Leyton Orient: 1 - 1, 7.6\n",
      "Northampton v Plymouth: 2 - 0, 11.5\n",
      "Notts Co v Accrington S: 0 - 0, 10.5\n",
      "Portsmouth v Morecambe: 2 - 1, 8.8\n",
      "Stevenage v Hartlepool: 2 - 1, 9.4\n",
      "Wycombe v Dag and Red: 2 - 1, 10.0\n",
      "Yeovil v Luton: 1 - 0, 11.0\n",
      "\n",
      "League One:\n",
      "Barnsley v Bradford: 0 - 0, 10.5\n",
      "Burton v Peterborough: 3 - 1, 21.0\n",
      "Chesterfield v Rochdale: 2 - 1, 9.4\n",
      "Crewe v Bury: 1 - 3, 18.0\n",
      "Fleetwood Town v Colchester: 1 - 2, 13.5\n",
      "Gillingham v Wigan: 2 - 2, 15.0\n",
      "Oldham v Shrewsbury: 0 - 0, 10.0\n",
      "Port Vale v Doncaster: 0 - 0, 10.0\n",
      "Scunthorpe v Millwall: 1 - 2, 12.0\n",
      "Sheff Utd v Blackpool: 2 - 1, 9.0\n",
      "Southend v Swindon: 1 - 2, 12.0\n",
      "Walsall v Coventry: 2 - 2, 16.0\n",
      "\n",
      "Championship:\n",
      "Birmingham v Derby: 0 - 2, 14.5\n",
      "\n",
      "Leeds v Sheff Wed: 1 - 1, 7.2\n",
      "Bolton v Nottm Forest: 1 - 2, 11.0\n",
      "Brighton v Blackburn: 2 - 1, 10.5\n",
      "Burnley v Brentford: 1 - 2, 12.0\n",
      "Charlton v Hull: 0 - 2, 10.0\n",
      "Fulham v Huddersfield: 2 - 0, 13.6925\n",
      "Middlesbrough v Bristol City: 2 - 1, 9.8\n",
      "Preston v Ipswich: 2 - 1, 11.0\n",
      "QPR v Rotherham: 2 - 0, 9.0\n",
      "Reading v MK Dons: 2 - 1, 10.0\n",
      "Cardiff v Wolves: 1 - 1, 7.2\n",
      "\n",
      "Premiership:\n",
      "Man Utd v Newcastle: 3 - 0, 10.5\n",
      "C Palace v Aston Villa: 2 - 0, 9.8\n",
      "Leicester v Tottenham: 1 - 1, 7.66\n",
      "Norwich v Stoke: 2 - 1, 11.5\n",
      "Sunderland v Swansea: 0 - 2, 10.5\n",
      "West Ham v Bournemouth: 1 - 2, 12.2925\n",
      "\n",
      "West Brom v Chelsea: 0 - 2, 8.0\n",
      "Everton v Man City: 0 - 2, 10.5\n",
      "Watford v Southampton: 2 - 2, 17.0\n",
      "\n",
      "\n",
      "Scottish Premiership:\n",
      "Dundee Utd v Celtic: 1 - 3, 12.5\n",
      "Aberdeen v Dundee: 2 - 1, 9.0\n",
      "Inverness CT v Hamilton: 0 - 2, 18.0\n",
      "Hearts v Partick: 2 - 1, 9.6\n",
      "Kilmarnock v Ross Co: 1 - 3, 23.0\n",
      "St Johnstone v Motherwell: 0 - 2, 20.0\n",
      "\"\"\"\n",
      "bets_start_date = \"21/08/2015\"\n",
      "bets_end_date = \"24/08/2015\""
     ],
     "language": "python",
     "metadata": {},
     "outputs": [],
     "prompt_number": 1
    },
    {
     "cell_type": "code",
     "collapsed": false,
     "input": [
      "bets_text = \"\"\"\n",
      "Scottish Premiership:\n",
      "Celtic v St Johnstone: 3 - 0, 8.331\n",
      "Dundee v Inverness CT: 2 - 0, 11.0725\n",
      "Hamilton v Hearts: 0 - 2, 12.18\n",
      "Motherwell v Kilmarnock: 2 - 0, 10.0\n",
      "Partick v Aberdeen: 1 - 2, 9.235999999999999\n",
      "Ross Co v Dundee Utd: 1 - 0, 9.2\n",
      "\n",
      "League Two:\n",
      "AFC Wimbledon v Exeter: 2 - 1, 9.912\n",
      "Accrington S v Northampton: 1 - 2, 10.08\n",
      "Barnet v Cambridge Utd: 1 - 1, 6.8\n",
      "Dag and Red v Stevenage: 2 - 1, 12.5625\n",
      "Crawley Town v Wycombe: 0 - 1, 8.2\n",
      "Hartlepool v Carlisle: 1 - 1, 6.6\n",
      "Leyton Orient v Bristol Rovers: 1 - 2, 14.055\n",
      "Luton v Portsmouth: 0 - 2, 14.105\n",
      "Morecambe v Notts Co: 2 - 1, 10.08\n",
      "Oxford Utd v Yeovil: 2 - 0, 7.8\n",
      "Plymouth v Newport County: 2 - 1, 9.235999999999999\n",
      "York City v Mansfield: 1 - 1, 7.0\n",
      "\n",
      "League One:\n",
      "Blackpool v Walsall: 1 - 3, 18.5\n",
      "Bradford v Port Vale: 0 - 1, 10.5\n",
      "Bury v Oldham: 2 - 0, 10.15\n",
      "Colchester v Scunthorpe: 2 - 0, 16.0475\n",
      "Doncaster v Fleetwood Town: 1 - 2, 13.5575\n",
      "Millwall v Chesterfield: 1 - 2, 11.135\n",
      "Peterborough v Gillingham: 1 - 1, 7.093999999999999\n",
      "Rochdale v Barnsley: 2 - 0, 10.575\n",
      "Shrewsbury v Burton: 1 - 2, 13.06\n",
      "Swindon v Sheff Utd: 2 - 0, 17.045\n",
      "Wigan v Crewe: 1 - 0, 7.29\n",
      "Coventry v Southend: 2 - 1, 10.0\n",
      "\n",
      "Championship:\n",
      "Blackburn v Bolton: 1 - 0, 8.8\n",
      "\n",
      "Derby v Leeds: 2 - 1, 9.8\n",
      "Brentford v Reading: 1 - 2, 13.0\n",
      "Bristol City v Burnley: 1 - 0, 8.638\n",
      "Huddersfield v QPR: 1 - 1, 7.093999999999999\n",
      "Hull v Preston: 0 - 1, 11.0\n",
      "Ipswich v Brighton: 1 - 1, 6.8\n",
      "MK Dons v Birmingham: 1 - 1, 7.29\n",
      "Nottm Forest v Cardiff: 0 - 1, 10.5\n",
      "Rotherham v Fulham: 1 - 1, 7.047999999999999\n",
      "Sheff Wed v Middlesbrough: 0 - 2, 10.5\n",
      "Wolves v Charlton: 1 - 1, 7.176\n",
      "\n",
      "Premiership:\n",
      "Newcastle v Arsenal: 1 - 3, 15.5\n",
      "Aston Villa v Sunderland: 1 - 1, 8.0\n",
      "Bournemouth v Leicester: 2 - 1, 10.0\n",
      "Chelsea v C Palace: 2 - 1, 9.8\n",
      "Liverpool v West Ham: 4 - 0, 18.0\n",
      "Man City v Watford: 3 - 1, 11.5\n",
      "Stoke v West Brom: 2 - 1, 10.0\n",
      "Tottenham v Everton: 2 - 0, 12.0\n",
      "Southampton v Norwich: 1 - 1, 7.4\n",
      "Swansea v Man Utd: 1 - 2, 10.5\n",
      "\"\"\"\n",
      "bets_start_date = \"28/08/2015\"\n",
      "bets_end_date = \"31/08/2015\""
     ],
     "language": "python",
     "metadata": {},
     "outputs": [],
     "prompt_number": 2
    },
    {
     "cell_type": "code",
     "collapsed": false,
     "input": [
      "bets_text = \"\"\"\n",
      "Scottish Premiership:\n",
      "Inverness CT v Hearts: Hearts, 2.5\n",
      "\n",
      "Aberdeen v Celtic: Celtic, 1.95\n",
      "Dundee Utd v Kilmarnock: Dundee Utd, 1.81\n",
      "Motherwell v Ross Co: Ross Co, 2.66\n",
      "Partick v Dundee: The Draw, 3.4\n",
      "St Johnstone v Hamilton: Hamilton, 3.45\n",
      "\n",
      "Championship:\n",
      "Reading v Ipswich: Reading, 2.3\n",
      "\n",
      "QPR v Nottm Forest: The Draw, 3.8\n",
      "Birmingham v Bristol City: The Draw, 3.5\n",
      "Bolton v Wolves: The Draw, 3.4\n",
      "Brighton v Hull: Brighton, 2.7\n",
      "Burnley v Sheff Wed: Sheff Wed, 4.3\n",
      "Cardiff v Huddersfield: The Draw, 3.5\n",
      "Charlton v Rotherham: The Draw, 3.55125\n",
      "Leeds v Brentford: The Draw, 3.5\n",
      "Middlesbrough v MK Dons: Middlesbrough, 1.6\n",
      "Preston v Derby: Preston, 2.7746000000000004\n",
      "\n",
      "Fulham v Blackburn: Blackburn, 2.96\n",
      "\n",
      "Premiership:\n",
      "Everton v Chelsea: The Draw, 3.6\n",
      "Arsenal v Stoke: Arsenal, 1.31\n",
      "C Palace v Man City: Man City, 1.67\n",
      "Norwich v Bournemouth: The Draw, 3.5\n",
      "Watford v Swansea: The Draw, 3.4\n",
      "West Brom v Southampton: Southampton, 2.52\n",
      "Man Utd v Liverpool: Man Utd, 2.0\n",
      "\n",
      "Sunderland v Tottenham: Tottenham, 1.95\n",
      "Leicester v Aston Villa: The Draw, 3.75\n",
      "\n",
      "League One:\n",
      "Barnsley v Swindon: The Draw, 3.6\n",
      "Burton v Rochdale: The Draw, 3.35\n",
      "Chesterfield v Colchester: Colchester, 5.2\n",
      "Crewe v Millwall: The Draw, 3.55\n",
      "Fleetwood Town v Bradford: Fleetwood Town, 3.0\n",
      "Gillingham v Blackpool: Gillingham, 1.65\n",
      "Oldham v Peterborough: Peterborough, 2.82\n",
      "Port Vale v Wigan: The Draw, 3.4\n",
      "Scunthorpe v Coventry: Coventry, 2.6\n",
      "Sheff Utd v Bury: The Draw, 3.7\n",
      "Southend v Shrewsbury: Southend, 2.2\n",
      "Walsall v Doncaster: Walsall, 1.97\n",
      "\"\"\"\n",
      "bets_start_date = \"11/09/2015\"\n",
      "bets_end_date = \"13/09/2015\""
     ],
     "language": "python",
     "metadata": {},
     "outputs": [],
     "prompt_number": 3
    },
    {
     "cell_type": "code",
     "collapsed": false,
     "input": [
      "bets_text = \"\"\"\n",
      "Scottish Premiership:\n",
      "Aberdeen v Hamilton: The Draw, 4.846500000000001\n",
      "\n",
      "League One:\n",
      "Port Vale v Millwall: Port Vale, 2.36\n",
      "Sheff Utd v Colchester: Colchester, 5.6\n",
      "\n",
      "Championship:\n",
      "Birmingham v Nottm Forest: The Draw, 3.6\n",
      "Brighton v Rotherham: Brighton, 1.62\n",
      "Burnley v MK Dons: MK Dons, 5.9\n",
      "Cardiff v Hull: The Draw, 3.3\n",
      "Charlton v Huddersfield: The Draw, 3.45\n",
      "Leeds v Ipswich: The Draw, 3.4\n",
      "Middlesbrough v Brentford: Middlesbrough, 1.62\n",
      "Preston v Bristol City: Preston, 2.36\n",
      "Bolton v Sheff Wed: The Draw, 3.5\n",
      "Reading v Derby: Reading, 2.52\n",
      "\"\"\"\n",
      "bets_start_date = \"15/09/2015\"\n",
      "bets_end_date = \"15/09/2015\""
     ],
     "language": "python",
     "metadata": {},
     "outputs": [],
     "prompt_number": 4
    },
    {
     "cell_type": "code",
     "collapsed": false,
     "input": [
      "bets_text = \"\"\"\n",
      "Scottish Premiership:\n",
      "Dundee Utd v Inverness CT: Dundee Utd, 2.4637000000000002\n",
      "Hamilton v Motherwell: Hamilton, 2.34\n",
      "Kilmarnock v St Johnstone: St Johnstone, 2.18\n",
      "Ross Co v Partick: Ross Co, 2.12\n",
      "\n",
      "Hearts v Aberdeen: The Draw, 3.4\n",
      "Celtic v Dundee: Celtic, 1.25\n",
      "\n",
      "Championship:\n",
      "Ipswich v Birmingham: The Draw, 3.7\n",
      "\n",
      "Nottm Forest v Middlesbrough: Nottm Forest, 3.9\n",
      "Blackburn v Charlton: Blackburn, 2.0\n",
      "Brentford v Preston: The Draw, 3.4\n",
      "Bristol City v Reading: Reading, 2.9799\n",
      "Huddersfield v Bolton: Huddersfield, 2.28\n",
      "Hull v QPR: Hull, 1.96\n",
      "MK Dons v Leeds: The Draw, 3.45\n",
      "Rotherham v Cardiff: Cardiff, 2.54\n",
      "Sheff Wed v Fulham: The Draw, 3.6\n",
      "Wolves v Brighton: Brighton, 3.05\n",
      "\n",
      "Premiership:\n",
      "Chelsea v Arsenal: The Draw, 3.55\n",
      "Aston Villa v West Brom: The Draw, 3.3\n",
      "Bournemouth v Sunderland: The Draw, 4.0\n",
      "Newcastle v Watford: Watford, 3.1\n",
      "Stoke v Leicester: Leicester, 3.15\n",
      "Swansea v Everton: The Draw, 3.45\n",
      "Man City v West Ham: Man City, 1.29\n",
      "\n",
      "Tottenham v C Palace: Tottenham, 2.04\n",
      "Liverpool v Norwich: The Draw, 4.0\n",
      "Southampton v Man Utd: Southampton, 3.25\n",
      "\"\"\"\n",
      "bets_start_date = \"18/09/2015\"\n",
      "bets_end_date = \"21/09/2015\""
     ],
     "language": "python",
     "metadata": {},
     "outputs": [],
     "prompt_number": 5
    },
    {
     "cell_type": "code",
     "collapsed": false,
     "input": [
      "import blog.posts.league_analysis as league_analysis\n",
      "from IPython.display import display, HTML"
     ],
     "language": "python",
     "metadata": {},
     "outputs": [],
     "prompt_number": 6
    },
    {
     "cell_type": "code",
     "collapsed": false,
     "input": [
      "def display_bet_analysis(bet_line, match, league):\n",
      "    # So this is the number of goals we would have expected the team to have scored based on shots\n",
      "    home_shots_goals = match.HS / league.shots_per_goal\n",
      "    away_shots_goals = match.AS / league.shots_per_goal\n",
      "    # Similarly for shots on target\n",
      "    home_sot_goals = match.HST / league.sot_per_goal\n",
      "    away_sot_goals = match.AST / league.sot_per_goal\n",
      "\n",
      "    # Who is closer to the shots scorelines, the bet or the real scoreline?\n",
      "    home_shots_score_diff = abs(match.FTHG - home_shots_goals)\n",
      "    away_shots_score_diff = abs(match.FTAG - away_shots_goals)\n",
      "    home_sots_score_diff = abs(match.FTHG - home_sot_goals)\n",
      "    away_sots_score_diff = abs(match.FTAG - away_sot_goals)\n",
      "\n",
      "    # home_bet = bet_line.home_score\n",
      "    # away_bet = bet_line.away_score\n",
      "    # home_shots_bet_diff = abs(home_bet - home_shots_goals)\n",
      "    # away_shots_bet_diff = abs(away_bet - away_shots_goals)\n",
      "    # home_sots_bet_diff = abs(home_bet - home_sot_goals)\n",
      "    # away_sots_bet_diff = abs(away_bet - away_sot_goals)\n",
      "    \n",
      "    headers = ['', match.HomeTeam, match.AwayTeam]\n",
      "    rows = [['Goals', match.FTHG, match.FTAG],\n",
      "            # ['Bet Goals', home_bet, away_bet],\n",
      "            ['Shots', match.HS, match.AS],\n",
      "            ['SOT', match.HST, match.AST],\n",
      "            ['Shots Scoreline', home_shots_goals, away_shots_goals],\n",
      "            ['SOT Scoreline', home_sot_goals, away_sot_goals],\n",
      "            ['Score-Shots Diff', home_shots_score_diff, away_shots_score_diff],\n",
      "            # ['Bet-Shots Diff', home_shots_bet_diff, away_shots_bet_diff],\n",
      "            ['Score-Sots Diff', home_sots_score_diff, away_sots_score_diff],\n",
      "            # ['Bet-Sots Diff', home_sots_bet_diff, away_sots_bet_diff]\n",
      "            ['Bet', bet_line.bet_result, bet_line.bet_result],\n",
      "            ]\n",
      "\n",
      "    league_analysis.display_table(headers, rows)\n",
      "\n"
     ],
     "language": "python",
     "metadata": {},
     "outputs": [],
     "prompt_number": 16
    },
    {
     "cell_type": "code",
     "collapsed": false,
     "input": [
      "class BetLine(object):\n",
      "    def __init__(self, bet_line):\n",
      "        \"\"\"Example Correct Score bet line: Bristol Rovers v Barnet: 1 - 1, 7.0\n",
      "        Example of a Result bet line: Walsall v Doncaster: Walsall, 1.97\n",
      "        \"\"\"\n",
      "        self.parse_result_line(bet_line)\n",
      "\n",
      "    def parse_correct_score_line(self, bet_line):\n",
      "        \"\"\"Example Correct Score bet line: Bristol Rovers v Barnet: 1 - 1, 7.0\n",
      "        \"\"\"\n",
      "        match_teams, bet_details = bet_line.split(': ')\n",
      "        self.home, self.away = match_teams.split(' v ')\n",
      "        bet_score, self.bet_price = bet_details.split(', ')\n",
      "        home_score, away_score = bet_score.split(' - ')\n",
      "        self.home_score = int(home_score)\n",
      "        self.away_score = int(away_score)\n",
      "    \n",
      "    def parse_result_line(self, bet_line):\n",
      "        \"\"\"Example of a Result bet line: Walsall v Doncaster: Walsall, 1.97\n",
      "        \"\"\"\n",
      "        match_teams, bet_details = bet_line.split(': ')\n",
      "        self.home, self.away = match_teams.split(' v ')\n",
      "        result, self.bet_price = bet_details.split(', ')\n",
      "        if result == \"The Draw\":\n",
      "            self.bet_result = 'D'\n",
      "        elif result == self.home:\n",
      "            self.bet_result = 'H'\n",
      "        else:\n",
      "            assert result == self.away\n",
      "            self.bet_result = 'A'\n",
      "    \n",
      "    def get_relevant_match(self, league, start_date, end_date):\n",
      "        home = league_analysis.alias_team(self.home)\n",
      "        away = league_analysis.alias_team(self.away)\n",
      "    \n",
      "        matches = league_analysis.get_matches(league, start_date, end_date,\n",
      "                                              home_team=home, away_team=away)\n",
      "        match = matches[0]\n",
      "        self.match = match\n",
      "        return match\n",
      "\n",
      "    def get_profit_loss(self, match=None, commission=0.95):\n",
      "        if match is None:\n",
      "            match = self.match\n",
      "        if self.bet_result == 'H' and match.FTR == 'H':\n",
      "            return match.BbAvH * commission\n",
      "        elif self.bet_result == 'D' and match.FTR == 'D':\n",
      "            return match.BbAvD * commission\n",
      "        elif self.bet_result == 'A' and match.FTR == 'A':\n",
      "            return match.BbAvA * commission\n",
      "        else:\n",
      "            return -1.0 "
     ],
     "language": "python",
     "metadata": {},
     "outputs": [],
     "prompt_number": 23
    },
    {
     "cell_type": "code",
     "collapsed": false,
     "input": [
      "leagues = {'League Two:': league_analysis.year_201516.elt_league,\n",
      "           'League One:': league_analysis.year_201516.elo_league,\n",
      "           'Championship:': league_analysis.year_201516.ech_league,\n",
      "           'Premiership:': league_analysis.year_201516.epl_league,\n",
      "           'Scottish Premiership:': league_analysis.year_201516.spl_league,}\n",
      "\n",
      "total_profit_loss = 0.0\n",
      "league_profit_loss = None\n",
      "for line in bets_text.split('\\n'):\n",
      "    if line == '':\n",
      "        continue\n",
      "    try:\n",
      "        current_league = leagues[line]\n",
      "        if league_profit_loss is not None:\n",
      "            display(HTML('<h3>League profit/loss: {0}</h3>'.format(league_profit_loss)))\n",
      "            total_profit_loss += league_profit_loss\n",
      "        league_profit_loss = 0.0\n",
      "        display(HTML('<h2>{0}</h2>'.format(line)))\n",
      "    except KeyError:\n",
      "        bet_line = BetLine(line)\n",
      "        match = bet_line.get_relevant_match(current_league, bets_start_date, bets_end_date)\n",
      "        display_bet_analysis(bet_line, match, current_league)\n",
      "        league_profit_loss += bet_line.get_profit_loss(match=match, commission=0.95)\n",
      "display(HTML('<h2>Total profit/loss: {0}</h2>'.format(total_profit_loss)))"
     ],
     "language": "python",
     "metadata": {},
     "outputs": [
      {
       "html": [
        "<h2>Scottish Premiership:</h2>"
       ],
       "metadata": {},
       "output_type": "display_data",
       "text": [
        "<IPython.core.display.HTML at 0x7fcbd2e69ef0>"
       ]
      },
      {
       "html": [
        "<table><tr><th></th> <th>Dundee United</th> <th>Inverness C</th></tr><tr><td>Goals</td> <td>1</td> <td>1</td></tr>\n",
        "<tr><td>Shots</td> <td>12</td> <td>7</td></tr>\n",
        "<tr><td>SOT</td> <td>4</td> <td>3</td></tr>\n",
        "<tr><td>Shots Scoreline</td> <td>1.6431535269709545</td> <td>0.9585062240663901</td></tr>\n",
        "<tr><td>SOT Scoreline</td> <td>1.216589861751152</td> <td>0.912442396313364</td></tr>\n",
        "<tr><td>Score-Shots Diff</td> <td>0.6431535269709545</td> <td>0.04149377593360992</td></tr>\n",
        "<tr><td>Score-Sots Diff</td> <td>0.2165898617511519</td> <td>0.08755760368663601</td></tr>\n",
        "<tr><td>Bet</td> <td>H</td> <td>H</td></tr></table>"
       ],
       "metadata": {},
       "output_type": "display_data",
       "text": [
        "<IPython.core.display.HTML at 0x7fcbd2e69320>"
       ]
      },
      {
       "html": [
        "<table><tr><th></th> <th>Hamilton</th> <th>Motherwell</th></tr><tr><td>Goals</td> <td>1</td> <td>0</td></tr>\n",
        "<tr><td>Shots</td> <td>12</td> <td>9</td></tr>\n",
        "<tr><td>SOT</td> <td>5</td> <td>5</td></tr>\n",
        "<tr><td>Shots Scoreline</td> <td>1.6431535269709545</td> <td>1.2323651452282158</td></tr>\n",
        "<tr><td>SOT Scoreline</td> <td>1.52073732718894</td> <td>1.52073732718894</td></tr>\n",
        "<tr><td>Score-Shots Diff</td> <td>0.6431535269709545</td> <td>1.2323651452282158</td></tr>\n",
        "<tr><td>Score-Sots Diff</td> <td>0.52073732718894</td> <td>1.52073732718894</td></tr>\n",
        "<tr><td>Bet</td> <td>H</td> <td>H</td></tr></table>"
       ],
       "metadata": {},
       "output_type": "display_data",
       "text": [
        "<IPython.core.display.HTML at 0x7fcbd2e69ef0>"
       ]
      },
      {
       "html": [
        "<table><tr><th></th> <th>Kilmarnock</th> <th>St Johnstone</th></tr><tr><td>Goals</td> <td>2</td> <td>1</td></tr>\n",
        "<tr><td>Shots</td> <td>14</td> <td>11</td></tr>\n",
        "<tr><td>SOT</td> <td>3</td> <td>4</td></tr>\n",
        "<tr><td>Shots Scoreline</td> <td>1.9170124481327802</td> <td>1.5062240663900415</td></tr>\n",
        "<tr><td>SOT Scoreline</td> <td>0.912442396313364</td> <td>1.216589861751152</td></tr>\n",
        "<tr><td>Score-Shots Diff</td> <td>0.08298755186721984</td> <td>0.5062240663900415</td></tr>\n",
        "<tr><td>Score-Sots Diff</td> <td>1.0875576036866361</td> <td>0.2165898617511519</td></tr>\n",
        "<tr><td>Bet</td> <td>A</td> <td>A</td></tr></table>"
       ],
       "metadata": {},
       "output_type": "display_data",
       "text": [
        "<IPython.core.display.HTML at 0x7fcbd2e69320>"
       ]
      },
      {
       "html": [
        "<table><tr><th></th> <th>Ross County</th> <th>Partick</th></tr><tr><td>Goals</td> <td>1</td> <td>0</td></tr>\n",
        "<tr><td>Shots</td> <td>6</td> <td>6</td></tr>\n",
        "<tr><td>SOT</td> <td>1</td> <td>2</td></tr>\n",
        "<tr><td>Shots Scoreline</td> <td>0.8215767634854773</td> <td>0.8215767634854773</td></tr>\n",
        "<tr><td>SOT Scoreline</td> <td>0.304147465437788</td> <td>0.608294930875576</td></tr>\n",
        "<tr><td>Score-Shots Diff</td> <td>0.17842323651452274</td> <td>0.8215767634854773</td></tr>\n",
        "<tr><td>Score-Sots Diff</td> <td>0.695852534562212</td> <td>0.608294930875576</td></tr>\n",
        "<tr><td>Bet</td> <td>H</td> <td>H</td></tr></table>"
       ],
       "metadata": {},
       "output_type": "display_data",
       "text": [
        "<IPython.core.display.HTML at 0x7fcbd2e69ef0>"
       ]
      },
      {
       "html": [
        "<table><tr><th></th> <th>Hearts</th> <th>Aberdeen</th></tr><tr><td>Goals</td> <td>1</td> <td>3</td></tr>\n",
        "<tr><td>Shots</td> <td>8</td> <td>7</td></tr>\n",
        "<tr><td>SOT</td> <td>3</td> <td>5</td></tr>\n",
        "<tr><td>Shots Scoreline</td> <td>1.095435684647303</td> <td>0.9585062240663901</td></tr>\n",
        "<tr><td>SOT Scoreline</td> <td>0.912442396313364</td> <td>1.52073732718894</td></tr>\n",
        "<tr><td>Score-Shots Diff</td> <td>0.09543568464730301</td> <td>2.04149377593361</td></tr>\n",
        "<tr><td>Score-Sots Diff</td> <td>0.08755760368663601</td> <td>1.47926267281106</td></tr>\n",
        "<tr><td>Bet</td> <td>D</td> <td>D</td></tr></table>"
       ],
       "metadata": {},
       "output_type": "display_data",
       "text": [
        "<IPython.core.display.HTML at 0x7fcbd2e69320>"
       ]
      },
      {
       "html": [
        "<table><tr><th></th> <th>Celtic</th> <th>Dundee</th></tr><tr><td>Goals</td> <td>6</td> <td>0</td></tr>\n",
        "<tr><td>Shots</td> <td>29</td> <td>6</td></tr>\n",
        "<tr><td>SOT</td> <td>15</td> <td>2</td></tr>\n",
        "<tr><td>Shots Scoreline</td> <td>3.970954356846473</td> <td>0.8215767634854773</td></tr>\n",
        "<tr><td>SOT Scoreline</td> <td>4.56221198156682</td> <td>0.608294930875576</td></tr>\n",
        "<tr><td>Score-Shots Diff</td> <td>2.029045643153527</td> <td>0.8215767634854773</td></tr>\n",
        "<tr><td>Score-Sots Diff</td> <td>1.4377880184331797</td> <td>0.608294930875576</td></tr>\n",
        "<tr><td>Bet</td> <td>H</td> <td>H</td></tr></table>"
       ],
       "metadata": {},
       "output_type": "display_data",
       "text": [
        "<IPython.core.display.HTML at 0x7fcbd2e69ef0>"
       ]
      },
      {
       "html": [
        "<h3>League profit/loss: 2.1014999999999997</h3>"
       ],
       "metadata": {},
       "output_type": "display_data",
       "text": [
        "<IPython.core.display.HTML at 0x7fcbd2e69ef0>"
       ]
      },
      {
       "html": [
        "<h2>Championship:</h2>"
       ],
       "metadata": {},
       "output_type": "display_data",
       "text": [
        "<IPython.core.display.HTML at 0x7fcbd2e69ef0>"
       ]
      },
      {
       "html": [
        "<table><tr><th></th> <th>Ipswich</th> <th>Birmingham</th></tr><tr><td>Goals</td> <td>1</td> <td>1</td></tr>\n",
        "<tr><td>Shots</td> <td>18</td> <td>14</td></tr>\n",
        "<tr><td>SOT</td> <td>4</td> <td>4</td></tr>\n",
        "<tr><td>Shots Scoreline</td> <td>1.711138310893513</td> <td>1.3308853529171767</td></tr>\n",
        "<tr><td>SOT Scoreline</td> <td>1.1979434447300772</td> <td>1.1979434447300772</td></tr>\n",
        "<tr><td>Score-Shots Diff</td> <td>0.711138310893513</td> <td>0.3308853529171767</td></tr>\n",
        "<tr><td>Score-Sots Diff</td> <td>0.1979434447300772</td> <td>0.1979434447300772</td></tr>\n",
        "<tr><td>Bet</td> <td>D</td> <td>D</td></tr></table>"
       ],
       "metadata": {},
       "output_type": "display_data",
       "text": [
        "<IPython.core.display.HTML at 0x7fcbd2e69320>"
       ]
      },
      {
       "html": [
        "<table><tr><th></th> <th>Nott'm Forest</th> <th>Middlesbrough</th></tr><tr><td>Goals</td> <td>1</td> <td>2</td></tr>\n",
        "<tr><td>Shots</td> <td>21</td> <td>11</td></tr>\n",
        "<tr><td>SOT</td> <td>8</td> <td>9</td></tr>\n",
        "<tr><td>Shots Scoreline</td> <td>1.9963280293757653</td> <td>1.0456956344349246</td></tr>\n",
        "<tr><td>SOT Scoreline</td> <td>2.3958868894601544</td> <td>2.6953727506426737</td></tr>\n",
        "<tr><td>Score-Shots Diff</td> <td>0.9963280293757653</td> <td>0.9543043655650754</td></tr>\n",
        "<tr><td>Score-Sots Diff</td> <td>1.3958868894601544</td> <td>0.6953727506426737</td></tr>\n",
        "<tr><td>Bet</td> <td>H</td> <td>H</td></tr></table>"
       ],
       "metadata": {},
       "output_type": "display_data",
       "text": [
        "<IPython.core.display.HTML at 0x7fcbd2e69ef0>"
       ]
      },
      {
       "html": [
        "<table><tr><th></th> <th>Blackburn</th> <th>Charlton</th></tr><tr><td>Goals</td> <td>3</td> <td>0</td></tr>\n",
        "<tr><td>Shots</td> <td>16</td> <td>9</td></tr>\n",
        "<tr><td>SOT</td> <td>8</td> <td>3</td></tr>\n",
        "<tr><td>Shots Scoreline</td> <td>1.521011831905345</td> <td>0.8555691554467565</td></tr>\n",
        "<tr><td>SOT Scoreline</td> <td>2.3958868894601544</td> <td>0.8984575835475579</td></tr>\n",
        "<tr><td>Score-Shots Diff</td> <td>1.478988168094655</td> <td>0.8555691554467565</td></tr>\n",
        "<tr><td>Score-Sots Diff</td> <td>0.6041131105398456</td> <td>0.8984575835475579</td></tr>\n",
        "<tr><td>Bet</td> <td>H</td> <td>H</td></tr></table>"
       ],
       "metadata": {},
       "output_type": "display_data",
       "text": [
        "<IPython.core.display.HTML at 0x7fcbd2e69320>"
       ]
      },
      {
       "html": [
        "<table><tr><th></th> <th>Brentford</th> <th>Preston</th></tr><tr><td>Goals</td> <td>2</td> <td>1</td></tr>\n",
        "<tr><td>Shots</td> <td>14</td> <td>13</td></tr>\n",
        "<tr><td>SOT</td> <td>7</td> <td>4</td></tr>\n",
        "<tr><td>Shots Scoreline</td> <td>1.3308853529171767</td> <td>1.2358221134230927</td></tr>\n",
        "<tr><td>SOT Scoreline</td> <td>2.096401028277635</td> <td>1.1979434447300772</td></tr>\n",
        "<tr><td>Score-Shots Diff</td> <td>0.6691146470828233</td> <td>0.23582211342309267</td></tr>\n",
        "<tr><td>Score-Sots Diff</td> <td>0.09640102827763508</td> <td>0.1979434447300772</td></tr>\n",
        "<tr><td>Bet</td> <td>D</td> <td>D</td></tr></table>"
       ],
       "metadata": {},
       "output_type": "display_data",
       "text": [
        "<IPython.core.display.HTML at 0x7fcbd2e69ef0>"
       ]
      },
      {
       "html": [
        "<table><tr><th></th> <th>Bristol City</th> <th>Reading</th></tr><tr><td>Goals</td> <td>0</td> <td>2</td></tr>\n",
        "<tr><td>Shots</td> <td>6</td> <td>14</td></tr>\n",
        "<tr><td>SOT</td> <td>2</td> <td>3</td></tr>\n",
        "<tr><td>Shots Scoreline</td> <td>0.5703794369645043</td> <td>1.3308853529171767</td></tr>\n",
        "<tr><td>SOT Scoreline</td> <td>0.5989717223650386</td> <td>0.8984575835475579</td></tr>\n",
        "<tr><td>Score-Shots Diff</td> <td>0.5703794369645043</td> <td>0.6691146470828233</td></tr>\n",
        "<tr><td>Score-Sots Diff</td> <td>0.5989717223650386</td> <td>1.101542416452442</td></tr>\n",
        "<tr><td>Bet</td> <td>A</td> <td>A</td></tr></table>"
       ],
       "metadata": {},
       "output_type": "display_data",
       "text": [
        "<IPython.core.display.HTML at 0x7fcbd2e69320>"
       ]
      },
      {
       "html": [
        "<table><tr><th></th> <th>Huddersfield</th> <th>Bolton</th></tr><tr><td>Goals</td> <td>4</td> <td>1</td></tr>\n",
        "<tr><td>Shots</td> <td>16</td> <td>7</td></tr>\n",
        "<tr><td>SOT</td> <td>7</td> <td>2</td></tr>\n",
        "<tr><td>Shots Scoreline</td> <td>1.521011831905345</td> <td>0.6654426764585883</td></tr>\n",
        "<tr><td>SOT Scoreline</td> <td>2.096401028277635</td> <td>0.5989717223650386</td></tr>\n",
        "<tr><td>Score-Shots Diff</td> <td>2.478988168094655</td> <td>0.33455732354141166</td></tr>\n",
        "<tr><td>Score-Sots Diff</td> <td>1.903598971722365</td> <td>0.4010282776349614</td></tr>\n",
        "<tr><td>Bet</td> <td>H</td> <td>H</td></tr></table>"
       ],
       "metadata": {},
       "output_type": "display_data",
       "text": [
        "<IPython.core.display.HTML at 0x7fcbd2e69ef0>"
       ]
      },
      {
       "html": [
        "<table><tr><th></th> <th>Hull</th> <th>QPR</th></tr><tr><td>Goals</td> <td>1</td> <td>1</td></tr>\n",
        "<tr><td>Shots</td> <td>11</td> <td>9</td></tr>\n",
        "<tr><td>SOT</td> <td>3</td> <td>3</td></tr>\n",
        "<tr><td>Shots Scoreline</td> <td>1.0456956344349246</td> <td>0.8555691554467565</td></tr>\n",
        "<tr><td>SOT Scoreline</td> <td>0.8984575835475579</td> <td>0.8984575835475579</td></tr>\n",
        "<tr><td>Score-Shots Diff</td> <td>0.04569563443492464</td> <td>0.1444308445532435</td></tr>\n",
        "<tr><td>Score-Sots Diff</td> <td>0.10154241645244211</td> <td>0.10154241645244211</td></tr>\n",
        "<tr><td>Bet</td> <td>H</td> <td>H</td></tr></table>"
       ],
       "metadata": {},
       "output_type": "display_data",
       "text": [
        "<IPython.core.display.HTML at 0x7fcbd2e69320>"
       ]
      },
      {
       "html": [
        "<table><tr><th></th> <th>Milton Keynes Dons</th> <th>Leeds</th></tr><tr><td>Goals</td> <td>1</td> <td>2</td></tr>\n",
        "<tr><td>Shots</td> <td>26</td> <td>14</td></tr>\n",
        "<tr><td>SOT</td> <td>8</td> <td>5</td></tr>\n",
        "<tr><td>Shots Scoreline</td> <td>2.4716442268461853</td> <td>1.3308853529171767</td></tr>\n",
        "<tr><td>SOT Scoreline</td> <td>2.3958868894601544</td> <td>1.4974293059125965</td></tr>\n",
        "<tr><td>Score-Shots Diff</td> <td>1.4716442268461853</td> <td>0.6691146470828233</td></tr>\n",
        "<tr><td>Score-Sots Diff</td> <td>1.3958868894601544</td> <td>0.5025706940874035</td></tr>\n",
        "<tr><td>Bet</td> <td>D</td> <td>D</td></tr></table>"
       ],
       "metadata": {},
       "output_type": "display_data",
       "text": [
        "<IPython.core.display.HTML at 0x7fcbd2e69ef0>"
       ]
      },
      {
       "html": [
        "<table><tr><th></th> <th>Rotherham</th> <th>Cardiff</th></tr><tr><td>Goals</td> <td>2</td> <td>1</td></tr>\n",
        "<tr><td>Shots</td> <td>18</td> <td>5</td></tr>\n",
        "<tr><td>SOT</td> <td>5</td> <td>3</td></tr>\n",
        "<tr><td>Shots Scoreline</td> <td>1.711138310893513</td> <td>0.47531619747042025</td></tr>\n",
        "<tr><td>SOT Scoreline</td> <td>1.4974293059125965</td> <td>0.8984575835475579</td></tr>\n",
        "<tr><td>Score-Shots Diff</td> <td>0.288861689106487</td> <td>0.5246838025295797</td></tr>\n",
        "<tr><td>Score-Sots Diff</td> <td>0.5025706940874035</td> <td>0.10154241645244211</td></tr>\n",
        "<tr><td>Bet</td> <td>A</td> <td>A</td></tr></table>"
       ],
       "metadata": {},
       "output_type": "display_data",
       "text": [
        "<IPython.core.display.HTML at 0x7fcbd2e69320>"
       ]
      },
      {
       "html": [
        "<table><tr><th></th> <th>Sheffield Weds</th> <th>Fulham</th></tr><tr><td>Goals</td> <td>3</td> <td>2</td></tr>\n",
        "<tr><td>Shots</td> <td>10</td> <td>8</td></tr>\n",
        "<tr><td>SOT</td> <td>5</td> <td>3</td></tr>\n",
        "<tr><td>Shots Scoreline</td> <td>0.9506323949408405</td> <td>0.7605059159526725</td></tr>\n",
        "<tr><td>SOT Scoreline</td> <td>1.4974293059125965</td> <td>0.8984575835475579</td></tr>\n",
        "<tr><td>Score-Shots Diff</td> <td>2.0493676050591594</td> <td>1.2394940840473274</td></tr>\n",
        "<tr><td>Score-Sots Diff</td> <td>1.5025706940874035</td> <td>1.101542416452442</td></tr>\n",
        "<tr><td>Bet</td> <td>D</td> <td>D</td></tr></table>"
       ],
       "metadata": {},
       "output_type": "display_data",
       "text": [
        "<IPython.core.display.HTML at 0x7fcbd2e69ef0>"
       ]
      },
      {
       "html": [
        "<table><tr><th></th> <th>Wolves</th> <th>Brighton</th></tr><tr><td>Goals</td> <td>0</td> <td>0</td></tr>\n",
        "<tr><td>Shots</td> <td>6</td> <td>19</td></tr>\n",
        "<tr><td>SOT</td> <td>1</td> <td>8</td></tr>\n",
        "<tr><td>Shots Scoreline</td> <td>0.5703794369645043</td> <td>1.806201550387597</td></tr>\n",
        "<tr><td>SOT Scoreline</td> <td>0.2994858611825193</td> <td>2.3958868894601544</td></tr>\n",
        "<tr><td>Score-Shots Diff</td> <td>0.5703794369645043</td> <td>1.806201550387597</td></tr>\n",
        "<tr><td>Score-Sots Diff</td> <td>0.2994858611825193</td> <td>2.3958868894601544</td></tr>\n",
        "<tr><td>Bet</td> <td>A</td> <td>A</td></tr></table>"
       ],
       "metadata": {},
       "output_type": "display_data",
       "text": [
        "<IPython.core.display.HTML at 0x7fcbd2e69320>"
       ]
      },
      {
       "html": [
        "<h3>League profit/loss: 2.9654999999999987</h3>"
       ],
       "metadata": {},
       "output_type": "display_data",
       "text": [
        "<IPython.core.display.HTML at 0x7fcbd2e69320>"
       ]
      },
      {
       "html": [
        "<h2>Premiership:</h2>"
       ],
       "metadata": {},
       "output_type": "display_data",
       "text": [
        "<IPython.core.display.HTML at 0x7fcbd2e69320>"
       ]
      },
      {
       "html": [
        "<table><tr><th></th> <th>Chelsea</th> <th>Arsenal</th></tr><tr><td>Goals</td> <td>2</td> <td>0</td></tr>\n",
        "<tr><td>Shots</td> <td>22</td> <td>9</td></tr>\n",
        "<tr><td>SOT</td> <td>7</td> <td>2</td></tr>\n",
        "<tr><td>Shots Scoreline</td> <td>2.0303413400758537</td> <td>0.8305941845764855</td></tr>\n",
        "<tr><td>SOT Scoreline</td> <td>1.950381679389313</td> <td>0.5572519083969465</td></tr>\n",
        "<tr><td>Score-Shots Diff</td> <td>0.03034134007585365</td> <td>0.8305941845764855</td></tr>\n",
        "<tr><td>Score-Sots Diff</td> <td>0.04961832061068705</td> <td>0.5572519083969465</td></tr>\n",
        "<tr><td>Bet</td> <td>D</td> <td>D</td></tr></table>"
       ],
       "metadata": {},
       "output_type": "display_data",
       "text": [
        "<IPython.core.display.HTML at 0x7fcbd2e69ef0>"
       ]
      },
      {
       "html": [
        "<table><tr><th></th> <th>Aston Villa</th> <th>West Brom</th></tr><tr><td>Goals</td> <td>0</td> <td>1</td></tr>\n",
        "<tr><td>Shots</td> <td>13</td> <td>11</td></tr>\n",
        "<tr><td>SOT</td> <td>3</td> <td>6</td></tr>\n",
        "<tr><td>Shots Scoreline</td> <td>1.199747155499368</td> <td>1.0151706700379268</td></tr>\n",
        "<tr><td>SOT Scoreline</td> <td>0.8358778625954199</td> <td>1.6717557251908397</td></tr>\n",
        "<tr><td>Score-Shots Diff</td> <td>1.199747155499368</td> <td>0.015170670037926826</td></tr>\n",
        "<tr><td>Score-Sots Diff</td> <td>0.8358778625954199</td> <td>0.6717557251908397</td></tr>\n",
        "<tr><td>Bet</td> <td>D</td> <td>D</td></tr></table>"
       ],
       "metadata": {},
       "output_type": "display_data",
       "text": [
        "<IPython.core.display.HTML at 0x7fcbd2e69320>"
       ]
      },
      {
       "html": [
        "<table><tr><th></th> <th>Bournemouth</th> <th>Sunderland</th></tr><tr><td>Goals</td> <td>2</td> <td>0</td></tr>\n",
        "<tr><td>Shots</td> <td>15</td> <td>9</td></tr>\n",
        "<tr><td>SOT</td> <td>5</td> <td>2</td></tr>\n",
        "<tr><td>Shots Scoreline</td> <td>1.3843236409608093</td> <td>0.8305941845764855</td></tr>\n",
        "<tr><td>SOT Scoreline</td> <td>1.3931297709923665</td> <td>0.5572519083969465</td></tr>\n",
        "<tr><td>Score-Shots Diff</td> <td>0.6156763590391907</td> <td>0.8305941845764855</td></tr>\n",
        "<tr><td>Score-Sots Diff</td> <td>0.6068702290076335</td> <td>0.5572519083969465</td></tr>\n",
        "<tr><td>Bet</td> <td>D</td> <td>D</td></tr></table>"
       ],
       "metadata": {},
       "output_type": "display_data",
       "text": [
        "<IPython.core.display.HTML at 0x7fcbd2e69ef0>"
       ]
      },
      {
       "html": [
        "<table><tr><th></th> <th>Newcastle</th> <th>Watford</th></tr><tr><td>Goals</td> <td>1</td> <td>2</td></tr>\n",
        "<tr><td>Shots</td> <td>15</td> <td>13</td></tr>\n",
        "<tr><td>SOT</td> <td>5</td> <td>4</td></tr>\n",
        "<tr><td>Shots Scoreline</td> <td>1.3843236409608093</td> <td>1.199747155499368</td></tr>\n",
        "<tr><td>SOT Scoreline</td> <td>1.3931297709923665</td> <td>1.114503816793893</td></tr>\n",
        "<tr><td>Score-Shots Diff</td> <td>0.3843236409608093</td> <td>0.800252844500632</td></tr>\n",
        "<tr><td>Score-Sots Diff</td> <td>0.39312977099236646</td> <td>0.885496183206107</td></tr>\n",
        "<tr><td>Bet</td> <td>A</td> <td>A</td></tr></table>"
       ],
       "metadata": {},
       "output_type": "display_data",
       "text": [
        "<IPython.core.display.HTML at 0x7fcbd2e69320>"
       ]
      },
      {
       "html": [
        "<table><tr><th></th> <th>Stoke</th> <th>Leicester</th></tr><tr><td>Goals</td> <td>2</td> <td>2</td></tr>\n",
        "<tr><td>Shots</td> <td>11</td> <td>12</td></tr>\n",
        "<tr><td>SOT</td> <td>4</td> <td>5</td></tr>\n",
        "<tr><td>Shots Scoreline</td> <td>1.0151706700379268</td> <td>1.1074589127686474</td></tr>\n",
        "<tr><td>SOT Scoreline</td> <td>1.114503816793893</td> <td>1.3931297709923665</td></tr>\n",
        "<tr><td>Score-Shots Diff</td> <td>0.9848293299620732</td> <td>0.8925410872313526</td></tr>\n",
        "<tr><td>Score-Sots Diff</td> <td>0.885496183206107</td> <td>0.6068702290076335</td></tr>\n",
        "<tr><td>Bet</td> <td>A</td> <td>A</td></tr></table>"
       ],
       "metadata": {},
       "output_type": "display_data",
       "text": [
        "<IPython.core.display.HTML at 0x7fcbd2e69ef0>"
       ]
      },
      {
       "html": [
        "<table><tr><th></th> <th>Swansea</th> <th>Everton</th></tr><tr><td>Goals</td> <td>0</td> <td>0</td></tr>\n",
        "<tr><td>Shots</td> <td>12</td> <td>17</td></tr>\n",
        "<tr><td>SOT</td> <td>3</td> <td>2</td></tr>\n",
        "<tr><td>Shots Scoreline</td> <td>1.1074589127686474</td> <td>1.5689001264222504</td></tr>\n",
        "<tr><td>SOT Scoreline</td> <td>0.8358778625954199</td> <td>0.5572519083969465</td></tr>\n",
        "<tr><td>Score-Shots Diff</td> <td>1.1074589127686474</td> <td>1.5689001264222504</td></tr>\n",
        "<tr><td>Score-Sots Diff</td> <td>0.8358778625954199</td> <td>0.5572519083969465</td></tr>\n",
        "<tr><td>Bet</td> <td>D</td> <td>D</td></tr></table>"
       ],
       "metadata": {},
       "output_type": "display_data",
       "text": [
        "<IPython.core.display.HTML at 0x7fcbd2e69320>"
       ]
      },
      {
       "html": [
        "<table><tr><th></th> <th>Man City</th> <th>West Ham</th></tr><tr><td>Goals</td> <td>1</td> <td>2</td></tr>\n",
        "<tr><td>Shots</td> <td>27</td> <td>6</td></tr>\n",
        "<tr><td>SOT</td> <td>8</td> <td>3</td></tr>\n",
        "<tr><td>Shots Scoreline</td> <td>2.4917825537294567</td> <td>0.5537294563843237</td></tr>\n",
        "<tr><td>SOT Scoreline</td> <td>2.229007633587786</td> <td>0.8358778625954199</td></tr>\n",
        "<tr><td>Score-Shots Diff</td> <td>1.4917825537294567</td> <td>1.4462705436156762</td></tr>\n",
        "<tr><td>Score-Sots Diff</td> <td>1.229007633587786</td> <td>1.16412213740458</td></tr>\n",
        "<tr><td>Bet</td> <td>H</td> <td>H</td></tr></table>"
       ],
       "metadata": {},
       "output_type": "display_data",
       "text": [
        "<IPython.core.display.HTML at 0x7fcbd2e69ef0>"
       ]
      },
      {
       "html": [
        "<table><tr><th></th> <th>Tottenham</th> <th>Crystal Palace</th></tr><tr><td>Goals</td> <td>1</td> <td>0</td></tr>\n",
        "<tr><td>Shots</td> <td>22</td> <td>12</td></tr>\n",
        "<tr><td>SOT</td> <td>6</td> <td>4</td></tr>\n",
        "<tr><td>Shots Scoreline</td> <td>2.0303413400758537</td> <td>1.1074589127686474</td></tr>\n",
        "<tr><td>SOT Scoreline</td> <td>1.6717557251908397</td> <td>1.114503816793893</td></tr>\n",
        "<tr><td>Score-Shots Diff</td> <td>1.0303413400758537</td> <td>1.1074589127686474</td></tr>\n",
        "<tr><td>Score-Sots Diff</td> <td>0.6717557251908397</td> <td>1.114503816793893</td></tr>\n",
        "<tr><td>Bet</td> <td>H</td> <td>H</td></tr></table>"
       ],
       "metadata": {},
       "output_type": "display_data",
       "text": [
        "<IPython.core.display.HTML at 0x7fcbd2e69320>"
       ]
      },
      {
       "html": [
        "<table><tr><th></th> <th>Liverpool</th> <th>Norwich</th></tr><tr><td>Goals</td> <td>1</td> <td>1</td></tr>\n",
        "<tr><td>Shots</td> <td>23</td> <td>7</td></tr>\n",
        "<tr><td>SOT</td> <td>7</td> <td>2</td></tr>\n",
        "<tr><td>Shots Scoreline</td> <td>2.122629582806574</td> <td>0.6460176991150443</td></tr>\n",
        "<tr><td>SOT Scoreline</td> <td>1.950381679389313</td> <td>0.5572519083969465</td></tr>\n",
        "<tr><td>Score-Shots Diff</td> <td>1.122629582806574</td> <td>0.35398230088495575</td></tr>\n",
        "<tr><td>Score-Sots Diff</td> <td>0.950381679389313</td> <td>0.4427480916030535</td></tr>\n",
        "<tr><td>Bet</td> <td>D</td> <td>D</td></tr></table>"
       ],
       "metadata": {},
       "output_type": "display_data",
       "text": [
        "<IPython.core.display.HTML at 0x7fcbd2e69ef0>"
       ]
      },
      {
       "html": [
        "<table><tr><th></th> <th>Southampton</th> <th>Man United</th></tr><tr><td>Goals</td> <td>2</td> <td>3</td></tr>\n",
        "<tr><td>Shots</td> <td>15</td> <td>10</td></tr>\n",
        "<tr><td>SOT</td> <td>8</td> <td>3</td></tr>\n",
        "<tr><td>Shots Scoreline</td> <td>1.3843236409608093</td> <td>0.9228824273072062</td></tr>\n",
        "<tr><td>SOT Scoreline</td> <td>2.229007633587786</td> <td>0.8358778625954199</td></tr>\n",
        "<tr><td>Score-Shots Diff</td> <td>0.6156763590391907</td> <td>2.077117572692794</td></tr>\n",
        "<tr><td>Score-Sots Diff</td> <td>0.22900763358778597</td> <td>2.16412213740458</td></tr>\n",
        "<tr><td>Bet</td> <td>H</td> <td>H</td></tr></table>"
       ],
       "metadata": {},
       "output_type": "display_data",
       "text": [
        "<IPython.core.display.HTML at 0x7fcbd2e69320>"
       ]
      },
      {
       "html": [
        "<h2>Total profit/loss: 5.066999999999998</h2>"
       ],
       "metadata": {},
       "output_type": "display_data",
       "text": [
        "<IPython.core.display.HTML at 0x7fcbd2e69518>"
       ]
      }
     ],
     "prompt_number": 24
    },
    {
     "cell_type": "code",
     "collapsed": false,
     "input": [
      "def bet_result_of_bet_line(league, start_date, end_date, bet_line):\n",
      "    \"\"\" For a given bet line which correspondes to a Correct Score bet, instead\n",
      "    say what would have been the profit/loss if you had bet on simply H/D/A.\n",
      "    \"\"\"\n",
      "    bet_line = BetLine(bet_line)\n",
      "    print(bet_line.home)\n",
      "    print(bet_line.away)\n",
      "    commission = 0.95\n",
      "    match = bet_line.get_relevant_match(league, start_date, end_date)\n",
      "    if bet_line.home_score > bet_line.away_score and match.FTR == 'H':\n",
      "        return match.BbAvH * commission\n",
      "    elif bet_line.home_score == bet_line.away_score and match.FTR == 'D':\n",
      "        return match.BbAvD * commission\n",
      "    elif bet_line.home_score < bet_line.away_score and match.FTR == 'A':\n",
      "        return match.BbAvA * commission\n",
      "    else:\n",
      "        return -1.0"
     ],
     "language": "python",
     "metadata": {},
     "outputs": [],
     "prompt_number": 10
    },
    {
     "cell_type": "code",
     "collapsed": false,
     "input": [
      "leagues = {'League Two:': league_analysis.year_201516.elt_league,\n",
      "           'League One:': league_analysis.year_201516.elo_league,\n",
      "           'Championship:': league_analysis.year_201516.ech_league,\n",
      "           'Premiership:': league_analysis.year_201516.epl_league,\n",
      "           'Scottish Premiership:': league_analysis.year_201516.spl_league,}\n",
      "\n",
      "profit_loss = 0\n",
      "overall_profit_loss = 0\n",
      "for line in bets_text.split('\\n'):\n",
      "    if line == '':\n",
      "        continue\n",
      "    try:\n",
      "        current_league = leagues[line]\n",
      "        display(HTML('<h2>{0}</h2>'.format(line)))\n",
      "        overall_profit_loss += profit_loss\n",
      "        profit_loss = 0\n",
      "    except KeyError:\n",
      "        profit_loss += bet_result_of_bet_line(current_league, bets_start_date, bets_end_date, line)\n",
      "        print(\"You would have won/lost: {0}\".format(profit_loss))\n",
      "print(\"Overall you would have won/lost: {0}\".format(overall_profit_loss))"
     ],
     "language": "python",
     "metadata": {},
     "outputs": [
      {
       "html": [
        "<h2>Scottish Premiership:</h2>"
       ],
       "metadata": {},
       "output_type": "display_data",
       "text": [
        "<IPython.core.display.HTML at 0x7fcbd2e7e6d8>"
       ]
      },
      {
       "output_type": "stream",
       "stream": "stdout",
       "text": [
        "Dundee Utd\n",
        "Inverness CT\n"
       ]
      },
      {
       "ename": "AttributeError",
       "evalue": "'BetLine' object has no attribute 'home_score'",
       "output_type": "pyerr",
       "traceback": [
        "\u001b[1;31m---------------------------------------------------------------------------\u001b[0m\n\u001b[1;31mAttributeError\u001b[0m                            Traceback (most recent call last)",
        "\u001b[1;32m<ipython-input-11-596986be712b>\u001b[0m in \u001b[0;36m<module>\u001b[1;34m()\u001b[0m\n\u001b[0;32m     16\u001b[0m         \u001b[0mprofit_loss\u001b[0m \u001b[1;33m=\u001b[0m \u001b[1;36m0\u001b[0m\u001b[1;33m\u001b[0m\u001b[0m\n\u001b[0;32m     17\u001b[0m     \u001b[1;32mexcept\u001b[0m \u001b[0mKeyError\u001b[0m\u001b[1;33m:\u001b[0m\u001b[1;33m\u001b[0m\u001b[0m\n\u001b[1;32m---> 18\u001b[1;33m         \u001b[0mprofit_loss\u001b[0m \u001b[1;33m+=\u001b[0m \u001b[0mbet_result_of_bet_line\u001b[0m\u001b[1;33m(\u001b[0m\u001b[0mcurrent_league\u001b[0m\u001b[1;33m,\u001b[0m \u001b[0mbets_start_date\u001b[0m\u001b[1;33m,\u001b[0m \u001b[0mbets_end_date\u001b[0m\u001b[1;33m,\u001b[0m \u001b[0mline\u001b[0m\u001b[1;33m)\u001b[0m\u001b[1;33m\u001b[0m\u001b[0m\n\u001b[0m\u001b[0;32m     19\u001b[0m         \u001b[0mprint\u001b[0m\u001b[1;33m(\u001b[0m\u001b[1;34m\"You would have won/lost: {0}\"\u001b[0m\u001b[1;33m.\u001b[0m\u001b[0mformat\u001b[0m\u001b[1;33m(\u001b[0m\u001b[0mprofit_loss\u001b[0m\u001b[1;33m)\u001b[0m\u001b[1;33m)\u001b[0m\u001b[1;33m\u001b[0m\u001b[0m\n\u001b[0;32m     20\u001b[0m \u001b[0mprint\u001b[0m\u001b[1;33m(\u001b[0m\u001b[1;34m\"Overall you would have won/lost: {0}\"\u001b[0m\u001b[1;33m.\u001b[0m\u001b[0mformat\u001b[0m\u001b[1;33m(\u001b[0m\u001b[0moverall_profit_loss\u001b[0m\u001b[1;33m)\u001b[0m\u001b[1;33m)\u001b[0m\u001b[1;33m\u001b[0m\u001b[0m\n",
        "\u001b[1;32m<ipython-input-10-ca99d3686f53>\u001b[0m in \u001b[0;36mbet_result_of_bet_line\u001b[1;34m(league, start_date, end_date, bet_line)\u001b[0m\n\u001b[0;32m      8\u001b[0m     \u001b[0mcommission\u001b[0m \u001b[1;33m=\u001b[0m \u001b[1;36m0.95\u001b[0m\u001b[1;33m\u001b[0m\u001b[0m\n\u001b[0;32m      9\u001b[0m     \u001b[0mmatch\u001b[0m \u001b[1;33m=\u001b[0m \u001b[0mbet_line\u001b[0m\u001b[1;33m.\u001b[0m\u001b[0mget_relevant_match\u001b[0m\u001b[1;33m(\u001b[0m\u001b[0mleague\u001b[0m\u001b[1;33m,\u001b[0m \u001b[0mstart_date\u001b[0m\u001b[1;33m,\u001b[0m \u001b[0mend_date\u001b[0m\u001b[1;33m)\u001b[0m\u001b[1;33m\u001b[0m\u001b[0m\n\u001b[1;32m---> 10\u001b[1;33m     \u001b[1;32mif\u001b[0m \u001b[0mbet_line\u001b[0m\u001b[1;33m.\u001b[0m\u001b[0mhome_score\u001b[0m \u001b[1;33m>\u001b[0m \u001b[0mbet_line\u001b[0m\u001b[1;33m.\u001b[0m\u001b[0maway_score\u001b[0m \u001b[1;32mand\u001b[0m \u001b[0mmatch\u001b[0m\u001b[1;33m.\u001b[0m\u001b[0mFTR\u001b[0m \u001b[1;33m==\u001b[0m \u001b[1;34m'H'\u001b[0m\u001b[1;33m:\u001b[0m\u001b[1;33m\u001b[0m\u001b[0m\n\u001b[0m\u001b[0;32m     11\u001b[0m         \u001b[1;32mreturn\u001b[0m \u001b[0mmatch\u001b[0m\u001b[1;33m.\u001b[0m\u001b[0mBbAvH\u001b[0m \u001b[1;33m*\u001b[0m \u001b[0mcommission\u001b[0m\u001b[1;33m\u001b[0m\u001b[0m\n\u001b[0;32m     12\u001b[0m     \u001b[1;32melif\u001b[0m \u001b[0mbet_line\u001b[0m\u001b[1;33m.\u001b[0m\u001b[0mhome_score\u001b[0m \u001b[1;33m==\u001b[0m \u001b[0mbet_line\u001b[0m\u001b[1;33m.\u001b[0m\u001b[0maway_score\u001b[0m \u001b[1;32mand\u001b[0m \u001b[0mmatch\u001b[0m\u001b[1;33m.\u001b[0m\u001b[0mFTR\u001b[0m \u001b[1;33m==\u001b[0m \u001b[1;34m'D'\u001b[0m\u001b[1;33m:\u001b[0m\u001b[1;33m\u001b[0m\u001b[0m\n",
        "\u001b[1;31mAttributeError\u001b[0m: 'BetLine' object has no attribute 'home_score'"
       ]
      }
     ],
     "prompt_number": 11
    },
    {
     "cell_type": "code",
     "collapsed": false,
     "input": [],
     "language": "python",
     "metadata": {},
     "outputs": []
    }
   ],
   "metadata": {}
  }
 ]
}