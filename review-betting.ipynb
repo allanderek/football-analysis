{
 "metadata": {
  "name": "",
  "signature": "sha256:8b6149ca1bb3deb8d7a3d35e72bcb74ff978fb4e440de2095f760ee1a1b22900"
 },
 "nbformat": 3,
 "nbformat_minor": 0,
 "worksheets": [
  {
   "cells": [
    {
     "cell_type": "code",
     "collapsed": false,
     "input": [
      "bets_text = \"\"\"\n",
      "# League Two:\n",
      "Bristol Rovers v Barnet: 1 - 1, 7.0\n",
      "Cambridge Utd v Crawley Town: 2 - 0, 8.2\n",
      "Carlisle v AFC Wimbledon: 1 - 2, 11.5\n",
      "Exeter v York City: 1 - 2, 12.0\n",
      "Mansfield v Oxford Utd: 1 - 2, 10.0\n",
      "Newport County v Leyton Orient: 1 - 1, 7.6\n",
      "Northampton v Plymouth: 2 - 0, 11.5\n",
      "Notts Co v Accrington S: 0 - 0, 10.5\n",
      "Portsmouth v Morecambe: 2 - 1, 8.8\n",
      "Stevenage v Hartlepool: 2 - 1, 9.4\n",
      "Wycombe v Dag and Red: 2 - 1, 10.0\n",
      "Yeovil v Luton: 1 - 0, 11.0\n",
      "\n",
      "# League One:\n",
      "Barnsley v Bradford: 0 - 0, 10.5\n",
      "Burton v Peterborough: 3 - 1, 21.0\n",
      "Chesterfield v Rochdale: 2 - 1, 9.4\n",
      "Crewe v Bury: 1 - 3, 18.0\n",
      "Fleetwood Town v Colchester: 1 - 2, 13.5\n",
      "Gillingham v Wigan: 2 - 2, 15.0\n",
      "Oldham v Shrewsbury: 0 - 0, 10.0\n",
      "Port Vale v Doncaster: 0 - 0, 10.0\n",
      "Scunthorpe v Millwall: 1 - 2, 12.0\n",
      "Sheff Utd v Blackpool: 2 - 1, 9.0\n",
      "Southend v Swindon: 1 - 2, 12.0\n",
      "Walsall v Coventry: 2 - 2, 16.0\n",
      "\n",
      "# Championship:\n",
      "Birmingham v Derby: 0 - 2, 14.5\n",
      "\n",
      "Leeds v Sheff Wed: 1 - 1, 7.2\n",
      "Bolton v Nottm Forest: 1 - 2, 11.0\n",
      "Brighton v Blackburn: 2 - 1, 10.5\n",
      "Burnley v Brentford: 1 - 2, 12.0\n",
      "Charlton v Hull: 0 - 2, 10.0\n",
      "Fulham v Huddersfield: 2 - 0, 13.6925\n",
      "Middlesbrough v Bristol City: 2 - 1, 9.8\n",
      "Preston v Ipswich: 2 - 1, 11.0\n",
      "QPR v Rotherham: 2 - 0, 9.0\n",
      "Reading v MK Dons: 2 - 1, 10.0\n",
      "Cardiff v Wolves: 1 - 1, 7.2\n",
      "\n",
      "# Premiership:\n",
      "Man Utd v Newcastle: 3 - 0, 10.5\n",
      "C Palace v Aston Villa: 2 - 0, 9.8\n",
      "Leicester v Tottenham: 1 - 1, 7.66\n",
      "Norwich v Stoke: 2 - 1, 11.5\n",
      "Sunderland v Swansea: 0 - 2, 10.5\n",
      "West Ham v Bournemouth: 1 - 2, 12.2925\n",
      "\n",
      "West Brom v Chelsea: 0 - 2, 8.0\n",
      "Everton v Man City: 0 - 2, 10.5\n",
      "Watford v Southampton: 2 - 2, 17.0\n",
      "\n",
      "\n",
      "# Scottish Premiership:\n",
      "Dundee Utd v Celtic: 1 - 3, 12.5\n",
      "Aberdeen v Dundee: 2 - 1, 9.0\n",
      "Inverness CT v Hamilton: 0 - 2, 18.0\n",
      "Hearts v Partick: 2 - 1, 9.6\n",
      "Kilmarnock v Ross Co: 1 - 3, 23.0\n",
      "St Johnstone v Motherwell: 0 - 2, 20.0\n",
      "\"\"\"\n",
      "bets_start_date = \"21/08/2015\"\n",
      "bets_end_date = \"24/08/2015\""
     ],
     "language": "python",
     "metadata": {},
     "outputs": [],
     "prompt_number": 1
    },
    {
     "cell_type": "code",
     "collapsed": false,
     "input": [
      "bets_text = \"\"\"\n",
      "# Scottish Premiership:\n",
      "Celtic v St Johnstone: 3 - 0, 8.331\n",
      "Dundee v Inverness CT: 2 - 0, 11.0725\n",
      "Hamilton v Hearts: 0 - 2, 12.18\n",
      "Motherwell v Kilmarnock: 2 - 0, 10.0\n",
      "Partick v Aberdeen: 1 - 2, 9.235999999999999\n",
      "Ross Co v Dundee Utd: 1 - 0, 9.2\n",
      "\n",
      "# League Two:\n",
      "AFC Wimbledon v Exeter: 2 - 1, 9.912\n",
      "Accrington S v Northampton: 1 - 2, 10.08\n",
      "Barnet v Cambridge Utd: 1 - 1, 6.8\n",
      "Dag and Red v Stevenage: 2 - 1, 12.5625\n",
      "Crawley Town v Wycombe: 0 - 1, 8.2\n",
      "Hartlepool v Carlisle: 1 - 1, 6.6\n",
      "Leyton Orient v Bristol Rovers: 1 - 2, 14.055\n",
      "Luton v Portsmouth: 0 - 2, 14.105\n",
      "Morecambe v Notts Co: 2 - 1, 10.08\n",
      "Oxford Utd v Yeovil: 2 - 0, 7.8\n",
      "Plymouth v Newport County: 2 - 1, 9.235999999999999\n",
      "York City v Mansfield: 1 - 1, 7.0\n",
      "\n",
      "# League One:\n",
      "Blackpool v Walsall: 1 - 3, 18.5\n",
      "Bradford v Port Vale: 0 - 1, 10.5\n",
      "Bury v Oldham: 2 - 0, 10.15\n",
      "Colchester v Scunthorpe: 2 - 0, 16.0475\n",
      "Doncaster v Fleetwood Town: 1 - 2, 13.5575\n",
      "Millwall v Chesterfield: 1 - 2, 11.135\n",
      "Peterborough v Gillingham: 1 - 1, 7.093999999999999\n",
      "Rochdale v Barnsley: 2 - 0, 10.575\n",
      "Shrewsbury v Burton: 1 - 2, 13.06\n",
      "Swindon v Sheff Utd: 2 - 0, 17.045\n",
      "Wigan v Crewe: 1 - 0, 7.29\n",
      "Coventry v Southend: 2 - 1, 10.0\n",
      "\n",
      "# Championship:\n",
      "Blackburn v Bolton: 1 - 0, 8.8\n",
      "\n",
      "Derby v Leeds: 2 - 1, 9.8\n",
      "Brentford v Reading: 1 - 2, 13.0\n",
      "Bristol City v Burnley: 1 - 0, 8.638\n",
      "Huddersfield v QPR: 1 - 1, 7.093999999999999\n",
      "Hull v Preston: 0 - 1, 11.0\n",
      "Ipswich v Brighton: 1 - 1, 6.8\n",
      "MK Dons v Birmingham: 1 - 1, 7.29\n",
      "Nottm Forest v Cardiff: 0 - 1, 10.5\n",
      "Rotherham v Fulham: 1 - 1, 7.047999999999999\n",
      "Sheff Wed v Middlesbrough: 0 - 2, 10.5\n",
      "Wolves v Charlton: 1 - 1, 7.176\n",
      "\n",
      "# Premiership:\n",
      "Newcastle v Arsenal: 1 - 3, 15.5\n",
      "Aston Villa v Sunderland: 1 - 1, 8.0\n",
      "Bournemouth v Leicester: 2 - 1, 10.0\n",
      "Chelsea v C Palace: 2 - 1, 9.8\n",
      "Liverpool v West Ham: 4 - 0, 18.0\n",
      "Man City v Watford: 3 - 1, 11.5\n",
      "Stoke v West Brom: 2 - 1, 10.0\n",
      "Tottenham v Everton: 2 - 0, 12.0\n",
      "Southampton v Norwich: 1 - 1, 7.4\n",
      "Swansea v Man Utd: 1 - 2, 10.5\n",
      "\"\"\"\n",
      "bets_start_date = \"28/08/2015\"\n",
      "bets_end_date = \"31/08/2015\""
     ],
     "language": "python",
     "metadata": {},
     "outputs": [],
     "prompt_number": 2
    },
    {
     "cell_type": "code",
     "collapsed": false,
     "input": [
      "bets_text = \"\"\"\n",
      "# Scottish Premiership:\n",
      "Inverness CT v Hearts: Hearts, 2.5\n",
      "\n",
      "Aberdeen v Celtic: Celtic, 1.95\n",
      "Dundee Utd v Kilmarnock: Dundee Utd, 1.81\n",
      "Motherwell v Ross Co: Ross Co, 2.66\n",
      "Partick v Dundee: The Draw, 3.4\n",
      "St Johnstone v Hamilton: Hamilton, 3.45\n",
      "\n",
      "# Championship:\n",
      "Reading v Ipswich: Reading, 2.3\n",
      "\n",
      "QPR v Nottm Forest: The Draw, 3.8\n",
      "Birmingham v Bristol City: The Draw, 3.5\n",
      "Bolton v Wolves: The Draw, 3.4\n",
      "Brighton v Hull: Brighton, 2.7\n",
      "Burnley v Sheff Wed: Sheff Wed, 4.3\n",
      "Cardiff v Huddersfield: The Draw, 3.5\n",
      "Charlton v Rotherham: The Draw, 3.55125\n",
      "Leeds v Brentford: The Draw, 3.5\n",
      "Middlesbrough v MK Dons: Middlesbrough, 1.6\n",
      "Preston v Derby: Preston, 2.7746000000000004\n",
      "\n",
      "Fulham v Blackburn: Blackburn, 2.96\n",
      "\n",
      "# Premiership:\n",
      "Everton v Chelsea: The Draw, 3.6\n",
      "Arsenal v Stoke: Arsenal, 1.31\n",
      "C Palace v Man City: Man City, 1.67\n",
      "Norwich v Bournemouth: The Draw, 3.5\n",
      "Watford v Swansea: The Draw, 3.4\n",
      "West Brom v Southampton: Southampton, 2.52\n",
      "Man Utd v Liverpool: Man Utd, 2.0\n",
      "\n",
      "Sunderland v Tottenham: Tottenham, 1.95\n",
      "Leicester v Aston Villa: The Draw, 3.75\n",
      "\n",
      "# League One:\n",
      "Barnsley v Swindon: The Draw, 3.6\n",
      "Burton v Rochdale: The Draw, 3.35\n",
      "Chesterfield v Colchester: Colchester, 5.2\n",
      "Crewe v Millwall: The Draw, 3.55\n",
      "Fleetwood Town v Bradford: Fleetwood Town, 3.0\n",
      "Gillingham v Blackpool: Gillingham, 1.65\n",
      "Oldham v Peterborough: Peterborough, 2.82\n",
      "Port Vale v Wigan: The Draw, 3.4\n",
      "Scunthorpe v Coventry: Coventry, 2.6\n",
      "Sheff Utd v Bury: The Draw, 3.7\n",
      "Southend v Shrewsbury: Southend, 2.2\n",
      "Walsall v Doncaster: Walsall, 1.97\n",
      "\"\"\"\n",
      "bets_start_date = \"11/09/2015\"\n",
      "bets_end_date = \"13/09/2015\""
     ],
     "language": "python",
     "metadata": {},
     "outputs": [],
     "prompt_number": 3
    },
    {
     "cell_type": "code",
     "collapsed": false,
     "input": [
      "bets_text = \"\"\"\n",
      "# Scottish Premiership:\n",
      "Aberdeen v Hamilton: The Draw, 4.846500000000001\n",
      "\n",
      "# League One:\n",
      "Port Vale v Millwall: Port Vale, 2.36\n",
      "Sheff Utd v Colchester: Colchester, 5.6\n",
      "\n",
      "# Championship:\n",
      "Birmingham v Nottm Forest: The Draw, 3.6\n",
      "Brighton v Rotherham: Brighton, 1.62\n",
      "Burnley v MK Dons: MK Dons, 5.9\n",
      "Cardiff v Hull: The Draw, 3.3\n",
      "Charlton v Huddersfield: The Draw, 3.45\n",
      "Leeds v Ipswich: The Draw, 3.4\n",
      "Middlesbrough v Brentford: Middlesbrough, 1.62\n",
      "Preston v Bristol City: Preston, 2.36\n",
      "Bolton v Sheff Wed: The Draw, 3.5\n",
      "Reading v Derby: Reading, 2.52\n",
      "\"\"\"\n",
      "bets_start_date = \"15/09/2015\"\n",
      "bets_end_date = \"15/09/2015\""
     ],
     "language": "python",
     "metadata": {},
     "outputs": [],
     "prompt_number": 4
    },
    {
     "cell_type": "code",
     "collapsed": false,
     "input": [
      "bets_text = \"\"\"\n",
      "# Scottish Premiership:\n",
      "Dundee Utd v Inverness CT: Dundee Utd, 2.4637000000000002\n",
      "Hamilton v Motherwell: Hamilton, 2.34\n",
      "Kilmarnock v St Johnstone: St Johnstone, 2.18\n",
      "Ross Co v Partick: Ross Co, 2.12\n",
      "\n",
      "Hearts v Aberdeen: The Draw, 3.4\n",
      "Celtic v Dundee: Celtic, 1.25\n",
      "\n",
      "# Championship:\n",
      "Ipswich v Birmingham: The Draw, 3.7\n",
      "\n",
      "Nottm Forest v Middlesbrough: Nottm Forest, 3.9\n",
      "Blackburn v Charlton: Blackburn, 2.0\n",
      "Brentford v Preston: The Draw, 3.4\n",
      "Bristol City v Reading: Reading, 2.9799\n",
      "Huddersfield v Bolton: Huddersfield, 2.28\n",
      "Hull v QPR: Hull, 1.96\n",
      "MK Dons v Leeds: The Draw, 3.45\n",
      "Rotherham v Cardiff: Cardiff, 2.54\n",
      "Sheff Wed v Fulham: The Draw, 3.6\n",
      "Wolves v Brighton: Brighton, 3.05\n",
      "\n",
      "# Premiership:\n",
      "Chelsea v Arsenal: The Draw, 3.55\n",
      "Aston Villa v West Brom: The Draw, 3.3\n",
      "Bournemouth v Sunderland: The Draw, 4.0\n",
      "Newcastle v Watford: Watford, 3.1\n",
      "Stoke v Leicester: Leicester, 3.15\n",
      "Swansea v Everton: The Draw, 3.45\n",
      "Man City v West Ham: Man City, 1.29\n",
      "\n",
      "Tottenham v C Palace: Tottenham, 2.04\n",
      "Liverpool v Norwich: The Draw, 4.0\n",
      "Southampton v Man Utd: Southampton, 3.25\n",
      "\"\"\"\n",
      "bets_start_date = \"18/09/2015\"\n",
      "bets_end_date = \"21/09/2015\""
     ],
     "language": "python",
     "metadata": {},
     "outputs": [],
     "prompt_number": 5
    },
    {
     "cell_type": "code",
     "collapsed": false,
     "input": [
      "bets_text = \"\"\"\n",
      "# Scottish Premiership:\n",
      "Celtic v Hearts: Celtic, 1.27\n",
      "Dundee v Ross Co: Ross Co, 2.94\n",
      "Inverness CT v Aberdeen: Aberdeen, 1.91\n",
      "Kilmarnock v Hamilton: Hamilton, 2.3225\n",
      "Motherwell v Partick: Motherwell, 2.54\n",
      "St Johnstone v Dundee Utd: Dundee Utd, 3.5\n",
      "\n",
      "# Championship:\n",
      "Fulham v QPR: The Draw, 3.5\n",
      "\n",
      "MK Dons v Derby: Derby, 2.06\n",
      "Birmingham v Rotherham: The Draw, 3.65\n",
      "Bolton v Brighton: Brighton, 2.34\n",
      "Brentford v Sheff Wed: The Draw, 3.55\n",
      "Burnley v Reading: Reading, 3.1\n",
      "Cardiff v Charlton: Cardiff, 1.9610000000000003\n",
      "Hull v Blackburn: The Draw, 3.55\n",
      "Ipswich v Bristol City: The Draw, 3.75\n",
      "Preston v Wolves: Preston, 2.44\n",
      "\n",
      "Middlesbrough v Leeds: Middlesbrough, 1.55\n",
      "\n",
      "# Premiership:\n",
      "Tottenham v Man City: Man City, 2.0\n",
      "Leicester v Arsenal: The Draw, 4.1\n",
      "Liverpool v Aston Villa: Liverpool, 1.56\n",
      "Man Utd v Sunderland: Man Utd, 1.24\n",
      "Southampton v Swansea: Southampton, 2.08\n",
      "Stoke v Bournemouth: The Draw, 3.45\n",
      "West Ham v Norwich: The Draw, 3.55\n",
      "\n",
      "Newcastle v Chelsea: Chelsea, 1.66\n",
      "Watford v C Palace: Watford, 2.6\n",
      "\"\"\"\n",
      "bets_start_date = \"25/09/2015\"\n",
      "bets_end_date = \"28/09/2015\""
     ],
     "language": "python",
     "metadata": {},
     "outputs": [],
     "prompt_number": 26
    },
    {
     "cell_type": "code",
     "collapsed": false,
     "input": [
      "import blog.posts.league_analysis as league_analysis\n",
      "from IPython.display import display, HTML"
     ],
     "language": "python",
     "metadata": {},
     "outputs": [],
     "prompt_number": 7
    },
    {
     "cell_type": "code",
     "collapsed": false,
     "input": [
      "def display_bet_analysis(bet_line, match, league, profit_loss=None):\n",
      "    # So this is the number of goals we would have expected the team to have scored based on shots\n",
      "    home_shots_goals = match.HS / league.shots_per_goal\n",
      "    away_shots_goals = match.AS / league.shots_per_goal\n",
      "    # Similarly for shots on target\n",
      "    home_sot_goals = match.HST / league.sot_per_goal\n",
      "    away_sot_goals = match.AST / league.sot_per_goal\n",
      "\n",
      "    # Who is closer to the shots scorelines, the bet or the real scoreline?\n",
      "    home_shots_score_diff = abs(match.FTHG - home_shots_goals)\n",
      "    away_shots_score_diff = abs(match.FTAG - away_shots_goals)\n",
      "    home_sots_score_diff = abs(match.FTHG - home_sot_goals)\n",
      "    away_sots_score_diff = abs(match.FTAG - away_sot_goals)\n",
      "\n",
      "    # home_bet = bet_line.home_score\n",
      "    # away_bet = bet_line.away_score\n",
      "    # home_shots_bet_diff = abs(home_bet - home_shots_goals)\n",
      "    # away_shots_bet_diff = abs(away_bet - away_shots_goals)\n",
      "    # home_sots_bet_diff = abs(home_bet - home_sot_goals)\n",
      "    # away_sots_bet_diff = abs(away_bet - away_sot_goals)\n",
      "    \n",
      "    headers = ['', match.HomeTeam, match.AwayTeam]\n",
      "    rows = [['Goals', match.FTHG, match.FTAG],\n",
      "            # ['Bet Goals', home_bet, away_bet],\n",
      "            ['Shots', match.HS, match.AS],\n",
      "            ['SOT', match.HST, match.AST],\n",
      "            ['Shots Scoreline', home_shots_goals, away_shots_goals],\n",
      "            ['SOT Scoreline', home_sot_goals, away_sot_goals],\n",
      "            ['Score-Shots Diff', home_shots_score_diff, away_shots_score_diff],\n",
      "            # ['Bet-Shots Diff', home_shots_bet_diff, away_shots_bet_diff],\n",
      "            ['Score-Sots Diff', home_sots_score_diff, away_sots_score_diff],\n",
      "            # ['Bet-Sots Diff', home_sots_bet_diff, away_sots_bet_diff]\n",
      "            ['Bet', bet_line.bet_result, bet_line.bet_result],\n",
      "            ['Profit/Loss', profit_loss, profit_loss]\n",
      "            ]\n",
      "\n",
      "    league_analysis.display_table(headers, rows)\n",
      "\n"
     ],
     "language": "python",
     "metadata": {},
     "outputs": [],
     "prompt_number": 15
    },
    {
     "cell_type": "code",
     "collapsed": false,
     "input": [
      "class BetLine(object):\n",
      "    def __init__(self, bet_line):\n",
      "        \"\"\"Example Correct Score bet line: Bristol Rovers v Barnet: 1 - 1, 7.0\n",
      "        Example of a Result bet line: Walsall v Doncaster: Walsall, 1.97\n",
      "        \"\"\"\n",
      "        self.parse_result_line(bet_line)\n",
      "\n",
      "    def parse_correct_score_line(self, bet_line):\n",
      "        \"\"\"Example Correct Score bet line: Bristol Rovers v Barnet: 1 - 1, 7.0\n",
      "        \"\"\"\n",
      "        match_teams, bet_details = bet_line.split(': ')\n",
      "        self.home, self.away = match_teams.split(' v ')\n",
      "        bet_score, self.bet_price = bet_details.split(', ')\n",
      "        home_score, away_score = bet_score.split(' - ')\n",
      "        self.home_score = int(home_score)\n",
      "        self.away_score = int(away_score)\n",
      "    \n",
      "    def parse_result_line(self, bet_line):\n",
      "        \"\"\"Example of a Result bet line: Walsall v Doncaster: Walsall, 1.97\n",
      "        \"\"\"\n",
      "        match_teams, bet_details = bet_line.split(': ')\n",
      "        self.home, self.away = match_teams.split(' v ')\n",
      "        result, self.bet_price = bet_details.split(', ')\n",
      "        if result == \"The Draw\":\n",
      "            self.bet_result = 'D'\n",
      "        elif result == self.home:\n",
      "            self.bet_result = 'H'\n",
      "        else:\n",
      "            assert result == self.away\n",
      "            self.bet_result = 'A'\n",
      "    \n",
      "    def get_relevant_match(self, league, start_date, end_date):\n",
      "        home = league_analysis.alias_team(self.home)\n",
      "        away = league_analysis.alias_team(self.away)\n",
      "    \n",
      "        matches = league_analysis.get_matches(league, start_date, end_date,\n",
      "                                              home_team=home, away_team=away)\n",
      "        match = matches[0]\n",
      "        self.match = match\n",
      "        return match\n",
      "\n",
      "    def get_profit_loss(self, match=None, commission=0.05):\n",
      "        if match is None:\n",
      "            match = self.match\n",
      "        # The amount of money you get back is the odds multiplied by\n",
      "        # the commission you pay. If you lose the bet you get no money back\n",
      "        if self.bet_result == match.FTR:\n",
      "            odds = float(self.bet_price)\n",
      "            return (odds - 1.0) * (1.0 - commission)\n",
      "        else:\n",
      "            return -1.0"
     ],
     "language": "python",
     "metadata": {},
     "outputs": [],
     "prompt_number": 33
    },
    {
     "cell_type": "code",
     "collapsed": false,
     "input": [
      "league_two = league_analysis.year_201516.elt_league\n",
      "league_one = league_analysis.year_201516.elo_league\n",
      "championship = league_analysis.year_201516.ech_league\n",
      "premiership = league_analysis.year_201516.epl_league\n",
      "scottish_premiership = league_analysis.year_201516.spl_league\n",
      "\n",
      "all_leagues = league_analysis.year_201516.all_leagues\n",
      "league_bet_lines = {league.title: (league, set()) for league in all_leagues}\n",
      "\n",
      "def add_bet_line(bet_line):\n",
      "    for league in all_leagues:\n",
      "        home = league_analysis.alias_team(bet_line.home)\n",
      "        away = league_analysis.alias_team(bet_line.away)\n",
      "        if home in league.teams and away in league.teams:\n",
      "            _league, line_set = league_bet_lines[league.title]\n",
      "            line_set.add(bet_line)\n",
      "            break\n",
      "    else:\n",
      "        message = 'Match not found in any league, {0} vs {1}'\n",
      "        raise Exception(message.format(bet_line.home, bet_line.away))\n",
      "\n",
      "for line in bets_text.split('\\n'):\n",
      "    if line == '' or line.startswith('#'):\n",
      "        continue\n",
      "    bet_line = BetLine(line)\n",
      "    add_bet_line(bet_line)\n",
      "\n",
      "league_profit_loss = 0.0\n",
      "total_profit_loss = 0.0\n",
      "for league_name, (current_league, bet_lines) in league_bet_lines.items():\n",
      "    league_profit_loss = 0.0\n",
      "    if not bet_lines:\n",
      "        continue\n",
      "    display(HTML('<h2>{0}</h2>'.format(league_name)))\n",
      "    for bet_line in bet_lines:\n",
      "        match = bet_line.get_relevant_match(current_league, bets_start_date, bets_end_date)\n",
      "        profit_loss = bet_line.get_profit_loss(match=match, commission=0.95)\n",
      "        league_profit_loss += profit_loss\n",
      "        display_bet_analysis(bet_line, match, current_league, profit_loss=profit_loss)\n",
      "    display(HTML('<h3>League profit/loss: {0}</h3>'.format(league_profit_loss)))\n",
      "    total_profit_loss += league_profit_loss\n",
      "display(HTML('<h2>Total profit/loss: {0}</h2>'.format(total_profit_loss)))"
     ],
     "language": "python",
     "metadata": {},
     "outputs": [
      {
       "html": [
        "<h2>premier-league</h2>"
       ],
       "metadata": {},
       "output_type": "display_data",
       "text": [
        "<IPython.core.display.HTML at 0x7f2b66f08160>"
       ]
      },
      {
       "html": [
        "<table><tr><th></th> <th>Watford</th> <th>Crystal Palace</th></tr><tr><td>Goals</td> <td>0</td> <td>1</td></tr>\n",
        "<tr><td>Shots</td> <td>15</td> <td>16</td></tr>\n",
        "<tr><td>SOT</td> <td>2</td> <td>3</td></tr>\n",
        "<tr><td>Shots Scoreline</td> <td>1.4724919093851134</td> <td>1.5706580366774543</td></tr>\n",
        "<tr><td>SOT Scoreline</td> <td>0.5723270440251572</td> <td>0.8584905660377359</td></tr>\n",
        "<tr><td>Score-Shots Diff</td> <td>1.4724919093851134</td> <td>0.5706580366774543</td></tr>\n",
        "<tr><td>Score-Sots Diff</td> <td>0.5723270440251572</td> <td>0.14150943396226412</td></tr>\n",
        "<tr><td>Bet</td> <td>H</td> <td>H</td></tr>\n",
        "<tr><td>Profit/Loss</td> <td>-1.0</td> <td>-1.0</td></tr></table>"
       ],
       "metadata": {},
       "output_type": "display_data",
       "text": [
        "<IPython.core.display.HTML at 0x7f2b66f08160>"
       ]
      },
      {
       "html": [
        "<table><tr><th></th> <th>West Ham</th> <th>Norwich</th></tr><tr><td>Goals</td> <td>2</td> <td>2</td></tr>\n",
        "<tr><td>Shots</td> <td>19</td> <td>16</td></tr>\n",
        "<tr><td>SOT</td> <td>7</td> <td>7</td></tr>\n",
        "<tr><td>Shots Scoreline</td> <td>1.865156418554477</td> <td>1.5706580366774543</td></tr>\n",
        "<tr><td>SOT Scoreline</td> <td>2.00314465408805</td> <td>2.00314465408805</td></tr>\n",
        "<tr><td>Score-Shots Diff</td> <td>0.1348435814455231</td> <td>0.4293419633225457</td></tr>\n",
        "<tr><td>Score-Sots Diff</td> <td>0.0031446540880502027</td> <td>0.0031446540880502027</td></tr>\n",
        "<tr><td>Bet</td> <td>D</td> <td>D</td></tr>\n",
        "<tr><td>Profit/Loss</td> <td>0.1275000000000001</td> <td>0.1275000000000001</td></tr></table>"
       ],
       "metadata": {},
       "output_type": "display_data",
       "text": [
        "<IPython.core.display.HTML at 0x7f2b66f08160>"
       ]
      },
      {
       "html": [
        "<table><tr><th></th> <th>Stoke</th> <th>Bournemouth</th></tr><tr><td>Goals</td> <td>2</td> <td>1</td></tr>\n",
        "<tr><td>Shots</td> <td>8</td> <td>11</td></tr>\n",
        "<tr><td>SOT</td> <td>5</td> <td>6</td></tr>\n",
        "<tr><td>Shots Scoreline</td> <td>0.7853290183387271</td> <td>1.0798274002157497</td></tr>\n",
        "<tr><td>SOT Scoreline</td> <td>1.430817610062893</td> <td>1.7169811320754718</td></tr>\n",
        "<tr><td>Score-Shots Diff</td> <td>1.2146709816612729</td> <td>0.07982740021574974</td></tr>\n",
        "<tr><td>Score-Sots Diff</td> <td>0.5691823899371069</td> <td>0.7169811320754718</td></tr>\n",
        "<tr><td>Bet</td> <td>D</td> <td>D</td></tr>\n",
        "<tr><td>Profit/Loss</td> <td>-1.0</td> <td>-1.0</td></tr></table>"
       ],
       "metadata": {},
       "output_type": "display_data",
       "text": [
        "<IPython.core.display.HTML at 0x7f2b66f08160>"
       ]
      },
      {
       "html": [
        "<table><tr><th></th> <th>Southampton</th> <th>Swansea</th></tr><tr><td>Goals</td> <td>3</td> <td>1</td></tr>\n",
        "<tr><td>Shots</td> <td>18</td> <td>11</td></tr>\n",
        "<tr><td>SOT</td> <td>7</td> <td>4</td></tr>\n",
        "<tr><td>Shots Scoreline</td> <td>1.766990291262136</td> <td>1.0798274002157497</td></tr>\n",
        "<tr><td>SOT Scoreline</td> <td>2.00314465408805</td> <td>1.1446540880503144</td></tr>\n",
        "<tr><td>Score-Shots Diff</td> <td>1.233009708737864</td> <td>0.07982740021574974</td></tr>\n",
        "<tr><td>Score-Sots Diff</td> <td>0.9968553459119498</td> <td>0.14465408805031443</td></tr>\n",
        "<tr><td>Bet</td> <td>H</td> <td>H</td></tr>\n",
        "<tr><td>Profit/Loss</td> <td>0.054000000000000055</td> <td>0.054000000000000055</td></tr></table>"
       ],
       "metadata": {},
       "output_type": "display_data",
       "text": [
        "<IPython.core.display.HTML at 0x7f2b66f08160>"
       ]
      },
      {
       "html": [
        "<table><tr><th></th> <th>Man United</th> <th>Sunderland</th></tr><tr><td>Goals</td> <td>3</td> <td>0</td></tr>\n",
        "<tr><td>Shots</td> <td>12</td> <td>9</td></tr>\n",
        "<tr><td>SOT</td> <td>7</td> <td>4</td></tr>\n",
        "<tr><td>Shots Scoreline</td> <td>1.1779935275080906</td> <td>0.883495145631068</td></tr>\n",
        "<tr><td>SOT Scoreline</td> <td>2.00314465408805</td> <td>1.1446540880503144</td></tr>\n",
        "<tr><td>Score-Shots Diff</td> <td>1.8220064724919094</td> <td>0.883495145631068</td></tr>\n",
        "<tr><td>Score-Sots Diff</td> <td>0.9968553459119498</td> <td>1.1446540880503144</td></tr>\n",
        "<tr><td>Bet</td> <td>H</td> <td>H</td></tr>\n",
        "<tr><td>Profit/Loss</td> <td>0.01200000000000001</td> <td>0.01200000000000001</td></tr></table>"
       ],
       "metadata": {},
       "output_type": "display_data",
       "text": [
        "<IPython.core.display.HTML at 0x7f2b66f08160>"
       ]
      },
      {
       "html": [
        "<table><tr><th></th> <th>Liverpool</th> <th>Aston Villa</th></tr><tr><td>Goals</td> <td>3</td> <td>2</td></tr>\n",
        "<tr><td>Shots</td> <td>21</td> <td>10</td></tr>\n",
        "<tr><td>SOT</td> <td>12</td> <td>4</td></tr>\n",
        "<tr><td>Shots Scoreline</td> <td>2.061488673139159</td> <td>0.9816612729234089</td></tr>\n",
        "<tr><td>SOT Scoreline</td> <td>3.4339622641509435</td> <td>1.1446540880503144</td></tr>\n",
        "<tr><td>Score-Shots Diff</td> <td>0.9385113268608412</td> <td>1.0183387270765911</td></tr>\n",
        "<tr><td>Score-Sots Diff</td> <td>0.4339622641509435</td> <td>0.8553459119496856</td></tr>\n",
        "<tr><td>Bet</td> <td>H</td> <td>H</td></tr>\n",
        "<tr><td>Profit/Loss</td> <td>0.02800000000000003</td> <td>0.02800000000000003</td></tr></table>"
       ],
       "metadata": {},
       "output_type": "display_data",
       "text": [
        "<IPython.core.display.HTML at 0x7f2b66f08160>"
       ]
      },
      {
       "html": [
        "<table><tr><th></th> <th>Newcastle</th> <th>Chelsea</th></tr><tr><td>Goals</td> <td>2</td> <td>2</td></tr>\n",
        "<tr><td>Shots</td> <td>11</td> <td>16</td></tr>\n",
        "<tr><td>SOT</td> <td>5</td> <td>4</td></tr>\n",
        "<tr><td>Shots Scoreline</td> <td>1.0798274002157497</td> <td>1.5706580366774543</td></tr>\n",
        "<tr><td>SOT Scoreline</td> <td>1.430817610062893</td> <td>1.1446540880503144</td></tr>\n",
        "<tr><td>Score-Shots Diff</td> <td>0.9201725997842503</td> <td>0.4293419633225457</td></tr>\n",
        "<tr><td>Score-Sots Diff</td> <td>0.5691823899371069</td> <td>0.8553459119496856</td></tr>\n",
        "<tr><td>Bet</td> <td>A</td> <td>A</td></tr>\n",
        "<tr><td>Profit/Loss</td> <td>-1.0</td> <td>-1.0</td></tr></table>"
       ],
       "metadata": {},
       "output_type": "display_data",
       "text": [
        "<IPython.core.display.HTML at 0x7f2b66f08160>"
       ]
      },
      {
       "html": [
        "<table><tr><th></th> <th>Tottenham</th> <th>Man City</th></tr><tr><td>Goals</td> <td>4</td> <td>1</td></tr>\n",
        "<tr><td>Shots</td> <td>15</td> <td>22</td></tr>\n",
        "<tr><td>SOT</td> <td>8</td> <td>8</td></tr>\n",
        "<tr><td>Shots Scoreline</td> <td>1.4724919093851134</td> <td>2.1596548004314995</td></tr>\n",
        "<tr><td>SOT Scoreline</td> <td>2.289308176100629</td> <td>2.289308176100629</td></tr>\n",
        "<tr><td>Score-Shots Diff</td> <td>2.5275080906148863</td> <td>1.1596548004314995</td></tr>\n",
        "<tr><td>Score-Sots Diff</td> <td>1.7106918238993711</td> <td>1.2893081761006289</td></tr>\n",
        "<tr><td>Bet</td> <td>A</td> <td>A</td></tr>\n",
        "<tr><td>Profit/Loss</td> <td>-1.0</td> <td>-1.0</td></tr></table>"
       ],
       "metadata": {},
       "output_type": "display_data",
       "text": [
        "<IPython.core.display.HTML at 0x7f2b66f08160>"
       ]
      },
      {
       "html": [
        "<table><tr><th></th> <th>Leicester</th> <th>Arsenal</th></tr><tr><td>Goals</td> <td>2</td> <td>5</td></tr>\n",
        "<tr><td>Shots</td> <td>16</td> <td>26</td></tr>\n",
        "<tr><td>SOT</td> <td>7</td> <td>12</td></tr>\n",
        "<tr><td>Shots Scoreline</td> <td>1.5706580366774543</td> <td>2.552319309600863</td></tr>\n",
        "<tr><td>SOT Scoreline</td> <td>2.00314465408805</td> <td>3.4339622641509435</td></tr>\n",
        "<tr><td>Score-Shots Diff</td> <td>0.4293419633225457</td> <td>2.447680690399137</td></tr>\n",
        "<tr><td>Score-Sots Diff</td> <td>0.0031446540880502027</td> <td>1.5660377358490565</td></tr>\n",
        "<tr><td>Bet</td> <td>D</td> <td>D</td></tr>\n",
        "<tr><td>Profit/Loss</td> <td>-1.0</td> <td>-1.0</td></tr></table>"
       ],
       "metadata": {},
       "output_type": "display_data",
       "text": [
        "<IPython.core.display.HTML at 0x7f2b66f08160>"
       ]
      },
      {
       "html": [
        "<h3>League profit/loss: -4.778499999999999</h3>"
       ],
       "metadata": {},
       "output_type": "display_data",
       "text": [
        "<IPython.core.display.HTML at 0x7f2b66f08160>"
       ]
      },
      {
       "html": [
        "<h2>scottish-premiership</h2>"
       ],
       "metadata": {},
       "output_type": "display_data",
       "text": [
        "<IPython.core.display.HTML at 0x7f2b66f08160>"
       ]
      },
      {
       "html": [
        "<table><tr><th></th> <th>Dundee</th> <th>Ross County</th></tr><tr><td>Goals</td> <td>3</td> <td>3</td></tr>\n",
        "<tr><td>Shots</td> <td>13</td> <td>6</td></tr>\n",
        "<tr><td>SOT</td> <td>6</td> <td>4</td></tr>\n",
        "<tr><td>Shots Scoreline</td> <td>1.766304347826087</td> <td>0.8152173913043478</td></tr>\n",
        "<tr><td>SOT Scoreline</td> <td>1.8480492813141685</td> <td>1.2320328542094456</td></tr>\n",
        "<tr><td>Score-Shots Diff</td> <td>1.233695652173913</td> <td>2.1847826086956523</td></tr>\n",
        "<tr><td>Score-Sots Diff</td> <td>1.1519507186858315</td> <td>1.7679671457905544</td></tr>\n",
        "<tr><td>Bet</td> <td>A</td> <td>A</td></tr>\n",
        "<tr><td>Profit/Loss</td> <td>-1.0</td> <td>-1.0</td></tr></table>"
       ],
       "metadata": {},
       "output_type": "display_data",
       "text": [
        "<IPython.core.display.HTML at 0x7f2b66f08160>"
       ]
      },
      {
       "html": [
        "<table><tr><th></th> <th>St Johnstone</th> <th>Dundee United</th></tr><tr><td>Goals</td> <td>2</td> <td>1</td></tr>\n",
        "<tr><td>Shots</td> <td>9</td> <td>14</td></tr>\n",
        "<tr><td>SOT</td> <td>5</td> <td>7</td></tr>\n",
        "<tr><td>Shots Scoreline</td> <td>1.2228260869565217</td> <td>1.9021739130434783</td></tr>\n",
        "<tr><td>SOT Scoreline</td> <td>1.540041067761807</td> <td>2.1560574948665296</td></tr>\n",
        "<tr><td>Score-Shots Diff</td> <td>0.7771739130434783</td> <td>0.9021739130434783</td></tr>\n",
        "<tr><td>Score-Sots Diff</td> <td>0.45995893223819295</td> <td>1.1560574948665296</td></tr>\n",
        "<tr><td>Bet</td> <td>A</td> <td>A</td></tr>\n",
        "<tr><td>Profit/Loss</td> <td>-1.0</td> <td>-1.0</td></tr></table>"
       ],
       "metadata": {},
       "output_type": "display_data",
       "text": [
        "<IPython.core.display.HTML at 0x7f2b66f08160>"
       ]
      },
      {
       "html": [
        "<table><tr><th></th> <th>Motherwell</th> <th>Partick</th></tr><tr><td>Goals</td> <td>2</td> <td>1</td></tr>\n",
        "<tr><td>Shots</td> <td>4</td> <td>14</td></tr>\n",
        "<tr><td>SOT</td> <td>3</td> <td>4</td></tr>\n",
        "<tr><td>Shots Scoreline</td> <td>0.5434782608695652</td> <td>1.9021739130434783</td></tr>\n",
        "<tr><td>SOT Scoreline</td> <td>0.9240246406570842</td> <td>1.2320328542094456</td></tr>\n",
        "<tr><td>Score-Shots Diff</td> <td>1.4565217391304348</td> <td>0.9021739130434783</td></tr>\n",
        "<tr><td>Score-Sots Diff</td> <td>1.0759753593429158</td> <td>0.23203285420944564</td></tr>\n",
        "<tr><td>Bet</td> <td>H</td> <td>H</td></tr>\n",
        "<tr><td>Profit/Loss</td> <td>0.07700000000000007</td> <td>0.07700000000000007</td></tr></table>"
       ],
       "metadata": {},
       "output_type": "display_data",
       "text": [
        "<IPython.core.display.HTML at 0x7f2b66f08160>"
       ]
      },
      {
       "html": [
        "<table><tr><th></th> <th>Kilmarnock</th> <th>Hamilton</th></tr><tr><td>Goals</td> <td>1</td> <td>2</td></tr>\n",
        "<tr><td>Shots</td> <td>19</td> <td>15</td></tr>\n",
        "<tr><td>SOT</td> <td>6</td> <td>6</td></tr>\n",
        "<tr><td>Shots Scoreline</td> <td>2.5815217391304346</td> <td>2.0380434782608696</td></tr>\n",
        "<tr><td>SOT Scoreline</td> <td>1.8480492813141685</td> <td>1.8480492813141685</td></tr>\n",
        "<tr><td>Score-Shots Diff</td> <td>1.5815217391304346</td> <td>0.03804347826086962</td></tr>\n",
        "<tr><td>Score-Sots Diff</td> <td>0.8480492813141685</td> <td>0.15195071868583154</td></tr>\n",
        "<tr><td>Bet</td> <td>A</td> <td>A</td></tr>\n",
        "<tr><td>Profit/Loss</td> <td>0.06612500000000004</td> <td>0.06612500000000004</td></tr></table>"
       ],
       "metadata": {},
       "output_type": "display_data",
       "text": [
        "<IPython.core.display.HTML at 0x7f2b66f08160>"
       ]
      },
      {
       "html": [
        "<table><tr><th></th> <th>Celtic</th> <th>Hearts</th></tr><tr><td>Goals</td> <td>0</td> <td>0</td></tr>\n",
        "<tr><td>Shots</td> <td>24</td> <td>5</td></tr>\n",
        "<tr><td>SOT</td> <td>5</td> <td>0</td></tr>\n",
        "<tr><td>Shots Scoreline</td> <td>3.260869565217391</td> <td>0.6793478260869565</td></tr>\n",
        "<tr><td>SOT Scoreline</td> <td>1.540041067761807</td> <td>0.0</td></tr>\n",
        "<tr><td>Score-Shots Diff</td> <td>3.260869565217391</td> <td>0.6793478260869565</td></tr>\n",
        "<tr><td>Score-Sots Diff</td> <td>1.540041067761807</td> <td>0.0</td></tr>\n",
        "<tr><td>Bet</td> <td>H</td> <td>H</td></tr>\n",
        "<tr><td>Profit/Loss</td> <td>-1.0</td> <td>-1.0</td></tr></table>"
       ],
       "metadata": {},
       "output_type": "display_data",
       "text": [
        "<IPython.core.display.HTML at 0x7f2b66f08160>"
       ]
      },
      {
       "html": [
        "<table><tr><th></th> <th>Inverness C</th> <th>Aberdeen</th></tr><tr><td>Goals</td> <td>2</td> <td>1</td></tr>\n",
        "<tr><td>Shots</td> <td>6</td> <td>11</td></tr>\n",
        "<tr><td>SOT</td> <td>5</td> <td>2</td></tr>\n",
        "<tr><td>Shots Scoreline</td> <td>0.8152173913043478</td> <td>1.4945652173913042</td></tr>\n",
        "<tr><td>SOT Scoreline</td> <td>1.540041067761807</td> <td>0.6160164271047228</td></tr>\n",
        "<tr><td>Score-Shots Diff</td> <td>1.1847826086956523</td> <td>0.4945652173913042</td></tr>\n",
        "<tr><td>Score-Sots Diff</td> <td>0.45995893223819295</td> <td>0.3839835728952772</td></tr>\n",
        "<tr><td>Bet</td> <td>A</td> <td>A</td></tr>\n",
        "<tr><td>Profit/Loss</td> <td>-1.0</td> <td>-1.0</td></tr></table>"
       ],
       "metadata": {},
       "output_type": "display_data",
       "text": [
        "<IPython.core.display.HTML at 0x7f2b66f08160>"
       ]
      },
      {
       "html": [
        "<h3>League profit/loss: -3.856875</h3>"
       ],
       "metadata": {},
       "output_type": "display_data",
       "text": [
        "<IPython.core.display.HTML at 0x7f2b66f08160>"
       ]
      },
      {
       "html": [
        "<h2>championship</h2>"
       ],
       "metadata": {},
       "output_type": "display_data",
       "text": [
        "<IPython.core.display.HTML at 0x7f2b66f08160>"
       ]
      },
      {
       "html": [
        "<table><tr><th></th> <th>Milton Keynes Dons</th> <th>Derby</th></tr><tr><td>Goals</td> <td>1</td> <td>3</td></tr>\n",
        "<tr><td>Shots</td> <td>26</td> <td>10</td></tr>\n",
        "<tr><td>SOT</td> <td>4</td> <td>5</td></tr>\n",
        "<tr><td>Shots Scoreline</td> <td>2.514018691588785</td> <td>0.9669302659956865</td></tr>\n",
        "<tr><td>SOT Scoreline</td> <td>1.218573046432616</td> <td>1.5232163080407701</td></tr>\n",
        "<tr><td>Score-Shots Diff</td> <td>1.514018691588785</td> <td>2.0330697340043136</td></tr>\n",
        "<tr><td>Score-Sots Diff</td> <td>0.2185730464326161</td> <td>1.4767836919592299</td></tr>\n",
        "<tr><td>Bet</td> <td>A</td> <td>A</td></tr>\n",
        "<tr><td>Profit/Loss</td> <td>0.05300000000000005</td> <td>0.05300000000000005</td></tr></table>"
       ],
       "metadata": {},
       "output_type": "display_data",
       "text": [
        "<IPython.core.display.HTML at 0x7f2b66f08160>"
       ]
      },
      {
       "html": [
        "<table><tr><th></th> <th>Birmingham</th> <th>Rotherham</th></tr><tr><td>Goals</td> <td>0</td> <td>2</td></tr>\n",
        "<tr><td>Shots</td> <td>17</td> <td>18</td></tr>\n",
        "<tr><td>SOT</td> <td>1</td> <td>6</td></tr>\n",
        "<tr><td>Shots Scoreline</td> <td>1.6437814521926672</td> <td>1.740474478792236</td></tr>\n",
        "<tr><td>SOT Scoreline</td> <td>0.304643261608154</td> <td>1.8278595696489242</td></tr>\n",
        "<tr><td>Score-Shots Diff</td> <td>1.6437814521926672</td> <td>0.25952552120776406</td></tr>\n",
        "<tr><td>Score-Sots Diff</td> <td>0.304643261608154</td> <td>0.17214043035107585</td></tr>\n",
        "<tr><td>Bet</td> <td>D</td> <td>D</td></tr>\n",
        "<tr><td>Profit/Loss</td> <td>-1.0</td> <td>-1.0</td></tr></table>"
       ],
       "metadata": {},
       "output_type": "display_data",
       "text": [
        "<IPython.core.display.HTML at 0x7f2b66f08160>"
       ]
      },
      {
       "html": [
        "<table><tr><th></th> <th>Ipswich</th> <th>Bristol City</th></tr><tr><td>Goals</td> <td>2</td> <td>2</td></tr>\n",
        "<tr><td>Shots</td> <td>20</td> <td>10</td></tr>\n",
        "<tr><td>SOT</td> <td>5</td> <td>3</td></tr>\n",
        "<tr><td>Shots Scoreline</td> <td>1.933860531991373</td> <td>0.9669302659956865</td></tr>\n",
        "<tr><td>SOT Scoreline</td> <td>1.5232163080407701</td> <td>0.9139297848244621</td></tr>\n",
        "<tr><td>Score-Shots Diff</td> <td>0.06613946800862691</td> <td>1.0330697340043136</td></tr>\n",
        "<tr><td>Score-Sots Diff</td> <td>0.47678369195922987</td> <td>1.086070215175538</td></tr>\n",
        "<tr><td>Bet</td> <td>D</td> <td>D</td></tr>\n",
        "<tr><td>Profit/Loss</td> <td>0.13750000000000012</td> <td>0.13750000000000012</td></tr></table>"
       ],
       "metadata": {},
       "output_type": "display_data",
       "text": [
        "<IPython.core.display.HTML at 0x7f2b66f08160>"
       ]
      },
      {
       "html": [
        "<table><tr><th></th> <th>Brentford</th> <th>Sheffield Weds</th></tr><tr><td>Goals</td> <td>1</td> <td>2</td></tr>\n",
        "<tr><td>Shots</td> <td>11</td> <td>15</td></tr>\n",
        "<tr><td>SOT</td> <td>5</td> <td>6</td></tr>\n",
        "<tr><td>Shots Scoreline</td> <td>1.0636232925952553</td> <td>1.4503953989935299</td></tr>\n",
        "<tr><td>SOT Scoreline</td> <td>1.5232163080407701</td> <td>1.8278595696489242</td></tr>\n",
        "<tr><td>Score-Shots Diff</td> <td>0.06362329259525534</td> <td>0.5496046010064701</td></tr>\n",
        "<tr><td>Score-Sots Diff</td> <td>0.5232163080407701</td> <td>0.17214043035107585</td></tr>\n",
        "<tr><td>Bet</td> <td>D</td> <td>D</td></tr>\n",
        "<tr><td>Profit/Loss</td> <td>-1.0</td> <td>-1.0</td></tr></table>"
       ],
       "metadata": {},
       "output_type": "display_data",
       "text": [
        "<IPython.core.display.HTML at 0x7f2b66f08160>"
       ]
      },
      {
       "html": [
        "<table><tr><th></th> <th>Preston</th> <th>Wolves</th></tr><tr><td>Goals</td> <td>1</td> <td>1</td></tr>\n",
        "<tr><td>Shots</td> <td>8</td> <td>15</td></tr>\n",
        "<tr><td>SOT</td> <td>2</td> <td>4</td></tr>\n",
        "<tr><td>Shots Scoreline</td> <td>0.7735442127965493</td> <td>1.4503953989935299</td></tr>\n",
        "<tr><td>SOT Scoreline</td> <td>0.609286523216308</td> <td>1.218573046432616</td></tr>\n",
        "<tr><td>Score-Shots Diff</td> <td>0.22645578720345072</td> <td>0.45039539899352987</td></tr>\n",
        "<tr><td>Score-Sots Diff</td> <td>0.39071347678369195</td> <td>0.2185730464326161</td></tr>\n",
        "<tr><td>Bet</td> <td>H</td> <td>H</td></tr>\n",
        "<tr><td>Profit/Loss</td> <td>-1.0</td> <td>-1.0</td></tr></table>"
       ],
       "metadata": {},
       "output_type": "display_data",
       "text": [
        "<IPython.core.display.HTML at 0x7f2b66f08160>"
       ]
      },
      {
       "html": [
        "<table><tr><th></th> <th>Fulham</th> <th>QPR</th></tr><tr><td>Goals</td> <td>4</td> <td>0</td></tr>\n",
        "<tr><td>Shots</td> <td>13</td> <td>7</td></tr>\n",
        "<tr><td>SOT</td> <td>7</td> <td>2</td></tr>\n",
        "<tr><td>Shots Scoreline</td> <td>1.2570093457943925</td> <td>0.6768511861969806</td></tr>\n",
        "<tr><td>SOT Scoreline</td> <td>2.132502831257078</td> <td>0.609286523216308</td></tr>\n",
        "<tr><td>Score-Shots Diff</td> <td>2.7429906542056077</td> <td>0.6768511861969806</td></tr>\n",
        "<tr><td>Score-Sots Diff</td> <td>1.867497168742922</td> <td>0.609286523216308</td></tr>\n",
        "<tr><td>Bet</td> <td>D</td> <td>D</td></tr>\n",
        "<tr><td>Profit/Loss</td> <td>-1.0</td> <td>-1.0</td></tr></table>"
       ],
       "metadata": {},
       "output_type": "display_data",
       "text": [
        "<IPython.core.display.HTML at 0x7f2b66f08160>"
       ]
      },
      {
       "html": [
        "<table><tr><th></th> <th>Middlesbrough</th> <th>Leeds</th></tr><tr><td>Goals</td> <td>3</td> <td>0</td></tr>\n",
        "<tr><td>Shots</td> <td>6</td> <td>12</td></tr>\n",
        "<tr><td>SOT</td> <td>2</td> <td>6</td></tr>\n",
        "<tr><td>Shots Scoreline</td> <td>0.5801581595974119</td> <td>1.1603163191948238</td></tr>\n",
        "<tr><td>SOT Scoreline</td> <td>0.609286523216308</td> <td>1.8278595696489242</td></tr>\n",
        "<tr><td>Score-Shots Diff</td> <td>2.4198418404025883</td> <td>1.1603163191948238</td></tr>\n",
        "<tr><td>Score-Sots Diff</td> <td>2.390713476783692</td> <td>1.8278595696489242</td></tr>\n",
        "<tr><td>Bet</td> <td>H</td> <td>H</td></tr>\n",
        "<tr><td>Profit/Loss</td> <td>0.027500000000000028</td> <td>0.027500000000000028</td></tr></table>"
       ],
       "metadata": {},
       "output_type": "display_data",
       "text": [
        "<IPython.core.display.HTML at 0x7f2b66f08160>"
       ]
      },
      {
       "html": [
        "<table><tr><th></th> <th>Burnley</th> <th>Reading</th></tr><tr><td>Goals</td> <td>1</td> <td>2</td></tr>\n",
        "<tr><td>Shots</td> <td>9</td> <td>17</td></tr>\n",
        "<tr><td>SOT</td> <td>5</td> <td>6</td></tr>\n",
        "<tr><td>Shots Scoreline</td> <td>0.870237239396118</td> <td>1.6437814521926672</td></tr>\n",
        "<tr><td>SOT Scoreline</td> <td>1.5232163080407701</td> <td>1.8278595696489242</td></tr>\n",
        "<tr><td>Score-Shots Diff</td> <td>0.12976276060388203</td> <td>0.35621854780733275</td></tr>\n",
        "<tr><td>Score-Sots Diff</td> <td>0.5232163080407701</td> <td>0.17214043035107585</td></tr>\n",
        "<tr><td>Bet</td> <td>A</td> <td>A</td></tr>\n",
        "<tr><td>Profit/Loss</td> <td>0.1050000000000001</td> <td>0.1050000000000001</td></tr></table>"
       ],
       "metadata": {},
       "output_type": "display_data",
       "text": [
        "<IPython.core.display.HTML at 0x7f2b66f08160>"
       ]
      },
      {
       "html": [
        "<table><tr><th></th> <th>Cardiff</th> <th>Charlton</th></tr><tr><td>Goals</td> <td>2</td> <td>1</td></tr>\n",
        "<tr><td>Shots</td> <td>20</td> <td>13</td></tr>\n",
        "<tr><td>SOT</td> <td>5</td> <td>7</td></tr>\n",
        "<tr><td>Shots Scoreline</td> <td>1.933860531991373</td> <td>1.2570093457943925</td></tr>\n",
        "<tr><td>SOT Scoreline</td> <td>1.5232163080407701</td> <td>2.132502831257078</td></tr>\n",
        "<tr><td>Score-Shots Diff</td> <td>0.06613946800862691</td> <td>0.2570093457943925</td></tr>\n",
        "<tr><td>Score-Sots Diff</td> <td>0.47678369195922987</td> <td>1.132502831257078</td></tr>\n",
        "<tr><td>Bet</td> <td>H</td> <td>H</td></tr>\n",
        "<tr><td>Profit/Loss</td> <td>0.04805000000000006</td> <td>0.04805000000000006</td></tr></table>"
       ],
       "metadata": {},
       "output_type": "display_data",
       "text": [
        "<IPython.core.display.HTML at 0x7f2b66f08160>"
       ]
      },
      {
       "html": [
        "<table><tr><th></th> <th>Bolton</th> <th>Brighton</th></tr><tr><td>Goals</td> <td>2</td> <td>2</td></tr>\n",
        "<tr><td>Shots</td> <td>15</td> <td>11</td></tr>\n",
        "<tr><td>SOT</td> <td>8</td> <td>3</td></tr>\n",
        "<tr><td>Shots Scoreline</td> <td>1.4503953989935299</td> <td>1.0636232925952553</td></tr>\n",
        "<tr><td>SOT Scoreline</td> <td>2.437146092865232</td> <td>0.9139297848244621</td></tr>\n",
        "<tr><td>Score-Shots Diff</td> <td>0.5496046010064701</td> <td>0.9363767074047447</td></tr>\n",
        "<tr><td>Score-Sots Diff</td> <td>0.4371460928652322</td> <td>1.086070215175538</td></tr>\n",
        "<tr><td>Bet</td> <td>A</td> <td>A</td></tr>\n",
        "<tr><td>Profit/Loss</td> <td>-1.0</td> <td>-1.0</td></tr></table>"
       ],
       "metadata": {},
       "output_type": "display_data",
       "text": [
        "<IPython.core.display.HTML at 0x7f2b66f08160>"
       ]
      },
      {
       "html": [
        "<table><tr><th></th> <th>Hull</th> <th>Blackburn</th></tr><tr><td>Goals</td> <td>1</td> <td>1</td></tr>\n",
        "<tr><td>Shots</td> <td>23</td> <td>14</td></tr>\n",
        "<tr><td>SOT</td> <td>4</td> <td>3</td></tr>\n",
        "<tr><td>Shots Scoreline</td> <td>2.223939611790079</td> <td>1.3537023723939612</td></tr>\n",
        "<tr><td>SOT Scoreline</td> <td>1.218573046432616</td> <td>0.9139297848244621</td></tr>\n",
        "<tr><td>Score-Shots Diff</td> <td>1.2239396117900792</td> <td>0.3537023723939612</td></tr>\n",
        "<tr><td>Score-Sots Diff</td> <td>0.2185730464326161</td> <td>0.08607021517553792</td></tr>\n",
        "<tr><td>Bet</td> <td>D</td> <td>D</td></tr>\n",
        "<tr><td>Profit/Loss</td> <td>0.1275000000000001</td> <td>0.1275000000000001</td></tr></table>"
       ],
       "metadata": {},
       "output_type": "display_data",
       "text": [
        "<IPython.core.display.HTML at 0x7f2b66f08160>"
       ]
      },
      {
       "html": [
        "<h3>League profit/loss: -4.501449999999999</h3>"
       ],
       "metadata": {},
       "output_type": "display_data",
       "text": [
        "<IPython.core.display.HTML at 0x7f2b66f08160>"
       ]
      },
      {
       "html": [
        "<h2>Total profit/loss: -13.136824999999998</h2>"
       ],
       "metadata": {},
       "output_type": "display_data",
       "text": [
        "<IPython.core.display.HTML at 0x7f2b66f08048>"
       ]
      }
     ],
     "prompt_number": 34
    },
    {
     "cell_type": "code",
     "collapsed": false,
     "input": [],
     "language": "python",
     "metadata": {},
     "outputs": []
    }
   ],
   "metadata": {}
  }
 ]
}