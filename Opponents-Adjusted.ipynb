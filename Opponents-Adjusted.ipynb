{
 "metadata": {
  "name": "",
  "signature": "sha256:6c445bbf33f648bcf7b2ea1f032d51fdcf5bd644ce3e1dab50727b8dad168f61"
 },
 "nbformat": 3,
 "nbformat_minor": 0,
 "worksheets": [
  {
   "cells": [
    {
     "cell_type": "code",
     "collapsed": false,
     "input": [
      "import blog.posts.league_analysis as league_analysis"
     ],
     "language": "python",
     "metadata": {},
     "outputs": [],
     "prompt_number": 1
    },
    {
     "cell_type": "code",
     "collapsed": false,
     "input": [
      "epl = league_analysis.year_201516.epl_league\n",
      "epl.parse_league_data()\n",
      "epl.calculate_statistics()"
     ],
     "language": "python",
     "metadata": {},
     "outputs": [],
     "prompt_number": 10
    },
    {
     "cell_type": "code",
     "collapsed": false,
     "input": [
      "shots = {t: epl.team_stats[t].shots_for for t in epl.teams}\n",
      "league_analysis.display_dictionary(shots)"
     ],
     "language": "python",
     "metadata": {},
     "outputs": [
      {
       "html": [
        "<div style=\"display:inline-block;\"><table>\n",
        "<tr><td>Swansea</td><td>57</td></tr>\n",
        "<tr><td>Norwich</td><td>57</td></tr>\n",
        "<tr><td>Man City</td><td>53</td></tr>\n",
        "<tr><td>Southampton</td><td>46</td></tr>\n",
        "<tr><td>Leicester</td><td>43</td></tr>\n",
        "<tr><td>Arsenal</td><td>42</td></tr>\n",
        "<tr><td>Tottenham</td><td>41</td></tr>\n",
        "<tr><td>Watford</td><td>40</td></tr>\n",
        "<tr><td>Bournemouth</td><td>39</td></tr>\n",
        "<tr><td>Crystal Palace</td><td>38</td></tr>\n",
        "<tr><td>Man United</td><td>38</td></tr>\n",
        "<tr><td>Chelsea</td><td>36</td></tr>\n",
        "<tr><td>Everton</td><td>30</td></tr>\n",
        "<tr><td>West Brom</td><td>30</td></tr>\n",
        "<tr><td>Stoke</td><td>29</td></tr>\n",
        "<tr><td>West Ham</td><td>28</td></tr>\n",
        "<tr><td>Liverpool</td><td>26</td></tr>\n",
        "<tr><td>Sunderland</td><td>26</td></tr>\n",
        "<tr><td>Aston Villa</td><td>23</td></tr>\n",
        "<tr><td>Newcastle</td><td>20</td></tr>\n",
        "</table></div>"
       ],
       "metadata": {},
       "output_type": "display_data",
       "text": [
        "<IPython.core.display.HTML at 0x7fc38355ebe0>"
       ]
      }
     ],
     "prompt_number": 11
    },
    {
     "cell_type": "code",
     "collapsed": false,
     "input": [
      "shots_against = {t: epl.team_stats[t].shots_against for t in epl.teams}\n",
      "league_analysis.display_dictionary(shots_against)"
     ],
     "language": "python",
     "metadata": {},
     "outputs": [
      {
       "html": [
        "<div style=\"display:inline-block;\"><table>\n",
        "<tr><td>Sunderland</td><td>58</td></tr>\n",
        "<tr><td>Newcastle</td><td>54</td></tr>\n",
        "<tr><td>Chelsea</td><td>51</td></tr>\n",
        "<tr><td>West Brom</td><td>50</td></tr>\n",
        "<tr><td>Crystal Palace</td><td>48</td></tr>\n",
        "<tr><td>West Ham</td><td>48</td></tr>\n",
        "<tr><td>Everton</td><td>44</td></tr>\n",
        "<tr><td>Stoke</td><td>42</td></tr>\n",
        "<tr><td>Leicester</td><td>39</td></tr>\n",
        "<tr><td>Tottenham</td><td>38</td></tr>\n",
        "<tr><td>Aston Villa</td><td>36</td></tr>\n",
        "<tr><td>Bournemouth</td><td>35</td></tr>\n",
        "<tr><td>Southampton</td><td>32</td></tr>\n",
        "<tr><td>Watford</td><td>30</td></tr>\n",
        "<tr><td>Man City</td><td>29</td></tr>\n",
        "<tr><td>Swansea</td><td>25</td></tr>\n",
        "<tr><td>Norwich</td><td>23</td></tr>\n",
        "<tr><td>Man United</td><td>21</td></tr>\n",
        "<tr><td>Liverpool</td><td>20</td></tr>\n",
        "<tr><td>Arsenal</td><td>19</td></tr>\n",
        "</table></div>"
       ],
       "metadata": {},
       "output_type": "display_data",
       "text": [
        "<IPython.core.display.HTML at 0x7fc383565e48>"
       ]
      }
     ],
     "prompt_number": 4
    },
    {
     "cell_type": "code",
     "collapsed": false,
     "input": [
      "def get_shots_for_per_game(team):\n",
      "    stats = epl.team_stats[team]\n",
      "    return stats.shots_for / stats.num_games\n",
      "shots_for_per_game = {t: get_shots_for_per_game(t) for t in epl.teams}\n",
      "league_analysis.display_dictionary(shots_for_per_game)"
     ],
     "language": "python",
     "metadata": {},
     "outputs": [
      {
       "html": [
        "<div style=\"display:inline-block;\"><table>\n",
        "<tr><td>Arsenal</td><td>21.0</td></tr>\n",
        "<tr><td>Swansea</td><td>19.0</td></tr>\n",
        "<tr><td>Norwich</td><td>19.0</td></tr>\n",
        "<tr><td>Man City</td><td>17.666666666666668</td></tr>\n",
        "<tr><td>Southampton</td><td>15.333333333333334</td></tr>\n",
        "<tr><td>Leicester</td><td>14.333333333333334</td></tr>\n",
        "<tr><td>Tottenham</td><td>13.666666666666666</td></tr>\n",
        "<tr><td>Watford</td><td>13.333333333333334</td></tr>\n",
        "<tr><td>Liverpool</td><td>13.0</td></tr>\n",
        "<tr><td>Bournemouth</td><td>13.0</td></tr>\n",
        "<tr><td>Crystal Palace</td><td>12.666666666666666</td></tr>\n",
        "<tr><td>Man United</td><td>12.666666666666666</td></tr>\n",
        "<tr><td>Chelsea</td><td>12.0</td></tr>\n",
        "<tr><td>Everton</td><td>10.0</td></tr>\n",
        "<tr><td>West Brom</td><td>10.0</td></tr>\n",
        "<tr><td>Stoke</td><td>9.666666666666666</td></tr>\n",
        "<tr><td>West Ham</td><td>9.333333333333334</td></tr>\n",
        "<tr><td>Sunderland</td><td>8.666666666666666</td></tr>\n",
        "<tr><td>Aston Villa</td><td>7.666666666666667</td></tr>\n",
        "<tr><td>Newcastle</td><td>6.666666666666667</td></tr>\n",
        "</table></div>"
       ],
       "metadata": {},
       "output_type": "display_data",
       "text": [
        "<IPython.core.display.HTML at 0x7fc383508e10>"
       ]
      }
     ],
     "prompt_number": 8
    },
    {
     "cell_type": "code",
     "collapsed": false,
     "input": [
      "def get_shots_against_per_game(team):\n",
      "    stats = epl.team_stats[team]\n",
      "    return stats.shots_against / stats.num_games\n",
      "shots_against_per_game = {t: get_shots_against_per_game(t) for t in epl.teams}\n",
      "league_analysis.display_dictionary(shots_against_per_game)"
     ],
     "language": "python",
     "metadata": {},
     "outputs": [
      {
       "html": [
        "<div style=\"display:inline-block;\"><table>\n",
        "<tr><td>Sunderland</td><td>19.333333333333332</td></tr>\n",
        "<tr><td>Newcastle</td><td>18.0</td></tr>\n",
        "<tr><td>Chelsea</td><td>17.0</td></tr>\n",
        "<tr><td>West Brom</td><td>16.666666666666668</td></tr>\n",
        "<tr><td>Crystal Palace</td><td>16.0</td></tr>\n",
        "<tr><td>West Ham</td><td>16.0</td></tr>\n",
        "<tr><td>Everton</td><td>14.666666666666666</td></tr>\n",
        "<tr><td>Stoke</td><td>14.0</td></tr>\n",
        "<tr><td>Leicester</td><td>13.0</td></tr>\n",
        "<tr><td>Tottenham</td><td>12.666666666666666</td></tr>\n",
        "<tr><td>Aston Villa</td><td>12.0</td></tr>\n",
        "<tr><td>Bournemouth</td><td>11.666666666666666</td></tr>\n",
        "<tr><td>Southampton</td><td>10.666666666666666</td></tr>\n",
        "<tr><td>Liverpool</td><td>10.0</td></tr>\n",
        "<tr><td>Watford</td><td>10.0</td></tr>\n",
        "<tr><td>Man City</td><td>9.666666666666666</td></tr>\n",
        "<tr><td>Arsenal</td><td>9.5</td></tr>\n",
        "<tr><td>Swansea</td><td>8.333333333333334</td></tr>\n",
        "<tr><td>Norwich</td><td>7.666666666666667</td></tr>\n",
        "<tr><td>Man United</td><td>7.0</td></tr>\n",
        "</table></div>"
       ],
       "metadata": {},
       "output_type": "display_data",
       "text": [
        "<IPython.core.display.HTML at 0x7fc38356d4e0>"
       ]
      }
     ],
     "prompt_number": 5
    },
    {
     "cell_type": "code",
     "collapsed": false,
     "input": [
      "def get_adjusted_stat(team, stat_home_name, stat_away_name, reverse_stat_dict):\n",
      "    matches = [m for m in epl.matches if league_analysis.involved_in_game(team, m)]\n",
      "    def get_adjusted_stat(match):\n",
      "        if match.HomeTeam == team:\n",
      "            opponent = match.AwayTeam\n",
      "            team_stat = getattr(match, stat_home_name)\n",
      "        else:\n",
      "            opponent = match.HomeTeam\n",
      "            team_stat = getattr(match, stat_away_name)\n",
      "        opponent_avg_stat = reverse_stat_dict[opponent]\n",
      "        return team_stat - opponent_avg_stat\n",
      "    sum_diff = sum(get_adjusted_stat(m) for m in matches)\n",
      "    diff_per_game = sum_diff / float(len(matches))\n",
      "    return diff_per_game\n",
      "def get_adjusted_stat_dictionary(stat_home_name, stat_away_name, reverse_stat_name):\n",
      "    def get_reverse_stat(team):\n",
      "        stats = epl.team_stats[team]\n",
      "        return getattr(stats, reverse_stat_name) / float(stats.num_games)\n",
      "    reverse_stat_dict = {t: get_reverse_stat(t) for t in epl.teams}\n",
      "    adjusted_stats = {t: get_adjusted_stat(t, stat_home_name, stat_away_name, reverse_stat_dict)\n",
      "                      for t in epl.teams}\n",
      "    return adjusted_stats"
     ],
     "language": "python",
     "metadata": {},
     "outputs": [],
     "prompt_number": 21
    },
    {
     "cell_type": "code",
     "collapsed": false,
     "input": [
      "adjusted_shots_per_game = get_adjusted_stat_dictionary('HS', 'AS', 'shots_against')\n",
      "league_analysis.display_dictionary(adjusted_shots_per_game)"
     ],
     "language": "python",
     "metadata": {},
     "outputs": [
      {
       "html": [
        "<div style=\"display:inline-block;\"><table>\n",
        "<tr><td>Arsenal</td><td>5.0</td></tr>\n",
        "<tr><td>Crystal Palace</td><td>2.944444444444444</td></tr>\n",
        "<tr><td>Norwich</td><td>2.555555555555556</td></tr>\n",
        "<tr><td>Tottenham</td><td>2.3333333333333335</td></tr>\n",
        "<tr><td>Man City</td><td>1.5555555555555554</td></tr>\n",
        "<tr><td>Southampton</td><td>1.1111111111111114</td></tr>\n",
        "<tr><td>Swansea</td><td>0.8888888888888893</td></tr>\n",
        "<tr><td>Chelsea</td><td>0.44444444444444403</td></tr>\n",
        "<tr><td>Bournemouth</td><td>0.3333333333333333</td></tr>\n",
        "<tr><td>Liverpool</td><td>0.16666666666666696</td></tr>\n",
        "<tr><td>Everton</td><td>-0.11111111111111072</td></tr>\n",
        "<tr><td>Stoke</td><td>-0.44444444444444436</td></tr>\n",
        "<tr><td>Watford</td><td>-0.6666666666666666</td></tr>\n",
        "<tr><td>Sunderland</td><td>-1.0000000000000002</td></tr>\n",
        "<tr><td>Man United</td><td>-1.5555555555555554</td></tr>\n",
        "<tr><td>Leicester</td><td>-1.666666666666666</td></tr>\n",
        "<tr><td>Newcastle</td><td>-2.0</td></tr>\n",
        "<tr><td>West Ham</td><td>-2.0555555555555554</td></tr>\n",
        "<tr><td>West Brom</td><td>-2.222222222222222</td></tr>\n",
        "<tr><td>Aston Villa</td><td>-3.888888888888889</td></tr>\n",
        "</table></div>"
       ],
       "metadata": {},
       "output_type": "display_data",
       "text": [
        "<IPython.core.display.HTML at 0x7fc383557588>"
       ]
      }
     ],
     "prompt_number": 23
    },
    {
     "cell_type": "code",
     "collapsed": false,
     "input": [
      "adjusted_shots_against_per_game = get_adjusted_stat_dictionary('AS', 'HS', shots_for_per_game)\n",
      "league_analysis.display_dictionary(adjusted_shots_against_per_game)"
     ],
     "language": "python",
     "metadata": {},
     "outputs": [
      {
       "html": [
        "<div style=\"display:inline-block;\"><table>\n",
        "<tr><td>Leicester</td><td>2.4444444444444446</td></tr>\n",
        "<tr><td>Newcastle</td><td>2.3333333333333335</td></tr>\n",
        "<tr><td>West Brom</td><td>2.3333333333333326</td></tr>\n",
        "<tr><td>Sunderland</td><td>1.8888888888888886</td></tr>\n",
        "<tr><td>Bournemouth</td><td>1.6666666666666663</td></tr>\n",
        "<tr><td>Chelsea</td><td>1.444444444444444</td></tr>\n",
        "<tr><td>Southampton</td><td>0.6666666666666664</td></tr>\n",
        "<tr><td>Tottenham</td><td>0.44444444444444464</td></tr>\n",
        "<tr><td>Crystal Palace</td><td>0.11111111111111101</td></tr>\n",
        "<tr><td>West Ham</td><td>-0.11111111111111131</td></tr>\n",
        "<tr><td>Aston Villa</td><td>-0.7777777777777773</td></tr>\n",
        "<tr><td>Swansea</td><td>-0.7777777777777777</td></tr>\n",
        "<tr><td>Everton</td><td>-0.7777777777777786</td></tr>\n",
        "<tr><td>Man City</td><td>-1.0</td></tr>\n",
        "<tr><td>Stoke</td><td>-1.222222222222222</td></tr>\n",
        "<tr><td>Liverpool</td><td>-1.333333333333333</td></tr>\n",
        "<tr><td>Arsenal</td><td>-1.5</td></tr>\n",
        "<tr><td>Watford</td><td>-1.777777777777778</td></tr>\n",
        "<tr><td>Man United</td><td>-2.3333333333333335</td></tr>\n",
        "<tr><td>Norwich</td><td>-2.666666666666666</td></tr>\n",
        "</table></div>"
       ],
       "metadata": {},
       "output_type": "display_data",
       "text": [
        "<IPython.core.display.HTML at 0x7fc383556940>"
       ]
      }
     ],
     "prompt_number": 20
    },
    {
     "cell_type": "code",
     "collapsed": false,
     "input": [
      "adjusted_sot_per_game = get_adjusted_stat_dictionary('HST', 'AST', 'sot_against')\n",
      "league_analysis.display_dictionary(adjusted_sot_per_game)"
     ],
     "language": "python",
     "metadata": {},
     "outputs": [
      {
       "html": [
        "<div style=\"display:inline-block;\"><table>\n",
        "<tr><td>Crystal Palace</td><td>2.111111111111111</td></tr>\n",
        "<tr><td>Tottenham</td><td>1.6666666666666663</td></tr>\n",
        "<tr><td>Man City</td><td>1.4444444444444444</td></tr>\n",
        "<tr><td>Swansea</td><td>1.0</td></tr>\n",
        "<tr><td>Arsenal</td><td>0.8333333333333335</td></tr>\n",
        "<tr><td>Everton</td><td>0.6666666666666666</td></tr>\n",
        "<tr><td>Chelsea</td><td>0.3333333333333332</td></tr>\n",
        "<tr><td>Stoke</td><td>0.2777777777777777</td></tr>\n",
        "<tr><td>Norwich</td><td>0.22222222222222202</td></tr>\n",
        "<tr><td>Bournemouth</td><td>-0.055555555555555504</td></tr>\n",
        "<tr><td>Newcastle</td><td>-0.22222222222222224</td></tr>\n",
        "<tr><td>West Ham</td><td>-0.22222222222222232</td></tr>\n",
        "<tr><td>Leicester</td><td>-0.4444444444444445</td></tr>\n",
        "<tr><td>Sunderland</td><td>-0.44444444444444464</td></tr>\n",
        "<tr><td>Southampton</td><td>-0.5555555555555555</td></tr>\n",
        "<tr><td>Man United</td><td>-0.6666666666666666</td></tr>\n",
        "<tr><td>Aston Villa</td><td>-1.2222222222222223</td></tr>\n",
        "<tr><td>Watford</td><td>-1.4444444444444446</td></tr>\n",
        "<tr><td>West Brom</td><td>-1.777777777777778</td></tr>\n",
        "<tr><td>Liverpool</td><td>-1.8333333333333335</td></tr>\n",
        "</table></div>"
       ],
       "metadata": {},
       "output_type": "display_data",
       "text": [
        "<IPython.core.display.HTML at 0x7fc383557748>"
       ]
      }
     ],
     "prompt_number": 25
    },
    {
     "cell_type": "code",
     "collapsed": false,
     "input": [
      "adjusted_sot_against_per_game = get_adjusted_stat_dictionary('AST', 'HST', 'sot_for')\n",
      "league_analysis.display_dictionary(adjusted_sot_against_per_game)"
     ],
     "language": "python",
     "metadata": {},
     "outputs": [
      {
       "html": [
        "<div style=\"display:inline-block;\"><table>\n",
        "<tr><td>Chelsea</td><td>1.6666666666666667</td></tr>\n",
        "<tr><td>West Ham</td><td>1.1666666666666667</td></tr>\n",
        "<tr><td>Sunderland</td><td>1.0</td></tr>\n",
        "<tr><td>Stoke</td><td>0.8333333333333334</td></tr>\n",
        "<tr><td>Newcastle</td><td>0.7777777777777777</td></tr>\n",
        "<tr><td>West Brom</td><td>0.6666666666666666</td></tr>\n",
        "<tr><td>Everton</td><td>0.6666666666666665</td></tr>\n",
        "<tr><td>Leicester</td><td>0.5555555555555555</td></tr>\n",
        "<tr><td>Bournemouth</td><td>0.27777777777777785</td></tr>\n",
        "<tr><td>Crystal Palace</td><td>0.05555555555555566</td></tr>\n",
        "<tr><td>Southampton</td><td>-0.22222222222222232</td></tr>\n",
        "<tr><td>Watford</td><td>-0.22222222222222232</td></tr>\n",
        "<tr><td>Swansea</td><td>-0.5555555555555555</td></tr>\n",
        "<tr><td>Norwich</td><td>-0.5555555555555557</td></tr>\n",
        "<tr><td>Tottenham</td><td>-0.6666666666666665</td></tr>\n",
        "<tr><td>Arsenal</td><td>-0.6666666666666667</td></tr>\n",
        "<tr><td>Aston Villa</td><td>-1.0</td></tr>\n",
        "<tr><td>Man City</td><td>-1.222222222222222</td></tr>\n",
        "<tr><td>Man United</td><td>-1.5555555555555556</td></tr>\n",
        "<tr><td>Liverpool</td><td>-1.8333333333333333</td></tr>\n",
        "</table></div>"
       ],
       "metadata": {},
       "output_type": "display_data",
       "text": [
        "<IPython.core.display.HTML at 0x7fc383557588>"
       ]
      }
     ],
     "prompt_number": 26
    },
    {
     "cell_type": "code",
     "collapsed": false,
     "input": [
      "def get_adjusted_tsr(team):\n",
      "    shots_for = adjusted_shots_per_game[team]\n",
      "    shots_against = adjusted_shots_against_per_game[team]\n",
      "    return shots_for - shots_against\n",
      "adjusted_tsr = {t: get_adjusted_tsr(t) for t in epl.teams}\n",
      "league_analysis.display_dictionary(adjusted_tsr)"
     ],
     "language": "python",
     "metadata": {},
     "outputs": [
      {
       "html": [
        "<div style=\"display:inline-block;\"><table>\n",
        "<tr><td>Arsenal</td><td>6.5</td></tr>\n",
        "<tr><td>Norwich</td><td>5.222222222222221</td></tr>\n",
        "<tr><td>Crystal Palace</td><td>2.833333333333333</td></tr>\n",
        "<tr><td>Man City</td><td>2.5555555555555554</td></tr>\n",
        "<tr><td>Tottenham</td><td>1.8888888888888888</td></tr>\n",
        "<tr><td>Swansea</td><td>1.666666666666667</td></tr>\n",
        "<tr><td>Liverpool</td><td>1.5</td></tr>\n",
        "<tr><td>Watford</td><td>1.1111111111111112</td></tr>\n",
        "<tr><td>Man United</td><td>0.7777777777777781</td></tr>\n",
        "<tr><td>Stoke</td><td>0.7777777777777777</td></tr>\n",
        "<tr><td>Everton</td><td>0.6666666666666679</td></tr>\n",
        "<tr><td>Southampton</td><td>0.444444444444445</td></tr>\n",
        "<tr><td>Chelsea</td><td>-1.0</td></tr>\n",
        "<tr><td>Bournemouth</td><td>-1.333333333333333</td></tr>\n",
        "<tr><td>West Ham</td><td>-1.944444444444444</td></tr>\n",
        "<tr><td>Sunderland</td><td>-2.888888888888889</td></tr>\n",
        "<tr><td>Aston Villa</td><td>-3.1111111111111116</td></tr>\n",
        "<tr><td>Leicester</td><td>-4.111111111111111</td></tr>\n",
        "<tr><td>Newcastle</td><td>-4.333333333333334</td></tr>\n",
        "<tr><td>West Brom</td><td>-4.5555555555555545</td></tr>\n",
        "</table></div>"
       ],
       "metadata": {},
       "output_type": "display_data",
       "text": [
        "<IPython.core.display.HTML at 0x7fc383564780>"
       ]
      }
     ],
     "prompt_number": 30
    },
    {
     "cell_type": "code",
     "collapsed": false,
     "input": [
      "def get_adjusted_sotr(team):\n",
      "    shots_for = adjusted_sot_per_game[team]\n",
      "    shots_against = adjusted_sot_against_per_game[team]\n",
      "    return shots_for - shots_against\n",
      "adjusted_sotr = {t: get_adjusted_sotr(t) for t in epl.teams}\n",
      "league_analysis.display_dictionary(adjusted_sotr)"
     ],
     "language": "python",
     "metadata": {},
     "outputs": [
      {
       "html": [
        "<div style=\"display:inline-block;\"><table>\n",
        "<tr><td>Man City</td><td>2.6666666666666665</td></tr>\n",
        "<tr><td>Tottenham</td><td>2.333333333333333</td></tr>\n",
        "<tr><td>Crystal Palace</td><td>2.0555555555555554</td></tr>\n",
        "<tr><td>Swansea</td><td>1.5555555555555554</td></tr>\n",
        "<tr><td>Arsenal</td><td>1.5000000000000002</td></tr>\n",
        "<tr><td>Man United</td><td>0.888888888888889</td></tr>\n",
        "<tr><td>Norwich</td><td>0.7777777777777777</td></tr>\n",
        "<tr><td>Everton</td><td>1.1102230246251565e-16</td></tr>\n",
        "<tr><td>Liverpool</td><td>-2.220446049250313e-16</td></tr>\n",
        "<tr><td>Aston Villa</td><td>-0.22222222222222232</td></tr>\n",
        "<tr><td>Southampton</td><td>-0.33333333333333315</td></tr>\n",
        "<tr><td>Bournemouth</td><td>-0.33333333333333337</td></tr>\n",
        "<tr><td>Stoke</td><td>-0.5555555555555557</td></tr>\n",
        "<tr><td>Newcastle</td><td>-0.9999999999999999</td></tr>\n",
        "<tr><td>Leicester</td><td>-1.0</td></tr>\n",
        "<tr><td>Watford</td><td>-1.2222222222222223</td></tr>\n",
        "<tr><td>Chelsea</td><td>-1.3333333333333335</td></tr>\n",
        "<tr><td>West Ham</td><td>-1.388888888888889</td></tr>\n",
        "<tr><td>Sunderland</td><td>-1.4444444444444446</td></tr>\n",
        "<tr><td>West Brom</td><td>-2.4444444444444446</td></tr>\n",
        "</table></div>"
       ],
       "metadata": {},
       "output_type": "display_data",
       "text": [
        "<IPython.core.display.HTML at 0x7fc38355ba20>"
       ]
      }
     ],
     "prompt_number": 31
    },
    {
     "cell_type": "code",
     "collapsed": false,
     "input": [
      "for team in epl.teams:\n",
      "    matches = [m for m in epl.matches if league_analysis.involved_in_game(team, m)]\n",
      "    league_analysis.display_given_matches(matches)"
     ],
     "language": "python",
     "metadata": {},
     "outputs": [
      {
       "html": [
        "<div style=\"display:inline-block;\">\n",
        "    <table>\n",
        "      <tr><th></th><th>Home</th><th>Away</th></tr>\n",
        "      <tr><td>Team</td><td>West Brom</td><td>Man City</td></tr>\n",
        "      <tr><td>Goals</td><td>0</td><td>3</td></tr>\n",
        "      <tr><td>Shots</td><td>9</td><td>19</td></tr>\n",
        "      <tr><td>SOT</td><td>2</td><td>7</td></tr>\n",
        "      \n",
        "    </table>\n",
        "    </div>\n",
        "<div style=\"display:inline-block;\">\n",
        "    <table>\n",
        "      <tr><th></th><th>Home</th><th>Away</th></tr>\n",
        "      <tr><td>Team</td><td>Man City</td><td>Chelsea</td></tr>\n",
        "      <tr><td>Goals</td><td>3</td><td>0</td></tr>\n",
        "      <tr><td>Shots</td><td>18</td><td>10</td></tr>\n",
        "      <tr><td>SOT</td><td>8</td><td>3</td></tr>\n",
        "      \n",
        "    </table>\n",
        "    </div>\n",
        "<div style=\"display:inline-block;\">\n",
        "    <table>\n",
        "      <tr><th></th><th>Home</th><th>Away</th></tr>\n",
        "      <tr><td>Team</td><td>Everton</td><td>Man City</td></tr>\n",
        "      <tr><td>Goals</td><td>0</td><td>2</td></tr>\n",
        "      <tr><td>Shots</td><td>10</td><td>16</td></tr>\n",
        "      <tr><td>SOT</td><td>1</td><td>9</td></tr>\n",
        "      \n",
        "    </table>\n",
        "    </div>"
       ],
       "metadata": {},
       "output_type": "display_data",
       "text": [
        "<IPython.core.display.HTML at 0x7fc383556588>"
       ]
      },
      {
       "html": [
        "<div style=\"display:inline-block;\">\n",
        "    <table>\n",
        "      <tr><th></th><th>Home</th><th>Away</th></tr>\n",
        "      <tr><td>Team</td><td>Everton</td><td>Watford</td></tr>\n",
        "      <tr><td>Goals</td><td>2</td><td>2</td></tr>\n",
        "      <tr><td>Shots</td><td>10</td><td>11</td></tr>\n",
        "      <tr><td>SOT</td><td>5</td><td>5</td></tr>\n",
        "      \n",
        "    </table>\n",
        "    </div>\n",
        "<div style=\"display:inline-block;\">\n",
        "    <table>\n",
        "      <tr><th></th><th>Home</th><th>Away</th></tr>\n",
        "      <tr><td>Team</td><td>Southampton</td><td>Everton</td></tr>\n",
        "      <tr><td>Goals</td><td>0</td><td>3</td></tr>\n",
        "      <tr><td>Shots</td><td>17</td><td>10</td></tr>\n",
        "      <tr><td>SOT</td><td>4</td><td>4</td></tr>\n",
        "      \n",
        "    </table>\n",
        "    </div>\n",
        "<div style=\"display:inline-block;\">\n",
        "    <table>\n",
        "      <tr><th></th><th>Home</th><th>Away</th></tr>\n",
        "      <tr><td>Team</td><td>Everton</td><td>Man City</td></tr>\n",
        "      <tr><td>Goals</td><td>0</td><td>2</td></tr>\n",
        "      <tr><td>Shots</td><td>10</td><td>16</td></tr>\n",
        "      <tr><td>SOT</td><td>1</td><td>9</td></tr>\n",
        "      \n",
        "    </table>\n",
        "    </div>"
       ],
       "metadata": {},
       "output_type": "display_data",
       "text": [
        "<IPython.core.display.HTML at 0x7fc383556588>"
       ]
      },
      {
       "html": [
        "<div style=\"display:inline-block;\">\n",
        "    <table>\n",
        "      <tr><th></th><th>Home</th><th>Away</th></tr>\n",
        "      <tr><td>Team</td><td>Stoke</td><td>Liverpool</td></tr>\n",
        "      <tr><td>Goals</td><td>0</td><td>1</td></tr>\n",
        "      <tr><td>Shots</td><td>7</td><td>8</td></tr>\n",
        "      <tr><td>SOT</td><td>1</td><td>3</td></tr>\n",
        "      \n",
        "    </table>\n",
        "    </div>\n",
        "<div style=\"display:inline-block;\">\n",
        "    <table>\n",
        "      <tr><th></th><th>Home</th><th>Away</th></tr>\n",
        "      <tr><td>Team</td><td>Tottenham</td><td>Stoke</td></tr>\n",
        "      <tr><td>Goals</td><td>2</td><td>2</td></tr>\n",
        "      <tr><td>Shots</td><td>13</td><td>16</td></tr>\n",
        "      <tr><td>SOT</td><td>7</td><td>7</td></tr>\n",
        "      \n",
        "    </table>\n",
        "    </div>\n",
        "<div style=\"display:inline-block;\">\n",
        "    <table>\n",
        "      <tr><th></th><th>Home</th><th>Away</th></tr>\n",
        "      <tr><td>Team</td><td>Norwich</td><td>Stoke</td></tr>\n",
        "      <tr><td>Goals</td><td>1</td><td>1</td></tr>\n",
        "      <tr><td>Shots</td><td>21</td><td>6</td></tr>\n",
        "      <tr><td>SOT</td><td>7</td><td>1</td></tr>\n",
        "      \n",
        "    </table>\n",
        "    </div>"
       ],
       "metadata": {},
       "output_type": "display_data",
       "text": [
        "<IPython.core.display.HTML at 0x7fc383556588>"
       ]
      },
      {
       "html": [
        "<div style=\"display:inline-block;\">\n",
        "    <table>\n",
        "      <tr><th></th><th>Home</th><th>Away</th></tr>\n",
        "      <tr><td>Team</td><td>Arsenal</td><td>West Ham</td></tr>\n",
        "      <tr><td>Goals</td><td>0</td><td>2</td></tr>\n",
        "      <tr><td>Shots</td><td>22</td><td>8</td></tr>\n",
        "      <tr><td>SOT</td><td>6</td><td>4</td></tr>\n",
        "      \n",
        "    </table>\n",
        "    </div>\n",
        "<div style=\"display:inline-block;\">\n",
        "    <table>\n",
        "      <tr><th></th><th>Home</th><th>Away</th></tr>\n",
        "      <tr><td>Team</td><td>West Ham</td><td>Leicester</td></tr>\n",
        "      <tr><td>Goals</td><td>1</td><td>2</td></tr>\n",
        "      <tr><td>Shots</td><td>10</td><td>11</td></tr>\n",
        "      <tr><td>SOT</td><td>3</td><td>6</td></tr>\n",
        "      \n",
        "    </table>\n",
        "    </div>\n",
        "<div style=\"display:inline-block;\">\n",
        "    <table>\n",
        "      <tr><th></th><th>Home</th><th>Away</th></tr>\n",
        "      <tr><td>Team</td><td>West Ham</td><td>Bournemouth</td></tr>\n",
        "      <tr><td>Goals</td><td>3</td><td>4</td></tr>\n",
        "      <tr><td>Shots</td><td>10</td><td>15</td></tr>\n",
        "      <tr><td>SOT</td><td>4</td><td>7</td></tr>\n",
        "      \n",
        "    </table>\n",
        "    </div>"
       ],
       "metadata": {},
       "output_type": "display_data",
       "text": [
        "<IPython.core.display.HTML at 0x7fc383556588>"
       ]
      },
      {
       "html": [
        "<div style=\"display:inline-block;\">\n",
        "    <table>\n",
        "      <tr><th></th><th>Home</th><th>Away</th></tr>\n",
        "      <tr><td>Team</td><td>Chelsea</td><td>Swansea</td></tr>\n",
        "      <tr><td>Goals</td><td>2</td><td>2</td></tr>\n",
        "      <tr><td>Shots</td><td>11</td><td>18</td></tr>\n",
        "      <tr><td>SOT</td><td>3</td><td>10</td></tr>\n",
        "      \n",
        "    </table>\n",
        "    </div>\n",
        "<div style=\"display:inline-block;\">\n",
        "    <table>\n",
        "      <tr><th></th><th>Home</th><th>Away</th></tr>\n",
        "      <tr><td>Team</td><td>Man City</td><td>Chelsea</td></tr>\n",
        "      <tr><td>Goals</td><td>3</td><td>0</td></tr>\n",
        "      <tr><td>Shots</td><td>18</td><td>10</td></tr>\n",
        "      <tr><td>SOT</td><td>8</td><td>3</td></tr>\n",
        "      \n",
        "    </table>\n",
        "    </div>\n",
        "<div style=\"display:inline-block;\">\n",
        "    <table>\n",
        "      <tr><th></th><th>Home</th><th>Away</th></tr>\n",
        "      <tr><td>Team</td><td>West Brom</td><td>Chelsea</td></tr>\n",
        "      <tr><td>Goals</td><td>2</td><td>3</td></tr>\n",
        "      <tr><td>Shots</td><td>15</td><td>15</td></tr>\n",
        "      <tr><td>SOT</td><td>6</td><td>5</td></tr>\n",
        "      \n",
        "    </table>\n",
        "    </div>"
       ],
       "metadata": {},
       "output_type": "display_data",
       "text": [
        "<IPython.core.display.HTML at 0x7fc383556588>"
       ]
      },
      {
       "html": [
        "<div style=\"display:inline-block;\">\n",
        "    <table>\n",
        "      <tr><th></th><th>Home</th><th>Away</th></tr>\n",
        "      <tr><td>Team</td><td>Norwich</td><td>Crystal Palace</td></tr>\n",
        "      <tr><td>Goals</td><td>1</td><td>3</td></tr>\n",
        "      <tr><td>Shots</td><td>17</td><td>11</td></tr>\n",
        "      <tr><td>SOT</td><td>6</td><td>7</td></tr>\n",
        "      \n",
        "    </table>\n",
        "    </div>\n",
        "<div style=\"display:inline-block;\">\n",
        "    <table>\n",
        "      <tr><th></th><th>Home</th><th>Away</th></tr>\n",
        "      <tr><td>Team</td><td>Sunderland</td><td>Norwich</td></tr>\n",
        "      <tr><td>Goals</td><td>1</td><td>3</td></tr>\n",
        "      <tr><td>Shots</td><td>6</td><td>19</td></tr>\n",
        "      <tr><td>SOT</td><td>2</td><td>6</td></tr>\n",
        "      \n",
        "    </table>\n",
        "    </div>\n",
        "<div style=\"display:inline-block;\">\n",
        "    <table>\n",
        "      <tr><th></th><th>Home</th><th>Away</th></tr>\n",
        "      <tr><td>Team</td><td>Norwich</td><td>Stoke</td></tr>\n",
        "      <tr><td>Goals</td><td>1</td><td>1</td></tr>\n",
        "      <tr><td>Shots</td><td>21</td><td>6</td></tr>\n",
        "      <tr><td>SOT</td><td>7</td><td>1</td></tr>\n",
        "      \n",
        "    </table>\n",
        "    </div>"
       ],
       "metadata": {},
       "output_type": "display_data",
       "text": [
        "<IPython.core.display.HTML at 0x7fc383556588>"
       ]
      },
      {
       "html": [
        "<div style=\"display:inline-block;\">\n",
        "    <table>\n",
        "      <tr><th></th><th>Home</th><th>Away</th></tr>\n",
        "      <tr><td>Team</td><td>Arsenal</td><td>West Ham</td></tr>\n",
        "      <tr><td>Goals</td><td>0</td><td>2</td></tr>\n",
        "      <tr><td>Shots</td><td>22</td><td>8</td></tr>\n",
        "      <tr><td>SOT</td><td>6</td><td>4</td></tr>\n",
        "      \n",
        "    </table>\n",
        "    </div>\n",
        "<div style=\"display:inline-block;\">\n",
        "    <table>\n",
        "      <tr><th></th><th>Home</th><th>Away</th></tr>\n",
        "      <tr><td>Team</td><td>Crystal Palace</td><td>Arsenal</td></tr>\n",
        "      <tr><td>Goals</td><td>1</td><td>2</td></tr>\n",
        "      <tr><td>Shots</td><td>11</td><td>20</td></tr>\n",
        "      <tr><td>SOT</td><td>4</td><td>7</td></tr>\n",
        "      \n",
        "    </table>\n",
        "    </div>"
       ],
       "metadata": {},
       "output_type": "display_data",
       "text": [
        "<IPython.core.display.HTML at 0x7fc383556588>"
       ]
      },
      {
       "html": [
        "<div style=\"display:inline-block;\">\n",
        "    <table>\n",
        "      <tr><th></th><th>Home</th><th>Away</th></tr>\n",
        "      <tr><td>Team</td><td>Bournemouth</td><td>Aston Villa</td></tr>\n",
        "      <tr><td>Goals</td><td>0</td><td>1</td></tr>\n",
        "      <tr><td>Shots</td><td>11</td><td>7</td></tr>\n",
        "      <tr><td>SOT</td><td>2</td><td>3</td></tr>\n",
        "      \n",
        "    </table>\n",
        "    </div>\n",
        "<div style=\"display:inline-block;\">\n",
        "    <table>\n",
        "      <tr><th></th><th>Home</th><th>Away</th></tr>\n",
        "      <tr><td>Team</td><td>Liverpool</td><td>Bournemouth</td></tr>\n",
        "      <tr><td>Goals</td><td>1</td><td>0</td></tr>\n",
        "      <tr><td>Shots</td><td>18</td><td>13</td></tr>\n",
        "      <tr><td>SOT</td><td>2</td><td>2</td></tr>\n",
        "      \n",
        "    </table>\n",
        "    </div>\n",
        "<div style=\"display:inline-block;\">\n",
        "    <table>\n",
        "      <tr><th></th><th>Home</th><th>Away</th></tr>\n",
        "      <tr><td>Team</td><td>West Ham</td><td>Bournemouth</td></tr>\n",
        "      <tr><td>Goals</td><td>3</td><td>4</td></tr>\n",
        "      <tr><td>Shots</td><td>10</td><td>15</td></tr>\n",
        "      <tr><td>SOT</td><td>4</td><td>7</td></tr>\n",
        "      \n",
        "    </table>\n",
        "    </div>"
       ],
       "metadata": {},
       "output_type": "display_data",
       "text": [
        "<IPython.core.display.HTML at 0x7fc383556588>"
       ]
      },
      {
       "html": [
        "<div style=\"display:inline-block;\">\n",
        "    <table>\n",
        "      <tr><th></th><th>Home</th><th>Away</th></tr>\n",
        "      <tr><td>Team</td><td>Newcastle</td><td>Southampton</td></tr>\n",
        "      <tr><td>Goals</td><td>2</td><td>2</td></tr>\n",
        "      <tr><td>Shots</td><td>9</td><td>15</td></tr>\n",
        "      <tr><td>SOT</td><td>4</td><td>5</td></tr>\n",
        "      \n",
        "    </table>\n",
        "    </div>\n",
        "<div style=\"display:inline-block;\">\n",
        "    <table>\n",
        "      <tr><th></th><th>Home</th><th>Away</th></tr>\n",
        "      <tr><td>Team</td><td>Southampton</td><td>Everton</td></tr>\n",
        "      <tr><td>Goals</td><td>0</td><td>3</td></tr>\n",
        "      <tr><td>Shots</td><td>17</td><td>10</td></tr>\n",
        "      <tr><td>SOT</td><td>4</td><td>4</td></tr>\n",
        "      \n",
        "    </table>\n",
        "    </div>\n",
        "<div style=\"display:inline-block;\">\n",
        "    <table>\n",
        "      <tr><th></th><th>Home</th><th>Away</th></tr>\n",
        "      <tr><td>Team</td><td>Watford</td><td>Southampton</td></tr>\n",
        "      <tr><td>Goals</td><td>0</td><td>0</td></tr>\n",
        "      <tr><td>Shots</td><td>13</td><td>14</td></tr>\n",
        "      <tr><td>SOT</td><td>0</td><td>5</td></tr>\n",
        "      \n",
        "    </table>\n",
        "    </div>"
       ],
       "metadata": {},
       "output_type": "display_data",
       "text": [
        "<IPython.core.display.HTML at 0x7fc383556588>"
       ]
      },
      {
       "html": [
        "<div style=\"display:inline-block;\">\n",
        "    <table>\n",
        "      <tr><th></th><th>Home</th><th>Away</th></tr>\n",
        "      <tr><td>Team</td><td>Norwich</td><td>Crystal Palace</td></tr>\n",
        "      <tr><td>Goals</td><td>1</td><td>3</td></tr>\n",
        "      <tr><td>Shots</td><td>17</td><td>11</td></tr>\n",
        "      <tr><td>SOT</td><td>6</td><td>7</td></tr>\n",
        "      \n",
        "    </table>\n",
        "    </div>\n",
        "<div style=\"display:inline-block;\">\n",
        "    <table>\n",
        "      <tr><th></th><th>Home</th><th>Away</th></tr>\n",
        "      <tr><td>Team</td><td>Crystal Palace</td><td>Arsenal</td></tr>\n",
        "      <tr><td>Goals</td><td>1</td><td>2</td></tr>\n",
        "      <tr><td>Shots</td><td>11</td><td>20</td></tr>\n",
        "      <tr><td>SOT</td><td>4</td><td>7</td></tr>\n",
        "      \n",
        "    </table>\n",
        "    </div>\n",
        "<div style=\"display:inline-block;\">\n",
        "    <table>\n",
        "      <tr><th></th><th>Home</th><th>Away</th></tr>\n",
        "      <tr><td>Team</td><td>Crystal Palace</td><td>Aston Villa</td></tr>\n",
        "      <tr><td>Goals</td><td>2</td><td>1</td></tr>\n",
        "      <tr><td>Shots</td><td>16</td><td>11</td></tr>\n",
        "      <tr><td>SOT</td><td>6</td><td>2</td></tr>\n",
        "      \n",
        "    </table>\n",
        "    </div>"
       ],
       "metadata": {},
       "output_type": "display_data",
       "text": [
        "<IPython.core.display.HTML at 0x7fc383556588>"
       ]
      },
      {
       "html": [
        "<div style=\"display:inline-block;\">\n",
        "    <table>\n",
        "      <tr><th></th><th>Home</th><th>Away</th></tr>\n",
        "      <tr><td>Team</td><td>Stoke</td><td>Liverpool</td></tr>\n",
        "      <tr><td>Goals</td><td>0</td><td>1</td></tr>\n",
        "      <tr><td>Shots</td><td>7</td><td>8</td></tr>\n",
        "      <tr><td>SOT</td><td>1</td><td>3</td></tr>\n",
        "      \n",
        "    </table>\n",
        "    </div>\n",
        "<div style=\"display:inline-block;\">\n",
        "    <table>\n",
        "      <tr><th></th><th>Home</th><th>Away</th></tr>\n",
        "      <tr><td>Team</td><td>Liverpool</td><td>Bournemouth</td></tr>\n",
        "      <tr><td>Goals</td><td>1</td><td>0</td></tr>\n",
        "      <tr><td>Shots</td><td>18</td><td>13</td></tr>\n",
        "      <tr><td>SOT</td><td>2</td><td>2</td></tr>\n",
        "      \n",
        "    </table>\n",
        "    </div>"
       ],
       "metadata": {},
       "output_type": "display_data",
       "text": [
        "<IPython.core.display.HTML at 0x7fc383556588>"
       ]
      },
      {
       "html": [
        "<div style=\"display:inline-block;\">\n",
        "    <table>\n",
        "      <tr><th></th><th>Home</th><th>Away</th></tr>\n",
        "      <tr><td>Team</td><td>Chelsea</td><td>Swansea</td></tr>\n",
        "      <tr><td>Goals</td><td>2</td><td>2</td></tr>\n",
        "      <tr><td>Shots</td><td>11</td><td>18</td></tr>\n",
        "      <tr><td>SOT</td><td>3</td><td>10</td></tr>\n",
        "      \n",
        "    </table>\n",
        "    </div>\n",
        "<div style=\"display:inline-block;\">\n",
        "    <table>\n",
        "      <tr><th></th><th>Home</th><th>Away</th></tr>\n",
        "      <tr><td>Team</td><td>Swansea</td><td>Newcastle</td></tr>\n",
        "      <tr><td>Goals</td><td>2</td><td>0</td></tr>\n",
        "      <tr><td>Shots</td><td>19</td><td>4</td></tr>\n",
        "      <tr><td>SOT</td><td>6</td><td>2</td></tr>\n",
        "      \n",
        "    </table>\n",
        "    </div>\n",
        "<div style=\"display:inline-block;\">\n",
        "    <table>\n",
        "      <tr><th></th><th>Home</th><th>Away</th></tr>\n",
        "      <tr><td>Team</td><td>Sunderland</td><td>Swansea</td></tr>\n",
        "      <tr><td>Goals</td><td>1</td><td>1</td></tr>\n",
        "      <tr><td>Shots</td><td>10</td><td>20</td></tr>\n",
        "      <tr><td>SOT</td><td>2</td><td>9</td></tr>\n",
        "      \n",
        "    </table>\n",
        "    </div>"
       ],
       "metadata": {},
       "output_type": "display_data",
       "text": [
        "<IPython.core.display.HTML at 0x7fc383556588>"
       ]
      },
      {
       "html": [
        "<div style=\"display:inline-block;\">\n",
        "    <table>\n",
        "      <tr><th></th><th>Home</th><th>Away</th></tr>\n",
        "      <tr><td>Team</td><td>Man United</td><td>Tottenham</td></tr>\n",
        "      <tr><td>Goals</td><td>1</td><td>0</td></tr>\n",
        "      <tr><td>Shots</td><td>9</td><td>9</td></tr>\n",
        "      <tr><td>SOT</td><td>1</td><td>4</td></tr>\n",
        "      \n",
        "    </table>\n",
        "    </div>\n",
        "<div style=\"display:inline-block;\">\n",
        "    <table>\n",
        "      <tr><th></th><th>Home</th><th>Away</th></tr>\n",
        "      <tr><td>Team</td><td>Aston Villa</td><td>Man United</td></tr>\n",
        "      <tr><td>Goals</td><td>0</td><td>1</td></tr>\n",
        "      <tr><td>Shots</td><td>5</td><td>9</td></tr>\n",
        "      <tr><td>SOT</td><td>1</td><td>2</td></tr>\n",
        "      \n",
        "    </table>\n",
        "    </div>\n",
        "<div style=\"display:inline-block;\">\n",
        "    <table>\n",
        "      <tr><th></th><th>Home</th><th>Away</th></tr>\n",
        "      <tr><td>Team</td><td>Man United</td><td>Newcastle</td></tr>\n",
        "      <tr><td>Goals</td><td>0</td><td>0</td></tr>\n",
        "      <tr><td>Shots</td><td>20</td><td>7</td></tr>\n",
        "      <tr><td>SOT</td><td>8</td><td>0</td></tr>\n",
        "      \n",
        "    </table>\n",
        "    </div>"
       ],
       "metadata": {},
       "output_type": "display_data",
       "text": [
        "<IPython.core.display.HTML at 0x7fc383556588>"
       ]
      },
      {
       "html": [
        "<div style=\"display:inline-block;\">\n",
        "    <table>\n",
        "      <tr><th></th><th>Home</th><th>Away</th></tr>\n",
        "      <tr><td>Team</td><td>Bournemouth</td><td>Aston Villa</td></tr>\n",
        "      <tr><td>Goals</td><td>0</td><td>1</td></tr>\n",
        "      <tr><td>Shots</td><td>11</td><td>7</td></tr>\n",
        "      <tr><td>SOT</td><td>2</td><td>3</td></tr>\n",
        "      \n",
        "    </table>\n",
        "    </div>\n",
        "<div style=\"display:inline-block;\">\n",
        "    <table>\n",
        "      <tr><th></th><th>Home</th><th>Away</th></tr>\n",
        "      <tr><td>Team</td><td>Aston Villa</td><td>Man United</td></tr>\n",
        "      <tr><td>Goals</td><td>0</td><td>1</td></tr>\n",
        "      <tr><td>Shots</td><td>5</td><td>9</td></tr>\n",
        "      <tr><td>SOT</td><td>1</td><td>2</td></tr>\n",
        "      \n",
        "    </table>\n",
        "    </div>\n",
        "<div style=\"display:inline-block;\">\n",
        "    <table>\n",
        "      <tr><th></th><th>Home</th><th>Away</th></tr>\n",
        "      <tr><td>Team</td><td>Crystal Palace</td><td>Aston Villa</td></tr>\n",
        "      <tr><td>Goals</td><td>2</td><td>1</td></tr>\n",
        "      <tr><td>Shots</td><td>16</td><td>11</td></tr>\n",
        "      <tr><td>SOT</td><td>6</td><td>2</td></tr>\n",
        "      \n",
        "    </table>\n",
        "    </div>"
       ],
       "metadata": {},
       "output_type": "display_data",
       "text": [
        "<IPython.core.display.HTML at 0x7fc383556588>"
       ]
      },
      {
       "html": [
        "<div style=\"display:inline-block;\">\n",
        "    <table>\n",
        "      <tr><th></th><th>Home</th><th>Away</th></tr>\n",
        "      <tr><td>Team</td><td>Newcastle</td><td>Southampton</td></tr>\n",
        "      <tr><td>Goals</td><td>2</td><td>2</td></tr>\n",
        "      <tr><td>Shots</td><td>9</td><td>15</td></tr>\n",
        "      <tr><td>SOT</td><td>4</td><td>5</td></tr>\n",
        "      \n",
        "    </table>\n",
        "    </div>\n",
        "<div style=\"display:inline-block;\">\n",
        "    <table>\n",
        "      <tr><th></th><th>Home</th><th>Away</th></tr>\n",
        "      <tr><td>Team</td><td>Swansea</td><td>Newcastle</td></tr>\n",
        "      <tr><td>Goals</td><td>2</td><td>0</td></tr>\n",
        "      <tr><td>Shots</td><td>19</td><td>4</td></tr>\n",
        "      <tr><td>SOT</td><td>6</td><td>2</td></tr>\n",
        "      \n",
        "    </table>\n",
        "    </div>\n",
        "<div style=\"display:inline-block;\">\n",
        "    <table>\n",
        "      <tr><th></th><th>Home</th><th>Away</th></tr>\n",
        "      <tr><td>Team</td><td>Man United</td><td>Newcastle</td></tr>\n",
        "      <tr><td>Goals</td><td>0</td><td>0</td></tr>\n",
        "      <tr><td>Shots</td><td>20</td><td>7</td></tr>\n",
        "      <tr><td>SOT</td><td>8</td><td>0</td></tr>\n",
        "      \n",
        "    </table>\n",
        "    </div>"
       ],
       "metadata": {},
       "output_type": "display_data",
       "text": [
        "<IPython.core.display.HTML at 0x7fc383556588>"
       ]
      },
      {
       "html": [
        "<div style=\"display:inline-block;\">\n",
        "    <table>\n",
        "      <tr><th></th><th>Home</th><th>Away</th></tr>\n",
        "      <tr><td>Team</td><td>West Brom</td><td>Man City</td></tr>\n",
        "      <tr><td>Goals</td><td>0</td><td>3</td></tr>\n",
        "      <tr><td>Shots</td><td>9</td><td>19</td></tr>\n",
        "      <tr><td>SOT</td><td>2</td><td>7</td></tr>\n",
        "      \n",
        "    </table>\n",
        "    </div>\n",
        "<div style=\"display:inline-block;\">\n",
        "    <table>\n",
        "      <tr><th></th><th>Home</th><th>Away</th></tr>\n",
        "      <tr><td>Team</td><td>Watford</td><td>West Brom</td></tr>\n",
        "      <tr><td>Goals</td><td>0</td><td>0</td></tr>\n",
        "      <tr><td>Shots</td><td>16</td><td>6</td></tr>\n",
        "      <tr><td>SOT</td><td>5</td><td>0</td></tr>\n",
        "      \n",
        "    </table>\n",
        "    </div>\n",
        "<div style=\"display:inline-block;\">\n",
        "    <table>\n",
        "      <tr><th></th><th>Home</th><th>Away</th></tr>\n",
        "      <tr><td>Team</td><td>West Brom</td><td>Chelsea</td></tr>\n",
        "      <tr><td>Goals</td><td>2</td><td>3</td></tr>\n",
        "      <tr><td>Shots</td><td>15</td><td>15</td></tr>\n",
        "      <tr><td>SOT</td><td>6</td><td>5</td></tr>\n",
        "      \n",
        "    </table>\n",
        "    </div>"
       ],
       "metadata": {},
       "output_type": "display_data",
       "text": [
        "<IPython.core.display.HTML at 0x7fc383556588>"
       ]
      },
      {
       "html": [
        "<div style=\"display:inline-block;\">\n",
        "    <table>\n",
        "      <tr><th></th><th>Home</th><th>Away</th></tr>\n",
        "      <tr><td>Team</td><td>Leicester</td><td>Sunderland</td></tr>\n",
        "      <tr><td>Goals</td><td>4</td><td>2</td></tr>\n",
        "      <tr><td>Shots</td><td>19</td><td>10</td></tr>\n",
        "      <tr><td>SOT</td><td>8</td><td>5</td></tr>\n",
        "      \n",
        "    </table>\n",
        "    </div>\n",
        "<div style=\"display:inline-block;\">\n",
        "    <table>\n",
        "      <tr><th></th><th>Home</th><th>Away</th></tr>\n",
        "      <tr><td>Team</td><td>Sunderland</td><td>Norwich</td></tr>\n",
        "      <tr><td>Goals</td><td>1</td><td>3</td></tr>\n",
        "      <tr><td>Shots</td><td>6</td><td>19</td></tr>\n",
        "      <tr><td>SOT</td><td>2</td><td>6</td></tr>\n",
        "      \n",
        "    </table>\n",
        "    </div>\n",
        "<div style=\"display:inline-block;\">\n",
        "    <table>\n",
        "      <tr><th></th><th>Home</th><th>Away</th></tr>\n",
        "      <tr><td>Team</td><td>Sunderland</td><td>Swansea</td></tr>\n",
        "      <tr><td>Goals</td><td>1</td><td>1</td></tr>\n",
        "      <tr><td>Shots</td><td>10</td><td>20</td></tr>\n",
        "      <tr><td>SOT</td><td>2</td><td>9</td></tr>\n",
        "      \n",
        "    </table>\n",
        "    </div>"
       ],
       "metadata": {},
       "output_type": "display_data",
       "text": [
        "<IPython.core.display.HTML at 0x7fc383556588>"
       ]
      },
      {
       "html": [
        "<div style=\"display:inline-block;\">\n",
        "    <table>\n",
        "      <tr><th></th><th>Home</th><th>Away</th></tr>\n",
        "      <tr><td>Team</td><td>Man United</td><td>Tottenham</td></tr>\n",
        "      <tr><td>Goals</td><td>1</td><td>0</td></tr>\n",
        "      <tr><td>Shots</td><td>9</td><td>9</td></tr>\n",
        "      <tr><td>SOT</td><td>1</td><td>4</td></tr>\n",
        "      \n",
        "    </table>\n",
        "    </div>\n",
        "<div style=\"display:inline-block;\">\n",
        "    <table>\n",
        "      <tr><th></th><th>Home</th><th>Away</th></tr>\n",
        "      <tr><td>Team</td><td>Tottenham</td><td>Stoke</td></tr>\n",
        "      <tr><td>Goals</td><td>2</td><td>2</td></tr>\n",
        "      <tr><td>Shots</td><td>13</td><td>16</td></tr>\n",
        "      <tr><td>SOT</td><td>7</td><td>7</td></tr>\n",
        "      \n",
        "    </table>\n",
        "    </div>\n",
        "<div style=\"display:inline-block;\">\n",
        "    <table>\n",
        "      <tr><th></th><th>Home</th><th>Away</th></tr>\n",
        "      <tr><td>Team</td><td>Leicester</td><td>Tottenham</td></tr>\n",
        "      <tr><td>Goals</td><td>1</td><td>1</td></tr>\n",
        "      <tr><td>Shots</td><td>13</td><td>19</td></tr>\n",
        "      <tr><td>SOT</td><td>2</td><td>6</td></tr>\n",
        "      \n",
        "    </table>\n",
        "    </div>"
       ],
       "metadata": {},
       "output_type": "display_data",
       "text": [
        "<IPython.core.display.HTML at 0x7fc383556588>"
       ]
      },
      {
       "html": [
        "<div style=\"display:inline-block;\">\n",
        "    <table>\n",
        "      <tr><th></th><th>Home</th><th>Away</th></tr>\n",
        "      <tr><td>Team</td><td>Leicester</td><td>Sunderland</td></tr>\n",
        "      <tr><td>Goals</td><td>4</td><td>2</td></tr>\n",
        "      <tr><td>Shots</td><td>19</td><td>10</td></tr>\n",
        "      <tr><td>SOT</td><td>8</td><td>5</td></tr>\n",
        "      \n",
        "    </table>\n",
        "    </div>\n",
        "<div style=\"display:inline-block;\">\n",
        "    <table>\n",
        "      <tr><th></th><th>Home</th><th>Away</th></tr>\n",
        "      <tr><td>Team</td><td>West Ham</td><td>Leicester</td></tr>\n",
        "      <tr><td>Goals</td><td>1</td><td>2</td></tr>\n",
        "      <tr><td>Shots</td><td>10</td><td>11</td></tr>\n",
        "      <tr><td>SOT</td><td>3</td><td>6</td></tr>\n",
        "      \n",
        "    </table>\n",
        "    </div>\n",
        "<div style=\"display:inline-block;\">\n",
        "    <table>\n",
        "      <tr><th></th><th>Home</th><th>Away</th></tr>\n",
        "      <tr><td>Team</td><td>Leicester</td><td>Tottenham</td></tr>\n",
        "      <tr><td>Goals</td><td>1</td><td>1</td></tr>\n",
        "      <tr><td>Shots</td><td>13</td><td>19</td></tr>\n",
        "      <tr><td>SOT</td><td>2</td><td>6</td></tr>\n",
        "      \n",
        "    </table>\n",
        "    </div>"
       ],
       "metadata": {},
       "output_type": "display_data",
       "text": [
        "<IPython.core.display.HTML at 0x7fc383556588>"
       ]
      },
      {
       "html": [
        "<div style=\"display:inline-block;\">\n",
        "    <table>\n",
        "      <tr><th></th><th>Home</th><th>Away</th></tr>\n",
        "      <tr><td>Team</td><td>Everton</td><td>Watford</td></tr>\n",
        "      <tr><td>Goals</td><td>2</td><td>2</td></tr>\n",
        "      <tr><td>Shots</td><td>10</td><td>11</td></tr>\n",
        "      <tr><td>SOT</td><td>5</td><td>5</td></tr>\n",
        "      \n",
        "    </table>\n",
        "    </div>\n",
        "<div style=\"display:inline-block;\">\n",
        "    <table>\n",
        "      <tr><th></th><th>Home</th><th>Away</th></tr>\n",
        "      <tr><td>Team</td><td>Watford</td><td>West Brom</td></tr>\n",
        "      <tr><td>Goals</td><td>0</td><td>0</td></tr>\n",
        "      <tr><td>Shots</td><td>16</td><td>6</td></tr>\n",
        "      <tr><td>SOT</td><td>5</td><td>0</td></tr>\n",
        "      \n",
        "    </table>\n",
        "    </div>\n",
        "<div style=\"display:inline-block;\">\n",
        "    <table>\n",
        "      <tr><th></th><th>Home</th><th>Away</th></tr>\n",
        "      <tr><td>Team</td><td>Watford</td><td>Southampton</td></tr>\n",
        "      <tr><td>Goals</td><td>0</td><td>0</td></tr>\n",
        "      <tr><td>Shots</td><td>13</td><td>14</td></tr>\n",
        "      <tr><td>SOT</td><td>0</td><td>5</td></tr>\n",
        "      \n",
        "    </table>\n",
        "    </div>"
       ],
       "metadata": {},
       "output_type": "display_data",
       "text": [
        "<IPython.core.display.HTML at 0x7fc383556588>"
       ]
      }
     ],
     "prompt_number": 17
    },
    {
     "cell_type": "code",
     "collapsed": false,
     "input": [],
     "language": "python",
     "metadata": {},
     "outputs": []
    }
   ],
   "metadata": {}
  }
 ]
}